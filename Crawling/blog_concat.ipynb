{
 "cells": [
  {
   "cell_type": "code",
   "execution_count": 1,
   "metadata": {},
   "outputs": [],
   "source": [
    "import pandas as pd"
   ]
  },
  {
   "cell_type": "code",
   "execution_count": 4,
   "metadata": {},
   "outputs": [
    {
     "name": "stdout",
     "output_type": "stream",
     "text": [
      " C 드라이브의 볼륨에는 이름이 없습니다.\n",
      " 볼륨 일련 번호: 1E86-3CFB\n",
      "\n",
      " C:\\Users\\USER\\Desktop\\종민\\YBIGTA\\팀프로젝트\\크롤링 디렉터리\n",
      "\n",
      "2021-08-15  오후 04:21    <DIR>          .\n",
      "2021-08-15  오후 04:21    <DIR>          ..\n",
      "2021-08-15  오후 04:21    <DIR>          .ipynb_checkpoints\n",
      "2021-08-14  오후 12:46             2,325 fin_wines_60.txt\n",
      "2021-08-14  오후 12:46               387 fin_wines_idx_60.txt\n",
      "2021-08-15  오후 04:21                72 Untitled.ipynb\n",
      "2021-08-15  오후 03:36         5,658,728 wine_blog_first_half.csv\n",
      "2021-08-15  오전 11:36           712,980 wine_dataframe_0.csv\n",
      "2021-08-15  오전 11:42           446,086 wine_dataframe_1.csv\n",
      "2021-08-15  오후 12:42           494,565 wine_dataframe_10.csv\n",
      "2021-08-15  오후 12:49           887,720 wine_dataframe_11.csv\n",
      "2021-08-15  오후 12:55         1,133,499 wine_dataframe_12.csv\n",
      "2021-08-15  오후 01:01           501,744 wine_dataframe_13.csv\n",
      "2021-08-15  오후 01:07           715,381 wine_dataframe_14.csv\n",
      "2021-08-15  오후 01:10         1,266,796 wine_dataframe_15.csv\n",
      "2021-08-15  오전 11:49           634,641 wine_dataframe_2.csv\n",
      "2021-08-15  오전 11:55           596,623 wine_dataframe_3.csv\n",
      "2021-08-15  오후 12:02           498,958 wine_dataframe_4.csv\n",
      "2021-08-15  오후 12:08           428,226 wine_dataframe_5.csv\n",
      "2021-08-15  오후 12:14           425,903 wine_dataframe_6.csv\n",
      "2021-08-15  오후 12:20           493,660 wine_dataframe_7.csv\n",
      "2021-08-15  오후 12:26           373,645 wine_dataframe_8.csv\n",
      "2021-08-15  오후 12:36           784,627 wine_dataframe_9.csv\n",
      "2021-08-15  오후 01:19           297,727 wine_of_the_month.csv\n",
      "2021-08-15  오후 01:20           159,821 wine_of_the_month.xlsx\n",
      "2021-08-13  오후 07:28            11,187 winelist.txt\n",
      "2021-08-15  오전 10:36         3,836,056 블로그.txt\n",
      "2021-08-15  오전 10:34         1,460,650 와인 추천.txt\n",
      "2021-08-15  오전 10:33           391,350 이달의 와인.txt\n",
      "2021-08-15  오전 10:36           409,651 이달의와인.ipynb\n",
      "2021-08-15  오후 01:27            18,977 크롤링_네이버블로그.ipynb\n",
      "2021-08-13  오후 03:18         1,474,815 크롤링_와인21추천.ipynb\n",
      "2021-08-15  오후 01:22             8,107 크롤링_이달의와인.ipynb\n",
      "              30개 파일          24,124,907 바이트\n",
      "               3개 디렉터리  102,977,306,624 바이트 남음\n"
     ]
    }
   ],
   "source": [
    "ls"
   ]
  },
  {
   "cell_type": "code",
   "execution_count": 20,
   "metadata": {},
   "outputs": [],
   "source": [
    "wine_blog_second_half = pd.DataFrame()"
   ]
  },
  {
   "cell_type": "code",
   "execution_count": 21,
   "metadata": {},
   "outputs": [],
   "source": [
    "for i in range(16):\n",
    "    wine_blog_second_half = pd.concat([total, pd.read_csv(f'wine_dataframe_{i}.csv')])"
   ]
  },
  {
   "cell_type": "code",
   "execution_count": 22,
   "metadata": {},
   "outputs": [],
   "source": [
    "wine_blog_first_half = pd.read_csv('wine_blog_first_half.csv')"
   ]
  },
  {
   "cell_type": "code",
   "execution_count": 32,
   "metadata": {},
   "outputs": [],
   "source": [
    "wine_blog_total = pd.concat([wine_blog_first_half[['Name', 'Text']], wine_blog_second_half[['Name', 'Text']]])"
   ]
  },
  {
   "cell_type": "code",
   "execution_count": 33,
   "metadata": {},
   "outputs": [
    {
     "data": {
      "text/plain": [
       "(2766, 2)"
      ]
     },
     "execution_count": 33,
     "metadata": {},
     "output_type": "execute_result"
    }
   ],
   "source": [
    "wine_blog_total.shape"
   ]
  },
  {
   "cell_type": "code",
   "execution_count": 38,
   "metadata": {},
   "outputs": [],
   "source": [
    "wine_blog_total.to_csv('wine_blog_total.csv')"
   ]
  }
 ],
 "metadata": {
  "kernelspec": {
   "display_name": "Python 3",
   "language": "python",
   "name": "python3"
  },
  "language_info": {
   "codemirror_mode": {
    "name": "ipython",
    "version": 3
   },
   "file_extension": ".py",
   "mimetype": "text/x-python",
   "name": "python",
   "nbconvert_exporter": "python",
   "pygments_lexer": "ipython3",
   "version": "3.8.5"
  }
 },
 "nbformat": 4,
 "nbformat_minor": 4
}
