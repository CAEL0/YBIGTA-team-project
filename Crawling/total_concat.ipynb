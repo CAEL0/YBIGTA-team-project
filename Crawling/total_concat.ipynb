{
 "cells": [
  {
   "cell_type": "code",
   "execution_count": 1,
   "metadata": {},
   "outputs": [],
   "source": [
    "import pandas as pd"
   ]
  },
  {
   "cell_type": "code",
   "execution_count": 3,
   "metadata": {},
   "outputs": [],
   "source": [
    "blog = pd.read_csv('blog_total.csv')\n",
    "recommend = pd.read_csv('wine_recommend.csv')\n",
    "month = pd.read_csv('wine_of_the_month_final.csv')"
   ]
  },
  {
   "cell_type": "code",
   "execution_count": 119,
   "metadata": {},
   "outputs": [],
   "source": [
    "total = pd.DataFrame(columns=['name_ko', 'name_en', 'price', 'type', 'country', 'city', 'aroma', 'food', 'rate_expert', 'rate_consumer', 'alcohol', 'sugar', 'acidity', 'body', 'tannin', 'maker\\'s_note', 'tasting_note', 'posting_title', 'posting_text', 'wine_title', 'wine_text', 'hashtag', 'blog_text'])"
   ]
  },
  {
   "cell_type": "code",
   "execution_count": 81,
   "metadata": {},
   "outputs": [
    {
     "data": {
      "text/plain": [
       "Index(['Name', 'Text'], dtype='object')"
      ]
     },
     "execution_count": 81,
     "metadata": {},
     "output_type": "execute_result"
    }
   ],
   "source": [
    "blog.columns"
   ]
  },
  {
   "cell_type": "code",
   "execution_count": 88,
   "metadata": {},
   "outputs": [
    {
     "data": {
      "text/plain": [
       "Index(['한글 이름', '영문 이름', '포스팅 제목', '포스팅 본문', '와인 소개 제목', '와인 소개 본문', '해시태그'], dtype='object')"
      ]
     },
     "execution_count": 88,
     "metadata": {},
     "output_type": "execute_result"
    }
   ],
   "source": [
    "recommend.columns"
   ]
  },
  {
   "cell_type": "code",
   "execution_count": 85,
   "metadata": {
    "scrolled": true
   },
   "outputs": [
    {
     "data": {
      "text/plain": [
       "Index(['한글 이름', '영문 이름', '가격', '종류', '나라', '도시', '아로마', '음식매칭', '전문가 평점',\n",
       "       '소비자 평점', '알코올', '당도', '산도', '바디', '타닌', '메이커스 노트', '테이스팅 노트'],\n",
       "      dtype='object')"
      ]
     },
     "execution_count": 85,
     "metadata": {},
     "output_type": "execute_result"
    }
   ],
   "source": [
    "month.columns"
   ]
  },
  {
   "cell_type": "markdown",
   "metadata": {},
   "source": [
    "* month의 중복 와인 제거"
   ]
  },
  {
   "cell_type": "code",
   "execution_count": 180,
   "metadata": {},
   "outputs": [],
   "source": [
    "for name in month['영문 이름'].value_counts()[month['영문 이름'].value_counts() == 2].index:\n",
    "    month.drop(month[month['영문 이름'] == name].index[-1], inplace=True)"
   ]
  },
  {
   "cell_type": "code",
   "execution_count": 194,
   "metadata": {},
   "outputs": [
    {
     "data": {
      "text/plain": [
       "Dr.Loosen, Riesling Sparkling                            1\n",
       "Braida, Montebruna Barbera d'Asti                        1\n",
       "Delicato, 1924 Bourbon Barrel Aged Cabernet Sauvignon    1\n",
       "Coto de Imaz Gran Reserva                                1\n",
       "Robert Mondavi, Cabernet Sauvignon                       1\n",
       "                                                        ..\n",
       "M. Chapoutier, Deschants Saint Joseph                    1\n",
       "Casas del Toqui, Court Rollan Blanc de Blancs            1\n",
       "Alta Vista, Premium Malbec                               1\n",
       "Hardys, Limited Cellar Release Chardonnay                1\n",
       "Chateau La Louviere White                                1\n",
       "Name: 영문 이름, Length: 306, dtype: int64"
      ]
     },
     "execution_count": 194,
     "metadata": {},
     "output_type": "execute_result"
    }
   ],
   "source": [
    "month.index = range(len(month))\n",
    "month['영문 이름'].value_counts()"
   ]
  },
  {
   "cell_type": "markdown",
   "metadata": {},
   "source": [
    "* recommend의 중복 와인 제거"
   ]
  },
  {
   "cell_type": "code",
   "execution_count": 188,
   "metadata": {},
   "outputs": [],
   "source": [
    "for name in recommend['영문 이름'].value_counts()[recommend['영문 이름'].value_counts() >= 2].index:\n",
    "    recommend.drop(recommend[recommend['영문 이름'] == name].index[1:], inplace=True)"
   ]
  },
  {
   "cell_type": "code",
   "execution_count": 197,
   "metadata": {},
   "outputs": [
    {
     "data": {
      "text/plain": [
       "Frei Brothers, Pinot Noir                  1\n",
       "Villa Jolanda, ‘I LOVE YOU’ Moscato        1\n",
       "Billecart Salmon, Extra Brut               1\n",
       "Lancers White & Rose                       1\n",
       "Gerard Bertrand, Reserve Speciale Syrah    1\n",
       "                                          ..\n",
       "Lanson, Le Black Reserve                   1\n",
       "Apaltagua, Envero Gran Reserva             1\n",
       "Cattin, Sauvage Cremant d’Alsace Brut      1\n",
       "Animus Vinho Verde                         1\n",
       "Burmester Tawny Port                       1\n",
       "Name: 영문 이름, Length: 581, dtype: int64"
      ]
     },
     "execution_count": 197,
     "metadata": {},
     "output_type": "execute_result"
    }
   ],
   "source": [
    "recommend.index = range(len(recommend))\n",
    "recommend['영문 이름'].value_counts()"
   ]
  },
  {
   "cell_type": "markdown",
   "metadata": {},
   "source": [
    "* total에 month 합치기"
   ]
  },
  {
   "cell_type": "code",
   "execution_count": 120,
   "metadata": {},
   "outputs": [],
   "source": [
    "for i in range(len(month)):\n",
    "    for column_total, column_month in zip(total.columns[:-5], month.columns):\n",
    "        total.loc[i, column_total] = month.loc[i, column_month]"
   ]
  },
  {
   "cell_type": "markdown",
   "metadata": {},
   "source": [
    "* total에 blog 합치기"
   ]
  },
  {
   "cell_type": "code",
   "execution_count": 234,
   "metadata": {},
   "outputs": [],
   "source": [
    "total.blog_text = ''\n",
    "\n",
    "for i in range(len(blog)):\n",
    "    name, text = blog.loc[i]\n",
    "    if name in total.name_en.values:\n",
    "        total.loc[total[total.name_en == name].index[0], 'blog_text'] += str(text) + '\\n\\n\\n'\n",
    "    else:\n",
    "        idx = len(total)\n",
    "        total.loc[idx, 'name_en'] = name\n",
    "        total.loc[idx, 'blog_text'] = str(text) + '\\n\\n\\n'"
   ]
  },
  {
   "cell_type": "markdown",
   "metadata": {},
   "source": [
    "* total에 recommand 합치기"
   ]
  },
  {
   "cell_type": "code",
   "execution_count": 244,
   "metadata": {},
   "outputs": [],
   "source": [
    "for i in range(len(recommend)):\n",
    "    name = recommend.loc[i, '영문 이름']\n",
    "    if name in total.name_en.values:\n",
    "        idx = total[total.name_en == name].index[0]\n",
    "        total.loc[idx, 'posting_title'] = recommend.loc[i, '포스팅 제목']\n",
    "        total.loc[idx, 'posting_text'] = recommend.loc[i, '포스팅 본문']\n",
    "        total.loc[idx, 'wine_title'] = recommend.loc[i, '와인 소개 제목']\n",
    "        total.loc[idx, 'wine_text'] = recommend.loc[i, '와인 소개 본문']\n",
    "        total.loc[idx, 'hashtag'] = recommend.loc[i, '해시태그']\n",
    "    else:\n",
    "        idx = len(total)\n",
    "        total.loc[idx, 'name_ko'] = recommend.loc[i, '한글 이름']\n",
    "        total.loc[idx, 'name_en'] = recommend.loc[i, '영문 이름']\n",
    "        total.loc[idx, 'posting_title'] = recommend.loc[i, '포스팅 제목']\n",
    "        total.loc[idx, 'posting_text'] = recommend.loc[i, '포스팅 본문']\n",
    "        total.loc[idx, 'wine_title'] = recommend.loc[i, '와인 소개 제목']\n",
    "        total.loc[idx, 'wine_text'] = recommend.loc[i, '와인 소개 본문']\n",
    "        total.loc[idx, 'hashtag'] = recommend.loc[i, '해시태그']"
   ]
  },
  {
   "cell_type": "code",
   "execution_count": 248,
   "metadata": {},
   "outputs": [],
   "source": [
    "total.to_csv('total.csv')"
   ]
  }
 ],
 "metadata": {
  "kernelspec": {
   "display_name": "Python 3",
   "language": "python",
   "name": "python3"
  },
  "language_info": {
   "codemirror_mode": {
    "name": "ipython",
    "version": 3
   },
   "file_extension": ".py",
   "mimetype": "text/x-python",
   "name": "python",
   "nbconvert_exporter": "python",
   "pygments_lexer": "ipython3",
   "version": "3.8.5"
  }
 },
 "nbformat": 4,
 "nbformat_minor": 4
}
