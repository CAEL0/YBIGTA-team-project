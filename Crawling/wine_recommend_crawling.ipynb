{
 "cells": [
  {
   "cell_type": "code",
   "execution_count": 1,
   "metadata": {},
   "outputs": [],
   "source": [
    "from time import sleep\n",
    "import requests\n",
    "from selenium import webdriver\n",
    "from selenium.webdriver.common.keys import Keys"
   ]
  },
  {
   "cell_type": "code",
   "execution_count": 2,
   "metadata": {},
   "outputs": [],
   "source": [
    "path = 'C:/Users/USER/Desktop/종민/YBIGTA/2021-2 교육세션/0805 크롤링/chromedriver.exe'\n",
    "driver = webdriver.Chrome(path)\n",
    "driver.implicitly_wait(5)\n",
    "\n",
    "url = 'https://www.wine21.com/13_search/recommend_list.html'\n",
    "driver.get(url)"
   ]
  },
  {
   "cell_type": "markdown",
   "metadata": {},
   "source": [
    "* 와인21 추천 페이지 (https://www.wine21.com/13_search/recommend_list.html)에서 위에서 i번째 게시물의 css selector는 '#news_list > li:nth-child(i + 1) > div.txt-area > div.cnt-header > h3 > a'이고, 하이퍼링크는 get_attribute('href')로 받아오면 된다.\n",
    "\n",
    "* 초기에 10개의 포스팅이 있고, 밑에 더보기를 누를 때마다 10개씩 추가된다.\n",
    "\n",
    "* 전체 포스팅이 108개인 것을 고려하자\n",
    "\n",
    "* 더보기 버튼의 css selector는 '#newsListMoreBtn'이고, send_keys(Keys.RETURN)을 하면 목록이 확장된다.\n",
    "\n",
    "* search.send_keys(Keys.RETURN)로 각 포스팅에 들어갈 수 있다.\n",
    "\n",
    "* driver.back()으로 뒤로 나올 수 있다.\n",
    "\n",
    "* driver.title로 포스팅 제목을 불러올 수 있다."
   ]
  },
  {
   "cell_type": "code",
   "execution_count": 131,
   "metadata": {
    "scrolled": true
   },
   "outputs": [],
   "source": [
    "data = []\n",
    "more = '#newsListMoreBtn'  # 더보기 버튼의 css selector\n",
    "detail = 'body > section > div > div.wrap-board-left > div.board-view.news-view > div.detail-area > div.detail-txt'  # 본문의 css selector\n",
    "hashtag = 'body > section > div > div.wrap-board-left > div.board-view.news-view > div.detail-area > div.board-tag'  # tag의 css selector\n",
    "\n",
    "for i in range(108):\n",
    "    \n",
    "    # 더보기 버튼 누르기\n",
    "    for _ in range(i // 10):\n",
    "        search = driver.find_element_by_css_selector(more)\n",
    "        search.send_keys(Keys.RETURN)\n",
    "        sleep(1)\n",
    "    \n",
    "    # 포스팅 클릭\n",
    "    css = f'#news_list > li:nth-child({i + 2}) > div.txt-area > div.cnt-header > h3 > a'\n",
    "    search = driver.find_element_by_css_selector(css)\n",
    "    search.send_keys(Keys.RETURN)\n",
    "    \n",
    "    # 포스팅 정보\n",
    "    post = {}\n",
    "    post['title'] = driver.title\n",
    "    \n",
    "    search = driver.find_element_by_css_selector(detail)\n",
    "    post['text'] = search.text\n",
    "    \n",
    "    # hashtag는 없을 수도 있음\n",
    "    try:\n",
    "        search = driver.find_element_by_css_selector(hashtag)\n",
    "        post['hashtag'] = search.text\n",
    "    except:\n",
    "        pass\n",
    "    \n",
    "    data.append(post)\n",
    "    driver.back()"
   ]
  }
 ],
 "metadata": {
  "kernelspec": {
   "display_name": "Python 3",
   "language": "python",
   "name": "python3"
  },
  "language_info": {
   "codemirror_mode": {
    "name": "ipython",
    "version": 3
   },
   "file_extension": ".py",
   "mimetype": "text/x-python",
   "name": "python",
   "nbconvert_exporter": "python",
   "pygments_lexer": "ipython3",
   "version": "3.8.5"
  }
 },
 "nbformat": 4,
 "nbformat_minor": 4
}
