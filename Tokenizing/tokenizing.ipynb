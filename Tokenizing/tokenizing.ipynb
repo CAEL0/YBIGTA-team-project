{
 "cells": [
  {
   "cell_type": "markdown",
   "id": "8e21a649",
   "metadata": {
    "id": "8e21a649"
   },
   "source": [
    "###  Ybigta 19기 신입기수프로젝트 5조 와인추천시스템 중 Tokenizing부분입니다"
   ]
  },
  {
   "cell_type": "code",
   "execution_count": 1,
   "id": "deca7f86",
   "metadata": {
    "colab": {
     "base_uri": "https://localhost:8080/"
    },
    "id": "deca7f86",
    "outputId": "5e1e814d-d0d2-4a19-828a-555da9c68834"
   },
   "outputs": [
    {
     "name": "stdout",
     "output_type": "stream",
     "text": [
      "Collecting konlpy\n",
      "  Downloading konlpy-0.5.2-py2.py3-none-any.whl (19.4 MB)\n",
      "\u001b[K     |████████████████████████████████| 19.4 MB 95.3 MB/s \n",
      "\u001b[?25hCollecting JPype1>=0.7.0\n",
      "  Downloading JPype1-1.3.0-cp37-cp37m-manylinux_2_5_x86_64.manylinux1_x86_64.whl (448 kB)\n",
      "\u001b[K     |████████████████████████████████| 448 kB 41.3 MB/s \n",
      "\u001b[?25hRequirement already satisfied: numpy>=1.6 in /usr/local/lib/python3.7/dist-packages (from konlpy) (1.19.5)\n",
      "Collecting beautifulsoup4==4.6.0\n",
      "  Downloading beautifulsoup4-4.6.0-py3-none-any.whl (86 kB)\n",
      "\u001b[K     |████████████████████████████████| 86 kB 4.0 MB/s \n",
      "\u001b[?25hCollecting colorama\n",
      "  Downloading colorama-0.4.4-py2.py3-none-any.whl (16 kB)\n",
      "Requirement already satisfied: tweepy>=3.7.0 in /usr/local/lib/python3.7/dist-packages (from konlpy) (3.10.0)\n",
      "Requirement already satisfied: lxml>=4.1.0 in /usr/local/lib/python3.7/dist-packages (from konlpy) (4.2.6)\n",
      "Requirement already satisfied: typing-extensions in /usr/local/lib/python3.7/dist-packages (from JPype1>=0.7.0->konlpy) (3.7.4.3)\n",
      "Requirement already satisfied: requests[socks]>=2.11.1 in /usr/local/lib/python3.7/dist-packages (from tweepy>=3.7.0->konlpy) (2.23.0)\n",
      "Requirement already satisfied: six>=1.10.0 in /usr/local/lib/python3.7/dist-packages (from tweepy>=3.7.0->konlpy) (1.15.0)\n",
      "Requirement already satisfied: requests-oauthlib>=0.7.0 in /usr/local/lib/python3.7/dist-packages (from tweepy>=3.7.0->konlpy) (1.3.0)\n",
      "Requirement already satisfied: oauthlib>=3.0.0 in /usr/local/lib/python3.7/dist-packages (from requests-oauthlib>=0.7.0->tweepy>=3.7.0->konlpy) (3.1.1)\n",
      "Requirement already satisfied: certifi>=2017.4.17 in /usr/local/lib/python3.7/dist-packages (from requests[socks]>=2.11.1->tweepy>=3.7.0->konlpy) (2021.5.30)\n",
      "Requirement already satisfied: urllib3!=1.25.0,!=1.25.1,<1.26,>=1.21.1 in /usr/local/lib/python3.7/dist-packages (from requests[socks]>=2.11.1->tweepy>=3.7.0->konlpy) (1.24.3)\n",
      "Requirement already satisfied: chardet<4,>=3.0.2 in /usr/local/lib/python3.7/dist-packages (from requests[socks]>=2.11.1->tweepy>=3.7.0->konlpy) (3.0.4)\n",
      "Requirement already satisfied: idna<3,>=2.5 in /usr/local/lib/python3.7/dist-packages (from requests[socks]>=2.11.1->tweepy>=3.7.0->konlpy) (2.10)\n",
      "Requirement already satisfied: PySocks!=1.5.7,>=1.5.6 in /usr/local/lib/python3.7/dist-packages (from requests[socks]>=2.11.1->tweepy>=3.7.0->konlpy) (1.7.1)\n",
      "Installing collected packages: JPype1, colorama, beautifulsoup4, konlpy\n",
      "  Attempting uninstall: beautifulsoup4\n",
      "    Found existing installation: beautifulsoup4 4.6.3\n",
      "    Uninstalling beautifulsoup4-4.6.3:\n",
      "      Successfully uninstalled beautifulsoup4-4.6.3\n",
      "Successfully installed JPype1-1.3.0 beautifulsoup4-4.6.0 colorama-0.4.4 konlpy-0.5.2\n"
     ]
    }
   ],
   "source": [
    "pip install konlpy"
   ]
  },
  {
   "cell_type": "code",
   "execution_count": 2,
   "id": "cf488128",
   "metadata": {
    "colab": {
     "base_uri": "https://localhost:8080/"
    },
    "id": "cf488128",
    "outputId": "d51a5795-8caa-47d8-ffc8-b7685798cd07"
   },
   "outputs": [
    {
     "name": "stdout",
     "output_type": "stream",
     "text": [
      "[nltk_data] Downloading package punkt to /root/nltk_data...\n",
      "[nltk_data]   Unzipping tokenizers/punkt.zip.\n"
     ]
    },
    {
     "data": {
      "text/plain": [
       "True"
      ]
     },
     "execution_count": 2,
     "metadata": {},
     "output_type": "execute_result"
    }
   ],
   "source": [
    "import pandas as pd\n",
    "import numpy as np\n",
    "import konlpy\n",
    "from tensorflow.keras.preprocessing.text import Tokenizer\n",
    "from nltk.tokenize import word_tokenize\n",
    "from konlpy.tag import Okt,Kkma\n",
    "okt = Okt()\n",
    "kkma = Kkma()\n",
    "import nltk\n",
    "nltk.download('punkt')"
   ]
  },
  {
   "cell_type": "code",
   "execution_count": 3,
   "id": "859ec42c",
   "metadata": {
    "colab": {
     "base_uri": "https://localhost:8080/"
    },
    "id": "859ec42c",
    "outputId": "e9bded08-6bc9-4b65-d039-9b4a5ffc094b"
   },
   "outputs": [
    {
     "name": "stdout",
     "output_type": "stream",
     "text": [
      "Mounted at /content/drive\n"
     ]
    }
   ],
   "source": [
    "from google.colab import drive\n",
    "drive.mount('/content/drive')"
   ]
  },
  {
   "cell_type": "code",
   "execution_count": 4,
   "id": "54875150",
   "metadata": {
    "id": "54875150"
   },
   "outputs": [],
   "source": [
    "wine = pd.read_csv(\"/content/drive/My Drive/Colab Notebooks/total_.csv\")  "
   ]
  },
  {
   "cell_type": "code",
   "execution_count": 5,
   "id": "671596bc",
   "metadata": {
    "colab": {
     "base_uri": "https://localhost:8080/",
     "height": 385
    },
    "id": "671596bc",
    "outputId": "f94901ff-4cbf-4239-f260-84ec5a2c265a"
   },
   "outputs": [
    {
     "data": {
      "text/html": [
       "<div>\n",
       "<style scoped>\n",
       "    .dataframe tbody tr th:only-of-type {\n",
       "        vertical-align: middle;\n",
       "    }\n",
       "\n",
       "    .dataframe tbody tr th {\n",
       "        vertical-align: top;\n",
       "    }\n",
       "\n",
       "    .dataframe thead th {\n",
       "        text-align: right;\n",
       "    }\n",
       "</style>\n",
       "<table border=\"1\" class=\"dataframe\">\n",
       "  <thead>\n",
       "    <tr style=\"text-align: right;\">\n",
       "      <th></th>\n",
       "      <th>Unnamed: 0</th>\n",
       "      <th>name_ko</th>\n",
       "      <th>name_en</th>\n",
       "      <th>price</th>\n",
       "      <th>type</th>\n",
       "      <th>country</th>\n",
       "      <th>city</th>\n",
       "      <th>aroma</th>\n",
       "      <th>food</th>\n",
       "      <th>rate_expert</th>\n",
       "      <th>rate_consumer</th>\n",
       "      <th>alcohol</th>\n",
       "      <th>sugar</th>\n",
       "      <th>acidity</th>\n",
       "      <th>body</th>\n",
       "      <th>tannin</th>\n",
       "      <th>maker's_note</th>\n",
       "      <th>tasting_note</th>\n",
       "      <th>posting_title</th>\n",
       "      <th>posting_text</th>\n",
       "      <th>wine_title</th>\n",
       "      <th>wine_text</th>\n",
       "      <th>hashtag</th>\n",
       "      <th>blog_text</th>\n",
       "    </tr>\n",
       "  </thead>\n",
       "  <tbody>\n",
       "    <tr>\n",
       "      <th>0</th>\n",
       "      <td>0</td>\n",
       "      <td>더 롱 리틀 독 스파클링</td>\n",
       "      <td>The Long Little Dog Sparkling</td>\n",
       "      <td>30000.0</td>\n",
       "      <td>스파클링</td>\n",
       "      <td>프랑스</td>\n",
       "      <td>랑그독 루씨용</td>\n",
       "      <td>복숭아, 살구, 꽃, 흰꽃, 레몬</td>\n",
       "      <td>리코타, 파스타, 샐러드</td>\n",
       "      <td>-</td>\n",
       "      <td>3.5</td>\n",
       "      <td>NaN</td>\n",
       "      <td>1.0</td>\n",
       "      <td>5.0</td>\n",
       "      <td>2.0</td>\n",
       "      <td>1.0</td>\n",
       "      <td>밝고 맑은 레몬 컬러에 레몬, 살구, 복숭아, 흰꽃의 아로마가 느껴진다. 입 안에서...</td>\n",
       "      <td>NaN</td>\n",
       "      <td>NaN</td>\n",
       "      <td>NaN</td>\n",
       "      <td>NaN</td>\n",
       "      <td>NaN</td>\n",
       "      <td>NaN</td>\n",
       "      <td>WINE\\n더 롱 리틀 독 스파클링 [ The Long Little Dog Spar...</td>\n",
       "    </tr>\n",
       "    <tr>\n",
       "      <th>1</th>\n",
       "      <td>1</td>\n",
       "      <td>루베롱 블랑</td>\n",
       "      <td>LUBERON BLANC</td>\n",
       "      <td>25000.0</td>\n",
       "      <td>NaN</td>\n",
       "      <td>프랑스</td>\n",
       "      <td>론</td>\n",
       "      <td>헤이즐넛, 꽃, 아카시아, 레몬</td>\n",
       "      <td>NaN</td>\n",
       "      <td>-</td>\n",
       "      <td>4</td>\n",
       "      <td>NaN</td>\n",
       "      <td>1.0</td>\n",
       "      <td>3.0</td>\n",
       "      <td>3.0</td>\n",
       "      <td>1.0</td>\n",
       "      <td>화사한 노란색을 띠며 레몬, 아카시아 꽃, 헤이즐넛 향이 어우러진다. 입 안에서는 ...</td>\n",
       "      <td>NaN</td>\n",
       "      <td>NaN</td>\n",
       "      <td>NaN</td>\n",
       "      <td>NaN</td>\n",
       "      <td>NaN</td>\n",
       "      <td>NaN</td>\n",
       "      <td>와인이야기\\n[하남 포도내음 와인아울렛/와인샵]와인소개_화이트와인추천_Marreno...</td>\n",
       "    </tr>\n",
       "    <tr>\n",
       "      <th>2</th>\n",
       "      <td>2</td>\n",
       "      <td>마리 스튜아트, 뀌베 드 라 헨느 브뤼</td>\n",
       "      <td>Marie Stuart, Cuvee de la Reine Brut</td>\n",
       "      <td>145000.0</td>\n",
       "      <td>스파클링</td>\n",
       "      <td>프랑스</td>\n",
       "      <td>샹파뉴</td>\n",
       "      <td>꽃</td>\n",
       "      <td>아페리티프, 파스타</td>\n",
       "      <td>-</td>\n",
       "      <td>4</td>\n",
       "      <td>12 %</td>\n",
       "      <td>1.0</td>\n",
       "      <td>4.0</td>\n",
       "      <td>3.0</td>\n",
       "      <td>1.0</td>\n",
       "      <td>반짝이는 연한 금빛의 정교한 거품을 지녔으며, 흰 꽃 패션 프루츠, 달콤한 흰 과일...</td>\n",
       "      <td>NaN</td>\n",
       "      <td>와인21닷컴이 선정한 7월 이달의 와인</td>\n",
       "      <td>조금 늦게 찾아온 장마와 무더위가 기다리고 있는 7월. 장마철의 습한 기운을 떨쳐내...</td>\n",
       "      <td>여왕의 샴페인</td>\n",
       "      <td>1867년 랭스(Reims)에 설립된 마리 스튜아트는 스코틀랜드의 여왕이자 프랑스 ...</td>\n",
       "      <td>NaN</td>\n",
       "      <td>BEST와인추천\\n와인21닷컴이 선정한 7월 이달의 와인\\n와인21 ・ 2021. ...</td>\n",
       "    </tr>\n",
       "    <tr>\n",
       "      <th>3</th>\n",
       "      <td>3</td>\n",
       "      <td>마스카 델 타코, 로시 피노 네로 로사토</td>\n",
       "      <td>Masca del Tacco, “ Ro’Si ” Pinot Nero Rosato</td>\n",
       "      <td>38000.0</td>\n",
       "      <td>NaN</td>\n",
       "      <td>이탈리아</td>\n",
       "      <td>뿔리아</td>\n",
       "      <td>딸기, 미네랄</td>\n",
       "      <td>NaN</td>\n",
       "      <td>-</td>\n",
       "      <td>4</td>\n",
       "      <td>12~13 %</td>\n",
       "      <td>1.0</td>\n",
       "      <td>3.0</td>\n",
       "      <td>2.0</td>\n",
       "      <td>1.0</td>\n",
       "      <td>밟은 옅은 분홍색에 야생 딸기 젤리 수박과 같은 달콤한 향이 풍부하고 그 뒤로 향신...</td>\n",
       "      <td>NaN</td>\n",
       "      <td>NaN</td>\n",
       "      <td>NaN</td>\n",
       "      <td>NaN</td>\n",
       "      <td>NaN</td>\n",
       "      <td>NaN</td>\n",
       "      <td>이탈리아와인\\nMASCA DEL TACCO [마스카 델 타코] 제이픽와인\\n산타 ・...</td>\n",
       "    </tr>\n",
       "    <tr>\n",
       "      <th>4</th>\n",
       "      <td>4</td>\n",
       "      <td>비에티, 바르베라 다스티 '트레 비그네'</td>\n",
       "      <td>Vietti, Barbera d'Asti 'Tre Vigne'</td>\n",
       "      <td>50000.0</td>\n",
       "      <td>NaN</td>\n",
       "      <td>이탈리아</td>\n",
       "      <td>아스티</td>\n",
       "      <td>체리, 오크</td>\n",
       "      <td>NaN</td>\n",
       "      <td>-</td>\n",
       "      <td>4</td>\n",
       "      <td>NaN</td>\n",
       "      <td>1.0</td>\n",
       "      <td>3.0</td>\n",
       "      <td>3.0</td>\n",
       "      <td>4.0</td>\n",
       "      <td>바르베라 다스티의 포도는 라 크레나 포도밭으로 유명한 아스티 언덕주변인 아그리아노 ...</td>\n",
       "      <td>NaN</td>\n",
       "      <td>NaN</td>\n",
       "      <td>NaN</td>\n",
       "      <td>NaN</td>\n",
       "      <td>NaN</td>\n",
       "      <td>NaN</td>\n",
       "      <td>(N) Piemonte\\nVietti, Barbera d'Asti Tre Vigne...</td>\n",
       "    </tr>\n",
       "  </tbody>\n",
       "</table>\n",
       "</div>"
      ],
      "text/plain": [
       "   Unnamed: 0  ...                                          blog_text\n",
       "0           0  ...  WINE\\n더 롱 리틀 독 스파클링 [ The Long Little Dog Spar...\n",
       "1           1  ...  와인이야기\\n[하남 포도내음 와인아울렛/와인샵]와인소개_화이트와인추천_Marreno...\n",
       "2           2  ...  BEST와인추천\\n와인21닷컴이 선정한 7월 이달의 와인\\n와인21 ・ 2021. ...\n",
       "3           3  ...  이탈리아와인\\nMASCA DEL TACCO [마스카 델 타코] 제이픽와인\\n산타 ・...\n",
       "4           4  ...  (N) Piemonte\\nVietti, Barbera d'Asti Tre Vigne...\n",
       "\n",
       "[5 rows x 24 columns]"
      ]
     },
     "execution_count": 5,
     "metadata": {},
     "output_type": "execute_result"
    }
   ],
   "source": [
    "wine.head()"
   ]
  },
  {
   "cell_type": "code",
   "execution_count": 6,
   "id": "eda612df",
   "metadata": {
    "colab": {
     "base_uri": "https://localhost:8080/"
    },
    "id": "eda612df",
    "outputId": "0d944840-1060-4f1a-9d55-e217c5651e23"
   },
   "outputs": [
    {
     "name": "stdout",
     "output_type": "stream",
     "text": [
      "<class 'pandas.core.frame.DataFrame'>\n",
      "RangeIndex: 806 entries, 0 to 805\n",
      "Data columns (total 24 columns):\n",
      " #   Column         Non-Null Count  Dtype  \n",
      "---  ------         --------------  -----  \n",
      " 0   Unnamed: 0     806 non-null    int64  \n",
      " 1   name_ko        805 non-null    object \n",
      " 2   name_en        805 non-null    object \n",
      " 3   price          304 non-null    float64\n",
      " 4   type           68 non-null     object \n",
      " 5   country        325 non-null    object \n",
      " 6   city           309 non-null    object \n",
      " 7   aroma          321 non-null    object \n",
      " 8   food           214 non-null    object \n",
      " 9   rate_expert    325 non-null    object \n",
      " 10  rate_consumer  325 non-null    object \n",
      " 11  alcohol        241 non-null    object \n",
      " 12  sugar          325 non-null    float64\n",
      " 13  acidity        325 non-null    float64\n",
      " 14  body           325 non-null    float64\n",
      " 15  tannin         325 non-null    float64\n",
      " 16  maker's_note   317 non-null    object \n",
      " 17  tasting_note   28 non-null     object \n",
      " 18  posting_title  582 non-null    object \n",
      " 19  posting_text   568 non-null    object \n",
      " 20  wine_title     290 non-null    object \n",
      " 21  wine_text      582 non-null    object \n",
      " 22  hashtag        25 non-null     object \n",
      " 23  blog_text      301 non-null    object \n",
      "dtypes: float64(5), int64(1), object(18)\n",
      "memory usage: 151.2+ KB\n"
     ]
    }
   ],
   "source": [
    "wine.info()"
   ]
  },
  {
   "cell_type": "markdown",
   "id": "67f530f8",
   "metadata": {
    "id": "67f530f8"
   },
   "source": [
    "###### 먼저, 수치형 데이터 보다는 블로그나 기사 등을 통해 특징을 추출하는 것이 목표이기 때문에 해당 열들을 지웠습니다.\n",
    "\n",
    "###### posting_text의 경우, 불필요한 말이 너무 많아 오히려 분석의 성능을 저하시킨다고 판단해 지웠습니다"
   ]
  },
  {
   "cell_type": "code",
   "execution_count": 7,
   "id": "3599db6b",
   "metadata": {
    "id": "3599db6b"
   },
   "outputs": [],
   "source": [
    "del wine[\"Unnamed: 0\"]\n",
    "del wine[\"name_en\"]\n",
    "del wine[\"price\"]\n",
    "del wine[\"country\"]\n",
    "del wine[\"city\"]\n",
    "del wine[\"rate_expert\"]\n",
    "del wine[\"rate_consumer\"]\n",
    "del wine[\"sugar\"]\n",
    "del wine[\"alcohol\"]\n",
    "del wine[\"acidity\"]\n",
    "del wine[\"tannin\"]\n",
    "del wine[\"posting_text\"]\n",
    "del wine[\"food\"]\n",
    "del wine[\"body\"]"
   ]
  },
  {
   "cell_type": "code",
   "execution_count": 8,
   "id": "1a663925",
   "metadata": {
    "colab": {
     "base_uri": "https://localhost:8080/",
     "height": 285
    },
    "id": "1a663925",
    "outputId": "897d28e8-f70b-4b11-b6a8-8b560e0c6e2f"
   },
   "outputs": [
    {
     "data": {
      "text/html": [
       "<div>\n",
       "<style scoped>\n",
       "    .dataframe tbody tr th:only-of-type {\n",
       "        vertical-align: middle;\n",
       "    }\n",
       "\n",
       "    .dataframe tbody tr th {\n",
       "        vertical-align: top;\n",
       "    }\n",
       "\n",
       "    .dataframe thead th {\n",
       "        text-align: right;\n",
       "    }\n",
       "</style>\n",
       "<table border=\"1\" class=\"dataframe\">\n",
       "  <thead>\n",
       "    <tr style=\"text-align: right;\">\n",
       "      <th></th>\n",
       "      <th>name_ko</th>\n",
       "      <th>type</th>\n",
       "      <th>aroma</th>\n",
       "      <th>maker's_note</th>\n",
       "      <th>tasting_note</th>\n",
       "      <th>posting_title</th>\n",
       "      <th>wine_title</th>\n",
       "      <th>wine_text</th>\n",
       "      <th>hashtag</th>\n",
       "      <th>blog_text</th>\n",
       "    </tr>\n",
       "  </thead>\n",
       "  <tbody>\n",
       "    <tr>\n",
       "      <th>0</th>\n",
       "      <td>더 롱 리틀 독 스파클링</td>\n",
       "      <td>스파클링</td>\n",
       "      <td>복숭아, 살구, 꽃, 흰꽃, 레몬</td>\n",
       "      <td>밝고 맑은 레몬 컬러에 레몬, 살구, 복숭아, 흰꽃의 아로마가 느껴진다. 입 안에서...</td>\n",
       "      <td>NaN</td>\n",
       "      <td>NaN</td>\n",
       "      <td>NaN</td>\n",
       "      <td>NaN</td>\n",
       "      <td>NaN</td>\n",
       "      <td>WINE\\n더 롱 리틀 독 스파클링 [ The Long Little Dog Spar...</td>\n",
       "    </tr>\n",
       "    <tr>\n",
       "      <th>1</th>\n",
       "      <td>루베롱 블랑</td>\n",
       "      <td>NaN</td>\n",
       "      <td>헤이즐넛, 꽃, 아카시아, 레몬</td>\n",
       "      <td>화사한 노란색을 띠며 레몬, 아카시아 꽃, 헤이즐넛 향이 어우러진다. 입 안에서는 ...</td>\n",
       "      <td>NaN</td>\n",
       "      <td>NaN</td>\n",
       "      <td>NaN</td>\n",
       "      <td>NaN</td>\n",
       "      <td>NaN</td>\n",
       "      <td>와인이야기\\n[하남 포도내음 와인아울렛/와인샵]와인소개_화이트와인추천_Marreno...</td>\n",
       "    </tr>\n",
       "    <tr>\n",
       "      <th>2</th>\n",
       "      <td>마리 스튜아트, 뀌베 드 라 헨느 브뤼</td>\n",
       "      <td>스파클링</td>\n",
       "      <td>꽃</td>\n",
       "      <td>반짝이는 연한 금빛의 정교한 거품을 지녔으며, 흰 꽃 패션 프루츠, 달콤한 흰 과일...</td>\n",
       "      <td>NaN</td>\n",
       "      <td>와인21닷컴이 선정한 7월 이달의 와인</td>\n",
       "      <td>여왕의 샴페인</td>\n",
       "      <td>1867년 랭스(Reims)에 설립된 마리 스튜아트는 스코틀랜드의 여왕이자 프랑스 ...</td>\n",
       "      <td>NaN</td>\n",
       "      <td>BEST와인추천\\n와인21닷컴이 선정한 7월 이달의 와인\\n와인21 ・ 2021. ...</td>\n",
       "    </tr>\n",
       "    <tr>\n",
       "      <th>3</th>\n",
       "      <td>마스카 델 타코, 로시 피노 네로 로사토</td>\n",
       "      <td>NaN</td>\n",
       "      <td>딸기, 미네랄</td>\n",
       "      <td>밟은 옅은 분홍색에 야생 딸기 젤리 수박과 같은 달콤한 향이 풍부하고 그 뒤로 향신...</td>\n",
       "      <td>NaN</td>\n",
       "      <td>NaN</td>\n",
       "      <td>NaN</td>\n",
       "      <td>NaN</td>\n",
       "      <td>NaN</td>\n",
       "      <td>이탈리아와인\\nMASCA DEL TACCO [마스카 델 타코] 제이픽와인\\n산타 ・...</td>\n",
       "    </tr>\n",
       "    <tr>\n",
       "      <th>4</th>\n",
       "      <td>비에티, 바르베라 다스티 '트레 비그네'</td>\n",
       "      <td>NaN</td>\n",
       "      <td>체리, 오크</td>\n",
       "      <td>바르베라 다스티의 포도는 라 크레나 포도밭으로 유명한 아스티 언덕주변인 아그리아노 ...</td>\n",
       "      <td>NaN</td>\n",
       "      <td>NaN</td>\n",
       "      <td>NaN</td>\n",
       "      <td>NaN</td>\n",
       "      <td>NaN</td>\n",
       "      <td>(N) Piemonte\\nVietti, Barbera d'Asti Tre Vigne...</td>\n",
       "    </tr>\n",
       "  </tbody>\n",
       "</table>\n",
       "</div>"
      ],
      "text/plain": [
       "                  name_ko  ...                                          blog_text\n",
       "0           더 롱 리틀 독 스파클링  ...  WINE\\n더 롱 리틀 독 스파클링 [ The Long Little Dog Spar...\n",
       "1                  루베롱 블랑  ...  와인이야기\\n[하남 포도내음 와인아울렛/와인샵]와인소개_화이트와인추천_Marreno...\n",
       "2   마리 스튜아트, 뀌베 드 라 헨느 브뤼  ...  BEST와인추천\\n와인21닷컴이 선정한 7월 이달의 와인\\n와인21 ・ 2021. ...\n",
       "3  마스카 델 타코, 로시 피노 네로 로사토  ...  이탈리아와인\\nMASCA DEL TACCO [마스카 델 타코] 제이픽와인\\n산타 ・...\n",
       "4  비에티, 바르베라 다스티 '트레 비그네'  ...  (N) Piemonte\\nVietti, Barbera d'Asti Tre Vigne...\n",
       "\n",
       "[5 rows x 10 columns]"
      ]
     },
     "execution_count": 8,
     "metadata": {},
     "output_type": "execute_result"
    }
   ],
   "source": [
    "wine.head()"
   ]
  },
  {
   "cell_type": "markdown",
   "id": "f69d7119",
   "metadata": {
    "id": "f69d7119"
   },
   "source": [
    "###### 분석의 성능을 위해 반복되는 불필요한 어구들을 정규표현식을 사용해 지웠습니다. (기자이름, 기사를 쓴 날, 평점 등)"
   ]
  },
  {
   "cell_type": "code",
   "execution_count": 9,
   "id": "04cb6304",
   "metadata": {
    "id": "04cb6304"
   },
   "outputs": [],
   "source": [
    "import re"
   ]
  },
  {
   "cell_type": "code",
   "execution_count": 10,
   "id": "9c0b19a0",
   "metadata": {
    "id": "9c0b19a0",
    "scrolled": false
   },
   "outputs": [],
   "source": [
    "for i  in range(0, 806):\n",
    "    wine.tasting_note[i] = re.sub(\"\\n.{1,}\\n[0-9]{4}[.][0-9]{2}[.][0-9]{2}\\n[A-Z0-9]{2,}\\s빈티지\\n[0-9][.][0-9]\",\" \", str(wine.tasting_note[i]))"
   ]
  },
  {
   "cell_type": "code",
   "execution_count": 11,
   "id": "a867c296",
   "metadata": {
    "colab": {
     "base_uri": "https://localhost:8080/"
    },
    "id": "a867c296",
    "outputId": "24cfe704-8f4e-413a-8ffd-0bb3425ac566"
   },
   "outputs": [
    {
     "data": {
      "text/plain": [
       "array([nan, '와인21닷컴이 선정한 7월 이달의 와인', '와인21추천 BEST OF BEST, 선물하기 좋은 와인',\n",
       "       '올해 밸런타인데이에 함께할 와인!', '졸업 시즌의 축하주, 스파클링 와인',\n",
       "       '와인21추천 BEST OF BEST, 꼭 한번 마셔볼만한 마트 와인', '초여름밤, 설레는 기분을 선사해줄 와인',\n",
       "       \"와인21추천 BEST OF BEST, 집에서 더 즐겁게 '홈파티 와인'\", '늦여름에 마시기 좋은 레드 와인',\n",
       "       '와인21추천 BEST OF BEST - 치명적 우아함, 부르고뉴(Bourgogne)',\n",
       "       '[와인추천] 소소한 야외 파티에서 즐기기 좋은 와인', '와인21닷컴이 선정한 3월 이달의 와인',\n",
       "       '부부의 날을 기념하며 마시기 좋은 와인', '와인21닷컴이 선정한 2월 이달의 와인',\n",
       "       '호캉스에 단 한 병의 와인을 가지고 간다면?', '와인21닷컴이 선정한 5월 이달의 와인',\n",
       "       '와인21닷컴이 선정한 6월 이달의 와인', '와인21닷컴이 선정한 8월 이달의 와인',\n",
       "       '와인21닷컴이 선정한 9월 이달의 와인', '와인21닷컴이 선정한 10월 이달의 와인',\n",
       "       '와인21닷컴이 선정한 11월 이달의 와인', '와인21닷컴이 선정한 12월 이달의 와인',\n",
       "       '와인21닷컴이 선정한 2021년 1월 이달의 와인', '와인21닷컴이 선정한 4월 이달의 와인',\n",
       "       '폭염이 지속되는 여름밤에 마시고 싶은 와인', '무더운 날 칠링해서 마시기 좋은 레드 와인은?',\n",
       "       '삼계탕과 잘 어울리는 와인은?', '봄바람과 함께, 야외에서 즐기는 와인',\n",
       "       '행사가 많은 5월, 선물이 고민인가요?', '춘곤증을 날려주는 청량감 넘치는 와인',\n",
       "       '미세먼지가 심한 날, 홈술 추천 와인', '벚꽃 필 무렵엔 이 와인을!', '봄날, 지금 썸타는 중이라면?',\n",
       "       \"와인21's PICK, 카베르네 소비뇽(Cabernet Sauvignon)편\", '봄을 기다리며 즐기기 좋은 와인',\n",
       "       '설날 선물을 위한 추천 와인', '와인21추천 BEST OF BEST, 2021년 ‘소중한 와인들',\n",
       "       '이제는 버블을 즐길 시간!', '홈스토랑에서 오픈할 와인은?',\n",
       "       '와인21추천 BEST OF BEST, 프리미티보 & 진판델(Primitivo & Zinfandel)',\n",
       "       '기분전환을 위한 추천 와인', '찬바람이 불 때는 이 와인을!', '할로윈을 더 재미있게 만들어줄 와인',\n",
       "       '차박은 이 와인과 함께!', '추석 음식과 함께하기 좋은 와인', '가치 있는 선물, 프리미엄 와인들',\n",
       "       '와인21추천 BEST OF BEST, 시라 & 쉬라즈(Syrah & Shiraz)', '올해 말복에는 무슨 와인을?',\n",
       "       '와인21추천 BEST OF BEST, 샴페인(Champagne)', '[와인추천] 무더위에 맞설 이열치열 와인',\n",
       "       '[와인추천] 초여름밤 산책 후 즐기고 싶은 와인', '[와인추천] 발견의 기쁨, 와인계의 뉴페이스',\n",
       "       '결혼을 앞둔 이에겐 이 와인을!', '문화생활과 함께 즐기는 와인', '[와인추천] 봄날에 즐기는 로제 와인',\n",
       "       \"언제나 부담없이 오픈하기 좋은 '미니 와인'\", \"'홈술'하기 좋은 와인\", '마음을 고백할 때 함께하고 싶은 와인',\n",
       "       '설 연휴, 고향에 가지고 가고 싶은 와인', '2020년, 신년을 여는 와인', '한파가 닥친 날엔 이 와인',\n",
       "       '겨울 간식에 곁들이기 좋은 와인',\n",
       "       '와인21추천 BEST OF BEST, 와인더풀 크리스마스(Wine-derful Christmas)를 위한 와인!',\n",
       "       '송년 모임엔 이 와인과 함께!', '첫눈 오는 날 마시고 싶은 와인', '마음이 복잡할 때 마시고 싶은 힐링 와인',\n",
       "       '가을 여행에 함께하고 싶은 와인', '와인21추천 BEST OF BEST, 내추럴 & 오렌지 와인',\n",
       "       '가을 타는 기분일 때 마시기 좋은 와인', '감각적인 재즈 음악과 어울리는 와인',\n",
       "       '와인21추천 BEST OF BEST, 한가위 차례 음식과 와인 페어링', '가성비 좋은 추석 선물 와인들',\n",
       "       '와인21추천 BEST OF BEST, 다채로운 피노 누아',\n",
       "       \"와인21추천 BEST OF BEST, 드넓은 그르나슈의 세계 '얼마나 놀라운 G'\",\n",
       "       '와인21추천 BEST OF BEST, 봄바람처럼 가볍게 즐기는 와인',\n",
       "       '와인21추천 BEST OF BEST, 와인계의 팔방미인 로제와인',\n",
       "       '와인21추천 BEST OF BEST, 2019년 행복을 부르는 와인',\n",
       "       '와인21추천 BEST OF BEST, 샴페인인 듯 샴페인 아닌 샴페인 같은',\n",
       "       '와인21추천 BEST OF BEST, 내가 꽤 어려운 리제르바(Reserva)를 아는 게야!',\n",
       "       '와인21추천 BEST OF BEST, 한가위 스페셜'], dtype=object)"
      ]
     },
     "execution_count": 11,
     "metadata": {},
     "output_type": "execute_result"
    }
   ],
   "source": [
    "wine.posting_title.unique()"
   ]
  },
  {
   "cell_type": "code",
   "execution_count": 12,
   "id": "b7aca4bf",
   "metadata": {
    "id": "b7aca4bf"
   },
   "outputs": [],
   "source": [
    "for i  in range(0, 806):\n",
    "    wine.posting_title[i] = re.sub(\"와인21추천\",\" \", str(wine.posting_title[i]))\n",
    "    wine.posting_title[i] = re.sub(\"이달의 와인\",\" \", str(wine.posting_title[i]))\n",
    "    wine.posting_title[i] = re.sub(\"BEST OF BEST\",\" \", str(wine.posting_title[i]))    \n",
    "    wine.posting_title[i] = re.sub(\"와인\",\" \", str(wine.posting_title[i]))    \n",
    "    wine.posting_title[i] = re.sub(\"21닷컴이 선정한\",\" \", str(wine.posting_title[i]))        "
   ]
  },
  {
   "cell_type": "markdown",
   "id": "bd166b5c",
   "metadata": {
    "id": "bd166b5c"
   },
   "source": [
    "###### 불필요하다고 판단된 어구들이 지워진 이후 unique 값들을 확인해보았습니다"
   ]
  },
  {
   "cell_type": "code",
   "execution_count": 13,
   "id": "e266b743",
   "metadata": {
    "colab": {
     "base_uri": "https://localhost:8080/"
    },
    "id": "e266b743",
    "outputId": "fb30381b-d410-4770-8851-fa3d469e297b",
    "scrolled": true
   },
   "outputs": [
    {
     "data": {
      "text/plain": [
       "array(['nan', ' \\n세인트 넘 조아요~~~~\\n\\n굿뜨베리...', '  \\n샤도네이를 좋아하게 해준 와인',\n",
       "       ' \\n양고기 허브솔트와 마리아주',\n",
       "       ' \\n오픈직후 피어오르는 잘익은 과실향이 인상적이나 한모금하는순간 할퀴는듯한 탄닌이 길들여지지 않은야생의 맹수같은 느낌이다. 몇년의 기간을 두고 마시면 깜짝놀랄만한 녀석으로 변할것같다고 조심스레 예상해본다.\\n마시자마자 든 느낌은 아주 기름기가 많은 육류와 함께하면 좋을듯하다',\n",
       "       ' \\n진지하면서도 위트가 넘치는 흥미로운 와인. 오레곤을 제외한 미국와인의 특성상 75%이상 사용된 주품종은 레이블에 명시할 수 있는 와인법에 따라 분명 피노누아 이외의 다른 품종이 블렌딩 된 것 같은데 감을 잡을 수 없었다. 찾아보니 글로벌~한 블렌딩. 딸기, 섬세한 체다치즈, 바닐라, 캬라멜 등의 밝은 이미지의 아로마 뒤에 보여지는 우아한 빨레는 이러한 블렌딩의 마법인것 같기도 하다. 우연히 견과류와 함께했는데 크렌베리,캐슈넛과의 시너지 효과가 꽤나 좋았다. 호두는 껍질이 탄닌과 충돌해 에러:)',\n",
       "       ' \\n만들어 먹는 뱅쇼는 그때그때 맛도 다르고 잘못해서 끓기라도 하면 맛이 틀어지는데 크리스트 킨들스는 병째 데워 마시면 온기가 퍼지고 맛 역시 튀는곳 없이 무난해서 좋았다.\\n마무리로 올라오는 상큼한 과일맛이 일품 \\n전반적으로 산뜻하고 깔끔한 맛~\\n너무 강하지도 약하지도 않은 바디감과 산미....매우 괜찮았음\\n그냥 데워만 마셔도 좋겠지만 레몬 조각을 살짝 띄워서 마시니 더욱 맛있었는듯..^^',\n",
       "       ' \\n1804 tasting at coex expo \\n1804 tasting at coex expo',\n",
       "       ' \\n차갑게 칠링한 로제 스파클링 와인은 특유의 청량감으로 몸과 마음에 신선한 기운을 불어넣어 준다. No.1 호주 와인 브랜드인 제이콥스 크릭이 만든 로제 스파클링은 제철 과일인 딸기나 참외 등과 잘 어울린다. 또, 캠핑에서 즐길 수 있는 조개구이부터 기름진 삼겹살과 스테이크 그리고 야채구이까지 다양한 음식들과 함께하기 좋은 와인이다. 또한 샴페인과 같이 병 내에서 2차 발효를 진행해 기포가 섬세하고 밸런스가 뛰어나다. 적은 예산으로도 프리미엄급의 와인 맛을 즐길 수 있다.',\n",
       "       ' \\n무려 13세기로 그 역사를 거슬러 올라가는 뼈대 굵은 와이너리에서 생산되는 까바이다. 레몬 빛의 와인으로 풋사과와 서양배의 아로마와 함께 시트러스 계열의 과실향, 흰 꽃의 아로마가 인상적이다. 24개월간의 숙성기간을 거쳤으며 탄탄한 산미로 구조감이 훌륭하다. 스파이시한 노트가 살짝 있어 잔잔하게 향신료를 사용한 디저트와 함께하거나 와인 자체를 디저트로 즐기기를 추천하고 싶다.',\n",
       "       ' \\n선물용으로도 제격인 와인. 푸른 과실들과 꽃을 함께 물고있는 것 같은 산미와 향이 매력적이다. \\n비쥬얼부터 참 청순청순한 와인! 돼지고기 목살 스테이크와 매칭이 좋았다~!\\n감귤류의 과실향과 예쁜 꽃향기에 반해서\\n자주 마시게 될 것 같은 와인! \\n신선한 산미, 풀과 허브향, 감귤류의 과실향과 흰 꽃의 깨끗한 아로마가 주도적. 가볍고 통통튀는 스파클링이 아니라 차분하고 우아한 느낌- 살짝 묵직하고 어느하나 튀는 곳 없이 밸런스가 좋습니다 ㅎㅎ 기포는 아주 부드러워요~ 어느 음식에나 무난하게 잘 매칭될 것 같은 스푸만테 :) \\n입안에서 머금는 피니쉬가 적당하면서\\n살짝 드라이함.\\n산뜻하게 올라오는 꽃향이 기분까지 좋게 만들고\\n\\n특히나 모임에 들고가면 병의 네이블로도 박수를 받는 와인.\\n\\n\\n \\n산미가 좋고 부드러운 버블이 행복하게 해주는 와인입니다\\n컬러도 예쁜 골드컬러.\\n꽃향도 은은하게 퍼지고요 -\\n라벨이 젖지않아서 칠링을 오래해도 여전히 예쁘네요 -\\n특별한날 꼭 함께하고싶은 와인입니다 \\n평소에 화이트와인과 스파클링 와인을 좋아하는 저에게 딱 맞는 Taste!\\n\\n과실향, 꽃 향기 등이 복합적으로 느껴져서 너무 단순하지 않으면서도 적당한 산미 & 달콤함 & 부드러운 탄산의 조화가 잘 어울리는 와인이예요! \\n꽃향과 과실향이 어우러진 깔끔한 스푸만테\\n청량감이 좋아 칠링해서 마시면 여름에 딱 좋음!\\n달지 않고 상쾌한 느낌이 쭉~~~~ \\n예쁜 병에 은은한 과실향과 꽃향에 상쾌한 맛! 선물용으로도 데일리로 마시기에도 좋네요^^ \\n예쁜 모양의 병! 칠링해도 젖지 않는 라벨, 스와로브스키 덕분에 분위기도 더 업!\\n하얀 꽃 내음. 바나나, 귤 싱그럽고 달콤한 향과 여름철 시원하게 즐기면 좋은 와인',\n",
       "       ' \\n1865',\n",
       "       ' \\n약간의 산도와 중간정도의 탄닌감이 느껴진다. 기름기 있는 육류 삼겹살, 치킨 등과 어울리며 크림 또는 오일류의 파스타와 치즈피자 등과 곁들여 마시기 좋다. 많이 열릴수록 말린과일 또는 무화과 향이 나며 피니시는 여운을 남길 정도로 적당하다.',\n",
       "       ' \\n보랏빛이 감도는 루비빛. 약간의 말린 블루베리열매, 스파이스, 체리, 신선하고 산미와 스파이스 좋고 정말 부드러운 타닌. 즙이 있고 깔끔.',\n",
       "       ' \\n아주 달진 않지만 살짝 달달하면서 산미도 있고, 탄산감으로 가볍게, 깔끔하게 마시기 좋았다. 안그래도 화이트, 스파클링 와인이 요즘 좋았는데, 더운 여름에 더욱이나 산뜻하게 마시기 좋았던 와인. \\n여름에 가볍게 마시기 좋은 라마르카 프로세코. 과일을 넣어 상그리아로 마시기에도 좋은 와인이다. 너무 튀지고 않고 데일리로 마시기에 적당하다. 선선한 가을에 피크닉용도로 기분내기 좋을듯 하다. \\n눈을 간지럽히는 산뜻한 레몬컬러 오픈하자 마자 흘러나오는 넘치는 사과와 벌꿀향\\n\\n작고 섬세한 기포와 입안을 깔끔하게 돋구는 산미 정말 좋은 식전주예요~ \\n더위가 기승을 부리면 부릴수록 간절히 생각나는 라 마르카 프로세코.\\n벌꿀향과 풋사과 향이 새침하게 맛으로 다가올때 이미 라 마르카 프로세코의 포로가 되어 버린 듯 합니다.가성비 좋다는 말로 형용할 수 없는 기쁨을 주는 라 마르카 프로세코. 적당한 스파클링 와인을 찾고 계신분께 적당함 그 이상을 줄 수 있는 스파크링 와인이 아닐까 해요. \\n일단 가격대비 너무 좋네요. 청량감과 과실폭탄 아로마는 한여름 더위를 식혀주네요~ \\n시원한 민트빛깔 레이블이 눈을 사로잡는다.\\n얼음 가득 담을 바스켓만 있다면 라 마르카는 더운 여름 그 어디를 함께해도 기분좋게 해줄 와인이다. 포실한 기포에 기분좋은 산미와 당도는 여름 날 편하게 즐기기에 제격. \\n저는 여행가서 수영장에서 수영하다 마셨는데, 너무 좋았습니다^^\\n기포가 부드럽게 입안에 머금어지는게 시원하게 부는 바람과 함께 해변가의 거품 연상이 되었어요~\\n여행 가서 마시니 더 감성적이게 느껴진듯^^ 블루베리와 함께 마셨는데 가볍고, 새콤달콤 산미가 와인과 어우러져 좋았습니다 \\n잔에 따르자마자 보이는 오밀조밀 기포가\\n목으로 넘어갈 때 정말 시원하다라는 느낌을 전해주었고\\n함께 나는 아로마터치가 몹시 신선해서\\n하루 속 스트레스를 뻥 날려주는 기분이었다 ♡ \\n여름에 마시기에 적합한 스파클링\\n기포가 크지 않아 아쉽지만 깔끔하게 떨어지니\\n회랑 먹어도 괜찮은편\\n가성비로 따지자면 중간정도\\n극히 개인적인 견해이다. \\n은은한 과일향과 당도가 적은 점이 좋았습니다. 가볍게 마시기 좋네요~ \\n산도와 당도가 적당히 잘 이루어져 어떤 음식과도 매치가 잘 될것같다.\\n더운 여름밤 차갑게해서 마시면 더욱 좋을 와인이다. \\n청량하고 상큼한 스파클링 와인이라 요즘처럼 무더운 날 여름휴가지에서 즐기기 아주 딱입니다 ! 홈플러스에서 쉽게 구입할 수 있으니, 와인을 잘 모르는 사람도 즐기기에 아주 좋은것 같습니다. 복숭아, 아오리, 자두 등 여름과일들과 잘 어울리는 맛이에요. \\n여름에 정말 잘 어울리는 가성비 좋은 스파클링 와인!!! 조밀한 탄산과 산뜻한 단맛으로 브런치타임에 딱 맞는 와인인 것 같아요!! \\n잔에 따르면 색은 옅은 볏집색으로 황금색보다는 아주 옅은 베이지계열의 색상입니다. 잔뒤가 투명하게 잘 보이는 맑은편입니다. 따르자마자 강한 탄산으로 인한 거품이 폭발적으로 잔위를 채우며, 비교적 짧은시간에 가라앉습니다. 한여름이라 사진으로보기에는 투명도가 잘 보이지 않습니다.\\n향은 레몬과 풋사과스러운 어딘가 풋풋한 향이 납니다. 맛은 달지 않고 드라이한 편이며, 산미도 강하지는 않지만 적당하게 다가옵니다. 마시다보면 약간의 스카치캔디 혹은 버터같은 향, 시원한 서양배같은 향이 나기도 합니다. 반복해서 마시다 보면 카페에서 서빙되는 레몬워터같은 옅은 산미가 잔잔하게 지속됩니다. 바디감은 가벼운 편이며, 탄산의 입자는 크고 중간정도의 강함으로 입안에서 터집니다. 전체적으로 가벼운 터치감의 스파클링 와인입니다.\\n더보기',\n",
       "       ' ',\n",
       "       ' \\n은은하고 우아한 맛과 향을 가진 프로방스의 드라이 로제^^ 코와 입에서 스치는 스파이시함이 참 매력적입니다~ 이 가격대에 프로방스 드라이 로제라니..... 꼭 드셔보시길 추천합니다 ^^',\n",
       "       ' \\n산미와 프랑스 샴페인 특유의 꿉꿉한 향은 나지만 샴페인 대표 국가인만큼 깊이감이 느껴짐 \\n이스트향이 좋았지만 집중도가 너무 떨어져서 실망이었다. 차라리 집중도 좋은 까바가 낫다. \\n농익은 과일향이 많아 잡채나 불고기에 먹어도 넘 좋을 듯  \\n첫 맛에 서양배 향 가득  \\n복합적이고 살아있는 향과 풍부한 과실미가 매력적 \\n사과 효모향이 좋다.\\n산도, 밸런스 좋음  ',\n",
       "       ' \\n로제와인의 색감때문에 향이 풍부할줄 알았으나 산미가 너무 강함     \\n매력적인 색상, 편안한 과일향, 대화를 하며 마시기 좋은  ',\n",
       "       ' \\n부드러움과 달큰함이 느껴지는 와인. 그래서인지 조금 매콤한 맛에도 어울릴 것 같다.',\n",
       "       ' \\n굉장한 아로마 풍부한 과실향이 있다 서양배의 향과 복숭아 구운 토스트의 고소한 향이 느껴진다. 입으로 가져가 한 모금 했을때 산미에 놀랐지만 (필자가 처음 마신 스파클링 와인이었다.) 이내 익숙해졌고 마지막 한 모금이 너무 아쉽게 느껴지는 와인이었다.',\n",
       "       ' \\n너무 가벼움 \\n바닐라향이 확 올라오면서 풋사과 청포도 향이 돌기도 하고 버터리한 피니쉬,,,\\n독특한 향에 눈이 살짝커짐,,\\n데일리로 주말 파티에 준비해도 괜찮을 듯 한 화이트 와인 \\n해산물 요리나 오일 베이스의 파스타와 어울릴듯한 편한 화이트 와인.    \\n라이트하고 기분좋은 감귤향 피니쉬~^^ 아주 가볍게 한잔   \\n식전주 별4개   \\n아직 영빈\\n더보기',\n",
       "       ' \\n바디감이 너무 좋았던 와인이었습니다.\\n현대백화점 무역센터점에서 구매해서 마셨는데 과실향도 풍부하고 입 안 가득 머물러 있던 향이 너무 좋았습니다.'],\n",
       "      dtype=object)"
      ]
     },
     "execution_count": 13,
     "metadata": {},
     "output_type": "execute_result"
    }
   ],
   "source": [
    "wine.tasting_note.unique()"
   ]
  },
  {
   "cell_type": "code",
   "execution_count": 14,
   "id": "140850ac",
   "metadata": {
    "colab": {
     "base_uri": "https://localhost:8080/"
    },
    "id": "140850ac",
    "outputId": "29fc2018-5241-40bb-f3e9-f7712f5ded3e"
   },
   "outputs": [
    {
     "data": {
      "text/plain": [
       "array(['nan', '   7월  ', '   , 선물하기 좋은  ', '올해 밸런타인데이에 함께할  !',\n",
       "       '졸업 시즌의 축하주, 스파클링  ', '   , 꼭 한번 마셔볼만한 마트  ',\n",
       "       '초여름밤, 설레는 기분을 선사해줄  ', \"   , 집에서 더 즐겁게 '홈파티  '\",\n",
       "       '늦여름에 마시기 좋은 레드  ', '    - 치명적 우아함, 부르고뉴(Bourgogne)',\n",
       "       '[ 추천] 소소한 야외 파티에서 즐기기 좋은  ', '   3월  ', '부부의 날을 기념하며 마시기 좋은  ',\n",
       "       '   2월  ', '호캉스에 단 한 병의  을 가지고 간다면?', '   5월  ', '   6월  ',\n",
       "       '   8월  ', '   9월  ', '   10월  ', '   11월  ', '   12월  ',\n",
       "       '   2021년 1월  ', '   4월  ', '폭염이 지속되는 여름밤에 마시고 싶은  ',\n",
       "       '무더운 날 칠링해서 마시기 좋은 레드  은?', '삼계탕과 잘 어울리는  은?',\n",
       "       '봄바람과 함께, 야외에서 즐기는  ', '행사가 많은 5월, 선물이 고민인가요?',\n",
       "       '춘곤증을 날려주는 청량감 넘치는  ', '미세먼지가 심한 날, 홈술 추천  ', '벚꽃 필 무렵엔 이  을!',\n",
       "       '봄날, 지금 썸타는 중이라면?', \" 21's PICK, 카베르네 소비뇽(Cabernet Sauvignon)편\",\n",
       "       '봄을 기다리며 즐기기 좋은  ', '설날 선물을 위한 추천  ', '   , 2021년 ‘소중한  들',\n",
       "       '이제는 버블을 즐길 시간!', '홈스토랑에서 오픈할  은?',\n",
       "       '   , 프리미티보 & 진판델(Primitivo & Zinfandel)', '기분전환을 위한 추천  ',\n",
       "       '찬바람이 불 때는 이  을!', '할로윈을 더 재미있게 만들어줄  ', '차박은 이  과 함께!',\n",
       "       '추석 음식과 함께하기 좋은  ', '가치 있는 선물, 프리미엄  들',\n",
       "       '   , 시라 & 쉬라즈(Syrah & Shiraz)', '올해 말복에는 무슨  을?',\n",
       "       '   , 샴페인(Champagne)', '[ 추천] 무더위에 맞설 이열치열  ',\n",
       "       '[ 추천] 초여름밤 산책 후 즐기고 싶은  ', '[ 추천] 발견의 기쁨,  계의 뉴페이스',\n",
       "       '결혼을 앞둔 이에겐 이  을!', '문화생활과 함께 즐기는  ', '[ 추천] 봄날에 즐기는 로제  ',\n",
       "       \"언제나 부담없이 오픈하기 좋은 '미니  '\", \"'홈술'하기 좋은  \", '마음을 고백할 때 함께하고 싶은  ',\n",
       "       '설 연휴, 고향에 가지고 가고 싶은  ', '2020년, 신년을 여는  ', '한파가 닥친 날엔 이  ',\n",
       "       '겨울 간식에 곁들이기 좋은  ', '   ,  더풀 크리스마스(Wine-derful Christmas)를 위한  !',\n",
       "       '송년 모임엔 이  과 함께!', '첫눈 오는 날 마시고 싶은  ', '마음이 복잡할 때 마시고 싶은 힐링  ',\n",
       "       '가을 여행에 함께하고 싶은  ', '   , 내추럴 & 오렌지  ', '가을 타는 기분일 때 마시기 좋은  ',\n",
       "       '감각적인 재즈 음악과 어울리는  ', '   , 한가위 차례 음식과   페어링', '가성비 좋은 추석 선물  들',\n",
       "       '   , 다채로운 피노 누아', \"   , 드넓은 그르나슈의 세계 '얼마나 놀라운 G'\",\n",
       "       '   , 봄바람처럼 가볍게 즐기는  ', '   ,  계의 팔방미인 로제 ',\n",
       "       '   , 2019년 행복을 부르는  ', '   , 샴페인인 듯 샴페인 아닌 샴페인 같은',\n",
       "       '   , 내가 꽤 어려운 리제르바(Reserva)를 아는 게야!', '   , 한가위 스페셜'],\n",
       "      dtype=object)"
      ]
     },
     "execution_count": 14,
     "metadata": {},
     "output_type": "execute_result"
    }
   ],
   "source": [
    "wine.posting_title.unique()"
   ]
  },
  {
   "cell_type": "code",
   "execution_count": 15,
   "id": "47bc55a5",
   "metadata": {
    "colab": {
     "base_uri": "https://localhost:8080/",
     "height": 202
    },
    "id": "47bc55a5",
    "outputId": "fcc741e0-87f2-4d47-f562-27bd3b1186e6"
   },
   "outputs": [
    {
     "data": {
      "text/html": [
       "<div>\n",
       "<style scoped>\n",
       "    .dataframe tbody tr th:only-of-type {\n",
       "        vertical-align: middle;\n",
       "    }\n",
       "\n",
       "    .dataframe tbody tr th {\n",
       "        vertical-align: top;\n",
       "    }\n",
       "\n",
       "    .dataframe thead th {\n",
       "        text-align: right;\n",
       "    }\n",
       "</style>\n",
       "<table border=\"1\" class=\"dataframe\">\n",
       "  <thead>\n",
       "    <tr style=\"text-align: right;\">\n",
       "      <th></th>\n",
       "      <th>name_ko</th>\n",
       "      <th>type</th>\n",
       "      <th>aroma</th>\n",
       "      <th>maker's_note</th>\n",
       "      <th>tasting_note</th>\n",
       "      <th>posting_title</th>\n",
       "      <th>wine_title</th>\n",
       "      <th>wine_text</th>\n",
       "      <th>hashtag</th>\n",
       "      <th>blog_text</th>\n",
       "    </tr>\n",
       "  </thead>\n",
       "  <tbody>\n",
       "    <tr>\n",
       "      <th>0</th>\n",
       "      <td>더 롱 리틀 독 스파클링</td>\n",
       "      <td>스파클링</td>\n",
       "      <td>복숭아, 살구, 꽃, 흰꽃, 레몬</td>\n",
       "      <td>밝고 맑은 레몬 컬러에 레몬, 살구, 복숭아, 흰꽃의 아로마가 느껴진다. 입 안에서...</td>\n",
       "      <td>nan</td>\n",
       "      <td>nan</td>\n",
       "      <td>NaN</td>\n",
       "      <td>NaN</td>\n",
       "      <td>NaN</td>\n",
       "      <td>WINE\\n더 롱 리틀 독 스파클링 [ The Long Little Dog Spar...</td>\n",
       "    </tr>\n",
       "    <tr>\n",
       "      <th>1</th>\n",
       "      <td>루베롱 블랑</td>\n",
       "      <td>NaN</td>\n",
       "      <td>헤이즐넛, 꽃, 아카시아, 레몬</td>\n",
       "      <td>화사한 노란색을 띠며 레몬, 아카시아 꽃, 헤이즐넛 향이 어우러진다. 입 안에서는 ...</td>\n",
       "      <td>nan</td>\n",
       "      <td>nan</td>\n",
       "      <td>NaN</td>\n",
       "      <td>NaN</td>\n",
       "      <td>NaN</td>\n",
       "      <td>와인이야기\\n[하남 포도내음 와인아울렛/와인샵]와인소개_화이트와인추천_Marreno...</td>\n",
       "    </tr>\n",
       "    <tr>\n",
       "      <th>2</th>\n",
       "      <td>마리 스튜아트, 뀌베 드 라 헨느 브뤼</td>\n",
       "      <td>스파클링</td>\n",
       "      <td>꽃</td>\n",
       "      <td>반짝이는 연한 금빛의 정교한 거품을 지녔으며, 흰 꽃 패션 프루츠, 달콤한 흰 과일...</td>\n",
       "      <td>nan</td>\n",
       "      <td>7월</td>\n",
       "      <td>여왕의 샴페인</td>\n",
       "      <td>1867년 랭스(Reims)에 설립된 마리 스튜아트는 스코틀랜드의 여왕이자 프랑스 ...</td>\n",
       "      <td>NaN</td>\n",
       "      <td>BEST와인추천\\n와인21닷컴이 선정한 7월 이달의 와인\\n와인21 ・ 2021. ...</td>\n",
       "    </tr>\n",
       "    <tr>\n",
       "      <th>3</th>\n",
       "      <td>마스카 델 타코, 로시 피노 네로 로사토</td>\n",
       "      <td>NaN</td>\n",
       "      <td>딸기, 미네랄</td>\n",
       "      <td>밟은 옅은 분홍색에 야생 딸기 젤리 수박과 같은 달콤한 향이 풍부하고 그 뒤로 향신...</td>\n",
       "      <td>nan</td>\n",
       "      <td>nan</td>\n",
       "      <td>NaN</td>\n",
       "      <td>NaN</td>\n",
       "      <td>NaN</td>\n",
       "      <td>이탈리아와인\\nMASCA DEL TACCO [마스카 델 타코] 제이픽와인\\n산타 ・...</td>\n",
       "    </tr>\n",
       "    <tr>\n",
       "      <th>4</th>\n",
       "      <td>비에티, 바르베라 다스티 '트레 비그네'</td>\n",
       "      <td>NaN</td>\n",
       "      <td>체리, 오크</td>\n",
       "      <td>바르베라 다스티의 포도는 라 크레나 포도밭으로 유명한 아스티 언덕주변인 아그리아노 ...</td>\n",
       "      <td>nan</td>\n",
       "      <td>nan</td>\n",
       "      <td>NaN</td>\n",
       "      <td>NaN</td>\n",
       "      <td>NaN</td>\n",
       "      <td>(N) Piemonte\\nVietti, Barbera d'Asti Tre Vigne...</td>\n",
       "    </tr>\n",
       "  </tbody>\n",
       "</table>\n",
       "</div>"
      ],
      "text/plain": [
       "                  name_ko  ...                                          blog_text\n",
       "0           더 롱 리틀 독 스파클링  ...  WINE\\n더 롱 리틀 독 스파클링 [ The Long Little Dog Spar...\n",
       "1                  루베롱 블랑  ...  와인이야기\\n[하남 포도내음 와인아울렛/와인샵]와인소개_화이트와인추천_Marreno...\n",
       "2   마리 스튜아트, 뀌베 드 라 헨느 브뤼  ...  BEST와인추천\\n와인21닷컴이 선정한 7월 이달의 와인\\n와인21 ・ 2021. ...\n",
       "3  마스카 델 타코, 로시 피노 네로 로사토  ...  이탈리아와인\\nMASCA DEL TACCO [마스카 델 타코] 제이픽와인\\n산타 ・...\n",
       "4  비에티, 바르베라 다스티 '트레 비그네'  ...  (N) Piemonte\\nVietti, Barbera d'Asti Tre Vigne...\n",
       "\n",
       "[5 rows x 10 columns]"
      ]
     },
     "execution_count": 15,
     "metadata": {},
     "output_type": "execute_result"
    }
   ],
   "source": [
    "wine.head()"
   ]
  },
  {
   "cell_type": "code",
   "execution_count": 16,
   "id": "b2a65253",
   "metadata": {
    "colab": {
     "base_uri": "https://localhost:8080/"
    },
    "id": "b2a65253",
    "outputId": "86718036-f45a-4ab0-9511-c480eaeaa020"
   },
   "outputs": [
    {
     "name": "stdout",
     "output_type": "stream",
     "text": [
      "<class 'pandas.core.frame.DataFrame'>\n",
      "RangeIndex: 806 entries, 0 to 805\n",
      "Data columns (total 10 columns):\n",
      " #   Column         Non-Null Count  Dtype \n",
      "---  ------         --------------  ----- \n",
      " 0   name_ko        805 non-null    object\n",
      " 1   type           68 non-null     object\n",
      " 2   aroma          321 non-null    object\n",
      " 3   maker's_note   317 non-null    object\n",
      " 4   tasting_note   806 non-null    object\n",
      " 5   posting_title  806 non-null    object\n",
      " 6   wine_title     290 non-null    object\n",
      " 7   wine_text      582 non-null    object\n",
      " 8   hashtag        25 non-null     object\n",
      " 9   blog_text      301 non-null    object\n",
      "dtypes: object(10)\n",
      "memory usage: 63.1+ KB\n"
     ]
    }
   ],
   "source": [
    "wine.info()"
   ]
  },
  {
   "cell_type": "markdown",
   "id": "b38bb4d7",
   "metadata": {
    "id": "b38bb4d7"
   },
   "source": [
    "###### blog_text와 blog_text들을 제외한 모든 열을 합친 새로운 열로 만드는 것이 목표!\n",
    "###### 이 때, null값이 있으면 합치기 어렵기 때문에 null값에 tokenize 할 때 쉽게 제거할 수 있는 의미 없는 값을 넣음"
   ]
  },
  {
   "cell_type": "code",
   "execution_count": 17,
   "id": "fb67f638",
   "metadata": {
    "id": "fb67f638"
   },
   "outputs": [],
   "source": [
    "wine = wine.fillna(\"ok\")"
   ]
  },
  {
   "cell_type": "code",
   "execution_count": 18,
   "id": "79a4501c",
   "metadata": {
    "colab": {
     "base_uri": "https://localhost:8080/",
     "height": 202
    },
    "id": "79a4501c",
    "outputId": "6056ba30-0e98-4638-e054-9047f54faf3c"
   },
   "outputs": [
    {
     "data": {
      "text/html": [
       "<div>\n",
       "<style scoped>\n",
       "    .dataframe tbody tr th:only-of-type {\n",
       "        vertical-align: middle;\n",
       "    }\n",
       "\n",
       "    .dataframe tbody tr th {\n",
       "        vertical-align: top;\n",
       "    }\n",
       "\n",
       "    .dataframe thead th {\n",
       "        text-align: right;\n",
       "    }\n",
       "</style>\n",
       "<table border=\"1\" class=\"dataframe\">\n",
       "  <thead>\n",
       "    <tr style=\"text-align: right;\">\n",
       "      <th></th>\n",
       "      <th>name_ko</th>\n",
       "      <th>type</th>\n",
       "      <th>aroma</th>\n",
       "      <th>maker's_note</th>\n",
       "      <th>tasting_note</th>\n",
       "      <th>posting_title</th>\n",
       "      <th>wine_title</th>\n",
       "      <th>wine_text</th>\n",
       "      <th>hashtag</th>\n",
       "      <th>blog_text</th>\n",
       "    </tr>\n",
       "  </thead>\n",
       "  <tbody>\n",
       "    <tr>\n",
       "      <th>0</th>\n",
       "      <td>더 롱 리틀 독 스파클링</td>\n",
       "      <td>스파클링</td>\n",
       "      <td>복숭아, 살구, 꽃, 흰꽃, 레몬</td>\n",
       "      <td>밝고 맑은 레몬 컬러에 레몬, 살구, 복숭아, 흰꽃의 아로마가 느껴진다. 입 안에서...</td>\n",
       "      <td>nan</td>\n",
       "      <td>nan</td>\n",
       "      <td>ok</td>\n",
       "      <td>ok</td>\n",
       "      <td>ok</td>\n",
       "      <td>WINE\\n더 롱 리틀 독 스파클링 [ The Long Little Dog Spar...</td>\n",
       "    </tr>\n",
       "    <tr>\n",
       "      <th>1</th>\n",
       "      <td>루베롱 블랑</td>\n",
       "      <td>ok</td>\n",
       "      <td>헤이즐넛, 꽃, 아카시아, 레몬</td>\n",
       "      <td>화사한 노란색을 띠며 레몬, 아카시아 꽃, 헤이즐넛 향이 어우러진다. 입 안에서는 ...</td>\n",
       "      <td>nan</td>\n",
       "      <td>nan</td>\n",
       "      <td>ok</td>\n",
       "      <td>ok</td>\n",
       "      <td>ok</td>\n",
       "      <td>와인이야기\\n[하남 포도내음 와인아울렛/와인샵]와인소개_화이트와인추천_Marreno...</td>\n",
       "    </tr>\n",
       "    <tr>\n",
       "      <th>2</th>\n",
       "      <td>마리 스튜아트, 뀌베 드 라 헨느 브뤼</td>\n",
       "      <td>스파클링</td>\n",
       "      <td>꽃</td>\n",
       "      <td>반짝이는 연한 금빛의 정교한 거품을 지녔으며, 흰 꽃 패션 프루츠, 달콤한 흰 과일...</td>\n",
       "      <td>nan</td>\n",
       "      <td>7월</td>\n",
       "      <td>여왕의 샴페인</td>\n",
       "      <td>1867년 랭스(Reims)에 설립된 마리 스튜아트는 스코틀랜드의 여왕이자 프랑스 ...</td>\n",
       "      <td>ok</td>\n",
       "      <td>BEST와인추천\\n와인21닷컴이 선정한 7월 이달의 와인\\n와인21 ・ 2021. ...</td>\n",
       "    </tr>\n",
       "    <tr>\n",
       "      <th>3</th>\n",
       "      <td>마스카 델 타코, 로시 피노 네로 로사토</td>\n",
       "      <td>ok</td>\n",
       "      <td>딸기, 미네랄</td>\n",
       "      <td>밟은 옅은 분홍색에 야생 딸기 젤리 수박과 같은 달콤한 향이 풍부하고 그 뒤로 향신...</td>\n",
       "      <td>nan</td>\n",
       "      <td>nan</td>\n",
       "      <td>ok</td>\n",
       "      <td>ok</td>\n",
       "      <td>ok</td>\n",
       "      <td>이탈리아와인\\nMASCA DEL TACCO [마스카 델 타코] 제이픽와인\\n산타 ・...</td>\n",
       "    </tr>\n",
       "    <tr>\n",
       "      <th>4</th>\n",
       "      <td>비에티, 바르베라 다스티 '트레 비그네'</td>\n",
       "      <td>ok</td>\n",
       "      <td>체리, 오크</td>\n",
       "      <td>바르베라 다스티의 포도는 라 크레나 포도밭으로 유명한 아스티 언덕주변인 아그리아노 ...</td>\n",
       "      <td>nan</td>\n",
       "      <td>nan</td>\n",
       "      <td>ok</td>\n",
       "      <td>ok</td>\n",
       "      <td>ok</td>\n",
       "      <td>(N) Piemonte\\nVietti, Barbera d'Asti Tre Vigne...</td>\n",
       "    </tr>\n",
       "  </tbody>\n",
       "</table>\n",
       "</div>"
      ],
      "text/plain": [
       "                  name_ko  ...                                          blog_text\n",
       "0           더 롱 리틀 독 스파클링  ...  WINE\\n더 롱 리틀 독 스파클링 [ The Long Little Dog Spar...\n",
       "1                  루베롱 블랑  ...  와인이야기\\n[하남 포도내음 와인아울렛/와인샵]와인소개_화이트와인추천_Marreno...\n",
       "2   마리 스튜아트, 뀌베 드 라 헨느 브뤼  ...  BEST와인추천\\n와인21닷컴이 선정한 7월 이달의 와인\\n와인21 ・ 2021. ...\n",
       "3  마스카 델 타코, 로시 피노 네로 로사토  ...  이탈리아와인\\nMASCA DEL TACCO [마스카 델 타코] 제이픽와인\\n산타 ・...\n",
       "4  비에티, 바르베라 다스티 '트레 비그네'  ...  (N) Piemonte\\nVietti, Barbera d'Asti Tre Vigne...\n",
       "\n",
       "[5 rows x 10 columns]"
      ]
     },
     "execution_count": 18,
     "metadata": {},
     "output_type": "execute_result"
    }
   ],
   "source": [
    "wine.head()"
   ]
  },
  {
   "cell_type": "code",
   "execution_count": 19,
   "id": "d4a7af44",
   "metadata": {
    "colab": {
     "base_uri": "https://localhost:8080/"
    },
    "id": "d4a7af44",
    "outputId": "65d9793b-766c-4fd6-8993-ad26dd837012"
   },
   "outputs": [
    {
     "data": {
      "text/plain": [
       "0"
      ]
     },
     "execution_count": 19,
     "metadata": {},
     "output_type": "execute_result"
    }
   ],
   "source": [
    "wine[\"tasting_note\"].isnull().sum()"
   ]
  },
  {
   "cell_type": "markdown",
   "id": "0bffe4a6",
   "metadata": {
    "id": "0bffe4a6"
   },
   "source": [
    "###### 이유는 모르겠으나, fillna로 채워지지 않는 np.nan값은 replace 함수를 써서 대체"
   ]
  },
  {
   "cell_type": "code",
   "execution_count": 20,
   "id": "4a1774fb",
   "metadata": {
    "id": "4a1774fb"
   },
   "outputs": [],
   "source": [
    "wine.replace(\"nan\", \"ok\", inplace=True)"
   ]
  },
  {
   "cell_type": "markdown",
   "id": "f72863ac",
   "metadata": {
    "id": "f72863ac"
   },
   "source": [
    "###### 아래 열들을 합쳐 하나의 열로 만듦"
   ]
  },
  {
   "cell_type": "code",
   "execution_count": 21,
   "id": "705b2970",
   "metadata": {
    "id": "705b2970"
   },
   "outputs": [],
   "source": [
    "wine[\"review\"] = wine[\"type\"] +\".\" + wine[\"aroma\"] +\".\"+ wine[\"maker's_note\"] +\".\"+ wine[\"tasting_note\"] +\".\"+ wine[\"posting_title\"] +\".\"+ wine[\"wine_title\"] +\".\"+ wine[\"wine_text\"] +\".\"+ wine[\"hashtag\"] "
   ]
  },
  {
   "cell_type": "code",
   "execution_count": 22,
   "id": "68b33a35",
   "metadata": {
    "colab": {
     "base_uri": "https://localhost:8080/",
     "height": 285
    },
    "id": "68b33a35",
    "outputId": "47d295ef-dd40-474a-b116-58231e453293"
   },
   "outputs": [
    {
     "data": {
      "text/html": [
       "<div>\n",
       "<style scoped>\n",
       "    .dataframe tbody tr th:only-of-type {\n",
       "        vertical-align: middle;\n",
       "    }\n",
       "\n",
       "    .dataframe tbody tr th {\n",
       "        vertical-align: top;\n",
       "    }\n",
       "\n",
       "    .dataframe thead th {\n",
       "        text-align: right;\n",
       "    }\n",
       "</style>\n",
       "<table border=\"1\" class=\"dataframe\">\n",
       "  <thead>\n",
       "    <tr style=\"text-align: right;\">\n",
       "      <th></th>\n",
       "      <th>name_ko</th>\n",
       "      <th>type</th>\n",
       "      <th>aroma</th>\n",
       "      <th>maker's_note</th>\n",
       "      <th>tasting_note</th>\n",
       "      <th>posting_title</th>\n",
       "      <th>wine_title</th>\n",
       "      <th>wine_text</th>\n",
       "      <th>hashtag</th>\n",
       "      <th>blog_text</th>\n",
       "      <th>review</th>\n",
       "    </tr>\n",
       "  </thead>\n",
       "  <tbody>\n",
       "    <tr>\n",
       "      <th>0</th>\n",
       "      <td>더 롱 리틀 독 스파클링</td>\n",
       "      <td>스파클링</td>\n",
       "      <td>복숭아, 살구, 꽃, 흰꽃, 레몬</td>\n",
       "      <td>밝고 맑은 레몬 컬러에 레몬, 살구, 복숭아, 흰꽃의 아로마가 느껴진다. 입 안에서...</td>\n",
       "      <td>ok</td>\n",
       "      <td>ok</td>\n",
       "      <td>ok</td>\n",
       "      <td>ok</td>\n",
       "      <td>ok</td>\n",
       "      <td>WINE\\n더 롱 리틀 독 스파클링 [ The Long Little Dog Spar...</td>\n",
       "      <td>스파클링.복숭아, 살구, 꽃, 흰꽃, 레몬.밝고 맑은 레몬 컬러에 레몬, 살구, 복...</td>\n",
       "    </tr>\n",
       "    <tr>\n",
       "      <th>1</th>\n",
       "      <td>루베롱 블랑</td>\n",
       "      <td>ok</td>\n",
       "      <td>헤이즐넛, 꽃, 아카시아, 레몬</td>\n",
       "      <td>화사한 노란색을 띠며 레몬, 아카시아 꽃, 헤이즐넛 향이 어우러진다. 입 안에서는 ...</td>\n",
       "      <td>ok</td>\n",
       "      <td>ok</td>\n",
       "      <td>ok</td>\n",
       "      <td>ok</td>\n",
       "      <td>ok</td>\n",
       "      <td>와인이야기\\n[하남 포도내음 와인아울렛/와인샵]와인소개_화이트와인추천_Marreno...</td>\n",
       "      <td>ok.헤이즐넛, 꽃, 아카시아, 레몬.화사한 노란색을 띠며 레몬, 아카시아 꽃, 헤...</td>\n",
       "    </tr>\n",
       "    <tr>\n",
       "      <th>2</th>\n",
       "      <td>마리 스튜아트, 뀌베 드 라 헨느 브뤼</td>\n",
       "      <td>스파클링</td>\n",
       "      <td>꽃</td>\n",
       "      <td>반짝이는 연한 금빛의 정교한 거품을 지녔으며, 흰 꽃 패션 프루츠, 달콤한 흰 과일...</td>\n",
       "      <td>ok</td>\n",
       "      <td>7월</td>\n",
       "      <td>여왕의 샴페인</td>\n",
       "      <td>1867년 랭스(Reims)에 설립된 마리 스튜아트는 스코틀랜드의 여왕이자 프랑스 ...</td>\n",
       "      <td>ok</td>\n",
       "      <td>BEST와인추천\\n와인21닷컴이 선정한 7월 이달의 와인\\n와인21 ・ 2021. ...</td>\n",
       "      <td>스파클링.꽃.반짝이는 연한 금빛의 정교한 거품을 지녔으며, 흰 꽃 패션 프루츠, 달...</td>\n",
       "    </tr>\n",
       "    <tr>\n",
       "      <th>3</th>\n",
       "      <td>마스카 델 타코, 로시 피노 네로 로사토</td>\n",
       "      <td>ok</td>\n",
       "      <td>딸기, 미네랄</td>\n",
       "      <td>밟은 옅은 분홍색에 야생 딸기 젤리 수박과 같은 달콤한 향이 풍부하고 그 뒤로 향신...</td>\n",
       "      <td>ok</td>\n",
       "      <td>ok</td>\n",
       "      <td>ok</td>\n",
       "      <td>ok</td>\n",
       "      <td>ok</td>\n",
       "      <td>이탈리아와인\\nMASCA DEL TACCO [마스카 델 타코] 제이픽와인\\n산타 ・...</td>\n",
       "      <td>ok.딸기, 미네랄.밟은 옅은 분홍색에 야생 딸기 젤리 수박과 같은 달콤한 향이 풍...</td>\n",
       "    </tr>\n",
       "    <tr>\n",
       "      <th>4</th>\n",
       "      <td>비에티, 바르베라 다스티 '트레 비그네'</td>\n",
       "      <td>ok</td>\n",
       "      <td>체리, 오크</td>\n",
       "      <td>바르베라 다스티의 포도는 라 크레나 포도밭으로 유명한 아스티 언덕주변인 아그리아노 ...</td>\n",
       "      <td>ok</td>\n",
       "      <td>ok</td>\n",
       "      <td>ok</td>\n",
       "      <td>ok</td>\n",
       "      <td>ok</td>\n",
       "      <td>(N) Piemonte\\nVietti, Barbera d'Asti Tre Vigne...</td>\n",
       "      <td>ok.체리, 오크.바르베라 다스티의 포도는 라 크레나 포도밭으로 유명한 아스티 언덕...</td>\n",
       "    </tr>\n",
       "  </tbody>\n",
       "</table>\n",
       "</div>"
      ],
      "text/plain": [
       "                  name_ko  ...                                             review\n",
       "0           더 롱 리틀 독 스파클링  ...  스파클링.복숭아, 살구, 꽃, 흰꽃, 레몬.밝고 맑은 레몬 컬러에 레몬, 살구, 복...\n",
       "1                  루베롱 블랑  ...  ok.헤이즐넛, 꽃, 아카시아, 레몬.화사한 노란색을 띠며 레몬, 아카시아 꽃, 헤...\n",
       "2   마리 스튜아트, 뀌베 드 라 헨느 브뤼  ...  스파클링.꽃.반짝이는 연한 금빛의 정교한 거품을 지녔으며, 흰 꽃 패션 프루츠, 달...\n",
       "3  마스카 델 타코, 로시 피노 네로 로사토  ...  ok.딸기, 미네랄.밟은 옅은 분홍색에 야생 딸기 젤리 수박과 같은 달콤한 향이 풍...\n",
       "4  비에티, 바르베라 다스티 '트레 비그네'  ...  ok.체리, 오크.바르베라 다스티의 포도는 라 크레나 포도밭으로 유명한 아스티 언덕...\n",
       "\n",
       "[5 rows x 11 columns]"
      ]
     },
     "execution_count": 22,
     "metadata": {},
     "output_type": "execute_result"
    }
   ],
   "source": [
    "wine.head()"
   ]
  },
  {
   "cell_type": "markdown",
   "id": "5ae3365d",
   "metadata": {
    "id": "5ae3365d"
   },
   "source": [
    "###### 필요없어진 열 삭제"
   ]
  },
  {
   "cell_type": "code",
   "execution_count": 23,
   "id": "74c22749",
   "metadata": {
    "id": "74c22749"
   },
   "outputs": [],
   "source": [
    "del wine[\"type\"]\n",
    "del wine[\"aroma\"]\n",
    "del wine[\"maker's_note\"]\n",
    "del wine[\"tasting_note\"]\n",
    "del wine[\"wine_title\"]\n",
    "del wine[\"wine_text\"]\n",
    "del wine[\"hashtag\"]\n",
    "del wine[\"posting_title\"]"
   ]
  },
  {
   "cell_type": "code",
   "execution_count": 24,
   "id": "fd80905e",
   "metadata": {
    "colab": {
     "base_uri": "https://localhost:8080/",
     "height": 202
    },
    "id": "fd80905e",
    "outputId": "0279d201-0f6f-4c65-e196-1aef3c425607"
   },
   "outputs": [
    {
     "data": {
      "text/html": [
       "<div>\n",
       "<style scoped>\n",
       "    .dataframe tbody tr th:only-of-type {\n",
       "        vertical-align: middle;\n",
       "    }\n",
       "\n",
       "    .dataframe tbody tr th {\n",
       "        vertical-align: top;\n",
       "    }\n",
       "\n",
       "    .dataframe thead th {\n",
       "        text-align: right;\n",
       "    }\n",
       "</style>\n",
       "<table border=\"1\" class=\"dataframe\">\n",
       "  <thead>\n",
       "    <tr style=\"text-align: right;\">\n",
       "      <th></th>\n",
       "      <th>name_ko</th>\n",
       "      <th>blog_text</th>\n",
       "      <th>review</th>\n",
       "    </tr>\n",
       "  </thead>\n",
       "  <tbody>\n",
       "    <tr>\n",
       "      <th>0</th>\n",
       "      <td>더 롱 리틀 독 스파클링</td>\n",
       "      <td>WINE\\n더 롱 리틀 독 스파클링 [ The Long Little Dog Spar...</td>\n",
       "      <td>스파클링.복숭아, 살구, 꽃, 흰꽃, 레몬.밝고 맑은 레몬 컬러에 레몬, 살구, 복...</td>\n",
       "    </tr>\n",
       "    <tr>\n",
       "      <th>1</th>\n",
       "      <td>루베롱 블랑</td>\n",
       "      <td>와인이야기\\n[하남 포도내음 와인아울렛/와인샵]와인소개_화이트와인추천_Marreno...</td>\n",
       "      <td>ok.헤이즐넛, 꽃, 아카시아, 레몬.화사한 노란색을 띠며 레몬, 아카시아 꽃, 헤...</td>\n",
       "    </tr>\n",
       "    <tr>\n",
       "      <th>2</th>\n",
       "      <td>마리 스튜아트, 뀌베 드 라 헨느 브뤼</td>\n",
       "      <td>BEST와인추천\\n와인21닷컴이 선정한 7월 이달의 와인\\n와인21 ・ 2021. ...</td>\n",
       "      <td>스파클링.꽃.반짝이는 연한 금빛의 정교한 거품을 지녔으며, 흰 꽃 패션 프루츠, 달...</td>\n",
       "    </tr>\n",
       "    <tr>\n",
       "      <th>3</th>\n",
       "      <td>마스카 델 타코, 로시 피노 네로 로사토</td>\n",
       "      <td>이탈리아와인\\nMASCA DEL TACCO [마스카 델 타코] 제이픽와인\\n산타 ・...</td>\n",
       "      <td>ok.딸기, 미네랄.밟은 옅은 분홍색에 야생 딸기 젤리 수박과 같은 달콤한 향이 풍...</td>\n",
       "    </tr>\n",
       "    <tr>\n",
       "      <th>4</th>\n",
       "      <td>비에티, 바르베라 다스티 '트레 비그네'</td>\n",
       "      <td>(N) Piemonte\\nVietti, Barbera d'Asti Tre Vigne...</td>\n",
       "      <td>ok.체리, 오크.바르베라 다스티의 포도는 라 크레나 포도밭으로 유명한 아스티 언덕...</td>\n",
       "    </tr>\n",
       "  </tbody>\n",
       "</table>\n",
       "</div>"
      ],
      "text/plain": [
       "                  name_ko  ...                                             review\n",
       "0           더 롱 리틀 독 스파클링  ...  스파클링.복숭아, 살구, 꽃, 흰꽃, 레몬.밝고 맑은 레몬 컬러에 레몬, 살구, 복...\n",
       "1                  루베롱 블랑  ...  ok.헤이즐넛, 꽃, 아카시아, 레몬.화사한 노란색을 띠며 레몬, 아카시아 꽃, 헤...\n",
       "2   마리 스튜아트, 뀌베 드 라 헨느 브뤼  ...  스파클링.꽃.반짝이는 연한 금빛의 정교한 거품을 지녔으며, 흰 꽃 패션 프루츠, 달...\n",
       "3  마스카 델 타코, 로시 피노 네로 로사토  ...  ok.딸기, 미네랄.밟은 옅은 분홍색에 야생 딸기 젤리 수박과 같은 달콤한 향이 풍...\n",
       "4  비에티, 바르베라 다스티 '트레 비그네'  ...  ok.체리, 오크.바르베라 다스티의 포도는 라 크레나 포도밭으로 유명한 아스티 언덕...\n",
       "\n",
       "[5 rows x 3 columns]"
      ]
     },
     "execution_count": 24,
     "metadata": {},
     "output_type": "execute_result"
    }
   ],
   "source": [
    "wine.head()"
   ]
  },
  {
   "cell_type": "markdown",
   "id": "1eefedc3",
   "metadata": {
    "id": "1eefedc3"
   },
   "source": [
    "###### 영어와 기호 의미없는 줄바꿈이 너무 많아 토크나이즈가 제대로 되지 않아, 한글과 숫자 약간의 기호를 제외한 글자들은 모두 삭제함"
   ]
  },
  {
   "cell_type": "code",
   "execution_count": 25,
   "id": "a81e0d5c",
   "metadata": {
    "id": "a81e0d5c"
   },
   "outputs": [],
   "source": [
    "wine[\"blog_text\"] = wine[\"blog_text\"].str.replace(\"[^ㄱ-ㅎㅏ-ㅣ가-힣0-9,.\\s]\",\"\")"
   ]
  },
  {
   "cell_type": "code",
   "execution_count": 26,
   "id": "cbae4a3b",
   "metadata": {
    "id": "cbae4a3b"
   },
   "outputs": [],
   "source": [
    "wine[\"review\"] = wine[\"review\"].str.replace(\"[^ㄱ-ㅎㅏ-ㅣ가-힣0-9.,\\s]\",\"\")"
   ]
  },
  {
   "cell_type": "code",
   "execution_count": 27,
   "id": "1cc81c5d",
   "metadata": {
    "colab": {
     "base_uri": "https://localhost:8080/",
     "height": 202
    },
    "id": "1cc81c5d",
    "outputId": "26264347-54a7-46b3-df51-eb7329a68d6a",
    "scrolled": true
   },
   "outputs": [
    {
     "data": {
      "text/html": [
       "<div>\n",
       "<style scoped>\n",
       "    .dataframe tbody tr th:only-of-type {\n",
       "        vertical-align: middle;\n",
       "    }\n",
       "\n",
       "    .dataframe tbody tr th {\n",
       "        vertical-align: top;\n",
       "    }\n",
       "\n",
       "    .dataframe thead th {\n",
       "        text-align: right;\n",
       "    }\n",
       "</style>\n",
       "<table border=\"1\" class=\"dataframe\">\n",
       "  <thead>\n",
       "    <tr style=\"text-align: right;\">\n",
       "      <th></th>\n",
       "      <th>name_ko</th>\n",
       "      <th>blog_text</th>\n",
       "      <th>review</th>\n",
       "    </tr>\n",
       "  </thead>\n",
       "  <tbody>\n",
       "    <tr>\n",
       "      <th>0</th>\n",
       "      <td>더 롱 리틀 독 스파클링</td>\n",
       "      <td>\\n더 롱 리틀 독 스파클링       \\n소유리  2021. 6. 29. 1549...</td>\n",
       "      <td>스파클링.복숭아, 살구, 꽃, 흰꽃, 레몬.밝고 맑은 레몬 컬러에 레몬, 살구, 복...</td>\n",
       "    </tr>\n",
       "    <tr>\n",
       "      <th>1</th>\n",
       "      <td>루베롱 블랑</td>\n",
       "      <td>와인이야기\\n하남 포도내음 와인아울렛와인샵와인소개화이트와인추천   마레농 클래식 루...</td>\n",
       "      <td>.헤이즐넛, 꽃, 아카시아, 레몬.화사한 노란색을 띠며 레몬, 아카시아 꽃, 헤이즐...</td>\n",
       "    </tr>\n",
       "    <tr>\n",
       "      <th>2</th>\n",
       "      <td>마리 스튜아트, 뀌베 드 라 헨느 브뤼</td>\n",
       "      <td>와인추천\\n와인21닷컴이 선정한 7월 이달의 와인\\n와인21  2021. 7. 1....</td>\n",
       "      <td>스파클링.꽃.반짝이는 연한 금빛의 정교한 거품을 지녔으며, 흰 꽃 패션 프루츠, 달...</td>\n",
       "    </tr>\n",
       "    <tr>\n",
       "      <th>3</th>\n",
       "      <td>마스카 델 타코, 로시 피노 네로 로사토</td>\n",
       "      <td>이탈리아와인\\n   마스카 델 타코 제이픽와인\\n산타  2021. 6. 21. 20...</td>\n",
       "      <td>.딸기, 미네랄.밟은 옅은 분홍색에 야생 딸기 젤리 수박과 같은 달콤한 향이 풍부하...</td>\n",
       "    </tr>\n",
       "    <tr>\n",
       "      <th>4</th>\n",
       "      <td>비에티, 바르베라 다스티 '트레 비그네'</td>\n",
       "      <td>\\n,     2018 비에띠, 바르베라 다스티 트레 비녜 2018\\n데미안  2...</td>\n",
       "      <td>.체리, 오크.바르베라 다스티의 포도는 라 크레나 포도밭으로 유명한 아스티 언덕주변...</td>\n",
       "    </tr>\n",
       "  </tbody>\n",
       "</table>\n",
       "</div>"
      ],
      "text/plain": [
       "                  name_ko  ...                                             review\n",
       "0           더 롱 리틀 독 스파클링  ...  스파클링.복숭아, 살구, 꽃, 흰꽃, 레몬.밝고 맑은 레몬 컬러에 레몬, 살구, 복...\n",
       "1                  루베롱 블랑  ...  .헤이즐넛, 꽃, 아카시아, 레몬.화사한 노란색을 띠며 레몬, 아카시아 꽃, 헤이즐...\n",
       "2   마리 스튜아트, 뀌베 드 라 헨느 브뤼  ...  스파클링.꽃.반짝이는 연한 금빛의 정교한 거품을 지녔으며, 흰 꽃 패션 프루츠, 달...\n",
       "3  마스카 델 타코, 로시 피노 네로 로사토  ...  .딸기, 미네랄.밟은 옅은 분홍색에 야생 딸기 젤리 수박과 같은 달콤한 향이 풍부하...\n",
       "4  비에티, 바르베라 다스티 '트레 비그네'  ...  .체리, 오크.바르베라 다스티의 포도는 라 크레나 포도밭으로 유명한 아스티 언덕주변...\n",
       "\n",
       "[5 rows x 3 columns]"
      ]
     },
     "execution_count": 27,
     "metadata": {},
     "output_type": "execute_result"
    }
   ],
   "source": [
    "wine.head()"
   ]
  },
  {
   "cell_type": "markdown",
   "id": "15d24506",
   "metadata": {
    "id": "15d24506"
   },
   "source": [
    "###### review 열을  토큰화한 뒤 원하는 품사를 가진 단어만 남겨둘 새로운 열 추가"
   ]
  },
  {
   "cell_type": "code",
   "execution_count": 28,
   "id": "72415cd5",
   "metadata": {
    "id": "72415cd5"
   },
   "outputs": [],
   "source": [
    "wine[\"review_token\"] = \" \""
   ]
  },
  {
   "cell_type": "code",
   "execution_count": 29,
   "id": "Bhvwdc2WY1wG",
   "metadata": {
    "id": "Bhvwdc2WY1wG"
   },
   "outputs": [],
   "source": [
    "wine = wine[0:325]"
   ]
  },
  {
   "cell_type": "markdown",
   "id": "4f84a080",
   "metadata": {
    "id": "4f84a080"
   },
   "source": [
    "###### 원하는 품사(의미를 가진 품사)만 새로운 열에 추가함"
   ]
  },
  {
   "cell_type": "code",
   "execution_count": 30,
   "id": "bf901e4f",
   "metadata": {
    "id": "bf901e4f"
   },
   "outputs": [],
   "source": [
    "for i in range(0,325):\n",
    "    pos = okt.pos(wine.review[i])\n",
    "    for j in pos:\n",
    "        if j[1] == \"Adjective\":\n",
    "            wine.review_token[i] = wine.review_token[i] + \" \" + j[0] \n",
    "        if j[1] == \"Noun\":\n",
    "            wine.review_token[i] = wine.review_token[i] + \" \" + j[0] \n",
    "        if j[1] == \"Number\":\n",
    "            wine.review_token[i] = wine.review_token[i] + \" \" + j[0]     \n",
    "        if j[1] == \"Suffix\":\n",
    "            wine.review_token[i] = wine.review_token[i] + \" \" + j[0]\n",
    "        if j[1] == \"Verb\":\n",
    "            wine.review_token[i] = wine.review_token[i] + \" \" + j[0]"
   ]
  },
  {
   "cell_type": "code",
   "execution_count": 31,
   "id": "03427091",
   "metadata": {
    "colab": {
     "base_uri": "https://localhost:8080/",
     "height": 202
    },
    "id": "03427091",
    "outputId": "cd558824-72e0-4c5f-88be-90553ab572ec"
   },
   "outputs": [
    {
     "data": {
      "text/html": [
       "<div>\n",
       "<style scoped>\n",
       "    .dataframe tbody tr th:only-of-type {\n",
       "        vertical-align: middle;\n",
       "    }\n",
       "\n",
       "    .dataframe tbody tr th {\n",
       "        vertical-align: top;\n",
       "    }\n",
       "\n",
       "    .dataframe thead th {\n",
       "        text-align: right;\n",
       "    }\n",
       "</style>\n",
       "<table border=\"1\" class=\"dataframe\">\n",
       "  <thead>\n",
       "    <tr style=\"text-align: right;\">\n",
       "      <th></th>\n",
       "      <th>name_ko</th>\n",
       "      <th>blog_text</th>\n",
       "      <th>review</th>\n",
       "      <th>review_token</th>\n",
       "    </tr>\n",
       "  </thead>\n",
       "  <tbody>\n",
       "    <tr>\n",
       "      <th>0</th>\n",
       "      <td>더 롱 리틀 독 스파클링</td>\n",
       "      <td>\\n더 롱 리틀 독 스파클링       \\n소유리  2021. 6. 29. 1549...</td>\n",
       "      <td>스파클링.복숭아, 살구, 꽃, 흰꽃, 레몬.밝고 맑은 레몬 컬러에 레몬, 살구, 복...</td>\n",
       "      <td>스파클링 복숭아 살구 꽃 흰 꽃 레몬 밝고 맑은 레몬 컬러 레몬 살구 복숭아 흰...</td>\n",
       "    </tr>\n",
       "    <tr>\n",
       "      <th>1</th>\n",
       "      <td>루베롱 블랑</td>\n",
       "      <td>와인이야기\\n하남 포도내음 와인아울렛와인샵와인소개화이트와인추천   마레농 클래식 루...</td>\n",
       "      <td>.헤이즐넛, 꽃, 아카시아, 레몬.화사한 노란색을 띠며 레몬, 아카시아 꽃, 헤이즐...</td>\n",
       "      <td>헤이즐넛 꽃 아카시아 레몬 화사한 노란색 띠 레몬 아카시아 꽃 헤이즐넛 향 어우...</td>\n",
       "    </tr>\n",
       "    <tr>\n",
       "      <th>2</th>\n",
       "      <td>마리 스튜아트, 뀌베 드 라 헨느 브뤼</td>\n",
       "      <td>와인추천\\n와인21닷컴이 선정한 7월 이달의 와인\\n와인21  2021. 7. 1....</td>\n",
       "      <td>스파클링.꽃.반짝이는 연한 금빛의 정교한 거품을 지녔으며, 흰 꽃 패션 프루츠, 달...</td>\n",
       "      <td>스파클링 꽃 반짝이는 연한 금빛 정교한 거품 지녔으며 흰 꽃 패션 프루츠 달콤한...</td>\n",
       "    </tr>\n",
       "    <tr>\n",
       "      <th>3</th>\n",
       "      <td>마스카 델 타코, 로시 피노 네로 로사토</td>\n",
       "      <td>이탈리아와인\\n   마스카 델 타코 제이픽와인\\n산타  2021. 6. 21. 20...</td>\n",
       "      <td>.딸기, 미네랄.밟은 옅은 분홍색에 야생 딸기 젤리 수박과 같은 달콤한 향이 풍부하...</td>\n",
       "      <td>딸기 미네랄 밟은 옅은 분홍색 야생 딸기 젤리 수박 같은 달콤한 향 풍부하고 그...</td>\n",
       "    </tr>\n",
       "    <tr>\n",
       "      <th>4</th>\n",
       "      <td>비에티, 바르베라 다스티 '트레 비그네'</td>\n",
       "      <td>\\n,     2018 비에띠, 바르베라 다스티 트레 비녜 2018\\n데미안  2...</td>\n",
       "      <td>.체리, 오크.바르베라 다스티의 포도는 라 크레나 포도밭으로 유명한 아스티 언덕주변...</td>\n",
       "      <td>체리 오크 바르 베 다스 티 포도 크 레나 포도 밭 유명한 아스티 언덕 주변인 ...</td>\n",
       "    </tr>\n",
       "  </tbody>\n",
       "</table>\n",
       "</div>"
      ],
      "text/plain": [
       "                  name_ko  ...                                       review_token\n",
       "0           더 롱 리틀 독 스파클링  ...    스파클링 복숭아 살구 꽃 흰 꽃 레몬 밝고 맑은 레몬 컬러 레몬 살구 복숭아 흰...\n",
       "1                  루베롱 블랑  ...    헤이즐넛 꽃 아카시아 레몬 화사한 노란색 띠 레몬 아카시아 꽃 헤이즐넛 향 어우...\n",
       "2   마리 스튜아트, 뀌베 드 라 헨느 브뤼  ...    스파클링 꽃 반짝이는 연한 금빛 정교한 거품 지녔으며 흰 꽃 패션 프루츠 달콤한...\n",
       "3  마스카 델 타코, 로시 피노 네로 로사토  ...    딸기 미네랄 밟은 옅은 분홍색 야생 딸기 젤리 수박 같은 달콤한 향 풍부하고 그...\n",
       "4  비에티, 바르베라 다스티 '트레 비그네'  ...    체리 오크 바르 베 다스 티 포도 크 레나 포도 밭 유명한 아스티 언덕 주변인 ...\n",
       "\n",
       "[5 rows x 4 columns]"
      ]
     },
     "execution_count": 31,
     "metadata": {},
     "output_type": "execute_result"
    }
   ],
   "source": [
    "wine.head()"
   ]
  },
  {
   "cell_type": "code",
   "execution_count": 32,
   "id": "aJ64k5O6r91B",
   "metadata": {
    "id": "aJ64k5O6r91B"
   },
   "outputs": [],
   "source": [
    "for i in range(0,325):\n",
    "    wine[\"review_token\"][i] = wine[\"review_token\"][i].strip()"
   ]
  },
  {
   "cell_type": "markdown",
   "id": "30ad2eed",
   "metadata": {},
   "source": [
    "###### 빈도수순으로 단어들이 새롭게 정렬될 열을 만듭니다."
   ]
  },
  {
   "cell_type": "code",
   "execution_count": 33,
   "id": "9c90bc8e",
   "metadata": {
    "id": "9c90bc8e"
   },
   "outputs": [],
   "source": [
    "wine[\"sorted_review_token\"] = \" \""
   ]
  },
  {
   "cell_type": "markdown",
   "id": "b046817e",
   "metadata": {},
   "source": [
    "###### 빈값이 있으면 아래 반복문이 돌아가지 않기 때문에 의미없는 글자로 채워줍니다."
   ]
  },
  {
   "cell_type": "code",
   "execution_count": 34,
   "id": "KD8pAS_erUkx",
   "metadata": {
    "id": "KD8pAS_erUkx"
   },
   "outputs": [],
   "source": [
    "wine['review_token'].replace('', \"이\", inplace=True)"
   ]
  },
  {
   "cell_type": "markdown",
   "id": "0cc0476e",
   "metadata": {},
   "source": [
    "###### 와인 당 개별로 빈도수를 측정해서  Dictionary를 만들고,  중복을 제거하고, 빈도수순으로 새롭게 정렬함."
   ]
  },
  {
   "cell_type": "code",
   "execution_count": 35,
   "id": "2358dba3",
   "metadata": {
    "id": "2358dba3"
   },
   "outputs": [],
   "source": [
    "for n in range(0,325):\n",
    "    \n",
    "    vocab ={}\n",
    "    word_to_index ={}    \n",
    "    word_to_index_reverse = {}\n",
    "    sentence=[]\n",
    "    sentences=[]   \n",
    "    i = 0\n",
    "    \n",
    "    for word in word_tokenize(wine.review_token[n]):\n",
    "         if word not in vocab:\n",
    "            vocab[word] = 0\n",
    "        vocab[word] +=1\n",
    "        \n",
    "         vocab_sorted = sorted(vocab.items(), key=lambda x: x[1], reverse=True)\n",
    "    \n",
    "    for word,frequency in vocab_sorted:\n",
    "         i+=1\n",
    "        word_to_index[word]=i\n",
    "\n",
    "    \n",
    "    for word in word_tokenize(wine.review_token[n]):\n",
    "         if word in word_to_index.keys():\n",
    "                    if word_to_index[word] not in sentence:\n",
    "                          sentence.append(word_to_index[word])\n",
    "        sentence = sorted(sentence)\n",
    "         wine[\"sorted_review_token\"][n] = sentence   \n",
    "       \n",
    "        \n",
    "    word_to_index_reverse = {v:k for k,v in word_to_index.items()}\n",
    "\n",
    "    for number in wine.sorted_review_token[n]:\n",
    "         sentences.append(word_to_index_reverse[number])\n",
    "        wine[\"review_token\"][n] = sentences\n",
    "    "
   ]
  },
  {
   "cell_type": "code",
   "execution_count": 36,
   "id": "logU24TvtZ9d",
   "metadata": {
    "colab": {
     "base_uri": "https://localhost:8080/",
     "height": 202
    },
    "id": "logU24TvtZ9d",
    "outputId": "9b9c1173-a1fa-460c-a0b4-5dd7f48e060e"
   },
   "outputs": [
    {
     "data": {
      "text/html": [
       "<div>\n",
       "<style scoped>\n",
       "    .dataframe tbody tr th:only-of-type {\n",
       "        vertical-align: middle;\n",
       "    }\n",
       "\n",
       "    .dataframe tbody tr th {\n",
       "        vertical-align: top;\n",
       "    }\n",
       "\n",
       "    .dataframe thead th {\n",
       "        text-align: right;\n",
       "    }\n",
       "</style>\n",
       "<table border=\"1\" class=\"dataframe\">\n",
       "  <thead>\n",
       "    <tr style=\"text-align: right;\">\n",
       "      <th></th>\n",
       "      <th>name_ko</th>\n",
       "      <th>blog_text</th>\n",
       "      <th>review</th>\n",
       "      <th>review_token</th>\n",
       "      <th>sorted_review_token</th>\n",
       "    </tr>\n",
       "  </thead>\n",
       "  <tbody>\n",
       "    <tr>\n",
       "      <th>0</th>\n",
       "      <td>더 롱 리틀 독 스파클링</td>\n",
       "      <td>\\n더 롱 리틀 독 스파클링       \\n소유리  2021. 6. 29. 1549...</td>\n",
       "      <td>스파클링.복숭아, 살구, 꽃, 흰꽃, 레몬.밝고 맑은 레몬 컬러에 레몬, 살구, 복...</td>\n",
       "      <td>[꽃, 레몬, 복숭아, 살구, 흰, 아로마, 스파클링, 밝고, 맑은, 컬러, 느껴진...</td>\n",
       "      <td>[1, 2, 3, 4, 5, 6, 7, 8, 9, 10, 11, 12, 13, 14...</td>\n",
       "    </tr>\n",
       "    <tr>\n",
       "      <th>1</th>\n",
       "      <td>루베롱 블랑</td>\n",
       "      <td>와인이야기\\n하남 포도내음 와인아울렛와인샵와인소개화이트와인추천   마레농 클래식 루...</td>\n",
       "      <td>.헤이즐넛, 꽃, 아카시아, 레몬.화사한 노란색을 띠며 레몬, 아카시아 꽃, 헤이즐...</td>\n",
       "      <td>[헤이즐넛, 꽃, 아카시아, 레몬, 화사한, 노란색, 띠, 향, 어우러진다, 입, ...</td>\n",
       "      <td>[1, 2, 3, 4, 5, 6, 7, 8, 9, 10, 11, 12, 13, 14...</td>\n",
       "    </tr>\n",
       "    <tr>\n",
       "      <th>2</th>\n",
       "      <td>마리 스튜아트, 뀌베 드 라 헨느 브뤼</td>\n",
       "      <td>와인추천\\n와인21닷컴이 선정한 7월 이달의 와인\\n와인21  2021. 7. 1....</td>\n",
       "      <td>스파클링.꽃.반짝이는 연한 금빛의 정교한 거품을 지녔으며, 흰 꽃 패션 프루츠, 달...</td>\n",
       "      <td>[샴페인, 피노, 마리, 스튜, 아트, 뀌베, 여왕, 드, 꽃, 정교한, 흰, 있다...</td>\n",
       "      <td>[1, 2, 3, 4, 5, 6, 7, 8, 9, 10, 11, 12, 13, 14...</td>\n",
       "    </tr>\n",
       "    <tr>\n",
       "      <th>3</th>\n",
       "      <td>마스카 델 타코, 로시 피노 네로 로사토</td>\n",
       "      <td>이탈리아와인\\n   마스카 델 타코 제이픽와인\\n산타  2021. 6. 21. 20...</td>\n",
       "      <td>.딸기, 미네랄.밟은 옅은 분홍색에 야생 딸기 젤리 수박과 같은 달콤한 향이 풍부하...</td>\n",
       "      <td>[향, 딸기, 미네랄, 밟은, 옅은, 분홍색, 야생, 젤리, 수박, 같은, 달콤한,...</td>\n",
       "      <td>[1, 2, 3, 4, 5, 6, 7, 8, 9, 10, 11, 12, 13, 14...</td>\n",
       "    </tr>\n",
       "    <tr>\n",
       "      <th>4</th>\n",
       "      <td>비에티, 바르베라 다스티 '트레 비그네'</td>\n",
       "      <td>\\n,     2018 비에띠, 바르베라 다스티 트레 비녜 2018\\n데미안  2...</td>\n",
       "      <td>.체리, 오크.바르베라 다스티의 포도는 라 크레나 포도밭으로 유명한 아스티 언덕주변...</td>\n",
       "      <td>[체리, 오크, 포도, 향, 느껴진다, 바르, 베, 다스, 티, 크, 레나, 밭, ...</td>\n",
       "      <td>[1, 2, 3, 4, 5, 6, 7, 8, 9, 10, 11, 12, 13, 14...</td>\n",
       "    </tr>\n",
       "  </tbody>\n",
       "</table>\n",
       "</div>"
      ],
      "text/plain": [
       "                  name_ko  ...                                sorted_review_token\n",
       "0           더 롱 리틀 독 스파클링  ...  [1, 2, 3, 4, 5, 6, 7, 8, 9, 10, 11, 12, 13, 14...\n",
       "1                  루베롱 블랑  ...  [1, 2, 3, 4, 5, 6, 7, 8, 9, 10, 11, 12, 13, 14...\n",
       "2   마리 스튜아트, 뀌베 드 라 헨느 브뤼  ...  [1, 2, 3, 4, 5, 6, 7, 8, 9, 10, 11, 12, 13, 14...\n",
       "3  마스카 델 타코, 로시 피노 네로 로사토  ...  [1, 2, 3, 4, 5, 6, 7, 8, 9, 10, 11, 12, 13, 14...\n",
       "4  비에티, 바르베라 다스티 '트레 비그네'  ...  [1, 2, 3, 4, 5, 6, 7, 8, 9, 10, 11, 12, 13, 14...\n",
       "\n",
       "[5 rows x 5 columns]"
      ]
     },
     "execution_count": 36,
     "metadata": {},
     "output_type": "execute_result"
    }
   ],
   "source": [
    "wine.head()"
   ]
  },
  {
   "cell_type": "markdown",
   "id": "e6ed4d22",
   "metadata": {
    "id": "e6ed4d22"
   },
   "source": [
    "###### 필요 없어진 열 삭제"
   ]
  },
  {
   "cell_type": "code",
   "execution_count": 37,
   "id": "fea1bd11",
   "metadata": {
    "id": "fea1bd11"
   },
   "outputs": [],
   "source": [
    "del wine[\"review\"]\n",
    "del wine[\"sorted_review_token\"]"
   ]
  },
  {
   "cell_type": "code",
   "execution_count": 38,
   "id": "7ae04e19",
   "metadata": {
    "colab": {
     "base_uri": "https://localhost:8080/",
     "height": 202
    },
    "id": "7ae04e19",
    "outputId": "39cd383c-09bf-483d-d806-6a5fa5a7e269"
   },
   "outputs": [
    {
     "data": {
      "text/html": [
       "<div>\n",
       "<style scoped>\n",
       "    .dataframe tbody tr th:only-of-type {\n",
       "        vertical-align: middle;\n",
       "    }\n",
       "\n",
       "    .dataframe tbody tr th {\n",
       "        vertical-align: top;\n",
       "    }\n",
       "\n",
       "    .dataframe thead th {\n",
       "        text-align: right;\n",
       "    }\n",
       "</style>\n",
       "<table border=\"1\" class=\"dataframe\">\n",
       "  <thead>\n",
       "    <tr style=\"text-align: right;\">\n",
       "      <th></th>\n",
       "      <th>name_ko</th>\n",
       "      <th>blog_text</th>\n",
       "      <th>review_token</th>\n",
       "    </tr>\n",
       "  </thead>\n",
       "  <tbody>\n",
       "    <tr>\n",
       "      <th>0</th>\n",
       "      <td>더 롱 리틀 독 스파클링</td>\n",
       "      <td>\\n더 롱 리틀 독 스파클링       \\n소유리  2021. 6. 29. 1549...</td>\n",
       "      <td>[꽃, 레몬, 복숭아, 살구, 흰, 아로마, 스파클링, 밝고, 맑은, 컬러, 느껴진...</td>\n",
       "    </tr>\n",
       "    <tr>\n",
       "      <th>1</th>\n",
       "      <td>루베롱 블랑</td>\n",
       "      <td>와인이야기\\n하남 포도내음 와인아울렛와인샵와인소개화이트와인추천   마레농 클래식 루...</td>\n",
       "      <td>[헤이즐넛, 꽃, 아카시아, 레몬, 화사한, 노란색, 띠, 향, 어우러진다, 입, ...</td>\n",
       "    </tr>\n",
       "    <tr>\n",
       "      <th>2</th>\n",
       "      <td>마리 스튜아트, 뀌베 드 라 헨느 브뤼</td>\n",
       "      <td>와인추천\\n와인21닷컴이 선정한 7월 이달의 와인\\n와인21  2021. 7. 1....</td>\n",
       "      <td>[샴페인, 피노, 마리, 스튜, 아트, 뀌베, 여왕, 드, 꽃, 정교한, 흰, 있다...</td>\n",
       "    </tr>\n",
       "    <tr>\n",
       "      <th>3</th>\n",
       "      <td>마스카 델 타코, 로시 피노 네로 로사토</td>\n",
       "      <td>이탈리아와인\\n   마스카 델 타코 제이픽와인\\n산타  2021. 6. 21. 20...</td>\n",
       "      <td>[향, 딸기, 미네랄, 밟은, 옅은, 분홍색, 야생, 젤리, 수박, 같은, 달콤한,...</td>\n",
       "    </tr>\n",
       "    <tr>\n",
       "      <th>4</th>\n",
       "      <td>비에티, 바르베라 다스티 '트레 비그네'</td>\n",
       "      <td>\\n,     2018 비에띠, 바르베라 다스티 트레 비녜 2018\\n데미안  2...</td>\n",
       "      <td>[체리, 오크, 포도, 향, 느껴진다, 바르, 베, 다스, 티, 크, 레나, 밭, ...</td>\n",
       "    </tr>\n",
       "  </tbody>\n",
       "</table>\n",
       "</div>"
      ],
      "text/plain": [
       "                  name_ko  ...                                       review_token\n",
       "0           더 롱 리틀 독 스파클링  ...  [꽃, 레몬, 복숭아, 살구, 흰, 아로마, 스파클링, 밝고, 맑은, 컬러, 느껴진...\n",
       "1                  루베롱 블랑  ...  [헤이즐넛, 꽃, 아카시아, 레몬, 화사한, 노란색, 띠, 향, 어우러진다, 입, ...\n",
       "2   마리 스튜아트, 뀌베 드 라 헨느 브뤼  ...  [샴페인, 피노, 마리, 스튜, 아트, 뀌베, 여왕, 드, 꽃, 정교한, 흰, 있다...\n",
       "3  마스카 델 타코, 로시 피노 네로 로사토  ...  [향, 딸기, 미네랄, 밟은, 옅은, 분홍색, 야생, 젤리, 수박, 같은, 달콤한,...\n",
       "4  비에티, 바르베라 다스티 '트레 비그네'  ...  [체리, 오크, 포도, 향, 느껴진다, 바르, 베, 다스, 티, 크, 레나, 밭, ...\n",
       "\n",
       "[5 rows x 3 columns]"
      ]
     },
     "execution_count": 38,
     "metadata": {},
     "output_type": "execute_result"
    }
   ],
   "source": [
    "wine.head()"
   ]
  },
  {
   "cell_type": "markdown",
   "id": "c0308a06",
   "metadata": {
    "id": "c0308a06"
   },
   "source": [
    "###### 위와 마찬가지로 blog_text 열을  토큰화한 뒤 원하는 품사를 가진 단어만 남겨둘 새로운 열 추가"
   ]
  },
  {
   "cell_type": "code",
   "execution_count": 39,
   "id": "9d56d010",
   "metadata": {
    "id": "9d56d010"
   },
   "outputs": [],
   "source": [
    "wine[\"blog_token\"] = \" \""
   ]
  },
  {
   "cell_type": "markdown",
   "id": "8971d090",
   "metadata": {
    "id": "8971d090"
   },
   "source": [
    "###### 원하는 품사(의미를 가진 품사)만 새로운 열에 추가함"
   ]
  },
  {
   "cell_type": "code",
   "execution_count": 40,
   "id": "02267c76",
   "metadata": {
    "id": "02267c76"
   },
   "outputs": [],
   "source": [
    "pos_okt = okt.pos(wine.blog_text[1], norm=True, stem=True)"
   ]
  },
  {
   "cell_type": "code",
   "execution_count": 41,
   "id": "358351d9",
   "metadata": {
    "id": "358351d9"
   },
   "outputs": [],
   "source": [
    "for i in range(0,325):\n",
    "    pos = okt.pos(wine.blog_text[i], norm=True, stem=True)\n",
    "    for j in pos:\n",
    "        if j[1] == \"Verb\":\n",
    "            wine.blog_token[i] = wine.blog_token[i] + \" \" + j[0] \n",
    "        if j[1] == \"Noun\":\n",
    "            wine.blog_token[i] = wine.blog_token[i] + \" \" + j[0] \n",
    "        if j[1] == \"Adjective\":\n",
    "            wine.blog_token[i] = wine.blog_token[i] + \" \" + j[0] "
   ]
  },
  {
   "cell_type": "markdown",
   "id": "b1fa34bc",
   "metadata": {
    "id": "b1fa34bc"
   },
   "source": [
    "###### 단어의 빈도수를 확인하고, 블로그의 특성상 존재하는 관련없는 말, 의미없는 말을 제거하기 위해 빈도수가 3이 넘는 값만 중복을 제거하여 남겨둠"
   ]
  },
  {
   "cell_type": "code",
   "execution_count": 42,
   "id": "fa822291",
   "metadata": {
    "colab": {
     "base_uri": "https://localhost:8080/",
     "height": 202
    },
    "id": "fa822291",
    "outputId": "27c5051a-4b0b-4ef3-9950-8ee0ea7363da"
   },
   "outputs": [
    {
     "data": {
      "text/html": [
       "<div>\n",
       "<style scoped>\n",
       "    .dataframe tbody tr th:only-of-type {\n",
       "        vertical-align: middle;\n",
       "    }\n",
       "\n",
       "    .dataframe tbody tr th {\n",
       "        vertical-align: top;\n",
       "    }\n",
       "\n",
       "    .dataframe thead th {\n",
       "        text-align: right;\n",
       "    }\n",
       "</style>\n",
       "<table border=\"1\" class=\"dataframe\">\n",
       "  <thead>\n",
       "    <tr style=\"text-align: right;\">\n",
       "      <th></th>\n",
       "      <th>name_ko</th>\n",
       "      <th>blog_text</th>\n",
       "      <th>review_token</th>\n",
       "      <th>blog_token</th>\n",
       "    </tr>\n",
       "  </thead>\n",
       "  <tbody>\n",
       "    <tr>\n",
       "      <th>0</th>\n",
       "      <td>더 롱 리틀 독 스파클링</td>\n",
       "      <td>\\n더 롱 리틀 독 스파클링       \\n소유리  2021. 6. 29. 1549...</td>\n",
       "      <td>[꽃, 레몬, 복숭아, 살구, 흰, 아로마, 스파클링, 밝고, 맑은, 컬러, 느껴진...</td>\n",
       "      <td>더 롱 리틀 독 스파클링 소유리 복사 이웃 추가 더 롱 리틀 독 스파클링 단맛 ...</td>\n",
       "    </tr>\n",
       "    <tr>\n",
       "      <th>1</th>\n",
       "      <td>루베롱 블랑</td>\n",
       "      <td>와인이야기\\n하남 포도내음 와인아울렛와인샵와인소개화이트와인추천   마레농 클래식 루...</td>\n",
       "      <td>[헤이즐넛, 꽃, 아카시아, 레몬, 화사한, 노란색, 띠, 향, 어우러진다, 입, ...</td>\n",
       "      <td>와인 이야기 하남 포도 음 와인 아울렛 와인 와인 소개 화이트와인 추천 마레 농...</td>\n",
       "    </tr>\n",
       "    <tr>\n",
       "      <th>2</th>\n",
       "      <td>마리 스튜아트, 뀌베 드 라 헨느 브뤼</td>\n",
       "      <td>와인추천\\n와인21닷컴이 선정한 7월 이달의 와인\\n와인21  2021. 7. 1....</td>\n",
       "      <td>[샴페인, 피노, 마리, 스튜, 아트, 뀌베, 여왕, 드, 꽃, 정교한, 흰, 있다...</td>\n",
       "      <td>와인 추천 와인 컴 선정 달 와인 와인 복사 이웃 추가 조금 늦다 찾아오다 장마...</td>\n",
       "    </tr>\n",
       "    <tr>\n",
       "      <th>3</th>\n",
       "      <td>마스카 델 타코, 로시 피노 네로 로사토</td>\n",
       "      <td>이탈리아와인\\n   마스카 델 타코 제이픽와인\\n산타  2021. 6. 21. 20...</td>\n",
       "      <td>[향, 딸기, 미네랄, 밟은, 옅은, 분홍색, 야생, 젤리, 수박, 같은, 달콤한,...</td>\n",
       "      <td>이탈리아 와인 마 스카 델 타코 제이 픽 와인 산타 복사 이웃 추가 마 스카 델...</td>\n",
       "    </tr>\n",
       "    <tr>\n",
       "      <th>4</th>\n",
       "      <td>비에티, 바르베라 다스티 '트레 비그네'</td>\n",
       "      <td>\\n,     2018 비에띠, 바르베라 다스티 트레 비녜 2018\\n데미안  2...</td>\n",
       "      <td>[체리, 오크, 포도, 향, 느껴진다, 바르, 베, 다스, 티, 크, 레나, 밭, ...</td>\n",
       "      <td>비 띠 바르다 베 다스 티 트레 비녜 데미안 복사 이웃 추가 비 띠 바르다 베 ...</td>\n",
       "    </tr>\n",
       "  </tbody>\n",
       "</table>\n",
       "</div>"
      ],
      "text/plain": [
       "                  name_ko  ...                                         blog_token\n",
       "0           더 롱 리틀 독 스파클링  ...    더 롱 리틀 독 스파클링 소유리 복사 이웃 추가 더 롱 리틀 독 스파클링 단맛 ...\n",
       "1                  루베롱 블랑  ...    와인 이야기 하남 포도 음 와인 아울렛 와인 와인 소개 화이트와인 추천 마레 농...\n",
       "2   마리 스튜아트, 뀌베 드 라 헨느 브뤼  ...    와인 추천 와인 컴 선정 달 와인 와인 복사 이웃 추가 조금 늦다 찾아오다 장마...\n",
       "3  마스카 델 타코, 로시 피노 네로 로사토  ...    이탈리아 와인 마 스카 델 타코 제이 픽 와인 산타 복사 이웃 추가 마 스카 델...\n",
       "4  비에티, 바르베라 다스티 '트레 비그네'  ...    비 띠 바르다 베 다스 티 트레 비녜 데미안 복사 이웃 추가 비 띠 바르다 베 ...\n",
       "\n",
       "[5 rows x 4 columns]"
      ]
     },
     "execution_count": 42,
     "metadata": {},
     "output_type": "execute_result"
    }
   ],
   "source": [
    "wine.head()"
   ]
  },
  {
   "cell_type": "code",
   "execution_count": 43,
   "id": "T81frE0Dujpt",
   "metadata": {
    "id": "T81frE0Dujpt"
   },
   "outputs": [],
   "source": [
    "wine_copy=wine.copy()"
   ]
  },
  {
   "cell_type": "code",
   "execution_count": 44,
   "id": "GAld0cestxsz",
   "metadata": {
    "id": "GAld0cestxsz"
   },
   "outputs": [],
   "source": [
    "for i in range(0,325):\n",
    "  wine_copy[\"blog_token\"][i] = wine_copy[\"blog_token\"][i].strip()"
   ]
  },
  {
   "cell_type": "markdown",
   "id": "07b73a1c",
   "metadata": {},
   "source": [
    "###### 정렬된 인코딩된 단어가 들어갈  새로운 열을 만듦"
   ]
  },
  {
   "cell_type": "code",
   "execution_count": 45,
   "id": "wJwfVtI8txvZ",
   "metadata": {
    "id": "wJwfVtI8txvZ"
   },
   "outputs": [],
   "source": [
    "wine_copy[\"sorted_blog_token\"] = \" \""
   ]
  },
  {
   "cell_type": "markdown",
   "id": "9762ac3d",
   "metadata": {},
   "source": [
    "###### 비어있는 값을 의미없는 말로 대체"
   ]
  },
  {
   "cell_type": "code",
   "execution_count": 46,
   "id": "-rb8FaNptxxq",
   "metadata": {
    "id": "-rb8FaNptxxq"
   },
   "outputs": [],
   "source": [
    "wine_copy['blog_token'].replace('', \"이\", inplace=True)"
   ]
  },
  {
   "cell_type": "markdown",
   "id": "865302cd",
   "metadata": {},
   "source": [
    "###### review와 마찬가지로 와인 당 개별로 빈도수를 측정해서 Dictionary를 만들고, 중복을 제거하고, 빈도수순으로 새롭게 정렬함"
   ]
  },
  {
   "cell_type": "code",
   "execution_count": 47,
   "id": "qhjRfpE-tx0w",
   "metadata": {
    "id": "qhjRfpE-tx0w"
   },
   "outputs": [],
   "source": [
    "for n in range(0,325):\n",
    "    \n",
    "    vocab ={}\n",
    "    word_to_index ={}    \n",
    "    word_to_index_reverse = {}\n",
    "    sentence=[]\n",
    "    sentences=[]   \n",
    "    i = 0\n",
    "    \n",
    "    for word in word_tokenize(wine_copy.blog_token[n]):\n",
    "         if word not in vocab:\n",
    "             vocab[word] = 0\n",
    "         vocab[word] +=1\n",
    "        \n",
    "         vocab_sorted = sorted(vocab.items(), key=lambda x: x[1], reverse=True)\n",
    "    \n",
    "    for word,frequency in vocab_sorted:\n",
    "         i+=1\n",
    "         word_to_index[word]=i\n",
    "\n",
    "    \n",
    "    for word in word_tokenize(wine_copy.blog_token[n]):\n",
    "         if word in word_to_index.keys():\n",
    "             if word_to_index[word] not in sentence:\n",
    "                  sentence.append(word_to_index[word])\n",
    "         sentence = sorted(sentence)\n",
    "         wine_copy[\"sorted_blog_token\"][n] = sentence   \n",
    "       \n",
    "        \n",
    "    word_to_index_reverse = {v:k for k,v in word_to_index.items()}\n",
    "\n",
    "    for number in wine_copy.sorted_blog_token[n]:\n",
    "         sentences.append(word_to_index_reverse[number])\n",
    "         wine_copy[\"blog_token\"][n] = sentences\n"
   ]
  },
  {
   "cell_type": "code",
   "execution_count": 48,
   "id": "G3E5Pvsmtx21",
   "metadata": {
    "colab": {
     "base_uri": "https://localhost:8080/",
     "height": 202
    },
    "id": "G3E5Pvsmtx21",
    "outputId": "2788cf4e-b522-4771-d8a7-6bf9c623c593"
   },
   "outputs": [
    {
     "data": {
      "text/html": [
       "<div>\n",
       "<style scoped>\n",
       "    .dataframe tbody tr th:only-of-type {\n",
       "        vertical-align: middle;\n",
       "    }\n",
       "\n",
       "    .dataframe tbody tr th {\n",
       "        vertical-align: top;\n",
       "    }\n",
       "\n",
       "    .dataframe thead th {\n",
       "        text-align: right;\n",
       "    }\n",
       "</style>\n",
       "<table border=\"1\" class=\"dataframe\">\n",
       "  <thead>\n",
       "    <tr style=\"text-align: right;\">\n",
       "      <th></th>\n",
       "      <th>name_ko</th>\n",
       "      <th>blog_text</th>\n",
       "      <th>review_token</th>\n",
       "      <th>blog_token</th>\n",
       "      <th>sorted_blog_token</th>\n",
       "    </tr>\n",
       "  </thead>\n",
       "  <tbody>\n",
       "    <tr>\n",
       "      <th>0</th>\n",
       "      <td>더 롱 리틀 독 스파클링</td>\n",
       "      <td>\\n더 롱 리틀 독 스파클링       \\n소유리  2021. 6. 29. 1549...</td>\n",
       "      <td>[꽃, 레몬, 복숭아, 살구, 흰, 아로마, 스파클링, 밝고, 맑은, 컬러, 느껴진...</td>\n",
       "      <td>[와인, 하다, 있다, 맛, 것, 더, 독, 같다, 좋다, 느껴지다, 롱, 리틀, ...</td>\n",
       "      <td>[1, 2, 3, 4, 5, 6, 7, 8, 9, 10, 11, 12, 13, 14...</td>\n",
       "    </tr>\n",
       "    <tr>\n",
       "      <th>1</th>\n",
       "      <td>루베롱 블랑</td>\n",
       "      <td>와인이야기\\n하남 포도내음 와인아울렛와인샵와인소개화이트와인추천   마레농 클래식 루...</td>\n",
       "      <td>[헤이즐넛, 꽃, 아카시아, 레몬, 화사한, 노란색, 띠, 향, 어우러진다, 입, ...</td>\n",
       "      <td>[와인, 하다, 있다, 루베, 롱, 블, 포도, 지역, 품종, 이, 이다, 프랑스,...</td>\n",
       "      <td>[1, 2, 3, 4, 5, 6, 7, 8, 9, 10, 11, 12, 13, 14...</td>\n",
       "    </tr>\n",
       "    <tr>\n",
       "      <th>2</th>\n",
       "      <td>마리 스튜아트, 뀌베 드 라 헨느 브뤼</td>\n",
       "      <td>와인추천\\n와인21닷컴이 선정한 7월 이달의 와인\\n와인21  2021. 7. 1....</td>\n",
       "      <td>[샴페인, 피노, 마리, 스튜, 아트, 뀌베, 여왕, 드, 꽃, 정교한, 흰, 있다...</td>\n",
       "      <td>[하다, 오페라, 있다, 되다, 의, 그, 되어다, 와인, 늘다, 오다, 음악, 작...</td>\n",
       "      <td>[1, 2, 3, 4, 5, 6, 7, 8, 9, 10, 11, 12, 13, 14...</td>\n",
       "    </tr>\n",
       "    <tr>\n",
       "      <th>3</th>\n",
       "      <td>마스카 델 타코, 로시 피노 네로 로사토</td>\n",
       "      <td>이탈리아와인\\n   마스카 델 타코 제이픽와인\\n산타  2021. 6. 21. 20...</td>\n",
       "      <td>[향, 딸기, 미네랄, 밟은, 옅은, 분홍색, 야생, 젤리, 수박, 같은, 달콤한,...</td>\n",
       "      <td>[와인, 하다, 마, 스카, 점, 있다, 델, 타코, 품종, 향, 피다, 이탈리아,...</td>\n",
       "      <td>[1, 2, 3, 4, 5, 6, 7, 8, 9, 10, 11, 12, 13, 14...</td>\n",
       "    </tr>\n",
       "    <tr>\n",
       "      <th>4</th>\n",
       "      <td>비에티, 바르베라 다스티 '트레 비그네'</td>\n",
       "      <td>\\n,     2018 비에띠, 바르베라 다스티 트레 비녜 2018\\n데미안  2...</td>\n",
       "      <td>[체리, 오크, 포도, 향, 느껴진다, 바르, 베, 다스, 티, 크, 레나, 밭, ...</td>\n",
       "      <td>[하다, 바르다, 베, 티, 와인, 비, 다스, 있다, 띠, 이다, 말다, 감, 자...</td>\n",
       "      <td>[1, 2, 3, 4, 5, 6, 7, 8, 9, 10, 11, 12, 13, 14...</td>\n",
       "    </tr>\n",
       "  </tbody>\n",
       "</table>\n",
       "</div>"
      ],
      "text/plain": [
       "                  name_ko  ...                                  sorted_blog_token\n",
       "0           더 롱 리틀 독 스파클링  ...  [1, 2, 3, 4, 5, 6, 7, 8, 9, 10, 11, 12, 13, 14...\n",
       "1                  루베롱 블랑  ...  [1, 2, 3, 4, 5, 6, 7, 8, 9, 10, 11, 12, 13, 14...\n",
       "2   마리 스튜아트, 뀌베 드 라 헨느 브뤼  ...  [1, 2, 3, 4, 5, 6, 7, 8, 9, 10, 11, 12, 13, 14...\n",
       "3  마스카 델 타코, 로시 피노 네로 로사토  ...  [1, 2, 3, 4, 5, 6, 7, 8, 9, 10, 11, 12, 13, 14...\n",
       "4  비에티, 바르베라 다스티 '트레 비그네'  ...  [1, 2, 3, 4, 5, 6, 7, 8, 9, 10, 11, 12, 13, 14...\n",
       "\n",
       "[5 rows x 5 columns]"
      ]
     },
     "execution_count": 48,
     "metadata": {},
     "output_type": "execute_result"
    }
   ],
   "source": [
    "wine_copy.head()"
   ]
  },
  {
   "cell_type": "markdown",
   "id": "a6c22ac2",
   "metadata": {},
   "source": [
    "###### 혹시모를일에 대비해 복사본을 만들어둠"
   ]
  },
  {
   "cell_type": "code",
   "execution_count": 49,
   "id": "5nQuB3DCtld9",
   "metadata": {
    "id": "5nQuB3DCtld9"
   },
   "outputs": [],
   "source": [
    "wine = wine_copy.copy()"
   ]
  },
  {
   "cell_type": "markdown",
   "id": "ddafb81e",
   "metadata": {},
   "source": [
    "###### 필요없어진열 삭제"
   ]
  },
  {
   "cell_type": "code",
   "execution_count": 50,
   "id": "a0278892",
   "metadata": {
    "id": "a0278892"
   },
   "outputs": [],
   "source": [
    "del wine[\"blog_text\"]\n",
    "del wine[\"sorted_blog_token\"]"
   ]
  },
  {
   "cell_type": "code",
   "execution_count": 51,
   "id": "pOBJmtLHYOEV",
   "metadata": {
    "colab": {
     "base_uri": "https://localhost:8080/",
     "height": 202
    },
    "id": "pOBJmtLHYOEV",
    "outputId": "25fea975-ff10-4423-b435-6d962e7060e3"
   },
   "outputs": [
    {
     "data": {
      "text/html": [
       "<div>\n",
       "<style scoped>\n",
       "    .dataframe tbody tr th:only-of-type {\n",
       "        vertical-align: middle;\n",
       "    }\n",
       "\n",
       "    .dataframe tbody tr th {\n",
       "        vertical-align: top;\n",
       "    }\n",
       "\n",
       "    .dataframe thead th {\n",
       "        text-align: right;\n",
       "    }\n",
       "</style>\n",
       "<table border=\"1\" class=\"dataframe\">\n",
       "  <thead>\n",
       "    <tr style=\"text-align: right;\">\n",
       "      <th></th>\n",
       "      <th>name_ko</th>\n",
       "      <th>review_token</th>\n",
       "      <th>blog_token</th>\n",
       "    </tr>\n",
       "  </thead>\n",
       "  <tbody>\n",
       "    <tr>\n",
       "      <th>0</th>\n",
       "      <td>더 롱 리틀 독 스파클링</td>\n",
       "      <td>[꽃, 레몬, 복숭아, 살구, 흰, 아로마, 스파클링, 밝고, 맑은, 컬러, 느껴진...</td>\n",
       "      <td>[와인, 하다, 있다, 맛, 것, 더, 독, 같다, 좋다, 느껴지다, 롱, 리틀, ...</td>\n",
       "    </tr>\n",
       "    <tr>\n",
       "      <th>1</th>\n",
       "      <td>루베롱 블랑</td>\n",
       "      <td>[헤이즐넛, 꽃, 아카시아, 레몬, 화사한, 노란색, 띠, 향, 어우러진다, 입, ...</td>\n",
       "      <td>[와인, 하다, 있다, 루베, 롱, 블, 포도, 지역, 품종, 이, 이다, 프랑스,...</td>\n",
       "    </tr>\n",
       "    <tr>\n",
       "      <th>2</th>\n",
       "      <td>마리 스튜아트, 뀌베 드 라 헨느 브뤼</td>\n",
       "      <td>[샴페인, 피노, 마리, 스튜, 아트, 뀌베, 여왕, 드, 꽃, 정교한, 흰, 있다...</td>\n",
       "      <td>[하다, 오페라, 있다, 되다, 의, 그, 되어다, 와인, 늘다, 오다, 음악, 작...</td>\n",
       "    </tr>\n",
       "    <tr>\n",
       "      <th>3</th>\n",
       "      <td>마스카 델 타코, 로시 피노 네로 로사토</td>\n",
       "      <td>[향, 딸기, 미네랄, 밟은, 옅은, 분홍색, 야생, 젤리, 수박, 같은, 달콤한,...</td>\n",
       "      <td>[와인, 하다, 마, 스카, 점, 있다, 델, 타코, 품종, 향, 피다, 이탈리아,...</td>\n",
       "    </tr>\n",
       "    <tr>\n",
       "      <th>4</th>\n",
       "      <td>비에티, 바르베라 다스티 '트레 비그네'</td>\n",
       "      <td>[체리, 오크, 포도, 향, 느껴진다, 바르, 베, 다스, 티, 크, 레나, 밭, ...</td>\n",
       "      <td>[하다, 바르다, 베, 티, 와인, 비, 다스, 있다, 띠, 이다, 말다, 감, 자...</td>\n",
       "    </tr>\n",
       "  </tbody>\n",
       "</table>\n",
       "</div>"
      ],
      "text/plain": [
       "                  name_ko  ...                                         blog_token\n",
       "0           더 롱 리틀 독 스파클링  ...  [와인, 하다, 있다, 맛, 것, 더, 독, 같다, 좋다, 느껴지다, 롱, 리틀, ...\n",
       "1                  루베롱 블랑  ...  [와인, 하다, 있다, 루베, 롱, 블, 포도, 지역, 품종, 이, 이다, 프랑스,...\n",
       "2   마리 스튜아트, 뀌베 드 라 헨느 브뤼  ...  [하다, 오페라, 있다, 되다, 의, 그, 되어다, 와인, 늘다, 오다, 음악, 작...\n",
       "3  마스카 델 타코, 로시 피노 네로 로사토  ...  [와인, 하다, 마, 스카, 점, 있다, 델, 타코, 품종, 향, 피다, 이탈리아,...\n",
       "4  비에티, 바르베라 다스티 '트레 비그네'  ...  [하다, 바르다, 베, 티, 와인, 비, 다스, 있다, 띠, 이다, 말다, 감, 자...\n",
       "\n",
       "[5 rows x 3 columns]"
      ]
     },
     "execution_count": 51,
     "metadata": {},
     "output_type": "execute_result"
    }
   ],
   "source": [
    "wine.head()"
   ]
  },
  {
   "cell_type": "code",
   "execution_count": 52,
   "id": "8TIZE8rhoCJ6",
   "metadata": {
    "id": "8TIZE8rhoCJ6"
   },
   "outputs": [],
   "source": [
    "from nltk.corpus import stopwords"
   ]
  },
  {
   "cell_type": "markdown",
   "id": "cee852c9",
   "metadata": {},
   "source": [
    "###### 자주 등장하지만 의미없는 말을 stopword를 사용하여 약간 걸러냄"
   ]
  },
  {
   "cell_type": "code",
   "execution_count": 53,
   "id": "e9-vWTbvYOGp",
   "metadata": {
    "id": "e9-vWTbvYOGp"
   },
   "outputs": [],
   "source": [
    "review_stop_word = [\"와인\", \"적\", \"있다\", \"잘\", \"수\", \"이\", \"있는\", \"띠\", \"된\", \"등\", \"하는\", \"한다\", \"해\", \"들\", \"안\", \"너리\", \"피노\", \"로\", \"의\", \"하며\",\"미가\", \"후\", \"같은\", \"밭\", \"할\", \"되는\", \"된다\", \"중\", \"월간\", \"이상\", \"를\", \"약간\", \"동안\", \"매우\", \"했다\", \"되었다\", \"통해\", \"뒤\", \"및\", \"있고\", \"입니다\", \"듯\", \"오슈\", \"되고\", \"자\", \"만\", \"페\", \"멘\", \"까\"]"
   ]
  },
  {
   "cell_type": "code",
   "execution_count": 54,
   "id": "cNMlFsdridbo",
   "metadata": {
    "id": "cNMlFsdridbo"
   },
   "outputs": [],
   "source": [
    "blog_stop_word =[\"와인\",\"복사\", \"이웃\", \"추가\", \"하다\", \"있다\", \"되다\", \"이\", \"품종\", \"너리\", \"이다\", \"수\", \"것\", \"점\", \"지역\", \"그\", \"보다\", \"않다\", \"자다\", \"점수\", \"비비다\", \"피다\", \"등\", \"맛\", \"같다\", \"만들다\", \"더\", \"로\", \"누\", \"소비\", \"샴페인\", \"되어다\", \"의\", \"오다\", \"뇽\", \"바\", \"도\", \"입사\", \"밉다\", \"가다\", \"가격\", \"드\", \"느낌\", \"느껴지다\", \"국가\", \"중\" , \"없다\", \"비\", \"받다\", \"리\", \"블\", \"마시다\", \"가장\", \"추가\", \"정도\", \"말다\", \"늘다\", \"끄다\",\"사용\", \"이웃\", \"메다\", \"밭\", \"아니다\", \"때\", \"판매\", \"복사\", \"들다\", \"데\", \"레\", \"먹다\", \"밸리\", \"병\", \"곳\", \"위\", \"높다\", \"를\", \"많다\",\n",
    "\"이름\", \"감\", \"후\", \"재배\", \"샤\",  \"생각\", \"처\", \"음\", \"시작\", \"날\" , \"개\", \"입\", \"트\", \"시라\", \"다른\", \"시간\", \"뒤\", \"전\", \"테이\", \"그렇다\", \"및\",\"스\", \"티\", \"지다\", \"메\", \"싶다\", \"이상\", \"약간\", \"내다\", \"듯\", \"코\", \"쉬라즈\", \"하나\", \"특징\", \"주다\", \"때문\", \"스팅\", \"디\", \"좀\", \"아주\", \"나\", \"바로\", \"위해\", \"알다\", \"테이블\", \"안\", \"빈야드\", \"제\", \"내\", \"풀\", \"나다\", \"자리\", \"슬링\", \"함\",\"론\", \"알\", \"브\", \"또\", \"은\", \"소개\", \"보이다\", \"링\", \"색\", \"이렇다\",  \"베\", \"두\", \"번\", \"제르\", \"이후\", \"포\", \"조금\", \"테\", \"시\", \"해주다\", \"일\", \"르\", \"통\", \"종\", \"정말\", \"저\"]"
   ]
  },
  {
   "cell_type": "markdown",
   "id": "919ba70d",
   "metadata": {},
   "source": [
    "###### 결과값이 들어갈 새로운 행을 만듦"
   ]
  },
  {
   "cell_type": "code",
   "execution_count": 55,
   "id": "nR5t0znaidee",
   "metadata": {
    "id": "nR5t0znaidee"
   },
   "outputs": [],
   "source": [
    "wine[\"blogreview\"] = \" \""
   ]
  },
  {
   "cell_type": "markdown",
   "id": "231bf2b5",
   "metadata": {},
   "source": [
    "###### list를 string으로 변환하기 위한 새로운 열을 만듦"
   ]
  },
  {
   "cell_type": "code",
   "execution_count": 56,
   "id": "QEuqZKcZpOCv",
   "metadata": {
    "id": "QEuqZKcZpOCv"
   },
   "outputs": [],
   "source": [
    "wine[\"review\"] = \" \""
   ]
  },
  {
   "cell_type": "code",
   "execution_count": 58,
   "id": "QDqRmbwlp1Zj",
   "metadata": {
    "id": "QDqRmbwlp1Zj"
   },
   "outputs": [],
   "source": [
    "wine[\"blog\"] = \" \""
   ]
  },
  {
   "cell_type": "markdown",
   "id": "5eb34af3",
   "metadata": {},
   "source": [
    "###### list를 string으로 변환함"
   ]
  },
  {
   "cell_type": "code",
   "execution_count": 57,
   "id": "TZhkz2s9pS97",
   "metadata": {
    "id": "TZhkz2s9pS97"
   },
   "outputs": [],
   "source": [
    "for i in range(0,325):\n",
    "    wine[\"review\"][i] = \" \".join(wine['review_token'][i])"
   ]
  },
  {
   "cell_type": "code",
   "execution_count": 59,
   "id": "GNMxbfj4puHi",
   "metadata": {
    "id": "GNMxbfj4puHi"
   },
   "outputs": [],
   "source": [
    "for i in range(0,325):\n",
    "    wine[\"blog\"][i] = \" \".join(wine['blog_token'][i])"
   ]
  },
  {
   "cell_type": "markdown",
   "id": "092529dd",
   "metadata": {},
   "source": [
    "###### review_text와 blog_text를 합치기 전에 csv파일을 만들어둠"
   ]
  },
  {
   "cell_type": "code",
   "execution_count": 60,
   "id": "hXX-Yt6Pxtb-",
   "metadata": {
    "id": "hXX-Yt6Pxtb-"
   },
   "outputs": [],
   "source": [
    "wine.to_csv(\"wine_tokenizing_review_blog\")"
   ]
  },
  {
   "cell_type": "markdown",
   "id": "faea294a",
   "metadata": {},
   "source": [
    "###### stopword를 제거하고, 좀 더 전문성을 가진 review 데이터에 우선순위를 둬서 중복없이 두개의 열을 합침"
   ]
  },
  {
   "cell_type": "code",
   "execution_count": 61,
   "id": "TjJ6jMAyidiG",
   "metadata": {
    "id": "TjJ6jMAyidiG"
   },
   "outputs": [],
   "source": [
    "for i in range(0,325):  \n",
    "    sentence=[]\n",
    "    for word in word_tokenize(wine.review[i]):\n",
    "         if word not in review_stop_word:\n",
    "                if word not in sentence:\n",
    "                    sentence.append(word)\n",
    "    for word in word_tokenize(wine.blog[i]):\n",
    "         if word not in blog_stop_word:\n",
    "                if word not in sentence:\n",
    "                    sentence.append(word)\n",
    "\n",
    "    wine[\"blogreview\"][i] = sentence"
   ]
  },
  {
   "cell_type": "code",
   "execution_count": 62,
   "id": "JP9v5lA9idos",
   "metadata": {
    "colab": {
     "base_uri": "https://localhost:8080/",
     "height": 302
    },
    "id": "JP9v5lA9idos",
    "outputId": "3d9ce6fb-3f75-40aa-e785-f00ca57ab013"
   },
   "outputs": [
    {
     "data": {
      "text/html": [
       "<div>\n",
       "<style scoped>\n",
       "    .dataframe tbody tr th:only-of-type {\n",
       "        vertical-align: middle;\n",
       "    }\n",
       "\n",
       "    .dataframe tbody tr th {\n",
       "        vertical-align: top;\n",
       "    }\n",
       "\n",
       "    .dataframe thead th {\n",
       "        text-align: right;\n",
       "    }\n",
       "</style>\n",
       "<table border=\"1\" class=\"dataframe\">\n",
       "  <thead>\n",
       "    <tr style=\"text-align: right;\">\n",
       "      <th></th>\n",
       "      <th>name_ko</th>\n",
       "      <th>review_token</th>\n",
       "      <th>blog_token</th>\n",
       "      <th>blogreview</th>\n",
       "      <th>review</th>\n",
       "      <th>blog</th>\n",
       "    </tr>\n",
       "  </thead>\n",
       "  <tbody>\n",
       "    <tr>\n",
       "      <th>0</th>\n",
       "      <td>더 롱 리틀 독 스파클링</td>\n",
       "      <td>[꽃, 레몬, 복숭아, 살구, 흰, 아로마, 스파클링, 밝고, 맑은, 컬러, 느껴진...</td>\n",
       "      <td>[와인, 하다, 있다, 맛, 것, 더, 독, 같다, 좋다, 느껴지다, 롱, 리틀, ...</td>\n",
       "      <td>[꽃, 레몬, 복숭아, 살구, 흰, 아로마, 스파클링, 밝고, 맑은, 컬러, 느껴진...</td>\n",
       "      <td>꽃 레몬 복숭아 살구 흰 아로마 스파클링 밝고 맑은 컬러 느껴진다 입 안 싱그러운 ...</td>\n",
       "      <td>와인 하다 있다 맛 것 더 독 같다 좋다 느껴지다 롱 리틀 가볍다 음식 먹다 말다 ...</td>\n",
       "    </tr>\n",
       "    <tr>\n",
       "      <th>1</th>\n",
       "      <td>루베롱 블랑</td>\n",
       "      <td>[헤이즐넛, 꽃, 아카시아, 레몬, 화사한, 노란색, 띠, 향, 어우러진다, 입, ...</td>\n",
       "      <td>[와인, 하다, 있다, 루베, 롱, 블, 포도, 지역, 품종, 이, 이다, 프랑스,...</td>\n",
       "      <td>[헤이즐넛, 꽃, 아카시아, 레몬, 화사한, 노란색, 향, 어우러진다, 입, 부드럽...</td>\n",
       "      <td>헤이즐넛 꽃 아카시아 레몬 화사한 노란색 띠 향 어우러진다 입 안 부드럽고 섬세한 ...</td>\n",
       "      <td>와인 하다 있다 루베 롱 블 포도 지역 품종 이 이다 프랑스 되다 추천 자다 생산 ...</td>\n",
       "    </tr>\n",
       "    <tr>\n",
       "      <th>2</th>\n",
       "      <td>마리 스튜아트, 뀌베 드 라 헨느 브뤼</td>\n",
       "      <td>[샴페인, 피노, 마리, 스튜, 아트, 뀌베, 여왕, 드, 꽃, 정교한, 흰, 있다...</td>\n",
       "      <td>[하다, 오페라, 있다, 되다, 의, 그, 되어다, 와인, 늘다, 오다, 음악, 작...</td>\n",
       "      <td>[샴페인, 마리, 스튜, 아트, 뀌베, 여왕, 드, 꽃, 정교한, 흰, 우아하고, ...</td>\n",
       "      <td>샴페인 피노 마리 스튜 아트 뀌베 여왕 드 꽃 정교한 흰 있다 우아하고 균형 감 생...</td>\n",
       "      <td>하다 오페라 있다 되다 의 그 되어다 와인 늘다 오다 음악 작품 세기 것 이 를 수...</td>\n",
       "    </tr>\n",
       "    <tr>\n",
       "      <th>3</th>\n",
       "      <td>마스카 델 타코, 로시 피노 네로 로사토</td>\n",
       "      <td>[향, 딸기, 미네랄, 밟은, 옅은, 분홍색, 야생, 젤리, 수박, 같은, 달콤한,...</td>\n",
       "      <td>[와인, 하다, 마, 스카, 점, 있다, 델, 타코, 품종, 향, 피다, 이탈리아,...</td>\n",
       "      <td>[향, 딸기, 미네랄, 밟은, 옅은, 분홍색, 야생, 젤리, 수박, 달콤한, 풍부하...</td>\n",
       "      <td>향 딸기 미네랄 밟은 옅은 분홍색 야생 젤리 수박 같은 달콤한 풍부하고 그 뒤 향신...</td>\n",
       "      <td>와인 하다 마 스카 점 있다 델 타코 품종 향 피다 이탈리아 생산 신선하다 지역 이...</td>\n",
       "    </tr>\n",
       "    <tr>\n",
       "      <th>4</th>\n",
       "      <td>비에티, 바르베라 다스티 '트레 비그네'</td>\n",
       "      <td>[체리, 오크, 포도, 향, 느껴진다, 바르, 베, 다스, 티, 크, 레나, 밭, ...</td>\n",
       "      <td>[하다, 바르다, 베, 티, 와인, 비, 다스, 있다, 띠, 이다, 말다, 감, 자...</td>\n",
       "      <td>[체리, 오크, 포도, 향, 느껴진다, 바르, 베, 다스, 티, 크, 레나, 유명한...</td>\n",
       "      <td>체리 오크 포도 향 느껴진다 바르 베 다스 티 크 레나 밭 유명한 아스티 언덕 주변...</td>\n",
       "      <td>하다 바르다 베 티 와인 비 다스 있다 띠 이다 말다 감 자다 오크 품종 것 추가 ...</td>\n",
       "    </tr>\n",
       "  </tbody>\n",
       "</table>\n",
       "</div>"
      ],
      "text/plain": [
       "                  name_ko  ...                                               blog\n",
       "0           더 롱 리틀 독 스파클링  ...  와인 하다 있다 맛 것 더 독 같다 좋다 느껴지다 롱 리틀 가볍다 음식 먹다 말다 ...\n",
       "1                  루베롱 블랑  ...  와인 하다 있다 루베 롱 블 포도 지역 품종 이 이다 프랑스 되다 추천 자다 생산 ...\n",
       "2   마리 스튜아트, 뀌베 드 라 헨느 브뤼  ...  하다 오페라 있다 되다 의 그 되어다 와인 늘다 오다 음악 작품 세기 것 이 를 수...\n",
       "3  마스카 델 타코, 로시 피노 네로 로사토  ...  와인 하다 마 스카 점 있다 델 타코 품종 향 피다 이탈리아 생산 신선하다 지역 이...\n",
       "4  비에티, 바르베라 다스티 '트레 비그네'  ...  하다 바르다 베 티 와인 비 다스 있다 띠 이다 말다 감 자다 오크 품종 것 추가 ...\n",
       "\n",
       "[5 rows x 6 columns]"
      ]
     },
     "execution_count": 62,
     "metadata": {},
     "output_type": "execute_result"
    }
   ],
   "source": [
    "wine.head()"
   ]
  },
  {
   "cell_type": "markdown",
   "id": "b6fb2252",
   "metadata": {},
   "source": [
    "###### 필요없어진열 삭제"
   ]
  },
  {
   "cell_type": "code",
   "execution_count": 63,
   "id": "8L8r03loidrF",
   "metadata": {
    "id": "8L8r03loidrF"
   },
   "outputs": [],
   "source": [
    "del wine[\"review_token\"]\n",
    "del wine[\"blog_token\"]\n",
    "del wine[\"review\"]\n",
    "del wine[\"blog\"]"
   ]
  },
  {
   "cell_type": "code",
   "execution_count": 64,
   "id": "389a150c",
   "metadata": {
    "colab": {
     "base_uri": "https://localhost:8080/",
     "height": 202
    },
    "id": "389a150c",
    "outputId": "d9845ebe-b66f-4b20-8e9f-7681805b79a7"
   },
   "outputs": [
    {
     "data": {
      "text/html": [
       "<div>\n",
       "<style scoped>\n",
       "    .dataframe tbody tr th:only-of-type {\n",
       "        vertical-align: middle;\n",
       "    }\n",
       "\n",
       "    .dataframe tbody tr th {\n",
       "        vertical-align: top;\n",
       "    }\n",
       "\n",
       "    .dataframe thead th {\n",
       "        text-align: right;\n",
       "    }\n",
       "</style>\n",
       "<table border=\"1\" class=\"dataframe\">\n",
       "  <thead>\n",
       "    <tr style=\"text-align: right;\">\n",
       "      <th></th>\n",
       "      <th>name_ko</th>\n",
       "      <th>blogreview</th>\n",
       "    </tr>\n",
       "  </thead>\n",
       "  <tbody>\n",
       "    <tr>\n",
       "      <th>0</th>\n",
       "      <td>더 롱 리틀 독 스파클링</td>\n",
       "      <td>[꽃, 레몬, 복숭아, 살구, 흰, 아로마, 스파클링, 밝고, 맑은, 컬러, 느껴진...</td>\n",
       "    </tr>\n",
       "    <tr>\n",
       "      <th>1</th>\n",
       "      <td>루베롱 블랑</td>\n",
       "      <td>[헤이즐넛, 꽃, 아카시아, 레몬, 화사한, 노란색, 향, 어우러진다, 입, 부드럽...</td>\n",
       "    </tr>\n",
       "    <tr>\n",
       "      <th>2</th>\n",
       "      <td>마리 스튜아트, 뀌베 드 라 헨느 브뤼</td>\n",
       "      <td>[샴페인, 마리, 스튜, 아트, 뀌베, 여왕, 드, 꽃, 정교한, 흰, 우아하고, ...</td>\n",
       "    </tr>\n",
       "    <tr>\n",
       "      <th>3</th>\n",
       "      <td>마스카 델 타코, 로시 피노 네로 로사토</td>\n",
       "      <td>[향, 딸기, 미네랄, 밟은, 옅은, 분홍색, 야생, 젤리, 수박, 달콤한, 풍부하...</td>\n",
       "    </tr>\n",
       "    <tr>\n",
       "      <th>4</th>\n",
       "      <td>비에티, 바르베라 다스티 '트레 비그네'</td>\n",
       "      <td>[체리, 오크, 포도, 향, 느껴진다, 바르, 베, 다스, 티, 크, 레나, 유명한...</td>\n",
       "    </tr>\n",
       "  </tbody>\n",
       "</table>\n",
       "</div>"
      ],
      "text/plain": [
       "                  name_ko                                         blogreview\n",
       "0           더 롱 리틀 독 스파클링  [꽃, 레몬, 복숭아, 살구, 흰, 아로마, 스파클링, 밝고, 맑은, 컬러, 느껴진...\n",
       "1                  루베롱 블랑  [헤이즐넛, 꽃, 아카시아, 레몬, 화사한, 노란색, 향, 어우러진다, 입, 부드럽...\n",
       "2   마리 스튜아트, 뀌베 드 라 헨느 브뤼  [샴페인, 마리, 스튜, 아트, 뀌베, 여왕, 드, 꽃, 정교한, 흰, 우아하고, ...\n",
       "3  마스카 델 타코, 로시 피노 네로 로사토  [향, 딸기, 미네랄, 밟은, 옅은, 분홍색, 야생, 젤리, 수박, 달콤한, 풍부하...\n",
       "4  비에티, 바르베라 다스티 '트레 비그네'  [체리, 오크, 포도, 향, 느껴진다, 바르, 베, 다스, 티, 크, 레나, 유명한..."
      ]
     },
     "execution_count": 64,
     "metadata": {},
     "output_type": "execute_result"
    }
   ],
   "source": [
    "wine.head()"
   ]
  },
  {
   "cell_type": "markdown",
   "id": "b8da9cc2",
   "metadata": {},
   "source": [
    "###### 결과값을 다음에 더 쉽게 변환할 수 있도록 list에서 string으로 변경"
   ]
  },
  {
   "cell_type": "code",
   "execution_count": 65,
   "id": "9e72e472",
   "metadata": {
    "id": "9e72e472"
   },
   "outputs": [],
   "source": [
    "for i in range(0,325):\n",
    "    wine[\"blogreview\"][i] = \" \".join(wine['blogreview'][i])"
   ]
  },
  {
   "cell_type": "code",
   "execution_count": 66,
   "id": "fb4dac8e",
   "metadata": {
    "colab": {
     "base_uri": "https://localhost:8080/",
     "height": 202
    },
    "id": "fb4dac8e",
    "outputId": "3bfb9cd3-646f-472f-f3df-9febcac359c5"
   },
   "outputs": [
    {
     "data": {
      "text/html": [
       "<div>\n",
       "<style scoped>\n",
       "    .dataframe tbody tr th:only-of-type {\n",
       "        vertical-align: middle;\n",
       "    }\n",
       "\n",
       "    .dataframe tbody tr th {\n",
       "        vertical-align: top;\n",
       "    }\n",
       "\n",
       "    .dataframe thead th {\n",
       "        text-align: right;\n",
       "    }\n",
       "</style>\n",
       "<table border=\"1\" class=\"dataframe\">\n",
       "  <thead>\n",
       "    <tr style=\"text-align: right;\">\n",
       "      <th></th>\n",
       "      <th>name_ko</th>\n",
       "      <th>blogreview</th>\n",
       "    </tr>\n",
       "  </thead>\n",
       "  <tbody>\n",
       "    <tr>\n",
       "      <th>0</th>\n",
       "      <td>더 롱 리틀 독 스파클링</td>\n",
       "      <td>꽃 레몬 복숭아 살구 흰 아로마 스파클링 밝고 맑은 컬러 느껴진다 입 싱그러운 상큼...</td>\n",
       "    </tr>\n",
       "    <tr>\n",
       "      <th>1</th>\n",
       "      <td>루베롱 블랑</td>\n",
       "      <td>헤이즐넛 꽃 아카시아 레몬 화사한 노란색 향 어우러진다 입 부드럽고 섬세한 맛 생기...</td>\n",
       "    </tr>\n",
       "    <tr>\n",
       "      <th>2</th>\n",
       "      <td>마리 스튜아트, 뀌베 드 라 헨느 브뤼</td>\n",
       "      <td>샴페인 마리 스튜 아트 뀌베 여왕 드 꽃 정교한 흰 우아하고 균형 감 생산 누 샤르...</td>\n",
       "    </tr>\n",
       "    <tr>\n",
       "      <th>3</th>\n",
       "      <td>마스카 델 타코, 로시 피노 네로 로사토</td>\n",
       "      <td>향 딸기 미네랄 밟은 옅은 분홍색 야생 젤리 수박 달콤한 풍부하고 그 향신료 광물 ...</td>\n",
       "    </tr>\n",
       "    <tr>\n",
       "      <th>4</th>\n",
       "      <td>비에티, 바르베라 다스티 '트레 비그네'</td>\n",
       "      <td>체리 오크 포도 향 느껴진다 바르 베 다스 티 크 레나 유명한 아스티 언덕 주변인 ...</td>\n",
       "    </tr>\n",
       "  </tbody>\n",
       "</table>\n",
       "</div>"
      ],
      "text/plain": [
       "                  name_ko                                         blogreview\n",
       "0           더 롱 리틀 독 스파클링  꽃 레몬 복숭아 살구 흰 아로마 스파클링 밝고 맑은 컬러 느껴진다 입 싱그러운 상큼...\n",
       "1                  루베롱 블랑  헤이즐넛 꽃 아카시아 레몬 화사한 노란색 향 어우러진다 입 부드럽고 섬세한 맛 생기...\n",
       "2   마리 스튜아트, 뀌베 드 라 헨느 브뤼  샴페인 마리 스튜 아트 뀌베 여왕 드 꽃 정교한 흰 우아하고 균형 감 생산 누 샤르...\n",
       "3  마스카 델 타코, 로시 피노 네로 로사토  향 딸기 미네랄 밟은 옅은 분홍색 야생 젤리 수박 달콤한 풍부하고 그 향신료 광물 ...\n",
       "4  비에티, 바르베라 다스티 '트레 비그네'  체리 오크 포도 향 느껴진다 바르 베 다스 티 크 레나 유명한 아스티 언덕 주변인 ..."
      ]
     },
     "execution_count": 66,
     "metadata": {},
     "output_type": "execute_result"
    }
   ],
   "source": [
    "wine.head()"
   ]
  },
  {
   "cell_type": "markdown",
   "id": "48014d48",
   "metadata": {},
   "source": [
    "###### 결과값을 csv파일로 저장함"
   ]
  },
  {
   "cell_type": "code",
   "execution_count": 67,
   "id": "bffcc5b0",
   "metadata": {
    "id": "bffcc5b0"
   },
   "outputs": [],
   "source": [
    "wine.to_csv(\"wine_tokenizing_final\")"
   ]
  },
  {
   "cell_type": "code",
   "execution_count": null,
   "id": "d7d481c6",
   "metadata": {
    "id": "d7d481c6"
   },
   "outputs": [],
   "source": []
  }
 ],
 "metadata": {
  "colab": {
   "collapsed_sections": [],
   "name": "tokenizing.ipynb",
   "provenance": []
  },
  "kernelspec": {
   "display_name": "Python 3",
   "language": "python",
   "name": "python3"
  },
  "language_info": {
   "codemirror_mode": {
    "name": "ipython",
    "version": 3
   },
   "file_extension": ".py",
   "mimetype": "text/x-python",
   "name": "python",
   "nbconvert_exporter": "python",
   "pygments_lexer": "ipython3",
   "version": "3.8.8"
  }
 },
 "nbformat": 4,
 "nbformat_minor": 5
}
