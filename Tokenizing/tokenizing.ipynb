{
 "cells": [
  {
   "cell_type": "markdown",
   "metadata": {},
   "source": [
    "###  Ybigta 19기 신입기수프로젝트 5조 와인추천시스템 중 Tokenizing부분입니다"
   ]
  },
  {
   "cell_type": "code",
   "execution_count": null,
   "metadata": {},
   "outputs": [],
   "source": [
    "#pip install konlpy"
   ]
  },
  {
   "cell_type": "code",
   "execution_count": 2,
   "metadata": {},
   "outputs": [],
   "source": [
    "import pandas as pd\n",
    "import numpy as np\n",
    "import konlpy\n",
    "from tensorflow.keras.preprocessing.text import Tokenizer\n",
    "from nltk.tokenize import word_tokenize\n",
    "from konlpy.tag import Okt,Kkma\n",
    "okt = Okt()\n",
    "kkma = Kkma()"
   ]
  },
  {
   "cell_type": "code",
   "execution_count": null,
   "metadata": {},
   "outputs": [],
   "source": [
    "from google.colab import drive\n",
    "drive.mount('/content/drive')"
   ]
  },
  {
   "cell_type": "code",
   "execution_count": null,
   "metadata": {},
   "outputs": [],
   "source": [
    "wine = pd.read_csv(\"/content/drive/My Drive/Colab Notebooks/team project/total.csv\")  "
   ]
  },
  {
   "cell_type": "code",
   "execution_count": 3,
   "metadata": {},
   "outputs": [
    {
     "data": {
      "text/html": [
       "<div>\n",
       "<style scoped>\n",
       "    .dataframe tbody tr th:only-of-type {\n",
       "        vertical-align: middle;\n",
       "    }\n",
       "\n",
       "    .dataframe tbody tr th {\n",
       "        vertical-align: top;\n",
       "    }\n",
       "\n",
       "    .dataframe thead th {\n",
       "        text-align: right;\n",
       "    }\n",
       "</style>\n",
       "<table border=\"1\" class=\"dataframe\">\n",
       "  <thead>\n",
       "    <tr style=\"text-align: right;\">\n",
       "      <th></th>\n",
       "      <th>Unnamed: 0</th>\n",
       "      <th>name_ko</th>\n",
       "      <th>name_en</th>\n",
       "      <th>price</th>\n",
       "      <th>type</th>\n",
       "      <th>country</th>\n",
       "      <th>city</th>\n",
       "      <th>aroma</th>\n",
       "      <th>food</th>\n",
       "      <th>rate_expert</th>\n",
       "      <th>...</th>\n",
       "      <th>body</th>\n",
       "      <th>tannin</th>\n",
       "      <th>maker's_note</th>\n",
       "      <th>tasting_note</th>\n",
       "      <th>posting_title</th>\n",
       "      <th>posting_text</th>\n",
       "      <th>wine_title</th>\n",
       "      <th>wine_text</th>\n",
       "      <th>hashtag</th>\n",
       "      <th>blog_text</th>\n",
       "    </tr>\n",
       "  </thead>\n",
       "  <tbody>\n",
       "    <tr>\n",
       "      <th>0</th>\n",
       "      <td>0</td>\n",
       "      <td>더 롱 리틀 독 스파클링</td>\n",
       "      <td>The Long Little Dog Sparkling</td>\n",
       "      <td>30000.0</td>\n",
       "      <td>스파클링</td>\n",
       "      <td>프랑스</td>\n",
       "      <td>랑그독 루씨용</td>\n",
       "      <td>복숭아, 살구, 꽃, 흰꽃, 레몬</td>\n",
       "      <td>리코타, 파스타, 샐러드</td>\n",
       "      <td>-</td>\n",
       "      <td>...</td>\n",
       "      <td>2.0</td>\n",
       "      <td>1.0</td>\n",
       "      <td>밝고 맑은 레몬 컬러에 레몬, 살구, 복숭아, 흰꽃의 아로마가 느껴진다. 입 안에서...</td>\n",
       "      <td>NaN</td>\n",
       "      <td>NaN</td>\n",
       "      <td>NaN</td>\n",
       "      <td>NaN</td>\n",
       "      <td>NaN</td>\n",
       "      <td>NaN</td>\n",
       "      <td>WINE\\n더 롱 리틀 독 스파클링 [ The Long Little Dog Spar...</td>\n",
       "    </tr>\n",
       "    <tr>\n",
       "      <th>1</th>\n",
       "      <td>1</td>\n",
       "      <td>루베롱 블랑</td>\n",
       "      <td>LUBERON BLANC</td>\n",
       "      <td>25000.0</td>\n",
       "      <td>NaN</td>\n",
       "      <td>프랑스</td>\n",
       "      <td>론</td>\n",
       "      <td>헤이즐넛, 꽃, 아카시아, 레몬</td>\n",
       "      <td>NaN</td>\n",
       "      <td>-</td>\n",
       "      <td>...</td>\n",
       "      <td>3.0</td>\n",
       "      <td>1.0</td>\n",
       "      <td>화사한 노란색을 띠며 레몬, 아카시아 꽃, 헤이즐넛 향이 어우러진다. 입 안에서는 ...</td>\n",
       "      <td>NaN</td>\n",
       "      <td>NaN</td>\n",
       "      <td>NaN</td>\n",
       "      <td>NaN</td>\n",
       "      <td>NaN</td>\n",
       "      <td>NaN</td>\n",
       "      <td>와인이야기\\n[하남 포도내음 와인아울렛/와인샵]와인소개_화이트와인추천_Marreno...</td>\n",
       "    </tr>\n",
       "    <tr>\n",
       "      <th>2</th>\n",
       "      <td>2</td>\n",
       "      <td>마리 스튜아트, 뀌베 드 라 헨느 브뤼</td>\n",
       "      <td>Marie Stuart, Cuvee de la Reine Brut</td>\n",
       "      <td>145000.0</td>\n",
       "      <td>스파클링</td>\n",
       "      <td>프랑스</td>\n",
       "      <td>샹파뉴</td>\n",
       "      <td>꽃</td>\n",
       "      <td>아페리티프, 파스타</td>\n",
       "      <td>-</td>\n",
       "      <td>...</td>\n",
       "      <td>3.0</td>\n",
       "      <td>1.0</td>\n",
       "      <td>반짝이는 연한 금빛의 정교한 거품을 지녔으며, 흰 꽃 패션 프루츠, 달콤한 흰 과일...</td>\n",
       "      <td>NaN</td>\n",
       "      <td>와인21닷컴이 선정한 7월 이달의 와인</td>\n",
       "      <td>조금 늦게 찾아온 장마와 무더위가 기다리고 있는 7월. 장마철의 습한 기운을 떨쳐내...</td>\n",
       "      <td>여왕의 샴페인</td>\n",
       "      <td>1867년 랭스(Reims)에 설립된 마리 스튜아트는 스코틀랜드의 여왕이자 프랑스 ...</td>\n",
       "      <td>NaN</td>\n",
       "      <td>BEST와인추천\\n와인21닷컴이 선정한 7월 이달의 와인\\n와인21 ・ 2021. ...</td>\n",
       "    </tr>\n",
       "    <tr>\n",
       "      <th>3</th>\n",
       "      <td>3</td>\n",
       "      <td>마스카 델 타코, 로시 피노 네로 로사토</td>\n",
       "      <td>Masca del Tacco, “ Ro’Si ” Pinot Nero Rosato</td>\n",
       "      <td>38000.0</td>\n",
       "      <td>NaN</td>\n",
       "      <td>이탈리아</td>\n",
       "      <td>뿔리아</td>\n",
       "      <td>딸기, 미네랄</td>\n",
       "      <td>NaN</td>\n",
       "      <td>-</td>\n",
       "      <td>...</td>\n",
       "      <td>2.0</td>\n",
       "      <td>1.0</td>\n",
       "      <td>밟은 옅은 분홍색에 야생 딸기 젤리 수박과 같은 달콤한 향이 풍부하고 그 뒤로 향신...</td>\n",
       "      <td>NaN</td>\n",
       "      <td>NaN</td>\n",
       "      <td>NaN</td>\n",
       "      <td>NaN</td>\n",
       "      <td>NaN</td>\n",
       "      <td>NaN</td>\n",
       "      <td>이탈리아와인\\nMASCA DEL TACCO [마스카 델 타코] 제이픽와인\\n산타 ・...</td>\n",
       "    </tr>\n",
       "    <tr>\n",
       "      <th>4</th>\n",
       "      <td>4</td>\n",
       "      <td>비에티, 바르베라 다스티 '트레 비그네'</td>\n",
       "      <td>Vietti, Barbera d'Asti 'Tre Vigne'</td>\n",
       "      <td>50000.0</td>\n",
       "      <td>NaN</td>\n",
       "      <td>이탈리아</td>\n",
       "      <td>아스티</td>\n",
       "      <td>체리, 오크</td>\n",
       "      <td>NaN</td>\n",
       "      <td>-</td>\n",
       "      <td>...</td>\n",
       "      <td>3.0</td>\n",
       "      <td>4.0</td>\n",
       "      <td>바르베라 다스티의 포도는 라 크레나 포도밭으로 유명한 아스티 언덕주변인 아그리아노 ...</td>\n",
       "      <td>NaN</td>\n",
       "      <td>NaN</td>\n",
       "      <td>NaN</td>\n",
       "      <td>NaN</td>\n",
       "      <td>NaN</td>\n",
       "      <td>NaN</td>\n",
       "      <td>(N) Piemonte\\nVietti, Barbera d'Asti Tre Vigne...</td>\n",
       "    </tr>\n",
       "  </tbody>\n",
       "</table>\n",
       "<p>5 rows × 24 columns</p>\n",
       "</div>"
      ],
      "text/plain": [
       "   Unnamed: 0                 name_ko  \\\n",
       "0           0           더 롱 리틀 독 스파클링   \n",
       "1           1                  루베롱 블랑   \n",
       "2           2   마리 스튜아트, 뀌베 드 라 헨느 브뤼   \n",
       "3           3  마스카 델 타코, 로시 피노 네로 로사토   \n",
       "4           4  비에티, 바르베라 다스티 '트레 비그네'   \n",
       "\n",
       "                                        name_en     price  type country  \\\n",
       "0                 The Long Little Dog Sparkling   30000.0  스파클링     프랑스   \n",
       "1                                 LUBERON BLANC   25000.0   NaN     프랑스   \n",
       "2          Marie Stuart, Cuvee de la Reine Brut  145000.0  스파클링     프랑스   \n",
       "3  Masca del Tacco, “ Ro’Si ” Pinot Nero Rosato   38000.0   NaN    이탈리아   \n",
       "4            Vietti, Barbera d'Asti 'Tre Vigne'   50000.0   NaN    이탈리아   \n",
       "\n",
       "      city               aroma           food rate_expert  ... body tannin  \\\n",
       "0  랑그독 루씨용  복숭아, 살구, 꽃, 흰꽃, 레몬  리코타, 파스타, 샐러드           -  ...  2.0    1.0   \n",
       "1        론   헤이즐넛, 꽃, 아카시아, 레몬            NaN           -  ...  3.0    1.0   \n",
       "2      샹파뉴                   꽃     아페리티프, 파스타           -  ...  3.0    1.0   \n",
       "3      뿔리아             딸기, 미네랄            NaN           -  ...  2.0    1.0   \n",
       "4      아스티              체리, 오크            NaN           -  ...  3.0    4.0   \n",
       "\n",
       "                                        maker's_note  tasting_note  \\\n",
       "0  밝고 맑은 레몬 컬러에 레몬, 살구, 복숭아, 흰꽃의 아로마가 느껴진다. 입 안에서...           NaN   \n",
       "1  화사한 노란색을 띠며 레몬, 아카시아 꽃, 헤이즐넛 향이 어우러진다. 입 안에서는 ...           NaN   \n",
       "2  반짝이는 연한 금빛의 정교한 거품을 지녔으며, 흰 꽃 패션 프루츠, 달콤한 흰 과일...           NaN   \n",
       "3  밟은 옅은 분홍색에 야생 딸기 젤리 수박과 같은 달콤한 향이 풍부하고 그 뒤로 향신...           NaN   \n",
       "4  바르베라 다스티의 포도는 라 크레나 포도밭으로 유명한 아스티 언덕주변인 아그리아노 ...           NaN   \n",
       "\n",
       "           posting_title                                       posting_text  \\\n",
       "0                    NaN                                                NaN   \n",
       "1                    NaN                                                NaN   \n",
       "2  와인21닷컴이 선정한 7월 이달의 와인  조금 늦게 찾아온 장마와 무더위가 기다리고 있는 7월. 장마철의 습한 기운을 떨쳐내...   \n",
       "3                    NaN                                                NaN   \n",
       "4                    NaN                                                NaN   \n",
       "\n",
       "  wine_title                                          wine_text hashtag  \\\n",
       "0        NaN                                                NaN     NaN   \n",
       "1        NaN                                                NaN     NaN   \n",
       "2    여왕의 샴페인  1867년 랭스(Reims)에 설립된 마리 스튜아트는 스코틀랜드의 여왕이자 프랑스 ...     NaN   \n",
       "3        NaN                                                NaN     NaN   \n",
       "4        NaN                                                NaN     NaN   \n",
       "\n",
       "                                           blog_text  \n",
       "0  WINE\\n더 롱 리틀 독 스파클링 [ The Long Little Dog Spar...  \n",
       "1  와인이야기\\n[하남 포도내음 와인아울렛/와인샵]와인소개_화이트와인추천_Marreno...  \n",
       "2  BEST와인추천\\n와인21닷컴이 선정한 7월 이달의 와인\\n와인21 ・ 2021. ...  \n",
       "3  이탈리아와인\\nMASCA DEL TACCO [마스카 델 타코] 제이픽와인\\n산타 ・...  \n",
       "4  (N) Piemonte\\nVietti, Barbera d'Asti Tre Vigne...  \n",
       "\n",
       "[5 rows x 24 columns]"
      ]
     },
     "execution_count": 3,
     "metadata": {},
     "output_type": "execute_result"
    }
   ],
   "source": [
    "wine = pd.read_csv(\"total_.csv\")\n",
    "wine.head()"
   ]
  },
  {
   "cell_type": "code",
   "execution_count": 4,
   "metadata": {},
   "outputs": [
    {
     "name": "stdout",
     "output_type": "stream",
     "text": [
      "<class 'pandas.core.frame.DataFrame'>\n",
      "RangeIndex: 806 entries, 0 to 805\n",
      "Data columns (total 24 columns):\n",
      " #   Column         Non-Null Count  Dtype  \n",
      "---  ------         --------------  -----  \n",
      " 0   Unnamed: 0     806 non-null    int64  \n",
      " 1   name_ko        805 non-null    object \n",
      " 2   name_en        805 non-null    object \n",
      " 3   price          304 non-null    float64\n",
      " 4   type           68 non-null     object \n",
      " 5   country        325 non-null    object \n",
      " 6   city           309 non-null    object \n",
      " 7   aroma          321 non-null    object \n",
      " 8   food           214 non-null    object \n",
      " 9   rate_expert    325 non-null    object \n",
      " 10  rate_consumer  325 non-null    object \n",
      " 11  alcohol        241 non-null    object \n",
      " 12  sugar          325 non-null    float64\n",
      " 13  acidity        325 non-null    float64\n",
      " 14  body           325 non-null    float64\n",
      " 15  tannin         325 non-null    float64\n",
      " 16  maker's_note   317 non-null    object \n",
      " 17  tasting_note   28 non-null     object \n",
      " 18  posting_title  582 non-null    object \n",
      " 19  posting_text   568 non-null    object \n",
      " 20  wine_title     290 non-null    object \n",
      " 21  wine_text      582 non-null    object \n",
      " 22  hashtag        25 non-null     object \n",
      " 23  blog_text      301 non-null    object \n",
      "dtypes: float64(5), int64(1), object(18)\n",
      "memory usage: 151.2+ KB\n"
     ]
    }
   ],
   "source": [
    "wine.info()"
   ]
  },
  {
   "cell_type": "markdown",
   "metadata": {},
   "source": [
    "###### 먼저, 수치형 데이터 보다는 블로그나 기사 등을 통해 특징을 추출하는 것이 목표이기 때문에 해당 열들을 지웠습니다.\n",
    "\n",
    "###### posting_text의 경우, 불필요한 말이 너무 많아 오히려 분석의 성능을 저하시킨다고 판단해 지웠습니다"
   ]
  },
  {
   "cell_type": "code",
   "execution_count": 5,
   "metadata": {},
   "outputs": [],
   "source": [
    "del wine[\"Unnamed: 0\"]\n",
    "del wine[\"name_en\"]\n",
    "del wine[\"price\"]\n",
    "del wine[\"country\"]\n",
    "del wine[\"city\"]\n",
    "del wine[\"rate_expert\"]\n",
    "del wine[\"rate_consumer\"]\n",
    "del wine[\"sugar\"]\n",
    "del wine[\"alcohol\"]\n",
    "del wine[\"acidity\"]\n",
    "del wine[\"tannin\"]\n",
    "del wine[\"posting_text\"]\n",
    "del wine[\"food\"]\n",
    "del wine[\"body\"]"
   ]
  },
  {
   "cell_type": "code",
   "execution_count": 6,
   "metadata": {},
   "outputs": [
    {
     "data": {
      "text/html": [
       "<div>\n",
       "<style scoped>\n",
       "    .dataframe tbody tr th:only-of-type {\n",
       "        vertical-align: middle;\n",
       "    }\n",
       "\n",
       "    .dataframe tbody tr th {\n",
       "        vertical-align: top;\n",
       "    }\n",
       "\n",
       "    .dataframe thead th {\n",
       "        text-align: right;\n",
       "    }\n",
       "</style>\n",
       "<table border=\"1\" class=\"dataframe\">\n",
       "  <thead>\n",
       "    <tr style=\"text-align: right;\">\n",
       "      <th></th>\n",
       "      <th>name_ko</th>\n",
       "      <th>type</th>\n",
       "      <th>aroma</th>\n",
       "      <th>maker's_note</th>\n",
       "      <th>tasting_note</th>\n",
       "      <th>posting_title</th>\n",
       "      <th>wine_title</th>\n",
       "      <th>wine_text</th>\n",
       "      <th>hashtag</th>\n",
       "      <th>blog_text</th>\n",
       "    </tr>\n",
       "  </thead>\n",
       "  <tbody>\n",
       "    <tr>\n",
       "      <th>0</th>\n",
       "      <td>더 롱 리틀 독 스파클링</td>\n",
       "      <td>스파클링</td>\n",
       "      <td>복숭아, 살구, 꽃, 흰꽃, 레몬</td>\n",
       "      <td>밝고 맑은 레몬 컬러에 레몬, 살구, 복숭아, 흰꽃의 아로마가 느껴진다. 입 안에서...</td>\n",
       "      <td>NaN</td>\n",
       "      <td>NaN</td>\n",
       "      <td>NaN</td>\n",
       "      <td>NaN</td>\n",
       "      <td>NaN</td>\n",
       "      <td>WINE\\n더 롱 리틀 독 스파클링 [ The Long Little Dog Spar...</td>\n",
       "    </tr>\n",
       "    <tr>\n",
       "      <th>1</th>\n",
       "      <td>루베롱 블랑</td>\n",
       "      <td>NaN</td>\n",
       "      <td>헤이즐넛, 꽃, 아카시아, 레몬</td>\n",
       "      <td>화사한 노란색을 띠며 레몬, 아카시아 꽃, 헤이즐넛 향이 어우러진다. 입 안에서는 ...</td>\n",
       "      <td>NaN</td>\n",
       "      <td>NaN</td>\n",
       "      <td>NaN</td>\n",
       "      <td>NaN</td>\n",
       "      <td>NaN</td>\n",
       "      <td>와인이야기\\n[하남 포도내음 와인아울렛/와인샵]와인소개_화이트와인추천_Marreno...</td>\n",
       "    </tr>\n",
       "    <tr>\n",
       "      <th>2</th>\n",
       "      <td>마리 스튜아트, 뀌베 드 라 헨느 브뤼</td>\n",
       "      <td>스파클링</td>\n",
       "      <td>꽃</td>\n",
       "      <td>반짝이는 연한 금빛의 정교한 거품을 지녔으며, 흰 꽃 패션 프루츠, 달콤한 흰 과일...</td>\n",
       "      <td>NaN</td>\n",
       "      <td>와인21닷컴이 선정한 7월 이달의 와인</td>\n",
       "      <td>여왕의 샴페인</td>\n",
       "      <td>1867년 랭스(Reims)에 설립된 마리 스튜아트는 스코틀랜드의 여왕이자 프랑스 ...</td>\n",
       "      <td>NaN</td>\n",
       "      <td>BEST와인추천\\n와인21닷컴이 선정한 7월 이달의 와인\\n와인21 ・ 2021. ...</td>\n",
       "    </tr>\n",
       "    <tr>\n",
       "      <th>3</th>\n",
       "      <td>마스카 델 타코, 로시 피노 네로 로사토</td>\n",
       "      <td>NaN</td>\n",
       "      <td>딸기, 미네랄</td>\n",
       "      <td>밟은 옅은 분홍색에 야생 딸기 젤리 수박과 같은 달콤한 향이 풍부하고 그 뒤로 향신...</td>\n",
       "      <td>NaN</td>\n",
       "      <td>NaN</td>\n",
       "      <td>NaN</td>\n",
       "      <td>NaN</td>\n",
       "      <td>NaN</td>\n",
       "      <td>이탈리아와인\\nMASCA DEL TACCO [마스카 델 타코] 제이픽와인\\n산타 ・...</td>\n",
       "    </tr>\n",
       "    <tr>\n",
       "      <th>4</th>\n",
       "      <td>비에티, 바르베라 다스티 '트레 비그네'</td>\n",
       "      <td>NaN</td>\n",
       "      <td>체리, 오크</td>\n",
       "      <td>바르베라 다스티의 포도는 라 크레나 포도밭으로 유명한 아스티 언덕주변인 아그리아노 ...</td>\n",
       "      <td>NaN</td>\n",
       "      <td>NaN</td>\n",
       "      <td>NaN</td>\n",
       "      <td>NaN</td>\n",
       "      <td>NaN</td>\n",
       "      <td>(N) Piemonte\\nVietti, Barbera d'Asti Tre Vigne...</td>\n",
       "    </tr>\n",
       "  </tbody>\n",
       "</table>\n",
       "</div>"
      ],
      "text/plain": [
       "                  name_ko  type               aroma  \\\n",
       "0           더 롱 리틀 독 스파클링  스파클링  복숭아, 살구, 꽃, 흰꽃, 레몬   \n",
       "1                  루베롱 블랑   NaN   헤이즐넛, 꽃, 아카시아, 레몬   \n",
       "2   마리 스튜아트, 뀌베 드 라 헨느 브뤼  스파클링                   꽃   \n",
       "3  마스카 델 타코, 로시 피노 네로 로사토   NaN             딸기, 미네랄   \n",
       "4  비에티, 바르베라 다스티 '트레 비그네'   NaN              체리, 오크   \n",
       "\n",
       "                                        maker's_note tasting_note  \\\n",
       "0  밝고 맑은 레몬 컬러에 레몬, 살구, 복숭아, 흰꽃의 아로마가 느껴진다. 입 안에서...          NaN   \n",
       "1  화사한 노란색을 띠며 레몬, 아카시아 꽃, 헤이즐넛 향이 어우러진다. 입 안에서는 ...          NaN   \n",
       "2  반짝이는 연한 금빛의 정교한 거품을 지녔으며, 흰 꽃 패션 프루츠, 달콤한 흰 과일...          NaN   \n",
       "3  밟은 옅은 분홍색에 야생 딸기 젤리 수박과 같은 달콤한 향이 풍부하고 그 뒤로 향신...          NaN   \n",
       "4  바르베라 다스티의 포도는 라 크레나 포도밭으로 유명한 아스티 언덕주변인 아그리아노 ...          NaN   \n",
       "\n",
       "           posting_title wine_title  \\\n",
       "0                    NaN        NaN   \n",
       "1                    NaN        NaN   \n",
       "2  와인21닷컴이 선정한 7월 이달의 와인    여왕의 샴페인   \n",
       "3                    NaN        NaN   \n",
       "4                    NaN        NaN   \n",
       "\n",
       "                                           wine_text hashtag  \\\n",
       "0                                                NaN     NaN   \n",
       "1                                                NaN     NaN   \n",
       "2  1867년 랭스(Reims)에 설립된 마리 스튜아트는 스코틀랜드의 여왕이자 프랑스 ...     NaN   \n",
       "3                                                NaN     NaN   \n",
       "4                                                NaN     NaN   \n",
       "\n",
       "                                           blog_text  \n",
       "0  WINE\\n더 롱 리틀 독 스파클링 [ The Long Little Dog Spar...  \n",
       "1  와인이야기\\n[하남 포도내음 와인아울렛/와인샵]와인소개_화이트와인추천_Marreno...  \n",
       "2  BEST와인추천\\n와인21닷컴이 선정한 7월 이달의 와인\\n와인21 ・ 2021. ...  \n",
       "3  이탈리아와인\\nMASCA DEL TACCO [마스카 델 타코] 제이픽와인\\n산타 ・...  \n",
       "4  (N) Piemonte\\nVietti, Barbera d'Asti Tre Vigne...  "
      ]
     },
     "execution_count": 6,
     "metadata": {},
     "output_type": "execute_result"
    }
   ],
   "source": [
    "wine.head()"
   ]
  },
  {
   "cell_type": "markdown",
   "metadata": {},
   "source": [
    "###### 분석의 성능을 위해 반복되는 불필요한 어구들을 정규표현식을 사용해 지웠습니다. (기자이름, 기사를 쓴 날, 평점 등)"
   ]
  },
  {
   "cell_type": "code",
   "execution_count": 7,
   "metadata": {},
   "outputs": [],
   "source": [
    "import re"
   ]
  },
  {
   "cell_type": "code",
   "execution_count": 8,
   "metadata": {
    "scrolled": false
   },
   "outputs": [],
   "source": [
    "for i  in range(0, 806):\n",
    "    wine.tasting_note[i] = re.sub(\"\\n.{1,}\\n[0-9]{4}[.][0-9]{2}[.][0-9]{2}\\n[A-Z0-9]{2,}\\s빈티지\\n[0-9][.][0-9]\",\" \", str(wine.tasting_note[i]))"
   ]
  },
  {
   "cell_type": "code",
   "execution_count": 9,
   "metadata": {},
   "outputs": [
    {
     "data": {
      "text/plain": [
       "array([nan, '와인21닷컴이 선정한 7월 이달의 와인', '와인21추천 BEST OF BEST, 선물하기 좋은 와인',\n",
       "       '올해 밸런타인데이에 함께할 와인!', '졸업 시즌의 축하주, 스파클링 와인',\n",
       "       '와인21추천 BEST OF BEST, 꼭 한번 마셔볼만한 마트 와인', '초여름밤, 설레는 기분을 선사해줄 와인',\n",
       "       \"와인21추천 BEST OF BEST, 집에서 더 즐겁게 '홈파티 와인'\", '늦여름에 마시기 좋은 레드 와인',\n",
       "       '와인21추천 BEST OF BEST - 치명적 우아함, 부르고뉴(Bourgogne)',\n",
       "       '[와인추천] 소소한 야외 파티에서 즐기기 좋은 와인', '와인21닷컴이 선정한 3월 이달의 와인',\n",
       "       '부부의 날을 기념하며 마시기 좋은 와인', '와인21닷컴이 선정한 2월 이달의 와인',\n",
       "       '호캉스에 단 한 병의 와인을 가지고 간다면?', '와인21닷컴이 선정한 5월 이달의 와인',\n",
       "       '와인21닷컴이 선정한 6월 이달의 와인', '와인21닷컴이 선정한 8월 이달의 와인',\n",
       "       '와인21닷컴이 선정한 9월 이달의 와인', '와인21닷컴이 선정한 10월 이달의 와인',\n",
       "       '와인21닷컴이 선정한 11월 이달의 와인', '와인21닷컴이 선정한 12월 이달의 와인',\n",
       "       '와인21닷컴이 선정한 2021년 1월 이달의 와인', '와인21닷컴이 선정한 4월 이달의 와인',\n",
       "       '폭염이 지속되는 여름밤에 마시고 싶은 와인', '무더운 날 칠링해서 마시기 좋은 레드 와인은?',\n",
       "       '삼계탕과 잘 어울리는 와인은?', '봄바람과 함께, 야외에서 즐기는 와인',\n",
       "       '행사가 많은 5월, 선물이 고민인가요?', '춘곤증을 날려주는 청량감 넘치는 와인',\n",
       "       '미세먼지가 심한 날, 홈술 추천 와인', '벚꽃 필 무렵엔 이 와인을!', '봄날, 지금 썸타는 중이라면?',\n",
       "       \"와인21's PICK, 카베르네 소비뇽(Cabernet Sauvignon)편\", '봄을 기다리며 즐기기 좋은 와인',\n",
       "       '설날 선물을 위한 추천 와인', '와인21추천 BEST OF BEST, 2021년 ‘소중한 와인들',\n",
       "       '이제는 버블을 즐길 시간!', '홈스토랑에서 오픈할 와인은?',\n",
       "       '와인21추천 BEST OF BEST, 프리미티보 & 진판델(Primitivo & Zinfandel)',\n",
       "       '기분전환을 위한 추천 와인', '찬바람이 불 때는 이 와인을!', '할로윈을 더 재미있게 만들어줄 와인',\n",
       "       '차박은 이 와인과 함께!', '추석 음식과 함께하기 좋은 와인', '가치 있는 선물, 프리미엄 와인들',\n",
       "       '와인21추천 BEST OF BEST, 시라 & 쉬라즈(Syrah & Shiraz)', '올해 말복에는 무슨 와인을?',\n",
       "       '와인21추천 BEST OF BEST, 샴페인(Champagne)', '[와인추천] 무더위에 맞설 이열치열 와인',\n",
       "       '[와인추천] 초여름밤 산책 후 즐기고 싶은 와인', '[와인추천] 발견의 기쁨, 와인계의 뉴페이스',\n",
       "       '결혼을 앞둔 이에겐 이 와인을!', '문화생활과 함께 즐기는 와인', '[와인추천] 봄날에 즐기는 로제 와인',\n",
       "       \"언제나 부담없이 오픈하기 좋은 '미니 와인'\", \"'홈술'하기 좋은 와인\", '마음을 고백할 때 함께하고 싶은 와인',\n",
       "       '설 연휴, 고향에 가지고 가고 싶은 와인', '2020년, 신년을 여는 와인', '한파가 닥친 날엔 이 와인',\n",
       "       '겨울 간식에 곁들이기 좋은 와인',\n",
       "       '와인21추천 BEST OF BEST, 와인더풀 크리스마스(Wine-derful Christmas)를 위한 와인!',\n",
       "       '송년 모임엔 이 와인과 함께!', '첫눈 오는 날 마시고 싶은 와인', '마음이 복잡할 때 마시고 싶은 힐링 와인',\n",
       "       '가을 여행에 함께하고 싶은 와인', '와인21추천 BEST OF BEST, 내추럴 & 오렌지 와인',\n",
       "       '가을 타는 기분일 때 마시기 좋은 와인', '감각적인 재즈 음악과 어울리는 와인',\n",
       "       '와인21추천 BEST OF BEST, 한가위 차례 음식과 와인 페어링', '가성비 좋은 추석 선물 와인들',\n",
       "       '와인21추천 BEST OF BEST, 다채로운 피노 누아',\n",
       "       \"와인21추천 BEST OF BEST, 드넓은 그르나슈의 세계 '얼마나 놀라운 G'\",\n",
       "       '와인21추천 BEST OF BEST, 봄바람처럼 가볍게 즐기는 와인',\n",
       "       '와인21추천 BEST OF BEST, 와인계의 팔방미인 로제와인',\n",
       "       '와인21추천 BEST OF BEST, 2019년 행복을 부르는 와인',\n",
       "       '와인21추천 BEST OF BEST, 샴페인인 듯 샴페인 아닌 샴페인 같은',\n",
       "       '와인21추천 BEST OF BEST, 내가 꽤 어려운 리제르바(Reserva)를 아는 게야!',\n",
       "       '와인21추천 BEST OF BEST, 한가위 스페셜'], dtype=object)"
      ]
     },
     "execution_count": 9,
     "metadata": {},
     "output_type": "execute_result"
    }
   ],
   "source": [
    "wine.posting_title.unique()"
   ]
  },
  {
   "cell_type": "code",
   "execution_count": 10,
   "metadata": {},
   "outputs": [],
   "source": [
    "for i  in range(0, 806):\n",
    "    wine.posting_title[i] = re.sub(\"와인21추천\",\" \", str(wine.posting_title[i]))\n",
    "    wine.posting_title[i] = re.sub(\"이달의 와인\",\" \", str(wine.posting_title[i]))\n",
    "    wine.posting_title[i] = re.sub(\"BEST OF BEST\",\" \", str(wine.posting_title[i]))    \n",
    "    wine.posting_title[i] = re.sub(\"와인\",\" \", str(wine.posting_title[i]))    \n",
    "    wine.posting_title[i] = re.sub(\"21닷컴이 선정한\",\" \", str(wine.posting_title[i]))        "
   ]
  },
  {
   "cell_type": "markdown",
   "metadata": {},
   "source": [
    "###### 불필요하다고 판단된 어구들이 지워진 이후 unique 값들을 확인해보았습니다"
   ]
  },
  {
   "cell_type": "code",
   "execution_count": 11,
   "metadata": {
    "scrolled": true
   },
   "outputs": [
    {
     "data": {
      "text/plain": [
       "array(['nan', ' \\n세인트 넘 조아요~~~~\\n\\n굿뜨베리...', '  \\n샤도네이를 좋아하게 해준 와인',\n",
       "       ' \\n양고기 허브솔트와 마리아주',\n",
       "       ' \\n오픈직후 피어오르는 잘익은 과실향이 인상적이나 한모금하는순간 할퀴는듯한 탄닌이 길들여지지 않은야생의 맹수같은 느낌이다. 몇년의 기간을 두고 마시면 깜짝놀랄만한 녀석으로 변할것같다고 조심스레 예상해본다.\\n마시자마자 든 느낌은 아주 기름기가 많은 육류와 함께하면 좋을듯하다',\n",
       "       ' \\n진지하면서도 위트가 넘치는 흥미로운 와인. 오레곤을 제외한 미국와인의 특성상 75%이상 사용된 주품종은 레이블에 명시할 수 있는 와인법에 따라 분명 피노누아 이외의 다른 품종이 블렌딩 된 것 같은데 감을 잡을 수 없었다. 찾아보니 글로벌~한 블렌딩. 딸기, 섬세한 체다치즈, 바닐라, 캬라멜 등의 밝은 이미지의 아로마 뒤에 보여지는 우아한 빨레는 이러한 블렌딩의 마법인것 같기도 하다. 우연히 견과류와 함께했는데 크렌베리,캐슈넛과의 시너지 효과가 꽤나 좋았다. 호두는 껍질이 탄닌과 충돌해 에러:)',\n",
       "       ' \\n만들어 먹는 뱅쇼는 그때그때 맛도 다르고 잘못해서 끓기라도 하면 맛이 틀어지는데 크리스트 킨들스는 병째 데워 마시면 온기가 퍼지고 맛 역시 튀는곳 없이 무난해서 좋았다.\\n마무리로 올라오는 상큼한 과일맛이 일품 \\n전반적으로 산뜻하고 깔끔한 맛~\\n너무 강하지도 약하지도 않은 바디감과 산미....매우 괜찮았음\\n그냥 데워만 마셔도 좋겠지만 레몬 조각을 살짝 띄워서 마시니 더욱 맛있었는듯..^^',\n",
       "       ' \\n1804 tasting at coex expo \\n1804 tasting at coex expo',\n",
       "       ' \\n차갑게 칠링한 로제 스파클링 와인은 특유의 청량감으로 몸과 마음에 신선한 기운을 불어넣어 준다. No.1 호주 와인 브랜드인 제이콥스 크릭이 만든 로제 스파클링은 제철 과일인 딸기나 참외 등과 잘 어울린다. 또, 캠핑에서 즐길 수 있는 조개구이부터 기름진 삼겹살과 스테이크 그리고 야채구이까지 다양한 음식들과 함께하기 좋은 와인이다. 또한 샴페인과 같이 병 내에서 2차 발효를 진행해 기포가 섬세하고 밸런스가 뛰어나다. 적은 예산으로도 프리미엄급의 와인 맛을 즐길 수 있다.',\n",
       "       ' \\n무려 13세기로 그 역사를 거슬러 올라가는 뼈대 굵은 와이너리에서 생산되는 까바이다. 레몬 빛의 와인으로 풋사과와 서양배의 아로마와 함께 시트러스 계열의 과실향, 흰 꽃의 아로마가 인상적이다. 24개월간의 숙성기간을 거쳤으며 탄탄한 산미로 구조감이 훌륭하다. 스파이시한 노트가 살짝 있어 잔잔하게 향신료를 사용한 디저트와 함께하거나 와인 자체를 디저트로 즐기기를 추천하고 싶다.',\n",
       "       ' \\n선물용으로도 제격인 와인. 푸른 과실들과 꽃을 함께 물고있는 것 같은 산미와 향이 매력적이다. \\n비쥬얼부터 참 청순청순한 와인! 돼지고기 목살 스테이크와 매칭이 좋았다~!\\n감귤류의 과실향과 예쁜 꽃향기에 반해서\\n자주 마시게 될 것 같은 와인! \\n신선한 산미, 풀과 허브향, 감귤류의 과실향과 흰 꽃의 깨끗한 아로마가 주도적. 가볍고 통통튀는 스파클링이 아니라 차분하고 우아한 느낌- 살짝 묵직하고 어느하나 튀는 곳 없이 밸런스가 좋습니다 ㅎㅎ 기포는 아주 부드러워요~ 어느 음식에나 무난하게 잘 매칭될 것 같은 스푸만테 :) \\n입안에서 머금는 피니쉬가 적당하면서\\n살짝 드라이함.\\n산뜻하게 올라오는 꽃향이 기분까지 좋게 만들고\\n\\n특히나 모임에 들고가면 병의 네이블로도 박수를 받는 와인.\\n\\n\\n \\n산미가 좋고 부드러운 버블이 행복하게 해주는 와인입니다\\n컬러도 예쁜 골드컬러.\\n꽃향도 은은하게 퍼지고요 -\\n라벨이 젖지않아서 칠링을 오래해도 여전히 예쁘네요 -\\n특별한날 꼭 함께하고싶은 와인입니다 \\n평소에 화이트와인과 스파클링 와인을 좋아하는 저에게 딱 맞는 Taste!\\n\\n과실향, 꽃 향기 등이 복합적으로 느껴져서 너무 단순하지 않으면서도 적당한 산미 & 달콤함 & 부드러운 탄산의 조화가 잘 어울리는 와인이예요! \\n꽃향과 과실향이 어우러진 깔끔한 스푸만테\\n청량감이 좋아 칠링해서 마시면 여름에 딱 좋음!\\n달지 않고 상쾌한 느낌이 쭉~~~~ \\n예쁜 병에 은은한 과실향과 꽃향에 상쾌한 맛! 선물용으로도 데일리로 마시기에도 좋네요^^ \\n예쁜 모양의 병! 칠링해도 젖지 않는 라벨, 스와로브스키 덕분에 분위기도 더 업!\\n하얀 꽃 내음. 바나나, 귤 싱그럽고 달콤한 향과 여름철 시원하게 즐기면 좋은 와인',\n",
       "       ' \\n1865',\n",
       "       ' \\n약간의 산도와 중간정도의 탄닌감이 느껴진다. 기름기 있는 육류 삼겹살, 치킨 등과 어울리며 크림 또는 오일류의 파스타와 치즈피자 등과 곁들여 마시기 좋다. 많이 열릴수록 말린과일 또는 무화과 향이 나며 피니시는 여운을 남길 정도로 적당하다.',\n",
       "       ' \\n보랏빛이 감도는 루비빛. 약간의 말린 블루베리열매, 스파이스, 체리, 신선하고 산미와 스파이스 좋고 정말 부드러운 타닌. 즙이 있고 깔끔.',\n",
       "       ' \\n아주 달진 않지만 살짝 달달하면서 산미도 있고, 탄산감으로 가볍게, 깔끔하게 마시기 좋았다. 안그래도 화이트, 스파클링 와인이 요즘 좋았는데, 더운 여름에 더욱이나 산뜻하게 마시기 좋았던 와인. \\n여름에 가볍게 마시기 좋은 라마르카 프로세코. 과일을 넣어 상그리아로 마시기에도 좋은 와인이다. 너무 튀지고 않고 데일리로 마시기에 적당하다. 선선한 가을에 피크닉용도로 기분내기 좋을듯 하다. \\n눈을 간지럽히는 산뜻한 레몬컬러 오픈하자 마자 흘러나오는 넘치는 사과와 벌꿀향\\n\\n작고 섬세한 기포와 입안을 깔끔하게 돋구는 산미 정말 좋은 식전주예요~ \\n더위가 기승을 부리면 부릴수록 간절히 생각나는 라 마르카 프로세코.\\n벌꿀향과 풋사과 향이 새침하게 맛으로 다가올때 이미 라 마르카 프로세코의 포로가 되어 버린 듯 합니다.가성비 좋다는 말로 형용할 수 없는 기쁨을 주는 라 마르카 프로세코. 적당한 스파클링 와인을 찾고 계신분께 적당함 그 이상을 줄 수 있는 스파크링 와인이 아닐까 해요. \\n일단 가격대비 너무 좋네요. 청량감과 과실폭탄 아로마는 한여름 더위를 식혀주네요~ \\n시원한 민트빛깔 레이블이 눈을 사로잡는다.\\n얼음 가득 담을 바스켓만 있다면 라 마르카는 더운 여름 그 어디를 함께해도 기분좋게 해줄 와인이다. 포실한 기포에 기분좋은 산미와 당도는 여름 날 편하게 즐기기에 제격. \\n저는 여행가서 수영장에서 수영하다 마셨는데, 너무 좋았습니다^^\\n기포가 부드럽게 입안에 머금어지는게 시원하게 부는 바람과 함께 해변가의 거품 연상이 되었어요~\\n여행 가서 마시니 더 감성적이게 느껴진듯^^ 블루베리와 함께 마셨는데 가볍고, 새콤달콤 산미가 와인과 어우러져 좋았습니다 \\n잔에 따르자마자 보이는 오밀조밀 기포가\\n목으로 넘어갈 때 정말 시원하다라는 느낌을 전해주었고\\n함께 나는 아로마터치가 몹시 신선해서\\n하루 속 스트레스를 뻥 날려주는 기분이었다 ♡ \\n여름에 마시기에 적합한 스파클링\\n기포가 크지 않아 아쉽지만 깔끔하게 떨어지니\\n회랑 먹어도 괜찮은편\\n가성비로 따지자면 중간정도\\n극히 개인적인 견해이다. \\n은은한 과일향과 당도가 적은 점이 좋았습니다. 가볍게 마시기 좋네요~ \\n산도와 당도가 적당히 잘 이루어져 어떤 음식과도 매치가 잘 될것같다.\\n더운 여름밤 차갑게해서 마시면 더욱 좋을 와인이다. \\n청량하고 상큼한 스파클링 와인이라 요즘처럼 무더운 날 여름휴가지에서 즐기기 아주 딱입니다 ! 홈플러스에서 쉽게 구입할 수 있으니, 와인을 잘 모르는 사람도 즐기기에 아주 좋은것 같습니다. 복숭아, 아오리, 자두 등 여름과일들과 잘 어울리는 맛이에요. \\n여름에 정말 잘 어울리는 가성비 좋은 스파클링 와인!!! 조밀한 탄산과 산뜻한 단맛으로 브런치타임에 딱 맞는 와인인 것 같아요!! \\n잔에 따르면 색은 옅은 볏집색으로 황금색보다는 아주 옅은 베이지계열의 색상입니다. 잔뒤가 투명하게 잘 보이는 맑은편입니다. 따르자마자 강한 탄산으로 인한 거품이 폭발적으로 잔위를 채우며, 비교적 짧은시간에 가라앉습니다. 한여름이라 사진으로보기에는 투명도가 잘 보이지 않습니다.\\n향은 레몬과 풋사과스러운 어딘가 풋풋한 향이 납니다. 맛은 달지 않고 드라이한 편이며, 산미도 강하지는 않지만 적당하게 다가옵니다. 마시다보면 약간의 스카치캔디 혹은 버터같은 향, 시원한 서양배같은 향이 나기도 합니다. 반복해서 마시다 보면 카페에서 서빙되는 레몬워터같은 옅은 산미가 잔잔하게 지속됩니다. 바디감은 가벼운 편이며, 탄산의 입자는 크고 중간정도의 강함으로 입안에서 터집니다. 전체적으로 가벼운 터치감의 스파클링 와인입니다.\\n더보기',\n",
       "       ' ',\n",
       "       ' \\n은은하고 우아한 맛과 향을 가진 프로방스의 드라이 로제^^ 코와 입에서 스치는 스파이시함이 참 매력적입니다~ 이 가격대에 프로방스 드라이 로제라니..... 꼭 드셔보시길 추천합니다 ^^',\n",
       "       ' \\n산미와 프랑스 샴페인 특유의 꿉꿉한 향은 나지만 샴페인 대표 국가인만큼 깊이감이 느껴짐 \\n이스트향이 좋았지만 집중도가 너무 떨어져서 실망이었다. 차라리 집중도 좋은 까바가 낫다. \\n농익은 과일향이 많아 잡채나 불고기에 먹어도 넘 좋을 듯  \\n첫 맛에 서양배 향 가득  \\n복합적이고 살아있는 향과 풍부한 과실미가 매력적 \\n사과 효모향이 좋다.\\n산도, 밸런스 좋음  ',\n",
       "       ' \\n로제와인의 색감때문에 향이 풍부할줄 알았으나 산미가 너무 강함     \\n매력적인 색상, 편안한 과일향, 대화를 하며 마시기 좋은  ',\n",
       "       ' \\n부드러움과 달큰함이 느껴지는 와인. 그래서인지 조금 매콤한 맛에도 어울릴 것 같다.',\n",
       "       ' \\n굉장한 아로마 풍부한 과실향이 있다 서양배의 향과 복숭아 구운 토스트의 고소한 향이 느껴진다. 입으로 가져가 한 모금 했을때 산미에 놀랐지만 (필자가 처음 마신 스파클링 와인이었다.) 이내 익숙해졌고 마지막 한 모금이 너무 아쉽게 느껴지는 와인이었다.',\n",
       "       ' \\n너무 가벼움 \\n바닐라향이 확 올라오면서 풋사과 청포도 향이 돌기도 하고 버터리한 피니쉬,,,\\n독특한 향에 눈이 살짝커짐,,\\n데일리로 주말 파티에 준비해도 괜찮을 듯 한 화이트 와인 \\n해산물 요리나 오일 베이스의 파스타와 어울릴듯한 편한 화이트 와인.    \\n라이트하고 기분좋은 감귤향 피니쉬~^^ 아주 가볍게 한잔   \\n식전주 별4개   \\n아직 영빈\\n더보기',\n",
       "       ' \\n바디감이 너무 좋았던 와인이었습니다.\\n현대백화점 무역센터점에서 구매해서 마셨는데 과실향도 풍부하고 입 안 가득 머물러 있던 향이 너무 좋았습니다.'],\n",
       "      dtype=object)"
      ]
     },
     "execution_count": 11,
     "metadata": {},
     "output_type": "execute_result"
    }
   ],
   "source": [
    "wine.tasting_note.unique()"
   ]
  },
  {
   "cell_type": "code",
   "execution_count": 12,
   "metadata": {},
   "outputs": [
    {
     "data": {
      "text/plain": [
       "array(['nan', '   7월  ', '   , 선물하기 좋은  ', '올해 밸런타인데이에 함께할  !',\n",
       "       '졸업 시즌의 축하주, 스파클링  ', '   , 꼭 한번 마셔볼만한 마트  ',\n",
       "       '초여름밤, 설레는 기분을 선사해줄  ', \"   , 집에서 더 즐겁게 '홈파티  '\",\n",
       "       '늦여름에 마시기 좋은 레드  ', '    - 치명적 우아함, 부르고뉴(Bourgogne)',\n",
       "       '[ 추천] 소소한 야외 파티에서 즐기기 좋은  ', '   3월  ', '부부의 날을 기념하며 마시기 좋은  ',\n",
       "       '   2월  ', '호캉스에 단 한 병의  을 가지고 간다면?', '   5월  ', '   6월  ',\n",
       "       '   8월  ', '   9월  ', '   10월  ', '   11월  ', '   12월  ',\n",
       "       '   2021년 1월  ', '   4월  ', '폭염이 지속되는 여름밤에 마시고 싶은  ',\n",
       "       '무더운 날 칠링해서 마시기 좋은 레드  은?', '삼계탕과 잘 어울리는  은?',\n",
       "       '봄바람과 함께, 야외에서 즐기는  ', '행사가 많은 5월, 선물이 고민인가요?',\n",
       "       '춘곤증을 날려주는 청량감 넘치는  ', '미세먼지가 심한 날, 홈술 추천  ', '벚꽃 필 무렵엔 이  을!',\n",
       "       '봄날, 지금 썸타는 중이라면?', \" 21's PICK, 카베르네 소비뇽(Cabernet Sauvignon)편\",\n",
       "       '봄을 기다리며 즐기기 좋은  ', '설날 선물을 위한 추천  ', '   , 2021년 ‘소중한  들',\n",
       "       '이제는 버블을 즐길 시간!', '홈스토랑에서 오픈할  은?',\n",
       "       '   , 프리미티보 & 진판델(Primitivo & Zinfandel)', '기분전환을 위한 추천  ',\n",
       "       '찬바람이 불 때는 이  을!', '할로윈을 더 재미있게 만들어줄  ', '차박은 이  과 함께!',\n",
       "       '추석 음식과 함께하기 좋은  ', '가치 있는 선물, 프리미엄  들',\n",
       "       '   , 시라 & 쉬라즈(Syrah & Shiraz)', '올해 말복에는 무슨  을?',\n",
       "       '   , 샴페인(Champagne)', '[ 추천] 무더위에 맞설 이열치열  ',\n",
       "       '[ 추천] 초여름밤 산책 후 즐기고 싶은  ', '[ 추천] 발견의 기쁨,  계의 뉴페이스',\n",
       "       '결혼을 앞둔 이에겐 이  을!', '문화생활과 함께 즐기는  ', '[ 추천] 봄날에 즐기는 로제  ',\n",
       "       \"언제나 부담없이 오픈하기 좋은 '미니  '\", \"'홈술'하기 좋은  \", '마음을 고백할 때 함께하고 싶은  ',\n",
       "       '설 연휴, 고향에 가지고 가고 싶은  ', '2020년, 신년을 여는  ', '한파가 닥친 날엔 이  ',\n",
       "       '겨울 간식에 곁들이기 좋은  ', '   ,  더풀 크리스마스(Wine-derful Christmas)를 위한  !',\n",
       "       '송년 모임엔 이  과 함께!', '첫눈 오는 날 마시고 싶은  ', '마음이 복잡할 때 마시고 싶은 힐링  ',\n",
       "       '가을 여행에 함께하고 싶은  ', '   , 내추럴 & 오렌지  ', '가을 타는 기분일 때 마시기 좋은  ',\n",
       "       '감각적인 재즈 음악과 어울리는  ', '   , 한가위 차례 음식과   페어링', '가성비 좋은 추석 선물  들',\n",
       "       '   , 다채로운 피노 누아', \"   , 드넓은 그르나슈의 세계 '얼마나 놀라운 G'\",\n",
       "       '   , 봄바람처럼 가볍게 즐기는  ', '   ,  계의 팔방미인 로제 ',\n",
       "       '   , 2019년 행복을 부르는  ', '   , 샴페인인 듯 샴페인 아닌 샴페인 같은',\n",
       "       '   , 내가 꽤 어려운 리제르바(Reserva)를 아는 게야!', '   , 한가위 스페셜'],\n",
       "      dtype=object)"
      ]
     },
     "execution_count": 12,
     "metadata": {},
     "output_type": "execute_result"
    }
   ],
   "source": [
    "wine.posting_title.unique()"
   ]
  },
  {
   "cell_type": "code",
   "execution_count": 13,
   "metadata": {},
   "outputs": [
    {
     "data": {
      "text/html": [
       "<div>\n",
       "<style scoped>\n",
       "    .dataframe tbody tr th:only-of-type {\n",
       "        vertical-align: middle;\n",
       "    }\n",
       "\n",
       "    .dataframe tbody tr th {\n",
       "        vertical-align: top;\n",
       "    }\n",
       "\n",
       "    .dataframe thead th {\n",
       "        text-align: right;\n",
       "    }\n",
       "</style>\n",
       "<table border=\"1\" class=\"dataframe\">\n",
       "  <thead>\n",
       "    <tr style=\"text-align: right;\">\n",
       "      <th></th>\n",
       "      <th>name_ko</th>\n",
       "      <th>type</th>\n",
       "      <th>aroma</th>\n",
       "      <th>maker's_note</th>\n",
       "      <th>tasting_note</th>\n",
       "      <th>posting_title</th>\n",
       "      <th>wine_title</th>\n",
       "      <th>wine_text</th>\n",
       "      <th>hashtag</th>\n",
       "      <th>blog_text</th>\n",
       "    </tr>\n",
       "  </thead>\n",
       "  <tbody>\n",
       "    <tr>\n",
       "      <th>0</th>\n",
       "      <td>더 롱 리틀 독 스파클링</td>\n",
       "      <td>스파클링</td>\n",
       "      <td>복숭아, 살구, 꽃, 흰꽃, 레몬</td>\n",
       "      <td>밝고 맑은 레몬 컬러에 레몬, 살구, 복숭아, 흰꽃의 아로마가 느껴진다. 입 안에서...</td>\n",
       "      <td>nan</td>\n",
       "      <td>nan</td>\n",
       "      <td>NaN</td>\n",
       "      <td>NaN</td>\n",
       "      <td>NaN</td>\n",
       "      <td>WINE\\n더 롱 리틀 독 스파클링 [ The Long Little Dog Spar...</td>\n",
       "    </tr>\n",
       "    <tr>\n",
       "      <th>1</th>\n",
       "      <td>루베롱 블랑</td>\n",
       "      <td>NaN</td>\n",
       "      <td>헤이즐넛, 꽃, 아카시아, 레몬</td>\n",
       "      <td>화사한 노란색을 띠며 레몬, 아카시아 꽃, 헤이즐넛 향이 어우러진다. 입 안에서는 ...</td>\n",
       "      <td>nan</td>\n",
       "      <td>nan</td>\n",
       "      <td>NaN</td>\n",
       "      <td>NaN</td>\n",
       "      <td>NaN</td>\n",
       "      <td>와인이야기\\n[하남 포도내음 와인아울렛/와인샵]와인소개_화이트와인추천_Marreno...</td>\n",
       "    </tr>\n",
       "    <tr>\n",
       "      <th>2</th>\n",
       "      <td>마리 스튜아트, 뀌베 드 라 헨느 브뤼</td>\n",
       "      <td>스파클링</td>\n",
       "      <td>꽃</td>\n",
       "      <td>반짝이는 연한 금빛의 정교한 거품을 지녔으며, 흰 꽃 패션 프루츠, 달콤한 흰 과일...</td>\n",
       "      <td>nan</td>\n",
       "      <td>7월</td>\n",
       "      <td>여왕의 샴페인</td>\n",
       "      <td>1867년 랭스(Reims)에 설립된 마리 스튜아트는 스코틀랜드의 여왕이자 프랑스 ...</td>\n",
       "      <td>NaN</td>\n",
       "      <td>BEST와인추천\\n와인21닷컴이 선정한 7월 이달의 와인\\n와인21 ・ 2021. ...</td>\n",
       "    </tr>\n",
       "    <tr>\n",
       "      <th>3</th>\n",
       "      <td>마스카 델 타코, 로시 피노 네로 로사토</td>\n",
       "      <td>NaN</td>\n",
       "      <td>딸기, 미네랄</td>\n",
       "      <td>밟은 옅은 분홍색에 야생 딸기 젤리 수박과 같은 달콤한 향이 풍부하고 그 뒤로 향신...</td>\n",
       "      <td>nan</td>\n",
       "      <td>nan</td>\n",
       "      <td>NaN</td>\n",
       "      <td>NaN</td>\n",
       "      <td>NaN</td>\n",
       "      <td>이탈리아와인\\nMASCA DEL TACCO [마스카 델 타코] 제이픽와인\\n산타 ・...</td>\n",
       "    </tr>\n",
       "    <tr>\n",
       "      <th>4</th>\n",
       "      <td>비에티, 바르베라 다스티 '트레 비그네'</td>\n",
       "      <td>NaN</td>\n",
       "      <td>체리, 오크</td>\n",
       "      <td>바르베라 다스티의 포도는 라 크레나 포도밭으로 유명한 아스티 언덕주변인 아그리아노 ...</td>\n",
       "      <td>nan</td>\n",
       "      <td>nan</td>\n",
       "      <td>NaN</td>\n",
       "      <td>NaN</td>\n",
       "      <td>NaN</td>\n",
       "      <td>(N) Piemonte\\nVietti, Barbera d'Asti Tre Vigne...</td>\n",
       "    </tr>\n",
       "  </tbody>\n",
       "</table>\n",
       "</div>"
      ],
      "text/plain": [
       "                  name_ko  type               aroma  \\\n",
       "0           더 롱 리틀 독 스파클링  스파클링  복숭아, 살구, 꽃, 흰꽃, 레몬   \n",
       "1                  루베롱 블랑   NaN   헤이즐넛, 꽃, 아카시아, 레몬   \n",
       "2   마리 스튜아트, 뀌베 드 라 헨느 브뤼  스파클링                   꽃   \n",
       "3  마스카 델 타코, 로시 피노 네로 로사토   NaN             딸기, 미네랄   \n",
       "4  비에티, 바르베라 다스티 '트레 비그네'   NaN              체리, 오크   \n",
       "\n",
       "                                        maker's_note tasting_note  \\\n",
       "0  밝고 맑은 레몬 컬러에 레몬, 살구, 복숭아, 흰꽃의 아로마가 느껴진다. 입 안에서...          nan   \n",
       "1  화사한 노란색을 띠며 레몬, 아카시아 꽃, 헤이즐넛 향이 어우러진다. 입 안에서는 ...          nan   \n",
       "2  반짝이는 연한 금빛의 정교한 거품을 지녔으며, 흰 꽃 패션 프루츠, 달콤한 흰 과일...          nan   \n",
       "3  밟은 옅은 분홍색에 야생 딸기 젤리 수박과 같은 달콤한 향이 풍부하고 그 뒤로 향신...          nan   \n",
       "4  바르베라 다스티의 포도는 라 크레나 포도밭으로 유명한 아스티 언덕주변인 아그리아노 ...          nan   \n",
       "\n",
       "  posting_title wine_title                                          wine_text  \\\n",
       "0           nan        NaN                                                NaN   \n",
       "1           nan        NaN                                                NaN   \n",
       "2          7월      여왕의 샴페인  1867년 랭스(Reims)에 설립된 마리 스튜아트는 스코틀랜드의 여왕이자 프랑스 ...   \n",
       "3           nan        NaN                                                NaN   \n",
       "4           nan        NaN                                                NaN   \n",
       "\n",
       "  hashtag                                          blog_text  \n",
       "0     NaN  WINE\\n더 롱 리틀 독 스파클링 [ The Long Little Dog Spar...  \n",
       "1     NaN  와인이야기\\n[하남 포도내음 와인아울렛/와인샵]와인소개_화이트와인추천_Marreno...  \n",
       "2     NaN  BEST와인추천\\n와인21닷컴이 선정한 7월 이달의 와인\\n와인21 ・ 2021. ...  \n",
       "3     NaN  이탈리아와인\\nMASCA DEL TACCO [마스카 델 타코] 제이픽와인\\n산타 ・...  \n",
       "4     NaN  (N) Piemonte\\nVietti, Barbera d'Asti Tre Vigne...  "
      ]
     },
     "execution_count": 13,
     "metadata": {},
     "output_type": "execute_result"
    }
   ],
   "source": [
    "wine.head()"
   ]
  },
  {
   "cell_type": "code",
   "execution_count": 14,
   "metadata": {},
   "outputs": [
    {
     "name": "stdout",
     "output_type": "stream",
     "text": [
      "<class 'pandas.core.frame.DataFrame'>\n",
      "RangeIndex: 806 entries, 0 to 805\n",
      "Data columns (total 10 columns):\n",
      " #   Column         Non-Null Count  Dtype \n",
      "---  ------         --------------  ----- \n",
      " 0   name_ko        805 non-null    object\n",
      " 1   type           68 non-null     object\n",
      " 2   aroma          321 non-null    object\n",
      " 3   maker's_note   317 non-null    object\n",
      " 4   tasting_note   806 non-null    object\n",
      " 5   posting_title  806 non-null    object\n",
      " 6   wine_title     290 non-null    object\n",
      " 7   wine_text      582 non-null    object\n",
      " 8   hashtag        25 non-null     object\n",
      " 9   blog_text      301 non-null    object\n",
      "dtypes: object(10)\n",
      "memory usage: 63.1+ KB\n"
     ]
    }
   ],
   "source": [
    "wine.info()"
   ]
  },
  {
   "cell_type": "markdown",
   "metadata": {},
   "source": [
    "###### blog_text와 blog_text들을 제외한 모든 열을 합친 새로운 열로 만드는 것이 목표!\n",
    "###### 이 때, null값이 있으면 합치기 어렵기 때문에 null값에 tokenize 할 때 쉽게 제거할 수 있는 의미 없는 값을 넣음"
   ]
  },
  {
   "cell_type": "code",
   "execution_count": 15,
   "metadata": {},
   "outputs": [],
   "source": [
    "wine = wine.fillna(\"ok\")"
   ]
  },
  {
   "cell_type": "code",
   "execution_count": 16,
   "metadata": {},
   "outputs": [
    {
     "data": {
      "text/html": [
       "<div>\n",
       "<style scoped>\n",
       "    .dataframe tbody tr th:only-of-type {\n",
       "        vertical-align: middle;\n",
       "    }\n",
       "\n",
       "    .dataframe tbody tr th {\n",
       "        vertical-align: top;\n",
       "    }\n",
       "\n",
       "    .dataframe thead th {\n",
       "        text-align: right;\n",
       "    }\n",
       "</style>\n",
       "<table border=\"1\" class=\"dataframe\">\n",
       "  <thead>\n",
       "    <tr style=\"text-align: right;\">\n",
       "      <th></th>\n",
       "      <th>name_ko</th>\n",
       "      <th>type</th>\n",
       "      <th>aroma</th>\n",
       "      <th>maker's_note</th>\n",
       "      <th>tasting_note</th>\n",
       "      <th>posting_title</th>\n",
       "      <th>wine_title</th>\n",
       "      <th>wine_text</th>\n",
       "      <th>hashtag</th>\n",
       "      <th>blog_text</th>\n",
       "    </tr>\n",
       "  </thead>\n",
       "  <tbody>\n",
       "    <tr>\n",
       "      <th>0</th>\n",
       "      <td>더 롱 리틀 독 스파클링</td>\n",
       "      <td>스파클링</td>\n",
       "      <td>복숭아, 살구, 꽃, 흰꽃, 레몬</td>\n",
       "      <td>밝고 맑은 레몬 컬러에 레몬, 살구, 복숭아, 흰꽃의 아로마가 느껴진다. 입 안에서...</td>\n",
       "      <td>nan</td>\n",
       "      <td>nan</td>\n",
       "      <td>ok</td>\n",
       "      <td>ok</td>\n",
       "      <td>ok</td>\n",
       "      <td>WINE\\n더 롱 리틀 독 스파클링 [ The Long Little Dog Spar...</td>\n",
       "    </tr>\n",
       "    <tr>\n",
       "      <th>1</th>\n",
       "      <td>루베롱 블랑</td>\n",
       "      <td>ok</td>\n",
       "      <td>헤이즐넛, 꽃, 아카시아, 레몬</td>\n",
       "      <td>화사한 노란색을 띠며 레몬, 아카시아 꽃, 헤이즐넛 향이 어우러진다. 입 안에서는 ...</td>\n",
       "      <td>nan</td>\n",
       "      <td>nan</td>\n",
       "      <td>ok</td>\n",
       "      <td>ok</td>\n",
       "      <td>ok</td>\n",
       "      <td>와인이야기\\n[하남 포도내음 와인아울렛/와인샵]와인소개_화이트와인추천_Marreno...</td>\n",
       "    </tr>\n",
       "    <tr>\n",
       "      <th>2</th>\n",
       "      <td>마리 스튜아트, 뀌베 드 라 헨느 브뤼</td>\n",
       "      <td>스파클링</td>\n",
       "      <td>꽃</td>\n",
       "      <td>반짝이는 연한 금빛의 정교한 거품을 지녔으며, 흰 꽃 패션 프루츠, 달콤한 흰 과일...</td>\n",
       "      <td>nan</td>\n",
       "      <td>7월</td>\n",
       "      <td>여왕의 샴페인</td>\n",
       "      <td>1867년 랭스(Reims)에 설립된 마리 스튜아트는 스코틀랜드의 여왕이자 프랑스 ...</td>\n",
       "      <td>ok</td>\n",
       "      <td>BEST와인추천\\n와인21닷컴이 선정한 7월 이달의 와인\\n와인21 ・ 2021. ...</td>\n",
       "    </tr>\n",
       "    <tr>\n",
       "      <th>3</th>\n",
       "      <td>마스카 델 타코, 로시 피노 네로 로사토</td>\n",
       "      <td>ok</td>\n",
       "      <td>딸기, 미네랄</td>\n",
       "      <td>밟은 옅은 분홍색에 야생 딸기 젤리 수박과 같은 달콤한 향이 풍부하고 그 뒤로 향신...</td>\n",
       "      <td>nan</td>\n",
       "      <td>nan</td>\n",
       "      <td>ok</td>\n",
       "      <td>ok</td>\n",
       "      <td>ok</td>\n",
       "      <td>이탈리아와인\\nMASCA DEL TACCO [마스카 델 타코] 제이픽와인\\n산타 ・...</td>\n",
       "    </tr>\n",
       "    <tr>\n",
       "      <th>4</th>\n",
       "      <td>비에티, 바르베라 다스티 '트레 비그네'</td>\n",
       "      <td>ok</td>\n",
       "      <td>체리, 오크</td>\n",
       "      <td>바르베라 다스티의 포도는 라 크레나 포도밭으로 유명한 아스티 언덕주변인 아그리아노 ...</td>\n",
       "      <td>nan</td>\n",
       "      <td>nan</td>\n",
       "      <td>ok</td>\n",
       "      <td>ok</td>\n",
       "      <td>ok</td>\n",
       "      <td>(N) Piemonte\\nVietti, Barbera d'Asti Tre Vigne...</td>\n",
       "    </tr>\n",
       "  </tbody>\n",
       "</table>\n",
       "</div>"
      ],
      "text/plain": [
       "                  name_ko  type               aroma  \\\n",
       "0           더 롱 리틀 독 스파클링  스파클링  복숭아, 살구, 꽃, 흰꽃, 레몬   \n",
       "1                  루베롱 블랑    ok   헤이즐넛, 꽃, 아카시아, 레몬   \n",
       "2   마리 스튜아트, 뀌베 드 라 헨느 브뤼  스파클링                   꽃   \n",
       "3  마스카 델 타코, 로시 피노 네로 로사토    ok             딸기, 미네랄   \n",
       "4  비에티, 바르베라 다스티 '트레 비그네'    ok              체리, 오크   \n",
       "\n",
       "                                        maker's_note tasting_note  \\\n",
       "0  밝고 맑은 레몬 컬러에 레몬, 살구, 복숭아, 흰꽃의 아로마가 느껴진다. 입 안에서...          nan   \n",
       "1  화사한 노란색을 띠며 레몬, 아카시아 꽃, 헤이즐넛 향이 어우러진다. 입 안에서는 ...          nan   \n",
       "2  반짝이는 연한 금빛의 정교한 거품을 지녔으며, 흰 꽃 패션 프루츠, 달콤한 흰 과일...          nan   \n",
       "3  밟은 옅은 분홍색에 야생 딸기 젤리 수박과 같은 달콤한 향이 풍부하고 그 뒤로 향신...          nan   \n",
       "4  바르베라 다스티의 포도는 라 크레나 포도밭으로 유명한 아스티 언덕주변인 아그리아노 ...          nan   \n",
       "\n",
       "  posting_title wine_title                                          wine_text  \\\n",
       "0           nan         ok                                                 ok   \n",
       "1           nan         ok                                                 ok   \n",
       "2          7월      여왕의 샴페인  1867년 랭스(Reims)에 설립된 마리 스튜아트는 스코틀랜드의 여왕이자 프랑스 ...   \n",
       "3           nan         ok                                                 ok   \n",
       "4           nan         ok                                                 ok   \n",
       "\n",
       "  hashtag                                          blog_text  \n",
       "0      ok  WINE\\n더 롱 리틀 독 스파클링 [ The Long Little Dog Spar...  \n",
       "1      ok  와인이야기\\n[하남 포도내음 와인아울렛/와인샵]와인소개_화이트와인추천_Marreno...  \n",
       "2      ok  BEST와인추천\\n와인21닷컴이 선정한 7월 이달의 와인\\n와인21 ・ 2021. ...  \n",
       "3      ok  이탈리아와인\\nMASCA DEL TACCO [마스카 델 타코] 제이픽와인\\n산타 ・...  \n",
       "4      ok  (N) Piemonte\\nVietti, Barbera d'Asti Tre Vigne...  "
      ]
     },
     "execution_count": 16,
     "metadata": {},
     "output_type": "execute_result"
    }
   ],
   "source": [
    "wine.head()"
   ]
  },
  {
   "cell_type": "code",
   "execution_count": 17,
   "metadata": {},
   "outputs": [
    {
     "data": {
      "text/plain": [
       "0"
      ]
     },
     "execution_count": 17,
     "metadata": {},
     "output_type": "execute_result"
    }
   ],
   "source": [
    "wine[\"tasting_note\"].isnull().sum()"
   ]
  },
  {
   "cell_type": "markdown",
   "metadata": {},
   "source": [
    "###### 이유는 모르겠으나, fillna로 채워지지 않는 np.nan값은 replace 함수를 써서 대체"
   ]
  },
  {
   "cell_type": "code",
   "execution_count": 18,
   "metadata": {},
   "outputs": [],
   "source": [
    "wine.replace(\"nan\", \"ok\", inplace=True)"
   ]
  },
  {
   "cell_type": "markdown",
   "metadata": {},
   "source": [
    "###### 아래 열들을 합쳐 하나의 열로 만듦"
   ]
  },
  {
   "cell_type": "code",
   "execution_count": 19,
   "metadata": {},
   "outputs": [],
   "source": [
    "wine[\"review\"] = wine[\"type\"] +\".\" + wine[\"aroma\"] +\".\"+ wine[\"maker's_note\"] +\".\"+ wine[\"tasting_note\"] +\".\"+ wine[\"posting_title\"] +\".\"+ wine[\"wine_title\"] +\".\"+ wine[\"wine_text\"] +\".\"+ wine[\"hashtag\"] +\".\""
   ]
  },
  {
   "cell_type": "code",
   "execution_count": 20,
   "metadata": {},
   "outputs": [
    {
     "data": {
      "text/html": [
       "<div>\n",
       "<style scoped>\n",
       "    .dataframe tbody tr th:only-of-type {\n",
       "        vertical-align: middle;\n",
       "    }\n",
       "\n",
       "    .dataframe tbody tr th {\n",
       "        vertical-align: top;\n",
       "    }\n",
       "\n",
       "    .dataframe thead th {\n",
       "        text-align: right;\n",
       "    }\n",
       "</style>\n",
       "<table border=\"1\" class=\"dataframe\">\n",
       "  <thead>\n",
       "    <tr style=\"text-align: right;\">\n",
       "      <th></th>\n",
       "      <th>name_ko</th>\n",
       "      <th>type</th>\n",
       "      <th>aroma</th>\n",
       "      <th>maker's_note</th>\n",
       "      <th>tasting_note</th>\n",
       "      <th>posting_title</th>\n",
       "      <th>wine_title</th>\n",
       "      <th>wine_text</th>\n",
       "      <th>hashtag</th>\n",
       "      <th>blog_text</th>\n",
       "      <th>review</th>\n",
       "    </tr>\n",
       "  </thead>\n",
       "  <tbody>\n",
       "    <tr>\n",
       "      <th>0</th>\n",
       "      <td>더 롱 리틀 독 스파클링</td>\n",
       "      <td>스파클링</td>\n",
       "      <td>복숭아, 살구, 꽃, 흰꽃, 레몬</td>\n",
       "      <td>밝고 맑은 레몬 컬러에 레몬, 살구, 복숭아, 흰꽃의 아로마가 느껴진다. 입 안에서...</td>\n",
       "      <td>ok</td>\n",
       "      <td>ok</td>\n",
       "      <td>ok</td>\n",
       "      <td>ok</td>\n",
       "      <td>ok</td>\n",
       "      <td>WINE\\n더 롱 리틀 독 스파클링 [ The Long Little Dog Spar...</td>\n",
       "      <td>스파클링.복숭아, 살구, 꽃, 흰꽃, 레몬.밝고 맑은 레몬 컬러에 레몬, 살구, 복...</td>\n",
       "    </tr>\n",
       "    <tr>\n",
       "      <th>1</th>\n",
       "      <td>루베롱 블랑</td>\n",
       "      <td>ok</td>\n",
       "      <td>헤이즐넛, 꽃, 아카시아, 레몬</td>\n",
       "      <td>화사한 노란색을 띠며 레몬, 아카시아 꽃, 헤이즐넛 향이 어우러진다. 입 안에서는 ...</td>\n",
       "      <td>ok</td>\n",
       "      <td>ok</td>\n",
       "      <td>ok</td>\n",
       "      <td>ok</td>\n",
       "      <td>ok</td>\n",
       "      <td>와인이야기\\n[하남 포도내음 와인아울렛/와인샵]와인소개_화이트와인추천_Marreno...</td>\n",
       "      <td>ok.헤이즐넛, 꽃, 아카시아, 레몬.화사한 노란색을 띠며 레몬, 아카시아 꽃, 헤...</td>\n",
       "    </tr>\n",
       "    <tr>\n",
       "      <th>2</th>\n",
       "      <td>마리 스튜아트, 뀌베 드 라 헨느 브뤼</td>\n",
       "      <td>스파클링</td>\n",
       "      <td>꽃</td>\n",
       "      <td>반짝이는 연한 금빛의 정교한 거품을 지녔으며, 흰 꽃 패션 프루츠, 달콤한 흰 과일...</td>\n",
       "      <td>ok</td>\n",
       "      <td>7월</td>\n",
       "      <td>여왕의 샴페인</td>\n",
       "      <td>1867년 랭스(Reims)에 설립된 마리 스튜아트는 스코틀랜드의 여왕이자 프랑스 ...</td>\n",
       "      <td>ok</td>\n",
       "      <td>BEST와인추천\\n와인21닷컴이 선정한 7월 이달의 와인\\n와인21 ・ 2021. ...</td>\n",
       "      <td>스파클링.꽃.반짝이는 연한 금빛의 정교한 거품을 지녔으며, 흰 꽃 패션 프루츠, 달...</td>\n",
       "    </tr>\n",
       "    <tr>\n",
       "      <th>3</th>\n",
       "      <td>마스카 델 타코, 로시 피노 네로 로사토</td>\n",
       "      <td>ok</td>\n",
       "      <td>딸기, 미네랄</td>\n",
       "      <td>밟은 옅은 분홍색에 야생 딸기 젤리 수박과 같은 달콤한 향이 풍부하고 그 뒤로 향신...</td>\n",
       "      <td>ok</td>\n",
       "      <td>ok</td>\n",
       "      <td>ok</td>\n",
       "      <td>ok</td>\n",
       "      <td>ok</td>\n",
       "      <td>이탈리아와인\\nMASCA DEL TACCO [마스카 델 타코] 제이픽와인\\n산타 ・...</td>\n",
       "      <td>ok.딸기, 미네랄.밟은 옅은 분홍색에 야생 딸기 젤리 수박과 같은 달콤한 향이 풍...</td>\n",
       "    </tr>\n",
       "    <tr>\n",
       "      <th>4</th>\n",
       "      <td>비에티, 바르베라 다스티 '트레 비그네'</td>\n",
       "      <td>ok</td>\n",
       "      <td>체리, 오크</td>\n",
       "      <td>바르베라 다스티의 포도는 라 크레나 포도밭으로 유명한 아스티 언덕주변인 아그리아노 ...</td>\n",
       "      <td>ok</td>\n",
       "      <td>ok</td>\n",
       "      <td>ok</td>\n",
       "      <td>ok</td>\n",
       "      <td>ok</td>\n",
       "      <td>(N) Piemonte\\nVietti, Barbera d'Asti Tre Vigne...</td>\n",
       "      <td>ok.체리, 오크.바르베라 다스티의 포도는 라 크레나 포도밭으로 유명한 아스티 언덕...</td>\n",
       "    </tr>\n",
       "  </tbody>\n",
       "</table>\n",
       "</div>"
      ],
      "text/plain": [
       "                  name_ko  type               aroma  \\\n",
       "0           더 롱 리틀 독 스파클링  스파클링  복숭아, 살구, 꽃, 흰꽃, 레몬   \n",
       "1                  루베롱 블랑    ok   헤이즐넛, 꽃, 아카시아, 레몬   \n",
       "2   마리 스튜아트, 뀌베 드 라 헨느 브뤼  스파클링                   꽃   \n",
       "3  마스카 델 타코, 로시 피노 네로 로사토    ok             딸기, 미네랄   \n",
       "4  비에티, 바르베라 다스티 '트레 비그네'    ok              체리, 오크   \n",
       "\n",
       "                                        maker's_note tasting_note  \\\n",
       "0  밝고 맑은 레몬 컬러에 레몬, 살구, 복숭아, 흰꽃의 아로마가 느껴진다. 입 안에서...           ok   \n",
       "1  화사한 노란색을 띠며 레몬, 아카시아 꽃, 헤이즐넛 향이 어우러진다. 입 안에서는 ...           ok   \n",
       "2  반짝이는 연한 금빛의 정교한 거품을 지녔으며, 흰 꽃 패션 프루츠, 달콤한 흰 과일...           ok   \n",
       "3  밟은 옅은 분홍색에 야생 딸기 젤리 수박과 같은 달콤한 향이 풍부하고 그 뒤로 향신...           ok   \n",
       "4  바르베라 다스티의 포도는 라 크레나 포도밭으로 유명한 아스티 언덕주변인 아그리아노 ...           ok   \n",
       "\n",
       "  posting_title wine_title                                          wine_text  \\\n",
       "0            ok         ok                                                 ok   \n",
       "1            ok         ok                                                 ok   \n",
       "2          7월      여왕의 샴페인  1867년 랭스(Reims)에 설립된 마리 스튜아트는 스코틀랜드의 여왕이자 프랑스 ...   \n",
       "3            ok         ok                                                 ok   \n",
       "4            ok         ok                                                 ok   \n",
       "\n",
       "  hashtag                                          blog_text  \\\n",
       "0      ok  WINE\\n더 롱 리틀 독 스파클링 [ The Long Little Dog Spar...   \n",
       "1      ok  와인이야기\\n[하남 포도내음 와인아울렛/와인샵]와인소개_화이트와인추천_Marreno...   \n",
       "2      ok  BEST와인추천\\n와인21닷컴이 선정한 7월 이달의 와인\\n와인21 ・ 2021. ...   \n",
       "3      ok  이탈리아와인\\nMASCA DEL TACCO [마스카 델 타코] 제이픽와인\\n산타 ・...   \n",
       "4      ok  (N) Piemonte\\nVietti, Barbera d'Asti Tre Vigne...   \n",
       "\n",
       "                                              review  \n",
       "0  스파클링.복숭아, 살구, 꽃, 흰꽃, 레몬.밝고 맑은 레몬 컬러에 레몬, 살구, 복...  \n",
       "1  ok.헤이즐넛, 꽃, 아카시아, 레몬.화사한 노란색을 띠며 레몬, 아카시아 꽃, 헤...  \n",
       "2  스파클링.꽃.반짝이는 연한 금빛의 정교한 거품을 지녔으며, 흰 꽃 패션 프루츠, 달...  \n",
       "3  ok.딸기, 미네랄.밟은 옅은 분홍색에 야생 딸기 젤리 수박과 같은 달콤한 향이 풍...  \n",
       "4  ok.체리, 오크.바르베라 다스티의 포도는 라 크레나 포도밭으로 유명한 아스티 언덕...  "
      ]
     },
     "execution_count": 20,
     "metadata": {},
     "output_type": "execute_result"
    }
   ],
   "source": [
    "wine.head()"
   ]
  },
  {
   "cell_type": "markdown",
   "metadata": {},
   "source": [
    "###### 필요없어진 열 삭제"
   ]
  },
  {
   "cell_type": "code",
   "execution_count": 21,
   "metadata": {},
   "outputs": [],
   "source": [
    "del wine[\"type\"]\n",
    "del wine[\"aroma\"]\n",
    "del wine[\"maker's_note\"]\n",
    "del wine[\"tasting_note\"]\n",
    "del wine[\"wine_title\"]\n",
    "del wine[\"wine_text\"]\n",
    "del wine[\"hashtag\"]\n",
    "del wine[\"posting_title\"]"
   ]
  },
  {
   "cell_type": "code",
   "execution_count": 22,
   "metadata": {},
   "outputs": [
    {
     "data": {
      "text/html": [
       "<div>\n",
       "<style scoped>\n",
       "    .dataframe tbody tr th:only-of-type {\n",
       "        vertical-align: middle;\n",
       "    }\n",
       "\n",
       "    .dataframe tbody tr th {\n",
       "        vertical-align: top;\n",
       "    }\n",
       "\n",
       "    .dataframe thead th {\n",
       "        text-align: right;\n",
       "    }\n",
       "</style>\n",
       "<table border=\"1\" class=\"dataframe\">\n",
       "  <thead>\n",
       "    <tr style=\"text-align: right;\">\n",
       "      <th></th>\n",
       "      <th>name_ko</th>\n",
       "      <th>blog_text</th>\n",
       "      <th>review</th>\n",
       "    </tr>\n",
       "  </thead>\n",
       "  <tbody>\n",
       "    <tr>\n",
       "      <th>0</th>\n",
       "      <td>더 롱 리틀 독 스파클링</td>\n",
       "      <td>WINE\\n더 롱 리틀 독 스파클링 [ The Long Little Dog Spar...</td>\n",
       "      <td>스파클링.복숭아, 살구, 꽃, 흰꽃, 레몬.밝고 맑은 레몬 컬러에 레몬, 살구, 복...</td>\n",
       "    </tr>\n",
       "    <tr>\n",
       "      <th>1</th>\n",
       "      <td>루베롱 블랑</td>\n",
       "      <td>와인이야기\\n[하남 포도내음 와인아울렛/와인샵]와인소개_화이트와인추천_Marreno...</td>\n",
       "      <td>ok.헤이즐넛, 꽃, 아카시아, 레몬.화사한 노란색을 띠며 레몬, 아카시아 꽃, 헤...</td>\n",
       "    </tr>\n",
       "    <tr>\n",
       "      <th>2</th>\n",
       "      <td>마리 스튜아트, 뀌베 드 라 헨느 브뤼</td>\n",
       "      <td>BEST와인추천\\n와인21닷컴이 선정한 7월 이달의 와인\\n와인21 ・ 2021. ...</td>\n",
       "      <td>스파클링.꽃.반짝이는 연한 금빛의 정교한 거품을 지녔으며, 흰 꽃 패션 프루츠, 달...</td>\n",
       "    </tr>\n",
       "    <tr>\n",
       "      <th>3</th>\n",
       "      <td>마스카 델 타코, 로시 피노 네로 로사토</td>\n",
       "      <td>이탈리아와인\\nMASCA DEL TACCO [마스카 델 타코] 제이픽와인\\n산타 ・...</td>\n",
       "      <td>ok.딸기, 미네랄.밟은 옅은 분홍색에 야생 딸기 젤리 수박과 같은 달콤한 향이 풍...</td>\n",
       "    </tr>\n",
       "    <tr>\n",
       "      <th>4</th>\n",
       "      <td>비에티, 바르베라 다스티 '트레 비그네'</td>\n",
       "      <td>(N) Piemonte\\nVietti, Barbera d'Asti Tre Vigne...</td>\n",
       "      <td>ok.체리, 오크.바르베라 다스티의 포도는 라 크레나 포도밭으로 유명한 아스티 언덕...</td>\n",
       "    </tr>\n",
       "  </tbody>\n",
       "</table>\n",
       "</div>"
      ],
      "text/plain": [
       "                  name_ko                                          blog_text  \\\n",
       "0           더 롱 리틀 독 스파클링  WINE\\n더 롱 리틀 독 스파클링 [ The Long Little Dog Spar...   \n",
       "1                  루베롱 블랑  와인이야기\\n[하남 포도내음 와인아울렛/와인샵]와인소개_화이트와인추천_Marreno...   \n",
       "2   마리 스튜아트, 뀌베 드 라 헨느 브뤼  BEST와인추천\\n와인21닷컴이 선정한 7월 이달의 와인\\n와인21 ・ 2021. ...   \n",
       "3  마스카 델 타코, 로시 피노 네로 로사토  이탈리아와인\\nMASCA DEL TACCO [마스카 델 타코] 제이픽와인\\n산타 ・...   \n",
       "4  비에티, 바르베라 다스티 '트레 비그네'  (N) Piemonte\\nVietti, Barbera d'Asti Tre Vigne...   \n",
       "\n",
       "                                              review  \n",
       "0  스파클링.복숭아, 살구, 꽃, 흰꽃, 레몬.밝고 맑은 레몬 컬러에 레몬, 살구, 복...  \n",
       "1  ok.헤이즐넛, 꽃, 아카시아, 레몬.화사한 노란색을 띠며 레몬, 아카시아 꽃, 헤...  \n",
       "2  스파클링.꽃.반짝이는 연한 금빛의 정교한 거품을 지녔으며, 흰 꽃 패션 프루츠, 달...  \n",
       "3  ok.딸기, 미네랄.밟은 옅은 분홍색에 야생 딸기 젤리 수박과 같은 달콤한 향이 풍...  \n",
       "4  ok.체리, 오크.바르베라 다스티의 포도는 라 크레나 포도밭으로 유명한 아스티 언덕...  "
      ]
     },
     "execution_count": 22,
     "metadata": {},
     "output_type": "execute_result"
    }
   ],
   "source": [
    "wine.head()"
   ]
  },
  {
   "cell_type": "markdown",
   "metadata": {},
   "source": [
    "###### 영어와 기호 의미없는 줄바꿈이 너무 많아 토크나이즈가 제대로 되지 않아, 한글과 숫자 약간의 기호를 제외한 글자들은 모두 삭제함"
   ]
  },
  {
   "cell_type": "code",
   "execution_count": 23,
   "metadata": {},
   "outputs": [
    {
     "name": "stderr",
     "output_type": "stream",
     "text": [
      "<ipython-input-23-d412dda28f9d>:1: FutureWarning: The default value of regex will change from True to False in a future version.\n",
      "  wine[\"blog_text\"] = wine[\"blog_text\"].str.replace(\"[^ㄱ-ㅎㅏ-ㅣ가-힣0-9]\",\"\")\n"
     ]
    }
   ],
   "source": [
    "wine[\"blog_text\"] = wine[\"blog_text\"].str.replace(\"[^ㄱ-ㅎㅏ-ㅣ가-힣0-9]\",\"\")"
   ]
  },
  {
   "cell_type": "code",
   "execution_count": 24,
   "metadata": {},
   "outputs": [
    {
     "name": "stderr",
     "output_type": "stream",
     "text": [
      "<ipython-input-24-63d9c72f23f1>:1: FutureWarning: The default value of regex will change from True to False in a future version.\n",
      "  wine[\"review\"] = wine[\"review\"].str.replace(\"[^ㄱ-ㅎㅏ-ㅣ가-힣0-9.,]\",\"\")\n"
     ]
    }
   ],
   "source": [
    "wine[\"review\"] = wine[\"review\"].str.replace(\"[^ㄱ-ㅎㅏ-ㅣ가-힣0-9.,]\",\"\")"
   ]
  },
  {
   "cell_type": "code",
   "execution_count": 25,
   "metadata": {
    "scrolled": true
   },
   "outputs": [
    {
     "data": {
      "text/html": [
       "<div>\n",
       "<style scoped>\n",
       "    .dataframe tbody tr th:only-of-type {\n",
       "        vertical-align: middle;\n",
       "    }\n",
       "\n",
       "    .dataframe tbody tr th {\n",
       "        vertical-align: top;\n",
       "    }\n",
       "\n",
       "    .dataframe thead th {\n",
       "        text-align: right;\n",
       "    }\n",
       "</style>\n",
       "<table border=\"1\" class=\"dataframe\">\n",
       "  <thead>\n",
       "    <tr style=\"text-align: right;\">\n",
       "      <th></th>\n",
       "      <th>name_ko</th>\n",
       "      <th>blog_text</th>\n",
       "      <th>review</th>\n",
       "    </tr>\n",
       "  </thead>\n",
       "  <tbody>\n",
       "    <tr>\n",
       "      <th>0</th>\n",
       "      <td>더 롱 리틀 독 스파클링</td>\n",
       "      <td>더롱리틀독스파클링소유리20216291549복사이웃추가더롱리틀독스파클링단맛이없고깔끔한...</td>\n",
       "      <td>스파클링.복숭아,살구,꽃,흰꽃,레몬.밝고맑은레몬컬러에레몬,살구,복숭아,흰꽃의아로마가...</td>\n",
       "    </tr>\n",
       "    <tr>\n",
       "      <th>1</th>\n",
       "      <td>루베롱 블랑</td>\n",
       "      <td>와인이야기하남포도내음와인아울렛와인샵와인소개화이트와인추천마레농클래식루베롱블랑2016포...</td>\n",
       "      <td>.헤이즐넛,꽃,아카시아,레몬.화사한노란색을띠며레몬,아카시아꽃,헤이즐넛향이어우러진다....</td>\n",
       "    </tr>\n",
       "    <tr>\n",
       "      <th>2</th>\n",
       "      <td>마리 스튜아트, 뀌베 드 라 헨느 브뤼</td>\n",
       "      <td>와인추천와인21닷컴이선정한7월이달의와인와인21202171950복사이웃추가조금늦게찾아...</td>\n",
       "      <td>스파클링.꽃.반짝이는연한금빛의정교한거품을지녔으며,흰꽃패션프루츠,달콤한흰과일과은은한미...</td>\n",
       "    </tr>\n",
       "    <tr>\n",
       "      <th>3</th>\n",
       "      <td>마스카 델 타코, 로시 피노 네로 로사토</td>\n",
       "      <td>이탈리아와인마스카델타코제이픽와인산타20216212026복사이웃추가마스카델타코는이탈리...</td>\n",
       "      <td>.딸기,미네랄.밟은옅은분홍색에야생딸기젤리수박과같은달콤한향이풍부하고그뒤로향신료광물미네...</td>\n",
       "    </tr>\n",
       "    <tr>\n",
       "      <th>4</th>\n",
       "      <td>비에티, 바르베라 다스티 '트레 비그네'</td>\n",
       "      <td>2018비에띠바르베라다스티트레비녜2018데미안202142700복사이웃추가2018비에...</td>\n",
       "      <td>.체리,오크.바르베라다스티의포도는라크레나포도밭으로유명한아스티언덕주변인아그리아노테르메...</td>\n",
       "    </tr>\n",
       "  </tbody>\n",
       "</table>\n",
       "</div>"
      ],
      "text/plain": [
       "                  name_ko                                          blog_text  \\\n",
       "0           더 롱 리틀 독 스파클링  더롱리틀독스파클링소유리20216291549복사이웃추가더롱리틀독스파클링단맛이없고깔끔한...   \n",
       "1                  루베롱 블랑  와인이야기하남포도내음와인아울렛와인샵와인소개화이트와인추천마레농클래식루베롱블랑2016포...   \n",
       "2   마리 스튜아트, 뀌베 드 라 헨느 브뤼  와인추천와인21닷컴이선정한7월이달의와인와인21202171950복사이웃추가조금늦게찾아...   \n",
       "3  마스카 델 타코, 로시 피노 네로 로사토  이탈리아와인마스카델타코제이픽와인산타20216212026복사이웃추가마스카델타코는이탈리...   \n",
       "4  비에티, 바르베라 다스티 '트레 비그네'  2018비에띠바르베라다스티트레비녜2018데미안202142700복사이웃추가2018비에...   \n",
       "\n",
       "                                              review  \n",
       "0  스파클링.복숭아,살구,꽃,흰꽃,레몬.밝고맑은레몬컬러에레몬,살구,복숭아,흰꽃의아로마가...  \n",
       "1  .헤이즐넛,꽃,아카시아,레몬.화사한노란색을띠며레몬,아카시아꽃,헤이즐넛향이어우러진다....  \n",
       "2  스파클링.꽃.반짝이는연한금빛의정교한거품을지녔으며,흰꽃패션프루츠,달콤한흰과일과은은한미...  \n",
       "3  .딸기,미네랄.밟은옅은분홍색에야생딸기젤리수박과같은달콤한향이풍부하고그뒤로향신료광물미네...  \n",
       "4  .체리,오크.바르베라다스티의포도는라크레나포도밭으로유명한아스티언덕주변인아그리아노테르메...  "
      ]
     },
     "execution_count": 25,
     "metadata": {},
     "output_type": "execute_result"
    }
   ],
   "source": [
    "wine.head()"
   ]
  },
  {
   "cell_type": "markdown",
   "metadata": {},
   "source": [
    "###### review 열을  토큰화한 뒤 원하는 품사를 가진 단어만 남겨둘 새로운 열 추가"
   ]
  },
  {
   "cell_type": "code",
   "execution_count": 26,
   "metadata": {},
   "outputs": [],
   "source": [
    "wine[\"review_token\"] = \" \""
   ]
  },
  {
   "cell_type": "markdown",
   "metadata": {},
   "source": [
    "###### 원하는 품사(의미를 가진 품사)만 새로운 열에 추가함"
   ]
  },
  {
   "cell_type": "code",
   "execution_count": 27,
   "metadata": {},
   "outputs": [],
   "source": [
    "for i in range(0,806):\n",
    "    pos = okt.pos(wine.review[i])\n",
    "    for j in pos:\n",
    "        if j[1] == \"Adjective\":\n",
    "            wine.review_token[i] = wine.review_token[i] + \" \" + j[0] \n",
    "        if j[1] == \"Noun\":\n",
    "            wine.review_token[i] = wine.review_token[i] + \" \" + j[0] \n",
    "        if j[1] == \"Number\":\n",
    "            wine.review_token[i] = wine.review_token[i] + \" \" + j[0]     \n",
    "        if j[1] == \"Suffix\":\n",
    "            wine.review_token[i] = wine.review_token[i] + \" \" + j[0]\n",
    "        if j[1] == \"Verb\":\n",
    "            wine.review_token[i] = wine.review_token[i] + \" \" + j[0]"
   ]
  },
  {
   "cell_type": "code",
   "execution_count": 28,
   "metadata": {},
   "outputs": [
    {
     "data": {
      "text/html": [
       "<div>\n",
       "<style scoped>\n",
       "    .dataframe tbody tr th:only-of-type {\n",
       "        vertical-align: middle;\n",
       "    }\n",
       "\n",
       "    .dataframe tbody tr th {\n",
       "        vertical-align: top;\n",
       "    }\n",
       "\n",
       "    .dataframe thead th {\n",
       "        text-align: right;\n",
       "    }\n",
       "</style>\n",
       "<table border=\"1\" class=\"dataframe\">\n",
       "  <thead>\n",
       "    <tr style=\"text-align: right;\">\n",
       "      <th></th>\n",
       "      <th>name_ko</th>\n",
       "      <th>blog_text</th>\n",
       "      <th>review</th>\n",
       "      <th>review_token</th>\n",
       "    </tr>\n",
       "  </thead>\n",
       "  <tbody>\n",
       "    <tr>\n",
       "      <th>0</th>\n",
       "      <td>더 롱 리틀 독 스파클링</td>\n",
       "      <td>더롱리틀독스파클링소유리20216291549복사이웃추가더롱리틀독스파클링단맛이없고깔끔한...</td>\n",
       "      <td>스파클링.복숭아,살구,꽃,흰꽃,레몬.밝고맑은레몬컬러에레몬,살구,복숭아,흰꽃의아로마가...</td>\n",
       "      <td>스파클링 복숭아 살구 꽃 흰 꽃 레몬 밝고 맑은 레몬 컬러 에레몬 살구 복숭아 ...</td>\n",
       "    </tr>\n",
       "    <tr>\n",
       "      <th>1</th>\n",
       "      <td>루베롱 블랑</td>\n",
       "      <td>와인이야기하남포도내음와인아울렛와인샵와인소개화이트와인추천마레농클래식루베롱블랑2016포...</td>\n",
       "      <td>.헤이즐넛,꽃,아카시아,레몬.화사한노란색을띠며레몬,아카시아꽃,헤이즐넛향이어우러진다....</td>\n",
       "      <td>헤이즐넛 꽃 아카시아 레몬 화사한 노란색 띠 레몬 아카시아 꽃 헤이즐넛 향 어우...</td>\n",
       "    </tr>\n",
       "    <tr>\n",
       "      <th>2</th>\n",
       "      <td>마리 스튜아트, 뀌베 드 라 헨느 브뤼</td>\n",
       "      <td>와인추천와인21닷컴이선정한7월이달의와인와인21202171950복사이웃추가조금늦게찾아...</td>\n",
       "      <td>스파클링.꽃.반짝이는연한금빛의정교한거품을지녔으며,흰꽃패션프루츠,달콤한흰과일과은은한미...</td>\n",
       "      <td>스파클링 꽃 반짝이는 연한 금빛 정교한 거품 지녔으며 흰꽃패션프루츠 달콤한 흰 ...</td>\n",
       "    </tr>\n",
       "    <tr>\n",
       "      <th>3</th>\n",
       "      <td>마스카 델 타코, 로시 피노 네로 로사토</td>\n",
       "      <td>이탈리아와인마스카델타코제이픽와인산타20216212026복사이웃추가마스카델타코는이탈리...</td>\n",
       "      <td>.딸기,미네랄.밟은옅은분홍색에야생딸기젤리수박과같은달콤한향이풍부하고그뒤로향신료광물미네...</td>\n",
       "      <td>딸기 미네랄 밟은 옅은 분홍색 야생 딸기 젤리 수박 같은 달콤한 향 풍부하고 뒤...</td>\n",
       "    </tr>\n",
       "    <tr>\n",
       "      <th>4</th>\n",
       "      <td>비에티, 바르베라 다스티 '트레 비그네'</td>\n",
       "      <td>2018비에띠바르베라다스티트레비녜2018데미안202142700복사이웃추가2018비에...</td>\n",
       "      <td>.체리,오크.바르베라다스티의포도는라크레나포도밭으로유명한아스티언덕주변인아그리아노테르메...</td>\n",
       "      <td>체리 오크 바르 베 라다 스티 포도 라크 레나 포도 밭 유명한 아스티 언덕 주변...</td>\n",
       "    </tr>\n",
       "  </tbody>\n",
       "</table>\n",
       "</div>"
      ],
      "text/plain": [
       "                  name_ko                                          blog_text  \\\n",
       "0           더 롱 리틀 독 스파클링  더롱리틀독스파클링소유리20216291549복사이웃추가더롱리틀독스파클링단맛이없고깔끔한...   \n",
       "1                  루베롱 블랑  와인이야기하남포도내음와인아울렛와인샵와인소개화이트와인추천마레농클래식루베롱블랑2016포...   \n",
       "2   마리 스튜아트, 뀌베 드 라 헨느 브뤼  와인추천와인21닷컴이선정한7월이달의와인와인21202171950복사이웃추가조금늦게찾아...   \n",
       "3  마스카 델 타코, 로시 피노 네로 로사토  이탈리아와인마스카델타코제이픽와인산타20216212026복사이웃추가마스카델타코는이탈리...   \n",
       "4  비에티, 바르베라 다스티 '트레 비그네'  2018비에띠바르베라다스티트레비녜2018데미안202142700복사이웃추가2018비에...   \n",
       "\n",
       "                                              review  \\\n",
       "0  스파클링.복숭아,살구,꽃,흰꽃,레몬.밝고맑은레몬컬러에레몬,살구,복숭아,흰꽃의아로마가...   \n",
       "1  .헤이즐넛,꽃,아카시아,레몬.화사한노란색을띠며레몬,아카시아꽃,헤이즐넛향이어우러진다....   \n",
       "2  스파클링.꽃.반짝이는연한금빛의정교한거품을지녔으며,흰꽃패션프루츠,달콤한흰과일과은은한미...   \n",
       "3  .딸기,미네랄.밟은옅은분홍색에야생딸기젤리수박과같은달콤한향이풍부하고그뒤로향신료광물미네...   \n",
       "4  .체리,오크.바르베라다스티의포도는라크레나포도밭으로유명한아스티언덕주변인아그리아노테르메...   \n",
       "\n",
       "                                        review_token  \n",
       "0    스파클링 복숭아 살구 꽃 흰 꽃 레몬 밝고 맑은 레몬 컬러 에레몬 살구 복숭아 ...  \n",
       "1    헤이즐넛 꽃 아카시아 레몬 화사한 노란색 띠 레몬 아카시아 꽃 헤이즐넛 향 어우...  \n",
       "2    스파클링 꽃 반짝이는 연한 금빛 정교한 거품 지녔으며 흰꽃패션프루츠 달콤한 흰 ...  \n",
       "3    딸기 미네랄 밟은 옅은 분홍색 야생 딸기 젤리 수박 같은 달콤한 향 풍부하고 뒤...  \n",
       "4    체리 오크 바르 베 라다 스티 포도 라크 레나 포도 밭 유명한 아스티 언덕 주변...  "
      ]
     },
     "execution_count": 28,
     "metadata": {},
     "output_type": "execute_result"
    }
   ],
   "source": [
    "wine.head()"
   ]
  },
  {
   "cell_type": "code",
   "execution_count": 29,
   "metadata": {},
   "outputs": [],
   "source": [
    "#wine[\"sorted_review_token\"] = \" \""
   ]
  },
  {
   "cell_type": "code",
   "execution_count": null,
   "metadata": {},
   "outputs": [],
   "source": [
    "# for n in range(0,806):\n",
    "    \n",
    "#     vocab ={}\n",
    "#     word_to_index ={}    \n",
    "#     word_to_index_reverse = {}\n",
    "#     sentence=[]\n",
    "#     sentences=[]\n",
    "#     i = 0\n",
    "    \n",
    "#     for word in word_tokenize(wine.review_token[n]):\n",
    "#         if word not in vocab:\n",
    "#             vocab[word] = 0\n",
    "#         vocab[word] +=1\n",
    "        \n",
    "#         vocab_sorted = sorted(vocab.items(), key=lambda x: x[1], reverse=True)\n",
    "    \n",
    "#         continue;\n",
    "    \n",
    "#     for word,frequency in vocab_sorted:\n",
    "#         i+=1\n",
    "#         word_to_index[word]=i\n",
    "\n",
    "#         continue;\n",
    "    \n",
    "#     for word in word_tokenize(wine.review_token[n]):\n",
    "#         if word in word_to_index.keys():\n",
    "#             if word_to_index[word] not in sentence:\n",
    "#                  sentence.append(word_to_index[word])\n",
    "#         sentence = sorted(sentence)\n",
    "#         wine[\"sorted_review_token\"][n] = sentence   \n",
    "        \n",
    "#         continue;\n",
    "        \n",
    "#     word_to_index_reverse = {v:k for k,v in word_to_index.items()}\n",
    "\n",
    "#     for number in wine.sorted_review_token[n]:\n",
    "#         sentences.append(word_to_index_reverse[number])\n",
    "#         wine[\"review_token\"][n] = sentences\n",
    "#     continue;"
   ]
  },
  {
   "cell_type": "markdown",
   "metadata": {},
   "source": [
    "###### review text 전체의 빈도수를 Dictionary로 나타냄"
   ]
  },
  {
   "cell_type": "code",
   "execution_count": 34,
   "metadata": {},
   "outputs": [],
   "source": [
    "vocab ={}\n",
    "for i in range(0,806):\n",
    "    for word in word_tokenize(wine.review_token[i]):\n",
    "        if word not in vocab:\n",
    "            vocab[word] = 0\n",
    "        vocab[word] +=1"
   ]
  },
  {
   "cell_type": "code",
   "execution_count": 35,
   "metadata": {},
   "outputs": [
    {
     "name": "stdout",
     "output_type": "stream",
     "text": [
      "{'스파클링': 227, '복숭아': 144, '살구': 86, '꽃': 216, '흰': 56, '레몬': 125, '밝고': 14, '맑은': 13, '컬러': 87, '에레몬': 2, '아로마': 294, '느껴진다': 116, '입안': 203, '싱그러운': 24, '상큼': 59, '과일': 236, '기분': 103, '좋은': 334, '산미': 131, '포로': 6, '피어나는': 3, '와인': 2321, '헤이즐넛': 20, '아카시아': 29, '화사한': 25, '노란색': 18, '띠': 162, '향': 527, '어우러진다': 16, '부드럽고': 41, '섬세한': 60, '맛': 175, '생기있는': 7, '피니시': 34, '인상': 65, '적': 697, '반짝이는': 16, '연한': 12, '금빛': 24, '정교한': 5, '거품': 13, '지녔으며': 3, '흰꽃패션프루츠': 2, '달콤한': 96, '은은한': 65, '미네': 4, '럴': 4, '느낄수있다': 68, '우아하고': 34, '균형': 97, '감': 140, '뛰어난': 106, '샴페인': 251, '발': 12, '레드': 93, '마른과': 2, '세잔': 2, '생산': 573, '최상급': 17, '피노': 200, '뮈': 5, '누': 172, '샤르도네': 86, '품종': 278, '든': 19, '마리': 13, '스튜': 11, '아트': 7, '리지': 10, '널': 3, '블렌딩': 125, '비율': 12, '뀌': 3, '베드': 3, '헨느': 3, '여왕': 5, '뀌베': 9, '별칭': 5, '갖고있으며': 2, '도사': 9, '주는': 24, '8': 23, '7월': 14, '1867년': 5, '그': 71, '훗날': 1, '잉글랜드': 1, '스코틀랜드': 1, '의왕': 1, '되는': 90, '제임스': 12, '1': 45, '세': 12, '어머니': 3, '하며': 11, '많은': 33, '예술가': 3, '들': 243, '영감': 12, '준': 2, '아름다운': 41, '인물': 14, '특별한': 27, '애정': 3, '보여': 1, '경의': 2, '표': 4, '하': 580, '의미': 104, '담은': 25, '신선하며': 2, '다양한': 120, '미를': 126, '표현': 71, '뫼니': 6, '50': 36, '40': 9, '10': 36, '로': 182, '적용': 16, '했으며': 36, '즉': 4, '있다': 87, '버블': 78, '우아한': 98, '돋보이는': 23, '딸기': 124, '미네랄': 136, '밟은': 2, '옅은': 29, '분홍색': 5, '야생': 34, '젤리': 8, '수박': 6, '같은': 124, '풍부하고': 28, '뒤': 49, '향신료': 64, '광물': 2, '희미하게': 2, '돈': 7, '쥬시': 2, '감싸고': 2, '신선하지만': 2, '우아한과': 4, '실향': 94, '이길게': 12, '여운': 134, '남는': 11, '체리': 277, '오크': 329, '바르': 30, '베': 42, '라다': 4, '스티': 22, '포도': 387, '라크': 3, '레나': 4, '밭': 84, '유명한': 29, '아스티': 7, '언덕': 10, '주변인': 2, '리아노': 2, '테르메': 2, '지역': 308, '된다': 65, '루비': 85, '색': 92, '있으며': 32, '익은': 121, '붉은': 126, '계피': 9, '스': 49, '위트': 19, '스파이스': 43, '풍부하게': 32, '잔잔': 3, '한산도': 66, '느껴지는': 78, '타닌': 188, '조화롭게': 20, '밸런스': 76, '유지': 27, '미와': 104, '미가긴': 3, '18': 25, '개': 126, '월간': 81, '슬로': 6, '베니안': 5, '통': 91, '숙성': 177, '되었다': 37, '우아하면서': 8, '신선한': 109, '의향': 127, '산도': 83, '있으면서': 2, '밝은': 51, '캐릭터': 32, '흰색': 7, '가주': 4, '느껴지고': 33, '날카로운': 3, '리티': 32, '마시': 3, '고난': 2, '생생': 6, '한여운': 19, '남기는': 23, '샹파뉴': 15, '샤를': 5, '리쉬르': 1, '마른에': 1, '위치': 54, '끌': 10, '로드': 6, '바롱': 2, '30년': 11, '만드는': 13, '중': 90, '적절히사': 1, '용해': 32, '섬세하고': 25, '발랄한': 6, '선보이는것이': 1, '특징': 90, '마른': 6, '밸리': 98, '곳': 56, '마을': 25, '재배': 91, '전통': 64, '방식': 43, '약': 19, '3년': 10, '6년': 4, '신선한과': 19, '일향': 117, '느껴지며': 59, '남긴다': 25, '식전주': 36, '즐기기에': 14, '최적': 3, '석류': 13, '오렌지': 96, '세인트': 4, '넘': 3, '조아요': 2, '굿': 4, '뜨': 12, '베리': 84, '산뜻한': 38, '과실': 142, '부드러운': 163, '질감': 105, '캘리포니아': 81, '소노마': 24, '카운티': 23, '자리': 129, '프란시스': 3, '마틴': 4, '1971년': 2, '최초': 39, '멜롯': 2, '개척': 8, '자로': 1, '꼽힌다': 23, '류': 55, '돋보이며': 10, '구운': 1, '견과류': 20, '뉘앙스': 65, '조화': 90, '이룬다': 21, '여름날': 11, '음식': 133, '매칭': 38, '해': 113, '즐기기': 81, '샌프란시스코': 2, '크로니클': 1, '대회': 5, '를': 86, '수상할만큼': 1, '전문가': 15, '호평': 5, '얻고있다': 7, '황금색': 15, '비오니에': 10, '품': 5, '종특': 6, '유의': 43, '등': 319, '긋': 20, '꽃향': 42, '풍부한': 110, '만든다': 9, '프루': 8, '티': 37, '바디': 122, '적당한': 29, '프랑스': 155, '론': 37, '최고': 64, '생산자': 102, '꼽히는이기': 1, '갈은': 1, '북부': 16, '남부': 15, '아우르며': 1, '채': 30, '70': 15, '의비': 4, '오니': 4, '와': 33, '루산': 4, '느': 5, '마르': 14, '산느': 1, '레렛등을블렌딩': 1, '이기': 18, '갈의': 1, '꼬': 10, '뒤론': 3, '화이트': 50, '25년': 3, '특': 32, '등신': 9, '선한과': 2, '풍부하다': 8, '갖춘': 44, '차갑게': 13, '칠링해': 1, '해산물': 54, '곁들이거나': 2, '여름철': 10, '매콤': 20, '요리': 149, '즐겨도': 16, '잘': 164, '어울린다': 57, '라임': 54, '타르': 8, '메이어': 2, '은근': 7, '세련되게': 3, '어우러져있으며': 2, '신선함도': 2, '타르트': 8, '미가': 149, '어울려': 6, '화려한': 17, '자아내는': 4, '1976년': 5, '파리': 3, '심판': 3, '계기': 2, '산샤': 4, '이의': 3, '위상': 6, '달라졌습니다': 2, '모스': 51, '샤': 43, '이': 121, '특급': 3, '원': 40, '매년': 15, '소량': 18, '제작': 5, '됩니다': 7, '겨울철': 4, '해물': 3, '가빠진다면': 2, '미각': 8, '누릴수있는': 2, '즐거움': 10, '포기': 2, '것': 37, '입니다': 100, '코스': 3, '페어': 38, '링': 60, '해천': 2, '천히음': 2, '미하': 2, '보면': 8, '이만': 4, '관능': 4, '경험': 30, '할수있습니다': 4, '네': 27, '좋아하게': 2, '해준': 2, '디저트': 53, '샐러드': 40, '어색': 6, '섬세한기': 19, '포': 66, '붉은과': 24, '잔': 14, '가득': 64, '채우는': 6, '칠레': 57, '달콤한로': 2, '제': 22, '블랙베리': 113, '갸닛': 1, '붉': 15, '은색': 16, '빛깔': 9, '가지고있으며': 6, '및': 22, '윽': 1, '우드': 3, '풍만하고': 3, '실크': 10, '매혹': 20, '느낌': 145, '감싸안으며': 1, '진한과': 4, '긴': 40, '상당히': 3, '훌륭하다': 7, '자두': 174, '진한': 62, '보라': 8, '빛': 103, '색상': 23, '신선하고': 25, '풍부한자': 1, '더해진': 5, '나무': 17, '미디엄': 21, '잡힌': 19, '감을가진': 2, '안티': 23, '아스': 10, '쿠': 8, '지노': 3, '마쿨': 3, '처': 4, '레인지': 12, '1920년': 2, '80년': 2, '2': 29, '루이스': 1, '지노가자': 1, '신의': 3, '너리': 286, '방문': 2, '귀빈': 1, '대접': 1, '하기': 104, '위해': 57, '점차': 3, '인기': 33, '되어': 21, '대중': 7, '이어진': 1, '유래': 7, '로버트': 12, '파커': 8, '로부터': 28, '대부분': 8, '90': 15, '점': 33, '이상': 25, '기록': 17, '안티구아': 1, '스까베르': 1, '소비': 111, '뇽': 59, '경우': 3, '4년': 6, '명성': 42, '대표': 83, '현재': 40, '델타항공': 1, '퍼스트클래스': 2, '서브': 1, '되고있다': 5, '후추': 61, '바닐라': 140, '성하고': 4, '따스한': 3, '짙은': 25, '지닌': 25, '농축': 19, '된': 198, '강렬한': 39, '검은과': 13, '발사믹': 10, '소스': 12, '어우러': 1, '진남': 1, '검정': 3, '올리브': 7, '퓨레': 1, '연상': 34, '시킨다': 10, '숯불': 4, '살짝': 37, '운듯': 1, '생동감': 54, '넘치지만': 1, '정밀': 3, '조감': 71, '느낄수있고': 11, '부드럽게': 46, '다가오지만': 1, '매우': 51, '솔직하며': 1, '힘': 16, '넘치는': 42, '15년': 6, '블루베리': 43, '토스트': 33, '건초': 2, '푸른빛': 4, '감도는': 29, '검은': 47, '풍부하면서도': 5, '의과': 29, '낙엽': 4, '가죽': 23, '수많은': 2, '복잡': 4, '미묘한': 3, '단계': 2, '드러나는데': 1, '검': 30, '기본': 7, '토양': 33, '담뱃잎': 3, '운햄등': 1, '부케': 21, '살': 4, '움직이듯이': 1, '느껴지는것': 1, '이인상': 28, '흥미로운': 2, '비강': 1, '통해': 55, '느껴짐과': 2, '동시': 19, '장기간': 1, '풀': 70, '이해': 6, '거듭': 4, '하면서': 7, '변화': 9, '동안': 17, '줄수있는': 3, '성숙한': 2, '전체': 22, '은은히퍼진다': 1, '배': 116, '연둣빛': 3, '노랑': 3, '자몽': 45, '산뜻하고': 6, '달콤한과': 8, '토스티': 16, '아몬드': 31, '차례': 22, '레이어': 6, '집중': 22, '높은': 58, '일정': 4, '수준': 6, '입맛': 21, '돋우는': 2, '잘만': 6, '고급': 12, '화이트와인': 64, '특성': 23, '보여준다': 40, '손': 13, '수확': 79, '로양': 13, '조해': 6, '는': 51, '산새': 4, '배럴': 53, '달걀': 2, '모양': 18, '콘크리트': 6, '개월': 68, '숙성한다': 24, '코노수르': 11, '20': 37, '시리즈': 19, '1996년': 7, '분량': 5, '정적': 5, '들며': 4, '탄생': 40, '리미티드에디션': 10, '브랜드': 63, '세계': 57, '성공': 7, '거둔': 4, '후': 65, '확대': 5, '까': 50, '베르': 22, '1997년': 6, '메': 57, '1998년': 7, '2002년': 6, '소비뇽블': 8, '2005년': 7, '시라': 73, '2008년': 7, '파인애플': 29, '골드': 18, '옐로우': 5, '의리': 7, '즐링': 1, '봄꽃향': 1, '같은다': 1, '좋고': 41, '일품': 7, '카비': 1, '넷': 1, '라인': 5, '가우': 1, '스위': 1, '트리': 8, '슬링': 30, '62.2': 1, '피자': 11, '붉은빛': 5, '깔을가지고': 1, '있고': 16, '레쉬': 2, '한과': 19, '이아주': 3, '전달': 6, '해준다': 7, '크리미': 27, '가지고있고': 3, '단맛': 27, '어울러져': 1, '카토': 41, '가르나': 17, '차': 39, '피니쉬': 30, '가지': 66, '5': 33, '도의': 21, '알코올': 46, '도약': 3, '간': 22, '증가': 1, '허브': 105, '화이': 1, '트페': 1, '퍼향': 1, '실키': 5, '맥라렌': 6, '베일': 6, '쉬라즈': 59, '클래식': 17, '스타일': 121, '파이': 9, '운디': 2, '하게': 2, '다듬어진': 5, '촘촘': 13, '말린': 38, '어우러진긴': 1, '마세라': 1, '시옹': 4, '과정': 43, '즙': 7, '얻은것': 1, '이후': 27, '시압': 1, '착한': 3, '사용': 125, '12': 39, '거치는데': 1, '16년': 1, '6': 36, '가량': 4, '부와': 4, '인': 30, '즐기려면': 1, '지금': 22, '마셔도': 20, '취향': 5, '따라': 15, '연도로': 2, '510년': 1, '픽': 1, '쳐': 1, '리오': 3, '너': 23, '친구': 3, '이자': 22, '포토': 1, '그래퍼': 1, '폴라로이드': 1, '작품': 11, '라벨': 22, '디자인': 20, '잔잔한': 10, '감동': 1, '육두구': 14, '담배': 17, '열매': 13, '의약': 2, '복합': 121, '자아낸다': 4, '비롯': 16, '각종': 24, '지속': 63, '이어지며': 4, '견고한': 11, '끝맛': 6, '어우러져': 35, '매력': 192, '4월': 10, '5일': 1, '의': 107, '온도': 25, '상온': 3, '침용': 14, '거침': 1, '24': 15, '7일': 1, '10일': 2, '트러스': 97, '좋게': 15, '달콤하고': 18, '미감': 24, '편하게': 26, '즐길수있는': 25, '크리스마스': 21, '팬': 5, '시한': 19, '병': 50, '품질': 114, '우수하여': 1, '유럽': 11, '일본': 1, '크게': 2, '얻고있는': 2, '제품': 8, '사랑스러운': 16, '물용': 1, '이나연': 1, '가족': 59, '사과': 106, '전': 7, '독일': 18, '젝트': 1, '불리우던': 1, '닥터': 2, '루젠': 2, '새롭게': 7, '선보입니다': 3, '리': 56, '100': 160, '샤르': 13, '마방': 5, '식': 29, '인하여': 1, '고품격': 1, '조금': 7, '더': 45, '가격': 47, '소비자': 7, '보이': 12, '되었습니다': 1, '반짝이는기': 1, '포감': 3, '풋': 8, '분홍': 4, '빛과': 4, '연두빛': 3, '지니고있는다': 1, '양한': 4, '느낄수있습니다': 8, '양고기': 8, '솔트': 1, '아주': 21, '윤기': 2, '흐르는': 1, '가넷': 9, '이진': 3, '향기롭다': 3, '집약': 3, '된과': 5, '실의': 22, '탄닌': 36, '매끄러운': 9, '잡힌구': 3, '두르': 5, '뉘': 3, '메로': 3, '은': 15, '보르도': 43, '기준': 6, '할수있을': 2, '정도': 53, '가장': 55, '나타내주는': 2, '혁신': 6, '완벽함을': 1, '추구': 9, '1988년': 1, '메이커': 50, '미셸': 6, '롤랑': 6, '루즈': 5, '데니스': 2, '보르': 5, '디유': 1, '블': 4, '양조': 57, '컨설팅': 4, '되었으며': 1, '언론': 1, '만장일치': 1, '대': 32, '로써': 1, '인정받아': 1, '왔다': 8, '톰': 2, '스티븐슨': 2, '저서': 1, '소더비즈': 1, '사이클': 2, '페': 14, '디아': 4, '판매': 20, '고를': 2, '올리는': 2, '도제': 1, '릭': 1, '평가': 50, '받은바': 2, '초콜릿': 58, '오픈': 40, '직후': 3, '피어': 20, '오르는잘': 1, '익은과': 11, '모금': 4, '순간': 25, '할퀴는듯': 1, '길들여지지': 1, '않은': 36, '맹수': 1, '년': 20, '기간': 13, '두고': 3, '마시면': 15, '깜짝': 2, '놀랄만': 1, '녀석': 1, '변할것': 1, '같다고': 1, '조심': 1, '스레': 1, '예상': 1, '해본다': 1, '자마자': 3, '기름기': 2, '육류': 67, '하면': 12, '좋을듯': 3, '하다': 18, '선물': 126, '받는이에게': 1, '설레는': 13, '봄': 35, '선사': 69, '싶다면': 6, '레이블': 158, '그려진': 15, '네타': 5, '럼': 3, '바고': 1, '될듯': 4, '실제': 13, '21': 22, '컴': 1, '기자': 2, '이선정': 2, '봄날': 23, '올랐던': 1, '이름': 143, '시칠리아': 29, '자라는': 5, '역사': 55, '시작': 42, '멘': 31, '피': 16, '대화': 6, '농밀': 11, '국가': 37, '이탈리아': 139, '볼라': 1, '생일': 13, '기념': 26, '추천': 125, '2009년': 6, '쉬': 11, '퍼플': 4, '칼라': 3, '겹': 1, '쳐져있으며': 1, '약간': 55, '스파이': 50, '함': 42, '베이스': 14, '쇼': 1, '더해져아주': 1, '흥미롭다': 2, '400': 2, '바구니': 4, '담겨져': 1, '잎사귀': 2, '제거': 18, '압축': 3, '거치': 9, '발효': 92, '3일': 1, '펌프': 3, '오버': 5, '거친': 6, '2528': 1, '다시': 13, '하루': 6, '4': 41, '번': 10, '진행': 39, '한다': 23, '젖산발효': 7, '거': 7, '친후': 4, '미국': 85, '거친다': 7, '85': 10, '80': 11, '프렌치': 59, '각각': 3, '월동': 18, '안': 21, '되어진다': 1, '나머지': 5, '15': 27, '스테인레스': 18, '스틸': 34, '되고전': 1, '3': 39, '번의': 1, '클린': 1, '디캔팅': 2, '정향': 21, '감초': 63, '카라멜': 10, '삼나무': 23, '버건디': 3, '블랙': 109, '조화로운': 11, '부분': 9, '바닐': 1, '힌트': 21, '사이': 11, '좋아': 13, '중간': 14, '길게': 20, '되다': 1, '마무리': 17, '치즈': 59, '스테이크': 29, '등심': 2, '안심': 1, '바비큐': 11, '야채': 3, '감귤': 33, '짚색': 4, '띄며': 4, '풋풋함과': 1, '묵직함과': 1, '열대과일': 47, '가벼운': 34, '채운': 6, '느낄수있는': 29, '압': 14, '조절': 9, '탱크': 37, '진지하면서도': 1, '오레곤': 3, '제외': 1, '상': 35, '75': 4, '된주': 1, '명시': 1, '할수있는': 18, '법': 13, '분명': 1, '이외': 1, '다른': 11, '된것': 1, '같은데': 1, '잡': 3, '수': 2, '없었다': 1, '찾아보니': 1, '글로벌': 1, '체다': 3, '캬라멜': 1, '이미지': 21, '보여지는': 4, '빨레': 1, '이러한': 5, '마법': 1, '같기': 1, '도하': 1, '했는데': 6, '크렌베리': 1, '캐슈넛': 1, '시너지': 1, '효과': 3, '꽤': 13, '좋았다': 4, '호두': 12, '껍질': 31, '충돌': 1, '에러': 1, '익': 2, '어': 25, '한소리': 2, '날것만': 1, '햇': 2, '되며': 17, '우아함과': 8, '바이올렛': 22, '과꽃': 18, '향기': 73, '나타나는': 2, '감을주며': 2, '잡혀있고': 1, '전해': 7, '아르헨티나': 20, '높이': 3, '멘도': 2, '자투': 1, '가토': 2, '1300': 1, '미터': 3, '고지': 1, '만들어진': 7, '넓은': 3, '폭': 2, '기온': 3, '보여주는데이로': 1, '인하여진한': 1, '얻어': 3, '낼수있으며': 1, '자연': 44, '장기': 8, '가능하다': 1, '출시': 42, '계열': 6, '며': 9, '신선': 20, '보여주는': 27, '적당': 17, '량': 18, '주전자': 2, '전기포트': 2, '덜어': 2, '도정': 6, '따끈하게': 2, '데워서': 1, '먹으면': 2, '글뤼': 3, '바인': 28, '맛있게': 6, '즐기': 8, '기병': 1, '데워진한': 1, '음미': 3, '즐긴다': 1, '마개': 3, '닫아': 1, '서늘한': 17, '보관': 7, '가능': 8, '끓이면': 1, '알콜': 3, '날아가니주의': 1, '더욱': 55, '원하면': 1, '꼬냑': 1, '브랜디': 3, '첨가': 7, '필요할': 2, '때': 74, '겨울': 12, '야외': 26, '스포츠': 1, '스키': 1, '산행': 1, '골프': 2, '몸': 5, '풀어줄': 1, '따뜻한': 8, '음료': 3, '원할': 1, '감기': 2, '기운이있을': 1, '잠들': 2, '기전': 5, '숙면': 1, '위': 84, '한잔': 9, '생각날': 1, '소중한': 6, '분': 24, '나들이': 1, '보온병': 1, '행복': 3, '추운': 6, '힐링': 6, '분과': 2, '훈훈함을': 1, '나누세요': 1, '만들어': 22, '먹는': 2, '뱅쇼': 2, '그때': 2, '다르고': 1, '잘못': 2, '해서': 21, '끓기라도': 1, '틀어지는데': 1, '크리스트': 1, '킨들': 1, '째': 18, '데워': 1, '온기': 1, '퍼지고': 3, '역시': 19, '튀는': 8, '무난': 5, '올라오는': 15, '전반': 4, '깔끔한': 29, '강하지도': 1, '약하지도': 1, '괜찮았음': 1, '그냥': 3, '데워만': 1, '좋겠지만': 1, '조각': 5, '띄워서': 1, '마시니': 2, '맛있었는듯': 1, '라스베리': 7, '같은과': 2, '스모키': 16, '맑고': 5, '투명하게': 2, '느껴지면서도': 1, '충분히': 10, '악질': 1, '떼루아': 33, '드러나있는': 1, '레드와인': 43, '색띠': 1, '류향': 1, '이주': 10, '이루며': 15, '라즈베리': 70, '입힌': 2, '먹는듯': 2, '주고': 6, '탄산': 18, '신선함을주는': 1, '올해': 19, '밸런타인데이': 13, '할': 42, '복': 5, '고풍': 11, '남호주': 7, '바로': 36, '사': 17, '소규모': 4, '경영': 31, '클랜': 1, '드는': 9, '개성': 52, '있는': 119, '사랑': 31, '받고있어요': 4, '박스': 4, '클': 5, '랜드': 2, '의전': 7, '형': 13, '인포': 3, '을사': 16, '어울리는': 42, '선보이고있죠': 3, '1960년': 3, '느껴지죠': 3, '마치': 13, '시켜요': 2, '면': 10, '산딸기': 12, '키르': 1, '버찌': 2, '초목': 1, '향등': 9, '응축': 9, '되어있는': 4, '깊이': 13, '과즙': 12, '목': 11, '넘김': 10, '같은잘': 1, '꼬르': 1, '비': 38, '신선함과': 12, '풍부함과': 4, '제공': 6, '유기농': 41, '오미자': 1, '긋한': 19, '코': 45, '자극': 8, '콤': 13, '이어다시': 1, '한번': 20, '감싼다': 2, '갈증': 1, '사라지고': 1, '남는다': 3, '모과': 7, '노란': 7, '두드러지게': 1, '나타나며': 2, '크림': 18, '인해': 8, '알차게': 1, '설탕': 10, '절': 6, '파파야': 2, '달콤하': 1, '와당': 5, '적절한': 16, '이루고': 4, '상쾌한': 10, '얼음': 8, '마시는': 6, '독특한신': 1, '개념': 5, '물이': 4, '따랐을': 1, '올라오는기': 1, '포의': 2, '따왔다': 2, '효모': 31, '꿀': 31, '영롱하게': 2, '황금': 11, '강렬하면서도': 7, '드라이': 47, '맞춰': 3, '거쳐': 10, '신선하면서도': 5, '완벽한': 18, '마지막': 10, '장어': 2, '울리는': 1, '순수하게': 6, '짧은': 5, '시간': 41, '가져와인': 1, '깔끔하면서도': 4, '커런트': 20, '18041804': 1, '상쾌함을': 2, '처음': 25, '앵두': 1, '후각': 7, '깨우고': 1, '미로': 5, '타니의': 1, '좋아구': 1, '탁월하여시': 1, '닝': 1, '루미': 1, '수프': 1, '뛰어안': 1, '이태리아': 1, '브루': 14, '쪼': 14, '테라모': 1, '상징': 19, '산맥': 6, '쏘': 6, '자세히': 1, '들여다보면': 1, '여인': 3, '누워있는': 1, '형상': 2, '하고있음': 1, '알수있다': 3, '부제': 1, '가바': 6, '잠자는': 2, '숲속': 2, '미녀': 2, '중심': 11, '뿔': 3, '리아': 29, '바실리카타': 2, '깜파니': 1, '아우르는': 1, '시도': 7, '끊임없는': 1, '노력': 9, '이태리': 9, '강': 4, '자': 53, '불리는': 16, '파네세의': 1, '발렌티노': 1, '쇼티': 1, '씨': 13, '자신': 7, '팀': 5, '심혈': 1, '기울여내놓은': 1, '야심작': 1, '몬테': 13, '치아노': 9, '끌어': 11, '올린': 3, '파네세': 3, '그룹': 15, '노하우': 17, '녹아든': 3, '쏘는': 14, '왕자': 2, '키스': 4, '깨울': 1, '나고있다': 1, '력': 15, '뛰어나': 5, '코스트': 4, '퍼포먼스': 1, '찾는': 1, '젊은': 5, '애호가': 17, '안성맞춤': 6, '달콤함': 5, '프레': 8, '쉬함': 2, '싱그러': 3, '움': 14, '머물러있으며': 1, '디': 8, '히터': 1, '트': 31, '시인': 3, '꿈': 4, '젝': 1, '트는': 6, '괴테': 2, '그린': 13, '그림': 18, '바탕': 16, '만들어져있다': 1, '은세계': 8, '평화조약': 1, '맺어진': 2, '쉥겐': 1, '꿈꾸었던': 1, '평화': 3, '이루어졌다는': 1, '붙여졌다': 1, '브리': 29, '오슈': 21, '금색': 7, '브뤼': 19, '섬세하게': 8, '강하게': 3, '느낄수있으며': 16, '산사나무': 3, '은은하게': 16, '텍스처': 5, '34년': 6, '35': 8, '각기': 5, '크': 50, '뤼': 34, '최소': 21, '졸업': 13, '시즌': 10, '축하': 20, '주': 12, '라면': 15, '빠질수': 2, '없죠': 5, '떼땅': 12, '져는': 4, '전세계': 27, '여국': 1, '수출': 11, '되고': 8, '항공사': 2, '선정': 38, '누리고있는': 8, '피노뮈니': 5, '25': 12, '져리': 2, '브브뤼': 2, '고급스러운': 23, '제격': 18, '핑크': 35, '장미': 52, '풍기는': 6, '터지는기': 2, '펼쳐지며': 2, '호주': 58, '2014년': 5, '장': 79, '수상실': 1, '보유': 9, '제이콥': 2, '크릭': 5, '다르게': 5, '하여기': 1, '곱': 3, '프리미엄': 72, '한로': 14, '특유의청량': 1, '마음': 27, '기운': 13, '불어': 6, '넣어': 15, '준다': 15, '만든로': 4, '제철': 2, '참외': 1, '또': 10, '캠핑': 7, '개구': 1, '기름진': 7, '삼겹살': 7, '그리고야': 1, '채구이까지': 1, '같': 1, '이병': 7, '내': 18, '해기': 3, '뛰어나다': 19, '적은': 2, '예산': 1, '급': 24, '즐길수있다': 21, '커스터드': 1, '지녔다': 6, '풍부': 2, '부드러움': 9, '구조': 17, '설탕절임': 1, '이강하': 6, '국적': 5, '독특하면서도': 1, '어우러지는': 19, '덕분': 18, '2013': 3, '빈티': 34, '훌륭함': 1, '퀄리티': 9, '자랑': 22, '따뜻하고': 2, '건조하여': 1, '완벽하게': 3, '무르': 1, '익는데에': 1, '조건': 7, '가까웠다': 1, '촉촉하게': 1, '내렸던': 1, '낮은': 12, '강우량': 4, '했던': 8, '여름': 37, '거치면서': 3, '훌륭한': 32, '당분': 5, '낼수있었다': 1, '스테인리스': 25, '거쳤다': 4, '유산': 4, '진정한와': 1, '인로': 1, '났다': 1, '보랏빛': 15, '이도': 5, '깊은': 51, '가지고있다': 11, '전형': 18, '인과': 11, '이루고있는': 2, '마시고난': 3, '얕고': 2, '강철': 4, '28': 4, '도': 91, '하의': 2, '도로': 15, '1012일': 3, '7,500': 2, '15,000': 2, '리터': 12, '크기': 2, '대형': 6, '정제': 13, '병입': 13, '2000년': 5, '25회': 1, '청색': 1, '컬럼비아': 1, '강물': 1, '태평양': 5, '휩쓸고가는대': 1, '홍수': 2, '일으키며': 2, '빙하호': 1, '폭발': 8, '시켰다': 11, '이홍수': 1, '바윗돌': 1, '빙하': 1, '잔해': 1, '토': 28, '사물': 1, '남기': 1, '퇴적': 1, '층': 9, '형성': 11, '하였다': 14, '과': 13, '빈야드': 62, '혼합': 1, '산': 33, '바스': 3, '켓프레스': 1, '압착': 8, '와의': 1, '숙성하며': 3, '이중': 3, '30': 15, '줄기': 9, '작업': 8, '잼': 22, '다크': 36, '토바코': 1, '향나무': 1, '음': 15, '그을린듯': 1, '커': 39, '런트': 41, '강건': 6, '길고': 3, '이어지는': 20, '안데스': 2, '마': 10, '레벨': 2, '아침': 6, '일출': 1, '땅': 6, '포도나무': 17, '하나': 22, '장엄한': 1, '의식': 1, '해안선': 1, '따뜻하고해': 1, '하기에': 7, '상적': 4, '기후': 16, '풍부하면서': 2, '빛짚볏': 1, '색깔': 4, '향기로운': 10, '와스': 1, '풍부한과': 28, '가지고있는': 2, '엄선': 18, '선별': 12, '짜내고': 1, '그것': 4, '0': 2, '1718': 1, '도수': 29, '이르게': 1, '필터': 8, '선한': 9, '나타난다': 3, '은은하고': 5, '해병': 3, '입': 50, '풋풋한': 3, '초반': 4, '지배': 6, '면시': 2, '날수': 5, '록': 4, '숨어있던': 1, '밖': 1, '튀어나오는': 1, '고운': 3, '감싸안는': 1, '감칠맛': 12, '가진': 29, '밀도': 8, '4천': 1, '8천': 1, '46': 2, '헥토': 1, '헥타아르': 1, '완전히': 5, '34': 3, '주간': 2, '펀칭과펌핑': 1, '착색': 1, '수행': 1, '형통': 1, '커피': 21, '타바코': 5, '하시엔': 1, '알바': 6, '그니': 2, '된까': 1, '만들어졌다': 5, '뛰어난구': 8, '888': 1, '숫자': 5, '별로': 10, '특별하게': 3, '담긴': 24, '되었기': 1, '때문': 26, '버섯': 17, '흑연': 4, '필심': 1, '느낌을주는': 3, '수입': 21, '유명': 27, '소믈리에': 3, '헝가리': 6, '함께시음': 1, '했을': 6, '놀랍다고': 1, '찬사': 2, '받은': 14, '시나몬': 25, '연노': 1, '풍겨오는': 1, '나배': 1, '풍부하면': 1, '서시': 1, '옅게': 2, '가운데': 5, '쿠키': 2, '안지': 1, '셀러': 12, '끝': 9, '훌륭하고': 4, '작은': 13, '퍼지는': 4, '있어': 14, '볼륨': 6, '넘친다': 2, '무려': 3, '13': 6, '세기': 16, '슬러': 2, '올라가는': 1, '뼈대': 1, '굵은': 2, '되는까': 3, '바이': 12, '서양배': 9, '계': 30, '열의': 5, '거쳤으며': 1, '탄탄한': 3, '노트': 13, '잔잔하게': 2, '거나': 1, '자체': 19, '기를': 4, '싶다': 5, '생미셸': 5, '콜롬비아': 8, '그리를': 2, '완성': 29, '상쾌': 8, '워싱턴주': 14, '제조': 2, '이는': 10, '지구': 3, '비슷한': 6, '북쪽': 8, '위도': 3, '해있다': 2, '성장하는': 2, '일조시간': 2, '2시간': 2, '낮': 9, '충분한': 3, '햇빛': 2, '시원한': 12, '저녁': 9, '할수있게만': 2, '들어준다': 5, '꼭': 19, '마셔': 21, '볼': 19, '마트': 19, '쉽게': 24, '찾아볼수있는': 1, '만족스러운': 4, '대한민국': 12, '주류': 15, '대상': 21, '부문': 8, '수상하기도': 4, '했고': 26, '미디어': 2, '편이': 9, '생선': 26, '브런치': 4, '곁들이기': 28, '좋다': 61, '띤': 8, '검은자': 1, '강렬하게': 8, '풍겨': 3, '온다': 6, '초콜렛': 3, '빛나는': 11, '밀짚': 1, '감귤류': 10, '감돌며': 2, '기': 2, '신선함의': 2, '용': 16, '푸른': 1, '물고있는것': 1, '비쥬': 1, '얼': 2, '참': 8, '청순': 1, '청순한': 1, '돼지고기': 10, '목살': 1, '예쁜': 10, '반해서': 1, '자주': 10, '마시게': 2, '될것': 5, '깨끗한': 10, '주도': 2, '가볍고': 13, '통통': 1, '아니라': 15, '차분하고': 1, '묵직하고': 5, '좋습니다': 32, '아주부': 1, '드러워요': 1, '난하게잘': 1, '푸만': 6, '테': 22, '서머': 1, '금': 4, '적당하면서': 1, '산뜻하게': 4, '좋게만': 1, '들고': 1, '나': 3, '모임': 11, '들고가': 1, '면병': 1, '네이블': 1, '박수': 1, '받는': 19, '행복하게': 1, '해주는': 8, '은은하게퍼지고요': 1, '젖지': 3, '않아서': 1, '칠링': 4, '해도': 17, '여전히': 2, '예쁘네요': 1, '날꼭': 1, '하고싶은': 1, '평소': 7, '좋아하는': 7, '에': 6, '맞는과': 1, '느껴져': 4, '무단': 1, '순하지': 1, '않으면서도': 4, '어우러진': 10, '깔': 3, '끔': 2, '한스': 4, '테청량감': 1, '딱좋': 1, '음달': 1, '않고': 29, '쭉': 1, '은은한과': 2, '데': 39, '일리': 15, '마시기': 72, '좋네요': 3, '의병': 4, '않는': 9, '스와로브스키': 3, '분위기': 26, '더업': 1, '하얀': 4, '꽃내음': 3, '바나나': 7, '귤': 1, '싱그럽고': 2, '시원하게': 8, '즐기면': 11, '판': 4, '티니': 6, '테입': 2, '토착': 41, '코치': 1, '올라로': 1, '했죠': 24, '중앙': 3, '박아': 1, '고급스러': 4, '더했으니': 1, '훌륭해요': 1, '후당': 1, '당하게': 1, '인생': 6, '다음': 6, '걸음': 1, '내디딜이': 1, '들에게': 7, '아름답게': 5, '빛나면서도': 1, '단단한': 7, '다이아몬드': 5, '미래': 3, '펼쳐지길': 1, '바라는': 4, '담아': 24, '로건': 1, '보세요': 17, '덤불': 3, '이루는': 9, '부드러우면서': 3, '적절': 15, '높여줄것이다': 1, '아들': 3, '레이드': 1, '더불어이': 1, '더불어': 4, '빚': 7, '조미': 1, '탄탄하게': 1, '해주고있다': 1, '초밥': 8, '되고신': 1, '사적': 2, '살아있는': 5, '엘레': 8, '강스': 5, '칵테일': 4, '1865': 1, '라임스톤': 1, '온화한': 5, '덥고': 2, '밤': 29, '차로': 3, '유명하다': 7, '시킨리': 1, '브': 18, '모카': 17, '소나무': 2, '치킨': 11, '어울리며': 12, '일류': 2, '파스타': 30, '곁들여': 15, '열릴수록': 1, '무화과': 12, '남길': 1, '적당하다': 6, '수령': 28, '20년': 11, '100년': 7, '철분': 2, '있어서': 1, '매치하기': 1, '2014': 3, '무덥지': 1, '않은기': 1, '후덕': 1, '된아주': 1, '좋': 11, '은빈': 5, '레스크레스': 2, '테스': 3, '닭': 4, '뜻': 62, '부지런한': 1, '근성': 1, '존중': 3, '문화': 10, '담고있다': 7, '정말': 8, '있': 1, '고깔': 1, '은기': 1, '있게': 10, '올라오며': 10, '볏짚': 18, '우아하게': 16, '고소한': 11, '섬세하면서도': 11, '전해지는': 6, '뛰어난기': 1, '단단한구': 6, '안정': 3, '성함': 2, '운빵': 9, '도감': 11, '휴식': 1, '건포도': 15, '끊이지': 2, '올라오고': 12, '건': 6, '옅': 2, '보이는': 10, '원숙한': 2, '신선함이': 9, '시럽': 4, '배적': 6, '블랜딩': 11, '당': 20, '17': 7, '사탕수수': 2, '의당': 6, '쥬': 9, '가물': 5, '원숙함과': 2, '결': 6, '합되': 2, '차별': 6, '화': 31, '무게': 22, '매끄러': 2, '가져다준다': 2, '남기며': 4, '소고기': 19, '자주색': 3, '짙은과': 3, '운': 27, '초콜렉': 1, '넘치고': 4, '탄탄한구': 6, '조를가지며': 1, '페퍼': 7, '고둥': 1, '풍부하고진한': 1, '미': 53, '고스트': 2, '파인은': 1, '나파': 24, '홈플러스': 3, '카테고리': 1, '차지': 16, '큰': 39, '현지': 7, '가보다': 1, '저렴한': 6, '국내': 11, '화제': 2, '바': 50, '프': 2, '리츠': 2, '짐': 1, '머는': 1, '모젤': 2, '간직': 9, '우스': 3, '레제': 2, '골라': 4, '도리': 2, '달콤함을잘': 1, '감미로운당': 1, '느껴지면서': 2, '뒤따른다': 1, '뚜렷하며': 1, '터치': 14, '좋아한다면': 1, '아이언': 3, '스톤': 6, '쁘띠': 15, '2015': 1, '머스트': 2, '헤브': 2, '아이템': 2, '깊으면서': 1, '도어': 1, '두운': 1, '잉크': 2, '류잼': 1, '가가': 8, '장인상': 1, '이어진다': 12, '시라는로다': 1, '이세': 1, '부지역': 3, '슬로우': 1, '하우스': 30, '테이': 20, '처트': 1, '렌치': 1, '암석': 1, '이토': 1, '양': 11, '배수': 2, '라가': 5, '환경': 10, '투명한': 10, '산뜻한시': 2, '꿀등': 1, '어우러져있는': 2, '성': 36, '달진': 1, '않지만': 4, '달달': 4, '서산': 3, '미도': 12, '가볍게': 30, '깔끔하게': 10, '그래도': 1, '요즘': 2, '좋았는데': 1, '더운': 10, '더욱이': 1, '좋았던': 2, '마르카': 6, '프로세코': 35, '튀지고': 1, '않고데': 1, '선선': 2, '가을': 15, '피크닉': 9, '용도': 1, '내기': 2, '눈': 24, '간지럽히는': 1, '흘러나오는': 1, '벌꿀': 4, '작고': 5, '돋구는': 2, '더위': 3, '기승': 1, '부리면': 1, '부릴수록': 1, '간절히': 1, '생각나는라': 1, '새침하게': 1, '다가올': 1, '이미라': 1, '버린듯': 1, '합니다': 52, '가성': 14, '좋다는': 2, '말로': 1, '용할수': 1, '없는': 20, '기쁨을주는라': 1, '찾고계': 1, '신분': 1, '적당함': 1, '스파크': 1, '아닐까': 4, '일단': 1, '대비': 6, '청량감': 18, '폭탄': 3, '한여름': 9, '식혀주네요': 1, '민트': 19, '사로잡는다': 2, '담': 3, '켓': 1, '있다면라': 1, '어디': 6, '해줄': 9, '포실한기': 1, '저': 3, '여행가': 2, '수영장': 1, '수영': 1, '마셨는데': 3, '좋았습니다': 4, '머금': 3, '게시': 1, '원하게': 1, '부는': 1, '바람': 14, '해변': 5, '가의': 1, '상이': 1, '되었어요': 1, '감성': 5, '게': 4, '느껴진듯': 1, '콤달콤': 1, '따르자마자': 2, '오밀조밀': 1, '기포': 2, '가목': 1, '넘어갈': 1, '시원하다라는': 1, '주었': 1, '고함': 1, '께나': 3, '몹시': 3, '신선해서': 1, '속': 8, '스트레스': 4, '뻥': 1, '날려주는': 7, '이었다': 5, '적합한': 4, '크지': 1, '않아': 11, '아쉽지만': 2, '떨어지니': 1, '회랑': 1, '먹어도': 4, '괜찮은': 2, '편': 18, '성비': 15, '따지자면': 1, '극': 2, '개인': 2, '견해': 1, '가': 25, '적당히잘': 1, '이루어져': 1, '매치가잘': 1, '같다': 6, '여름밤': 9, '좋을': 1, '청량하고': 1, '무더운': 9, '날': 47, '휴가': 4, '딱입니다': 1, '구입': 11, '할수있으니': 1, '모르는': 2, '사람': 41, '같습니다': 1, '오리': 3, '어울리는가': 1, '조밀한': 3, '타임': 4, '맞는': 4, '같아요': 2, '따르면': 4, '볏집색': 1, '베이지': 1, '잔뒤': 1, '투명하게잘': 1, '편입': 1, '강한': 16, '인한': 11, '잔위': 1, '채우며': 1, '비교': 12, '가라앉습니다': 1, '사진': 1, '보기': 4, '투명': 1, '가잘': 2, '보이지': 1, '않습니다': 3, '어딘가': 1, '이납': 1, '달': 20, '한편': 2, '도강': 1, '적당하게': 3, '다가옵니다': 2, '마시다': 2, '스카치': 5, '캔디': 6, '버터': 24, '기도': 26, '반복': 1, '카페': 8, '서빙': 2, '워터': 2, '감은': 7, '입자': 2, '크고': 2, '강함으로': 1, '터집니다': 1, '초여름': 18, '베네토': 13, '되는라': 1, '2012년': 2, '받아': 14, '유일하게': 4, '스펙': 14, '터': 14, '되': 8, '꿀향': 8, '더해져': 11, '잘살': 3, '린': 12, '조엘': 2, '고트': 3, '815': 3, '르네쇼비뇽': 2, '적색': 2, '가미': 13, '멋진': 7, '지니': 3, '넘어가는': 1, '2003년': 2, '가추': 2, '세라': 1, '첫': 6, '번째': 6, '딸': 5, '루시': 3, '우리나라': 3, '8.15': 1, '광복절': 1, '날짜': 1, '일치': 2, '거주': 3, '교포': 1, '유학생': 1, '제비꽃': 8, '비올': 16, '랑게': 10, '소유': 22, '자란': 12, '숙성하여': 4, '가능한': 11, '피에몬테': 33, '정체': 6, '깊고진': 6, '농': 15, '클로브': 6, '융합': 2, '넬': 3, '로이': 5, '가야': 1, '패밀리': 13, '삐': 1, '브싼타레스': 1, '띠뚜': 1, '따': 8, '의한': 1, '단일': 3, '원수': 1, '가릴': 1, '레': 38, '표면': 2, '에이커': 1, '점토': 10, '질': 5, '석회질': 2, '평균': 19, '11년': 1, '수가': 1, '레이': 12, '1547년': 1, '의자': 9, '조사': 2, '일람표': 1, '찾아볼수있을': 1, '오래된': 14, '알코올발효': 4, '캐스': 3, '크와': 1, '몬테스': 19, '알파': 12, '카버': 5, '깊고': 13, '지인': 6, '콜': 7, '차구아': 5, '선보이는': 15, '도아': 3, '타': 6, '치구': 2, '구획': 11, '질의': 4, '또한': 21, '기존': 7, '시기': 7, '일주일': 2, '연장': 2, '더긴': 3, '16': 11, '집': 16, '즐겁게': 18, '홈파티': 13, '누적': 1, '판매량': 6, '1천만': 1, '선보인': 10, '선': 10, '어우러지며': 17, '스민긴': 1, '크랜베리': 4, '꼬뜨드': 3, '프로방스': 8, '사랑스런': 2, '제코': 1, '스치는': 4, '참매': 1, '제라': 2, '드셔': 1, '보시길': 2, '생강': 2, '그대로': 17, '7': 24, '2007': 1, '14': 13, '개크뤼중': 1, '91': 2, '가이며': 1, '9': 6, '생강빵': 1, '꽃향등': 1, '향연': 3, '섬세': 6, '신선함을': 7, '카카오': 3, '잼등': 1, '다양하고': 2, '농후': 1, '견고하고': 1, '매끈하게': 1, '끝나는': 1, '최고급': 8, '30,000': 1, '에디': 8, '찌': 6, '오네를': 2, '불과': 1, '불과하다': 1, '만들어져': 2, '지를': 5, '표시': 1, '할수': 2, '없지만': 1, '중진': 1, '진정': 2, '위대한': 6, '만들기': 6, '서는': 5, '이우선': 1, '단언': 1, '새로운': 24, '프로젝트': 5, '카레이서': 1, '미하엘': 1, '슈마허': 1, '파레트': 1, '단위': 2, '반': 3, '즐기고': 1, '가소': 3, '유하': 1, '레스토랑': 12, '2017': 5, '가금류': 10, '뇽블': 42, '윤택': 3, '고배': 1, '너트': 3, '두드러지며': 4, '짜여진구': 2, '고소하면서도': 1, '날선': 1, '4,132': 1, '코코아': 12, '감미로운': 6, '낸다': 16, '더해주는아': 1, '펠레': 4, '션': 9, '살려주는': 1, '즐거운': 9, '텍스쳐': 3, '자아내는의': 1, '더한다': 16, '기와': 2, '잎': 2, '26': 3, '황무지': 1, '같았던': 1, '워싱턴': 9, '농지': 1, '명': 27, '산지': 28, '아버지': 9, '조가': 3, '월터': 1, '로어': 1, '정': 5, '로만': 56, '한정': 8, '연간': 8, '120': 3, '삭': 4, '애플': 3, '고혹': 1, '살려': 2, '선명한': 8, '이스트': 7, '섬세하지만': 1, '등그': 1, '뤼밭': 1, '의지': 6, '10년': 11, '미슐랭': 6, '에리': 2, '스팅': 7, '가스트': 3, '노미': 3, '평론가': 22, '리차드': 1, '줄리': 1, '드브노쥬': 2, '설립': 33, '180': 1, '주년': 3, '루': 17, '스페셜에디션': 4, '도르를': 1, '까라': 1, '형태': 6, '바틀': 1, '특수': 1, '인쇄': 2, '기술': 17, '도입': 6, '메탈': 1, '룩': 4, '가치': 14, '더하였고': 1, '의빈': 4, '중하': 3, '나로': 4, '1873': 1, '매실': 1, '띄며잘': 1, '부드럽고구': 2, '드슈': 1, '발리': 3, '페삭': 1, '레오': 2, '장유': 3, '부르고뉴': 63, '루아르': 11, '그늘': 1, '가려진': 1, '중후': 3, '멋': 5, '보여주고있다': 4, '자른': 4, '충실한': 1, '공존': 4, '아름답게만': 1, '들고있다': 1, '섬세함을': 2, '해치': 1, '않기': 1, '35만': 1, '타라': 10, '파카': 5, '세르': 11, '여타': 2, '경쟁': 1, '인지도': 2, '모두': 8, '국가대표': 2, '액': 4, '층층': 1, '펼쳐지는': 1, '벨벳': 14, '부드럽고잘': 1, '어우러져긴': 2, '이로': 3, '만': 4, '아닌': 13, '우아함이': 5, '남아': 3, '이특': 2, '느끼실수있다': 1, '떼': 2, '리조또': 1, '2004': 2, '66': 1, '하였고': 4, '88': 1, '는그랑크뤼': 1, '프르미에크뤼': 1, '붉거나': 1, '파란': 1, '빵': 5, '굽는': 1, '세이지': 6, '로즈마리': 7, '카시스': 10, '펼쳐지고': 1, '둥글둥글한구': 1, '만들어주는': 1, '2016': 2, '77': 1, '쁘띠베르': 5, '까베르네프': 3, '말벡': 7, '플로렌스': 3, '시에나': 1, '끼안': 1, '클라시코': 14, '쪽': 2, '해있으며': 1, '시장': 11, '되기': 8, '안온도': 1, '상태': 3, '되면서': 2, '릿': 3, '훌륭하며': 2, '부드럽고우아': 1, '잡혀있다': 1, '이상숙': 1, '월병': 2, '숙성하였다': 8, '늦': 10, '토스카나': 31, '실력': 4, '파생': 1, '산자': 1, '르': 81, '피네토': 6, '군데': 2, '직접': 12, '커버': 1, '세번': 2, '인정받': 1, '살린': 4, '감치': 5, '우수': 4, '알리고있습니다': 2, '키': 19, '지오': 13, '베제': 14, '와카': 6, '나이': 3, '올로': 2, '했어요': 33, '토마토소스': 3, '뉴질랜드': 25, '하나로': 19, '주로': 14, '북섬': 7, '되던': 1, '킴': 5, '크로': 7, '포드': 6, '의혹': 3, '베이': 6, '남섬': 3, '말보로': 14, '만든': 21, '한시': 4, '느낄수있게': 2, '깬': 1, '순수한': 15, '주스': 6, '인위': 1, '흙': 10, '꽃등': 4, '섬세함과': 2, '중점': 2, '둔': 5, '우디': 2, '느껴지지': 5, '오르면': 1, '이어': 13, '젖은': 3, '이끼': 1, '가늘고': 1, '여린': 1, '편안하게마': 3, '실수': 6, '향후': 4, '도전': 5, '서시음': 1, '하기를': 2, '치명': 11, '우아함': 15, '고급스럽다': 4, '해구': 2, '탄탄하다': 3, '바비큐치킨': 1, '족발': 3, '대등': 1, '배달': 6, '양념': 14, '않은것': 1, '들을안주': 1, '삼아': 2, '리저': 3, '브메': 1, '의아': 8, '로마': 4, '릿향': 1, '훌륭한구': 1, '돋보이는긴': 2, '그리는': 4, '최근': 18, '급증': 1, '의뒤': 1, '시키기': 1, '서서히': 2, '착즙': 2, '나온': 3, '을유': 1, '지하': 2, '그리': 5, '나타나게': 1, '접촉': 9, '최대한': 15, '줄인': 1, '과시': 5, '이결': 1, '합하여': 1, '깔끔하고': 8, '신선하게만': 1, '상파뉴': 1, '프리': 48, '뮤': 1, '마레': 2, '일쉬르': 1, '아이': 2, '했다': 75, '60': 11, '무엇': 7, '모나': 1, '핸들링': 1, '필요없으며': 1, '즐기고싶다면': 4, '와인글라스': 3, '드셔도': 1, '인숙': 1, '정교하고': 4, '스타': 23, '비솔': 8, '선택': 39, '우아하면서도': 6, '트렌디': 11, '하던': 6, '문턱': 3, '방언': 6, '살기': 3, '은장': 4, '소란': 3, '소소한': 6, '파티': 19, '중심지': 3, '꼽히는': 23, '발도': 5, '비아': 5, '1542년': 2, '솔이': 1, '지에서': 3, '하죠': 3, '돋워': 11, '줄거예요': 1, '카모마일': 1, '생기': 12, '고향': 14, '움직임': 1, '케': 6, '듀블': 1, '깜빠니아': 1, '이용': 3, '여상': 1, '파뉴': 1, '지평': 1, '열기': 2, '야심': 1, '찬': 9, '2004년': 5, '통방': 11, '따른': 1, '드': 40, '70년': 2, '이진한': 2, '말린자': 2, '귀리': 1, '비스킷': 4, '숨어있으며': 1, '는랑': 1, '메일': 2, '앞': 3, '보존': 5, '하겠다는': 5, '약속': 4, '증언': 1, '1860년': 1, '무분별': 1, '개발': 2, '불도': 1, '져로': 1, '엎어질': 1, '뻔했던': 1, '고아': 1, '버려진': 1, '고목': 7, '장테': 1, '발광다이오드': 1, '용한': 2, '엄격한': 3, '컬': 5, '날라의': 1, '어우러져있다': 4, '한층': 5, '돋보이게': 1, '의통': 1, '톤': 1, '강렬하고': 5, '절제': 5, '묵직한': 22, '뻴': 1, '왼쪽': 1, '11': 13, '이아': 2, '펠': 2, '포함': 22, '되어있다': 6, '1834년': 3, '시': 16, '이루고있다': 8, '스데': 6, '리스': 10, '칼': 10, '스페인국': 1, '왕': 2, '후안': 1, '카를로스': 1, '왕궁': 1, '공급': 4, '스페인': 96, '왕실': 6, '공식': 9, '인명': 5, '할리우드': 1, '브래드피트': 1, '안젤리나': 1, '졸리': 1, '커플': 3, '이선호': 2, '알려져있다': 1, '기네스': 1, '펠트': 1, '여행': 4, '프로그램': 2, '페니': 1, '쉬디': 1, '소개': 17, '샤또': 1, '마고': 3, '수석': 1, '폴퐁': 1, '타이': 2, '가샤': 1, '외': 4, '로리스': 1, '정리': 3, '완벽히': 2, '달동': 1, '칼레': 5, '석회암': 6, '토질': 1, '리오하': 22, '우수한': 3, '라시': 5, '아노와': 1, '마주': 2, '최대': 13, '넘지': 1, '않는다': 7, '윌라메트': 1, '핵심': 2, '던디': 1, '힐': 1, '아는진하면서도': 1, '영롱한': 3, '우아하면': 1, '서구': 1, '갖추고있다': 1, '용하였으며': 1, '고유': 14, '살리기': 3, '발생': 1, '천연': 2, '용법': 1, '순수함을': 2, '낸': 18, '과오': 1, '닉': 6, '츄럴': 1, '아세트산': 1, '식욕': 3, '가득한': 15, '숙성한': 14, '두터우나': 1, '이루고있으며': 1, '하면서도': 11, '이루고있는구': 1, '상퍄뉴': 1, '지방': 16, '트래디셔': 1, '널메': 1, '소드': 1, '을': 2, '병입후': 8, '일어났으며': 1, '병속': 1, '2년': 8, '자잘하고오래': 1, '되는기': 1, '비코': 3, '향수': 3, '시키듯이': 1, '환상': 9, '오른다': 5, '라스': 9, '유니크': 2, '롤로': 22, '멀': 8, '케이': 4, '머스': 2, '척': 2, '제니': 2, '이끌어가는': 1, '의외': 1, '증조부': 1, '바토': 4, '1923년': 2, '파': 12, '러더포드': 1, '매입': 1, '셰릴': 1, '1994년': 6, '2011년': 1, '젊은여': 1, '답': 7, '감각': 16, '롯': 5, '종': 2, '멀로': 1, '머': 6, '스카': 24, '버': 7, '시키는': 16, '탁월한': 7, '이는와': 1, '특허': 1, '할수있는긴': 1, '행': 1, '뿐': 12, '되도록': 1, '익는': 1, '조생종': 1, '서늘한오': 1, '크놀': 1, '달콤': 2, '한훈': 1, '풍부하며': 3, '이함': 7, '드리우는': 1, '리치': 12, '망고': 18, '수의': 2, '화려하고': 1, '틱': 12, '황홀경': 1, '빠지게': 1, '리찌': 1, '라운드': 1, '모를': 1, '놀라운': 13, '만족감': 5, '로맨틱': 8, '알자스': 8, '저력': 5, '남향': 2, '방향': 2, '펼쳐진': 3, '친환경': 28, '농법': 17, '아름다': 4, '1822': 1, '세심': 5, '용하여': 1, '방해': 1, '되지': 3, '않도록': 1, '뵈': 3, '틀': 1, '린스': 1, '호펜': 1, '장인정신': 2, '깃': 5, '220330': 1, '고도': 5, '매우잘': 1, '회토': 4, '구성': 5, '뚜렷하면서': 1, '믹스': 2, '만나': 4, '강렬하면': 1, '서복': 1, '미묘한노': 1, '넛맥': 3, '따라온다': 1, '따뜻하면서': 1, '신선하다': 2, '포자': 2, '노': 15, '잃지': 4, '않으면서': 3, '의구': 3, '화가': 7, '가길고': 1, '노는라는': 1, '우물': 1, '어원': 1, '700년': 1, '의문': 1, '양은': 1, '19': 14, '프레스코발디': 8, '결혼': 14, '알비': 1, '지아': 4, '가문': 30, '문장': 2, '청사': 7, '펼쳐진다': 3, '고소하게': 1, '점점': 2, '화려해진다': 1, '청': 3, '하는와': 1, '빌라': 2, '쥐': 12, '함량': 1, '5년': 12, '옴므': 1, '쿨롱': 2, '이름답게': 1, '에릭': 2, '닮아': 1, '진실되고': 1, '수호': 1, '해나': 1, '가는': 1, '레꼴땅마니퓰': 1, '이라': 2, '불리우는': 1, '해양': 5, '조': 42, '하는': 17, '해당': 6, '반영': 11, '차이': 2, '이레': 1, '꼴땅': 1, '마니': 1, '퓰': 1, '만들어지고있다': 1, '재료': 1, '좌우': 1, '는가': 3, '중요한요': 1, '소일': 1, '고다': 1, '관': 2, '본에서가': 1, '중요한': 10, '등급': 15, '없으나까': 1, '샹빵': 1, '1등': 8, '까이에': 3, '부샤': 3, '레밭': 1, '달하는': 2, '간판': 2, '격': 3, '정교하며': 1, '힘찬': 4, '미에': 26, '짜여져있고': 1, '육감': 1, '면모': 2, '느낌을주며': 2, '능력': 1, '이그': 2, '못지않게': 1, '빼어나': 1, '명산': 3, '지로': 8, '알려진': 5, '코트': 2, '본에': 1, '숨겨진': 1, '보석같은': 6, '르뻬레': 1, '피스': 2, '레프': 2, '르미에크뤼': 1, '다가온다': 5, '조화로움': 2, '흙내': 8, '오크나무': 2, '성해': 2, '느낀': 4, '우아함을': 9, '이지나': 3, '지날': 1, '수록': 1, '더욱더': 4, '강렬해지며': 1, '달콤함과': 9, '하이라이트': 1, '진하고긴': 1, '타입': 6, '해발': 9, '250': 1, '파른': 2, '싱글': 21, '비아데': 2, '페리': 13, '오레': 4, '선점': 1, '여각': 1, '특색': 2, '카르': 7, '인정받는': 4, '티제': 1, '죽기전에': 4, '봐': 3, '야할': 8, '1001': 3, '레데': 4, '사투리': 1, '뿌리': 3, '가까이': 1, '저장': 4, '가뭄': 1, '할수있고': 2, '갖게': 1, '부드러우면서도': 4, '진하게': 2, '빈': 5, '졸인': 3, '느꼈던': 1, '같은진': 1, '보여주어': 1, '존재': 6, '견고한잘': 1, '더해주': 1, '살려주며': 1, '독일어': 2, '특별함': 1, '보상': 1, '프래': 1, '어프': 1, '라미': 7, '지닌이': 2, '쉴드': 1, '한해': 11, '성과': 1, '물': 1, '보여주고싶다는': 1, '간절한': 1, '소망': 1, '흥분': 2, '시키고': 6, '기대하게': 1, '파셀': 2, '그러한': 1, '해빈': 2, '담아내기': 1, '금은': 8, '사치스러우며': 1, '끊임없다': 1, '지대': 3, '바르셀로나': 1, '매료': 1, '되어이': 1, '사업': 1, '뛰어든': 1, '1700년': 1, '예배당': 1, '안치': 1, '되어있으며': 2, '샌': 1, '된구': 1, '22': 5, '개월뉴': 1, '프랜': 1, '치': 7, '파고데': 2, '로스': 10, '네스': 2, '스페인어': 13, '성직자': 1, '800년': 1, '리베라': 3, '델두': 2, '한가지': 2, '조화로운긴': 1, '동물': 4, '동물성': 3, '통후추': 1, '에르미타주': 5, '갈': 5, '리가': 6, '세기말': 2, '귀족': 9, '갈에서는': 1, '맞춤': 3, '40년': 13, '물방울': 3, '사실': 4, '그릴수록': 1, '오히려': 1, '부각': 2, '되는것은': 1, '일시': 1, '최상': 12, '길러': 1, '방울': 5, '만드는것': 2, '예술': 13, '마찬가지': 4, '스스로': 1, '비워': 1, '나가는과': 1, '정일': 1, '세월': 3, '즐겨': 20, '바란다': 1, '행위': 2, '무': 11, '돌려': 1, '보내기': 1, '분노': 1, '불안도': 1, '공포': 1, '허로': 1, '돌릴': 1, '때우리': 1, '들은': 1, '평안': 1, '체험': 3, '될것이다': 8, '혹': 3, '에고': 1, '신장': 1, '바라고있으나': 1, '나는에': 1, '고의': 1, '소멸': 1, '무아': 1, '경지': 1, '을지': 3, '방법': 11, '찾고있는것이다': 1, '김창열': 1, '치날레': 1, '이탈리아어': 6, '멧돼지': 5, '퀘르체토': 1, '수퍼': 2, '투': 15, '스칸': 7, '국제': 13, '카베': 98, '만들고': 2, '케이스': 3, '드로잉': 2, '달콤하게잘': 1, '혀안': 1, '미끄러지듯': 1, '흐르며': 2, '파워': 10, '풀하며': 1, '뛰어나고': 4, '충만': 1, '주지': 2, '뉴월드': 1, '비하여': 1, '덜': 3, '직선': 2, '흐름': 1, '복잡하고': 1, '오묘한': 1, '종이': 2, '발란스': 2, '갖춰진': 2, '띄고있으며': 1, '레드베리': 13, '잘어우': 2, '리진': 1, '전제': 1, '좋으며': 13, '매니아': 1, '팝': 1, '유': 4, '카니발': 2, '조일듯': 1, '한강': 1, '인구': 1, '훌륭하여': 1, '새로': 2, '쓴': 3, '몰리': 6, '커의': 2, '한자리': 3, '모여': 1, '행복한': 11, '축제': 4, '벌이는': 1, '자연스러운': 4, '가긴': 6, '코끝': 4, '조화롭다': 10, '바바': 4, '전역': 5, '해오던말': 2, '바시아': 7, '역할': 12, '뛰어난말': 3, '달콤하면서도': 6, '첫사랑': 2, '언제': 4, '만들어줄': 2, '낮아': 6, '부담': 46, '즐길수있으며': 6, '탐스러운': 1, '신선한시': 3, '우아하다': 3, '토다': 11, '화합': 1, '공유': 2, '천진난만하던': 1, '어린시절': 1, '대한': 15, '회상': 1, '젊음': 2, '브라': 9, '메시지': 5, '담고있는': 2, '갖춘에': 1, '키워': 2, '내어': 1, '선친': 1, '인자': 1, '모의': 1, '철자': 1, '포인트': 3, '하여': 5, '만든것이며': 1, '오른쪽': 1, '하단': 1, '라틴어': 3, '쓰여진': 1, '매직': 1, '큐브': 1, '쟁기': 1, '농부가': 1, '간다': 7, '1990년': 2, '세대': 13, '걸쳐전수': 1, '빌까': 1, '르살몽': 1, '핑크색': 5, '낸로': 1, '해보기': 1, '만해': 3, '제스': 4, '트향': 1, '진하고': 11, '기초': 4, '코딩': 1, '매치': 1, '쇠고기': 4, '접목': 2, '시키는것이다': 1, '참치': 2, '이합': 3, '쳐진': 2, '편한': 5, '우아함은': 2, '빠르게': 6, '지하실': 2, '옮겨져서': 2, '꼭지': 3, '스러진다': 2, '착하여': 4, '나오는': 4, '저온': 11, '할수있도록': 3, '꽃들이': 2, '주듯': 2, '섞여서': 2, '3월': 13, '로움': 2, '마르케': 6, '디바': 2, '브릭': 1, '멜은': 3, '쳐진것': 1, '아르': 4, '네이스': 1, '뇽블랑을블렌딩': 2, '편안한': 9, '서도': 5, '나비': 3, '가득하다': 4, '잘살려내기': 1, '착하며': 2, '부부': 20, '한비': 8, '솔': 3, '느낌을주죠': 1, '담고있어요': 1, '건배': 6, '만들어가는': 1, '되새겨': 2, '보는건': 4, '어떨까': 12, '요': 10, '랄리': 14, '014': 2, '허니': 4, '난다': 2, '1906': 1, '르네랄리': 1, '18611938': 1, '1906년': 1, '아이지': 1, '역은': 2, '1996': 1, '손자': 1, '향상': 8, '므리': 1, '에일': 1, '있던': 2, '보': 12, '임명': 1, '꾀': 1, '권유': 1, '보는': 9, '인수': 2, '견고히하고': 1, '2007년': 3, '이루었다': 2, '가깝': 1, '게일': 1, '구': 2, '최선': 2, '다한': 1, '400,000': 1, '제한': 2, '이트리': 1, '보가': 1, '고객': 1, '고있는': 1, '선보인다': 4, '어울림': 2, '따라서': 2, '센세이션': 1, '신비함은': 1, '단어': 5, '힘들': 1, '영국': 25, '벨기에': 1, '오스트리아': 14, '캐나다': 4, '홍콩': 1, '등수': 1, '가이드': 2, '등재': 1, '파이브': 2, '호텔': 4, '할수있다': 15, '각': 1, '2월': 7, '2830': 1, '완료': 2, '가진잘': 1, '실과': 1, '이루게되': 1, '고': 2, '1989년': 1, '드러내는': 4, '어린': 2, '가진로': 1, '멘티': 10, '만들어진다': 2, '높아지': 1, '선하게': 2, '사랑스러운로': 1, '더부': 1, '가시': 1, '켜준다': 1, '상쾌하게': 1, '만들어줘': 1, '우진': 1, '9월': 11, '10월': 11, '만선': 3, '별': 2, '20일': 1, '후작': 2, '사이즈': 6, '36': 4, '가진다': 1, '생생한': 10, '블렉': 1, '몰트': 1, '미디움': 7, '로주': 1, '착해서': 1, '바깥': 1, '얻는다': 1, '이루어지며': 1, '8일': 2, '정기': 3, '섞어주어': 1, '하게하고': 1, '변했을': 1, '28년': 1, '멜론': 10, '산뜻한과': 4, '배어나는': 1, '누구': 17, '편안하고': 1, '마실수있는': 5, '개월더': 3, '시켜': 7, '3천': 1, '칼리': 3, '올라': 3, '주민': 1, '이하나': 1, '씩': 3, '입혀': 1, '병마': 1, '달라': 1, '수집': 1, '재미': 1, '더하는': 1, '뚜렷한': 3, '가벼운듯': 1, '흐를수록': 2, '상의': 6, '감싼': 2, '퍼진다': 1, '신선함으로': 1, '얻어진': 2, '섬세히': 1, '일부': 4, '가졌으며': 1, '부드러워': 3, '느낄수있': 1, '35년': 4, '이르는': 6, '7.8': 1, '르동': 3, '블루': 4, '를블렌딩': 4, '총': 3, '꿉': 2, '느껴짐': 1, '좋았지만': 1, '떨어져서': 1, '실망': 1, '차라리': 1, '낫다': 1, '많아': 1, '잡채': 2, '불고기': 5, '배향': 2, '좋음': 1, '초록빛': 4, '사과꽃': 3, '경쾌': 1, '마실수있다': 2, '아그리콜라': 1, '푸니': 1, '카사': 5, '마스': 5, '누타': 2, '산귀': 1, '카이': 5, '유일한': 2, '화려하게': 2, '점심': 1, '투명하고': 4, '여운이잘': 1, '그리아다': 1, '에센스': 1, '추가': 7, '잔당': 5, '시가': 3, '발포': 3, '청량함을': 1, '헥타르': 13, '4050년': 1, '올렸으며': 1, '잡지': 2, '주관': 1, '열린에서': 1, '받았다': 4, '깨진': 2, '류및': 1, '보이즌베리': 1, '따듯': 1, '어려있으며': 1, '광범위하고': 1, '다가오며': 2, '세련된': 31, '감을잘': 1, '맛볼수있다': 1, '채우고': 4, '2016년': 6, '템': 15, '프라': 18, '오': 9, '23': 2, '까베르네소비뇽': 1, '225': 1, '강렬하며': 1, '반면': 2, '확실하게': 1, '손수': 34, '확': 29, '파쇄': 2, '술지게미': 1, '2628': 1, '소형': 1, '이루어진다': 1, '마로': 6, '하는과': 1, '서양': 2, '산뜻하지만': 1, '기품': 5, '잰': 1, '시스': 6, '로빈': 1, '키위': 2, '반격': 1, '평': 2, '까운': 1, '호수': 1, '서쪽': 6, '경사면': 2, '자갈': 4, '편암': 1, '기반': 8, '진': 5, '신선하며과': 1, '풍부한매': 1, '우기': 1, '통한': 5, '작은기': 2, '만다린': 1, '청량함이': 2, '말': 11, '일반': 16, '토비': 2, '드물게': 1, '감이잘': 2, '살아나는리': 1, '달콤함이': 3, '한국': 32, '공기': 2, '아름답다': 5, '갖구운': 2, '오쉬': 5, '넣어구': 2, '일종': 2, '쨈': 2, '적시면서': 2, '1950년': 2, '높여': 4, '로제': 21, '잔고': 2, '세는': 2, '살몬': 2, '매출': 4, '58': 4, '인데에': 2, '비해': 12, '고세': 2, '위엄': 2, '색감': 3, '풍부할줄': 2, '알았으나': 2, '강함': 2, '편안한과': 2, '목적': 1, '40만': 2, '부여하였다': 1, '유제품': 1, '토피': 3, '유혹': 4, '닿았을': 1, '때꽤': 1, '묵직하지만': 1, '인접': 4, '아콩카구아': 1, '해있어': 1, '송이': 7, '해안': 9, '바다': 5, '받으며': 6, '완숙': 18, '원산지': 1, '디종': 2, '클론': 5, '과점': 1, '질토': 1, '섬세한시': 1, '적절하게': 1, '레비': 8, '노포': 1, '독특한': 14, '후진': 1, '착한다': 2, '보통': 2, '추수': 1, '12월': 8, '부르데': 1, '인양': 9, '사의': 2, '1999년': 4, '특별히': 1, '한밭': 3, '태양': 4, '아래': 3, '더했다': 4, '어우러졌다': 2, '알리': 5, '숙성했으며': 2, '1012년': 1, '조여오는': 1, '피데스': 1, '달바': 1, '믿음': 4, '체': 7, '사레': 1, '살리고자': 1, '담겨있다': 3, '뿜어낸다': 2, '혀': 2, '감싸는듯': 2, '화려함과': 2, '우아함의': 2, '절묘한': 4, '가입': 3, '둥근': 5, '섞인': 3, '각새': 2, '드롱': 1, '남': 32, '독': 25, '루씨': 12, '글리': 2, '계곡': 1, '정강': 10, '뱅': 3, '튀': 2, '렐': 7, '리브': 4, '걸친': 3, '해와인을': 10, '시선': 28, '끄는이': 8, '르나슈': 28, '르베드르': 5, '묵직하면서도': 2, '15.5': 2, '담근과': 1, '수화': 1, '후부': 1, '드럽게': 1, '복잡한구': 1, '풀하면서도': 3, '운향': 1, '이긴': 5, '대를': 6, '쌓인': 1, '카롤린': 1, '프레이': 3, '시크': 1, '렛드': 1, '자동': 1, '장치': 1, '화산': 1, '미의': 11, '숙성했다': 21, '감싸는': 4, '가풍': 5, '성하게': 9, '차오르며': 1, '제드': 3, '다미': 1, '뛰어들수있도록': 1, '영향': 12, '준자': 1, '기리': 1, '약자': 1, '붙여': 2, '신념': 1, '오는잘': 1, '듯': 19, '꽉차는': 1, '4,000': 2, '벽돌': 1, '구수한': 2, '유연해진': 1, '은진': 6, '점성': 2, '적셔주는': 1, '되었고': 3, '링거': 1, '않았다': 2, '스트라디바리': 1, '웅장': 4, '천상': 1, '소리': 3, '칭송': 1, '바이올린': 1, '스트': 7, '세상': 1, '알리는데': 2, '일조': 1, '인정받게': 1, '비평가': 1, '극찬': 9, '받고있으며': 3, '소더비': 1, '이끌어내었으며': 1, '한약': 3, '가다': 2, '원화': 1, '되어있으므로': 1, '기복': 1, '화할수있는': 1, '장점': 10, '살아있는하며': 1, '미는': 10, '교과서': 3, '몰도바': 15, '장고': 1, '손꼽히는': 2, '페테': 7, '아스카': 6, '하고프': 2, '룬': 1, '소프트': 1, '플러스': 2, '짜여진': 3, '골격': 3, '맛있는': 3, '지루하지': 1, '않게하고': 1, '카르페디엠': 9, '스토리': 14, '스틸컷': 3, '장식': 5, '맞게': 8, '컨셉': 2, '맞는가': 2, '장흥': 2, '표정': 4, '담기게': 2, '만하': 8, '호': 16, '캉스': 10, '단': 6, '라라': 1, '보내는이': 1, '필요한': 1, '문구': 3, '이페': 1, '동유럽': 1, '되는로': 2, '라': 1, '뛰어납니다': 4, '사향': 3, '나고': 2, '미에서는': 1, '체리파이': 1, '핑크레이디': 1, '서늘했던': 1, '2017년': 11, '8월': 20, '시원': 2, '한밤': 1, '일': 7, '교차': 5, '낮은당': 1, '부여': 3, '놀랍도록': 2, '성숙해': 1, '정재': 1, '추출': 6, '팔레트': 4, '짜인': 1, '옷': 1, '입고': 2, '재탄생': 2, '연분홍': 1, '마라': 1, '에스프레소': 2, '지니고있다': 3, '피망': 5, '하였으며': 4, '아메리칸': 9, '산화': 7, '항': 1, '체사': 2, '용하지': 3, '콤포트': 2, '그릴': 9, '일절': 2, '적혀진는': 1, '깊숙한': 1, '자하': 3, '500': 4, '800': 2, '자라난': 2, '만들었다': 9, '까리': 8, '네나': 2, '높은고도': 1, '배트': 1, '섬세하며': 3, '완벽': 1, '까울': 1, '선보여주는': 1, '조량': 2, '갈레': 2, '스트로': 2, '꽉찬': 2, '엄격하게': 1, '한산': 10, '크에서': 3, '13,000': 1, '20,000': 1, '발레': 1, '누오': 1, '지명': 1, '주소': 1, '아니스': 5, '적갈색': 1, '은은하게퍼지는': 1, '채운다': 3, '효능': 1, '가진항': 1, '료': 1, '넣어서': 1, '끓이는': 1, '글': 13, '루바': 6, '건강': 1, '이유나': 1, '개선': 1, '기원전': 1, '500년': 2, '슈': 1, '페트': 3, '버건': 1, '트로링거블렌딩': 1, '95.385': 1, '향료': 1, '따뜻하게': 1, '스칸디나비아': 1, '회복': 1, '예방': 1, '벼룩시장': 1, '가면': 1, '종이컵': 1, '국자': 1, '부어': 1, '파는': 1, '포장마차': 1, '만날수있고': 1, '행사': 10, '항상': 1, '빠지지': 2, '준비': 4, '스틱': 2, '넣은': 4, '티백': 1, '좀더': 5, '편리하게': 3, '마신다고': 1, '대신': 3, '넣어도': 1, '비슷하지만': 1, '나라': 2, '호칭': 1, '다르다': 1, '뮬드': 1, '부른다': 6, '기호': 2, '넣고': 2, '2030분': 1, '겨울캠핑': 1, '장이': 1, '뗌': 3, '니요': 13, '올라온다': 12, '느껴지다가': 1, '후병': 2, '1년': 11, '만들었으며': 5, '전혀': 6, '짧게': 3, '침': 1, '감도는진한': 1, '잔잔한기': 2, '가시선': 3, '감지': 1, '되다가': 1, '이내': 2, '모렐': 1, '시트': 1, '레스': 1, '알수있듯': 6, '가졌다': 1, '싱싱하고잘': 1, '도드라지며': 2, '더해지는': 2, '안은': 1, '주어': 2, '성한': 10, '더한': 3, '비프': 2, '2018': 3, '레딩': 1, '배어나는다': 1, '해발고도': 4, '3540년': 1, '후미': 6, '국산': 1, '숙성해': 12, '뻬스': 1, '여과': 7, '없': 6, '30분': 1, '널말': 2, '벡': 9, '보듯': 1, '아닌말': 1, '강조': 6, '걸': 8, '맞게말': 1, '벡특': 1, '감있는': 6, '느끼게만': 1, '보라색': 5, '대위': 1, '4일': 1, '도를': 5, '펌핑': 1, '유칼립투스': 5, '보여주듯': 1, '월넛': 1, '페라노': 1, '보리수': 2, '또품': 1, '샐비어': 1, '랩': 1, '싫증나지': 1, '않을': 3, '가조': 2, '높지': 4, '선호': 2, '고민': 7, '필요없이': 1, '하길': 4, '더없이': 10, '어울리죠': 8, '또스띠': 1, '200년': 3, '하트': 3, '그려': 4, '더한이': 1, '고백': 7, '나연': 1, '기념일': 2, '올라옵니다': 7, '케이크': 7, '곁들이면잘': 2, '어울리고': 9, '5.5': 3, '즐길수있어요': 11, '에이': 5, '롱반': 2, '시킨': 9, '카모': 2, '미에서': 1, '2019년': 18, '우리': 5, '삶은': 1, '굴곡': 1, '지고': 2, '굽이쳐': 1, '길': 4, '비밀스런': 1, '이야기': 8, '찾기': 1, '어렵지만': 1, '구부러지고': 1, '곡선': 2, '이어가는에서는': 1, '담겨진': 1, '여정': 1, '되기까지': 1, '기대할수있다': 1, '벤': 3, '진판델': 27, '담은듯': 1, '한': 3, '밝': 2, '적당한당': 6, '로럴': 4, '주도하는': 1, '녹색': 4, '끊임없이': 4, '넘치는기': 1, '전해지며': 2, '뛰어나며': 3, '이룬': 5, '관성': 1, '69년': 1, '알': 12, '마는': 3, '벨라': 6, '비스타': 6, '스탠다드': 1, '퀴베': 1, '지어졌다': 1, '골드에디션': 2, '톡톡': 6, '맡을수있는': 1, '품은': 1, '됐다': 5, '달콤하기만': 1, '식감': 1, '여성': 5, '술': 4, '못': 1, '할만': 10, '냉장고': 2, '해마': 4, '칸': 8, '티모': 1, '빛병': 1, '용이': 1, '손색': 5, '없다': 12, '편안하게': 5, '연어': 6, '살색': 2, '보여주며': 5, '경쾌한': 13, '5만': 1, '벨': 2, '인고': 1, '1214': 3, '마시는것이': 2, '살구색': 2, '꼬뜨데로즈': 2, '이름이말': 2, '해주듯이': 2, '아름다운로': 5, '은병': 2, '금박': 3, '바닥': 3, '시각': 3, '더해준다': 4, '싱그러운과': 3, '장미꽃': 10, '는듯': 2, '착각': 2, '들게': 2, '크림슨색': 1, '풍부함이': 1, '담대하고': 1, '신선함': 6, '신대륙': 5, '윤곽': 1, '기계': 1, '나뉘어': 1, '무릴라': 1, '가진리': 1, '만들며': 5, '앙금': 3, '릴라': 1, '몇': 1, '안되는': 1, '남겨': 4, '부드럽지한': 1, '활기찬': 2, '듬뿍': 2, '묻어나며': 2, '남쪽': 4, '정교하게': 1, '만들어지는': 1, '실레': 1, '가선': 3, '뽐낸다': 1, '리기': 4, '뛰어난것이': 1, '바리': 2, '끄로': 1, '레시피': 1, '건강한': 4, '다가오는': 2, '햄버거': 1, '풀뽀': 6, '로꼬': 6, '쁘': 2, '로그': 3, '미친': 1, '문어': 4, '지녔다는': 1, '해석': 2, '정해져있는': 1, '개개인': 1, '다양하게': 2, '변형': 1, '쉽고': 4, '재미있게': 1, '즐기는': 32, '한결': 1, '친숙하게': 1, '다가가겠다는': 1, '의도': 4, '담겨있': 1, '란': 10, '기한': 3, '허용': 3, '유통': 3, '표기': 3, '상품': 1, '유지됨': 1, '용시': 1, '캔': 16, '세련됨을': 1, '강렬히': 1, '라펠데세렌': 1, '고요한': 1, '부름을': 1, '생': 3, '셉아': 1, '근처': 2, '45': 4, '진홍': 2, '빛색': 1, '붓순나무': 1, '잡혀있으며': 1, '느껴지는긴': 1, '느끼게': 5, '5월': 28, '몬드': 7, '리다': 28, '베린': 1, '사위': 1, '1974년': 2, '성장': 7, '이어오고있다': 3, '컬렉션': 3, '필드': 2, '블렌': 2, '스테파니': 1, '퍼트': 1, '넘이': 1, '누리': 4, '르네소비뇽': 39, '확인': 7, '먼저': 4, '해볼': 1, '크리스': 4, '조게는': 2, '전설': 4, '1957년': 2, '리해': 1, '관리': 8, '끌리마': 1, '해쉬': 1, '시켰다는': 1, '받는다': 2, '네프': 13, '하는데': 9, '레샤름므': 2, '매체': 13, '꾸준히': 16, '받고있는': 18, '쉬농': 1, '쌓아': 7, '온': 10, '느껴': 1, '보고': 5, '통과': 1, '골듯': 1, '풍부하고진': 1, '알렉산': 2, '드린은': 1, '북론': 4, '전문': 5, '가세': 2, '이북': 1, '꿈꾸며': 1, '의기': 3, '투합': 1, '해설': 1, '립': 1, '이력': 2, '이모': 3, '화려하다': 1, '폴자불레': 1, '대손': 9, '니콜라스': 5, '불레': 1, '해박': 1, '지식': 2, '숨겨': 1, '진강': 1, '기욤': 1, '가도': 2, '마크': 7, '알렉산드르': 1, '카소': 1, '뛰어난세': 1, '철학': 22, '비오니에로': 2, '드린': 1, '비오니에는': 2, '궁합': 37, '선명하게': 2, '라즈': 1, '이돌': 2, '면서': 6, '하지': 9, '뒷받침': 3, '해주어': 1, '마시고싶어지는': 1, '친': 7, '힙스터': 1, '사하는': 3, '윌리엄': 5, '다우니': 3, '장소': 3, '불문': 1, '더하기': 1, '사랑받고있다': 3, '아중': 2, '주목할만한': 2, '빅토리아주': 2, '스타일리시': 6, '밴드': 1, '활동': 6, '샵': 1, '근무': 1, '빠져들었고': 1, '붙인': 1, '한지': 1, '2006년': 8, '바이오': 14, '다이내믹': 13, '관심': 1, '가졌고': 1, '인간': 3, '개입': 4, '화하며': 1, '캐': 8, '시드': 1, '아는': 23, '아티스트': 9, '인레': 2, '몸바사': 1, '끈다': 3, '인어': 1, '퍼': 1, '골번': 1, '뚜렷한과': 1, '돋보이고': 3, '나며': 1, '발랄한기': 1, '채워주는': 1, '홍차': 7, '과열': 1, '식혀주는': 1, '안개': 4, '구분': 2, '나타날수있도록': 1, '여조': 1, '이룰수있도록': 1, '인하여잘': 1, '어울려져': 1, '이면': 4, '신선한구': 1, '몬테레이': 4, '산타바바라': 3, '한유': 1, '6월': 17, '메이오': 1, '원주민': 4, '언어': 3, '저명한': 1, '인척': 1, '인조': 3, '셉와': 1, '창의': 3, '거뒀다': 1, '드러나도록': 1, '하고': 8, '이후원': 1, '이루도록': 1, '서긴': 1, '아가': 3, '수상': 5, '경력': 6, '찾을만큼': 1, '드까': 1, '97': 3, '찾는다면': 12, '카탈': 6, '리나': 6, '사운': 3, '다양한수': 1, '상경': 2, '인정받은': 4, '대전': 1, '당시': 1, '남태평양': 1, '주요한': 1, '비행정': 2, '모티브': 9, '하늘': 1, '켜준것처럼': 1, '다짐': 1, '담은것이다': 1, '남다른구': 1, '인즈': 12, '코스트코': 1, '할수있으며': 4, '2020': 7, '수상해': 1, '주목': 17, '받고있다': 20, '마시는내내': 1, '산뜻함과': 1, '15일': 2, '햇살': 7, '의결': 1, '마렘': 1, '다리': 1, '토라': 3, '이태리어': 1, '휴양지': 5, '물신': 1, '포르타': 6, '띤또와브': 1, '국유': 1, '쉐프': 1, '로손': 2, '새겨진': 3, '달리': 5, '굉장히': 2, '쥬얼': 1, '전면': 1, '일러스트': 6, '작가': 8, '포르투갈': 22, '외국인': 1, '비친': 1, '일상': 13, '삶': 1, '모습': 29, '담아내어이': 1, '즐길수있는을': 1, '잘살려주고있다': 1, '자스민': 4, '잔테': 3, '대변': 4, '135년': 1, '카를로': 3, '그리노가': 1, '이마리': 3, '한청': 5, '량감': 5, '세미': 8, '판탈레': 1, '섬': 8, '비보': 3, '더하며': 1, '카': 13, '밀폐': 1, '청량': 2, '정취': 6, '그리노는': 1, '그리노에서': 1, '은지': 1, '280350': 2, '해만': 10, '지에': 3, '따라와인의': 1, '2040': 1, '한상태': 1, '58년': 1, '두루': 11, '폴리': 6, '아노는': 1, '출발': 13, '고수': 3, '아노': 7, '부드러운것이': 3, '로쏘': 8, '확해': 3, '느낀에의': 1, '2015년': 5, '미친의': 1, '어로': 1, '발음': 3, '각인': 1, '시킬수있도록': 1, '만들어졌으며': 1, '메인': 6, '건강하고': 1, '단기간': 2, '급속도': 1, '성장하고있는': 1, '아시아': 9, '의선': 1, '주자': 5, '레뱅드': 1, '입증': 1, '미친을': 1, '친근하고': 3, '재미있는': 3, '젊고': 1, '의상': 3, '경쾌하고': 3, '전하': 12, '아이렌': 2, '용했': 1, '고상': 1, '느껴져요': 4, '즐길수있습니다': 6, '에덴': 4, '성격': 2, '이신선': 4, '연결': 2, '보여주는이': 1, '런': 2, '원심': 1, '분리': 1, '블렌드': 6, '뒤병': 1, '입하였다': 1, '하는것으로': 3, '마련': 1, '해주었다': 1, '그랜트': 4, '버지의똔': 1, '스테판스윈': 1, '그로': 1, '포트': 13, '1855년': 3, '째대': 2, '할리데이': 3, '최고점': 1, '받기도': 1, '쏜리': 1, '감도': 6, '갖춰': 14, '페트롤': 1, '피하': 1, '씻어주는': 1, '아시안': 1, '새싹': 1, '신속하게': 1, '옮겨져줄기': 1, '최소한': 6, '압력': 1, '생동': 1, '찌꺼기': 1, '델타': 4, '컴퍼니': 2, '쌩': 5, '클레어': 2, '맷': 2, '톰슨': 1, '마스터': 6, '오브': 7, '데이비드': 1, '닐이봇슨': 1, '미세': 2, '적합하다고': 1, '판단': 1, '과피': 1, '노누': 1, '옮겨': 2, '뇽블랑특': 1, '활': 2, '와중': 1, '감미': 4, '청포도': 9, '패션후르츠': 2, '지니고있어': 1, '24시간': 2, '폭넓은': 1, '인도': 6, '빼놓을수': 5, '보시오는': 1, '보시오': 1, '운영': 17, '돼있다': 1, '1967년': 1, '째이어오며': 1, '현대': 16, '영해': 2, '사랑받는': 4, '트로피': 3, '산뜻하면서도': 3, '갖췄다': 8, '지에서도': 1, '누릴만': 1, '발산': 1, '패션': 4, '프룻': 2, '냄새': 5, '녹아있는': 1, '탄탄하고': 2, '짜릿한': 2, '있으나': 1, '느껴지는당': 1, '완화': 1, '이드': 1, '묘': 1, '부드러우며': 5, '만들겠다는': 2, '실레니': 4, '로마신화': 1, '서술': 2, '바쿠스': 1, '등장': 10, '한실': 1, '혹스': 2, '만드는데': 1, '셀라': 9, '셀렉': 6, '어려운': 4, '많지만': 1, '재사용': 4, '캡슐': 1, '남은': 1, '닫아서': 1, '살아있어': 1, '혼술': 2, '올라와': 1, '서나': 4, '푸르고': 1, '라이트': 4, '이청': 1, '14시간': 1, '푸': 10, '릇': 1, '최대로': 1, '끌어내었다': 1, '무겁지': 7, '않은데': 1, '얄리': 2, '좋은데': 3, '2013년': 6, '대해': 1, '인증': 12, '자연보호': 1, '구역': 2, '습지': 1, '가져왔다': 1, '만들고있다': 12, '카사블랑카': 2, '크드': 1, '냈다': 5, '살육': 3, '가벼운치': 1, '지녔고': 2, '상쾌하다': 1, '글래머': 1, '러스': 1, '메이킹': 3, '엑스트라': 4, '브륏': 3, '블라인드': 5, '싶지만': 1, '부담스럽다면': 2, '샤토': 20, '르트': 1, '도톤': 1, '기술제휴': 1, '맺고있다': 1, '카차포알': 2, '마이': 4, '라펠': 1, '한코': 1, '트롤': 1, '블랑드블': 7, '조방': 5, '2020년': 15, '진가': 2, '인정받고있는': 3, '짙': 2, '띈': 1, '에코': 1, '터질듯': 1, '검게': 2, '두껍고': 1, '감을주고': 1, '어릴': 2, '좋지만': 6, '몇년': 1, '간병': 2, '되면': 2, '깔끔하지만': 1, '몬터레이': 4, '멧츠': 2, '하는것을': 1, '목표': 2, '마다': 3, '블록': 3, '야드': 1, '고스': 6, '구현': 2, '해낸다': 1, '이른': 1, '해사': 8, '용하며': 2, '리버': 10, '뷰': 2, '가감': 2, '합리': 7, '만들어지며': 2, '32': 2, '용함': 1, '밝게': 2, '오르며': 3, '부드럽지만': 1, '믿을만한': 2, '뜨사': 1, '뜨는디': 1, '캔터': 1, '매거진': 2, '신뢰': 7, '수지': 1, '애': 1, '2010년': 6, '생떼': 3, '밀리': 4, '옹그': 1, '살렸다': 3, '50년': 7, '그리고긴': 2, '이탈': 2, '아샤르': 2, '아르지': 3, '1918년': 2, '꾸준한': 2, '투자': 4, '성장했다': 2, '영향력': 3, '감베': 4, '여러': 2, '냥': 2, '리나로': 1, '이즈': 2, '쏠리': 1, '나스': 3, '색다른': 3, '기억': 4, '할수있을것이다': 2, '가진이': 3, '렘블레': 1, '날씨': 8, '금세': 1, '바뀐다': 2, '풍부하고구': 2, '살아있는과': 1, '되었을': 1, '중요시': 2, '샤도네특': 1, '올린다': 2, '정상': 2, '만찬': 1, '1972년': 3, '연구': 4, '찾아냈다': 1, '올렸다': 1, '조감도': 2, '가자미목': 1, '뉴욕': 1, '스트립': 1, '가함께': 3, '됐으니': 1, '참고': 1, '어울리니': 6, '추석': 20, '해주며': 3, '오는': 6, '하이랜즈': 2, '파의': 1, '쌓은': 8, '베이커': 1, '책임지고있는': 1, '오퍼스': 2, '잘알려져있으며': 2, '해볼수있다는': 1, '본연': 7, '돋보인다': 6, '뛰어난테': 1, '루아': 20, '냈다는': 2, '풀하게': 1, '오트쿠튀르': 1, '레파셀레르드쏘': 1, '뫼르소': 1, '르끌레르': 1, '브리앙': 1, '벨빌': 1, '샤또드': 1, '꼬마': 1, '렌': 3, '유주': 3, '오가': 3, '들과의': 1, '파트너': 2, '십': 4, '단독': 2, '해테': 3, '레파셀레르드': 1, '쏘의': 1, '쥬브리샹베르탱': 1, '94': 4, '론칭후': 1, '올가을': 3, '신규': 2, '서클': 3, '알렉산더': 7, '장개': 1, '알려져있으며': 1, '꼬샤': 1, '써클': 1, '키라': 1, '임의': 2, '는바': 6, '레스코': 3, '페바': 2, '코로': 1, '않으면': 1, '도드라지고': 1, '멘솔': 3, '계속': 4, '잡미': 2, '진하면서': 1, '단순히진': 1, '되어진하면서도': 1, '몬': 10, '타노의': 1, '다양성': 5, '타노에': 2, '보데': 17, '기하학': 1, '건축물': 1, '광고': 2, '촬영': 2, '타노는': 1, '국경': 1, '접': 3, '피레네': 1, '소모': 1, '스리': 1, '제르': 22, '진하면서도': 2, '이뤄': 2, '받을수있다': 1, '코리아': 2, '챌': 3, '린지': 2, '은상': 1, '이어지고있다': 1, '대담하고': 1, '올리': 5, '르플레': 5, '지키고있는': 2, '엔트리': 5, '2018년': 8, '본': 1, '꼬뜨샬': 1, '송로버섯': 1, '모던': 6, '1930년': 2, '받는바': 1, '등세': 1, '인정받고있으며': 1, '감히': 1, '수용': 1, '선보이고있다': 3, '그리말디': 1, '당당한구': 1, '강렬': 2, '섬세함까지': 1, '이풍': 2, '고진하': 1, '한구': 1, '조를가지고': 1, '슬로베니아': 10, '티나': 5, '비냐': 3, '리엘': 1, '오페': 1, '르티': 2, '나체': 2, '교외': 1, '페르': 2, '1973년': 1, '명의': 1, '철저히': 2, '초기': 2, '후선': 1, '빠른': 3, '해신': 2, '선함을': 1, '30일': 2, '과거': 5, '절도': 3, '화폐': 3, '위조': 3, '중혼': 1, '범죄': 4, '리스트': 4, '죄목': 1, '범죄자': 2, '아일랜드': 5, '통치': 4, '반대': 2, '강제': 3, '형벌': 4, '내렸다': 1, '펼쳤고': 1, '구글플레이': 1, '앱스토어': 1, '어플': 1, '다운': 2, '들을수있다': 1, '죄수': 1, '출신': 9, '사법': 1, '보좌': 1, '관인': 1, '1871년': 1, '래서': 1, '어울릴것': 2, '델': 10, '보스': 5, '프란치아': 10, '코르': 13, '타의': 5, '다년': 2, '근면함': 1, '열정': 6, '기다림': 2, '결과': 1, '차있다': 1, '돌': 1, '부의': 2, '흥취': 1, '우조': 1, '신선하여': 1, '굉장한': 1, '가져가': 1, '놀랐지만': 1, '필자': 1, '마신': 2, '익숙해졌고': 1, '아쉽게': 1, '뿜': 1, '져': 4, '로다이': 3, '분포': 1, '찾아': 1, '헤매던': 1, '높아': 2, '굵게': 1, '구불구불해진': 1, '의근': 1, '육질': 4, '서퍼': 1, '같다는': 1, '생각': 10, '들어를': 1, '외쳤고': 1, '날리': 3, '헤드': 4, '날리라는': 2, '델리카토': 4, '허가': 2, '필요하다': 1, '잔판델': 1, '지녀': 3, '떫': 2, '어울리지만': 1, '드바인진판델': 3, '바베큐': 1, '될만큼': 3, '11월': 9, '선두': 5, '1924년': 3, '발돋움': 1, '로디': 5, '된이': 13, '판델': 24, '큰한': 1, '오를만큼': 1, '빛로': 2, '우아하게퍼지는다': 1, '탄탄': 2, '리티등': 1, '세니에': 1, '들어': 2, '1808년': 2, '태양열': 1, '지붕': 1, '얻은': 5, '에너지': 4, '이산화황': 4, '이적': 4, '드골': 1, '대통령': 3, '산업': 5, '디자이너': 4, '필립스': 2, '탁': 3, '등유': 3, '라피': 5, '선명하고': 1, '농도': 2, '뒷맛': 4, '카타르항공': 1, '비즈니스클래스': 4, '캐러멜': 8, '풍부하고긴': 1, '주는주': 1, '1981년': 2, '포트와인': 16, '1886년': 1, '이어오며': 3, '재정': 1, '교체': 1, '여러가지': 1, '해성': 1, '재는': 1, '도스': 2, '영역': 1, '쌀쌀한': 2, '용량': 21, '므': 5, '짚': 1, '내는': 4, '까잘': 3, '오래되고': 1, '300': 7, '공작': 1, '해탈': 1, '한역': 1, '사가있으며': 1, '개국': 6, '규모': 6, '임을대': 1, '변하며': 1, '들이': 6, '속성': 2, '화하기': 3, '극대': 4, '짠다': 1, '통후': 1, '뉴': 16, '트럴': 1, '아마로': 6, '이어오고있으며': 1, '화학': 6, '비료': 5, '않는오가': 1, '공법': 2, '인지': 2, '피에로': 2, '부인': 1, '세명': 1, '느낌을전한': 1, '푸르': 5, '곷': 1, '보여질': 1, '않게': 3, '발렌시아': 8, '륙': 2, '한우': 2, '700900': 2, '경작': 2, '강력한': 2, '안정화': 3, '창조': 2, '불리': 6, '50만': 1, '아이스와인': 9, '달콤하게마': 1, '무리하고싶다면': 1, '도미': 2, '오데라': 2, '베가': 2, '바를': 2, '마카베오': 6, '이뤄질리지': 1, '않는다는': 1, '디엔드': 1, '연말': 13, '레드애플': 1, '운배': 1, '첫인상': 4, '3.5': 1, '계승': 2, '하는것도': 1, '무세': 1, '뮈니': 2, '잠재력': 12, '1629년': 1, '걸쳐': 9, '해왔고': 1, '탄소': 1, '배출': 2, '화하는': 2, '신재생에너지': 1, '활용': 5, '듀진블': 1, '랑드': 1, '유진': 2, '무세의': 1, '정신': 6, '보석': 4, '붙였다': 3, '오르고자': 1, '서우러': 1, '복잡한과': 1, '국민': 3, '엘꼬또': 2, '데리': 3, '오하': 1, '은행': 1, '뱅크': 1, '유니온': 1, '합작': 4, '적극': 5, '첨단': 2, '해일': 1, '시키며': 1, '크리': 3, '안자는': 1, '수시': 1, '장사': 2, '잘알려져있다': 2, '루돌프': 1, '사슴': 1, '제의': 4, '돌체토': 3, '재발': 1, '효': 2, '용하였다': 1, '같은시': 1, '청량한기': 1, '조화로워': 3, '많은이': 3, '물씬': 4, '부': 8, '티노': 5, '본사': 1, '둔와': 1, '인전': 1, '문공': 1, '급사': 2, '곳곳': 2, '조달': 1, '해와': 1, '이부': 1, '참여': 4, '풍부한기': 3, '톡': 13, '쏘는듯': 1, '달다는것이': 1, '달콤함을': 5, '즐': 6, '기기': 6, '전해진다': 7, '거칠지': 4, '라마': 2, '옷감': 2, '만드는실': 1, '올을': 1, '마르코폴로': 2, '실크로드': 2, '비단': 2, '동양': 2, '물품': 2, '풍습': 2, '베니스': 2, '온것을': 2, '에밀리아로마냐': 8, '보떼르': 2, '네그로': 2, '산지오': 10, '세가지': 3, '시설': 4, '만드는실을': 1, '붉은실로': 1, '된것처럼': 2, '인연': 4, '주며': 5, '맴돌고': 1, '맞아': 3, '2021년': 17, '1월': 8, '쉐': 1, '1970년': 3, '선보였다': 1, '선구자': 8, '헤리티지': 1, '브진판델': 1, '적당하며': 2, '되는가': 1, '해보자': 1, '감속': 1, '테두리': 2, '귀부인': 1, '고상함이': 1, '달콤함의': 1, '토카이': 7, '샤또데레': 1, '600년': 1, '타기': 1, '아름다운당': 1, '이숙성': 1, '르쉬': 1, '스캇': 2, '고상한': 1, '시키지': 1, '퍼지며': 2, '점잖게': 1, '트렌치코트': 1, '소의': 4, '해인': 1, '새해': 7, '해야': 7, '작년': 3, '초': 3, '젠틀': 1, '아라곤': 1, '큰와': 1, '인산': 2, '적힌': 1, '소중함을': 1, '알려': 1, '진하': 1, '갈비찜': 8, '항정': 1, '풀내음': 2, '글라스': 8, '채우며진하면서도': 1, '셉': 6, '자와인': 6, '걸고': 3, '정교함': 1, '접근성': 2, '든이': 2, '구대륙': 3, '고루': 3, '이강': 3, '한음': 2, '한식': 18, '푸아그라': 2, '카탈루니아': 1, '블랑카그르나슈블': 2, '든진한': 1, '주황': 3, '띄는': 1, '마말레이드': 1, '제법': 4, '간의': 4, '와잘': 1, '카스': 9, '텔': 15, '내추럴': 31, '철저한': 3, '비오디': 3, '나미': 3, '해아주': 1, '해낸': 4, '데스': 7, '푸야데': 1, '스포': 1, '강수량': 1, '449': 1, '14일': 1, '청징': 1, '순수한자': 1, '연주': 2, '쥐는': 1, '부터': 4, '유기농법': 6, '해하': 1, '주의': 2, '선구': 8, '주었다': 2, '꼽히는이': 1, '불꽃': 2, '산후안': 2, '멘도사': 1, '폴': 3, '홉스': 1, '맡고있으며': 2, '부싯돌': 2, '불씨': 1, '만들었던것처럼': 1, '페더널': 1, '점수': 6, '버번': 8, '가져다주는': 1, '조시에는': 1, '버번위스키': 2, '용하였으나': 1, '시판': 1, '하지못하였다': 1, '실험': 5, '위스키': 3, '입혀진': 1, '지드': 2, '열풍': 2, '이끈': 2, '주역': 1, '막': 6, '트러플': 2, '이지남': 1, '오르는': 5, '둥글게': 1, '채워지는': 2, '생그': 1, '랑그': 11, '260': 1, '이어오고있는': 7, '해포': 4, '엘': 3, '몰리는시라': 1, '와그르나슈누': 1, '를블렌딩했다': 2, '입해': 1, '6천': 3, '심오하며': 1, '비범함을': 1, '훌륭한시라': 1, '찾을수있는': 1, '전개': 1, '대하': 1, '채우되': 1, '대단히긴': 1, '컬트': 4, '설명': 3, '필요없을만큼': 2, '잘알려진': 7, '어리석음': 1, '중턱': 1, '깎아시라': 1, '심었을': 1, '가능성': 3, '믿지': 1, '않고던진말이다': 1, '당당하게시라': 1, '뛰어난시라': 1, '맞은': 2, '짙고': 2, '마셨을': 2, '푸룬': 1, '사르데냐': 2, '사시까': 1, '아코': 1, '모타': 2, '지중해성기후': 2, '내리쬐고': 1, '해풍': 4, '이불': 9, '나노': 3, '쉽게만': 2, '나기': 2, '힘든': 2, '박력': 1, '부드럽고도': 1, '가모': 2, '몬도델': 1, '비노': 3, '주얼': 5, '자연스러운당': 1, '높게': 1, '않는것이': 1, '정통': 5, '된치': 2, '투명한로': 1, '워셀': 1, '러즈': 1, '병입등': 1, '인내': 1, '포착': 1, '담았다': 9, '카나페': 2, '떡볶이': 5, '메우며': 1, '한도': 6, '멘라': 3, '파주': 6, '합해': 3, '인장': 1, '마르크': 1, '플로': 2, '랄': 4, '할수있듯': 2, '뮈스카텔': 2, '95': 3, '가봄': 1, '힙': 4, '플라워': 2, '은은하게퍼진다': 2, '은로': 3, '산타크루즈': 2, '한보': 3, '그리드': 1, '봄철': 1, '격식': 2, '구애': 1, '받지': 1, '그르나슈': 13, '그르나슈블': 2, '샌드위치': 1, '빈치': 2, '크리스탈': 1, '보여주기': 2, '외한': 1, '레오나르도': 4, '다빈치': 3, '칸티': 6, '1961년': 1, '레다': 4, '로사': 5, '용했으며': 1, '블라썸': 3, '말린과': 4, '백장미': 1, '화사하다': 1, '숭': 1, '이입': 1, '매끄럽게': 1, '카레': 2, '55': 4, '가벼': 1, '이확': 1, '올라오면': 1, '커짐': 1, '주말': 1, '괜찮을듯': 1, '오일': 2, '어울릴듯': 2, '영빈': 1, '대에': 4, '루카': 5, '드러낼수있는': 1, '용하는것이': 1, '담는다': 1, '팜므파탈': 1, '와인잔': 2, '부티크': 5, '판넬': 3, '지향': 7, '5천': 1, '과육': 2, '둥글면서': 2, '리뇨': 3, '빠': 2, '소씨': 1, '갈라시아': 1, '사스': 7, '중심부': 2, '등핵': 1, '돋보이면서도': 1, '가볍지만은': 1, '않다는것이': 1, '디시': 3, '옹': 7, '상황': 1, '잡혀있': 1, '고산': 1, '개빈티': 1, '자란두': 1, '1968년': 2, '보아': 5, '자녀': 2, '가업': 3, '나른한': 2, '깨우고싶은': 1, '오렌지색': 2, '익숙한': 3, '차내음': 1, '이난': 1, '쟈': 1, '스민': 1, '마시는것을': 1, '쉔': 3, '호프': 3, '홀': 2, '져에서': 3, '해온': 9, '로터': 1, '용하고': 1, '이아몬드': 1, '가장자리': 1, '이감': 1, '꽃잎': 4, '들어가있는리': 1, '쿼': 1, '지중해': 5, '건강하게': 1, '살린것이': 1, '에네미': 2, '의적': 2, '훔쳐': 1, '먹으러': 1, '얄미운': 1, '끄는': 9, '미오는': 1, '로나': 2, '출몰': 1, '따먹는': 1, '호가': 3, '살렸으며': 2, '어우러지고': 1, '재치': 1, '친근한': 5, '가길다': 1, '에밀': 3, '에밀리': 1, '의퀴진': 1, '볼수있으며': 1, '거부': 1, '신비로운': 1, '치는': 2, '1938년': 1, '오텔로': 1, '후손': 2, '현재세': 2, '잡았다': 1, '달이': 1, '어렵게': 1, '느끼는이': 2, '들도': 6, '백도': 5, '커드': 1, '크래커': 2, '매끄럽고': 3, '더해주고': 1, '체감': 2, '더해주는': 2, '즐겁게만': 1, '자의': 2, '포르투': 4, '도우': 4, '분류': 5, '앤': 6, '크론': 1, '흔하지': 4, '돼': 3, '끌었다': 1, '갖췄으며': 4, '채워놓은': 1, '물상': 1, '치아': 1, '치아나는': 1, '러시안': 7, '오르고': 1, '서히퍼진다': 1, '풍만하며': 1, '남미': 2, '이선': 1, '까사': 1, '토키': 2, '롤란': 1, '이름을내세운만큼': 1, '자부심': 5, '까르미네르': 1, '마터': 1, '라벤더': 5, '프루츠': 1, '더해진다': 4, '둥글고': 2, '감있으면서': 1, '보여주는로': 1, '보틀': 33, '느낄수있는로': 1, '레미': 1, '야후': 1, '빅': 1, '보인': 2, '자비': 1, '아베': 1, '존': 1, '맛본': 1, '생명력': 1, '배등': 2, '흰과': 1, '신선하면서': 1, '쨍': 1, '경쾌하고리': 1, '이오': 4, '1858년': 2, '행보': 2, '바스크': 1, '오냐티': 1, '라비': 3, '주리': 1, '까베르네쇼비뇽': 3, '젠': 1, '달콤하고진': 1, '보글': 3, '일관': 2, '잡은': 2, '송아지': 1, '고플': 1, '럼잼': 1, '성하게하며': 1, '맛보기': 1, '68년': 1, '낮고과': 1, '인정받기': 1, '인빈': 1, '센테': 1, '파리아': 2, '은비': 3, '베르데': 8, '루레': 2, '아린': 2, '가정': 2, '티함': 1, '이어오고있는아리': 1, '망': 3, '고향이': 2, '수로': 1, '즐길수있는것이': 2, '조화로우며': 1, '인조화': 2, '캐년': 1, '선보이며': 3, '사랑받고있는': 1, '다가오며긴': 1, '비도': 4, '브라더스': 5, '들었으며': 4, '새벽녘': 1, '함께잘': 1, '지브리': 2, '멘하고에서': 1, '1760년': 2, '꼽힐만큼': 2, '해지': 1, '인증서': 2, '획득': 2, '드러나는': 7, '향기롭게': 1, '풍부함을': 1, '메디치': 5, '에르': 13, '메테': 2, '원중': 4, '람': 8, '브루스': 13, '메테는람': 2, '대가': 2, '통칭': 1, '은감': 1, '이탈리안': 1, '12년': 1, '수상한': 4, '아름답고': 4, '토레스': 10, '신작': 1, '알리는': 5, '데크': 4, '공헌': 4, '1979년': 1, '중시': 1, '즐기거나': 3, '가득하며': 2, '열대': 5, '살리고아': 1, '높인': 2, '스테이': 7, '남서쪽': 1, '본래': 1, '민': 2, '불린': 2, '심기전': 1, '불을놓았던': 1, '파이어': 1, '붙었다': 1, '즐길수있고': 5, '노란과': 1, '200': 3, '은발': 2, '뀌베를블렌딩': 2, '북동': 1, '일어나며': 1, '그레이': 1, '프푸르츠': 1, '감싸진': 1, '즉시': 1, '컨트롤': 1, '넣지': 3, '선명한과': 1, '불': 5, '그을린': 1, '참나무': 2, '입체': 2, '활기': 4, '더하고': 1, '부드러워진': 1, '채우며긴': 1, '테메큘': 4, '만들어진이': 2, '탁월하게': 1, '드문': 1, '두드러지고': 1, '음회': 1, '누리고있다': 5, '류등': 1, '곁들이면': 6, '발견': 10, '이었습니다': 1, '백화점': 2, '무역': 1, '센터': 1, '구매': 3, '머물러있던': 1, '독창': 4, '콘텐츠': 1, '맺고': 1, '돋우며': 1, '돋보이는것이': 1, '감돌고': 1, '만들어내며': 2, '구아바': 2, '초록색': 2, '발랄함을': 1, '감을주는': 1, '조합': 8, '스뮤': 1, '비드': 1, '1927년': 1, '동부': 3, '고등': 1, '이여름': 1, '떠올리게': 1, '미세한기': 2, '슈냉블': 11, '프랑': 7, '따라오는': 1, '사랑스럽다': 3, '한기': 2, '되는고': 1, '레망': 11, '1만': 1, '5천년': 1, '진심': 1, '웨스트': 5, '작': 2, '의대': 1, '중화': 2, '민감하고': 1, '까다로운': 1, '산타': 6, '루시아': 1, '하이랜드': 1, '호박': 4, '풍긴다': 1, '주정': 4, '강화': 4, '샤또롱': 1, '트앙브레': 1, '48': 2, '인호': 1, '박색': 1, '성숙': 1, '올라간': 1, '68': 2, '차가운': 3, '링해': 3, '즐길것을': 2, '콰투': 1, '느껴지는것과': 1, '희귀': 1, '사라져가고있는': 1, '바꿀': 1, '올라가': 1, '품목': 1, '중주': 2, '하는것처럼': 1, '서로': 5, '끊': 1, '엄': 1, '넘치는과': 3, '로벨': 1, '이양': 1, '중환': 1, '찾아내었고': 1, '마타로': 3, '르나슈를블렌딩': 4, '화려한듯': 1, '익은듯': 2, '맛보고싶은': 1, '지낸': 1, '부드럽고긴': 1, '주는것': 1, '잊을수': 2, '스몰': 1, '타운': 1, '1993년': 2, '색채': 1, '없을만큼': 1, '해맛': 1, '달콤새콤함': 1, '굴': 2, '살아있고': 1, '섞여있다': 4, '서호주': 2, '신흥': 3, '마가렛': 2, '아멜리아': 1, '파크': 1, '수상했고': 2, '메달': 1, '휩쓸': 1, '느껴지는이': 3, '밸러': 1, '나면서': 2, '머물며': 1, '묻어나는': 1, '가길게': 1, '엠샤': 4, '데샹': 2, '한정판': 5, '럭셔리': 3, '마리아': 4, '사람과': 2, '소중히': 1, '여기는두': 1, '하얀과': 1, '압도': 2, '뷔': 2, '멋지다': 1, '근사하다라는': 1, '가지고있는데': 1, '새': 7, '부리': 2, '느낄수있을만큼': 2, '열꽃': 1, '고소하고': 1, '적당한도': 1, '사지': 1, '쌉싸름한긴': 1, '삼': 1, '페인': 1, '모나스': 11, '트렐': 11, '알리칸테': 5, '쉬하': 1, '신선하': 1, '관광객': 2, '이하': 1, '내려가면': 1, '햇볕': 1, '태닝': 1, '피부': 2, '변한다': 1, '감을주고긴': 1, '만사': 7, '가스': 8, '피케': 1, '폭염': 10, '마시고싶은': 12, '하는까': 2, '뻬레': 1, '뚜': 2, '선보였고': 2, '정해진': 1, '근사하게만': 1, '들어줄거예요': 1, '무더위': 12, '브루노': 2, '흐그': 1, '채워주고': 1, '훈제': 4, '스프링롤': 1, '어울려요': 11, '청정': 2, '태즈매니아': 2, '데블': 3, '코너': 3, '브라운': 1, '경치': 2, '서도거': 1, '센': 1, '험한': 1, '파도': 1, '몰아쳐': 1, '담았죠': 2, '느낄수있어요': 12, '체치': 1, '항공': 3, '제휴': 1, '이뤄요': 2, '가진주': 1, '높은주': 1, '느낄수도': 1, '있지만': 3, '그렇지': 1, '알마': 1, '냑': 1, '피로': 1, '풀어줄수있어요': 1, '남기죠': 1, '희': 1, '즐기는것도': 1, '안주': 3, '좋기': 2, '과식': 2, '않을수있다는것도': 1, '열대야': 1, '꿀잠': 1, '도와줄수있어요': 1, '스페셜': 13, '보내고싶다면': 2, '송': 1, '해보세요': 9, '260년': 1, '1900년': 4, '블랙리': 1, '베당': 1, '탕': 1, '생소': 3, '마르티노': 4, '등테': 2, '고집': 1, '쌩소': 2, '나하': 1, '항아리': 1, '좋아요': 24, '회': 5, '어울립니다': 29, '아파시': 3, '멘토': 4, '한농': 6, '밀': 2, '카잘': 2, '파르': 2, '늦춰': 4, '건조해': 2, '어울리': 3, '고호': 1, '간단한': 6, '곁': 4, '네가지': 4, '하모니': 2, '프로듀서': 2, '프로': 3, '덕터': 1, '세가지를': 1, '슈퍼': 8, '했습니다': 10, '소프라노': 1, '알토': 6, '테너': 1, '음역': 1, '코러스': 1, '이루고있죠': 1, '화할수있어요': 1, '드샹': 1, '세니는': 1, '망중': 1, '율': 2, '할만큼': 6, '오빌': 1, '조셉데뤼': 1, '1888년': 1, '차세계대': 1, '전후': 1, '본격': 1, '셉데': 2, '했': 1, '고현재': 1, '이어가고있다': 1, '식물성': 2, '재활용': 1, '입하': 2, '블랑드콰': 1, '아는지': 1, '역내': 1, '사라져가는': 1, '쁘띠메슬리': 2, '노블': 1, '한눈': 6, '제프': 3, '천재': 3, '근사하다는': 1, '인의': 3, '트생': 1, '컬래버레이션': 2, '마시며': 2, '충전': 1, '포트폴리오': 1, '로시': 2, '산뜻한람': 1, '감덕': 2, '즐길수있죠': 3, '유일한람': 1, '직': 1, '스럽습니다': 1, '메이': 3, '서부': 2, '프론': 1, '튼': 1, '한파': 3, '성향': 1, '화해테': 1, '깊': 1, '담아내고있습니다': 1, '가벼워': 1, '토마토': 5, '보여줍니다': 17, '시스템': 2, '갖추고': 4, '주력': 1, '있죠': 14, '리마': 2, '장미계': 1, '받을수있을거예요': 1, '빛잎': 1, '멘시아': 2, '노틴토': 1, '에스': 1, '파데이로': 1, '만족': 4, '시킬만': 3, '식히기': 1, '청량한': 7, '패키징': 1, '선보여': 1, '튜브': 1, '좋죠': 6, '삼계탕': 11, '어울리는은': 5, '담백한': 1, '국물': 2, '카탈루냐': 5, '스콘': 1, '카빈': 1, '자렐': 3, '빠레': 1, '야다': 2, '가득해': 1, '해줍니다': 2, '대륙': 4, '성장한': 2, '실천': 7, '잘알려져있죠': 2, '사랑받고있는이': 1, '화해': 1, '담백하면서도': 1, '느낄수있어': 1, '비파': 1, '수스': 1, '불라': 1, '의인': 3, '삼풍': 1, '미와도': 1, '어우러집니다': 1, '정부': 4, '가공': 1, '호의': 1, '하비에르': 1, '니니': 1, '이스마엘': 1, '잘로': 1, '조학자': 2, '피에르': 3, '밀르': 1, '멘과': 1, '협력': 3, '2001년': 2, '있어요': 15, '돋보입니다': 4, '보양식': 9, '랜드마크': 4, '아예': 1, '아보': 1, '느껴지고긴': 1, '이루죠': 2, '깜찍하고': 1, '더롱': 2, '리틀': 1, '짧은다리': 1, '와긴': 1, '허리': 1, '도도한': 1, '닥스훈트': 2, '귀여운': 4, '받고있는이': 2, '장먼': 1, '저런': 1, '칭': 1, '콜롱': 2, '와우': 2, '니블': 2, '다가가기': 1, '쉬운': 2, '이번': 2, '깜찍한': 1, '즐길': 13, '콘': 1, '토로': 4, '감돌기': 2, '별다른안주': 1, '익숙하지': 1, '않은이': 2, '다가갈수있다는': 1, '유페': 1, '부르': 3, '그리스어': 1, '남동쪽': 4, '살렌토': 5, '반도': 2, '지키기': 1, '네로': 5, '숙성한이': 1, '비건': 3, '자스크': 1, '소바': 1, '닿지': 1, '않은이란': 1, '1720년': 1, '엘더': 1, '느껴집니다': 8, '핵': 4, '깨끗함을': 1, '곁들여도': 8, '연인': 6, '귀엽고': 1, '한글': 2, '들어오지': 1, '않나요': 3, '영어': 1, '테로': 3, '스캣': 3, '퍼져요': 1, '생크림': 1, '코르크': 5, '상단': 1, '랜덤': 1, '스마일': 1, '얼굴': 2, '만날수있어요': 1, '다재다능한리': 1, '리버사이드': 1, '휘발': 1, '성풍': 1, '어우러져요': 1, '입문': 5, '어렵지': 1, '다가갈수있는': 1, '지애': 3, '역사상': 1, '연안': 1, '만들어진것으로': 1, '무르베드르': 3, '야생화': 1, '바캉스': 1, '라몬': 4, '빌바오': 4, '비우라': 2, '선보인로': 1, '독보': 3, '조화롭습니다': 2, '애피타이저': 2, '채소': 2, '스시': 3, '하이엔드': 2, '에페': 1, '베세': 2, '라드': 3, '퐁은그랑크뤼': 1, '1843년': 1, '엘리제궁': 1, '지정': 1, '찬주': 1, '파리해방': 1, '해왔으며': 2, '숍': 1, '퐁블루브뤼': 1, '자유': 1, '캐논볼': 6, '무릎': 2, '안고': 2, '뛰어내리는': 1, '다이빙': 4, '주변': 3, '튀는것처럼': 2, '보다': 3, '알릴수있길': 1, '앤젤스': 1, '카우': 1, '보이즈': 1, '감도는로': 2, '한에': 1, '모': 4, '프란체스코': 1, '친자': 1, '백작': 1, '직접투자': 1, '확후': 1, '한무': 1, '봄바람': 16, '마실와': 1, '인이라면': 1, '주잘': 1, '펠리셔': 2, '계유': 2, '종종': 2, '볼수있는': 1, '펜카': 2, '로우': 4, '뛰어나고과': 1, '바뀐': 1, '등대': 2, '지켰던': 1, '메리제인': 1, '베넷': 1, '담았어요': 2, '임원': 1, '높은걸': 1, '카니': 2, '미술': 2, '산드로': 1, '인파': 1, '쎄리': 1, '남깁니다': 6, '찰스': 2, '스미스': 2, '뮤지션': 3, '즐길수있으면서도': 1, '담겨있죠': 1, '쿵푸': 1, '걸은': 1, '꼴리에': 2, '오가네이는': 1, '가네이': 1, '꼽히죠': 5, '리알토': 1, '하고싶을': 3, '느낄수있죠': 7, '뛰어드는': 1, '알리겠다는': 1, '담겼어요': 1, '사로잡는': 2, '스낵': 5, '다양한안주와': 1, '되고있는': 5, '볼랭': 1, '될거예요': 12, '된만큼': 1, '높죠': 1, '꼴은': 3, '프랑스어': 5, '학교': 4, '꼴': 1, '41': 3, '개조': 2, '왈라왈라': 2, '해전': 1, '바삭': 3, '세븐': 2, '힐스': 3, '서초': 1, '창기': 1, '케이시': 1, '맥': 3, '클레': 2, '만들수있다는': 1, '알아보고': 3, '상쾌함과': 1, '글씨': 4, '인정받았죠': 3, '아는잘': 1, '이룹니다': 6, '깔끔하고긴': 1, '진정한': 2, '수탉': 2, '띄는이': 1, '분석': 1, '잘맞는': 1, '식재하고': 1, '최신': 2, '아름다워요': 1, '링크': 2, '인터내셔널': 3, '존경': 7, '미보다는': 1, '아이콘': 6, '미르': 1, '오직': 2, '작황': 2, '수량': 3, '1850년': 4, '데일': 3, '제너': 1, '소통': 1, '용했고': 2, '춘곤': 7, '증': 8, '규범': 1, '북': 4, '올린것으로': 1, '바포레토': 1, '베네치아': 2, '버스': 2, '시원한운하': 1, '풍경': 4, '상상': 2, '만끽': 10, '백의': 1, '돌아온': 1, '참잘': 1, '기센': 2, '주죠': 2, '찾는이': 1, '들에게도': 2, '새롭': 1, '게리': 4, '뉴얼': 1, '더해주네요': 1, '그리지오의': 1, '1500': 3, '여개': 1, '짜': 2, '코로나': 2, '트렌티노': 5, '알티': 1, '만들었어요': 2, '떨쳐': 1, '버리기': 1, '뷔르츠트': 5, '꼽힌': 2, '유명하죠': 7, '꽃밭': 1, '이어집니다': 3, '센티': 1, '운장': 1, '밋빛': 1, '조화롭죠': 1, '돋우고싶을': 1, '리소토': 2, '식탁': 3, '카디': 1, '증기': 1, '관로': 1, '않는것은': 1, '이고태': 1, '양광': 1, '콜로': 1, '니노': 1, '성하며': 1, '유연한': 3, '깨워주는': 1, '미세먼지': 9, '가심': 5, '홈술': 14, '비소': 3, '미세한': 3, '우아하며': 1, '잊고': 1, '펫낫': 10, '용지역': 4, '해랑': 1, '스타덤': 1, '들었죠': 3, '토지': 1, '용했어요': 3, '튀김': 4, '부드러운치': 1, '믿고': 2, '전환': 13, '도멘루': 2, '대도': 2, '째이어': 1, '왔죠': 1, '라무': 2, '통니': 2, '조림': 4, '오리건': 4, '외출': 1, '하지못하더라도': 1, '집안': 2, '낼수있어요': 1, '있다면': 1, '가능하죠': 1, '비하면': 1, '적지': 1, '꼽히고있고': 1, '케리': 1, '유토피아': 1, '풀기': 1, '즐기며': 6, '핀': 2, '카바': 12, '카라': 2, '받았어요': 1, '고래': 1, '애칭': 3, '이상향': 1, '부드러운과': 1, '콜린스': 3, '파블로': 2, '끼': 5, '오후': 1, '떠오르는': 6, '카렐': 1, '어림': 1, '잡아라는': 2, '들었다': 4, '않은것이': 1, '생물': 1, '벚꽃': 11, '필': 8, '무렵': 6, '이을': 15, '꽃처럼': 1, '화사하고': 3, '타는': 16, '의현': 1, '대사': 1, '바꾼': 1, '과언': 3, '아니에요': 2, '1995년': 4, '라스트': 1, '따왔고': 1, '그려져있죠': 3, '레카': 1, '니코': 2, '봄꽃': 1, '만발': 1, '이필': 1, '즈음': 1, '옷차림': 1, '나볼': 1, '없었던': 1, '해보는건': 3, '싱그러운이': 1, '갈비': 9, '루레이': 1, '와알바리뇨': 1, '매끈한': 6, '넘치는로': 1, '일본어': 1, '있는데': 6, '있는로': 2, '데이지꽃': 1, '반적': 2, '끄네요': 2, '순수': 4, '찾아온것': 1, '깜빠': 1, '노달바': 1, '라모': 2, '이보': 2, '있을까요': 1, '불러도': 1, '좋을만큼': 3, '도츠': 2, '여주': 1, '이루며긴': 1, '피는': 1, '계절': 2, '고급스럽고': 3, '우아한로': 1, '넓은자': 2, '가포': 2, '해명': 1, '얻고있어요': 1, '썸': 6, '중이': 4, '2021': 2, '상수': 1, '썸남썸녀': 1, '가함께하는': 1, '달콤하게만': 1, '들어줄': 6, '경쾌하게': 1, '터지는': 1, '시켜주죠': 1, '지알로': 2, '갖췄어요': 2, '수상하는': 2, '발전': 4, '받고있죠': 3, '일보': 1, '컨슈머': 1, '리포트': 1, '을제': 3, '퀴': 4, '케토': 7, '곱다는게': 1, '선보이는이': 1, '아랄': 1, '티카': 1, '남녀': 1, '싶을': 3, '투유': 1, '상대': 3, '외관': 1, '끕니다': 4, '블랙보드': 1, '재질': 1, '되어있고이': 1, '쓸수있는': 1, '분필': 1, '적어': 1, '라르': 3, '베르트랑': 3, '올리며': 1, '꼬뜨로즈블': 2, '그려져있고': 1, '국': 4, '375': 4, '마실': 4, '로병': 1, '됐고': 3, '정석': 2, '애로우': 1, '1986년': 1, '중요한세': 1, '부산': 1, '츠': 1, '단골': 2, '손님': 1, '끝내주는': 1, '커런트등풍': 1, '강인한': 1, '찾던': 1, '굵고': 2, '구불구불한': 1, '끝내주는데를': 1, '외쳤던것이': 1, '하려면': 1, '필요하다고': 1, '기업': 4, '1983년': 3, '될': 2, '명품': 4, '로서': 4, '지키고있다': 1, '등검': 5, '타고긴': 1, '1874년': 1, '알렉': 2, '산드리': 1, '마가': 2, '즐겼던': 1, '이를기': 1, '별명': 3, '의사': 1, '세련된과': 1, '둥글둥글한': 2, '만들어내는': 1, '원한': 2, '에마': 1, '1956년': 1, '온다는': 1, '단순한': 2, '포등': 1, '견고함과': 1, '세련': 1, '겸비': 4, '더해져긴': 1, '신맛': 26, '갖췄음에도': 1, '카테나자': 1, '파타': 5, '장위': 1, '디캔터': 5, '카테': 1, '나씨': 1, '반드시': 2, '신화': 3, '쿠나': 1, '와라지': 1, '역': 2, '펜리': 1, '펜폴': 4, '와톨': 1, '문의': 2, '자손': 1, '이쿠': 1, '나와라': 1, '애드버킷': 1, '터등': 1, '받고있고': 1, '책': 1, '추방': 4, '실존': 2, '영국정부': 2, '저지른': 1, '맞서': 2, '싸우던': 2, '내렸고': 2, '바치는': 1, '베이비': 1, '드러난다': 9, '쫀쫀': 1, '이형성': 1, '날렵한': 1, '지에는': 1, '톨': 1, '이니는': 1, '미셀': 3, '토마': 1, '일급': 1, '컨설턴트': 2, '도움': 3, '확실한': 1, '몬탈': 1, '치노': 1, '침엽수': 1, '잡아주는': 1, '탈치노': 2, '오르치아': 1, '강의': 1, '도르치아는': 1, '1800년': 1, '넘는': 1, '쌉싸름하면서': 1, '유서': 7, '대대로': 1, '이어지고있으며': 1, '1724년': 1, '사시': 3, '찬란한': 3, '왕관': 2, '확실히': 1, '어필': 1, '올랐으며': 1, '회장': 2, '미겔': 1, '골': 2, '만족할것이다': 1, '메독그': 1, '클라': 7, '쎄': 4, '뤼끌': 1, '5등': 1, '오메': 1, '남단': 3, '도시': 5, '거리': 2, '규산': 1, '서연': 1, '식재': 2, '64': 2, '67,201': 1, '7년': 2, '71': 1, '높다': 4, '저렴함에도': 1, '주요': 1, '평론': 1, '밸류': 3, '할수있는것도': 1, '뛰어넘': 1, '프룬': 3, '숙성하면': 2, '꿈꿈': 1, '부엽토': 1, '카베르네소비뇽': 1, '저가': 1, '하던랑': 1, '피트': 3, '투르': 2, '뤼스': 2, '비견': 1, '되지만': 1, '수식어': 2, '필요없는': 1, '품격': 6, '뻬': 1, '노교': 1, '기다리며': 7, '깨우는': 1, '또르': 1, '오만조': 1, '즐길수있고당': 1, '조화로워요': 3, '앞두고': 1, '해보고싶다면': 1, '쿠리': 1, '에체베리아': 1, '드러나죠': 1, '첨가제': 1, '게이': 1, '가득히': 3, '겨우내': 1, '움츠렸던': 1, '기지개': 1, '켜는듯': 1, '샤또뽀': 1, '띠롱': 1, '미에서도': 1, '그리의': 1, '산뜻함': 1, '미용': 4, '쌉쌀한': 3, '이어져': 1, '생선회': 2, '사회': 2, '초년': 1, '친숙하지': 2, '않다면': 1, '천년': 1, '인스타': 1, '르츠': 1, '만큼': 1, '선보이고있어요': 3, '풀향': 1, '텔미': 1, '건물': 1, '관광지': 1, '불보': 1, '해꽃': 1, '명가': 8, '돈나': 3, '가타': 3, '멤버': 2, '메라': 1, '기사도': 1, '주인공': 4, '식사': 9, '면피': 1, '도라': 1, '한오': 2, '피도': 1, '만들고있죠': 2, '토의': 3, '흔히': 1, '시켜서': 1, '드미섹': 3, '갖췄습니다': 5, '마멀레이드': 4, '그려진로': 1, '불러일으키죠': 1, '스따뇨': 2, '달콤한세': 1, '미스': 1, '사랑스럽게만': 1, '들어줄수있다는': 1, '이은양': 1, '싸': 2, '물려': 1, '받은아': 1, '들이자': 1, '수제': 1, '트렌트': 1, '버지가런칭': 1, '유년': 1, '시절': 4, '담았습니다': 2, '더블': 1, '트러블': 1, '밀크': 1, '셰리': 9, '도중': 1, '강화하는': 1, '섞어': 7, '높입니다': 1, '루스': 2, '잘알려져있어요': 2, '팔로': 1, '미노': 1, '페드로': 1, '히메네스': 1, '마호가니': 1, '설날': 7, '주접': 2, '해보지못': 1, '남길수있어요': 1, '그럴': 1, '땐': 2, '레코': 1, '딩스': 1, '선보이는것으로': 2, '괴짜': 1, '앤드류': 1, '존스': 1, '주목할만합니다': 1, '크래프트': 1, '모자이크': 1, '홉': 2, '마릴': 2, '느리게': 1, '다양한과': 2, '맥주': 2, '남다른': 2, '멈': 6, '을축': 1, '담아라는': 1, '하는이': 5, '두려워하지말고': 1, '당당하게': 1, '나아가라는': 1, '희망': 1, '리본': 2, '예의': 3, '훈장': 2, '레지옹': 2, '뇌르': 2, '건과류': 1, '비오니에의': 1, '자르': 2, '덩굴': 1, '느끼기': 2, '남겨요': 3, '여유': 2, '오두막': 2, '보이는이': 1, '동경': 1, '집이었던': 1, '새로운세': 2, '즐기길': 2, '담았으니': 1, '명절': 6, '기대해도': 1, '은덕': 1, '혼': 2, '페이스': 7, '덕혼': 4, '환영': 2, '받을만한': 2, '심볼': 2, '한덕': 1, '북미': 1, '자리매': 1, '김하고있습니다': 1, '디코이': 2, '표방': 1, '러버': 1, '의카버네소비뇽': 1, '의메': 3, '밸': 1, '리카': 1, '떼는단': 1, '시킨것으로': 1, '받고있으니': 1, '하기에도': 6, '조화로': 1, '운산': 1, '이나': 3, '로스트비프': 1, '육즙': 1, '의역': 1, '마쩨': 5, '인왕': 1, '불릴': 2, '선조': 1, '필리프': 3, '토머스': 1, '제퍼슨': 1, '교류': 2, '사상가': 1, '독립선언서': 1, '미쳤고': 1, '전파': 1, '초상화': 1, '숙성했어요': 2, '담겨있어': 1, '건네면서': 1, '얽힌': 1, '함께전한': 1, '소': 5, '관해': 1, '위풍': 1, '당당하고': 1, '황소': 3, '혈통': 1, '투우장': 1, '처럼': 1, '맹렬한': 1, '기세': 1, '3초': 1, '대단한': 1, '소가': 4, '진상': 2, '볶음밥': 1, '레데토로레': 1, '벗어나': 1, '가르고': 2, '뜨는': 2, '식당': 1, '하며라': 1, '셰프': 5, '프랑크': 2, '퓌틀': 2, '홈': 2, '메이드': 1, '그려져있': 1, '고각': 1, '부위': 1, '명칭': 1, '적힌이': 1, '임': 3, '가정식': 5, '상차림': 4, '좋은가': 2, '센트럴': 4, '빅토리아': 3, '되는이': 4, '맥고': 1, '완': 1, '목축업': 2, '노던테리토리': 1, '기른': 1, '종사': 1, '과소': 2, '완벽하게잘': 1, '이바': 3, '앵거스': 2, '더불이다': 1, '캠벨': 1, '틴슨': 1, '굽고싶어진다는': 1, '하기도': 3, '투썩': 4, '점퍼': 5, '스웨터': 1, '입은': 1, '넣는다': 1, '얻고있는데': 1, '소로': 2, '하는말': 2, '용했다': 3, '어우러져말': 1, '초보자': 2, '좋아할만': 2, '축년': 1, '흰소': 2, '의해와도': 1, '멈추지': 1, '않고전': 1, '진하는': 1, '힘차게도': 1, '약하는': 1, '씩씩하게': 1, '나아가고': 1, '연초': 2, '니키': 1, '한은미': 1, '전가': 1, '멈출수': 2, '없다는': 1, '끝없는전진을': 1, '있다는': 1, '아산': 1, '아로요': 1, '세코': 4, '받아구': 1, '지리': 2, '에소': 1, '바티칸': 1, '순교자': 1, '성조': 1, '피토': 2, '장례': 1, '행렬': 1, '농부': 1, '성자': 1, '꿇어': 1, '앉은': 1, '장면': 2, '시골': 1, '일이': 2, '있었고': 1, '성령강림절': 1, '토레': 1, '산조': 1, '묘사': 1, '한그림': 1, '또레': 1, '협회': 2, '살라미': 1, '코르토': 3, '아비': 2, '뇨': 3, '당당하게서': 1, '1673': 1, '인거': 1, '구로': 1, '지의': 1, '농장': 3, '살았던': 1, '유명했던': 1, '92': 3, '져의': 2, '계시': 1, '인정받고있다': 4, '드라마': 2, '오마주': 2, '이제': 10, '마시고싶지만': 2, '값': 1, '비싼': 2, '하기엔': 1, '쉽사리': 1, '엄두': 1, '가나': 4, '않는다면': 1, '아벨': 3, '가르시아': 2, '속력': 1, '무드라': 1, '하지도': 1, '무스': 2, '지도': 2, '않으며': 3, '낯설더라도': 1, '푸드': 3, '대게': 2, '찜': 1, '일일': 1, '까요': 1, '코바': 2, '회사': 5, '누리고있죠': 2, '프레스티지': 1, '퍼집니다': 1, '호기심': 1, '돋보이는이': 1, '두게': 1, '싸리': 1, '용했죠': 1, '라이프스타일': 1, '떠오르고있어요': 1, '리무': 5, '자존심': 3, '스웨이드': 1, '앞선': 2, '있습니다': 15, '다르': 2, '인정받고있어요': 4, '모작': 1, '용했습니다': 1, '화사하게만': 1, '들어줘요': 1, '앙리': 6, '오도잘': 1, '사랑받고있습니다': 1, '플래그': 4, '미세하고': 2, '이어져요': 1, '보는것만으로도': 2, '되죠': 3, '1827년': 1, '발자취': 1, '착했고': 1, '나타내죠': 1, '멈그랑꼬': 1, '상사': 1, '이남': 1, '주기': 1, '홈스': 10, '할은': 5, '샤블': 10, '모아': 2, '어렵다면': 1, '더할': 5, '나위': 5, '따르는': 1, '데바': 1, '1642년': 1, '이어가고있죠': 1, '따르가': 1, '갖췄다는': 1, '인까': 1, '스텔라': 2, '드로칠드': 1, '가산': 1, '해로': 1, '카디프': 2, '만들었죠': 1, '마렘마': 3, '레수게레': 1, '의세': 1, '컨드': 2, '오븐': 1, '보여주고': 1, '대의': 3, '롱세귀르': 1, '테프': 1, '칼롱세귀르': 1, '였던': 4, '마르케스': 2, '드세': 1, '귀르': 1, '칼롱': 2, '적당해': 3, '프티': 1, '있으니': 4, '내고싶을': 1, '르쥬락': 2, '미쉘': 3, '몽테뉴': 2, '동쪽': 1, '한베': 1, '유사한': 1, '에세이': 2, '문학': 1, '장르': 1, '철학자': 1, '수필가': 1, '된뀌': 1, '줍니다': 6, '돋보여요': 1, '후시': 1, '집니다': 1, '빛낼': 1, '적당합니다': 1, '카데': 1, '이포': 1, '할수있어요': 2, '미티': 27, '보진': 15, '두리아': 1, '라치오': 1, '잔뼈': 1, '굵은마': 1, '풀리아': 3, '진출': 1, '해이': 1, '기여': 2, '루라빠': 1, '들었고': 1, '종류': 9, '달콤하다': 2, '화사함을': 2, '매끈하고': 2, '보디': 25, '묵직하며긴': 1, '1991년': 3, '1억': 1, '총력': 1, '기울이고있다': 1, '사니의': 1, '규정': 1, '거쳐야하지만': 1, '묵직하다': 2, '1948년': 2, '묵직하고진한': 1, '쏘안': 1, '티코': 1, '알베렐': 1, '트레이닝': 1, '기르는데': 1, '건조한': 1, '고품': 1, '흠': 1, '말리는': 2, '특이한데': 1, '기약': 1, '주전': 1, '비틀린': 1, '달린': 1, '마르면서': 1, '2530': 2, '의수': 2, '잃': 1, '리미': 3, '티보': 2, '탄탄하면서도': 1, '길다': 1, '풀리': 1, '아프': 1, '추풍': 2, '맴돈다': 4, '많기로': 1, '유명한데': 3, '아함': 1, '미면에서': 1, '추종': 1, '불허': 1, '6080년': 1, '비틀어진': 1, '된진': 1, '정확': 1, '검증': 2, '포장': 1, '이르기까지': 3, '거쳤고': 1, '무척': 5, '탁월하다': 2, '크로아티아': 4, '거장': 1, '만든진': 1, '진수': 1, '기치': 1, '의거': 1, '롄코그르': 1, '기치가': 1, '기치는진': 1, '기원': 3, '밝히는': 1, '에프': 1, '트시라': 1, '만든이': 2, '섞인듯': 1, '탁월해': 1, '14.9': 1, '믿기지': 1, '경쾌하다': 3, '자란진': 1, '적당하고': 2, '강하지': 1, '세게지오는': 1, '남다르다': 2, '세게지오의': 1, '15.6': 1, '불구': 4, '120년': 2, '리머릭': 2, '레인': 2, '갈등': 1, '14.8': 1, '높지만': 1, '큰이': 1, '프라이': 3, '빗': 3, '션진판델': 1, '다비': 4, '돋운다': 2, '느껴져서': 1, '편하게마': 2, '영': 3, '레이디': 2, '기른진': 1, '털리는': 1, '다수': 1, '심은': 2, '어린진': 1, '만든것': 1, '로쥬': 1, '일진': 1, '625년': 1, '순수하': 1, '콜롱바': 1, '알렉산드리아': 2, '적당하며과': 1, '차게': 3, '식혀': 2, '잘맞는다': 5, '사로잡는로': 1, '차분한': 1, '우울해질': 1, '필요': 4, '외롭지': 1, '느끼고싶다면': 1, '아케': 1, '시로': 1, '사토': 1, '해주는이': 1, '느낌을전하는': 1, '패키지': 4, '인스타그램': 1, '즐긴다면': 3, '인증샷': 1, '보길': 5, '야경': 2, '찬란하고': 1, '위주': 1, '녹턴': 5, '시티': 1, '루미너스': 1, '동일한': 1, '고소함을': 1, '나누는': 2, '간편하게': 1, '레아': 3, '78': 1, '슬': 1, '라이스': 1, '바질': 1, '다마': 2, '뒤빈병': 1, '인테리어': 1, '할수있을거예요': 3, '몰': 1, '같은전': 1, '빠레야': 1, '편안하면서도': 1, '움브리아': 4, '룽': 2, '로티': 2, '꼽힙니다': 2, '가지고있죠': 1, '심포니': 3, '코츠': 2, '동물보호': 1, '힘쓰고있죠': 1, '와슈냉블': 1, '특별해요': 1, '뛰어나니': 1, '해보는것도': 1, '1807년': 1, '마실수있어요': 1, '마릴린먼로': 4, '떠올리며': 1, '배우': 1, '맞습니다': 1, '자중': 1, '이었기': 1, '용하기': 1, '먼로': 1, '블스': 1, '하는노': 1, '마진': 1, '본명': 1, '청소년': 1, '성인': 1, '변모': 1, '여유롭게': 1, '커는': 3, '왼손잡이': 3, '스쿠터': 2, '타고': 7, '질주': 1, '그려져있어요': 1, '쾌감': 1, '로메': 1, '리파': 4, '만들고있는': 2, '60년': 4, '윌슨': 1, '상속': 1, '화재': 1, '소실': 1, '높아진': 1, '랏': 6, '페러': 3, '보베': 3, '살라': 1, '라울': 1, '신의물방울': 3, '동식물': 1, '2만': 1, '토니': 2, '접어': 1, '드니': 1, '생각나죠': 1, '1865년': 1, '면적': 3, '되는데': 2, '흐르면서': 1, '초겨울': 1, '마르살라': 5, '1969년': 1, '1880년': 1, '왔어요': 2, '해보기에': 1, '부족함': 3, '없습니다': 4, '40100': 1, '뜻해': 1, '대명사': 3, '아니다': 1, '사우스': 1, '이스턴': 1, '오스트레일리아': 2, '끈': 2, '정해': 1, '죄': 1, '지은': 1, '업라이징': 1, '뇽을블렌딩': 1, '할로윈': 9, '재미있게만': 5, '만남': 2, '갈리시아': 1, '특별': 2, '리퍼블릭': 1, '130년': 1, '들었습니다': 1, '멘시아의': 1, '입전': 1, '않아요': 1, '해골': 1, '들어간': 2, '차세대': 2, '제이슨': 3, '현재호': 1, '주바': 1, '제이': 4, '오운은': 3, '독자': 1, '비등': 1, '오운의': 1, '160년': 2, '흐르는것처럼': 1, '희소가치': 1, '데뮤': 2, '떼는': 1, '예': 2, '코르테스': 1, '건축': 1, '가카': 1, '아이스': 1, '가고': 1, '사로잡는대': 1, '담한': 1, '호로': 1, '날수있어요': 1, '디럭스': 1, '직관': 1, '어울리네요': 2, '피놀': 2, '150': 2, '만들고있어요': 1, '뱃': 1, '해충': 1, '천적': 1, '박쥐': 2, '농경': 1, '쉬르': 1, '크에서만': 1, '1531년': 1, '특별합니다': 2, '넘버원': 1, '신제품': 1, '비추면': 1, '돋보이니': 1, '돋우기에': 1, '박은이': 4, '인정': 2, '와일더': 2, '위로': 3, '경쾌함을': 1, '부드러운기': 2, '캔등총': 1, '틴': 5, '케이트': 1, '안소니': 1, '카를': 1, '블렌딩한안띨': 1, '긋하': 1, '인원': 1, '차박': 2, '온로': 1, '도멘몽로즈': 1, '살충제': 1, '신선도': 1, '느껴지니': 1, '신선하게': 2, '모범': 1, '투핸즈': 1, '거두며': 1, '인정받고있죠': 3, '섹시': 1, '비스트': 2, '서고': 1, '획': 2, '베니': 1, '필요하지만이': 1, '즐길수있다는': 1, '갈만': 1, '장인': 2, '기있는': 1, '아디': 3, '꼽혀요': 1, '그리지오': 1, '생선전': 2, '조개': 1, '간장': 5, '고추장': 2, '된장': 1, '살려주니': 1, '사로잡을만한': 1, '알려져있어요': 1, '업을이어오고있는': 1, '니콜': 3, '65년': 1, '까테나자': 4, '까테나말': 1, '성하면서도': 1, '격의': 2, '절로': 3, '풍요': 2, '롭': 1, '르도를블렌딩': 2, '미과': 2, '멘톨': 1, '포르토': 1, '메스': 1, '이어오고있어요': 1, '조후': 2, '넛츠': 1, '제정러시아': 2, '황실': 2, '사였던': 1, '있는만큼': 1, '황제': 2, '숙성한리': 1, '멘이에요': 2, '결과물': 1, '개체': 1, '될수록': 1, '로렌츠': 3, '1836년': 2, '지형': 1, '해왔죠': 1, '알텐': 1, '르그': 1, '명장': 1, '에어프랑스': 1, '아랍에미레이트': 1, '하는로': 5, '드는로': 1, '닮은': 2, '멘오': 3, '뜨의': 3, '가오': 2, '하는도': 1, '롤스로이스': 1, '가지고있을만큼': 1, '스티븐': 1, '스필버그': 1, '볼드윈': 1, '좋아하는것으로': 1, '알려져있죠': 2, '52': 1, '할수있죠': 1, '페블': 3, '유한': 1, '1825년': 2, '쥬브레샹베르': 2, '땡': 2, '남성': 1, '뛰어나고긴': 1, '580년': 1, '마쩨이': 1, '1436년': 1, '유구': 1, '찾아내': 1, '인검': 1, '걸작': 1, '나타': 2, '고어': 1, '로키': 1, '스크리밍': 1, '이글': 1, '서호': 1, '단숨': 1, '신생': 2, '받았습니다': 2, '유포': 1, '계보': 1, '잇는': 3, '르메네르': 2, '선도': 1, '드바인비뇨': 1, '두둥실': 1, '떠오른': 2, '쾌활함과': 1, '더해졌다는': 1, '마시고싶다면': 2, '없으며': 1, '이어지고있는': 1, '기법': 1, '해고': 2, '복서': 2, '커가': 1, '베스트셀러': 1, '여자친구': 1, '미있는': 1, '쌉싸름한': 1, '사라': 1, '스파': 1, '마르퀴스': 2, '둘다': 1, '였던데': 1, '서': 2, '착안': 1, '박서': 1, '러브': 1, '수치화': 1, '65': 2, '프루츠웨이트': 1, '이를': 1, '도드라지는고': 1, '둥글둥글하고잘': 1, '정돈': 1, '저지를': 1, '매지': 1, '스트레이트': 1, '재판관': 1, '대립': 1, '펼친다': 1, '자신있게': 1, '열었을': 1, '터프': 1, '느껴지지만': 1, '된이래': 1, '쏜': 1, '클락': 1, '1987년': 1, '할러': 2, '데이': 3, '컴패': 1, '9년': 1, '리언': 1, '적절히': 1, '정육점': 1, '카트': 1, '더말': 1, '두터운': 1, '1944년': 1, '스튜어트': 1, '웰': 1, '사와인': 1, '그렇기에': 1, '렛': 1, '자격시험': 1, '에바': 5, '출제': 1, '되고있다고': 1, '섬세하고긴': 1, '존호': 1, '진득': 1, '살로': 3, '몽': 4, '캥거루': 2, '날아왔다': 1, '몽운트': 1, '마이크': 1, '밀로': 1, '담당': 2, '창구': 1, '스케일': 1, '짧아': 1, '불레애': 2, '언급': 4, '샤펠': 1, '등고': 1, '넣으면': 3, '순한': 1, '미덕': 1, '후대': 1, '따르': 2, '유로': 4, '고시': 3, '앙이면서도': 1, '쓰는': 1, '밭등': 1, '계약': 1, '확보': 3, '필립': 3, '깡비': 1, '핑': 1, '인시': 2, '커런트풍미': 1, '15시간': 1, '810': 2, '로스트치킨': 1, '대량생산': 1, '해오던': 1, '혁명': 2, '일으킨': 2, '파악': 1, '서남': 1, '슈퍼스타': 1, '개운한': 3, '평화로움': 1, '느낄수있는데': 1, '독시': 1, '리즈': 6, '다가갈수있으면서도': 1, '더롱독': 1, '어워드': 1, '수상하며': 1, '장동건': 1, '고소영': 1, '연예인': 1, '심심': 1, '찮': 1, '수퍼스타': 2, '얻었다고': 1, '발랄한아기': 1, '천사': 2, '같은로': 1, '슈럽': 2, '아기': 2, '삽화가': 1, '랄프': 1, '테드': 1, '먼이': 1, '12시간': 1, '몰라도': 1, '안다는말이있을': 1, '선전': 1, '임을아는': 1, '많지': 1, '않을것이다': 1, '우선': 1, '해보길': 3, '느낄수있을것이다': 1, '탐구': 1, '347': 1, '개포': 2, '만들고있으며': 1, '드러내고있다': 1, '받고': 1, '테루아르': 1, '특별한시라': 1, '베이컨': 1, '사냥': 1, '고기': 3, '로라': 3, '까테나가': 1, '부띠': 1, '끄': 1, '까테나는': 1, '까테나와': 1, '총괄': 1, '집대성': 1, '서적': 1, '쓰기': 1, '까테나의': 2, '최적화': 2, '비전을실': 1, '천하는': 1, '괄목상대': 1, '빼어난': 2, '무대': 1, '알린': 1, '만드는것으로': 1, '근거지': 3, '인멘': 2, '노토': 1, '에트': 1, '비토리아': 1, '카포밀': 1, '쪼등': 1, '해직': 1, '콜럼비아': 3, '67': 1, '아양': 1, '레꼴': 1, '넘버': 2, '지역번호': 1, '더해': 2, '거의': 1, '알파벳': 1, '올랐고': 1, '해왔다': 2, '베를린': 1, '등국': 1, '제적': 1, '모르는이': 2, '보름달': 2, '시키는이': 1, '지바': 2, '이끄는': 3, '용의': 2, '르브': 1, '은시': 1, '와그르나슈': 1, '체포': 1, '13만': 1, '에누구': 1, '스탈': 1, '대언': 1, '셀레': 4, '토리': 1, '아로르': 1, '째이어오고있는': 2, '제초제': 1, '달빛': 1, '시키니': 1, '싶은이': 1, '떠올릴거예요': 1, '일명': 1, '자전거': 2, '비씨': 1, '이산화탄소': 1, '줄이기': 1, '누비': 1, '직원': 1, '신물': 1, '프린트': 3, '해칠': 1, '을해': 1, '손상': 2, '막스': 3, '1859년': 1, '일러스트레이터': 1, '르땅': 1, '역시오': 1, '메종': 3, '롱': 4, '보졸레': 2, '보졸': 1, '레의레': 1, '아황산': 3, '염': 3, '갖췄으니': 2, '700': 2, '해왔어요': 2, '마셨다는': 1, '떼레': 1, '모레': 1, '아미': 1, '티레니아해': 1, '석양': 1, '만들었고': 1, '뜨거운': 1, '든와': 1, '리베': 2, '닛': 1, '소속': 2, '로더': 1, '요하네스': 1, '라이': 1, '쉬는': 2, '비엔나': 1, '안이': 1, '될만': 2, '하다는': 1, '왔으며': 1, '간단': 1, '히로': 1, '불립니다': 2, '생로랑': 2, '말복': 7, '무슨': 6, '샤를르': 1, '드까자노브': 1, '1811년': 1, '에드워드': 2, '마신것으로도': 1, '유명해요': 3, '활기찬과': 1, '받았고': 2, '홍콩항공': 1, '아메리칸항공': 1, '메뉴인': 1, '민어': 1, '전복': 1, '캘리': 1, '포니': 1, '아샤': 1, '이예': 1, '머피': 2, '마케팅': 1, '데이브': 1, '레디': 2, '합류': 1, '1985년': 1, '잭슨': 6, '섬세함': 2, '캠': 1, '바바라': 1, '뱅키': 1, '그녀': 3, '케이티': 1, '줄리아': 2, '장선': 1, '오리고기': 2, '1982년': 1, '잡았죠': 1, '깊고진한': 1, '견고한구': 1, '메뉴': 4, '했다면': 2, '라포': 6, '스톨': 3, '메네': 2, '돼있죠': 1, '데리야키': 1, '장어구이': 2, '나바라': 1, '4000': 1, '1776년': 1, '러시아': 2, '요청': 2, '서명': 1, '누린': 1, '있기': 2, '데렉루': 1, '직감': 1, '릭스': 1, '아이디어': 1, '만났고': 1, '실현': 2, '우아하며구': 1, '빌까르살몽': 2, '1818년': 2, '170': 1, '까지': 1, '낮추고': 1, '이틀': 1, '느린': 1, '거치는': 1, '설비': 1, '빵등': 1, '엘리자베스': 1, '1869년': 1, '크다': 2, '몽타뉴드': 2, '랭스': 2, '주니': 2, '저렴해': 1, '만족할만': 1, '푸이야': 2, '늦게': 2, '했음에도': 1, '어깨': 2, '나란히': 1, '76': 1, '해천만': 1, '되고있으며': 1, '갈라디': 1, '실패': 1, '상쾌하며': 1, '랍스터': 2, '가자미': 3, '맺어오며': 1, '었': 1, '절반': 1, '벨에포크': 1, '아르누보': 1, '유리공예': 1, '1902년': 1, '번창': 1, '가로': 2, '1812년': 1, '괄목': 1, '베르나르': 1, '드노': 2, '낭': 1, '쿠르': 1, '된다는': 1, '귀하고': 1, '보여주니': 3, '소장': 1, '로랑': 4, '1789년': 1, '웨딩': 2, '요한': 1, '배우며': 1, '튀어': 1, '나가는것을': 1, '방지': 1, '철사': 1, '조물': 1, '머즐': 1, '발명': 1, '번호': 1, '743': 1, '미만': 1, '용하는': 2, '하고있다': 3, '있을만큼': 2, '일찌': 1, '의심': 2, '장부': 2, '2천년': 1, '일정한': 1, '습도': 1, '이그리': 1, '않던': 1, '곁들인': 5, '각자': 1, '자란질': 1, '멜이': 1, '양가': 1, '합쳐': 1, '따서': 2, '감돈': 2, '팔리는로': 1, '뀌베로제브뤼': 1, '둥그스름한': 1, '우아함과도': 1, '4872시간': 1, '않다는': 1, '특별하다': 1, '수집가': 1, '들이소': 1, '장하기': 1, '라우': 1, '가로지르는': 1, '즐기지': 1, '않더라도': 1, '풋풋하고': 1, '좋아하는이': 1, '많으니': 1, '탈': 2, '몬티': 2, '로레토아프루티노': 1, '지역별': 1, '해도잘': 2, '소탈': 1, '경향': 1, '있지만이': 1, '이배': 1, '얄': 3, '룸바': 3, '로비': 1, '식재한': 1, '드리': 1, '눈길': 5, '식재해': 1, '일군': 1, '종묘': 1, '필요합니다': 3, '1000': 2, '각광': 1, '더해졌죠': 1, '들소': 1, '수익금': 2, '보호': 1, '관련': 2, '단체': 1, '지원': 1, '하고있습니다': 1, '팩': 2, '3000': 1, '모이는': 3, '르네를블렌딩': 1, '뛰어나지': 1, '않다는인': 1, '식이': 2, '프란': 1, '중식': 1, '볶음': 5, '맞설': 5, '이열치열': 7, '로자': 1, '매운': 6, '떠오르죠': 1, '콜랜치': 1, '주는이': 1, '칼칼한': 1, '나물': 1, '했을만큼': 1, '로얄': 1, '인정받고있습니다': 1, '은우': 1, '닭볶음탕': 1, '시켜주니': 1, '먹을': 1, '먹고싶을': 1, '이남부': 1, '코코넛': 1, '한국인': 4, '부딪히지': 1, '감이있는': 2, '운맛': 1, '부드러워요': 1, '개운하고': 1, '느낌을주니': 1, '소갈비': 1, '하는만큼': 1, '멀지': 1, '델레': 1, '확장': 1, '105': 1, '된리': 1, '레베르': 1, '노는마': 1, '렘마': 1, '과바': 1, '가깝게': 1, '캐주': 1, '얼하면서도': 1, '틴토': 1, '비디': 1, '리스본': 1, '포르투갈어': 1, '문': 2, '들어가는': 1, '들을': 1, '케바크트': 1, '카스텔라': 1, '나시오날': 2, '샤브샤브': 1, '크류': 1, '캡': 1, '산책': 13, '즐기고싶은': 5, '휴대': 2, '좋으니': 1, '여행지': 3, '뮈스까를블렌딩': 1, '할수있을것': 1, '선보이고있습니다': 1, '제상': 1, '따르고': 1, '사랑스럽네요': 1, '나르': 1, '커리': 1, '1897년': 1, '지난': 1, '떠오릅니다': 1, '까테나': 1, '950,109': 1, '0,112': 1, '0,140': 1, '근사한야': 1, '콜렉션': 1, '코리노': 1, '코코': 1, '촐라': 1, '꾸준하게': 1, '받고있습니다': 1, '기쁨': 6, '한가람': 1, '마이크로': 1, '앙이에요': 1, '레트': 1, '망은': 1, '남경': 1, '만든단': 1, '가디': 2, '인했어요': 1, '제라드': 2, '듀플레': 1, '1895년': 1, '45년': 1, '듀플레시스샤블': 1, '만날수있습니다': 3, '1919년': 1, '1978년': 2, '협업': 3, '쉥': 1, '햄': 2, '바쉐롱': 3, '직상': 1, '스페셜리스트': 1, '촌지': 1, '장로': 1, '과장': 1, '도미니크': 2, '이끌며': 2, '다이나믹': 1, '뒤지지': 1, '올렸다는': 1, '페냐롤': 2, '줄': 3, '은수': 1, '입사': 2, '측': 1, '두고있죠': 1, '파스칼': 5, '카제': 1, '파랑': 1, '지닌아줄이란': 1, '고시원': 1, '까우': 4, '드리나는': 2, '카스틸리오네': 2, '티넬': 1, '드리나': 2, '가져다줬다': 1, '닷컴': 1, '1975년': 1, '라파': 1, '로마노': 1, '핸드': 1, '생기발랄한기': 1, '업계': 1, '인적': 1, '올': 3, '타계': 1, '자코': 1, '활약': 1, '자생': 1, '누라구': 1, '해안가': 2, '시킬만큼': 1, '뽀므': 2, '롤': 2, '샤또뒤도멘드레': 3, '적이있지만': 1, '찾아보기': 2, '어려웠다': 1, '하이트진로': 1, '원래': 2, '수도회': 1, '레방질': 1, '함유': 1, '토도': 1, '스카토로': 1, '사는': 3, '우아합니다': 1, '있어질': 1, '낮으니': 1, '약한': 2, '만나하나의': 1, '이룬다는것이죠': 1, '되새기기': 1, '하는우노': 1, '우노': 1, '단번': 2, '끌며': 1, '연회': 1, '어울리는말': 1, '저녁식사': 3, '사랑스러운오리': 1, '댄': 1, '쌍': 2, '하는의': 1, '흡사하게': 1, '패': 1, '러덕스': 1, '이름을지었고': 1, '오리가': 1, '그려져있습니다': 1, '했다는': 4, '클라우디오': 1, '알라': 1, '마니아': 1, '바롤': 1, '로리': 1, '카는바': 1, '수채화': 1, '담겨있어요': 1, '살아가던': 1, '문득': 2, '평범한': 2, '배우자': 1, '희소성': 3, '깊을거예요': 1, '앞둔이에겐': 4, '담겼습니다': 1, '디아망': 1, '모르가': 1, '합쳐진': 1, '앞둔': 1, '신혼부부': 1, '랑뀌': 1, '박힌': 1, '크리스털': 1, '더해주니': 1, '팍': 2, '하는듯': 1, '보내고있는이': 1, '들과': 1, '눈치': 2, '챌수있듯': 1, '앞장서고있습니다': 1, '메사': 1, '지에스': 2, '해농': 1, '드샹플뢰': 3, '티스': 2, '일원': 1, '지키며': 1, '감이있고': 1, '문화생활': 6, '공연': 2, '감상': 4, '좋겠습니다': 2, '레세띠': 1, '접하는': 2, '열린': 2, '해리': 1, '건마': 1, '클의': 1, '로열': 1, '피로연': 1, '됐죠': 1, '해오며': 1, '이어오고있습니다': 1, '건축가': 1, '프랭크': 1, '가설': 1, '화공': 1, '아름답기로': 1, '유명합니다': 1, '샤또레그라브드': 1, '오드': 1, '예술의전당': 1, '고자': 1, '했고이': 1, '최종': 1, '됐어요': 3, '아르테': 2, '있는와': 2, '도르': 4, '정이': 1, '있었죠': 1, '460년': 1, '좋아다': 1, '즐기는로': 5, '서든': 1, '만들어주니': 1, '카시오페아': 1, '별자리': 1, '그려져있는이': 1, '역은로': 1, '줘': 1, '알렌': 1, '슙': 1, '손녀': 2, '뒤꽃병': 1, '좋겠어요': 5, '롬바르디아': 4, '미니': 13, '남으면': 1, '하기가': 2, '꺼려지죠': 1, '헨켈': 1, '피콜로': 1, '간단히': 1, '간편하게꺼내': 1, '187': 3, '세트': 1, '속소확행': 1, '해줄거예요': 2, '졸리베': 4, '마술사': 1, '용해테': 1, '한푸': 1, '퓌': 1, '메는': 1, '푸이': 1, '퓌메특': 2, '하프': 3, '되니': 1, '컵': 3, '용기': 1, '담겨있기': 1, '오프너': 1, '필요없어요': 1, '더나은': 1, '디킨': 1, '하는디': 1, '킨': 1, '해외': 1, '니데': 1, '알레': 1, '이슈': 1, '100시': 1, '좋아서': 2, '좋고가': 1, '꼬이': 1, '세이': 2, '곁들이는': 1, '훌륭합니다': 1, '높이는데': 1, '할수있는게': 1, '아니므로': 1, '그럴것': 1, '느껴지는로': 1, '영롱하고': 1, '리얼': 1, '선보이기': 1, '더블유': 1, '드림': 1, '노래': 1, '정신과': 1, '신입사원': 1, '신입생': 1, '꿈을실어': 1, '선생님': 2, '격려': 1, '감사': 2, '건네기': 1, '기타': 4, '붙는': 1, '알바로': 1, '오스': 1, '알아보는': 1, '페탈': 1, '60100년': 1, '소출': 1, '엄격히': 1, '만든다는': 1, '모은': 1, '성모마리아': 1, '부모님': 1, '은사': 1, '님': 1, '티케': 1, '쑬은': 2, '금보': 1, '푸른색': 2, '청금석': 1, '일컫는': 1, '라피스라줄리': 2, '의라': 1, '청명': 1, '꼽': 1, '있는이에게': 1, '심플': 1, '7878': 1, '은서': 1, '행운': 7, '은동': 1, '번영': 1, '담겼다': 1, '타협': 1, '비전으로': 1, '커다랗게': 1, '적혀있으니': 1, '앞길': 1, '축복': 2, '출': 1, '이끌고있으며': 2, '녀': 1, '어가': 1, '떠올렸다면': 1, '샤또리유섹': 1, '소테': 1, '른': 1, '뮈스까델': 1, '머무는': 1, '떨어진다면': 1, '찾을수있죠': 1, '콘데데카랄브뤼': 1, '사랑받고있죠': 1, '술안주': 1, '요도': 1, '바론': 1, '졸': 2, '해먹': 1, '기건': 3, '는에서': 1, '수상했죠': 1, '은맥': 1, '누리는': 2, '화사하게': 2, '하늘빛': 1, '간편식': 1, '바흐': 1, '양도': 1, '간기': 1, '억': 1, '미오': 1, '팔리는': 2, '좋아지게': 1, '이어질': 1, '고급스러우며': 1, '이므로': 1, '함께하고': 6, '싶은': 15, '중요한건': 1, '결정': 1, '비질': 1, '돌체': 1, '바치': 3, '첫키스': 2, '설렘이': 1, '전해지네요': 2, '올라아지엔': 1, '리꼴': 1, '시키죠': 1, '갖췄고': 1, '즐겨마': 1, '시지': 1, '않는이': 1, '좋아할': 1, '설연휴': 5, '고가': 3, '귀향': 1, '즐길만': 1, '챙겨가는게': 1, '을기': 1, '원하는': 1, '담긴와': 1, '하는데치': 1, '담겨있습니다': 1, '모인': 2, '나눠': 1, '봐도': 3, '토마스': 1, '에스테': 2, '점도': 1, '특별하죠': 1, '즐겨라는': 1, '긍정': 1, '더해줄거예요': 1, '게다가': 2, '들어있죠': 1, '쌍둥이': 2, '19일': 1, '아그라': 1, '신년': 5, '여': 4, '새로운시작': 1, '따죠': 1, '300년': 1, '비오코': 1, '알아보고다시': 1, '아나스': 1, '따와인을': 1, '채셨나요': 1, '글로리아': 2, '자자한': 1, '벡스': 1, '랑': 1, '새해인사': 1, '나누며이': 1, '시킨이': 1, '들처럼': 1, '향해': 1, '나아가자는': 1, '차틴토레': 1, '알아볼수있듯': 1, '박세리': 3, '롱디': 1, '스턴': 1, '드라이버': 1, '샷': 1, '멀리': 1, '보내는': 3, '최': 3, '타자': 1, '장수': 1, '파가': 3, '닥친': 3, '심한': 1, '추위': 1, '찾아온': 1, '보는게': 1, '따뜻한고기': 1, '한겨울': 2, '훌륭하네요': 1, '우림': 1, '서식': 1, '깃털': 1, '홍': 1, '방울새': 1, '가져왔죠': 1, '바드파': 1, '르등': 1, '킬': 3, '리빙빙': 3, '스크림': 1, '랭혼': 1, '다는': 3, '날이와': 1, '간식': 4, '뫼': 1, '에세': 1, '가있는': 1, '초콜릿케이크': 2, '호세': 2, '폰세카': 2, '랜서': 1, '느껴지므로': 1, '분식': 2, '와로': 1, '가각': 1, '빨간색': 1, '빈병': 1, '실내장식': 1, '더풀': 11, '피오르': 1, '란치': 1, '작고고운진주': 1, '같은기': 1, '화사하며': 1, '익은시': 1, '다재다능한': 1, '넥타': 1, '유행': 1, '최첨단': 1, '자연스런': 1, '남겼다': 1, '꽃다발': 1, '한아름': 1, '안은듯': 1, '고고': 1, '필수': 1, '내줄': 1, '불빛': 1, '낭만': 1, '하는이에게': 1, '하고있다면': 1, '순위': 1, '고운기': 1, '황도': 1, '굉장히진': 1, '따를': 2, '환호성': 1, '저절로': 1, '터져': 1, '나온다': 1, '솜사탕': 1, '지니는데이는': 1, '쓴것처럼': 1, '보인다': 2, '스피아': 1, '황홀하다': 1, '클레오파트라': 1, '가왜': 1, '했는': 1, '공감': 1, '편안하다': 1, '만점': 1, '군트럼': 1, '헤센': 1, '이어오고있는와': 1, '할수록': 1, '지닌다': 2, '놀라울': 1, '금귤': 3, '어문': 1, '한새': 2, '매달린': 1, '일부러': 1, '내는데': 1, '두드러진다': 2, '캐모마일': 1, '묵직하며': 2, '느낌을주지만': 1, '워낙': 4, '좋아잘': 1, '않고마': 1, '두드러져': 1, '진저브레드': 2, '알싸한': 1, '과자': 1, '로디아': 1, '일간': 1, '산토': 1, '스코티': 1, '적셔서': 1, '먹기': 1, '비시': 1, '아비앙카': 1, '농사': 2, '된해': 3, '파니': 4, '델빈산토델': 1, '파나라': 1, '스친다': 1, '이유': 4, '숙성했기': 1, '탈리': 3, '비앙카': 1, '1935년': 1, '리옹': 1, '의장': 1, '앰버': 1, '바지': 1, '악': 1, '우아하며잘': 1, '착해': 2, '선뜻': 1, '사기': 1, '레이크': 1, '뷰비달': 1, '낮춘': 1, '살수': 1, '반갑다': 1, '녹는듯': 1, '즐길수있을': 1, '진하다': 2, '만약': 1, '진해서': 1, '본인': 2, '부쉬': 1, '아이스크림': 1, '곁들이고': 1, '뿌려': 1, '맛있다': 2, '비달': 1, '증류주': 1, '중단': 1, '으뜸': 1, '트바틀드': 1, '즐길수있도록': 1, '보급': 1, '십년': 1, '숙성하지': 1, '개봉': 1, '즐길수있어서': 1, '둘': 1, '느긋하게': 1, '특선영화': 1, '보면서': 1, '지니는': 2, '잘살아있다': 1, '오디': 2, '긴장감': 1, '스럽다': 1, '곁들여진': 1, '투리': 2, '가프': 2, '란카': 1, '타로': 1, '타바': 1, '까오': 1, '송년': 5, '이과': 4, '즐기는것이죠': 1, '밀라노': 1, '오페라': 1, '스칼라': 2, '장의공': 1, '극장': 1, '이송': 1, '년회': 1, '내줄거예요': 1, '비벨': 1, '마실수있으니': 1, '송년회': 2, '서다': 3, '반가운': 2, '메독': 1, '샤또벨그라브': 1, '만화': 1, '밀린': 1, '즐길와': 1, '달콤하게': 1, '해보도록': 1, '이미애': 1, '뛰어난것으로': 1, '드레끌루': 1, '부지': 1, '와부': 1, '즐기고싶을': 1, '찾아보길': 1, '살디': 1, '쎄라는': 1, '우마': 1, '론끼': 1, '베르디': 1, '끼오': 1, '미켈리': 1, '볼레': 1, '구름': 1, '하얀구름': 1, '그려져있다': 1, '혼자': 2, '이마트': 1, '들이며': 1, '있는바': 1, '도장': 1, '보러': 1, '갔다가': 1, '손쉽게': 1, '집어': 2, '들수있을': 1, '뛰어나다는것': 1, '글레': 2, '칠드': 1, '파브르': 1, '레루': 1, '롯데': 1, '러드': 2, '손잡고': 1, '트레디셔널클라렛': 1, '칭당': 1, '얻었다': 1, '앙인': 1, '종시': 1, '셸': 1, '코파': 1, '니나': 1, '곧': 1, '익숙하게': 1, '봤을': 1, '누리는만큼': 1, '찾아볼수있다': 1, '미국인': 1, '대중성': 1, '당연히': 1, '랑크뤼': 1, '샤또지스꾸르': 1, '뛰어난이': 1, '내리는': 3, '누군가': 2, '연락': 1, '네바다': 1, '눈꽃': 1, '편지': 1, '설렘을': 1, '눈밭': 1, '업체': 1, '컬러풀': 1, '엡실론': 1, '추억': 1, '되겠죠': 1, '기다리는': 1, '눈위': 1, '걸어가며': 1, '남긴': 1, '발자국': 3, '쌓이는': 1, '떠오르네요': 1, '걷는': 1, '깝': 1, '다가가는': 1, '다우': 1, '권해': 1, '복잡할': 3, '호라티우스': 1, '까르페디엠': 1, '영화': 1, '죽은시인의': 1, '키팅': 1, '명대사': 1, '얽매여': 1, '괴로워하거나': 1, '걱정': 1, '놓치지': 1, '나를': 1, '편안함을전': 1, '힘찬기': 1, '르뽀': 2, '또블': 1, '카툰': 1, '퀵과플륍': 1, '크의': 1, '한장': 1, '유쾌한': 2, '쉼': 1, '달려오던': 1, '바쁜': 1, '발걸음': 1, '멈추고': 1, '잠시': 1, '명상': 1, '해보는': 1, '이럴': 1, '찍힌': 1, '살아온': 1, '지난시': 1, '반추': 1, '해보게하죠': 1, '티자': 1, '2회': 1, '마음이여': 1, '워': 1, '까다롭지': 1, '동반': 4, '훌륭하죠': 2, '션더': 1, '플라토': 1, '가지치기': 1, '타오르는': 1, '장작': 1, '시키네요': 1, '알무데': 1, '알베르카': 1, '이끌고있는': 2, '라시오': 1, '42': 2, '백포': 1, '도품': 1, '종로': 1, '중병': 1, '뿌옇고': 1, '세비': 1, '메슬리': 1, '60,000원': 1, '750': 13, '마티': 1, '유코스': 1, '파비앙': 1, '마티유': 1, '브레': 2, '쌓았다': 1, '우체부': 2, '팍퇴르': 1, '192040년': 1, '건네는게': 1, '관례': 1, '였다고': 1, '다': 4, '라뷜르뒤팍퇴르': 1, '뷜르': 1, '마지팬': 1, '르와르': 1, '브레이': 2, '쯤': 1, '85,000원': 3, '메테는세계': 1, '알렉산드로': 1, '영광': 1, '이음': 1, '새로운람': 1, '코시': 1, '열고있다': 1, '토드': 1, '안세': 1, '높고': 2, '튀르': 1, '탄성': 1, '좋고거의': 1, '달아서': 1, '싫다는': 1, '코디': 1, '바나': 1, '97,000원': 1, '리스너': 2, '슐레겔': 1, '중반': 1, '볼스': 2, '하임': 2, '갖고있다': 1, '든다': 4, '소시지': 2, '슈크르트': 1, '짭짤한': 1, '마끌': 1, '초창': 1, '엔포': 1, '도외': 1, '작물': 1, '키웠으나': 1, '쥐라': 4, '유명하지만': 2, '달콤한와': 1, '되었다고': 1, '거두었다': 1, '우이': 2, '사바': 2, '냉': 1, '가블렌딩됐다': 1, '옮겨져': 1, '보낸': 1, '600': 1, '보낸다': 1, '비산': 1, '부르는': 1, '발해': 1, '줄어든만큼': 1, '보충': 1, '막아주기': 1, '울': 2, '햇밤': 1, '콩': 1, '삶는': 1, '호박고지': 1, '생활': 1, '익숙하고': 1, '낯선': 1, '큐민': 1, '말린시': 1, '잡고있': 1, '느껴진': 1, '녹아있다': 2, '잡혀있어': 2, '크림소스': 2, '닭고기': 3, '구이': 6, '노릇': 4, '하게구': 1, '태국': 1, '베트남': 1, '135,000원': 1, '아노디': 1, '2030일': 1, '사일런스': 1, '방탄소년단': 1, '불린다': 2, '칩': 1, '머문다': 1, '65,000원': 1, '라반': 3, '브르': 3, '갖추고있으며': 2, '성지': 1, '프랑스인': 1, '아내': 1, '티야': 1, '예능': 1, '방송': 1, '뇽베르트': 2, '들었는데': 1, '슬로베니아어': 1, '없고': 1, '노라': 1, '백': 1, '숙성하고': 1, '내며': 2, '바나나칩': 1, '짭짤하며': 1, '훌륭해': 1, '송아지고기': 1, '참치회': 2, '단시': 1, '공통': 1, '호도': 1, '높았고': 1, '적절하다': 3, '50,000원': 1, '주우': 1, '퀘': 1, '베르너': 1, '넘어': 1, '증명': 1, '덴마크': 1, '노마': 1, '데칸': 1, '로카': 1, '볼수있다': 1, '마크인': 1, '리프': 1, '연합': 2, '생태': 1, '농업': 1, '위원회': 1, '많다': 1, '조이안세': 2, '다나': 2, '56일': 1, '편하다': 2, '도거': 1, '싱그럽기': 1, '강력': 1, '조개류': 2, '맛살': 1, '게찜등': 1, '비레': 2, '구해': 1, '코스모': 1, '컬쳐': 1, '아앙': 1, '그려져': 1, '다소': 2, '진하며': 1, '이길며': 1, '살코기': 1, '하몽': 1, '뮈스까': 1, '부블': 1, '136,000원': 1, '사브르': 2, '밑': 1, '역량': 1, '키우는데': 1, '푸리': 2, '섞여나며': 1, '조리': 1, '리페': 1, '110,000원': 2, '몬타나': 1, '프리울리': 2, '디콘': 1, '끄도': 2, '뒤압': 1, '섬유': 1, '유리': 1, '만날수있는': 1, '돈메': 1, '시시각각': 1, '이충만': 1, '돼지': 5, '떡갈비': 1, '반사': 1, '130,000원': 2, '르주레': 1, '트루': 3, '르끌루': 1, '선명하며': 1, '미식': 1, '나누고있다': 1, '다재다능함과': 1, '편안함': 2, '고말한': 1, '톤풋': 1, '80150년': 1, '60일': 1, '황산염': 2, '페린': 1, '1853년': 2, '스케': 3, '시대정신': 1, '자이트가이스트': 1, '트로이': 1, '710일': 1, '향속': 1, '가득한데': 1, '분명한': 1, '짭짤함을': 2, '둥글둥글하게': 1, '드벨렌': 1, '책임자': 1, '멘이': 1, '소신': 1, '풍부한이': 1, '여름내': 1, '마셨다면': 1, '에손': 1, '가죠': 1, '잘알려져있습니다': 1, '느끼거나': 1, '허전할': 1, '로또': 1, '어쩌면': 2, '바타': 2, '시올': 2, '가득해요': 1, '우아하고세련': 1, '함께라면': 1, '운치': 1, '즐기는데': 1, '없겠죠': 1, '인재': 4, '음악': 6, '스위스': 1, '열리는': 1, '몽트뢰': 2, '재즈': 6, '페스티벌': 4, '랑스': 1, '딜롱': 1, '독점': 1, '후원': 2, '클럽': 1, '모든': 1, '기금': 1, '기부': 1, '깊은가을': 1, '드베드르': 1, '딴기': 1, '정교하면서도': 1, '우아하죠': 1, '마치잘': 1, '숙련': 1, '이란': 1, '리듬': 1, '아마': 2, '신선함까지': 1, '한가위': 27, '가비': 7, '잘맞기로': 1, '드는데': 1, '은은하다': 1, '라나': 1, '퇴적물': 1, '가득해이': 1, '품는다': 1, '자갈밭': 1, '받아라': 1, '훌륭한리': 1, '좋고전이나': 1, '수많': 1, '은메달': 1, '이향': 1, '긋하다': 1, '8년': 1, '뽑힌': 1, '싱싱한': 1, '상쾌하고': 1, '뇽등': 2, '산뜻해': 2, '그리스신화': 1, '디오니소스': 1, '추종자': 1, '양아버지': 1, '실': 1, '레누스': 1, '따왔다고': 1, '발랄하고': 1, '경쾌해': 1, '산뜻해진다': 1, '퀘르체': 1, '도드라지는데': 1, '여기': 5, '적당하고구': 1, '탄탄해': 2, '빈대떡': 1, '무쏘': 3, '만든가': 1, '가득하고': 1, '그려진것처럼': 1, '얇게': 1, '썬': 1, '크레스트': 1, '책임지는': 1, '다양한고기': 1, '고우리': 1, '에카': 2, '블랜드': 1, '경쾌함과': 1, '사랑스럽기': 1, '매끄러워': 1, '가편': 1, '꼽히는우': 1, '버본': 1, '담았던': 1, '참신한': 1, '흑설탕': 1, '캐러맬': 1, '단순히와': 1, '차원': 1, '넘어서서': 1, '깊어지는': 1, '발휘': 1, '선키스트': 1, '남아프리카공화국': 1, '하네': 1, '풋머': 1, '수도': 1, '7.5': 1, '스칼리올': 1, '1939년': 1, '들꽃': 1, '은은함이': 1, '먹고난': 1, '마데이라': 2, '북아프리카': 1, '대서양': 1, '령': 1, '열대섬': 1, '되는주': 1, '갈색': 1, '매이': 1, '곶감': 1, '랭': 3, '트윈스': 3, '모였을': 2, '보여주죠': 1, '형제': 1, '락스': 1, '버그': 2, '한자': 1, '니': 1, '뛰어나요': 1, '볼베르': 2, '돌아가다는': 1, '해보면': 1, '돌아가': 1, '라만차': 1, '득점': 1, '친척': 1, '매그넘': 2, '처치': 1, '비싸지': 1, '찾는다': 2, '면알': 1, '램': 1, '텔드': 1, '세투발': 2, '전채요리': 2, '코노': 2, '마오리족': 1, '주주': 1, '인식': 1, '산하의': 1, '덮개': 1, '세레이션': 1, '따뜻해지는': 1, '면제': 1, '격일': 1, '그리핀': 1, '펄리셔': 1, '교배': 1, '보로': 1, '붉은자': 1, '했지만': 1, '들큰하지': 1, '만풍': 1, '사랑받을만한': 1, '김': 1, '선생': 1, '제대로': 2, '오타고': 2, '누아다': 2, '클리어': 1, '중장': 1, '기숙': 1, '라이즈': 1, '앤드': 1, '선샤인': 1, '개울': 1, '따온것이지만': 1, '기상': 1, '깨어나': 1, '일어나다라는': 1, '용으': 1, '용할': 1, '더할수있다': 1, '2000': 1, '북단': 1, '산악': 2, '양쪽': 1, '일과': 1, '임팩트': 2, '놀란': 1, '드러냈다': 2, '오씨': 1, '자크': 1, '외르': 1, '숙성할만': 1, '비우는수고': 1, '않을것': 1, '바르다라는': 1, '빵터질지도': 1, '모른다': 1, '귀퉁이': 1, '붙은': 1, '로고': 1, '진지한': 1, '열어': 1, '본다면': 1, '확실히다': 1, '시보': 1, '차크라': 1, '의창': 1, '립자': 1, '마리오': 1, '치사': 1, '델라로케': 1, '조카': 1, '파타고니아': 1, '모래': 1, '섭씨': 1, '사막': 1, '독특': 2, '해봐': 2, '실버': 2, '과메': 1, '구세계': 1, '담대하면서도': 1, '복함': 1, '대단히': 1, '쓰여있는': 1, '이이': 1, '해주는듯': 1, '빗은': 1, '사서': 1, '놀랄': 1, '필요없다': 1, '퐁': 1, '만든다니': 1, '할지도': 1, '모르겠다': 1, '하지만이': 1, '1984년': 1, '동향': 1, '진흙': 2, '혈암': 1, '즉각': 1, '실망하기는': 1, '이르다': 1, '드러낸다': 1, '곁들일': 1, '후회': 1, '점프': 1, '해보시라': 1, '생또방': 1, '넘어가': 1, '심비': 1, '드러나며': 2, '1910년': 1, '째다': 1, '막사': 1, '브레샹베르': 1, '부비': 1, '샹살로몽': 1, '등향': 1, '긋하면서도': 1, '즐길수있을만한': 1, '이사': 1, '1977년': 1, '코콸': 1, '선입견': 1, '띄우는데': 1, '느낄수있는이': 1, '연출': 1, '먹기전': 1, '간단한안주와': 1, '도적': 1, '감있게': 1, '인정받았을': 1, '있으므로': 1, '페름': 1, '인론': 1, '인중': 1, '부드러운질': 1, '손쉽게만': 1, '들수있어': 1, '카프레': 1, '제나': 1, '프라이드': 1, '산다': 1, '모히토': 1, '박': 1, '하향': 1, '감자': 1, '양념치킨': 1, '달마티아': 1, '즐라탄': 1, '토크': 1, '말리': 1, '편의점': 2, '그라탕': 1, '잘알려지지': 1, '않은만큼': 1, '음해': 1, '좋겠다': 1, '드넓은': 11, '얼마나': 10, '파레': 1, '총사': 1, '일색': 1, '육박': 1, '그러': 1, '나가르': 1, '트레팟': 1, '차는': 1, '딜리': 1, '쿰로제': 1, '착하지': 1, '6시간': 1, '화한다': 2, '따르기만': 1, '좋아지는로': 1, '1965년': 1, '7,600': 1, '루베': 2, '과방': 1, '삼은': 1, '노드': 1, '북서쪽': 1, '와시라': 2, '기다려': 1, '드러내기': 1, '찜닭': 1, '다스': 2, '넓게': 1, '방뚜': 4, '둠': 1, '편육': 1, '길게말하면': 1, '아프다': 1, '이루며우아': 1, '마실수있으면서도': 1, '세귀레': 1, '훈제오리': 3, '필요없을': 1, '붙일수있는': 1, '주중': 1, '스토': 1, '승급': 1, '데파': 1, '에스파냐': 1, '오랏': 1, '닭볏': 1, '볏': 1, '굽이치는': 1, '능선': 1, '겹겹이': 1, '테라스': 1, '은유': 1, '폭립': 1, '멘의': 1, '어떻게': 1, '할지': 1, '난감했었다': 1, '뭐': 1, '르뮈리엄': 1, '벌': 1, '들이내는': 2, '의성어': 1, '피숑': 1, '왔을': 1, '때벌': 1, '반해지은': 1, '안타깝게도': 1, '어우러져우아': 1, '마리네이드': 1, '이룰듯': 1, '550': 1, '골짜기': 1, '아벨라르': 1, '중세': 1, '일어났던': 1, '비극': 1, '러브스토리': 1, '따온': 1, '트랄라브': 1, '태어난': 1, '까르보나라': 2, '내려': 1, '긁어': 1, '판화': 1, '찍은것': 1, '디자인학': 1, '교수': 1, '인했고': 1, '내용물': 1, '꿈꿔': 1, '피터': 2, '8090': 1, '쉐등을블렌딩': 1, '리큐르': 1, '흠잡을': 1, '병사': 1, '가든': 1, '투핸': 1, '아에로페': 1, '매긴것만': 1, '쉽': 1, '맞': 1, '잡고': 1, '일구어': 1, '낸두': 1, '가인': 1, '루피': 1, '산뜻하게만': 1, '들어주는': 2, '소라': 1, '마신다면': 1, '달콤함이잘': 1, '어우러질것이다': 1, '화인': 1, '1928년': 1, '노비': 1, '에스메랄다': 1, '어울릴': 2, '풍기는이': 1, '가이아': 1, '올랐을만큼': 1, '모스코': 2, '필레': 2, '그리스': 1, '펠로폰네소스': 1, '모노': 1, '그라프': 1, '절사': 1, '아티': 1, '드소비뇽블': 1, '즐기자는': 1, '이루는이': 1, '초봄': 1, '받았음에도': 1, '메르': 2, '센트럴밸리': 1, '않았지만': 1, '불독': 2, '접근': 1, '1618': 1, '베스트': 2, '등주': 1, '팔방미인': 10, '99': 1, '달콤하면서': 1, '가지기': 1, '덕': 1, '지라': 1, '도드라진다': 2, '안경': 1, '든로': 1, '마시는듯': 1, '박하고': 1, '디디': 2, '도손': 1, '무색': 1, '뽐내는로': 1, '오를사': 1, '도드라지기': 1, '프로슈토': 1, '수풀': 1, '이우': 1, '산간': 1, '느껴지는것이': 1, '리코': 1, '모짜렐라': 1, '소호': 1, '맥퀸': 1, '받은로': 1, '믿을': 1, '꼬또뒤': 1, '쏘를': 1, '단단한것이': 1, '참였다': 1, '앤초비': 1, '킹크랩': 2, '항정살': 1, '엄지손가락': 1, '잘라': 1, '보자': 2, '에까베르네소비뇽': 1, '을블렌딩': 1, '둥글지만': 1, '구워진': 1, '간절하다': 1, '앙증맞은': 1, '꿀꿀이죽': 1, '특이한': 1, '잡아끈다': 1, '럴프루': 1, '티아': 1, '눈코입': 1, '시키기에': 1, '감이있어': 1, '핑거푸드': 1, '격무': 1, '지친나를': 1, '해보는것은': 1, '별거': 1, '엘더링': 2, '마리안느': 1, '폰': 1, '앨더링': 1, '바이엘': 1, '더링': 1, '오너': 1, '번영하다': 1, '피어나다라는': 1, '올려': 1, '보는것은': 1, '병목': 1, '묶인': 1, '보타이': 1, '아니': 1, '나뭇가지': 1, '달트랄체토': 1, '묶는다는': 1, '땀': 1, '땀꼬': 1, '금줄': 1, '액운': 1, '물리': 1, '친다는': 1, '감사하고': 1, '있을까': 2, '부적': 1, '병지': 1, '고있는것도': 1, '괜찮겠다': 1, '나쁜': 1, '물러가고': 1, '보증수표': 1, '클로드': 1, '이명': 1, '와인이라면': 1, '비노노': 1, '빌': 2, '풀치아': 1, '노리': 1, '2015,201': 1, '구가': 1, '2008': 1, '93': 1, '받았을': 1, '받고있다는': 1, '여겨': 1, '비치는': 1, '오르던': 1, '노노': 1, '명실': 1, '상부': 1, '찌오네': 3, '존슨': 1, '붙였던': 1, '쓰인': 1, '갈매기살': 1, '토시': 1, '살등': 1, '곁들일것을': 1, '쨌거나': 1, '랜': 2, '나인': 1, '경성': 1, '즐길수있을것이다': 3, '이동': 1, '하기전하나의': 1, '우주': 1, '아니더라도': 1, '모일것': 1, '기를기': 1, '원하며': 1, '007': 2, '이자영': 1, '국왕': 1, '볼렝': 2, '뀌베브뤼': 1, '영국인': 1, '응답': 1, '길게는': 1, '이상은': 1, '뤼및프르미에크뤼': 1, '된것이다': 1, '볶은': 1, '논빈티': 1, '면허': 1, '내줄수있는': 1, '인세': 1, '뮈스카델': 1, '입후': 1, '딱좋은': 1, '가라지': 1, '뤽': 2, '뛰느': 2, '방': 1, '배드': 1, '보이라면': 1, '배드걸': 2, '일수': 1, '없는운': 1, '명일': 1, '방이': 1, '뮈리엘앙드': 1, '보고있는': 1, '드보르': 1, '예상외': 1, '아닐': 1, '피롱': 2, '1590년': 1, '모르': 1, '공': 1, '레크': 1, '일가견': 1, '이크': 1, '레망드': 1, '견과': 2, '툼': 1, '갑각류': 1, '스콜': 1, '테제': 1, '조밀한기': 1, '마시거나': 2, '콘트라': 2, '밀레': 1, '마토': 1, '1919': 1, '의소': 1, '조르': 1, '중흥': 1, '맞았다': 1, '레이스': 1, '감싸준다': 1, '유감': 1, '31': 1, '인을만': 1, '들어온': 1, '미켈란젤로': 1, '애용': 1, '있을': 1, '까닭': 1, '트렌토': 1, '함께고': 1, '이탈리아전': 1, '브레드': 1, '구수함이': 1, '선하고': 1, '깨끗하고': 1, '놀랍다': 1, '우루과이': 1, '선수': 2, '호쾌': 1, '티샷': 1, '닮아서': 1, '오프': 1, '선명하다': 1, '미까지도': 1, '슈램스': 1, '웨하스': 1, '감탄': 1, '할수밖에': 1, '닉슨': 1, '중국': 1, '주은래': 1, '총리': 1, '마지않는': 1, '한반도': 1, '축배': 1, '드는용': 1, '적당하지': 1, '않을까': 1, '전적': 1, '방패': 1, '아름다운진한': 1, '미인': 1, '방어': 1, '육회': 1, '굳이': 1, '어려운리': 11, '바를아는게': 11, '화사하면서도': 1, '있는까': 1, '함을전': 1, '해주면서도': 1, '도드라지지': 1, '고기만': 1, '캔달': 2, '뚜렷하게잘': 1, '더해지며': 1, '안정감': 2, '이기대': 1, '넘긴': 1, '담백하게구': 2, '운닭': 1, '완만': 1, '높음에도': 1, '지나치게': 2, '튀지': 1, '산적': 5, '자가': 1, '볶아': 1, '길고실': 1, '홀짝': 2, '마른듯': 1, '바밀': 1, '섞여있어': 1, '매끈하다': 1, '공이': 1, '잘맞을듯': 1, '골랐다는': 1, '안도': 1, '느꼈다고': 1, '녹아있는데': 1, '대추': 1, '더반': 1, '갑다': 1, '보리': 1, '지루할': 1, '대단해서': 1, '있으면': 1, '올라가는데': 1, '감싸주는': 1, '먹을수있다': 1, '바보': 1, '르미네르': 1, '파프리카': 1, '동글동글': 1, '먹었더니': 1, '더배': 1, '녹진한': 1, '잇': 1, '햠': 1, '가약': 1, '낮긴하지만': 1, '잡혔다': 1, '육전': 1, '동그랑땡': 3, '보답': 1, '돌아오다라는': 1, '강렬함과': 1, '고소함': 1, '거기': 1, '깻잎': 1, '갖추고있으면서도': 1, '잘맞는데': 1, '올라올고': 1, '파전': 1, '고구마': 1, '우아하기': 1, '묵직해': 1, '채우지만': 1, '떡': 1, '약식': 1, '등과': 1, '내면': 2, '근사한': 1, '살아있으면서도': 1, '않다': 1, '먹을수있는': 1, '약과': 1, '다식': 1, '이룰것이다': 1, '해보면고기': 1, '고사리': 1, '무침과': 1, '짠맛': 1, '반찬': 1, '더해질': 1, '여기는': 1, '부드럽게만': 1, '넓어질것이다': 1, '쌉싸래하면서도': 1, '훌륭하게': 1, '감도있다': 1, '녹아있고': 1, '받는이': 1, '간나': 1, '있다면시라': 1, '감흥': 1, '받을것이라': 1, '독특하고': 1, '느낌이잘': 1, '좀아는이에게선': 1, '물을한': 1, '할것이라': 1, '더한다면': 1, '더뜻': 1, '단정하고': 1, '사자': 1, '유니콘': 1, '맞다': 1, '그리녹': 1, '책임': 1, '특별한데': 1, '비오니에를': 1, '해농밀': 1, '가지고있어서': 1, '마운': 1, '분들': 1, '백합': 1, '그라스': 1, '하고플': 1, '서진하': 1, '둥글': 1, '궁글': 1, '탕수육': 1, '레메르퀴레블': 1, '해초': 1, '섬세한여': 1, '성미': 1, '겉': 2, '소박하지만': 1, '볼수록': 1, '질리': 1, '있는것이다': 1, '화장': 1, '한듯': 1, '자연미': 1, '자신감': 1, '있었을': 1, '가능한것이다': 1, '아름': 1, '하는것이': 1, '페브르의샤블': 1, '리만': 1, '해오고': 1, '페브르': 1, '함축': 1, '실적': 1, '루티함': 1, '닿으며': 1, '감촉': 1, '편안하게한': 1, '어어': 1, '남기면': 1, '흔들': 1, '가향': 1, '상당한': 1, '뫼르': 1, '무겁고': 1, '질척한면과는': 1, '동떨어진': 1, '적당해서': 1, '편안하며': 1, '꽉': 1, '차오른다': 2, '삼키면': 1, '캐슈': 1, '미라': 1, '쌉쌀함이': 1, '재워구': 1, '타이거': 1, '새우': 1, '오징어': 1, '가기': 1, '대감': 1, '불러일으킨다': 1, '해시': 1, '변하는': 1, '볼수있었다': 1, '채우는듯': 1, '도덕': 1, '찌르는듯': 1, '부담스러운이': 1, '접하는이에게': 1, '여리': 1, '여리하고': 1, '기류': 1, '잘살려구': 1, '운오리': 1, '곁들이': 1, '권한다': 1, '퀴레는꼬뜨드샬': 1, '보려': 1, '간만': 1, '까라는': 1, '들었을': 1, '때손': 1, '들고나가': 1, '얘기': 1, '숲': 1, '부드럽다': 1, '짧은것이': 1, '산뜻하다': 1, '일드': 1, '맘껏': 1, '즐길수있을것': 1, '기저': 1, '깔린': 1, '유려': 1, '함이잘': 1, '도도하면서도': 1, '어리지만': 1, '피노누아르': 1, '있으련': 1, '섬세함의': 1, '루한': 1, '엄청난': 1, '함부로': 1, '무어': 1, '야하며': 1, '살펴보아': 1, '야한다': 1, '은제': 1, '보여주지': 1, '묵직함을': 1, '섣불리': 1, '단정': 1, '짓는것은': 1, '위험할것이다': 1, '영롱하며': 1, '콧속': 1, '뚜렷하다': 1, '샹볼뮈': 1, '알고싶은': 1, '리조토': 1, '소고기구이': 1, '북경오리': 1, '슬등': 1}\n"
     ]
    }
   ],
   "source": [
    "print(vocab)"
   ]
  },
  {
   "cell_type": "code",
   "execution_count": 36,
   "metadata": {
    "scrolled": false
   },
   "outputs": [
    {
     "name": "stdout",
     "output_type": "stream",
     "text": [
      "{'스파클링': 227, '복숭아': 144, '살구': 86, '꽃': 216, '흰': 56, '레몬': 125, '밝고': 14, '맑은': 13, '컬러': 87, '에레몬': 2, '아로마': 294, '느껴진다': 116, '입안': 203, '싱그러운': 24, '상큼': 59, '과일': 236, '기분': 103, '좋은': 334, '산미': 131, '포로': 6, '피어나는': 3, '와인': 2321, '헤이즐넛': 20, '아카시아': 29, '화사한': 25, '노란색': 18, '띠': 162, '향': 527, '어우러진다': 16, '부드럽고': 41, '섬세한': 60, '맛': 175, '생기있는': 7, '피니시': 34, '인상': 65, '적': 697, '반짝이는': 16, '연한': 12, '금빛': 24, '정교한': 5, '거품': 13, '지녔으며': 3, '흰꽃패션프루츠': 2, '달콤한': 96, '은은한': 65, '미네': 4, '럴': 4, '느낄수있다': 68, '우아하고': 34, '균형': 97, '감': 140, '뛰어난': 106, '샴페인': 251, '발': 12, '레드': 93, '마른과': 2, '세잔': 2, '생산': 573, '최상급': 17, '피노': 200, '뮈': 5, '누': 172, '샤르도네': 86, '품종': 278, '든': 19, '마리': 13, '스튜': 11, '아트': 7, '리지': 10, '널': 3, '블렌딩': 125, '비율': 12, '뀌': 3, '베드': 3, '헨느': 3, '여왕': 5, '뀌베': 9, '별칭': 5, '갖고있으며': 2, '도사': 9, '주는': 24, '8': 23, '7월': 14, '1867년': 5, '그': 71, '훗날': 1, '잉글랜드': 1, '스코틀랜드': 1, '의왕': 1, '되는': 90, '제임스': 12, '1': 45, '세': 12, '어머니': 3, '하며': 11, '많은': 33, '예술가': 3, '들': 243, '영감': 12, '준': 2, '아름다운': 41, '인물': 14, '특별한': 27, '애정': 3, '보여': 1, '경의': 2, '표': 4, '하': 580, '의미': 104, '담은': 25, '신선하며': 2, '다양한': 120, '미를': 126, '표현': 71, '뫼니': 6, '50': 36, '40': 9, '10': 36, '로': 182, '적용': 16, '했으며': 36, '즉': 4, '있다': 87, '버블': 78, '우아한': 98, '돋보이는': 23, '딸기': 124, '미네랄': 136, '밟은': 2, '옅은': 29, '분홍색': 5, '야생': 34, '젤리': 8, '수박': 6, '같은': 124, '풍부하고': 28, '뒤': 49, '향신료': 64, '광물': 2, '희미하게': 2, '돈': 7, '쥬시': 2, '감싸고': 2, '신선하지만': 2, '우아한과': 4, '실향': 94, '이길게': 12, '여운': 134, '남는': 11, '체리': 277, '오크': 329, '바르': 30, '베': 42, '라다': 4, '스티': 22, '포도': 387, '라크': 3, '레나': 4, '밭': 84, '유명한': 29, '아스티': 7, '언덕': 10, '주변인': 2, '리아노': 2, '테르메': 2, '지역': 308, '된다': 65, '루비': 85, '색': 92, '있으며': 32, '익은': 121, '붉은': 126, '계피': 9, '스': 49, '위트': 19, '스파이스': 43, '풍부하게': 32, '잔잔': 3, '한산도': 66, '느껴지는': 78, '타닌': 188, '조화롭게': 20, '밸런스': 76, '유지': 27, '미와': 104, '미가긴': 3, '18': 25, '개': 126, '월간': 81, '슬로': 6, '베니안': 5, '통': 91, '숙성': 177, '되었다': 37, '우아하면서': 8, '신선한': 109, '의향': 127, '산도': 83, '있으면서': 2, '밝은': 51, '캐릭터': 32, '흰색': 7, '가주': 4, '느껴지고': 33, '날카로운': 3, '리티': 32, '마시': 3, '고난': 2, '생생': 6, '한여운': 19, '남기는': 23, '샹파뉴': 15, '샤를': 5, '리쉬르': 1, '마른에': 1, '위치': 54, '끌': 10, '로드': 6, '바롱': 2, '30년': 11, '만드는': 13, '중': 90, '적절히사': 1, '용해': 32, '섬세하고': 25, '발랄한': 6, '선보이는것이': 1, '특징': 90, '마른': 6, '밸리': 98, '곳': 56, '마을': 25, '재배': 91, '전통': 64, '방식': 43, '약': 19, '3년': 10, '6년': 4, '신선한과': 19, '일향': 117, '느껴지며': 59, '남긴다': 25, '식전주': 36, '즐기기에': 14, '최적': 3, '석류': 13, '오렌지': 96, '세인트': 4, '넘': 3, '조아요': 2, '굿': 4, '뜨': 12, '베리': 84, '산뜻한': 38, '과실': 142, '부드러운': 163, '질감': 105, '캘리포니아': 81, '소노마': 24, '카운티': 23, '자리': 129, '프란시스': 3, '마틴': 4, '1971년': 2, '최초': 39, '멜롯': 2, '개척': 8, '자로': 1, '꼽힌다': 23, '류': 55, '돋보이며': 10, '구운': 1, '견과류': 20, '뉘앙스': 65, '조화': 90, '이룬다': 21, '여름날': 11, '음식': 133, '매칭': 38, '해': 113, '즐기기': 81, '샌프란시스코': 2, '크로니클': 1, '대회': 5, '를': 86, '수상할만큼': 1, '전문가': 15, '호평': 5, '얻고있다': 7, '황금색': 15, '비오니에': 10, '품': 5, '종특': 6, '유의': 43, '등': 319, '긋': 20, '꽃향': 42, '풍부한': 110, '만든다': 9, '프루': 8, '티': 37, '바디': 122, '적당한': 29, '프랑스': 155, '론': 37, '최고': 64, '생산자': 102, '꼽히는이기': 1, '갈은': 1, '북부': 16, '남부': 15, '아우르며': 1, '채': 30, '70': 15, '의비': 4, '오니': 4, '와': 33, '루산': 4, '느': 5, '마르': 14, '산느': 1, '레렛등을블렌딩': 1, '이기': 18, '갈의': 1, '꼬': 10, '뒤론': 3, '화이트': 50, '25년': 3, '특': 32, '등신': 9, '선한과': 2, '풍부하다': 8, '갖춘': 44, '차갑게': 13, '칠링해': 1, '해산물': 54, '곁들이거나': 2, '여름철': 10, '매콤': 20, '요리': 149, '즐겨도': 16, '잘': 164, '어울린다': 57, '라임': 54, '타르': 8, '메이어': 2, '은근': 7, '세련되게': 3, '어우러져있으며': 2, '신선함도': 2, '타르트': 8, '미가': 149, '어울려': 6, '화려한': 17, '자아내는': 4, '1976년': 5, '파리': 3, '심판': 3, '계기': 2, '산샤': 4, '이의': 3, '위상': 6, '달라졌습니다': 2, '모스': 51, '샤': 43, '이': 121, '특급': 3, '원': 40, '매년': 15, '소량': 18, '제작': 5, '됩니다': 7, '겨울철': 4, '해물': 3, '가빠진다면': 2, '미각': 8, '누릴수있는': 2, '즐거움': 10, '포기': 2, '것': 37, '입니다': 100, '코스': 3, '페어': 38, '링': 60, '해천': 2, '천히음': 2, '미하': 2, '보면': 8, '이만': 4, '관능': 4, '경험': 30, '할수있습니다': 4, '네': 27, '좋아하게': 2, '해준': 2, '디저트': 53, '샐러드': 40, '어색': 6, '섬세한기': 19, '포': 66, '붉은과': 24, '잔': 14, '가득': 64, '채우는': 6, '칠레': 57, '달콤한로': 2, '제': 22, '블랙베리': 113, '갸닛': 1, '붉': 15, '은색': 16, '빛깔': 9, '가지고있으며': 6, '및': 22, '윽': 1, '우드': 3, '풍만하고': 3, '실크': 10, '매혹': 20, '느낌': 145, '감싸안으며': 1, '진한과': 4, '긴': 40, '상당히': 3, '훌륭하다': 7, '자두': 174, '진한': 62, '보라': 8, '빛': 103, '색상': 23, '신선하고': 25, '풍부한자': 1, '더해진': 5, '나무': 17, '미디엄': 21, '잡힌': 19, '감을가진': 2, '안티': 23, '아스': 10, '쿠': 8, '지노': 3, '마쿨': 3, '처': 4, '레인지': 12, '1920년': 2, '80년': 2, '2': 29, '루이스': 1, '지노가자': 1, '신의': 3, '너리': 286, '방문': 2, '귀빈': 1, '대접': 1, '하기': 104, '위해': 57, '점차': 3, '인기': 33, '되어': 21, '대중': 7, '이어진': 1, '유래': 7, '로버트': 12, '파커': 8, '로부터': 28, '대부분': 8, '90': 15, '점': 33, '이상': 25, '기록': 17, '안티구아': 1, '스까베르': 1, '소비': 111, '뇽': 59, '경우': 3, '4년': 6, '명성': 42, '대표': 83, '현재': 40, '델타항공': 1, '퍼스트클래스': 2, '서브': 1, '되고있다': 5, '후추': 61, '바닐라': 140, '성하고': 4, '따스한': 3, '짙은': 25, '지닌': 25, '농축': 19, '된': 198, '강렬한': 39, '검은과': 13, '발사믹': 10, '소스': 12, '어우러': 1, '진남': 1, '검정': 3, '올리브': 7, '퓨레': 1, '연상': 34, '시킨다': 10, '숯불': 4, '살짝': 37, '운듯': 1, '생동감': 54, '넘치지만': 1, '정밀': 3, '조감': 71, '느낄수있고': 11, '부드럽게': 46, '다가오지만': 1, '매우': 51, '솔직하며': 1, '힘': 16, '넘치는': 42, '15년': 6, '블루베리': 43, '토스트': 33, '건초': 2, '푸른빛': 4, '감도는': 29, '검은': 47, '풍부하면서도': 5, '의과': 29, '낙엽': 4, '가죽': 23, '수많은': 2, '복잡': 4, '미묘한': 3, '단계': 2, '드러나는데': 1, '검': 30, '기본': 7, '토양': 33, '담뱃잎': 3, '운햄등': 1, '부케': 21, '살': 4, '움직이듯이': 1, '느껴지는것': 1, '이인상': 28, '흥미로운': 2, '비강': 1, '통해': 55, '느껴짐과': 2, '동시': 19, '장기간': 1, '풀': 70, '이해': 6, '거듭': 4, '하면서': 7, '변화': 9, '동안': 17, '줄수있는': 3, '성숙한': 2, '전체': 22, '은은히퍼진다': 1, '배': 116, '연둣빛': 3, '노랑': 3, '자몽': 45, '산뜻하고': 6, '달콤한과': 8, '토스티': 16, '아몬드': 31, '차례': 22, '레이어': 6, '집중': 22, '높은': 58, '일정': 4, '수준': 6, '입맛': 21, '돋우는': 2, '잘만': 6, '고급': 12, '화이트와인': 64, '특성': 23, '보여준다': 40, '손': 13, '수확': 79, '로양': 13, '조해': 6, '는': 51, '산새': 4, '배럴': 53, '달걀': 2, '모양': 18, '콘크리트': 6, '개월': 68, '숙성한다': 24, '코노수르': 11, '20': 37, '시리즈': 19, '1996년': 7, '분량': 5, '정적': 5, '들며': 4, '탄생': 40, '리미티드에디션': 10, '브랜드': 63, '세계': 57, '성공': 7, '거둔': 4, '후': 65, '확대': 5, '까': 50, '베르': 22, '1997년': 6, '메': 57, '1998년': 7, '2002년': 6, '소비뇽블': 8, '2005년': 7, '시라': 73, '2008년': 7, '파인애플': 29, '골드': 18, '옐로우': 5, '의리': 7, '즐링': 1, '봄꽃향': 1, '같은다': 1, '좋고': 41, '일품': 7, '카비': 1, '넷': 1, '라인': 5, '가우': 1, '스위': 1, '트리': 8, '슬링': 30, '62.2': 1, '피자': 11, '붉은빛': 5, '깔을가지고': 1, '있고': 16, '레쉬': 2, '한과': 19, '이아주': 3, '전달': 6, '해준다': 7, '크리미': 27, '가지고있고': 3, '단맛': 27, '어울러져': 1, '카토': 41, '가르나': 17, '차': 39, '피니쉬': 30, '가지': 66, '5': 33, '도의': 21, '알코올': 46, '도약': 3, '간': 22, '증가': 1, '허브': 105, '화이': 1, '트페': 1, '퍼향': 1, '실키': 5, '맥라렌': 6, '베일': 6, '쉬라즈': 59, '클래식': 17, '스타일': 121, '파이': 9, '운디': 2, '하게': 2, '다듬어진': 5, '촘촘': 13, '말린': 38, '어우러진긴': 1, '마세라': 1, '시옹': 4, '과정': 43, '즙': 7, '얻은것': 1, '이후': 27, '시압': 1, '착한': 3, '사용': 125, '12': 39, '거치는데': 1, '16년': 1, '6': 36, '가량': 4, '부와': 4, '인': 30, '즐기려면': 1, '지금': 22, '마셔도': 20, '취향': 5, '따라': 15, '연도로': 2, '510년': 1, '픽': 1, '쳐': 1, '리오': 3, '너': 23, '친구': 3, '이자': 22, '포토': 1, '그래퍼': 1, '폴라로이드': 1, '작품': 11, '라벨': 22, '디자인': 20, '잔잔한': 10, '감동': 1, '육두구': 14, '담배': 17, '열매': 13, '의약': 2, '복합': 121, '자아낸다': 4, '비롯': 16, '각종': 24, '지속': 63, '이어지며': 4, '견고한': 11, '끝맛': 6, '어우러져': 35, '매력': 192, '4월': 10, '5일': 1, '의': 107, '온도': 25, '상온': 3, '침용': 14, '거침': 1, '24': 15, '7일': 1, '10일': 2, '트러스': 97, '좋게': 15, '달콤하고': 18, '미감': 24, '편하게': 26, '즐길수있는': 25, '크리스마스': 21, '팬': 5, '시한': 19, '병': 50, '품질': 114, '우수하여': 1, '유럽': 11, '일본': 1, '크게': 2, '얻고있는': 2, '제품': 8, '사랑스러운': 16, '물용': 1, '이나연': 1, '가족': 59, '사과': 106, '전': 7, '독일': 18, '젝트': 1, '불리우던': 1, '닥터': 2, '루젠': 2, '새롭게': 7, '선보입니다': 3, '리': 56, '100': 160, '샤르': 13, '마방': 5, '식': 29, '인하여': 1, '고품격': 1, '조금': 7, '더': 45, '가격': 47, '소비자': 7, '보이': 12, '되었습니다': 1, '반짝이는기': 1, '포감': 3, '풋': 8, '분홍': 4, '빛과': 4, '연두빛': 3, '지니고있는다': 1, '양한': 4, '느낄수있습니다': 8, '양고기': 8, '솔트': 1, '아주': 21, '윤기': 2, '흐르는': 1, '가넷': 9, '이진': 3, '향기롭다': 3, '집약': 3, '된과': 5, '실의': 22, '탄닌': 36, '매끄러운': 9, '잡힌구': 3, '두르': 5, '뉘': 3, '메로': 3, '은': 15, '보르도': 43, '기준': 6, '할수있을': 2, '정도': 53, '가장': 55, '나타내주는': 2, '혁신': 6, '완벽함을': 1, '추구': 9, '1988년': 1, '메이커': 50, '미셸': 6, '롤랑': 6, '루즈': 5, '데니스': 2, '보르': 5, '디유': 1, '블': 4, '양조': 57, '컨설팅': 4, '되었으며': 1, '언론': 1, '만장일치': 1, '대': 32, '로써': 1, '인정받아': 1, '왔다': 8, '톰': 2, '스티븐슨': 2, '저서': 1, '소더비즈': 1, '사이클': 2, '페': 14, '디아': 4, '판매': 20, '고를': 2, '올리는': 2, '도제': 1, '릭': 1, '평가': 50, '받은바': 2, '초콜릿': 58, '오픈': 40, '직후': 3, '피어': 20, '오르는잘': 1, '익은과': 11, '모금': 4, '순간': 25, '할퀴는듯': 1, '길들여지지': 1, '않은': 36, '맹수': 1, '년': 20, '기간': 13, '두고': 3, '마시면': 15, '깜짝': 2, '놀랄만': 1, '녀석': 1, '변할것': 1, '같다고': 1, '조심': 1, '스레': 1, '예상': 1, '해본다': 1, '자마자': 3, '기름기': 2, '육류': 67, '하면': 12, '좋을듯': 3, '하다': 18, '선물': 126, '받는이에게': 1, '설레는': 13, '봄': 35, '선사': 69, '싶다면': 6, '레이블': 158, '그려진': 15, '네타': 5, '럼': 3, '바고': 1, '될듯': 4, '실제': 13, '21': 22, '컴': 1, '기자': 2, '이선정': 2, '봄날': 23, '올랐던': 1, '이름': 143, '시칠리아': 29, '자라는': 5, '역사': 55, '시작': 42, '멘': 31, '피': 16, '대화': 6, '농밀': 11, '국가': 37, '이탈리아': 139, '볼라': 1, '생일': 13, '기념': 26, '추천': 125, '2009년': 6, '쉬': 11, '퍼플': 4, '칼라': 3, '겹': 1, '쳐져있으며': 1, '약간': 55, '스파이': 50, '함': 42, '베이스': 14, '쇼': 1, '더해져아주': 1, '흥미롭다': 2, '400': 2, '바구니': 4, '담겨져': 1, '잎사귀': 2, '제거': 18, '압축': 3, '거치': 9, '발효': 92, '3일': 1, '펌프': 3, '오버': 5, '거친': 6, '2528': 1, '다시': 13, '하루': 6, '4': 41, '번': 10, '진행': 39, '한다': 23, '젖산발효': 7, '거': 7, '친후': 4, '미국': 85, '거친다': 7, '85': 10, '80': 11, '프렌치': 59, '각각': 3, '월동': 18, '안': 21, '되어진다': 1, '나머지': 5, '15': 27, '스테인레스': 18, '스틸': 34, '되고전': 1, '3': 39, '번의': 1, '클린': 1, '디캔팅': 2, '정향': 21, '감초': 63, '카라멜': 10, '삼나무': 23, '버건디': 3, '블랙': 109, '조화로운': 11, '부분': 9, '바닐': 1, '힌트': 21, '사이': 11, '좋아': 13, '중간': 14, '길게': 20, '되다': 1, '마무리': 17, '치즈': 59, '스테이크': 29, '등심': 2, '안심': 1, '바비큐': 11, '야채': 3, '감귤': 33, '짚색': 4, '띄며': 4, '풋풋함과': 1, '묵직함과': 1, '열대과일': 47, '가벼운': 34, '채운': 6, '느낄수있는': 29, '압': 14, '조절': 9, '탱크': 37, '진지하면서도': 1, '오레곤': 3, '제외': 1, '상': 35, '75': 4, '된주': 1, '명시': 1, '할수있는': 18, '법': 13, '분명': 1, '이외': 1, '다른': 11, '된것': 1, '같은데': 1, '잡': 3, '수': 2, '없었다': 1, '찾아보니': 1, '글로벌': 1, '체다': 3, '캬라멜': 1, '이미지': 21, '보여지는': 4, '빨레': 1, '이러한': 5, '마법': 1, '같기': 1, '도하': 1, '했는데': 6, '크렌베리': 1, '캐슈넛': 1, '시너지': 1, '효과': 3, '꽤': 13, '좋았다': 4, '호두': 12, '껍질': 31, '충돌': 1, '에러': 1, '익': 2, '어': 25, '한소리': 2, '날것만': 1, '햇': 2, '되며': 17, '우아함과': 8, '바이올렛': 22, '과꽃': 18, '향기': 73, '나타나는': 2, '감을주며': 2, '잡혀있고': 1, '전해': 7, '아르헨티나': 20, '높이': 3, '멘도': 2, '자투': 1, '가토': 2, '1300': 1, '미터': 3, '고지': 1, '만들어진': 7, '넓은': 3, '폭': 2, '기온': 3, '보여주는데이로': 1, '인하여진한': 1, '얻어': 3, '낼수있으며': 1, '자연': 44, '장기': 8, '가능하다': 1, '출시': 42, '계열': 6, '며': 9, '신선': 20, '보여주는': 27, '적당': 17, '량': 18, '주전자': 2, '전기포트': 2, '덜어': 2, '도정': 6, '따끈하게': 2, '데워서': 1, '먹으면': 2, '글뤼': 3, '바인': 28, '맛있게': 6, '즐기': 8, '기병': 1, '데워진한': 1, '음미': 3, '즐긴다': 1, '마개': 3, '닫아': 1, '서늘한': 17, '보관': 7, '가능': 8, '끓이면': 1, '알콜': 3, '날아가니주의': 1, '더욱': 55, '원하면': 1, '꼬냑': 1, '브랜디': 3, '첨가': 7, '필요할': 2, '때': 74, '겨울': 12, '야외': 26, '스포츠': 1, '스키': 1, '산행': 1, '골프': 2, '몸': 5, '풀어줄': 1, '따뜻한': 8, '음료': 3, '원할': 1, '감기': 2, '기운이있을': 1, '잠들': 2, '기전': 5, '숙면': 1, '위': 84, '한잔': 9, '생각날': 1, '소중한': 6, '분': 24, '나들이': 1, '보온병': 1, '행복': 3, '추운': 6, '힐링': 6, '분과': 2, '훈훈함을': 1, '나누세요': 1, '만들어': 22, '먹는': 2, '뱅쇼': 2, '그때': 2, '다르고': 1, '잘못': 2, '해서': 21, '끓기라도': 1, '틀어지는데': 1, '크리스트': 1, '킨들': 1, '째': 18, '데워': 1, '온기': 1, '퍼지고': 3, '역시': 19, '튀는': 8, '무난': 5, '올라오는': 15, '전반': 4, '깔끔한': 29, '강하지도': 1, '약하지도': 1, '괜찮았음': 1, '그냥': 3, '데워만': 1, '좋겠지만': 1, '조각': 5, '띄워서': 1, '마시니': 2, '맛있었는듯': 1, '라스베리': 7, '같은과': 2, '스모키': 16, '맑고': 5, '투명하게': 2, '느껴지면서도': 1, '충분히': 10, '악질': 1, '떼루아': 33, '드러나있는': 1, '레드와인': 43, '색띠': 1, '류향': 1, '이주': 10, '이루며': 15, '라즈베리': 70, '입힌': 2, '먹는듯': 2, '주고': 6, '탄산': 18, '신선함을주는': 1, '올해': 19, '밸런타인데이': 13, '할': 42, '복': 5, '고풍': 11, '남호주': 7, '바로': 36, '사': 17, '소규모': 4, '경영': 31, '클랜': 1, '드는': 9, '개성': 52, '있는': 119, '사랑': 31, '받고있어요': 4, '박스': 4, '클': 5, '랜드': 2, '의전': 7, '형': 13, '인포': 3, '을사': 16, '어울리는': 42, '선보이고있죠': 3, '1960년': 3, '느껴지죠': 3, '마치': 13, '시켜요': 2, '면': 10, '산딸기': 12, '키르': 1, '버찌': 2, '초목': 1, '향등': 9, '응축': 9, '되어있는': 4, '깊이': 13, '과즙': 12, '목': 11, '넘김': 10, '같은잘': 1, '꼬르': 1, '비': 38, '신선함과': 12, '풍부함과': 4, '제공': 6, '유기농': 41, '오미자': 1, '긋한': 19, '코': 45, '자극': 8, '콤': 13, '이어다시': 1, '한번': 20, '감싼다': 2, '갈증': 1, '사라지고': 1, '남는다': 3, '모과': 7, '노란': 7, '두드러지게': 1, '나타나며': 2, '크림': 18, '인해': 8, '알차게': 1, '설탕': 10, '절': 6, '파파야': 2, '달콤하': 1, '와당': 5, '적절한': 16, '이루고': 4, '상쾌한': 10, '얼음': 8, '마시는': 6, '독특한신': 1, '개념': 5, '물이': 4, '따랐을': 1, '올라오는기': 1, '포의': 2, '따왔다': 2, '효모': 31, '꿀': 31, '영롱하게': 2, '황금': 11, '강렬하면서도': 7, '드라이': 47, '맞춰': 3, '거쳐': 10, '신선하면서도': 5, '완벽한': 18, '마지막': 10, '장어': 2, '울리는': 1, '순수하게': 6, '짧은': 5, '시간': 41, '가져와인': 1, '깔끔하면서도': 4, '커런트': 20, '18041804': 1, '상쾌함을': 2, '처음': 25, '앵두': 1, '후각': 7, '깨우고': 1, '미로': 5, '타니의': 1, '좋아구': 1, '탁월하여시': 1, '닝': 1, '루미': 1, '수프': 1, '뛰어안': 1, '이태리아': 1, '브루': 14, '쪼': 14, '테라모': 1, '상징': 19, '산맥': 6, '쏘': 6, '자세히': 1, '들여다보면': 1, '여인': 3, '누워있는': 1, '형상': 2, '하고있음': 1, '알수있다': 3, '부제': 1, '가바': 6, '잠자는': 2, '숲속': 2, '미녀': 2, '중심': 11, '뿔': 3, '리아': 29, '바실리카타': 2, '깜파니': 1, '아우르는': 1, '시도': 7, '끊임없는': 1, '노력': 9, '이태리': 9, '강': 4, '자': 53, '불리는': 16, '파네세의': 1, '발렌티노': 1, '쇼티': 1, '씨': 13, '자신': 7, '팀': 5, '심혈': 1, '기울여내놓은': 1, '야심작': 1, '몬테': 13, '치아노': 9, '끌어': 11, '올린': 3, '파네세': 3, '그룹': 15, '노하우': 17, '녹아든': 3, '쏘는': 14, '왕자': 2, '키스': 4, '깨울': 1, '나고있다': 1, '력': 15, '뛰어나': 5, '코스트': 4, '퍼포먼스': 1, '찾는': 1, '젊은': 5, '애호가': 17, '안성맞춤': 6, '달콤함': 5, '프레': 8, '쉬함': 2, '싱그러': 3, '움': 14, '머물러있으며': 1, '디': 8, '히터': 1, '트': 31, '시인': 3, '꿈': 4, '젝': 1, '트는': 6, '괴테': 2, '그린': 13, '그림': 18, '바탕': 16, '만들어져있다': 1, '은세계': 8, '평화조약': 1, '맺어진': 2, '쉥겐': 1, '꿈꾸었던': 1, '평화': 3, '이루어졌다는': 1, '붙여졌다': 1, '브리': 29, '오슈': 21, '금색': 7, '브뤼': 19, '섬세하게': 8, '강하게': 3, '느낄수있으며': 16, '산사나무': 3, '은은하게': 16, '텍스처': 5, '34년': 6, '35': 8, '각기': 5, '크': 50, '뤼': 34, '최소': 21, '졸업': 13, '시즌': 10, '축하': 20, '주': 12, '라면': 15, '빠질수': 2, '없죠': 5, '떼땅': 12, '져는': 4, '전세계': 27, '여국': 1, '수출': 11, '되고': 8, '항공사': 2, '선정': 38, '누리고있는': 8, '피노뮈니': 5, '25': 12, '져리': 2, '브브뤼': 2, '고급스러운': 23, '제격': 18, '핑크': 35, '장미': 52, '풍기는': 6, '터지는기': 2, '펼쳐지며': 2, '호주': 58, '2014년': 5, '장': 79, '수상실': 1, '보유': 9, '제이콥': 2, '크릭': 5, '다르게': 5, '하여기': 1, '곱': 3, '프리미엄': 72, '한로': 14, '특유의청량': 1, '마음': 27, '기운': 13, '불어': 6, '넣어': 15, '준다': 15, '만든로': 4, '제철': 2, '참외': 1, '또': 10, '캠핑': 7, '개구': 1, '기름진': 7, '삼겹살': 7, '그리고야': 1, '채구이까지': 1, '같': 1, '이병': 7, '내': 18, '해기': 3, '뛰어나다': 19, '적은': 2, '예산': 1, '급': 24, '즐길수있다': 21, '커스터드': 1, '지녔다': 6, '풍부': 2, '부드러움': 9, '구조': 17, '설탕절임': 1, '이강하': 6, '국적': 5, '독특하면서도': 1, '어우러지는': 19, '덕분': 18, '2013': 3, '빈티': 34, '훌륭함': 1, '퀄리티': 9, '자랑': 22, '따뜻하고': 2, '건조하여': 1, '완벽하게': 3, '무르': 1, '익는데에': 1, '조건': 7, '가까웠다': 1, '촉촉하게': 1, '내렸던': 1, '낮은': 12, '강우량': 4, '했던': 8, '여름': 37, '거치면서': 3, '훌륭한': 32, '당분': 5, '낼수있었다': 1, '스테인리스': 25, '거쳤다': 4, '유산': 4, '진정한와': 1, '인로': 1, '났다': 1, '보랏빛': 15, '이도': 5, '깊은': 51, '가지고있다': 11, '전형': 18, '인과': 11, '이루고있는': 2, '마시고난': 3, '얕고': 2, '강철': 4, '28': 4, '도': 91, '하의': 2, '도로': 15, '1012일': 3, '7,500': 2, '15,000': 2, '리터': 12, '크기': 2, '대형': 6, '정제': 13, '병입': 13, '2000년': 5, '25회': 1, '청색': 1, '컬럼비아': 1, '강물': 1, '태평양': 5, '휩쓸고가는대': 1, '홍수': 2, '일으키며': 2, '빙하호': 1, '폭발': 8, '시켰다': 11, '이홍수': 1, '바윗돌': 1, '빙하': 1, '잔해': 1, '토': 28, '사물': 1, '남기': 1, '퇴적': 1, '층': 9, '형성': 11, '하였다': 14, '과': 13, '빈야드': 62, '혼합': 1, '산': 33, '바스': 3, '켓프레스': 1, '압착': 8, '와의': 1, '숙성하며': 3, '이중': 3, '30': 15, '줄기': 9, '작업': 8, '잼': 22, '다크': 36, '토바코': 1, '향나무': 1, '음': 15, '그을린듯': 1, '커': 39, '런트': 41, '강건': 6, '길고': 3, '이어지는': 20, '안데스': 2, '마': 10, '레벨': 2, '아침': 6, '일출': 1, '땅': 6, '포도나무': 17, '하나': 22, '장엄한': 1, '의식': 1, '해안선': 1, '따뜻하고해': 1, '하기에': 7, '상적': 4, '기후': 16, '풍부하면서': 2, '빛짚볏': 1, '색깔': 4, '향기로운': 10, '와스': 1, '풍부한과': 28, '가지고있는': 2, '엄선': 18, '선별': 12, '짜내고': 1, '그것': 4, '0': 2, '1718': 1, '도수': 29, '이르게': 1, '필터': 8, '선한': 9, '나타난다': 3, '은은하고': 5, '해병': 3, '입': 50, '풋풋한': 3, '초반': 4, '지배': 6, '면시': 2, '날수': 5, '록': 4, '숨어있던': 1, '밖': 1, '튀어나오는': 1, '고운': 3, '감싸안는': 1, '감칠맛': 12, '가진': 29, '밀도': 8, '4천': 1, '8천': 1, '46': 2, '헥토': 1, '헥타아르': 1, '완전히': 5, '34': 3, '주간': 2, '펀칭과펌핑': 1, '착색': 1, '수행': 1, '형통': 1, '커피': 21, '타바코': 5, '하시엔': 1, '알바': 6, '그니': 2, '된까': 1, '만들어졌다': 5, '뛰어난구': 8, '888': 1, '숫자': 5, '별로': 10, '특별하게': 3, '담긴': 24, '되었기': 1, '때문': 26, '버섯': 17, '흑연': 4, '필심': 1, '느낌을주는': 3, '수입': 21, '유명': 27, '소믈리에': 3, '헝가리': 6, '함께시음': 1, '했을': 6, '놀랍다고': 1, '찬사': 2, '받은': 14, '시나몬': 25, '연노': 1, '풍겨오는': 1, '나배': 1, '풍부하면': 1, '서시': 1, '옅게': 2, '가운데': 5, '쿠키': 2, '안지': 1, '셀러': 12, '끝': 9, '훌륭하고': 4, '작은': 13, '퍼지는': 4, '있어': 14, '볼륨': 6, '넘친다': 2, '무려': 3, '13': 6, '세기': 16, '슬러': 2, '올라가는': 1, '뼈대': 1, '굵은': 2, '되는까': 3, '바이': 12, '서양배': 9, '계': 30, '열의': 5, '거쳤으며': 1, '탄탄한': 3, '노트': 13, '잔잔하게': 2, '거나': 1, '자체': 19, '기를': 4, '싶다': 5, '생미셸': 5, '콜롬비아': 8, '그리를': 2, '완성': 29, '상쾌': 8, '워싱턴주': 14, '제조': 2, '이는': 10, '지구': 3, '비슷한': 6, '북쪽': 8, '위도': 3, '해있다': 2, '성장하는': 2, '일조시간': 2, '2시간': 2, '낮': 9, '충분한': 3, '햇빛': 2, '시원한': 12, '저녁': 9, '할수있게만': 2, '들어준다': 5, '꼭': 19, '마셔': 21, '볼': 19, '마트': 19, '쉽게': 24, '찾아볼수있는': 1, '만족스러운': 4, '대한민국': 12, '주류': 15, '대상': 21, '부문': 8, '수상하기도': 4, '했고': 26, '미디어': 2, '편이': 9, '생선': 26, '브런치': 4, '곁들이기': 28, '좋다': 61, '띤': 8, '검은자': 1, '강렬하게': 8, '풍겨': 3, '온다': 6, '초콜렛': 3, '빛나는': 11, '밀짚': 1, '감귤류': 10, '감돌며': 2, '기': 2, '신선함의': 2, '용': 16, '푸른': 1, '물고있는것': 1, '비쥬': 1, '얼': 2, '참': 8, '청순': 1, '청순한': 1, '돼지고기': 10, '목살': 1, '예쁜': 10, '반해서': 1, '자주': 10, '마시게': 2, '될것': 5, '깨끗한': 10, '주도': 2, '가볍고': 13, '통통': 1, '아니라': 15, '차분하고': 1, '묵직하고': 5, '좋습니다': 32, '아주부': 1, '드러워요': 1, '난하게잘': 1, '푸만': 6, '테': 22, '서머': 1, '금': 4, '적당하면서': 1, '산뜻하게': 4, '좋게만': 1, '들고': 1, '나': 3, '모임': 11, '들고가': 1, '면병': 1, '네이블': 1, '박수': 1, '받는': 19, '행복하게': 1, '해주는': 8, '은은하게퍼지고요': 1, '젖지': 3, '않아서': 1, '칠링': 4, '해도': 17, '여전히': 2, '예쁘네요': 1, '날꼭': 1, '하고싶은': 1, '평소': 7, '좋아하는': 7, '에': 6, '맞는과': 1, '느껴져': 4, '무단': 1, '순하지': 1, '않으면서도': 4, '어우러진': 10, '깔': 3, '끔': 2, '한스': 4, '테청량감': 1, '딱좋': 1, '음달': 1, '않고': 29, '쭉': 1, '은은한과': 2, '데': 39, '일리': 15, '마시기': 72, '좋네요': 3, '의병': 4, '않는': 9, '스와로브스키': 3, '분위기': 26, '더업': 1, '하얀': 4, '꽃내음': 3, '바나나': 7, '귤': 1, '싱그럽고': 2, '시원하게': 8, '즐기면': 11, '판': 4, '티니': 6, '테입': 2, '토착': 41, '코치': 1, '올라로': 1, '했죠': 24, '중앙': 3, '박아': 1, '고급스러': 4, '더했으니': 1, '훌륭해요': 1, '후당': 1, '당하게': 1, '인생': 6, '다음': 6, '걸음': 1, '내디딜이': 1, '들에게': 7, '아름답게': 5, '빛나면서도': 1, '단단한': 7, '다이아몬드': 5, '미래': 3, '펼쳐지길': 1, '바라는': 4, '담아': 24, '로건': 1, '보세요': 17, '덤불': 3, '이루는': 9, '부드러우면서': 3, '적절': 15, '높여줄것이다': 1, '아들': 3, '레이드': 1, '더불어이': 1, '더불어': 4, '빚': 7, '조미': 1, '탄탄하게': 1, '해주고있다': 1, '초밥': 8, '되고신': 1, '사적': 2, '살아있는': 5, '엘레': 8, '강스': 5, '칵테일': 4, '1865': 1, '라임스톤': 1, '온화한': 5, '덥고': 2, '밤': 29, '차로': 3, '유명하다': 7, '시킨리': 1, '브': 18, '모카': 17, '소나무': 2, '치킨': 11, '어울리며': 12, '일류': 2, '파스타': 30, '곁들여': 15, '열릴수록': 1, '무화과': 12, '남길': 1, '적당하다': 6, '수령': 28, '20년': 11, '100년': 7, '철분': 2, '있어서': 1, '매치하기': 1, '2014': 3, '무덥지': 1, '않은기': 1, '후덕': 1, '된아주': 1, '좋': 11, '은빈': 5, '레스크레스': 2, '테스': 3, '닭': 4, '뜻': 62, '부지런한': 1, '근성': 1, '존중': 3, '문화': 10, '담고있다': 7, '정말': 8, '있': 1, '고깔': 1, '은기': 1, '있게': 10, '올라오며': 10, '볏짚': 18, '우아하게': 16, '고소한': 11, '섬세하면서도': 11, '전해지는': 6, '뛰어난기': 1, '단단한구': 6, '안정': 3, '성함': 2, '운빵': 9, '도감': 11, '휴식': 1, '건포도': 15, '끊이지': 2, '올라오고': 12, '건': 6, '옅': 2, '보이는': 10, '원숙한': 2, '신선함이': 9, '시럽': 4, '배적': 6, '블랜딩': 11, '당': 20, '17': 7, '사탕수수': 2, '의당': 6, '쥬': 9, '가물': 5, '원숙함과': 2, '결': 6, '합되': 2, '차별': 6, '화': 31, '무게': 22, '매끄러': 2, '가져다준다': 2, '남기며': 4, '소고기': 19, '자주색': 3, '짙은과': 3, '운': 27, '초콜렉': 1, '넘치고': 4, '탄탄한구': 6, '조를가지며': 1, '페퍼': 7, '고둥': 1, '풍부하고진한': 1, '미': 53, '고스트': 2, '파인은': 1, '나파': 24, '홈플러스': 3, '카테고리': 1, '차지': 16, '큰': 39, '현지': 7, '가보다': 1, '저렴한': 6, '국내': 11, '화제': 2, '바': 50, '프': 2, '리츠': 2, '짐': 1, '머는': 1, '모젤': 2, '간직': 9, '우스': 3, '레제': 2, '골라': 4, '도리': 2, '달콤함을잘': 1, '감미로운당': 1, '느껴지면서': 2, '뒤따른다': 1, '뚜렷하며': 1, '터치': 14, '좋아한다면': 1, '아이언': 3, '스톤': 6, '쁘띠': 15, '2015': 1, '머스트': 2, '헤브': 2, '아이템': 2, '깊으면서': 1, '도어': 1, '두운': 1, '잉크': 2, '류잼': 1, '가가': 8, '장인상': 1, '이어진다': 12, '시라는로다': 1, '이세': 1, '부지역': 3, '슬로우': 1, '하우스': 30, '테이': 20, '처트': 1, '렌치': 1, '암석': 1, '이토': 1, '양': 11, '배수': 2, '라가': 5, '환경': 10, '투명한': 10, '산뜻한시': 2, '꿀등': 1, '어우러져있는': 2, '성': 36, '달진': 1, '않지만': 4, '달달': 4, '서산': 3, '미도': 12, '가볍게': 30, '깔끔하게': 10, '그래도': 1, '요즘': 2, '좋았는데': 1, '더운': 10, '더욱이': 1, '좋았던': 2, '마르카': 6, '프로세코': 35, '튀지고': 1, '않고데': 1, '선선': 2, '가을': 15, '피크닉': 9, '용도': 1, '내기': 2, '눈': 24, '간지럽히는': 1, '흘러나오는': 1, '벌꿀': 4, '작고': 5, '돋구는': 2, '더위': 3, '기승': 1, '부리면': 1, '부릴수록': 1, '간절히': 1, '생각나는라': 1, '새침하게': 1, '다가올': 1, '이미라': 1, '버린듯': 1, '합니다': 52, '가성': 14, '좋다는': 2, '말로': 1, '용할수': 1, '없는': 20, '기쁨을주는라': 1, '찾고계': 1, '신분': 1, '적당함': 1, '스파크': 1, '아닐까': 4, '일단': 1, '대비': 6, '청량감': 18, '폭탄': 3, '한여름': 9, '식혀주네요': 1, '민트': 19, '사로잡는다': 2, '담': 3, '켓': 1, '있다면라': 1, '어디': 6, '해줄': 9, '포실한기': 1, '저': 3, '여행가': 2, '수영장': 1, '수영': 1, '마셨는데': 3, '좋았습니다': 4, '머금': 3, '게시': 1, '원하게': 1, '부는': 1, '바람': 14, '해변': 5, '가의': 1, '상이': 1, '되었어요': 1, '감성': 5, '게': 4, '느껴진듯': 1, '콤달콤': 1, '따르자마자': 2, '오밀조밀': 1, '기포': 2, '가목': 1, '넘어갈': 1, '시원하다라는': 1, '주었': 1, '고함': 1, '께나': 3, '몹시': 3, '신선해서': 1, '속': 8, '스트레스': 4, '뻥': 1, '날려주는': 7, '이었다': 5, '적합한': 4, '크지': 1, '않아': 11, '아쉽지만': 2, '떨어지니': 1, '회랑': 1, '먹어도': 4, '괜찮은': 2, '편': 18, '성비': 15, '따지자면': 1, '극': 2, '개인': 2, '견해': 1, '가': 25, '적당히잘': 1, '이루어져': 1, '매치가잘': 1, '같다': 6, '여름밤': 9, '좋을': 1, '청량하고': 1, '무더운': 9, '날': 47, '휴가': 4, '딱입니다': 1, '구입': 11, '할수있으니': 1, '모르는': 2, '사람': 41, '같습니다': 1, '오리': 3, '어울리는가': 1, '조밀한': 3, '타임': 4, '맞는': 4, '같아요': 2, '따르면': 4, '볏집색': 1, '베이지': 1, '잔뒤': 1, '투명하게잘': 1, '편입': 1, '강한': 16, '인한': 11, '잔위': 1, '채우며': 1, '비교': 12, '가라앉습니다': 1, '사진': 1, '보기': 4, '투명': 1, '가잘': 2, '보이지': 1, '않습니다': 3, '어딘가': 1, '이납': 1, '달': 20, '한편': 2, '도강': 1, '적당하게': 3, '다가옵니다': 2, '마시다': 2, '스카치': 5, '캔디': 6, '버터': 24, '기도': 26, '반복': 1, '카페': 8, '서빙': 2, '워터': 2, '감은': 7, '입자': 2, '크고': 2, '강함으로': 1, '터집니다': 1, '초여름': 18, '베네토': 13, '되는라': 1, '2012년': 2, '받아': 14, '유일하게': 4, '스펙': 14, '터': 14, '되': 8, '꿀향': 8, '더해져': 11, '잘살': 3, '린': 12, '조엘': 2, '고트': 3, '815': 3, '르네쇼비뇽': 2, '적색': 2, '가미': 13, '멋진': 7, '지니': 3, '넘어가는': 1, '2003년': 2, '가추': 2, '세라': 1, '첫': 6, '번째': 6, '딸': 5, '루시': 3, '우리나라': 3, '8.15': 1, '광복절': 1, '날짜': 1, '일치': 2, '거주': 3, '교포': 1, '유학생': 1, '제비꽃': 8, '비올': 16, '랑게': 10, '소유': 22, '자란': 12, '숙성하여': 4, '가능한': 11, '피에몬테': 33, '정체': 6, '깊고진': 6, '농': 15, '클로브': 6, '융합': 2, '넬': 3, '로이': 5, '가야': 1, '패밀리': 13, '삐': 1, '브싼타레스': 1, '띠뚜': 1, '따': 8, '의한': 1, '단일': 3, '원수': 1, '가릴': 1, '레': 38, '표면': 2, '에이커': 1, '점토': 10, '질': 5, '석회질': 2, '평균': 19, '11년': 1, '수가': 1, '레이': 12, '1547년': 1, '의자': 9, '조사': 2, '일람표': 1, '찾아볼수있을': 1, '오래된': 14, '알코올발효': 4, '캐스': 3, '크와': 1, '몬테스': 19, '알파': 12, '카버': 5, '깊고': 13, '지인': 6, '콜': 7, '차구아': 5, '선보이는': 15, '도아': 3, '타': 6, '치구': 2, '구획': 11, '질의': 4, '또한': 21, '기존': 7, '시기': 7, '일주일': 2, '연장': 2, '더긴': 3, '16': 11, '집': 16, '즐겁게': 18, '홈파티': 13, '누적': 1, '판매량': 6, '1천만': 1, '선보인': 10, '선': 10, '어우러지며': 17, '스민긴': 1, '크랜베리': 4, '꼬뜨드': 3, '프로방스': 8, '사랑스런': 2, '제코': 1, '스치는': 4, '참매': 1, '제라': 2, '드셔': 1, '보시길': 2, '생강': 2, '그대로': 17, '7': 24, '2007': 1, '14': 13, '개크뤼중': 1, '91': 2, '가이며': 1, '9': 6, '생강빵': 1, '꽃향등': 1, '향연': 3, '섬세': 6, '신선함을': 7, '카카오': 3, '잼등': 1, '다양하고': 2, '농후': 1, '견고하고': 1, '매끈하게': 1, '끝나는': 1, '최고급': 8, '30,000': 1, '에디': 8, '찌': 6, '오네를': 2, '불과': 1, '불과하다': 1, '만들어져': 2, '지를': 5, '표시': 1, '할수': 2, '없지만': 1, '중진': 1, '진정': 2, '위대한': 6, '만들기': 6, '서는': 5, '이우선': 1, '단언': 1, '새로운': 24, '프로젝트': 5, '카레이서': 1, '미하엘': 1, '슈마허': 1, '파레트': 1, '단위': 2, '반': 3, '즐기고': 1, '가소': 3, '유하': 1, '레스토랑': 12, '2017': 5, '가금류': 10, '뇽블': 42, '윤택': 3, '고배': 1, '너트': 3, '두드러지며': 4, '짜여진구': 2, '고소하면서도': 1, '날선': 1, '4,132': 1, '코코아': 12, '감미로운': 6, '낸다': 16, '더해주는아': 1, '펠레': 4, '션': 9, '살려주는': 1, '즐거운': 9, '텍스쳐': 3, '자아내는의': 1, '더한다': 16, '기와': 2, '잎': 2, '26': 3, '황무지': 1, '같았던': 1, '워싱턴': 9, '농지': 1, '명': 27, '산지': 28, '아버지': 9, '조가': 3, '월터': 1, '로어': 1, '정': 5, '로만': 56, '한정': 8, '연간': 8, '120': 3, '삭': 4, '애플': 3, '고혹': 1, '살려': 2, '선명한': 8, '이스트': 7, '섬세하지만': 1, '등그': 1, '뤼밭': 1, '의지': 6, '10년': 11, '미슐랭': 6, '에리': 2, '스팅': 7, '가스트': 3, '노미': 3, '평론가': 22, '리차드': 1, '줄리': 1, '드브노쥬': 2, '설립': 33, '180': 1, '주년': 3, '루': 17, '스페셜에디션': 4, '도르를': 1, '까라': 1, '형태': 6, '바틀': 1, '특수': 1, '인쇄': 2, '기술': 17, '도입': 6, '메탈': 1, '룩': 4, '가치': 14, '더하였고': 1, '의빈': 4, '중하': 3, '나로': 4, '1873': 1, '매실': 1, '띄며잘': 1, '부드럽고구': 2, '드슈': 1, '발리': 3, '페삭': 1, '레오': 2, '장유': 3, '부르고뉴': 63, '루아르': 11, '그늘': 1, '가려진': 1, '중후': 3, '멋': 5, '보여주고있다': 4, '자른': 4, '충실한': 1, '공존': 4, '아름답게만': 1, '들고있다': 1, '섬세함을': 2, '해치': 1, '않기': 1, '35만': 1, '타라': 10, '파카': 5, '세르': 11, '여타': 2, '경쟁': 1, '인지도': 2, '모두': 8, '국가대표': 2, '액': 4, '층층': 1, '펼쳐지는': 1, '벨벳': 14, '부드럽고잘': 1, '어우러져긴': 2, '이로': 3, '만': 4, '아닌': 13, '우아함이': 5, '남아': 3, '이특': 2, '느끼실수있다': 1, '떼': 2, '리조또': 1, '2004': 2, '66': 1, '하였고': 4, '88': 1, '는그랑크뤼': 1, '프르미에크뤼': 1, '붉거나': 1, '파란': 1, '빵': 5, '굽는': 1, '세이지': 6, '로즈마리': 7, '카시스': 10, '펼쳐지고': 1, '둥글둥글한구': 1, '만들어주는': 1, '2016': 2, '77': 1, '쁘띠베르': 5, '까베르네프': 3, '말벡': 7, '플로렌스': 3, '시에나': 1, '끼안': 1, '클라시코': 14, '쪽': 2, '해있으며': 1, '시장': 11, '되기': 8, '안온도': 1, '상태': 3, '되면서': 2, '릿': 3, '훌륭하며': 2, '부드럽고우아': 1, '잡혀있다': 1, '이상숙': 1, '월병': 2, '숙성하였다': 8, '늦': 10, '토스카나': 31, '실력': 4, '파생': 1, '산자': 1, '르': 81, '피네토': 6, '군데': 2, '직접': 12, '커버': 1, '세번': 2, '인정받': 1, '살린': 4, '감치': 5, '우수': 4, '알리고있습니다': 2, '키': 19, '지오': 13, '베제': 14, '와카': 6, '나이': 3, '올로': 2, '했어요': 33, '토마토소스': 3, '뉴질랜드': 25, '하나로': 19, '주로': 14, '북섬': 7, '되던': 1, '킴': 5, '크로': 7, '포드': 6, '의혹': 3, '베이': 6, '남섬': 3, '말보로': 14, '만든': 21, '한시': 4, '느낄수있게': 2, '깬': 1, '순수한': 15, '주스': 6, '인위': 1, '흙': 10, '꽃등': 4, '섬세함과': 2, '중점': 2, '둔': 5, '우디': 2, '느껴지지': 5, '오르면': 1, '이어': 13, '젖은': 3, '이끼': 1, '가늘고': 1, '여린': 1, '편안하게마': 3, '실수': 6, '향후': 4, '도전': 5, '서시음': 1, '하기를': 2, '치명': 11, '우아함': 15, '고급스럽다': 4, '해구': 2, '탄탄하다': 3, '바비큐치킨': 1, '족발': 3, '대등': 1, '배달': 6, '양념': 14, '않은것': 1, '들을안주': 1, '삼아': 2, '리저': 3, '브메': 1, '의아': 8, '로마': 4, '릿향': 1, '훌륭한구': 1, '돋보이는긴': 2, '그리는': 4, '최근': 18, '급증': 1, '의뒤': 1, '시키기': 1, '서서히': 2, '착즙': 2, '나온': 3, '을유': 1, '지하': 2, '그리': 5, '나타나게': 1, '접촉': 9, '최대한': 15, '줄인': 1, '과시': 5, '이결': 1, '합하여': 1, '깔끔하고': 8, '신선하게만': 1, '상파뉴': 1, '프리': 48, '뮤': 1, '마레': 2, '일쉬르': 1, '아이': 2, '했다': 75, '60': 11, '무엇': 7, '모나': 1, '핸들링': 1, '필요없으며': 1, '즐기고싶다면': 4, '와인글라스': 3, '드셔도': 1, '인숙': 1, '정교하고': 4, '스타': 23, '비솔': 8, '선택': 39, '우아하면서도': 6, '트렌디': 11, '하던': 6, '문턱': 3, '방언': 6, '살기': 3, '은장': 4, '소란': 3, '소소한': 6, '파티': 19, '중심지': 3, '꼽히는': 23, '발도': 5, '비아': 5, '1542년': 2, '솔이': 1, '지에서': 3, '하죠': 3, '돋워': 11, '줄거예요': 1, '카모마일': 1, '생기': 12, '고향': 14, '움직임': 1, '케': 6, '듀블': 1, '깜빠니아': 1, '이용': 3, '여상': 1, '파뉴': 1, '지평': 1, '열기': 2, '야심': 1, '찬': 9, '2004년': 5, '통방': 11, '따른': 1, '드': 40, '70년': 2, '이진한': 2, '말린자': 2, '귀리': 1, '비스킷': 4, '숨어있으며': 1, '는랑': 1, '메일': 2, '앞': 3, '보존': 5, '하겠다는': 5, '약속': 4, '증언': 1, '1860년': 1, '무분별': 1, '개발': 2, '불도': 1, '져로': 1, '엎어질': 1, '뻔했던': 1, '고아': 1, '버려진': 1, '고목': 7, '장테': 1, '발광다이오드': 1, '용한': 2, '엄격한': 3, '컬': 5, '날라의': 1, '어우러져있다': 4, '한층': 5, '돋보이게': 1, '의통': 1, '톤': 1, '강렬하고': 5, '절제': 5, '묵직한': 22, '뻴': 1, '왼쪽': 1, '11': 13, '이아': 2, '펠': 2, '포함': 22, '되어있다': 6, '1834년': 3, '시': 16, '이루고있다': 8, '스데': 6, '리스': 10, '칼': 10, '스페인국': 1, '왕': 2, '후안': 1, '카를로스': 1, '왕궁': 1, '공급': 4, '스페인': 96, '왕실': 6, '공식': 9, '인명': 5, '할리우드': 1, '브래드피트': 1, '안젤리나': 1, '졸리': 1, '커플': 3, '이선호': 2, '알려져있다': 1, '기네스': 1, '펠트': 1, '여행': 4, '프로그램': 2, '페니': 1, '쉬디': 1, '소개': 17, '샤또': 1, '마고': 3, '수석': 1, '폴퐁': 1, '타이': 2, '가샤': 1, '외': 4, '로리스': 1, '정리': 3, '완벽히': 2, '달동': 1, '칼레': 5, '석회암': 6, '토질': 1, '리오하': 22, '우수한': 3, '라시': 5, '아노와': 1, '마주': 2, '최대': 13, '넘지': 1, '않는다': 7, '윌라메트': 1, '핵심': 2, '던디': 1, '힐': 1, '아는진하면서도': 1, '영롱한': 3, '우아하면': 1, '서구': 1, '갖추고있다': 1, '용하였으며': 1, '고유': 14, '살리기': 3, '발생': 1, '천연': 2, '용법': 1, '순수함을': 2, '낸': 18, '과오': 1, '닉': 6, '츄럴': 1, '아세트산': 1, '식욕': 3, '가득한': 15, '숙성한': 14, '두터우나': 1, '이루고있으며': 1, '하면서도': 11, '이루고있는구': 1, '상퍄뉴': 1, '지방': 16, '트래디셔': 1, '널메': 1, '소드': 1, '을': 2, '병입후': 8, '일어났으며': 1, '병속': 1, '2년': 8, '자잘하고오래': 1, '되는기': 1, '비코': 3, '향수': 3, '시키듯이': 1, '환상': 9, '오른다': 5, '라스': 9, '유니크': 2, '롤로': 22, '멀': 8, '케이': 4, '머스': 2, '척': 2, '제니': 2, '이끌어가는': 1, '의외': 1, '증조부': 1, '바토': 4, '1923년': 2, '파': 12, '러더포드': 1, '매입': 1, '셰릴': 1, '1994년': 6, '2011년': 1, '젊은여': 1, '답': 7, '감각': 16, '롯': 5, '종': 2, '멀로': 1, '머': 6, '스카': 24, '버': 7, '시키는': 16, '탁월한': 7, '이는와': 1, '특허': 1, '할수있는긴': 1, '행': 1, '뿐': 12, '되도록': 1, '익는': 1, '조생종': 1, '서늘한오': 1, '크놀': 1, '달콤': 2, '한훈': 1, '풍부하며': 3, '이함': 7, '드리우는': 1, '리치': 12, '망고': 18, '수의': 2, '화려하고': 1, '틱': 12, '황홀경': 1, '빠지게': 1, '리찌': 1, '라운드': 1, '모를': 1, '놀라운': 13, '만족감': 5, '로맨틱': 8, '알자스': 8, '저력': 5, '남향': 2, '방향': 2, '펼쳐진': 3, '친환경': 28, '농법': 17, '아름다': 4, '1822': 1, '세심': 5, '용하여': 1, '방해': 1, '되지': 3, '않도록': 1, '뵈': 3, '틀': 1, '린스': 1, '호펜': 1, '장인정신': 2, '깃': 5, '220330': 1, '고도': 5, '매우잘': 1, '회토': 4, '구성': 5, '뚜렷하면서': 1, '믹스': 2, '만나': 4, '강렬하면': 1, '서복': 1, '미묘한노': 1, '넛맥': 3, '따라온다': 1, '따뜻하면서': 1, '신선하다': 2, '포자': 2, '노': 15, '잃지': 4, '않으면서': 3, '의구': 3, '화가': 7, '가길고': 1, '노는라는': 1, '우물': 1, '어원': 1, '700년': 1, '의문': 1, '양은': 1, '19': 14, '프레스코발디': 8, '결혼': 14, '알비': 1, '지아': 4, '가문': 30, '문장': 2, '청사': 7, '펼쳐진다': 3, '고소하게': 1, '점점': 2, '화려해진다': 1, '청': 3, '하는와': 1, '빌라': 2, '쥐': 12, '함량': 1, '5년': 12, '옴므': 1, '쿨롱': 2, '이름답게': 1, '에릭': 2, '닮아': 1, '진실되고': 1, '수호': 1, '해나': 1, '가는': 1, '레꼴땅마니퓰': 1, '이라': 2, '불리우는': 1, '해양': 5, '조': 42, '하는': 17, '해당': 6, '반영': 11, '차이': 2, '이레': 1, '꼴땅': 1, '마니': 1, '퓰': 1, '만들어지고있다': 1, '재료': 1, '좌우': 1, '는가': 3, '중요한요': 1, '소일': 1, '고다': 1, '관': 2, '본에서가': 1, '중요한': 10, '등급': 15, '없으나까': 1, '샹빵': 1, '1등': 8, '까이에': 3, '부샤': 3, '레밭': 1, '달하는': 2, '간판': 2, '격': 3, '정교하며': 1, '힘찬': 4, '미에': 26, '짜여져있고': 1, '육감': 1, '면모': 2, '느낌을주며': 2, '능력': 1, '이그': 2, '못지않게': 1, '빼어나': 1, '명산': 3, '지로': 8, '알려진': 5, '코트': 2, '본에': 1, '숨겨진': 1, '보석같은': 6, '르뻬레': 1, '피스': 2, '레프': 2, '르미에크뤼': 1, '다가온다': 5, '조화로움': 2, '흙내': 8, '오크나무': 2, '성해': 2, '느낀': 4, '우아함을': 9, '이지나': 3, '지날': 1, '수록': 1, '더욱더': 4, '강렬해지며': 1, '달콤함과': 9, '하이라이트': 1, '진하고긴': 1, '타입': 6, '해발': 9, '250': 1, '파른': 2, '싱글': 21, '비아데': 2, '페리': 13, '오레': 4, '선점': 1, '여각': 1, '특색': 2, '카르': 7, '인정받는': 4, '티제': 1, '죽기전에': 4, '봐': 3, '야할': 8, '1001': 3, '레데': 4, '사투리': 1, '뿌리': 3, '가까이': 1, '저장': 4, '가뭄': 1, '할수있고': 2, '갖게': 1, '부드러우면서도': 4, '진하게': 2, '빈': 5, '졸인': 3, '느꼈던': 1, '같은진': 1, '보여주어': 1, '존재': 6, '견고한잘': 1, '더해주': 1, '살려주며': 1, '독일어': 2, '특별함': 1, '보상': 1, '프래': 1, '어프': 1, '라미': 7, '지닌이': 2, '쉴드': 1, '한해': 11, '성과': 1, '물': 1, '보여주고싶다는': 1, '간절한': 1, '소망': 1, '흥분': 2, '시키고': 6, '기대하게': 1, '파셀': 2, '그러한': 1, '해빈': 2, '담아내기': 1, '금은': 8, '사치스러우며': 1, '끊임없다': 1, '지대': 3, '바르셀로나': 1, '매료': 1, '되어이': 1, '사업': 1, '뛰어든': 1, '1700년': 1, '예배당': 1, '안치': 1, '되어있으며': 2, '샌': 1, '된구': 1, '22': 5, '개월뉴': 1, '프랜': 1, '치': 7, '파고데': 2, '로스': 10, '네스': 2, '스페인어': 13, '성직자': 1, '800년': 1, '리베라': 3, '델두': 2, '한가지': 2, '조화로운긴': 1, '동물': 4, '동물성': 3, '통후추': 1, '에르미타주': 5, '갈': 5, '리가': 6, '세기말': 2, '귀족': 9, '갈에서는': 1, '맞춤': 3, '40년': 13, '물방울': 3, '사실': 4, '그릴수록': 1, '오히려': 1, '부각': 2, '되는것은': 1, '일시': 1, '최상': 12, '길러': 1, '방울': 5, '만드는것': 2, '예술': 13, '마찬가지': 4, '스스로': 1, '비워': 1, '나가는과': 1, '정일': 1, '세월': 3, '즐겨': 20, '바란다': 1, '행위': 2, '무': 11, '돌려': 1, '보내기': 1, '분노': 1, '불안도': 1, '공포': 1, '허로': 1, '돌릴': 1, '때우리': 1, '들은': 1, '평안': 1, '체험': 3, '될것이다': 8, '혹': 3, '에고': 1, '신장': 1, '바라고있으나': 1, '나는에': 1, '고의': 1, '소멸': 1, '무아': 1, '경지': 1, '을지': 3, '방법': 11, '찾고있는것이다': 1, '김창열': 1, '치날레': 1, '이탈리아어': 6, '멧돼지': 5, '퀘르체토': 1, '수퍼': 2, '투': 15, '스칸': 7, '국제': 13, '카베': 98, '만들고': 2, '케이스': 3, '드로잉': 2, '달콤하게잘': 1, '혀안': 1, '미끄러지듯': 1, '흐르며': 2, '파워': 10, '풀하며': 1, '뛰어나고': 4, '충만': 1, '주지': 2, '뉴월드': 1, '비하여': 1, '덜': 3, '직선': 2, '흐름': 1, '복잡하고': 1, '오묘한': 1, '종이': 2, '발란스': 2, '갖춰진': 2, '띄고있으며': 1, '레드베리': 13, '잘어우': 2, '리진': 1, '전제': 1, '좋으며': 13, '매니아': 1, '팝': 1, '유': 4, '카니발': 2, '조일듯': 1, '한강': 1, '인구': 1, '훌륭하여': 1, '새로': 2, '쓴': 3, '몰리': 6, '커의': 2, '한자리': 3, '모여': 1, '행복한': 11, '축제': 4, '벌이는': 1, '자연스러운': 4, '가긴': 6, '코끝': 4, '조화롭다': 10, '바바': 4, '전역': 5, '해오던말': 2, '바시아': 7, '역할': 12, '뛰어난말': 3, '달콤하면서도': 6, '첫사랑': 2, '언제': 4, '만들어줄': 2, '낮아': 6, '부담': 46, '즐길수있으며': 6, '탐스러운': 1, '신선한시': 3, '우아하다': 3, '토다': 11, '화합': 1, '공유': 2, '천진난만하던': 1, '어린시절': 1, '대한': 15, '회상': 1, '젊음': 2, '브라': 9, '메시지': 5, '담고있는': 2, '갖춘에': 1, '키워': 2, '내어': 1, '선친': 1, '인자': 1, '모의': 1, '철자': 1, '포인트': 3, '하여': 5, '만든것이며': 1, '오른쪽': 1, '하단': 1, '라틴어': 3, '쓰여진': 1, '매직': 1, '큐브': 1, '쟁기': 1, '농부가': 1, '간다': 7, '1990년': 2, '세대': 13, '걸쳐전수': 1, '빌까': 1, '르살몽': 1, '핑크색': 5, '낸로': 1, '해보기': 1, '만해': 3, '제스': 4, '트향': 1, '진하고': 11, '기초': 4, '코딩': 1, '매치': 1, '쇠고기': 4, '접목': 2, '시키는것이다': 1, '참치': 2, '이합': 3, '쳐진': 2, '편한': 5, '우아함은': 2, '빠르게': 6, '지하실': 2, '옮겨져서': 2, '꼭지': 3, '스러진다': 2, '착하여': 4, '나오는': 4, '저온': 11, '할수있도록': 3, '꽃들이': 2, '주듯': 2, '섞여서': 2, '3월': 13, '로움': 2, '마르케': 6, '디바': 2, '브릭': 1, '멜은': 3, '쳐진것': 1, '아르': 4, '네이스': 1, '뇽블랑을블렌딩': 2, '편안한': 9, '서도': 5, '나비': 3, '가득하다': 4, '잘살려내기': 1, '착하며': 2, '부부': 20, '한비': 8, '솔': 3, '느낌을주죠': 1, '담고있어요': 1, '건배': 6, '만들어가는': 1, '되새겨': 2, '보는건': 4, '어떨까': 12, '요': 10, '랄리': 14, '014': 2, '허니': 4, '난다': 2, '1906': 1, '르네랄리': 1, '18611938': 1, '1906년': 1, '아이지': 1, '역은': 2, '1996': 1, '손자': 1, '향상': 8, '므리': 1, '에일': 1, '있던': 2, '보': 12, '임명': 1, '꾀': 1, '권유': 1, '보는': 9, '인수': 2, '견고히하고': 1, '2007년': 3, '이루었다': 2, '가깝': 1, '게일': 1, '구': 2, '최선': 2, '다한': 1, '400,000': 1, '제한': 2, '이트리': 1, '보가': 1, '고객': 1, '고있는': 1, '선보인다': 4, '어울림': 2, '따라서': 2, '센세이션': 1, '신비함은': 1, '단어': 5, '힘들': 1, '영국': 25, '벨기에': 1, '오스트리아': 14, '캐나다': 4, '홍콩': 1, '등수': 1, '가이드': 2, '등재': 1, '파이브': 2, '호텔': 4, '할수있다': 15, '각': 1, '2월': 7, '2830': 1, '완료': 2, '가진잘': 1, '실과': 1, '이루게되': 1, '고': 2, '1989년': 1, '드러내는': 4, '어린': 2, '가진로': 1, '멘티': 10, '만들어진다': 2, '높아지': 1, '선하게': 2, '사랑스러운로': 1, '더부': 1, '가시': 1, '켜준다': 1, '상쾌하게': 1, '만들어줘': 1, '우진': 1, '9월': 11, '10월': 11, '만선': 3, '별': 2, '20일': 1, '후작': 2, '사이즈': 6, '36': 4, '가진다': 1, '생생한': 10, '블렉': 1, '몰트': 1, '미디움': 7, '로주': 1, '착해서': 1, '바깥': 1, '얻는다': 1, '이루어지며': 1, '8일': 2, '정기': 3, '섞어주어': 1, '하게하고': 1, '변했을': 1, '28년': 1, '멜론': 10, '산뜻한과': 4, '배어나는': 1, '누구': 17, '편안하고': 1, '마실수있는': 5, '개월더': 3, '시켜': 7, '3천': 1, '칼리': 3, '올라': 3, '주민': 1, '이하나': 1, '씩': 3, '입혀': 1, '병마': 1, '달라': 1, '수집': 1, '재미': 1, '더하는': 1, '뚜렷한': 3, '가벼운듯': 1, '흐를수록': 2, '상의': 6, '감싼': 2, '퍼진다': 1, '신선함으로': 1, '얻어진': 2, '섬세히': 1, '일부': 4, '가졌으며': 1, '부드러워': 3, '느낄수있': 1, '35년': 4, '이르는': 6, '7.8': 1, '르동': 3, '블루': 4, '를블렌딩': 4, '총': 3, '꿉': 2, '느껴짐': 1, '좋았지만': 1, '떨어져서': 1, '실망': 1, '차라리': 1, '낫다': 1, '많아': 1, '잡채': 2, '불고기': 5, '배향': 2, '좋음': 1, '초록빛': 4, '사과꽃': 3, '경쾌': 1, '마실수있다': 2, '아그리콜라': 1, '푸니': 1, '카사': 5, '마스': 5, '누타': 2, '산귀': 1, '카이': 5, '유일한': 2, '화려하게': 2, '점심': 1, '투명하고': 4, '여운이잘': 1, '그리아다': 1, '에센스': 1, '추가': 7, '잔당': 5, '시가': 3, '발포': 3, '청량함을': 1, '헥타르': 13, '4050년': 1, '올렸으며': 1, '잡지': 2, '주관': 1, '열린에서': 1, '받았다': 4, '깨진': 2, '류및': 1, '보이즌베리': 1, '따듯': 1, '어려있으며': 1, '광범위하고': 1, '다가오며': 2, '세련된': 31, '감을잘': 1, '맛볼수있다': 1, '채우고': 4, '2016년': 6, '템': 15, '프라': 18, '오': 9, '23': 2, '까베르네소비뇽': 1, '225': 1, '강렬하며': 1, '반면': 2, '확실하게': 1, '손수': 34, '확': 29, '파쇄': 2, '술지게미': 1, '2628': 1, '소형': 1, '이루어진다': 1, '마로': 6, '하는과': 1, '서양': 2, '산뜻하지만': 1, '기품': 5, '잰': 1, '시스': 6, '로빈': 1, '키위': 2, '반격': 1, '평': 2, '까운': 1, '호수': 1, '서쪽': 6, '경사면': 2, '자갈': 4, '편암': 1, '기반': 8, '진': 5, '신선하며과': 1, '풍부한매': 1, '우기': 1, '통한': 5, '작은기': 2, '만다린': 1, '청량함이': 2, '말': 11, '일반': 16, '토비': 2, '드물게': 1, '감이잘': 2, '살아나는리': 1, '달콤함이': 3, '한국': 32, '공기': 2, '아름답다': 5, '갖구운': 2, '오쉬': 5, '넣어구': 2, '일종': 2, '쨈': 2, '적시면서': 2, '1950년': 2, '높여': 4, '로제': 21, '잔고': 2, '세는': 2, '살몬': 2, '매출': 4, '58': 4, '인데에': 2, '비해': 12, '고세': 2, '위엄': 2, '색감': 3, '풍부할줄': 2, '알았으나': 2, '강함': 2, '편안한과': 2, '목적': 1, '40만': 2, '부여하였다': 1, '유제품': 1, '토피': 3, '유혹': 4, '닿았을': 1, '때꽤': 1, '묵직하지만': 1, '인접': 4, '아콩카구아': 1, '해있어': 1, '송이': 7, '해안': 9, '바다': 5, '받으며': 6, '완숙': 18, '원산지': 1, '디종': 2, '클론': 5, '과점': 1, '질토': 1, '섬세한시': 1, '적절하게': 1, '레비': 8, '노포': 1, '독특한': 14, '후진': 1, '착한다': 2, '보통': 2, '추수': 1, '12월': 8, '부르데': 1, '인양': 9, '사의': 2, '1999년': 4, '특별히': 1, '한밭': 3, '태양': 4, '아래': 3, '더했다': 4, '어우러졌다': 2, '알리': 5, '숙성했으며': 2, '1012년': 1, '조여오는': 1, '피데스': 1, '달바': 1, '믿음': 4, '체': 7, '사레': 1, '살리고자': 1, '담겨있다': 3, '뿜어낸다': 2, '혀': 2, '감싸는듯': 2, '화려함과': 2, '우아함의': 2, '절묘한': 4, '가입': 3, '둥근': 5, '섞인': 3, '각새': 2, '드롱': 1, '남': 32, '독': 25, '루씨': 12, '글리': 2, '계곡': 1, '정강': 10, '뱅': 3, '튀': 2, '렐': 7, '리브': 4, '걸친': 3, '해와인을': 10, '시선': 28, '끄는이': 8, '르나슈': 28, '르베드르': 5, '묵직하면서도': 2, '15.5': 2, '담근과': 1, '수화': 1, '후부': 1, '드럽게': 1, '복잡한구': 1, '풀하면서도': 3, '운향': 1, '이긴': 5, '대를': 6, '쌓인': 1, '카롤린': 1, '프레이': 3, '시크': 1, '렛드': 1, '자동': 1, '장치': 1, '화산': 1, '미의': 11, '숙성했다': 21, '감싸는': 4, '가풍': 5, '성하게': 9, '차오르며': 1, '제드': 3, '다미': 1, '뛰어들수있도록': 1, '영향': 12, '준자': 1, '기리': 1, '약자': 1, '붙여': 2, '신념': 1, '오는잘': 1, '듯': 19, '꽉차는': 1, '4,000': 2, '벽돌': 1, '구수한': 2, '유연해진': 1, '은진': 6, '점성': 2, '적셔주는': 1, '되었고': 3, '링거': 1, '않았다': 2, '스트라디바리': 1, '웅장': 4, '천상': 1, '소리': 3, '칭송': 1, '바이올린': 1, '스트': 7, '세상': 1, '알리는데': 2, '일조': 1, '인정받게': 1, '비평가': 1, '극찬': 9, '받고있으며': 3, '소더비': 1, '이끌어내었으며': 1, '한약': 3, '가다': 2, '원화': 1, '되어있으므로': 1, '기복': 1, '화할수있는': 1, '장점': 10, '살아있는하며': 1, '미는': 10, '교과서': 3, '몰도바': 15, '장고': 1, '손꼽히는': 2, '페테': 7, '아스카': 6, '하고프': 2, '룬': 1, '소프트': 1, '플러스': 2, '짜여진': 3, '골격': 3, '맛있는': 3, '지루하지': 1, '않게하고': 1, '카르페디엠': 9, '스토리': 14, '스틸컷': 3, '장식': 5, '맞게': 8, '컨셉': 2, '맞는가': 2, '장흥': 2, '표정': 4, '담기게': 2, '만하': 8, '호': 16, '캉스': 10, '단': 6, '라라': 1, '보내는이': 1, '필요한': 1, '문구': 3, '이페': 1, '동유럽': 1, '되는로': 2, '라': 1, '뛰어납니다': 4, '사향': 3, '나고': 2, '미에서는': 1, '체리파이': 1, '핑크레이디': 1, '서늘했던': 1, '2017년': 11, '8월': 20, '시원': 2, '한밤': 1, '일': 7, '교차': 5, '낮은당': 1, '부여': 3, '놀랍도록': 2, '성숙해': 1, '정재': 1, '추출': 6, '팔레트': 4, '짜인': 1, '옷': 1, '입고': 2, '재탄생': 2, '연분홍': 1, '마라': 1, '에스프레소': 2, '지니고있다': 3, '피망': 5, '하였으며': 4, '아메리칸': 9, '산화': 7, '항': 1, '체사': 2, '용하지': 3, '콤포트': 2, '그릴': 9, '일절': 2, '적혀진는': 1, '깊숙한': 1, '자하': 3, '500': 4, '800': 2, '자라난': 2, '만들었다': 9, '까리': 8, '네나': 2, '높은고도': 1, '배트': 1, '섬세하며': 3, '완벽': 1, '까울': 1, '선보여주는': 1, '조량': 2, '갈레': 2, '스트로': 2, '꽉찬': 2, '엄격하게': 1, '한산': 10, '크에서': 3, '13,000': 1, '20,000': 1, '발레': 1, '누오': 1, '지명': 1, '주소': 1, '아니스': 5, '적갈색': 1, '은은하게퍼지는': 1, '채운다': 3, '효능': 1, '가진항': 1, '료': 1, '넣어서': 1, '끓이는': 1, '글': 13, '루바': 6, '건강': 1, '이유나': 1, '개선': 1, '기원전': 1, '500년': 2, '슈': 1, '페트': 3, '버건': 1, '트로링거블렌딩': 1, '95.385': 1, '향료': 1, '따뜻하게': 1, '스칸디나비아': 1, '회복': 1, '예방': 1, '벼룩시장': 1, '가면': 1, '종이컵': 1, '국자': 1, '부어': 1, '파는': 1, '포장마차': 1, '만날수있고': 1, '행사': 10, '항상': 1, '빠지지': 2, '준비': 4, '스틱': 2, '넣은': 4, '티백': 1, '좀더': 5, '편리하게': 3, '마신다고': 1, '대신': 3, '넣어도': 1, '비슷하지만': 1, '나라': 2, '호칭': 1, '다르다': 1, '뮬드': 1, '부른다': 6, '기호': 2, '넣고': 2, '2030분': 1, '겨울캠핑': 1, '장이': 1, '뗌': 3, '니요': 13, '올라온다': 12, '느껴지다가': 1, '후병': 2, '1년': 11, '만들었으며': 5, '전혀': 6, '짧게': 3, '침': 1, '감도는진한': 1, '잔잔한기': 2, '가시선': 3, '감지': 1, '되다가': 1, '이내': 2, '모렐': 1, '시트': 1, '레스': 1, '알수있듯': 6, '가졌다': 1, '싱싱하고잘': 1, '도드라지며': 2, '더해지는': 2, '안은': 1, '주어': 2, '성한': 10, '더한': 3, '비프': 2, '2018': 3, '레딩': 1, '배어나는다': 1, '해발고도': 4, '3540년': 1, '후미': 6, '국산': 1, '숙성해': 12, '뻬스': 1, '여과': 7, '없': 6, '30분': 1, '널말': 2, '벡': 9, '보듯': 1, '아닌말': 1, '강조': 6, '걸': 8, '맞게말': 1, '벡특': 1, '감있는': 6, '느끼게만': 1, '보라색': 5, '대위': 1, '4일': 1, '도를': 5, '펌핑': 1, '유칼립투스': 5, '보여주듯': 1, '월넛': 1, '페라노': 1, '보리수': 2, '또품': 1, '샐비어': 1, '랩': 1, '싫증나지': 1, '않을': 3, '가조': 2, '높지': 4, '선호': 2, '고민': 7, '필요없이': 1, '하길': 4, '더없이': 10, '어울리죠': 8, '또스띠': 1, '200년': 3, '하트': 3, '그려': 4, '더한이': 1, '고백': 7, '나연': 1, '기념일': 2, '올라옵니다': 7, '케이크': 7, '곁들이면잘': 2, '어울리고': 9, '5.5': 3, '즐길수있어요': 11, '에이': 5, '롱반': 2, '시킨': 9, '카모': 2, '미에서': 1, '2019년': 18, '우리': 5, '삶은': 1, '굴곡': 1, '지고': 2, '굽이쳐': 1, '길': 4, '비밀스런': 1, '이야기': 8, '찾기': 1, '어렵지만': 1, '구부러지고': 1, '곡선': 2, '이어가는에서는': 1, '담겨진': 1, '여정': 1, '되기까지': 1, '기대할수있다': 1, '벤': 3, '진판델': 27, '담은듯': 1, '한': 3, '밝': 2, '적당한당': 6, '로럴': 4, '주도하는': 1, '녹색': 4, '끊임없이': 4, '넘치는기': 1, '전해지며': 2, '뛰어나며': 3, '이룬': 5, '관성': 1, '69년': 1, '알': 12, '마는': 3, '벨라': 6, '비스타': 6, '스탠다드': 1, '퀴베': 1, '지어졌다': 1, '골드에디션': 2, '톡톡': 6, '맡을수있는': 1, '품은': 1, '됐다': 5, '달콤하기만': 1, '식감': 1, '여성': 5, '술': 4, '못': 1, '할만': 10, '냉장고': 2, '해마': 4, '칸': 8, '티모': 1, '빛병': 1, '용이': 1, '손색': 5, '없다': 12, '편안하게': 5, '연어': 6, '살색': 2, '보여주며': 5, '경쾌한': 13, '5만': 1, '벨': 2, '인고': 1, '1214': 3, '마시는것이': 2, '살구색': 2, '꼬뜨데로즈': 2, '이름이말': 2, '해주듯이': 2, '아름다운로': 5, '은병': 2, '금박': 3, '바닥': 3, '시각': 3, '더해준다': 4, '싱그러운과': 3, '장미꽃': 10, '는듯': 2, '착각': 2, '들게': 2, '크림슨색': 1, '풍부함이': 1, '담대하고': 1, '신선함': 6, '신대륙': 5, '윤곽': 1, '기계': 1, '나뉘어': 1, '무릴라': 1, '가진리': 1, '만들며': 5, '앙금': 3, '릴라': 1, '몇': 1, '안되는': 1, '남겨': 4, '부드럽지한': 1, '활기찬': 2, '듬뿍': 2, '묻어나며': 2, '남쪽': 4, '정교하게': 1, '만들어지는': 1, '실레': 1, '가선': 3, '뽐낸다': 1, '리기': 4, '뛰어난것이': 1, '바리': 2, '끄로': 1, '레시피': 1, '건강한': 4, '다가오는': 2, '햄버거': 1, '풀뽀': 6, '로꼬': 6, '쁘': 2, '로그': 3, '미친': 1, '문어': 4, '지녔다는': 1, '해석': 2, '정해져있는': 1, '개개인': 1, '다양하게': 2, '변형': 1, '쉽고': 4, '재미있게': 1, '즐기는': 32, '한결': 1, '친숙하게': 1, '다가가겠다는': 1, '의도': 4, '담겨있': 1, '란': 10, '기한': 3, '허용': 3, '유통': 3, '표기': 3, '상품': 1, '유지됨': 1, '용시': 1, '캔': 16, '세련됨을': 1, '강렬히': 1, '라펠데세렌': 1, '고요한': 1, '부름을': 1, '생': 3, '셉아': 1, '근처': 2, '45': 4, '진홍': 2, '빛색': 1, '붓순나무': 1, '잡혀있으며': 1, '느껴지는긴': 1, '느끼게': 5, '5월': 28, '몬드': 7, '리다': 28, '베린': 1, '사위': 1, '1974년': 2, '성장': 7, '이어오고있다': 3, '컬렉션': 3, '필드': 2, '블렌': 2, '스테파니': 1, '퍼트': 1, '넘이': 1, '누리': 4, '르네소비뇽': 39, '확인': 7, '먼저': 4, '해볼': 1, '크리스': 4, '조게는': 2, '전설': 4, '1957년': 2, '리해': 1, '관리': 8, '끌리마': 1, '해쉬': 1, '시켰다는': 1, '받는다': 2, '네프': 13, '하는데': 9, '레샤름므': 2, '매체': 13, '꾸준히': 16, '받고있는': 18, '쉬농': 1, '쌓아': 7, '온': 10, '느껴': 1, '보고': 5, '통과': 1, '골듯': 1, '풍부하고진': 1, '알렉산': 2, '드린은': 1, '북론': 4, '전문': 5, '가세': 2, '이북': 1, '꿈꾸며': 1, '의기': 3, '투합': 1, '해설': 1, '립': 1, '이력': 2, '이모': 3, '화려하다': 1, '폴자불레': 1, '대손': 9, '니콜라스': 5, '불레': 1, '해박': 1, '지식': 2, '숨겨': 1, '진강': 1, '기욤': 1, '가도': 2, '마크': 7, '알렉산드르': 1, '카소': 1, '뛰어난세': 1, '철학': 22, '비오니에로': 2, '드린': 1, '비오니에는': 2, '궁합': 37, '선명하게': 2, '라즈': 1, '이돌': 2, '면서': 6, '하지': 9, '뒷받침': 3, '해주어': 1, '마시고싶어지는': 1, '친': 7, '힙스터': 1, '사하는': 3, '윌리엄': 5, '다우니': 3, '장소': 3, '불문': 1, '더하기': 1, '사랑받고있다': 3, '아중': 2, '주목할만한': 2, '빅토리아주': 2, '스타일리시': 6, '밴드': 1, '활동': 6, '샵': 1, '근무': 1, '빠져들었고': 1, '붙인': 1, '한지': 1, '2006년': 8, '바이오': 14, '다이내믹': 13, '관심': 1, '가졌고': 1, '인간': 3, '개입': 4, '화하며': 1, '캐': 8, '시드': 1, '아는': 23, '아티스트': 9, '인레': 2, '몸바사': 1, '끈다': 3, '인어': 1, '퍼': 1, '골번': 1, '뚜렷한과': 1, '돋보이고': 3, '나며': 1, '발랄한기': 1, '채워주는': 1, '홍차': 7, '과열': 1, '식혀주는': 1, '안개': 4, '구분': 2, '나타날수있도록': 1, '여조': 1, '이룰수있도록': 1, '인하여잘': 1, '어울려져': 1, '이면': 4, '신선한구': 1, '몬테레이': 4, '산타바바라': 3, '한유': 1, '6월': 17, '메이오': 1, '원주민': 4, '언어': 3, '저명한': 1, '인척': 1, '인조': 3, '셉와': 1, '창의': 3, '거뒀다': 1, '드러나도록': 1, '하고': 8, '이후원': 1, '이루도록': 1, '서긴': 1, '아가': 3, '수상': 5, '경력': 6, '찾을만큼': 1, '드까': 1, '97': 3, '찾는다면': 12, '카탈': 6, '리나': 6, '사운': 3, '다양한수': 1, '상경': 2, '인정받은': 4, '대전': 1, '당시': 1, '남태평양': 1, '주요한': 1, '비행정': 2, '모티브': 9, '하늘': 1, '켜준것처럼': 1, '다짐': 1, '담은것이다': 1, '남다른구': 1, '인즈': 12, '코스트코': 1, '할수있으며': 4, '2020': 7, '수상해': 1, '주목': 17, '받고있다': 20, '마시는내내': 1, '산뜻함과': 1, '15일': 2, '햇살': 7, '의결': 1, '마렘': 1, '다리': 1, '토라': 3, '이태리어': 1, '휴양지': 5, '물신': 1, '포르타': 6, '띤또와브': 1, '국유': 1, '쉐프': 1, '로손': 2, '새겨진': 3, '달리': 5, '굉장히': 2, '쥬얼': 1, '전면': 1, '일러스트': 6, '작가': 8, '포르투갈': 22, '외국인': 1, '비친': 1, '일상': 13, '삶': 1, '모습': 29, '담아내어이': 1, '즐길수있는을': 1, '잘살려주고있다': 1, '자스민': 4, '잔테': 3, '대변': 4, '135년': 1, '카를로': 3, '그리노가': 1, '이마리': 3, '한청': 5, '량감': 5, '세미': 8, '판탈레': 1, '섬': 8, '비보': 3, '더하며': 1, '카': 13, '밀폐': 1, '청량': 2, '정취': 6, '그리노는': 1, '그리노에서': 1, '은지': 1, '280350': 2, '해만': 10, '지에': 3, '따라와인의': 1, '2040': 1, '한상태': 1, '58년': 1, '두루': 11, '폴리': 6, '아노는': 1, '출발': 13, '고수': 3, '아노': 7, '부드러운것이': 3, '로쏘': 8, '확해': 3, '느낀에의': 1, '2015년': 5, '미친의': 1, '어로': 1, '발음': 3, '각인': 1, '시킬수있도록': 1, '만들어졌으며': 1, '메인': 6, '건강하고': 1, '단기간': 2, '급속도': 1, '성장하고있는': 1, '아시아': 9, '의선': 1, '주자': 5, '레뱅드': 1, '입증': 1, '미친을': 1, '친근하고': 3, '재미있는': 3, '젊고': 1, '의상': 3, '경쾌하고': 3, '전하': 12, '아이렌': 2, '용했': 1, '고상': 1, '느껴져요': 4, '즐길수있습니다': 6, '에덴': 4, '성격': 2, '이신선': 4, '연결': 2, '보여주는이': 1, '런': 2, '원심': 1, '분리': 1, '블렌드': 6, '뒤병': 1, '입하였다': 1, '하는것으로': 3, '마련': 1, '해주었다': 1, '그랜트': 4, '버지의똔': 1, '스테판스윈': 1, '그로': 1, '포트': 13, '1855년': 3, '째대': 2, '할리데이': 3, '최고점': 1, '받기도': 1, '쏜리': 1, '감도': 6, '갖춰': 14, '페트롤': 1, '피하': 1, '씻어주는': 1, '아시안': 1, '새싹': 1, '신속하게': 1, '옮겨져줄기': 1, '최소한': 6, '압력': 1, '생동': 1, '찌꺼기': 1, '델타': 4, '컴퍼니': 2, '쌩': 5, '클레어': 2, '맷': 2, '톰슨': 1, '마스터': 6, '오브': 7, '데이비드': 1, '닐이봇슨': 1, '미세': 2, '적합하다고': 1, '판단': 1, '과피': 1, '노누': 1, '옮겨': 2, '뇽블랑특': 1, '활': 2, '와중': 1, '감미': 4, '청포도': 9, '패션후르츠': 2, '지니고있어': 1, '24시간': 2, '폭넓은': 1, '인도': 6, '빼놓을수': 5, '보시오는': 1, '보시오': 1, '운영': 17, '돼있다': 1, '1967년': 1, '째이어오며': 1, '현대': 16, '영해': 2, '사랑받는': 4, '트로피': 3, '산뜻하면서도': 3, '갖췄다': 8, '지에서도': 1, '누릴만': 1, '발산': 1, '패션': 4, '프룻': 2, '냄새': 5, '녹아있는': 1, '탄탄하고': 2, '짜릿한': 2, '있으나': 1, '느껴지는당': 1, '완화': 1, '이드': 1, '묘': 1, '부드러우며': 5, '만들겠다는': 2, '실레니': 4, '로마신화': 1, '서술': 2, '바쿠스': 1, '등장': 10, '한실': 1, '혹스': 2, '만드는데': 1, '셀라': 9, '셀렉': 6, '어려운': 4, '많지만': 1, '재사용': 4, '캡슐': 1, '남은': 1, '닫아서': 1, '살아있어': 1, '혼술': 2, '올라와': 1, '서나': 4, '푸르고': 1, '라이트': 4, '이청': 1, '14시간': 1, '푸': 10, '릇': 1, '최대로': 1, '끌어내었다': 1, '무겁지': 7, '않은데': 1, '얄리': 2, '좋은데': 3, '2013년': 6, '대해': 1, '인증': 12, '자연보호': 1, '구역': 2, '습지': 1, '가져왔다': 1, '만들고있다': 12, '카사블랑카': 2, '크드': 1, '냈다': 5, '살육': 3, '가벼운치': 1, '지녔고': 2, '상쾌하다': 1, '글래머': 1, '러스': 1, '메이킹': 3, '엑스트라': 4, '브륏': 3, '블라인드': 5, '싶지만': 1, '부담스럽다면': 2, '샤토': 20, '르트': 1, '도톤': 1, '기술제휴': 1, '맺고있다': 1, '카차포알': 2, '마이': 4, '라펠': 1, '한코': 1, '트롤': 1, '블랑드블': 7, '조방': 5, '2020년': 15, '진가': 2, '인정받고있는': 3, '짙': 2, '띈': 1, '에코': 1, '터질듯': 1, '검게': 2, '두껍고': 1, '감을주고': 1, '어릴': 2, '좋지만': 6, '몇년': 1, '간병': 2, '되면': 2, '깔끔하지만': 1, '몬터레이': 4, '멧츠': 2, '하는것을': 1, '목표': 2, '마다': 3, '블록': 3, '야드': 1, '고스': 6, '구현': 2, '해낸다': 1, '이른': 1, '해사': 8, '용하며': 2, '리버': 10, '뷰': 2, '가감': 2, '합리': 7, '만들어지며': 2, '32': 2, '용함': 1, '밝게': 2, '오르며': 3, '부드럽지만': 1, '믿을만한': 2, '뜨사': 1, '뜨는디': 1, '캔터': 1, '매거진': 2, '신뢰': 7, '수지': 1, '애': 1, '2010년': 6, '생떼': 3, '밀리': 4, '옹그': 1, '살렸다': 3, '50년': 7, '그리고긴': 2, '이탈': 2, '아샤르': 2, '아르지': 3, '1918년': 2, '꾸준한': 2, '투자': 4, '성장했다': 2, '영향력': 3, '감베': 4, '여러': 2, '냥': 2, '리나로': 1, '이즈': 2, '쏠리': 1, '나스': 3, '색다른': 3, '기억': 4, '할수있을것이다': 2, '가진이': 3, '렘블레': 1, '날씨': 8, '금세': 1, '바뀐다': 2, '풍부하고구': 2, '살아있는과': 1, '되었을': 1, '중요시': 2, '샤도네특': 1, '올린다': 2, '정상': 2, '만찬': 1, '1972년': 3, '연구': 4, '찾아냈다': 1, '올렸다': 1, '조감도': 2, '가자미목': 1, '뉴욕': 1, '스트립': 1, '가함께': 3, '됐으니': 1, '참고': 1, '어울리니': 6, '추석': 20, '해주며': 3, '오는': 6, '하이랜즈': 2, '파의': 1, '쌓은': 8, '베이커': 1, '책임지고있는': 1, '오퍼스': 2, '잘알려져있으며': 2, '해볼수있다는': 1, '본연': 7, '돋보인다': 6, '뛰어난테': 1, '루아': 20, '냈다는': 2, '풀하게': 1, '오트쿠튀르': 1, '레파셀레르드쏘': 1, '뫼르소': 1, '르끌레르': 1, '브리앙': 1, '벨빌': 1, '샤또드': 1, '꼬마': 1, '렌': 3, '유주': 3, '오가': 3, '들과의': 1, '파트너': 2, '십': 4, '단독': 2, '해테': 3, '레파셀레르드': 1, '쏘의': 1, '쥬브리샹베르탱': 1, '94': 4, '론칭후': 1, '올가을': 3, '신규': 2, '서클': 3, '알렉산더': 7, '장개': 1, '알려져있으며': 1, '꼬샤': 1, '써클': 1, '키라': 1, '임의': 2, '는바': 6, '레스코': 3, '페바': 2, '코로': 1, '않으면': 1, '도드라지고': 1, '멘솔': 3, '계속': 4, '잡미': 2, '진하면서': 1, '단순히진': 1, '되어진하면서도': 1, '몬': 10, '타노의': 1, '다양성': 5, '타노에': 2, '보데': 17, '기하학': 1, '건축물': 1, '광고': 2, '촬영': 2, '타노는': 1, '국경': 1, '접': 3, '피레네': 1, '소모': 1, '스리': 1, '제르': 22, '진하면서도': 2, '이뤄': 2, '받을수있다': 1, '코리아': 2, '챌': 3, '린지': 2, '은상': 1, '이어지고있다': 1, '대담하고': 1, '올리': 5, '르플레': 5, '지키고있는': 2, '엔트리': 5, '2018년': 8, '본': 1, '꼬뜨샬': 1, '송로버섯': 1, '모던': 6, '1930년': 2, '받는바': 1, '등세': 1, '인정받고있으며': 1, '감히': 1, '수용': 1, '선보이고있다': 3, '그리말디': 1, '당당한구': 1, '강렬': 2, '섬세함까지': 1, '이풍': 2, '고진하': 1, '한구': 1, '조를가지고': 1, '슬로베니아': 10, '티나': 5, '비냐': 3, '리엘': 1, '오페': 1, '르티': 2, '나체': 2, '교외': 1, '페르': 2, '1973년': 1, '명의': 1, '철저히': 2, '초기': 2, '후선': 1, '빠른': 3, '해신': 2, '선함을': 1, '30일': 2, '과거': 5, '절도': 3, '화폐': 3, '위조': 3, '중혼': 1, '범죄': 4, '리스트': 4, '죄목': 1, '범죄자': 2, '아일랜드': 5, '통치': 4, '반대': 2, '강제': 3, '형벌': 4, '내렸다': 1, '펼쳤고': 1, '구글플레이': 1, '앱스토어': 1, '어플': 1, '다운': 2, '들을수있다': 1, '죄수': 1, '출신': 9, '사법': 1, '보좌': 1, '관인': 1, '1871년': 1, '래서': 1, '어울릴것': 2, '델': 10, '보스': 5, '프란치아': 10, '코르': 13, '타의': 5, '다년': 2, '근면함': 1, '열정': 6, '기다림': 2, '결과': 1, '차있다': 1, '돌': 1, '부의': 2, '흥취': 1, '우조': 1, '신선하여': 1, '굉장한': 1, '가져가': 1, '놀랐지만': 1, '필자': 1, '마신': 2, '익숙해졌고': 1, '아쉽게': 1, '뿜': 1, '져': 4, '로다이': 3, '분포': 1, '찾아': 1, '헤매던': 1, '높아': 2, '굵게': 1, '구불구불해진': 1, '의근': 1, '육질': 4, '서퍼': 1, '같다는': 1, '생각': 10, '들어를': 1, '외쳤고': 1, '날리': 3, '헤드': 4, '날리라는': 2, '델리카토': 4, '허가': 2, '필요하다': 1, '잔판델': 1, '지녀': 3, '떫': 2, '어울리지만': 1, '드바인진판델': 3, '바베큐': 1, '될만큼': 3, '11월': 9, '선두': 5, '1924년': 3, '발돋움': 1, '로디': 5, '된이': 13, '판델': 24, '큰한': 1, '오를만큼': 1, '빛로': 2, '우아하게퍼지는다': 1, '탄탄': 2, '리티등': 1, '세니에': 1, '들어': 2, '1808년': 2, '태양열': 1, '지붕': 1, '얻은': 5, '에너지': 4, '이산화황': 4, '이적': 4, '드골': 1, '대통령': 3, '산업': 5, '디자이너': 4, '필립스': 2, '탁': 3, '등유': 3, '라피': 5, '선명하고': 1, '농도': 2, '뒷맛': 4, '카타르항공': 1, '비즈니스클래스': 4, '캐러멜': 8, '풍부하고긴': 1, '주는주': 1, '1981년': 2, '포트와인': 16, '1886년': 1, '이어오며': 3, '재정': 1, '교체': 1, '여러가지': 1, '해성': 1, '재는': 1, '도스': 2, '영역': 1, '쌀쌀한': 2, '용량': 21, '므': 5, '짚': 1, '내는': 4, '까잘': 3, '오래되고': 1, '300': 7, '공작': 1, '해탈': 1, '한역': 1, '사가있으며': 1, '개국': 6, '규모': 6, '임을대': 1, '변하며': 1, '들이': 6, '속성': 2, '화하기': 3, '극대': 4, '짠다': 1, '통후': 1, '뉴': 16, '트럴': 1, '아마로': 6, '이어오고있으며': 1, '화학': 6, '비료': 5, '않는오가': 1, '공법': 2, '인지': 2, '피에로': 2, '부인': 1, '세명': 1, '느낌을전한': 1, '푸르': 5, '곷': 1, '보여질': 1, '않게': 3, '발렌시아': 8, '륙': 2, '한우': 2, '700900': 2, '경작': 2, '강력한': 2, '안정화': 3, '창조': 2, '불리': 6, '50만': 1, '아이스와인': 9, '달콤하게마': 1, '무리하고싶다면': 1, '도미': 2, '오데라': 2, '베가': 2, '바를': 2, '마카베오': 6, '이뤄질리지': 1, '않는다는': 1, '디엔드': 1, '연말': 13, '레드애플': 1, '운배': 1, '첫인상': 4, '3.5': 1, '계승': 2, '하는것도': 1, '무세': 1, '뮈니': 2, '잠재력': 12, '1629년': 1, '걸쳐': 9, '해왔고': 1, '탄소': 1, '배출': 2, '화하는': 2, '신재생에너지': 1, '활용': 5, '듀진블': 1, '랑드': 1, '유진': 2, '무세의': 1, '정신': 6, '보석': 4, '붙였다': 3, '오르고자': 1, '서우러': 1, '복잡한과': 1, '국민': 3, '엘꼬또': 2, '데리': 3, '오하': 1, '은행': 1, '뱅크': 1, '유니온': 1, '합작': 4, '적극': 5, '첨단': 2, '해일': 1, '시키며': 1, '크리': 3, '안자는': 1, '수시': 1, '장사': 2, '잘알려져있다': 2, '루돌프': 1, '사슴': 1, '제의': 4, '돌체토': 3, '재발': 1, '효': 2, '용하였다': 1, '같은시': 1, '청량한기': 1, '조화로워': 3, '많은이': 3, '물씬': 4, '부': 8, '티노': 5, '본사': 1, '둔와': 1, '인전': 1, '문공': 1, '급사': 2, '곳곳': 2, '조달': 1, '해와': 1, '이부': 1, '참여': 4, '풍부한기': 3, '톡': 13, '쏘는듯': 1, '달다는것이': 1, '달콤함을': 5, '즐': 6, '기기': 6, '전해진다': 7, '거칠지': 4, '라마': 2, '옷감': 2, '만드는실': 1, '올을': 1, '마르코폴로': 2, '실크로드': 2, '비단': 2, '동양': 2, '물품': 2, '풍습': 2, '베니스': 2, '온것을': 2, '에밀리아로마냐': 8, '보떼르': 2, '네그로': 2, '산지오': 10, '세가지': 3, '시설': 4, '만드는실을': 1, '붉은실로': 1, '된것처럼': 2, '인연': 4, '주며': 5, '맴돌고': 1, '맞아': 3, '2021년': 17, '1월': 8, '쉐': 1, '1970년': 3, '선보였다': 1, '선구자': 8, '헤리티지': 1, '브진판델': 1, '적당하며': 2, '되는가': 1, '해보자': 1, '감속': 1, '테두리': 2, '귀부인': 1, '고상함이': 1, '달콤함의': 1, '토카이': 7, '샤또데레': 1, '600년': 1, '타기': 1, '아름다운당': 1, '이숙성': 1, '르쉬': 1, '스캇': 2, '고상한': 1, '시키지': 1, '퍼지며': 2, '점잖게': 1, '트렌치코트': 1, '소의': 4, '해인': 1, '새해': 7, '해야': 7, '작년': 3, '초': 3, '젠틀': 1, '아라곤': 1, '큰와': 1, '인산': 2, '적힌': 1, '소중함을': 1, '알려': 1, '진하': 1, '갈비찜': 8, '항정': 1, '풀내음': 2, '글라스': 8, '채우며진하면서도': 1, '셉': 6, '자와인': 6, '걸고': 3, '정교함': 1, '접근성': 2, '든이': 2, '구대륙': 3, '고루': 3, '이강': 3, '한음': 2, '한식': 18, '푸아그라': 2, '카탈루니아': 1, '블랑카그르나슈블': 2, '든진한': 1, '주황': 3, '띄는': 1, '마말레이드': 1, '제법': 4, '간의': 4, '와잘': 1, '카스': 9, '텔': 15, '내추럴': 31, '철저한': 3, '비오디': 3, '나미': 3, '해아주': 1, '해낸': 4, '데스': 7, '푸야데': 1, '스포': 1, '강수량': 1, '449': 1, '14일': 1, '청징': 1, '순수한자': 1, '연주': 2, '쥐는': 1, '부터': 4, '유기농법': 6, '해하': 1, '주의': 2, '선구': 8, '주었다': 2, '꼽히는이': 1, '불꽃': 2, '산후안': 2, '멘도사': 1, '폴': 3, '홉스': 1, '맡고있으며': 2, '부싯돌': 2, '불씨': 1, '만들었던것처럼': 1, '페더널': 1, '점수': 6, '버번': 8, '가져다주는': 1, '조시에는': 1, '버번위스키': 2, '용하였으나': 1, '시판': 1, '하지못하였다': 1, '실험': 5, '위스키': 3, '입혀진': 1, '지드': 2, '열풍': 2, '이끈': 2, '주역': 1, '막': 6, '트러플': 2, '이지남': 1, '오르는': 5, '둥글게': 1, '채워지는': 2, '생그': 1, '랑그': 11, '260': 1, '이어오고있는': 7, '해포': 4, '엘': 3, '몰리는시라': 1, '와그르나슈누': 1, '를블렌딩했다': 2, '입해': 1, '6천': 3, '심오하며': 1, '비범함을': 1, '훌륭한시라': 1, '찾을수있는': 1, '전개': 1, '대하': 1, '채우되': 1, '대단히긴': 1, '컬트': 4, '설명': 3, '필요없을만큼': 2, '잘알려진': 7, '어리석음': 1, '중턱': 1, '깎아시라': 1, '심었을': 1, '가능성': 3, '믿지': 1, '않고던진말이다': 1, '당당하게시라': 1, '뛰어난시라': 1, '맞은': 2, '짙고': 2, '마셨을': 2, '푸룬': 1, '사르데냐': 2, '사시까': 1, '아코': 1, '모타': 2, '지중해성기후': 2, '내리쬐고': 1, '해풍': 4, '이불': 9, '나노': 3, '쉽게만': 2, '나기': 2, '힘든': 2, '박력': 1, '부드럽고도': 1, '가모': 2, '몬도델': 1, '비노': 3, '주얼': 5, '자연스러운당': 1, '높게': 1, '않는것이': 1, '정통': 5, '된치': 2, '투명한로': 1, '워셀': 1, '러즈': 1, '병입등': 1, '인내': 1, '포착': 1, '담았다': 9, '카나페': 2, '떡볶이': 5, '메우며': 1, '한도': 6, '멘라': 3, '파주': 6, '합해': 3, '인장': 1, '마르크': 1, '플로': 2, '랄': 4, '할수있듯': 2, '뮈스카텔': 2, '95': 3, '가봄': 1, '힙': 4, '플라워': 2, '은은하게퍼진다': 2, '은로': 3, '산타크루즈': 2, '한보': 3, '그리드': 1, '봄철': 1, '격식': 2, '구애': 1, '받지': 1, '그르나슈': 13, '그르나슈블': 2, '샌드위치': 1, '빈치': 2, '크리스탈': 1, '보여주기': 2, '외한': 1, '레오나르도': 4, '다빈치': 3, '칸티': 6, '1961년': 1, '레다': 4, '로사': 5, '용했으며': 1, '블라썸': 3, '말린과': 4, '백장미': 1, '화사하다': 1, '숭': 1, '이입': 1, '매끄럽게': 1, '카레': 2, '55': 4, '가벼': 1, '이확': 1, '올라오면': 1, '커짐': 1, '주말': 1, '괜찮을듯': 1, '오일': 2, '어울릴듯': 2, '영빈': 1, '대에': 4, '루카': 5, '드러낼수있는': 1, '용하는것이': 1, '담는다': 1, '팜므파탈': 1, '와인잔': 2, '부티크': 5, '판넬': 3, '지향': 7, '5천': 1, '과육': 2, '둥글면서': 2, '리뇨': 3, '빠': 2, '소씨': 1, '갈라시아': 1, '사스': 7, '중심부': 2, '등핵': 1, '돋보이면서도': 1, '가볍지만은': 1, '않다는것이': 1, '디시': 3, '옹': 7, '상황': 1, '잡혀있': 1, '고산': 1, '개빈티': 1, '자란두': 1, '1968년': 2, '보아': 5, '자녀': 2, '가업': 3, '나른한': 2, '깨우고싶은': 1, '오렌지색': 2, '익숙한': 3, '차내음': 1, '이난': 1, '쟈': 1, '스민': 1, '마시는것을': 1, '쉔': 3, '호프': 3, '홀': 2, '져에서': 3, '해온': 9, '로터': 1, '용하고': 1, '이아몬드': 1, '가장자리': 1, '이감': 1, '꽃잎': 4, '들어가있는리': 1, '쿼': 1, '지중해': 5, '건강하게': 1, '살린것이': 1, '에네미': 2, '의적': 2, '훔쳐': 1, '먹으러': 1, '얄미운': 1, '끄는': 9, '미오는': 1, '로나': 2, '출몰': 1, '따먹는': 1, '호가': 3, '살렸으며': 2, '어우러지고': 1, '재치': 1, '친근한': 5, '가길다': 1, '에밀': 3, '에밀리': 1, '의퀴진': 1, '볼수있으며': 1, '거부': 1, '신비로운': 1, '치는': 2, '1938년': 1, '오텔로': 1, '후손': 2, '현재세': 2, '잡았다': 1, '달이': 1, '어렵게': 1, '느끼는이': 2, '들도': 6, '백도': 5, '커드': 1, '크래커': 2, '매끄럽고': 3, '더해주고': 1, '체감': 2, '더해주는': 2, '즐겁게만': 1, '자의': 2, '포르투': 4, '도우': 4, '분류': 5, '앤': 6, '크론': 1, '흔하지': 4, '돼': 3, '끌었다': 1, '갖췄으며': 4, '채워놓은': 1, '물상': 1, '치아': 1, '치아나는': 1, '러시안': 7, '오르고': 1, '서히퍼진다': 1, '풍만하며': 1, '남미': 2, '이선': 1, '까사': 1, '토키': 2, '롤란': 1, '이름을내세운만큼': 1, '자부심': 5, '까르미네르': 1, '마터': 1, '라벤더': 5, '프루츠': 1, '더해진다': 4, '둥글고': 2, '감있으면서': 1, '보여주는로': 1, '보틀': 33, '느낄수있는로': 1, '레미': 1, '야후': 1, '빅': 1, '보인': 2, '자비': 1, '아베': 1, '존': 1, '맛본': 1, '생명력': 1, '배등': 2, '흰과': 1, '신선하면서': 1, '쨍': 1, '경쾌하고리': 1, '이오': 4, '1858년': 2, '행보': 2, '바스크': 1, '오냐티': 1, '라비': 3, '주리': 1, '까베르네쇼비뇽': 3, '젠': 1, '달콤하고진': 1, '보글': 3, '일관': 2, '잡은': 2, '송아지': 1, '고플': 1, '럼잼': 1, '성하게하며': 1, '맛보기': 1, '68년': 1, '낮고과': 1, '인정받기': 1, '인빈': 1, '센테': 1, '파리아': 2, '은비': 3, '베르데': 8, '루레': 2, '아린': 2, '가정': 2, '티함': 1, '이어오고있는아리': 1, '망': 3, '고향이': 2, '수로': 1, '즐길수있는것이': 2, '조화로우며': 1, '인조화': 2, '캐년': 1, '선보이며': 3, '사랑받고있는': 1, '다가오며긴': 1, '비도': 4, '브라더스': 5, '들었으며': 4, '새벽녘': 1, '함께잘': 1, '지브리': 2, '멘하고에서': 1, '1760년': 2, '꼽힐만큼': 2, '해지': 1, '인증서': 2, '획득': 2, '드러나는': 7, '향기롭게': 1, '풍부함을': 1, '메디치': 5, '에르': 13, '메테': 2, '원중': 4, '람': 8, '브루스': 13, '메테는람': 2, '대가': 2, '통칭': 1, '은감': 1, '이탈리안': 1, '12년': 1, '수상한': 4, '아름답고': 4, '토레스': 10, '신작': 1, '알리는': 5, '데크': 4, '공헌': 4, '1979년': 1, '중시': 1, '즐기거나': 3, '가득하며': 2, '열대': 5, '살리고아': 1, '높인': 2, '스테이': 7, '남서쪽': 1, '본래': 1, '민': 2, '불린': 2, '심기전': 1, '불을놓았던': 1, '파이어': 1, '붙었다': 1, '즐길수있고': 5, '노란과': 1, '200': 3, '은발': 2, '뀌베를블렌딩': 2, '북동': 1, '일어나며': 1, '그레이': 1, '프푸르츠': 1, '감싸진': 1, '즉시': 1, '컨트롤': 1, '넣지': 3, '선명한과': 1, '불': 5, '그을린': 1, '참나무': 2, '입체': 2, '활기': 4, '더하고': 1, '부드러워진': 1, '채우며긴': 1, '테메큘': 4, '만들어진이': 2, '탁월하게': 1, '드문': 1, '두드러지고': 1, '음회': 1, '누리고있다': 5, '류등': 1, '곁들이면': 6, '발견': 10, '이었습니다': 1, '백화점': 2, '무역': 1, '센터': 1, '구매': 3, '머물러있던': 1, '독창': 4, '콘텐츠': 1, '맺고': 1, '돋우며': 1, '돋보이는것이': 1, '감돌고': 1, '만들어내며': 2, '구아바': 2, '초록색': 2, '발랄함을': 1, '감을주는': 1, '조합': 8, '스뮤': 1, '비드': 1, '1927년': 1, '동부': 3, '고등': 1, '이여름': 1, '떠올리게': 1, '미세한기': 2, '슈냉블': 11, '프랑': 7, '따라오는': 1, '사랑스럽다': 3, '한기': 2, '되는고': 1, '레망': 11, '1만': 1, '5천년': 1, '진심': 1, '웨스트': 5, '작': 2, '의대': 1, '중화': 2, '민감하고': 1, '까다로운': 1, '산타': 6, '루시아': 1, '하이랜드': 1, '호박': 4, '풍긴다': 1, '주정': 4, '강화': 4, '샤또롱': 1, '트앙브레': 1, '48': 2, '인호': 1, '박색': 1, '성숙': 1, '올라간': 1, '68': 2, '차가운': 3, '링해': 3, '즐길것을': 2, '콰투': 1, '느껴지는것과': 1, '희귀': 1, '사라져가고있는': 1, '바꿀': 1, '올라가': 1, '품목': 1, '중주': 2, '하는것처럼': 1, '서로': 5, '끊': 1, '엄': 1, '넘치는과': 3, '로벨': 1, '이양': 1, '중환': 1, '찾아내었고': 1, '마타로': 3, '르나슈를블렌딩': 4, '화려한듯': 1, '익은듯': 2, '맛보고싶은': 1, '지낸': 1, '부드럽고긴': 1, '주는것': 1, '잊을수': 2, '스몰': 1, '타운': 1, '1993년': 2, '색채': 1, '없을만큼': 1, '해맛': 1, '달콤새콤함': 1, '굴': 2, '살아있고': 1, '섞여있다': 4, '서호주': 2, '신흥': 3, '마가렛': 2, '아멜리아': 1, '파크': 1, '수상했고': 2, '메달': 1, '휩쓸': 1, '느껴지는이': 3, '밸러': 1, '나면서': 2, '머물며': 1, '묻어나는': 1, '가길게': 1, '엠샤': 4, '데샹': 2, '한정판': 5, '럭셔리': 3, '마리아': 4, '사람과': 2, '소중히': 1, '여기는두': 1, '하얀과': 1, '압도': 2, '뷔': 2, '멋지다': 1, '근사하다라는': 1, '가지고있는데': 1, '새': 7, '부리': 2, '느낄수있을만큼': 2, '열꽃': 1, '고소하고': 1, '적당한도': 1, '사지': 1, '쌉싸름한긴': 1, '삼': 1, '페인': 1, '모나스': 11, '트렐': 11, '알리칸테': 5, '쉬하': 1, '신선하': 1, '관광객': 2, '이하': 1, '내려가면': 1, '햇볕': 1, '태닝': 1, '피부': 2, '변한다': 1, '감을주고긴': 1, '만사': 7, '가스': 8, '피케': 1, '폭염': 10, '마시고싶은': 12, '하는까': 2, '뻬레': 1, '뚜': 2, '선보였고': 2, '정해진': 1, '근사하게만': 1, '들어줄거예요': 1, '무더위': 12, '브루노': 2, '흐그': 1, '채워주고': 1, '훈제': 4, '스프링롤': 1, '어울려요': 11, '청정': 2, '태즈매니아': 2, '데블': 3, '코너': 3, '브라운': 1, '경치': 2, '서도거': 1, '센': 1, '험한': 1, '파도': 1, '몰아쳐': 1, '담았죠': 2, '느낄수있어요': 12, '체치': 1, '항공': 3, '제휴': 1, '이뤄요': 2, '가진주': 1, '높은주': 1, '느낄수도': 1, '있지만': 3, '그렇지': 1, '알마': 1, '냑': 1, '피로': 1, '풀어줄수있어요': 1, '남기죠': 1, '희': 1, '즐기는것도': 1, '안주': 3, '좋기': 2, '과식': 2, '않을수있다는것도': 1, '열대야': 1, '꿀잠': 1, '도와줄수있어요': 1, '스페셜': 13, '보내고싶다면': 2, '송': 1, '해보세요': 9, '260년': 1, '1900년': 4, '블랙리': 1, '베당': 1, '탕': 1, '생소': 3, '마르티노': 4, '등테': 2, '고집': 1, '쌩소': 2, '나하': 1, '항아리': 1, '좋아요': 24, '회': 5, '어울립니다': 29, '아파시': 3, '멘토': 4, '한농': 6, '밀': 2, '카잘': 2, '파르': 2, '늦춰': 4, '건조해': 2, '어울리': 3, '고호': 1, '간단한': 6, '곁': 4, '네가지': 4, '하모니': 2, '프로듀서': 2, '프로': 3, '덕터': 1, '세가지를': 1, '슈퍼': 8, '했습니다': 10, '소프라노': 1, '알토': 6, '테너': 1, '음역': 1, '코러스': 1, '이루고있죠': 1, '화할수있어요': 1, '드샹': 1, '세니는': 1, '망중': 1, '율': 2, '할만큼': 6, '오빌': 1, '조셉데뤼': 1, '1888년': 1, '차세계대': 1, '전후': 1, '본격': 1, '셉데': 2, '했': 1, '고현재': 1, '이어가고있다': 1, '식물성': 2, '재활용': 1, '입하': 2, '블랑드콰': 1, '아는지': 1, '역내': 1, '사라져가는': 1, '쁘띠메슬리': 2, '노블': 1, '한눈': 6, '제프': 3, '천재': 3, '근사하다는': 1, '인의': 3, '트생': 1, '컬래버레이션': 2, '마시며': 2, '충전': 1, '포트폴리오': 1, '로시': 2, '산뜻한람': 1, '감덕': 2, '즐길수있죠': 3, '유일한람': 1, '직': 1, '스럽습니다': 1, '메이': 3, '서부': 2, '프론': 1, '튼': 1, '한파': 3, '성향': 1, '화해테': 1, '깊': 1, '담아내고있습니다': 1, '가벼워': 1, '토마토': 5, '보여줍니다': 17, '시스템': 2, '갖추고': 4, '주력': 1, '있죠': 14, '리마': 2, '장미계': 1, '받을수있을거예요': 1, '빛잎': 1, '멘시아': 2, '노틴토': 1, '에스': 1, '파데이로': 1, '만족': 4, '시킬만': 3, '식히기': 1, '청량한': 7, '패키징': 1, '선보여': 1, '튜브': 1, '좋죠': 6, '삼계탕': 11, '어울리는은': 5, '담백한': 1, '국물': 2, '카탈루냐': 5, '스콘': 1, '카빈': 1, '자렐': 3, '빠레': 1, '야다': 2, '가득해': 1, '해줍니다': 2, '대륙': 4, '성장한': 2, '실천': 7, '잘알려져있죠': 2, '사랑받고있는이': 1, '화해': 1, '담백하면서도': 1, '느낄수있어': 1, '비파': 1, '수스': 1, '불라': 1, '의인': 3, '삼풍': 1, '미와도': 1, '어우러집니다': 1, '정부': 4, '가공': 1, '호의': 1, '하비에르': 1, '니니': 1, '이스마엘': 1, '잘로': 1, '조학자': 2, '피에르': 3, '밀르': 1, '멘과': 1, '협력': 3, '2001년': 2, '있어요': 15, '돋보입니다': 4, '보양식': 9, '랜드마크': 4, '아예': 1, '아보': 1, '느껴지고긴': 1, '이루죠': 2, '깜찍하고': 1, '더롱': 2, '리틀': 1, '짧은다리': 1, '와긴': 1, '허리': 1, '도도한': 1, '닥스훈트': 2, '귀여운': 4, '받고있는이': 2, '장먼': 1, '저런': 1, '칭': 1, '콜롱': 2, '와우': 2, '니블': 2, '다가가기': 1, '쉬운': 2, '이번': 2, '깜찍한': 1, '즐길': 13, '콘': 1, '토로': 4, '감돌기': 2, '별다른안주': 1, '익숙하지': 1, '않은이': 2, '다가갈수있다는': 1, '유페': 1, '부르': 3, '그리스어': 1, '남동쪽': 4, '살렌토': 5, '반도': 2, '지키기': 1, '네로': 5, '숙성한이': 1, '비건': 3, '자스크': 1, '소바': 1, '닿지': 1, '않은이란': 1, '1720년': 1, '엘더': 1, '느껴집니다': 8, '핵': 4, '깨끗함을': 1, '곁들여도': 8, '연인': 6, '귀엽고': 1, '한글': 2, '들어오지': 1, '않나요': 3, '영어': 1, '테로': 3, '스캣': 3, '퍼져요': 1, '생크림': 1, '코르크': 5, '상단': 1, '랜덤': 1, '스마일': 1, '얼굴': 2, '만날수있어요': 1, '다재다능한리': 1, '리버사이드': 1, '휘발': 1, '성풍': 1, '어우러져요': 1, '입문': 5, '어렵지': 1, '다가갈수있는': 1, '지애': 3, '역사상': 1, '연안': 1, '만들어진것으로': 1, '무르베드르': 3, '야생화': 1, '바캉스': 1, '라몬': 4, '빌바오': 4, '비우라': 2, '선보인로': 1, '독보': 3, '조화롭습니다': 2, '애피타이저': 2, '채소': 2, '스시': 3, '하이엔드': 2, '에페': 1, '베세': 2, '라드': 3, '퐁은그랑크뤼': 1, '1843년': 1, '엘리제궁': 1, '지정': 1, '찬주': 1, '파리해방': 1, '해왔으며': 2, '숍': 1, '퐁블루브뤼': 1, '자유': 1, '캐논볼': 6, '무릎': 2, '안고': 2, '뛰어내리는': 1, '다이빙': 4, '주변': 3, '튀는것처럼': 2, '보다': 3, '알릴수있길': 1, '앤젤스': 1, '카우': 1, '보이즈': 1, '감도는로': 2, '한에': 1, '모': 4, '프란체스코': 1, '친자': 1, '백작': 1, '직접투자': 1, '확후': 1, '한무': 1, '봄바람': 16, '마실와': 1, '인이라면': 1, '주잘': 1, '펠리셔': 2, '계유': 2, '종종': 2, '볼수있는': 1, '펜카': 2, '로우': 4, '뛰어나고과': 1, '바뀐': 1, '등대': 2, '지켰던': 1, '메리제인': 1, '베넷': 1, '담았어요': 2, '임원': 1, '높은걸': 1, '카니': 2, '미술': 2, '산드로': 1, '인파': 1, '쎄리': 1, '남깁니다': 6, '찰스': 2, '스미스': 2, '뮤지션': 3, '즐길수있으면서도': 1, '담겨있죠': 1, '쿵푸': 1, '걸은': 1, '꼴리에': 2, '오가네이는': 1, '가네이': 1, '꼽히죠': 5, '리알토': 1, '하고싶을': 3, '느낄수있죠': 7, '뛰어드는': 1, '알리겠다는': 1, '담겼어요': 1, '사로잡는': 2, '스낵': 5, '다양한안주와': 1, '되고있는': 5, '볼랭': 1, '될거예요': 12, '된만큼': 1, '높죠': 1, '꼴은': 3, '프랑스어': 5, '학교': 4, '꼴': 1, '41': 3, '개조': 2, '왈라왈라': 2, '해전': 1, '바삭': 3, '세븐': 2, '힐스': 3, '서초': 1, '창기': 1, '케이시': 1, '맥': 3, '클레': 2, '만들수있다는': 1, '알아보고': 3, '상쾌함과': 1, '글씨': 4, '인정받았죠': 3, '아는잘': 1, '이룹니다': 6, '깔끔하고긴': 1, '진정한': 2, '수탉': 2, '띄는이': 1, '분석': 1, '잘맞는': 1, '식재하고': 1, '최신': 2, '아름다워요': 1, '링크': 2, '인터내셔널': 3, '존경': 7, '미보다는': 1, '아이콘': 6, '미르': 1, '오직': 2, '작황': 2, '수량': 3, '1850년': 4, '데일': 3, '제너': 1, '소통': 1, '용했고': 2, '춘곤': 7, '증': 8, '규범': 1, '북': 4, '올린것으로': 1, '바포레토': 1, '베네치아': 2, '버스': 2, '시원한운하': 1, '풍경': 4, '상상': 2, '만끽': 10, '백의': 1, '돌아온': 1, '참잘': 1, '기센': 2, '주죠': 2, '찾는이': 1, '들에게도': 2, '새롭': 1, '게리': 4, '뉴얼': 1, '더해주네요': 1, '그리지오의': 1, '1500': 3, '여개': 1, '짜': 2, '코로나': 2, '트렌티노': 5, '알티': 1, '만들었어요': 2, '떨쳐': 1, '버리기': 1, '뷔르츠트': 5, '꼽힌': 2, '유명하죠': 7, '꽃밭': 1, '이어집니다': 3, '센티': 1, '운장': 1, '밋빛': 1, '조화롭죠': 1, '돋우고싶을': 1, '리소토': 2, '식탁': 3, '카디': 1, '증기': 1, '관로': 1, '않는것은': 1, '이고태': 1, '양광': 1, '콜로': 1, '니노': 1, '성하며': 1, '유연한': 3, '깨워주는': 1, '미세먼지': 9, '가심': 5, '홈술': 14, '비소': 3, '미세한': 3, '우아하며': 1, '잊고': 1, '펫낫': 10, '용지역': 4, '해랑': 1, '스타덤': 1, '들었죠': 3, '토지': 1, '용했어요': 3, '튀김': 4, '부드러운치': 1, '믿고': 2, '전환': 13, '도멘루': 2, '대도': 2, '째이어': 1, '왔죠': 1, '라무': 2, '통니': 2, '조림': 4, '오리건': 4, '외출': 1, '하지못하더라도': 1, '집안': 2, '낼수있어요': 1, '있다면': 1, '가능하죠': 1, '비하면': 1, '적지': 1, '꼽히고있고': 1, '케리': 1, '유토피아': 1, '풀기': 1, '즐기며': 6, '핀': 2, '카바': 12, '카라': 2, '받았어요': 1, '고래': 1, '애칭': 3, '이상향': 1, '부드러운과': 1, '콜린스': 3, '파블로': 2, '끼': 5, '오후': 1, '떠오르는': 6, '카렐': 1, '어림': 1, '잡아라는': 2, '들었다': 4, '않은것이': 1, '생물': 1, '벚꽃': 11, '필': 8, '무렵': 6, '이을': 15, '꽃처럼': 1, '화사하고': 3, '타는': 16, '의현': 1, '대사': 1, '바꾼': 1, '과언': 3, '아니에요': 2, '1995년': 4, '라스트': 1, '따왔고': 1, '그려져있죠': 3, '레카': 1, '니코': 2, '봄꽃': 1, '만발': 1, '이필': 1, '즈음': 1, '옷차림': 1, '나볼': 1, '없었던': 1, '해보는건': 3, '싱그러운이': 1, '갈비': 9, '루레이': 1, '와알바리뇨': 1, '매끈한': 6, '넘치는로': 1, '일본어': 1, '있는데': 6, '있는로': 2, '데이지꽃': 1, '반적': 2, '끄네요': 2, '순수': 4, '찾아온것': 1, '깜빠': 1, '노달바': 1, '라모': 2, '이보': 2, '있을까요': 1, '불러도': 1, '좋을만큼': 3, '도츠': 2, '여주': 1, '이루며긴': 1, '피는': 1, '계절': 2, '고급스럽고': 3, '우아한로': 1, '넓은자': 2, '가포': 2, '해명': 1, '얻고있어요': 1, '썸': 6, '중이': 4, '2021': 2, '상수': 1, '썸남썸녀': 1, '가함께하는': 1, '달콤하게만': 1, '들어줄': 6, '경쾌하게': 1, '터지는': 1, '시켜주죠': 1, '지알로': 2, '갖췄어요': 2, '수상하는': 2, '발전': 4, '받고있죠': 3, '일보': 1, '컨슈머': 1, '리포트': 1, '을제': 3, '퀴': 4, '케토': 7, '곱다는게': 1, '선보이는이': 1, '아랄': 1, '티카': 1, '남녀': 1, '싶을': 3, '투유': 1, '상대': 3, '외관': 1, '끕니다': 4, '블랙보드': 1, '재질': 1, '되어있고이': 1, '쓸수있는': 1, '분필': 1, '적어': 1, '라르': 3, '베르트랑': 3, '올리며': 1, '꼬뜨로즈블': 2, '그려져있고': 1, '국': 4, '375': 4, '마실': 4, '로병': 1, '됐고': 3, '정석': 2, '애로우': 1, '1986년': 1, '중요한세': 1, '부산': 1, '츠': 1, '단골': 2, '손님': 1, '끝내주는': 1, '커런트등풍': 1, '강인한': 1, '찾던': 1, '굵고': 2, '구불구불한': 1, '끝내주는데를': 1, '외쳤던것이': 1, '하려면': 1, '필요하다고': 1, '기업': 4, '1983년': 3, '될': 2, '명품': 4, '로서': 4, '지키고있다': 1, '등검': 5, '타고긴': 1, '1874년': 1, '알렉': 2, '산드리': 1, '마가': 2, '즐겼던': 1, '이를기': 1, '별명': 3, '의사': 1, '세련된과': 1, '둥글둥글한': 2, '만들어내는': 1, '원한': 2, '에마': 1, '1956년': 1, '온다는': 1, '단순한': 2, '포등': 1, '견고함과': 1, '세련': 1, '겸비': 4, '더해져긴': 1, '신맛': 26, '갖췄음에도': 1, '카테나자': 1, '파타': 5, '장위': 1, '디캔터': 5, '카테': 1, '나씨': 1, '반드시': 2, '신화': 3, '쿠나': 1, '와라지': 1, '역': 2, '펜리': 1, '펜폴': 4, '와톨': 1, '문의': 2, '자손': 1, '이쿠': 1, '나와라': 1, '애드버킷': 1, '터등': 1, '받고있고': 1, '책': 1, '추방': 4, '실존': 2, '영국정부': 2, '저지른': 1, '맞서': 2, '싸우던': 2, '내렸고': 2, '바치는': 1, '베이비': 1, '드러난다': 9, '쫀쫀': 1, '이형성': 1, '날렵한': 1, '지에는': 1, '톨': 1, '이니는': 1, '미셀': 3, '토마': 1, '일급': 1, '컨설턴트': 2, '도움': 3, '확실한': 1, '몬탈': 1, '치노': 1, '침엽수': 1, '잡아주는': 1, '탈치노': 2, '오르치아': 1, '강의': 1, '도르치아는': 1, '1800년': 1, '넘는': 1, '쌉싸름하면서': 1, '유서': 7, '대대로': 1, '이어지고있으며': 1, '1724년': 1, '사시': 3, '찬란한': 3, '왕관': 2, '확실히': 1, '어필': 1, '올랐으며': 1, '회장': 2, '미겔': 1, '골': 2, '만족할것이다': 1, '메독그': 1, '클라': 7, '쎄': 4, '뤼끌': 1, '5등': 1, '오메': 1, '남단': 3, '도시': 5, '거리': 2, '규산': 1, '서연': 1, '식재': 2, '64': 2, '67,201': 1, '7년': 2, '71': 1, '높다': 4, '저렴함에도': 1, '주요': 1, '평론': 1, '밸류': 3, '할수있는것도': 1, '뛰어넘': 1, '프룬': 3, '숙성하면': 2, '꿈꿈': 1, '부엽토': 1, '카베르네소비뇽': 1, '저가': 1, '하던랑': 1, '피트': 3, '투르': 2, '뤼스': 2, '비견': 1, '되지만': 1, '수식어': 2, '필요없는': 1, '품격': 6, '뻬': 1, '노교': 1, '기다리며': 7, '깨우는': 1, '또르': 1, '오만조': 1, '즐길수있고당': 1, '조화로워요': 3, '앞두고': 1, '해보고싶다면': 1, '쿠리': 1, '에체베리아': 1, '드러나죠': 1, '첨가제': 1, '게이': 1, '가득히': 3, '겨우내': 1, '움츠렸던': 1, '기지개': 1, '켜는듯': 1, '샤또뽀': 1, '띠롱': 1, '미에서도': 1, '그리의': 1, '산뜻함': 1, '미용': 4, '쌉쌀한': 3, '이어져': 1, '생선회': 2, '사회': 2, '초년': 1, '친숙하지': 2, '않다면': 1, '천년': 1, '인스타': 1, '르츠': 1, '만큼': 1, '선보이고있어요': 3, '풀향': 1, '텔미': 1, '건물': 1, '관광지': 1, '불보': 1, '해꽃': 1, '명가': 8, '돈나': 3, '가타': 3, '멤버': 2, '메라': 1, '기사도': 1, '주인공': 4, '식사': 9, '면피': 1, '도라': 1, '한오': 2, '피도': 1, '만들고있죠': 2, '토의': 3, '흔히': 1, '시켜서': 1, '드미섹': 3, '갖췄습니다': 5, '마멀레이드': 4, '그려진로': 1, '불러일으키죠': 1, '스따뇨': 2, '달콤한세': 1, '미스': 1, '사랑스럽게만': 1, '들어줄수있다는': 1, '이은양': 1, '싸': 2, '물려': 1, '받은아': 1, '들이자': 1, '수제': 1, '트렌트': 1, '버지가런칭': 1, '유년': 1, '시절': 4, '담았습니다': 2, '더블': 1, '트러블': 1, '밀크': 1, '셰리': 9, '도중': 1, '강화하는': 1, '섞어': 7, '높입니다': 1, '루스': 2, '잘알려져있어요': 2, '팔로': 1, '미노': 1, '페드로': 1, '히메네스': 1, '마호가니': 1, '설날': 7, '주접': 2, '해보지못': 1, '남길수있어요': 1, '그럴': 1, '땐': 2, '레코': 1, '딩스': 1, '선보이는것으로': 2, '괴짜': 1, '앤드류': 1, '존스': 1, '주목할만합니다': 1, '크래프트': 1, '모자이크': 1, '홉': 2, '마릴': 2, '느리게': 1, '다양한과': 2, '맥주': 2, '남다른': 2, '멈': 6, '을축': 1, '담아라는': 1, '하는이': 5, '두려워하지말고': 1, '당당하게': 1, '나아가라는': 1, '희망': 1, '리본': 2, '예의': 3, '훈장': 2, '레지옹': 2, '뇌르': 2, '건과류': 1, '비오니에의': 1, '자르': 2, '덩굴': 1, '느끼기': 2, '남겨요': 3, '여유': 2, '오두막': 2, '보이는이': 1, '동경': 1, '집이었던': 1, '새로운세': 2, '즐기길': 2, '담았으니': 1, '명절': 6, '기대해도': 1, '은덕': 1, '혼': 2, '페이스': 7, '덕혼': 4, '환영': 2, '받을만한': 2, '심볼': 2, '한덕': 1, '북미': 1, '자리매': 1, '김하고있습니다': 1, '디코이': 2, '표방': 1, '러버': 1, '의카버네소비뇽': 1, '의메': 3, '밸': 1, '리카': 1, '떼는단': 1, '시킨것으로': 1, '받고있으니': 1, '하기에도': 6, '조화로': 1, '운산': 1, '이나': 3, '로스트비프': 1, '육즙': 1, '의역': 1, '마쩨': 5, '인왕': 1, '불릴': 2, '선조': 1, '필리프': 3, '토머스': 1, '제퍼슨': 1, '교류': 2, '사상가': 1, '독립선언서': 1, '미쳤고': 1, '전파': 1, '초상화': 1, '숙성했어요': 2, '담겨있어': 1, '건네면서': 1, '얽힌': 1, '함께전한': 1, '소': 5, '관해': 1, '위풍': 1, '당당하고': 1, '황소': 3, '혈통': 1, '투우장': 1, '처럼': 1, '맹렬한': 1, '기세': 1, '3초': 1, '대단한': 1, '소가': 4, '진상': 2, '볶음밥': 1, '레데토로레': 1, '벗어나': 1, '가르고': 2, '뜨는': 2, '식당': 1, '하며라': 1, '셰프': 5, '프랑크': 2, '퓌틀': 2, '홈': 2, '메이드': 1, '그려져있': 1, '고각': 1, '부위': 1, '명칭': 1, '적힌이': 1, '임': 3, '가정식': 5, '상차림': 4, '좋은가': 2, '센트럴': 4, '빅토리아': 3, '되는이': 4, '맥고': 1, '완': 1, '목축업': 2, '노던테리토리': 1, '기른': 1, '종사': 1, '과소': 2, '완벽하게잘': 1, '이바': 3, '앵거스': 2, '더불이다': 1, '캠벨': 1, '틴슨': 1, '굽고싶어진다는': 1, '하기도': 3, '투썩': 4, '점퍼': 5, '스웨터': 1, '입은': 1, '넣는다': 1, '얻고있는데': 1, '소로': 2, '하는말': 2, '용했다': 3, '어우러져말': 1, '초보자': 2, '좋아할만': 2, '축년': 1, '흰소': 2, '의해와도': 1, '멈추지': 1, '않고전': 1, '진하는': 1, '힘차게도': 1, '약하는': 1, '씩씩하게': 1, '나아가고': 1, '연초': 2, '니키': 1, '한은미': 1, '전가': 1, '멈출수': 2, '없다는': 1, '끝없는전진을': 1, '있다는': 1, '아산': 1, '아로요': 1, '세코': 4, '받아구': 1, '지리': 2, '에소': 1, '바티칸': 1, '순교자': 1, '성조': 1, '피토': 2, '장례': 1, '행렬': 1, '농부': 1, '성자': 1, '꿇어': 1, '앉은': 1, '장면': 2, '시골': 1, '일이': 2, '있었고': 1, '성령강림절': 1, '토레': 1, '산조': 1, '묘사': 1, '한그림': 1, '또레': 1, '협회': 2, '살라미': 1, '코르토': 3, '아비': 2, '뇨': 3, '당당하게서': 1, '1673': 1, '인거': 1, '구로': 1, '지의': 1, '농장': 3, '살았던': 1, '유명했던': 1, '92': 3, '져의': 2, '계시': 1, '인정받고있다': 4, '드라마': 2, '오마주': 2, '이제': 10, '마시고싶지만': 2, '값': 1, '비싼': 2, '하기엔': 1, '쉽사리': 1, '엄두': 1, '가나': 4, '않는다면': 1, '아벨': 3, '가르시아': 2, '속력': 1, '무드라': 1, '하지도': 1, '무스': 2, '지도': 2, '않으며': 3, '낯설더라도': 1, '푸드': 3, '대게': 2, '찜': 1, '일일': 1, '까요': 1, '코바': 2, '회사': 5, '누리고있죠': 2, '프레스티지': 1, '퍼집니다': 1, '호기심': 1, '돋보이는이': 1, '두게': 1, '싸리': 1, '용했죠': 1, '라이프스타일': 1, '떠오르고있어요': 1, '리무': 5, '자존심': 3, '스웨이드': 1, '앞선': 2, '있습니다': 15, '다르': 2, '인정받고있어요': 4, '모작': 1, '용했습니다': 1, '화사하게만': 1, '들어줘요': 1, '앙리': 6, '오도잘': 1, '사랑받고있습니다': 1, '플래그': 4, '미세하고': 2, '이어져요': 1, '보는것만으로도': 2, '되죠': 3, '1827년': 1, '발자취': 1, '착했고': 1, '나타내죠': 1, '멈그랑꼬': 1, '상사': 1, '이남': 1, '주기': 1, '홈스': 10, '할은': 5, '샤블': 10, '모아': 2, '어렵다면': 1, '더할': 5, '나위': 5, '따르는': 1, '데바': 1, '1642년': 1, '이어가고있죠': 1, '따르가': 1, '갖췄다는': 1, '인까': 1, '스텔라': 2, '드로칠드': 1, '가산': 1, '해로': 1, '카디프': 2, '만들었죠': 1, '마렘마': 3, '레수게레': 1, '의세': 1, '컨드': 2, '오븐': 1, '보여주고': 1, '대의': 3, '롱세귀르': 1, '테프': 1, '칼롱세귀르': 1, '였던': 4, '마르케스': 2, '드세': 1, '귀르': 1, '칼롱': 2, '적당해': 3, '프티': 1, '있으니': 4, '내고싶을': 1, '르쥬락': 2, '미쉘': 3, '몽테뉴': 2, '동쪽': 1, '한베': 1, '유사한': 1, '에세이': 2, '문학': 1, '장르': 1, '철학자': 1, '수필가': 1, '된뀌': 1, '줍니다': 6, '돋보여요': 1, '후시': 1, '집니다': 1, '빛낼': 1, '적당합니다': 1, '카데': 1, '이포': 1, '할수있어요': 2, '미티': 27, '보진': 15, '두리아': 1, '라치오': 1, '잔뼈': 1, '굵은마': 1, '풀리아': 3, '진출': 1, '해이': 1, '기여': 2, '루라빠': 1, '들었고': 1, '종류': 9, '달콤하다': 2, '화사함을': 2, '매끈하고': 2, '보디': 25, '묵직하며긴': 1, '1991년': 3, '1억': 1, '총력': 1, '기울이고있다': 1, '사니의': 1, '규정': 1, '거쳐야하지만': 1, '묵직하다': 2, '1948년': 2, '묵직하고진한': 1, '쏘안': 1, '티코': 1, '알베렐': 1, '트레이닝': 1, '기르는데': 1, '건조한': 1, '고품': 1, '흠': 1, '말리는': 2, '특이한데': 1, '기약': 1, '주전': 1, '비틀린': 1, '달린': 1, '마르면서': 1, '2530': 2, '의수': 2, '잃': 1, '리미': 3, '티보': 2, '탄탄하면서도': 1, '길다': 1, '풀리': 1, '아프': 1, '추풍': 2, '맴돈다': 4, '많기로': 1, '유명한데': 3, '아함': 1, '미면에서': 1, '추종': 1, '불허': 1, '6080년': 1, '비틀어진': 1, '된진': 1, '정확': 1, '검증': 2, '포장': 1, '이르기까지': 3, '거쳤고': 1, '무척': 5, '탁월하다': 2, '크로아티아': 4, '거장': 1, '만든진': 1, '진수': 1, '기치': 1, '의거': 1, '롄코그르': 1, '기치가': 1, '기치는진': 1, '기원': 3, '밝히는': 1, '에프': 1, '트시라': 1, '만든이': 2, '섞인듯': 1, '탁월해': 1, '14.9': 1, '믿기지': 1, '경쾌하다': 3, '자란진': 1, '적당하고': 2, '강하지': 1, '세게지오는': 1, '남다르다': 2, '세게지오의': 1, '15.6': 1, '불구': 4, '120년': 2, '리머릭': 2, '레인': 2, '갈등': 1, '14.8': 1, '높지만': 1, '큰이': 1, '프라이': 3, '빗': 3, '션진판델': 1, '다비': 4, '돋운다': 2, '느껴져서': 1, '편하게마': 2, '영': 3, '레이디': 2, '기른진': 1, '털리는': 1, '다수': 1, '심은': 2, '어린진': 1, '만든것': 1, '로쥬': 1, '일진': 1, '625년': 1, '순수하': 1, '콜롱바': 1, '알렉산드리아': 2, '적당하며과': 1, '차게': 3, '식혀': 2, '잘맞는다': 5, '사로잡는로': 1, '차분한': 1, '우울해질': 1, '필요': 4, '외롭지': 1, '느끼고싶다면': 1, '아케': 1, '시로': 1, '사토': 1, '해주는이': 1, '느낌을전하는': 1, '패키지': 4, '인스타그램': 1, '즐긴다면': 3, '인증샷': 1, '보길': 5, '야경': 2, '찬란하고': 1, '위주': 1, '녹턴': 5, '시티': 1, '루미너스': 1, '동일한': 1, '고소함을': 1, '나누는': 2, '간편하게': 1, '레아': 3, '78': 1, '슬': 1, '라이스': 1, '바질': 1, '다마': 2, '뒤빈병': 1, '인테리어': 1, '할수있을거예요': 3, '몰': 1, '같은전': 1, '빠레야': 1, '편안하면서도': 1, '움브리아': 4, '룽': 2, '로티': 2, '꼽힙니다': 2, '가지고있죠': 1, '심포니': 3, '코츠': 2, '동물보호': 1, '힘쓰고있죠': 1, '와슈냉블': 1, '특별해요': 1, '뛰어나니': 1, '해보는것도': 1, '1807년': 1, '마실수있어요': 1, '마릴린먼로': 4, '떠올리며': 1, '배우': 1, '맞습니다': 1, '자중': 1, '이었기': 1, '용하기': 1, '먼로': 1, '블스': 1, '하는노': 1, '마진': 1, '본명': 1, '청소년': 1, '성인': 1, '변모': 1, '여유롭게': 1, '커는': 3, '왼손잡이': 3, '스쿠터': 2, '타고': 7, '질주': 1, '그려져있어요': 1, '쾌감': 1, '로메': 1, '리파': 4, '만들고있는': 2, '60년': 4, '윌슨': 1, '상속': 1, '화재': 1, '소실': 1, '높아진': 1, '랏': 6, '페러': 3, '보베': 3, '살라': 1, '라울': 1, '신의물방울': 3, '동식물': 1, '2만': 1, '토니': 2, '접어': 1, '드니': 1, '생각나죠': 1, '1865년': 1, '면적': 3, '되는데': 2, '흐르면서': 1, '초겨울': 1, '마르살라': 5, '1969년': 1, '1880년': 1, '왔어요': 2, '해보기에': 1, '부족함': 3, '없습니다': 4, '40100': 1, '뜻해': 1, '대명사': 3, '아니다': 1, '사우스': 1, '이스턴': 1, '오스트레일리아': 2, '끈': 2, '정해': 1, '죄': 1, '지은': 1, '업라이징': 1, '뇽을블렌딩': 1, '할로윈': 9, '재미있게만': 5, '만남': 2, '갈리시아': 1, '특별': 2, '리퍼블릭': 1, '130년': 1, '들었습니다': 1, '멘시아의': 1, '입전': 1, '않아요': 1, '해골': 1, '들어간': 2, '차세대': 2, '제이슨': 3, '현재호': 1, '주바': 1, '제이': 4, '오운은': 3, '독자': 1, '비등': 1, '오운의': 1, '160년': 2, '흐르는것처럼': 1, '희소가치': 1, '데뮤': 2, '떼는': 1, '예': 2, '코르테스': 1, '건축': 1, '가카': 1, '아이스': 1, '가고': 1, '사로잡는대': 1, '담한': 1, '호로': 1, '날수있어요': 1, '디럭스': 1, '직관': 1, '어울리네요': 2, '피놀': 2, '150': 2, '만들고있어요': 1, '뱃': 1, '해충': 1, '천적': 1, '박쥐': 2, '농경': 1, '쉬르': 1, '크에서만': 1, '1531년': 1, '특별합니다': 2, '넘버원': 1, '신제품': 1, '비추면': 1, '돋보이니': 1, '돋우기에': 1, '박은이': 4, '인정': 2, '와일더': 2, '위로': 3, '경쾌함을': 1, '부드러운기': 2, '캔등총': 1, '틴': 5, '케이트': 1, '안소니': 1, '카를': 1, '블렌딩한안띨': 1, '긋하': 1, '인원': 1, '차박': 2, '온로': 1, '도멘몽로즈': 1, '살충제': 1, '신선도': 1, '느껴지니': 1, '신선하게': 2, '모범': 1, '투핸즈': 1, '거두며': 1, '인정받고있죠': 3, '섹시': 1, '비스트': 2, '서고': 1, '획': 2, '베니': 1, '필요하지만이': 1, '즐길수있다는': 1, '갈만': 1, '장인': 2, '기있는': 1, '아디': 3, '꼽혀요': 1, '그리지오': 1, '생선전': 2, '조개': 1, '간장': 5, '고추장': 2, '된장': 1, '살려주니': 1, '사로잡을만한': 1, '알려져있어요': 1, '업을이어오고있는': 1, '니콜': 3, '65년': 1, '까테나자': 4, '까테나말': 1, '성하면서도': 1, '격의': 2, '절로': 3, '풍요': 2, '롭': 1, '르도를블렌딩': 2, '미과': 2, '멘톨': 1, '포르토': 1, '메스': 1, '이어오고있어요': 1, '조후': 2, '넛츠': 1, '제정러시아': 2, '황실': 2, '사였던': 1, '있는만큼': 1, '황제': 2, '숙성한리': 1, '멘이에요': 2, '결과물': 1, '개체': 1, '될수록': 1, '로렌츠': 3, '1836년': 2, '지형': 1, '해왔죠': 1, '알텐': 1, '르그': 1, '명장': 1, '에어프랑스': 1, '아랍에미레이트': 1, '하는로': 5, '드는로': 1, '닮은': 2, '멘오': 3, '뜨의': 3, '가오': 2, '하는도': 1, '롤스로이스': 1, '가지고있을만큼': 1, '스티븐': 1, '스필버그': 1, '볼드윈': 1, '좋아하는것으로': 1, '알려져있죠': 2, '52': 1, '할수있죠': 1, '페블': 3, '유한': 1, '1825년': 2, '쥬브레샹베르': 2, '땡': 2, '남성': 1, '뛰어나고긴': 1, '580년': 1, '마쩨이': 1, '1436년': 1, '유구': 1, '찾아내': 1, '인검': 1, '걸작': 1, '나타': 2, '고어': 1, '로키': 1, '스크리밍': 1, '이글': 1, '서호': 1, '단숨': 1, '신생': 2, '받았습니다': 2, '유포': 1, '계보': 1, '잇는': 3, '르메네르': 2, '선도': 1, '드바인비뇨': 1, '두둥실': 1, '떠오른': 2, '쾌활함과': 1, '더해졌다는': 1, '마시고싶다면': 2, '없으며': 1, '이어지고있는': 1, '기법': 1, '해고': 2, '복서': 2, '커가': 1, '베스트셀러': 1, '여자친구': 1, '미있는': 1, '쌉싸름한': 1, '사라': 1, '스파': 1, '마르퀴스': 2, '둘다': 1, '였던데': 1, '서': 2, '착안': 1, '박서': 1, '러브': 1, '수치화': 1, '65': 2, '프루츠웨이트': 1, '이를': 1, '도드라지는고': 1, '둥글둥글하고잘': 1, '정돈': 1, '저지를': 1, '매지': 1, '스트레이트': 1, '재판관': 1, '대립': 1, '펼친다': 1, '자신있게': 1, '열었을': 1, '터프': 1, '느껴지지만': 1, '된이래': 1, '쏜': 1, '클락': 1, '1987년': 1, '할러': 2, '데이': 3, '컴패': 1, '9년': 1, '리언': 1, '적절히': 1, '정육점': 1, '카트': 1, '더말': 1, '두터운': 1, '1944년': 1, '스튜어트': 1, '웰': 1, '사와인': 1, '그렇기에': 1, '렛': 1, '자격시험': 1, '에바': 5, '출제': 1, '되고있다고': 1, '섬세하고긴': 1, '존호': 1, '진득': 1, '살로': 3, '몽': 4, '캥거루': 2, '날아왔다': 1, '몽운트': 1, '마이크': 1, '밀로': 1, '담당': 2, '창구': 1, '스케일': 1, '짧아': 1, '불레애': 2, '언급': 4, '샤펠': 1, '등고': 1, '넣으면': 3, '순한': 1, '미덕': 1, '후대': 1, '따르': 2, '유로': 4, '고시': 3, '앙이면서도': 1, '쓰는': 1, '밭등': 1, '계약': 1, '확보': 3, '필립': 3, '깡비': 1, '핑': 1, '인시': 2, '커런트풍미': 1, '15시간': 1, '810': 2, '로스트치킨': 1, '대량생산': 1, '해오던': 1, '혁명': 2, '일으킨': 2, '파악': 1, '서남': 1, '슈퍼스타': 1, '개운한': 3, '평화로움': 1, '느낄수있는데': 1, '독시': 1, '리즈': 6, '다가갈수있으면서도': 1, '더롱독': 1, '어워드': 1, '수상하며': 1, '장동건': 1, '고소영': 1, '연예인': 1, '심심': 1, '찮': 1, '수퍼스타': 2, '얻었다고': 1, '발랄한아기': 1, '천사': 2, '같은로': 1, '슈럽': 2, '아기': 2, '삽화가': 1, '랄프': 1, '테드': 1, '먼이': 1, '12시간': 1, '몰라도': 1, '안다는말이있을': 1, '선전': 1, '임을아는': 1, '많지': 1, '않을것이다': 1, '우선': 1, '해보길': 3, '느낄수있을것이다': 1, '탐구': 1, '347': 1, '개포': 2, '만들고있으며': 1, '드러내고있다': 1, '받고': 1, '테루아르': 1, '특별한시라': 1, '베이컨': 1, '사냥': 1, '고기': 3, '로라': 3, '까테나가': 1, '부띠': 1, '끄': 1, '까테나는': 1, '까테나와': 1, '총괄': 1, '집대성': 1, '서적': 1, '쓰기': 1, '까테나의': 2, '최적화': 2, '비전을실': 1, '천하는': 1, '괄목상대': 1, '빼어난': 2, '무대': 1, '알린': 1, '만드는것으로': 1, '근거지': 3, '인멘': 2, '노토': 1, '에트': 1, '비토리아': 1, '카포밀': 1, '쪼등': 1, '해직': 1, '콜럼비아': 3, '67': 1, '아양': 1, '레꼴': 1, '넘버': 2, '지역번호': 1, '더해': 2, '거의': 1, '알파벳': 1, '올랐고': 1, '해왔다': 2, '베를린': 1, '등국': 1, '제적': 1, '모르는이': 2, '보름달': 2, '시키는이': 1, '지바': 2, '이끄는': 3, '용의': 2, '르브': 1, '은시': 1, '와그르나슈': 1, '체포': 1, '13만': 1, '에누구': 1, '스탈': 1, '대언': 1, '셀레': 4, '토리': 1, '아로르': 1, '째이어오고있는': 2, '제초제': 1, '달빛': 1, '시키니': 1, '싶은이': 1, '떠올릴거예요': 1, '일명': 1, '자전거': 2, '비씨': 1, '이산화탄소': 1, '줄이기': 1, '누비': 1, '직원': 1, '신물': 1, '프린트': 3, '해칠': 1, '을해': 1, '손상': 2, '막스': 3, '1859년': 1, '일러스트레이터': 1, '르땅': 1, '역시오': 1, '메종': 3, '롱': 4, '보졸레': 2, '보졸': 1, '레의레': 1, '아황산': 3, '염': 3, '갖췄으니': 2, '700': 2, '해왔어요': 2, '마셨다는': 1, '떼레': 1, '모레': 1, '아미': 1, '티레니아해': 1, '석양': 1, '만들었고': 1, '뜨거운': 1, '든와': 1, '리베': 2, '닛': 1, '소속': 2, '로더': 1, '요하네스': 1, '라이': 1, '쉬는': 2, '비엔나': 1, '안이': 1, '될만': 2, '하다는': 1, '왔으며': 1, '간단': 1, '히로': 1, '불립니다': 2, '생로랑': 2, '말복': 7, '무슨': 6, '샤를르': 1, '드까자노브': 1, '1811년': 1, '에드워드': 2, '마신것으로도': 1, '유명해요': 3, '활기찬과': 1, '받았고': 2, '홍콩항공': 1, '아메리칸항공': 1, '메뉴인': 1, '민어': 1, '전복': 1, '캘리': 1, '포니': 1, '아샤': 1, '이예': 1, '머피': 2, '마케팅': 1, '데이브': 1, '레디': 2, '합류': 1, '1985년': 1, '잭슨': 6, '섬세함': 2, '캠': 1, '바바라': 1, '뱅키': 1, '그녀': 3, '케이티': 1, '줄리아': 2, '장선': 1, '오리고기': 2, '1982년': 1, '잡았죠': 1, '깊고진한': 1, '견고한구': 1, '메뉴': 4, '했다면': 2, '라포': 6, '스톨': 3, '메네': 2, '돼있죠': 1, '데리야키': 1, '장어구이': 2, '나바라': 1, '4000': 1, '1776년': 1, '러시아': 2, '요청': 2, '서명': 1, '누린': 1, '있기': 2, '데렉루': 1, '직감': 1, '릭스': 1, '아이디어': 1, '만났고': 1, '실현': 2, '우아하며구': 1, '빌까르살몽': 2, '1818년': 2, '170': 1, '까지': 1, '낮추고': 1, '이틀': 1, '느린': 1, '거치는': 1, '설비': 1, '빵등': 1, '엘리자베스': 1, '1869년': 1, '크다': 2, '몽타뉴드': 2, '랭스': 2, '주니': 2, '저렴해': 1, '만족할만': 1, '푸이야': 2, '늦게': 2, '했음에도': 1, '어깨': 2, '나란히': 1, '76': 1, '해천만': 1, '되고있으며': 1, '갈라디': 1, '실패': 1, '상쾌하며': 1, '랍스터': 2, '가자미': 3, '맺어오며': 1, '었': 1, '절반': 1, '벨에포크': 1, '아르누보': 1, '유리공예': 1, '1902년': 1, '번창': 1, '가로': 2, '1812년': 1, '괄목': 1, '베르나르': 1, '드노': 2, '낭': 1, '쿠르': 1, '된다는': 1, '귀하고': 1, '보여주니': 3, '소장': 1, '로랑': 4, '1789년': 1, '웨딩': 2, '요한': 1, '배우며': 1, '튀어': 1, '나가는것을': 1, '방지': 1, '철사': 1, '조물': 1, '머즐': 1, '발명': 1, '번호': 1, '743': 1, '미만': 1, '용하는': 2, '하고있다': 3, '있을만큼': 2, '일찌': 1, '의심': 2, '장부': 2, '2천년': 1, '일정한': 1, '습도': 1, '이그리': 1, '않던': 1, '곁들인': 5, '각자': 1, '자란질': 1, '멜이': 1, '양가': 1, '합쳐': 1, '따서': 2, '감돈': 2, '팔리는로': 1, '뀌베로제브뤼': 1, '둥그스름한': 1, '우아함과도': 1, '4872시간': 1, '않다는': 1, '특별하다': 1, '수집가': 1, '들이소': 1, '장하기': 1, '라우': 1, '가로지르는': 1, '즐기지': 1, '않더라도': 1, '풋풋하고': 1, '좋아하는이': 1, '많으니': 1, '탈': 2, '몬티': 2, '로레토아프루티노': 1, '지역별': 1, '해도잘': 2, '소탈': 1, '경향': 1, '있지만이': 1, '이배': 1, '얄': 3, '룸바': 3, '로비': 1, '식재한': 1, '드리': 1, '눈길': 5, '식재해': 1, '일군': 1, '종묘': 1, '필요합니다': 3, '1000': 2, '각광': 1, '더해졌죠': 1, '들소': 1, '수익금': 2, '보호': 1, '관련': 2, '단체': 1, '지원': 1, '하고있습니다': 1, '팩': 2, '3000': 1, '모이는': 3, '르네를블렌딩': 1, '뛰어나지': 1, '않다는인': 1, '식이': 2, '프란': 1, '중식': 1, '볶음': 5, '맞설': 5, '이열치열': 7, '로자': 1, '매운': 6, '떠오르죠': 1, '콜랜치': 1, '주는이': 1, '칼칼한': 1, '나물': 1, '했을만큼': 1, '로얄': 1, '인정받고있습니다': 1, '은우': 1, '닭볶음탕': 1, '시켜주니': 1, '먹을': 1, '먹고싶을': 1, '이남부': 1, '코코넛': 1, '한국인': 4, '부딪히지': 1, '감이있는': 2, '운맛': 1, '부드러워요': 1, '개운하고': 1, '느낌을주니': 1, '소갈비': 1, '하는만큼': 1, '멀지': 1, '델레': 1, '확장': 1, '105': 1, '된리': 1, '레베르': 1, '노는마': 1, '렘마': 1, '과바': 1, '가깝게': 1, '캐주': 1, '얼하면서도': 1, '틴토': 1, '비디': 1, '리스본': 1, '포르투갈어': 1, '문': 2, '들어가는': 1, '들을': 1, '케바크트': 1, '카스텔라': 1, '나시오날': 2, '샤브샤브': 1, '크류': 1, '캡': 1, '산책': 13, '즐기고싶은': 5, '휴대': 2, '좋으니': 1, '여행지': 3, '뮈스까를블렌딩': 1, '할수있을것': 1, '선보이고있습니다': 1, '제상': 1, '따르고': 1, '사랑스럽네요': 1, '나르': 1, '커리': 1, '1897년': 1, '지난': 1, '떠오릅니다': 1, '까테나': 1, '950,109': 1, '0,112': 1, '0,140': 1, '근사한야': 1, '콜렉션': 1, '코리노': 1, '코코': 1, '촐라': 1, '꾸준하게': 1, '받고있습니다': 1, '기쁨': 6, '한가람': 1, '마이크로': 1, '앙이에요': 1, '레트': 1, '망은': 1, '남경': 1, '만든단': 1, '가디': 2, '인했어요': 1, '제라드': 2, '듀플레': 1, '1895년': 1, '45년': 1, '듀플레시스샤블': 1, '만날수있습니다': 3, '1919년': 1, '1978년': 2, '협업': 3, '쉥': 1, '햄': 2, '바쉐롱': 3, '직상': 1, '스페셜리스트': 1, '촌지': 1, '장로': 1, '과장': 1, '도미니크': 2, '이끌며': 2, '다이나믹': 1, '뒤지지': 1, '올렸다는': 1, '페냐롤': 2, '줄': 3, '은수': 1, '입사': 2, '측': 1, '두고있죠': 1, '파스칼': 5, '카제': 1, '파랑': 1, '지닌아줄이란': 1, '고시원': 1, '까우': 4, '드리나는': 2, '카스틸리오네': 2, '티넬': 1, '드리나': 2, '가져다줬다': 1, '닷컴': 1, '1975년': 1, '라파': 1, '로마노': 1, '핸드': 1, '생기발랄한기': 1, '업계': 1, '인적': 1, '올': 3, '타계': 1, '자코': 1, '활약': 1, '자생': 1, '누라구': 1, '해안가': 2, '시킬만큼': 1, '뽀므': 2, '롤': 2, '샤또뒤도멘드레': 3, '적이있지만': 1, '찾아보기': 2, '어려웠다': 1, '하이트진로': 1, '원래': 2, '수도회': 1, '레방질': 1, '함유': 1, '토도': 1, '스카토로': 1, '사는': 3, '우아합니다': 1, '있어질': 1, '낮으니': 1, '약한': 2, '만나하나의': 1, '이룬다는것이죠': 1, '되새기기': 1, '하는우노': 1, '우노': 1, '단번': 2, '끌며': 1, '연회': 1, '어울리는말': 1, '저녁식사': 3, '사랑스러운오리': 1, '댄': 1, '쌍': 2, '하는의': 1, '흡사하게': 1, '패': 1, '러덕스': 1, '이름을지었고': 1, '오리가': 1, '그려져있습니다': 1, '했다는': 4, '클라우디오': 1, '알라': 1, '마니아': 1, '바롤': 1, '로리': 1, '카는바': 1, '수채화': 1, '담겨있어요': 1, '살아가던': 1, '문득': 2, '평범한': 2, '배우자': 1, '희소성': 3, '깊을거예요': 1, '앞둔이에겐': 4, '담겼습니다': 1, '디아망': 1, '모르가': 1, '합쳐진': 1, '앞둔': 1, '신혼부부': 1, '랑뀌': 1, '박힌': 1, '크리스털': 1, '더해주니': 1, '팍': 2, '하는듯': 1, '보내고있는이': 1, '들과': 1, '눈치': 2, '챌수있듯': 1, '앞장서고있습니다': 1, '메사': 1, '지에스': 2, '해농': 1, '드샹플뢰': 3, '티스': 2, '일원': 1, '지키며': 1, '감이있고': 1, '문화생활': 6, '공연': 2, '감상': 4, '좋겠습니다': 2, '레세띠': 1, '접하는': 2, '열린': 2, '해리': 1, '건마': 1, '클의': 1, '로열': 1, '피로연': 1, '됐죠': 1, '해오며': 1, '이어오고있습니다': 1, '건축가': 1, '프랭크': 1, '가설': 1, '화공': 1, '아름답기로': 1, '유명합니다': 1, '샤또레그라브드': 1, '오드': 1, '예술의전당': 1, '고자': 1, '했고이': 1, '최종': 1, '됐어요': 3, '아르테': 2, '있는와': 2, '도르': 4, '정이': 1, '있었죠': 1, '460년': 1, '좋아다': 1, '즐기는로': 5, '서든': 1, '만들어주니': 1, '카시오페아': 1, '별자리': 1, '그려져있는이': 1, '역은로': 1, '줘': 1, '알렌': 1, '슙': 1, '손녀': 2, '뒤꽃병': 1, '좋겠어요': 5, '롬바르디아': 4, '미니': 13, '남으면': 1, '하기가': 2, '꺼려지죠': 1, '헨켈': 1, '피콜로': 1, '간단히': 1, '간편하게꺼내': 1, '187': 3, '세트': 1, '속소확행': 1, '해줄거예요': 2, '졸리베': 4, '마술사': 1, '용해테': 1, '한푸': 1, '퓌': 1, '메는': 1, '푸이': 1, '퓌메특': 2, '하프': 3, '되니': 1, '컵': 3, '용기': 1, '담겨있기': 1, '오프너': 1, '필요없어요': 1, '더나은': 1, '디킨': 1, '하는디': 1, '킨': 1, '해외': 1, '니데': 1, '알레': 1, '이슈': 1, '100시': 1, '좋아서': 2, '좋고가': 1, '꼬이': 1, '세이': 2, '곁들이는': 1, '훌륭합니다': 1, '높이는데': 1, '할수있는게': 1, '아니므로': 1, '그럴것': 1, '느껴지는로': 1, '영롱하고': 1, '리얼': 1, '선보이기': 1, '더블유': 1, '드림': 1, '노래': 1, '정신과': 1, '신입사원': 1, '신입생': 1, '꿈을실어': 1, '선생님': 2, '격려': 1, '감사': 2, '건네기': 1, '기타': 4, '붙는': 1, '알바로': 1, '오스': 1, '알아보는': 1, '페탈': 1, '60100년': 1, '소출': 1, '엄격히': 1, '만든다는': 1, '모은': 1, '성모마리아': 1, '부모님': 1, '은사': 1, '님': 1, '티케': 1, '쑬은': 2, '금보': 1, '푸른색': 2, '청금석': 1, '일컫는': 1, '라피스라줄리': 2, '의라': 1, '청명': 1, '꼽': 1, '있는이에게': 1, '심플': 1, '7878': 1, '은서': 1, '행운': 7, '은동': 1, '번영': 1, '담겼다': 1, '타협': 1, '비전으로': 1, '커다랗게': 1, '적혀있으니': 1, '앞길': 1, '축복': 2, '출': 1, '이끌고있으며': 2, '녀': 1, '어가': 1, '떠올렸다면': 1, '샤또리유섹': 1, '소테': 1, '른': 1, '뮈스까델': 1, '머무는': 1, '떨어진다면': 1, '찾을수있죠': 1, '콘데데카랄브뤼': 1, '사랑받고있죠': 1, '술안주': 1, '요도': 1, '바론': 1, '졸': 2, '해먹': 1, '기건': 3, '는에서': 1, '수상했죠': 1, '은맥': 1, '누리는': 2, '화사하게': 2, '하늘빛': 1, '간편식': 1, '바흐': 1, '양도': 1, '간기': 1, '억': 1, '미오': 1, '팔리는': 2, '좋아지게': 1, '이어질': 1, '고급스러우며': 1, '이므로': 1, '함께하고': 6, '싶은': 15, '중요한건': 1, '결정': 1, '비질': 1, '돌체': 1, '바치': 3, '첫키스': 2, '설렘이': 1, '전해지네요': 2, '올라아지엔': 1, '리꼴': 1, '시키죠': 1, '갖췄고': 1, '즐겨마': 1, '시지': 1, '않는이': 1, '좋아할': 1, '설연휴': 5, '고가': 3, '귀향': 1, '즐길만': 1, '챙겨가는게': 1, '을기': 1, '원하는': 1, '담긴와': 1, '하는데치': 1, '담겨있습니다': 1, '모인': 2, '나눠': 1, '봐도': 3, '토마스': 1, '에스테': 2, '점도': 1, '특별하죠': 1, '즐겨라는': 1, '긍정': 1, '더해줄거예요': 1, '게다가': 2, '들어있죠': 1, '쌍둥이': 2, '19일': 1, '아그라': 1, '신년': 5, '여': 4, '새로운시작': 1, '따죠': 1, '300년': 1, '비오코': 1, '알아보고다시': 1, '아나스': 1, '따와인을': 1, '채셨나요': 1, '글로리아': 2, '자자한': 1, '벡스': 1, '랑': 1, '새해인사': 1, '나누며이': 1, '시킨이': 1, '들처럼': 1, '향해': 1, '나아가자는': 1, '차틴토레': 1, '알아볼수있듯': 1, '박세리': 3, '롱디': 1, '스턴': 1, '드라이버': 1, '샷': 1, '멀리': 1, '보내는': 3, '최': 3, '타자': 1, '장수': 1, '파가': 3, '닥친': 3, '심한': 1, '추위': 1, '찾아온': 1, '보는게': 1, '따뜻한고기': 1, '한겨울': 2, '훌륭하네요': 1, '우림': 1, '서식': 1, '깃털': 1, '홍': 1, '방울새': 1, '가져왔죠': 1, '바드파': 1, '르등': 1, '킬': 3, '리빙빙': 3, '스크림': 1, '랭혼': 1, '다는': 3, '날이와': 1, '간식': 4, '뫼': 1, '에세': 1, '가있는': 1, '초콜릿케이크': 2, '호세': 2, '폰세카': 2, '랜서': 1, '느껴지므로': 1, '분식': 2, '와로': 1, '가각': 1, '빨간색': 1, '빈병': 1, '실내장식': 1, '더풀': 11, '피오르': 1, '란치': 1, '작고고운진주': 1, '같은기': 1, '화사하며': 1, '익은시': 1, '다재다능한': 1, '넥타': 1, '유행': 1, '최첨단': 1, '자연스런': 1, '남겼다': 1, '꽃다발': 1, '한아름': 1, '안은듯': 1, '고고': 1, '필수': 1, '내줄': 1, '불빛': 1, '낭만': 1, '하는이에게': 1, '하고있다면': 1, '순위': 1, '고운기': 1, '황도': 1, '굉장히진': 1, '따를': 2, '환호성': 1, '저절로': 1, '터져': 1, '나온다': 1, '솜사탕': 1, '지니는데이는': 1, '쓴것처럼': 1, '보인다': 2, '스피아': 1, '황홀하다': 1, '클레오파트라': 1, '가왜': 1, '했는': 1, '공감': 1, '편안하다': 1, '만점': 1, '군트럼': 1, '헤센': 1, '이어오고있는와': 1, '할수록': 1, '지닌다': 2, '놀라울': 1, '금귤': 3, '어문': 1, '한새': 2, '매달린': 1, '일부러': 1, '내는데': 1, '두드러진다': 2, '캐모마일': 1, '묵직하며': 2, '느낌을주지만': 1, '워낙': 4, '좋아잘': 1, '않고마': 1, '두드러져': 1, '진저브레드': 2, '알싸한': 1, '과자': 1, '로디아': 1, '일간': 1, '산토': 1, '스코티': 1, '적셔서': 1, '먹기': 1, '비시': 1, '아비앙카': 1, '농사': 2, '된해': 3, '파니': 4, '델빈산토델': 1, '파나라': 1, '스친다': 1, '이유': 4, '숙성했기': 1, '탈리': 3, '비앙카': 1, '1935년': 1, '리옹': 1, '의장': 1, '앰버': 1, '바지': 1, '악': 1, '우아하며잘': 1, '착해': 2, '선뜻': 1, '사기': 1, '레이크': 1, '뷰비달': 1, '낮춘': 1, '살수': 1, '반갑다': 1, '녹는듯': 1, '즐길수있을': 1, '진하다': 2, '만약': 1, '진해서': 1, '본인': 2, '부쉬': 1, '아이스크림': 1, '곁들이고': 1, '뿌려': 1, '맛있다': 2, '비달': 1, '증류주': 1, '중단': 1, '으뜸': 1, '트바틀드': 1, '즐길수있도록': 1, '보급': 1, '십년': 1, '숙성하지': 1, '개봉': 1, '즐길수있어서': 1, '둘': 1, '느긋하게': 1, '특선영화': 1, '보면서': 1, '지니는': 2, '잘살아있다': 1, '오디': 2, '긴장감': 1, '스럽다': 1, '곁들여진': 1, '투리': 2, '가프': 2, '란카': 1, '타로': 1, '타바': 1, '까오': 1, '송년': 5, '이과': 4, '즐기는것이죠': 1, '밀라노': 1, '오페라': 1, '스칼라': 2, '장의공': 1, '극장': 1, '이송': 1, '년회': 1, '내줄거예요': 1, '비벨': 1, '마실수있으니': 1, '송년회': 2, '서다': 3, '반가운': 2, '메독': 1, '샤또벨그라브': 1, '만화': 1, '밀린': 1, '즐길와': 1, '달콤하게': 1, '해보도록': 1, '이미애': 1, '뛰어난것으로': 1, '드레끌루': 1, '부지': 1, '와부': 1, '즐기고싶을': 1, '찾아보길': 1, '살디': 1, '쎄라는': 1, '우마': 1, '론끼': 1, '베르디': 1, '끼오': 1, '미켈리': 1, '볼레': 1, '구름': 1, '하얀구름': 1, '그려져있다': 1, '혼자': 2, '이마트': 1, '들이며': 1, '있는바': 1, '도장': 1, '보러': 1, '갔다가': 1, '손쉽게': 1, '집어': 2, '들수있을': 1, '뛰어나다는것': 1, '글레': 2, '칠드': 1, '파브르': 1, '레루': 1, '롯데': 1, '러드': 2, '손잡고': 1, '트레디셔널클라렛': 1, '칭당': 1, '얻었다': 1, '앙인': 1, '종시': 1, '셸': 1, '코파': 1, '니나': 1, '곧': 1, '익숙하게': 1, '봤을': 1, '누리는만큼': 1, '찾아볼수있다': 1, '미국인': 1, '대중성': 1, '당연히': 1, '랑크뤼': 1, '샤또지스꾸르': 1, '뛰어난이': 1, '내리는': 3, '누군가': 2, '연락': 1, '네바다': 1, '눈꽃': 1, '편지': 1, '설렘을': 1, '눈밭': 1, '업체': 1, '컬러풀': 1, '엡실론': 1, '추억': 1, '되겠죠': 1, '기다리는': 1, '눈위': 1, '걸어가며': 1, '남긴': 1, '발자국': 3, '쌓이는': 1, '떠오르네요': 1, '걷는': 1, '깝': 1, '다가가는': 1, '다우': 1, '권해': 1, '복잡할': 3, '호라티우스': 1, '까르페디엠': 1, '영화': 1, '죽은시인의': 1, '키팅': 1, '명대사': 1, '얽매여': 1, '괴로워하거나': 1, '걱정': 1, '놓치지': 1, '나를': 1, '편안함을전': 1, '힘찬기': 1, '르뽀': 2, '또블': 1, '카툰': 1, '퀵과플륍': 1, '크의': 1, '한장': 1, '유쾌한': 2, '쉼': 1, '달려오던': 1, '바쁜': 1, '발걸음': 1, '멈추고': 1, '잠시': 1, '명상': 1, '해보는': 1, '이럴': 1, '찍힌': 1, '살아온': 1, '지난시': 1, '반추': 1, '해보게하죠': 1, '티자': 1, '2회': 1, '마음이여': 1, '워': 1, '까다롭지': 1, '동반': 4, '훌륭하죠': 2, '션더': 1, '플라토': 1, '가지치기': 1, '타오르는': 1, '장작': 1, '시키네요': 1, '알무데': 1, '알베르카': 1, '이끌고있는': 2, '라시오': 1, '42': 2, '백포': 1, '도품': 1, '종로': 1, '중병': 1, '뿌옇고': 1, '세비': 1, '메슬리': 1, '60,000원': 1, '750': 13, '마티': 1, '유코스': 1, '파비앙': 1, '마티유': 1, '브레': 2, '쌓았다': 1, '우체부': 2, '팍퇴르': 1, '192040년': 1, '건네는게': 1, '관례': 1, '였다고': 1, '다': 4, '라뷜르뒤팍퇴르': 1, '뷜르': 1, '마지팬': 1, '르와르': 1, '브레이': 2, '쯤': 1, '85,000원': 3, '메테는세계': 1, '알렉산드로': 1, '영광': 1, '이음': 1, '새로운람': 1, '코시': 1, '열고있다': 1, '토드': 1, '안세': 1, '높고': 2, '튀르': 1, '탄성': 1, '좋고거의': 1, '달아서': 1, '싫다는': 1, '코디': 1, '바나': 1, '97,000원': 1, '리스너': 2, '슐레겔': 1, '중반': 1, '볼스': 2, '하임': 2, '갖고있다': 1, '든다': 4, '소시지': 2, '슈크르트': 1, '짭짤한': 1, '마끌': 1, '초창': 1, '엔포': 1, '도외': 1, '작물': 1, '키웠으나': 1, '쥐라': 4, '유명하지만': 2, '달콤한와': 1, '되었다고': 1, '거두었다': 1, '우이': 2, '사바': 2, '냉': 1, '가블렌딩됐다': 1, '옮겨져': 1, '보낸': 1, '600': 1, '보낸다': 1, '비산': 1, '부르는': 1, '발해': 1, '줄어든만큼': 1, '보충': 1, '막아주기': 1, '울': 2, '햇밤': 1, '콩': 1, '삶는': 1, '호박고지': 1, '생활': 1, '익숙하고': 1, '낯선': 1, '큐민': 1, '말린시': 1, '잡고있': 1, '느껴진': 1, '녹아있다': 2, '잡혀있어': 2, '크림소스': 2, '닭고기': 3, '구이': 6, '노릇': 4, '하게구': 1, '태국': 1, '베트남': 1, '135,000원': 1, '아노디': 1, '2030일': 1, '사일런스': 1, '방탄소년단': 1, '불린다': 2, '칩': 1, '머문다': 1, '65,000원': 1, '라반': 3, '브르': 3, '갖추고있으며': 2, '성지': 1, '프랑스인': 1, '아내': 1, '티야': 1, '예능': 1, '방송': 1, '뇽베르트': 2, '들었는데': 1, '슬로베니아어': 1, '없고': 1, '노라': 1, '백': 1, '숙성하고': 1, '내며': 2, '바나나칩': 1, '짭짤하며': 1, '훌륭해': 1, '송아지고기': 1, '참치회': 2, '단시': 1, '공통': 1, '호도': 1, '높았고': 1, '적절하다': 3, '50,000원': 1, '주우': 1, '퀘': 1, '베르너': 1, '넘어': 1, '증명': 1, '덴마크': 1, '노마': 1, '데칸': 1, '로카': 1, '볼수있다': 1, '마크인': 1, '리프': 1, '연합': 2, '생태': 1, '농업': 1, '위원회': 1, '많다': 1, '조이안세': 2, '다나': 2, '56일': 1, '편하다': 2, '도거': 1, '싱그럽기': 1, '강력': 1, '조개류': 2, '맛살': 1, '게찜등': 1, '비레': 2, '구해': 1, '코스모': 1, '컬쳐': 1, '아앙': 1, '그려져': 1, '다소': 2, '진하며': 1, '이길며': 1, '살코기': 1, '하몽': 1, '뮈스까': 1, '부블': 1, '136,000원': 1, '사브르': 2, '밑': 1, '역량': 1, '키우는데': 1, '푸리': 2, '섞여나며': 1, '조리': 1, '리페': 1, '110,000원': 2, '몬타나': 1, '프리울리': 2, '디콘': 1, '끄도': 2, '뒤압': 1, '섬유': 1, '유리': 1, '만날수있는': 1, '돈메': 1, '시시각각': 1, '이충만': 1, '돼지': 5, '떡갈비': 1, '반사': 1, '130,000원': 2, '르주레': 1, '트루': 3, '르끌루': 1, '선명하며': 1, '미식': 1, '나누고있다': 1, '다재다능함과': 1, '편안함': 2, '고말한': 1, '톤풋': 1, '80150년': 1, '60일': 1, '황산염': 2, '페린': 1, '1853년': 2, '스케': 3, '시대정신': 1, '자이트가이스트': 1, '트로이': 1, '710일': 1, '향속': 1, '가득한데': 1, '분명한': 1, '짭짤함을': 2, '둥글둥글하게': 1, '드벨렌': 1, '책임자': 1, '멘이': 1, '소신': 1, '풍부한이': 1, '여름내': 1, '마셨다면': 1, '에손': 1, '가죠': 1, '잘알려져있습니다': 1, '느끼거나': 1, '허전할': 1, '로또': 1, '어쩌면': 2, '바타': 2, '시올': 2, '가득해요': 1, '우아하고세련': 1, '함께라면': 1, '운치': 1, '즐기는데': 1, '없겠죠': 1, '인재': 4, '음악': 6, '스위스': 1, '열리는': 1, '몽트뢰': 2, '재즈': 6, '페스티벌': 4, '랑스': 1, '딜롱': 1, '독점': 1, '후원': 2, '클럽': 1, '모든': 1, '기금': 1, '기부': 1, '깊은가을': 1, '드베드르': 1, '딴기': 1, '정교하면서도': 1, '우아하죠': 1, '마치잘': 1, '숙련': 1, '이란': 1, '리듬': 1, '아마': 2, '신선함까지': 1, '한가위': 27, '가비': 7, '잘맞기로': 1, '드는데': 1, '은은하다': 1, '라나': 1, '퇴적물': 1, '가득해이': 1, '품는다': 1, '자갈밭': 1, '받아라': 1, '훌륭한리': 1, '좋고전이나': 1, '수많': 1, '은메달': 1, '이향': 1, '긋하다': 1, '8년': 1, '뽑힌': 1, '싱싱한': 1, '상쾌하고': 1, '뇽등': 2, '산뜻해': 2, '그리스신화': 1, '디오니소스': 1, '추종자': 1, '양아버지': 1, '실': 1, '레누스': 1, '따왔다고': 1, '발랄하고': 1, '경쾌해': 1, '산뜻해진다': 1, '퀘르체': 1, '도드라지는데': 1, '여기': 5, '적당하고구': 1, '탄탄해': 2, '빈대떡': 1, '무쏘': 3, '만든가': 1, '가득하고': 1, '그려진것처럼': 1, '얇게': 1, '썬': 1, '크레스트': 1, '책임지는': 1, '다양한고기': 1, '고우리': 1, '에카': 2, '블랜드': 1, '경쾌함과': 1, '사랑스럽기': 1, '매끄러워': 1, '가편': 1, '꼽히는우': 1, '버본': 1, '담았던': 1, '참신한': 1, '흑설탕': 1, '캐러맬': 1, '단순히와': 1, '차원': 1, '넘어서서': 1, '깊어지는': 1, '발휘': 1, '선키스트': 1, '남아프리카공화국': 1, '하네': 1, '풋머': 1, '수도': 1, '7.5': 1, '스칼리올': 1, '1939년': 1, '들꽃': 1, '은은함이': 1, '먹고난': 1, '마데이라': 2, '북아프리카': 1, '대서양': 1, '령': 1, '열대섬': 1, '되는주': 1, '갈색': 1, '매이': 1, '곶감': 1, '랭': 3, '트윈스': 3, '모였을': 2, '보여주죠': 1, '형제': 1, '락스': 1, '버그': 2, '한자': 1, '니': 1, '뛰어나요': 1, '볼베르': 2, '돌아가다는': 1, '해보면': 1, '돌아가': 1, '라만차': 1, '득점': 1, '친척': 1, '매그넘': 2, '처치': 1, '비싸지': 1, '찾는다': 2, '면알': 1, '램': 1, '텔드': 1, '세투발': 2, '전채요리': 2, '코노': 2, '마오리족': 1, '주주': 1, '인식': 1, '산하의': 1, '덮개': 1, '세레이션': 1, '따뜻해지는': 1, '면제': 1, '격일': 1, '그리핀': 1, '펄리셔': 1, '교배': 1, '보로': 1, '붉은자': 1, '했지만': 1, '들큰하지': 1, '만풍': 1, '사랑받을만한': 1, '김': 1, '선생': 1, '제대로': 2, '오타고': 2, '누아다': 2, '클리어': 1, '중장': 1, '기숙': 1, '라이즈': 1, '앤드': 1, '선샤인': 1, '개울': 1, '따온것이지만': 1, '기상': 1, '깨어나': 1, '일어나다라는': 1, '용으': 1, '용할': 1, '더할수있다': 1, '2000': 1, '북단': 1, '산악': 2, '양쪽': 1, '일과': 1, '임팩트': 2, '놀란': 1, '드러냈다': 2, '오씨': 1, '자크': 1, '외르': 1, '숙성할만': 1, '비우는수고': 1, '않을것': 1, '바르다라는': 1, '빵터질지도': 1, '모른다': 1, '귀퉁이': 1, '붙은': 1, '로고': 1, '진지한': 1, '열어': 1, '본다면': 1, '확실히다': 1, '시보': 1, '차크라': 1, '의창': 1, '립자': 1, '마리오': 1, '치사': 1, '델라로케': 1, '조카': 1, '파타고니아': 1, '모래': 1, '섭씨': 1, '사막': 1, '독특': 2, '해봐': 2, '실버': 2, '과메': 1, '구세계': 1, '담대하면서도': 1, '복함': 1, '대단히': 1, '쓰여있는': 1, '이이': 1, '해주는듯': 1, '빗은': 1, '사서': 1, '놀랄': 1, '필요없다': 1, '퐁': 1, '만든다니': 1, '할지도': 1, '모르겠다': 1, '하지만이': 1, '1984년': 1, '동향': 1, '진흙': 2, '혈암': 1, '즉각': 1, '실망하기는': 1, '이르다': 1, '드러낸다': 1, '곁들일': 1, '후회': 1, '점프': 1, '해보시라': 1, '생또방': 1, '넘어가': 1, '심비': 1, '드러나며': 2, '1910년': 1, '째다': 1, '막사': 1, '브레샹베르': 1, '부비': 1, '샹살로몽': 1, '등향': 1, '긋하면서도': 1, '즐길수있을만한': 1, '이사': 1, '1977년': 1, '코콸': 1, '선입견': 1, '띄우는데': 1, '느낄수있는이': 1, '연출': 1, '먹기전': 1, '간단한안주와': 1, '도적': 1, '감있게': 1, '인정받았을': 1, '있으므로': 1, '페름': 1, '인론': 1, '인중': 1, '부드러운질': 1, '손쉽게만': 1, '들수있어': 1, '카프레': 1, '제나': 1, '프라이드': 1, '산다': 1, '모히토': 1, '박': 1, '하향': 1, '감자': 1, '양념치킨': 1, '달마티아': 1, '즐라탄': 1, '토크': 1, '말리': 1, '편의점': 2, '그라탕': 1, '잘알려지지': 1, '않은만큼': 1, '음해': 1, '좋겠다': 1, '드넓은': 11, '얼마나': 10, '파레': 1, '총사': 1, '일색': 1, '육박': 1, '그러': 1, '나가르': 1, '트레팟': 1, '차는': 1, '딜리': 1, '쿰로제': 1, '착하지': 1, '6시간': 1, '화한다': 2, '따르기만': 1, '좋아지는로': 1, '1965년': 1, '7,600': 1, '루베': 2, '과방': 1, '삼은': 1, '노드': 1, '북서쪽': 1, '와시라': 2, '기다려': 1, '드러내기': 1, '찜닭': 1, '다스': 2, '넓게': 1, '방뚜': 4, '둠': 1, '편육': 1, '길게말하면': 1, '아프다': 1, '이루며우아': 1, '마실수있으면서도': 1, '세귀레': 1, '훈제오리': 3, '필요없을': 1, '붙일수있는': 1, '주중': 1, '스토': 1, '승급': 1, '데파': 1, '에스파냐': 1, '오랏': 1, '닭볏': 1, '볏': 1, '굽이치는': 1, '능선': 1, '겹겹이': 1, '테라스': 1, '은유': 1, '폭립': 1, '멘의': 1, '어떻게': 1, '할지': 1, '난감했었다': 1, '뭐': 1, '르뮈리엄': 1, '벌': 1, '들이내는': 2, '의성어': 1, '피숑': 1, '왔을': 1, '때벌': 1, '반해지은': 1, '안타깝게도': 1, '어우러져우아': 1, '마리네이드': 1, '이룰듯': 1, '550': 1, '골짜기': 1, '아벨라르': 1, '중세': 1, '일어났던': 1, '비극': 1, '러브스토리': 1, '따온': 1, '트랄라브': 1, '태어난': 1, '까르보나라': 2, '내려': 1, '긁어': 1, '판화': 1, '찍은것': 1, '디자인학': 1, '교수': 1, '인했고': 1, '내용물': 1, '꿈꿔': 1, '피터': 2, '8090': 1, '쉐등을블렌딩': 1, '리큐르': 1, '흠잡을': 1, '병사': 1, '가든': 1, '투핸': 1, '아에로페': 1, '매긴것만': 1, '쉽': 1, '맞': 1, '잡고': 1, '일구어': 1, '낸두': 1, '가인': 1, '루피': 1, '산뜻하게만': 1, '들어주는': 2, '소라': 1, '마신다면': 1, '달콤함이잘': 1, '어우러질것이다': 1, '화인': 1, '1928년': 1, '노비': 1, '에스메랄다': 1, '어울릴': 2, '풍기는이': 1, '가이아': 1, '올랐을만큼': 1, '모스코': 2, '필레': 2, '그리스': 1, '펠로폰네소스': 1, '모노': 1, '그라프': 1, '절사': 1, '아티': 1, '드소비뇽블': 1, '즐기자는': 1, '이루는이': 1, '초봄': 1, '받았음에도': 1, '메르': 2, '센트럴밸리': 1, '않았지만': 1, '불독': 2, '접근': 1, '1618': 1, '베스트': 2, '등주': 1, '팔방미인': 10, '99': 1, '달콤하면서': 1, '가지기': 1, '덕': 1, '지라': 1, '도드라진다': 2, '안경': 1, '든로': 1, '마시는듯': 1, '박하고': 1, '디디': 2, '도손': 1, '무색': 1, '뽐내는로': 1, '오를사': 1, '도드라지기': 1, '프로슈토': 1, '수풀': 1, '이우': 1, '산간': 1, '느껴지는것이': 1, '리코': 1, '모짜렐라': 1, '소호': 1, '맥퀸': 1, '받은로': 1, '믿을': 1, '꼬또뒤': 1, '쏘를': 1, '단단한것이': 1, '참였다': 1, '앤초비': 1, '킹크랩': 2, '항정살': 1, '엄지손가락': 1, '잘라': 1, '보자': 2, '에까베르네소비뇽': 1, '을블렌딩': 1, '둥글지만': 1, '구워진': 1, '간절하다': 1, '앙증맞은': 1, '꿀꿀이죽': 1, '특이한': 1, '잡아끈다': 1, '럴프루': 1, '티아': 1, '눈코입': 1, '시키기에': 1, '감이있어': 1, '핑거푸드': 1, '격무': 1, '지친나를': 1, '해보는것은': 1, '별거': 1, '엘더링': 2, '마리안느': 1, '폰': 1, '앨더링': 1, '바이엘': 1, '더링': 1, '오너': 1, '번영하다': 1, '피어나다라는': 1, '올려': 1, '보는것은': 1, '병목': 1, '묶인': 1, '보타이': 1, '아니': 1, '나뭇가지': 1, '달트랄체토': 1, '묶는다는': 1, '땀': 1, '땀꼬': 1, '금줄': 1, '액운': 1, '물리': 1, '친다는': 1, '감사하고': 1, '있을까': 2, '부적': 1, '병지': 1, '고있는것도': 1, '괜찮겠다': 1, '나쁜': 1, '물러가고': 1, '보증수표': 1, '클로드': 1, '이명': 1, '와인이라면': 1, '비노노': 1, '빌': 2, '풀치아': 1, '노리': 1, '2015,201': 1, '구가': 1, '2008': 1, '93': 1, '받았을': 1, '받고있다는': 1, '여겨': 1, '비치는': 1, '오르던': 1, '노노': 1, '명실': 1, '상부': 1, '찌오네': 3, '존슨': 1, '붙였던': 1, '쓰인': 1, '갈매기살': 1, '토시': 1, '살등': 1, '곁들일것을': 1, '쨌거나': 1, '랜': 2, '나인': 1, '경성': 1, '즐길수있을것이다': 3, '이동': 1, '하기전하나의': 1, '우주': 1, '아니더라도': 1, '모일것': 1, '기를기': 1, '원하며': 1, '007': 2, '이자영': 1, '국왕': 1, '볼렝': 2, '뀌베브뤼': 1, '영국인': 1, '응답': 1, '길게는': 1, '이상은': 1, '뤼및프르미에크뤼': 1, '된것이다': 1, '볶은': 1, '논빈티': 1, '면허': 1, '내줄수있는': 1, '인세': 1, '뮈스카델': 1, '입후': 1, '딱좋은': 1, '가라지': 1, '뤽': 2, '뛰느': 2, '방': 1, '배드': 1, '보이라면': 1, '배드걸': 2, '일수': 1, '없는운': 1, '명일': 1, '방이': 1, '뮈리엘앙드': 1, '보고있는': 1, '드보르': 1, '예상외': 1, '아닐': 1, '피롱': 2, '1590년': 1, '모르': 1, '공': 1, '레크': 1, '일가견': 1, '이크': 1, '레망드': 1, '견과': 2, '툼': 1, '갑각류': 1, '스콜': 1, '테제': 1, '조밀한기': 1, '마시거나': 2, '콘트라': 2, '밀레': 1, '마토': 1, '1919': 1, '의소': 1, '조르': 1, '중흥': 1, '맞았다': 1, '레이스': 1, '감싸준다': 1, '유감': 1, '31': 1, '인을만': 1, '들어온': 1, '미켈란젤로': 1, '애용': 1, '있을': 1, '까닭': 1, '트렌토': 1, '함께고': 1, '이탈리아전': 1, '브레드': 1, '구수함이': 1, '선하고': 1, '깨끗하고': 1, '놀랍다': 1, '우루과이': 1, '선수': 2, '호쾌': 1, '티샷': 1, '닮아서': 1, '오프': 1, '선명하다': 1, '미까지도': 1, '슈램스': 1, '웨하스': 1, '감탄': 1, '할수밖에': 1, '닉슨': 1, '중국': 1, '주은래': 1, '총리': 1, '마지않는': 1, '한반도': 1, '축배': 1, '드는용': 1, '적당하지': 1, '않을까': 1, '전적': 1, '방패': 1, '아름다운진한': 1, '미인': 1, '방어': 1, '육회': 1, '굳이': 1, '어려운리': 11, '바를아는게': 11, '화사하면서도': 1, '있는까': 1, '함을전': 1, '해주면서도': 1, '도드라지지': 1, '고기만': 1, '캔달': 2, '뚜렷하게잘': 1, '더해지며': 1, '안정감': 2, '이기대': 1, '넘긴': 1, '담백하게구': 2, '운닭': 1, '완만': 1, '높음에도': 1, '지나치게': 2, '튀지': 1, '산적': 5, '자가': 1, '볶아': 1, '길고실': 1, '홀짝': 2, '마른듯': 1, '바밀': 1, '섞여있어': 1, '매끈하다': 1, '공이': 1, '잘맞을듯': 1, '골랐다는': 1, '안도': 1, '느꼈다고': 1, '녹아있는데': 1, '대추': 1, '더반': 1, '갑다': 1, '보리': 1, '지루할': 1, '대단해서': 1, '있으면': 1, '올라가는데': 1, '감싸주는': 1, '먹을수있다': 1, '바보': 1, '르미네르': 1, '파프리카': 1, '동글동글': 1, '먹었더니': 1, '더배': 1, '녹진한': 1, '잇': 1, '햠': 1, '가약': 1, '낮긴하지만': 1, '잡혔다': 1, '육전': 1, '동그랑땡': 3, '보답': 1, '돌아오다라는': 1, '강렬함과': 1, '고소함': 1, '거기': 1, '깻잎': 1, '갖추고있으면서도': 1, '잘맞는데': 1, '올라올고': 1, '파전': 1, '고구마': 1, '우아하기': 1, '묵직해': 1, '채우지만': 1, '떡': 1, '약식': 1, '등과': 1, '내면': 2, '근사한': 1, '살아있으면서도': 1, '않다': 1, '먹을수있는': 1, '약과': 1, '다식': 1, '이룰것이다': 1, '해보면고기': 1, '고사리': 1, '무침과': 1, '짠맛': 1, '반찬': 1, '더해질': 1, '여기는': 1, '부드럽게만': 1, '넓어질것이다': 1, '쌉싸래하면서도': 1, '훌륭하게': 1, '감도있다': 1, '녹아있고': 1, '받는이': 1, '간나': 1, '있다면시라': 1, '감흥': 1, '받을것이라': 1, '독특하고': 1, '느낌이잘': 1, '좀아는이에게선': 1, '물을한': 1, '할것이라': 1, '더한다면': 1, '더뜻': 1, '단정하고': 1, '사자': 1, '유니콘': 1, '맞다': 1, '그리녹': 1, '책임': 1, '특별한데': 1, '비오니에를': 1, '해농밀': 1, '가지고있어서': 1, '마운': 1, '분들': 1, '백합': 1, '그라스': 1, '하고플': 1, '서진하': 1, '둥글': 1, '궁글': 1, '탕수육': 1, '레메르퀴레블': 1, '해초': 1, '섬세한여': 1, '성미': 1, '겉': 2, '소박하지만': 1, '볼수록': 1, '질리': 1, '있는것이다': 1, '화장': 1, '한듯': 1, '자연미': 1, '자신감': 1, '있었을': 1, '가능한것이다': 1, '아름': 1, '하는것이': 1, '페브르의샤블': 1, '리만': 1, '해오고': 1, '페브르': 1, '함축': 1, '실적': 1, '루티함': 1, '닿으며': 1, '감촉': 1, '편안하게한': 1, '어어': 1, '남기면': 1, '흔들': 1, '가향': 1, '상당한': 1, '뫼르': 1, '무겁고': 1, '질척한면과는': 1, '동떨어진': 1, '적당해서': 1, '편안하며': 1, '꽉': 1, '차오른다': 2, '삼키면': 1, '캐슈': 1, '미라': 1, '쌉쌀함이': 1, '재워구': 1, '타이거': 1, '새우': 1, '오징어': 1, '가기': 1, '대감': 1, '불러일으킨다': 1, '해시': 1, '변하는': 1, '볼수있었다': 1, '채우는듯': 1, '도덕': 1, '찌르는듯': 1, '부담스러운이': 1, '접하는이에게': 1, '여리': 1, '여리하고': 1, '기류': 1, '잘살려구': 1, '운오리': 1, '곁들이': 1, '권한다': 1, '퀴레는꼬뜨드샬': 1, '보려': 1, '간만': 1, '까라는': 1, '들었을': 1, '때손': 1, '들고나가': 1, '얘기': 1, '숲': 1, '부드럽다': 1, '짧은것이': 1, '산뜻하다': 1, '일드': 1, '맘껏': 1, '즐길수있을것': 1, '기저': 1, '깔린': 1, '유려': 1, '함이잘': 1, '도도하면서도': 1, '어리지만': 1, '피노누아르': 1, '있으련': 1, '섬세함의': 1, '루한': 1, '엄청난': 1, '함부로': 1, '무어': 1, '야하며': 1, '살펴보아': 1, '야한다': 1, '은제': 1, '보여주지': 1, '묵직함을': 1, '섣불리': 1, '단정': 1, '짓는것은': 1, '위험할것이다': 1, '영롱하며': 1, '콧속': 1, '뚜렷하다': 1, '샹볼뮈': 1, '알고싶은': 1, '리조토': 1, '소고기구이': 1, '북경오리': 1, '슬등': 1}\n"
     ]
    }
   ],
   "source": [
    "print(vocab)"
   ]
  },
  {
   "cell_type": "markdown",
   "metadata": {},
   "source": [
    "###### 빈도수 순으로 나열함"
   ]
  },
  {
   "cell_type": "code",
   "execution_count": 37,
   "metadata": {},
   "outputs": [],
   "source": [
    "vocab_sorted = sorted(vocab.items(), key=lambda x: x[1], reverse=True)"
   ]
  },
  {
   "cell_type": "code",
   "execution_count": 38,
   "metadata": {
    "scrolled": false
   },
   "outputs": [
    {
     "name": "stdout",
     "output_type": "stream",
     "text": [
      "[('와인', 2321), ('적', 697), ('하', 580), ('생산', 573), ('향', 527), ('포도', 387), ('좋은', 334), ('오크', 329), ('등', 319), ('지역', 308), ('아로마', 294), ('너리', 286), ('품종', 278), ('체리', 277), ('샴페인', 251), ('들', 243), ('과일', 236), ('스파클링', 227), ('꽃', 216), ('입안', 203), ('피노', 200), ('된', 198), ('매력', 192), ('타닌', 188), ('로', 182), ('숙성', 177), ('맛', 175), ('자두', 174), ('누', 172), ('잘', 164), ('부드러운', 163), ('띠', 162), ('100', 160), ('레이블', 158), ('프랑스', 155), ('요리', 149), ('미가', 149), ('느낌', 145), ('복숭아', 144), ('이름', 143), ('과실', 142), ('감', 140), ('바닐라', 140), ('이탈리아', 139), ('미네랄', 136), ('여운', 134), ('음식', 133), ('산미', 131), ('자리', 129), ('의향', 127), ('미를', 126), ('붉은', 126), ('개', 126), ('선물', 126), ('레몬', 125), ('블렌딩', 125), ('사용', 125), ('추천', 125), ('딸기', 124), ('같은', 124), ('바디', 122), ('익은', 121), ('이', 121), ('스타일', 121), ('복합', 121), ('다양한', 120), ('있는', 119), ('일향', 117), ('느껴진다', 116), ('배', 116), ('품질', 114), ('해', 113), ('블랙베리', 113), ('소비', 111), ('풍부한', 110), ('신선한', 109), ('블랙', 109), ('의', 107), ('뛰어난', 106), ('사과', 106), ('질감', 105), ('허브', 105), ('의미', 104), ('미와', 104), ('하기', 104), ('기분', 103), ('빛', 103), ('생산자', 102), ('입니다', 100), ('우아한', 98), ('밸리', 98), ('카베', 98), ('균형', 97), ('트러스', 97), ('달콤한', 96), ('오렌지', 96), ('스페인', 96), ('실향', 94), ('레드', 93), ('색', 92), ('발효', 92), ('통', 91), ('재배', 91), ('도', 91), ('되는', 90), ('중', 90), ('특징', 90), ('조화', 90), ('컬러', 87), ('있다', 87), ('살구', 86), ('샤르도네', 86), ('를', 86), ('루비', 85), ('미국', 85), ('밭', 84), ('베리', 84), ('위', 84), ('산도', 83), ('대표', 83), ('월간', 81), ('캘리포니아', 81), ('즐기기', 81), ('르', 81), ('수확', 79), ('장', 79), ('버블', 78), ('느껴지는', 78), ('밸런스', 76), ('했다', 75), ('때', 74), ('시라', 73), ('향기', 73), ('프리미엄', 72), ('마시기', 72), ('그', 71), ('표현', 71), ('조감', 71), ('풀', 70), ('라즈베리', 70), ('선사', 69), ('느낄수있다', 68), ('개월', 68), ('육류', 67), ('한산도', 66), ('포', 66), ('가지', 66), ('인상', 65), ('은은한', 65), ('된다', 65), ('뉘앙스', 65), ('후', 65), ('향신료', 64), ('전통', 64), ('최고', 64), ('가득', 64), ('화이트와인', 64), ('브랜드', 63), ('지속', 63), ('감초', 63), ('부르고뉴', 63), ('진한', 62), ('빈야드', 62), ('뜻', 62), ('후추', 61), ('좋다', 61), ('섬세한', 60), ('링', 60), ('상큼', 59), ('느껴지며', 59), ('뇽', 59), ('쉬라즈', 59), ('가족', 59), ('프렌치', 59), ('치즈', 59), ('높은', 58), ('초콜릿', 58), ('호주', 58), ('어울린다', 57), ('칠레', 57), ('위해', 57), ('세계', 57), ('메', 57), ('양조', 57), ('흰', 56), ('곳', 56), ('리', 56), ('로만', 56), ('류', 55), ('통해', 55), ('가장', 55), ('역사', 55), ('약간', 55), ('더욱', 55), ('위치', 54), ('해산물', 54), ('라임', 54), ('생동감', 54), ('디저트', 53), ('배럴', 53), ('정도', 53), ('자', 53), ('미', 53), ('개성', 52), ('장미', 52), ('합니다', 52), ('밝은', 51), ('모스', 51), ('매우', 51), ('는', 51), ('깊은', 51), ('화이트', 50), ('까', 50), ('병', 50), ('메이커', 50), ('평가', 50), ('스파이', 50), ('크', 50), ('입', 50), ('바', 50), ('뒤', 49), ('스', 49), ('프리', 48), ('검은', 47), ('가격', 47), ('열대과일', 47), ('드라이', 47), ('날', 47), ('부드럽게', 46), ('알코올', 46), ('부담', 46), ('1', 45), ('자몽', 45), ('더', 45), ('코', 45), ('갖춘', 44), ('자연', 44), ('스파이스', 43), ('방식', 43), ('유의', 43), ('샤', 43), ('블루베리', 43), ('과정', 43), ('보르도', 43), ('레드와인', 43), ('베', 42), ('꽃향', 42), ('명성', 42), ('넘치는', 42), ('시작', 42), ('함', 42), ('출시', 42), ('할', 42), ('어울리는', 42), ('뇽블', 42), ('조', 42), ('부드럽고', 41), ('아름다운', 41), ('좋고', 41), ('카토', 41), ('4', 41), ('유기농', 41), ('시간', 41), ('런트', 41), ('토착', 41), ('사람', 41), ('원', 40), ('샐러드', 40), ('긴', 40), ('현재', 40), ('보여준다', 40), ('탄생', 40), ('오픈', 40), ('드', 40), ('최초', 39), ('강렬한', 39), ('차', 39), ('12', 39), ('진행', 39), ('3', 39), ('커', 39), ('데', 39), ('큰', 39), ('선택', 39), ('르네소비뇽', 39), ('산뜻한', 38), ('매칭', 38), ('페어', 38), ('말린', 38), ('비', 38), ('선정', 38), ('레', 38), ('되었다', 37), ('티', 37), ('론', 37), ('것', 37), ('살짝', 37), ('20', 37), ('국가', 37), ('탱크', 37), ('여름', 37), ('궁합', 37), ('50', 36), ('10', 36), ('했으며', 36), ('식전주', 36), ('6', 36), ('탄닌', 36), ('않은', 36), ('바로', 36), ('다크', 36), ('성', 36), ('어우러져', 35), ('봄', 35), ('상', 35), ('핑크', 35), ('프로세코', 35), ('피니시', 34), ('우아하고', 34), ('야생', 34), ('연상', 34), ('스틸', 34), ('가벼운', 34), ('뤼', 34), ('빈티', 34), ('손수', 34), ('많은', 33), ('느껴지고', 33), ('와', 33), ('인기', 33), ('점', 33), ('토스트', 33), ('토양', 33), ('5', 33), ('감귤', 33), ('떼루아', 33), ('산', 33), ('피에몬테', 33), ('설립', 33), ('했어요', 33), ('보틀', 33), ('있으며', 32), ('풍부하게', 32), ('캐릭터', 32), ('리티', 32), ('용해', 32), ('특', 32), ('대', 32), ('훌륭한', 32), ('좋습니다', 32), ('한국', 32), ('남', 32), ('즐기는', 32), ('아몬드', 31), ('멘', 31), ('껍질', 31), ('경영', 31), ('사랑', 31), ('효모', 31), ('꿀', 31), ('트', 31), ('화', 31), ('토스카나', 31), ('세련된', 31), ('내추럴', 31), ('바르', 30), ('채', 30), ('경험', 30), ('검', 30), ('슬링', 30), ('피니쉬', 30), ('인', 30), ('계', 30), ('파스타', 30), ('하우스', 30), ('가볍게', 30), ('가문', 30), ('아카시아', 29), ('옅은', 29), ('유명한', 29), ('적당한', 29), ('2', 29), ('감도는', 29), ('의과', 29), ('파인애플', 29), ('식', 29), ('시칠리아', 29), ('스테이크', 29), ('느낄수있는', 29), ('깔끔한', 29), ('리아', 29), ('브리', 29), ('도수', 29), ('가진', 29), ('완성', 29), ('않고', 29), ('밤', 29), ('확', 29), ('모습', 29), ('어울립니다', 29), ('풍부하고', 28), ('로부터', 28), ('이인상', 28), ('바인', 28), ('토', 28), ('풍부한과', 28), ('곁들이기', 28), ('수령', 28), ('산지', 28), ('친환경', 28), ('시선', 28), ('르나슈', 28), ('5월', 28), ('리다', 28), ('특별한', 27), ('유지', 27), ('네', 27), ('크리미', 27), ('단맛', 27), ('이후', 27), ('15', 27), ('보여주는', 27), ('전세계', 27), ('마음', 27), ('유명', 27), ('운', 27), ('명', 27), ('진판델', 27), ('미티', 27), ('한가위', 27), ('편하게', 26), ('기념', 26), ('야외', 26), ('때문', 26), ('했고', 26), ('생선', 26), ('분위기', 26), ('기도', 26), ('미에', 26), ('신맛', 26), ('화사한', 25), ('담은', 25), ('18', 25), ('섬세하고', 25), ('마을', 25), ('남긴다', 25), ('신선하고', 25), ('이상', 25), ('짙은', 25), ('지닌', 25), ('온도', 25), ('즐길수있는', 25), ('순간', 25), ('어', 25), ('처음', 25), ('스테인리스', 25), ('시나몬', 25), ('가', 25), ('뉴질랜드', 25), ('영국', 25), ('독', 25), ('보디', 25), ('싱그러운', 24), ('금빛', 24), ('주는', 24), ('소노마', 24), ('붉은과', 24), ('숙성한다', 24), ('각종', 24), ('미감', 24), ('분', 24), ('급', 24), ('담긴', 24), ('쉽게', 24), ('했죠', 24), ('담아', 24), ('나파', 24), ('눈', 24), ('버터', 24), ('7', 24), ('새로운', 24), ('스카', 24), ('판델', 24), ('좋아요', 24), ('8', 23), ('돋보이는', 23), ('남기는', 23), ('카운티', 23), ('꼽힌다', 23), ('색상', 23), ('안티', 23), ('가죽', 23), ('특성', 23), ('너', 23), ('봄날', 23), ('한다', 23), ('삼나무', 23), ('고급스러운', 23), ('스타', 23), ('꼽히는', 23), ('아는', 23), ('스티', 22), ('제', 22), ('및', 22), ('전체', 22), ('차례', 22), ('집중', 22), ('베르', 22), ('간', 22), ('지금', 22), ('이자', 22), ('라벨', 22), ('실의', 22), ('21', 22), ('바이올렛', 22), ('만들어', 22), ('자랑', 22), ('잼', 22), ('하나', 22), ('테', 22), ('무게', 22), ('소유', 22), ('평론가', 22), ('묵직한', 22), ('포함', 22), ('리오하', 22), ('롤로', 22), ('철학', 22), ('포르투갈', 22), ('제르', 22), ('이룬다', 21), ('미디엄', 21), ('되어', 21), ('부케', 21), ('입맛', 21), ('도의', 21), ('크리스마스', 21), ('아주', 21), ('안', 21), ('정향', 21), ('힌트', 21), ('이미지', 21), ('해서', 21), ('오슈', 21), ('최소', 21), ('즐길수있다', 21), ('커피', 21), ('수입', 21), ('마셔', 21), ('대상', 21), ('또한', 21), ('만든', 21), ('싱글', 21), ('로제', 21), ('숙성했다', 21), ('용량', 21), ('헤이즐넛', 20), ('조화롭게', 20), ('견과류', 20), ('긋', 20), ('매콤', 20), ('매혹', 20), ('마셔도', 20), ('디자인', 20), ('판매', 20), ('피어', 20), ('년', 20), ('길게', 20), ('아르헨티나', 20), ('신선', 20), ('한번', 20), ('커런트', 20), ('축하', 20), ('이어지는', 20), ('당', 20), ('테이', 20), ('없는', 20), ('달', 20), ('즐겨', 20), ('부부', 20), ('8월', 20), ('받고있다', 20), ('샤토', 20), ('추석', 20), ('루아', 20), ('든', 19), ('위트', 19), ('한여운', 19), ('약', 19), ('신선한과', 19), ('섬세한기', 19), ('잡힌', 19), ('농축', 19), ('동시', 19), ('시리즈', 19), ('한과', 19), ('시한', 19), ('역시', 19), ('올해', 19), ('긋한', 19), ('상징', 19), ('브뤼', 19), ('뛰어나다', 19), ('어우러지는', 19), ('자체', 19), ('꼭', 19), ('볼', 19), ('마트', 19), ('받는', 19), ('소고기', 19), ('민트', 19), ('평균', 19), ('몬테스', 19), ('키', 19), ('하나로', 19), ('파티', 19), ('듯', 19), ('노란색', 18), ('이기', 18), ('소량', 18), ('모양', 18), ('골드', 18), ('달콤하고', 18), ('독일', 18), ('하다', 18), ('제거', 18), ('월동', 18), ('스테인레스', 18), ('할수있는', 18), ('과꽃', 18), ('량', 18), ('째', 18), ('탄산', 18), ('크림', 18), ('완벽한', 18), ('그림', 18), ('제격', 18), ('내', 18), ('덕분', 18), ('전형', 18), ('엄선', 18), ('브', 18), ('볏짚', 18), ('청량감', 18), ('편', 18), ('초여름', 18), ('즐겁게', 18), ('최근', 18), ('낸', 18), ('망고', 18), ('프라', 18), ('완숙', 18), ('2019년', 18), ('받고있는', 18), ('한식', 18), ('최상급', 17), ('화려한', 17), ('나무', 17), ('기록', 17), ('동안', 17), ('가르나', 17), ('클래식', 17), ('담배', 17), ('마무리', 17), ('되며', 17), ('적당', 17), ('서늘한', 17), ('사', 17), ('노하우', 17), ('애호가', 17), ('구조', 17), ('포도나무', 17), ('버섯', 17), ('해도', 17), ('보세요', 17), ('모카', 17), ('어우러지며', 17), ('그대로', 17), ('루', 17), ('기술', 17), ('소개', 17), ('농법', 17), ('하는', 17), ('누구', 17), ('6월', 17), ('주목', 17), ('운영', 17), ('보데', 17), ('2021년', 17), ('보여줍니다', 17), ('어우러진다', 16), ('반짝이는', 16), ('적용', 16), ('북부', 16), ('즐겨도', 16), ('은색', 16), ('힘', 16), ('토스티', 16), ('있고', 16), ('비롯', 16), ('사랑스러운', 16), ('피', 16), ('스모키', 16), ('을사', 16), ('적절한', 16), ('불리는', 16), ('바탕', 16), ('느낄수있으며', 16), ('은은하게', 16), ('기후', 16), ('세기', 16), ('용', 16), ('우아하게', 16), ('차지', 16), ('강한', 16), ('비올', 16), ('집', 16), ('낸다', 16), ('더한다', 16), ('시', 16), ('지방', 16), ('감각', 16), ('시키는', 16), ('일반', 16), ('호', 16), ('캔', 16), ('꾸준히', 16), ('현대', 16), ('포트와인', 16), ('뉴', 16), ('봄바람', 16), ('타는', 16), ('샹파뉴', 15), ('전문가', 15), ('황금색', 15), ('남부', 15), ('70', 15), ('매년', 15), ('붉', 15), ('90', 15), ('따라', 15), ('24', 15), ('좋게', 15), ('은', 15), ('마시면', 15), ('그려진', 15), ('올라오는', 15), ('이루며', 15), ('그룹', 15), ('력', 15), ('라면', 15), ('넣어', 15), ('준다', 15), ('보랏빛', 15), ('도로', 15), ('30', 15), ('음', 15), ('주류', 15), ('아니라', 15), ('일리', 15), ('적절', 15), ('곁들여', 15), ('건포도', 15), ('쁘띠', 15), ('가을', 15), ('성비', 15), ('농', 15), ('선보이는', 15), ('순수한', 15), ('우아함', 15), ('최대한', 15), ('가득한', 15), ('노', 15), ('등급', 15), ('투', 15), ('대한', 15), ('할수있다', 15), ('템', 15), ('몰도바', 15), ('2020년', 15), ('텔', 15), ('있어요', 15), ('이을', 15), ('있습니다', 15), ('보진', 15), ('싶은', 15), ('밝고', 14), ('7월', 14), ('인물', 14), ('즐기기에', 14), ('마르', 14), ('잔', 14), ('육두구', 14), ('침용', 14), ('페', 14), ('베이스', 14), ('중간', 14), ('압', 14), ('브루', 14), ('쪼', 14), ('쏘는', 14), ('움', 14), ('한로', 14), ('하였다', 14), ('받은', 14), ('있어', 14), ('워싱턴주', 14), ('터치', 14), ('가성', 14), ('바람', 14), ('받아', 14), ('스펙', 14), ('터', 14), ('오래된', 14), ('가치', 14), ('벨벳', 14), ('클라시코', 14), ('베제', 14), ('주로', 14), ('말보로', 14), ('양념', 14), ('고향', 14), ('고유', 14), ('숙성한', 14), ('19', 14), ('결혼', 14), ('랄리', 14), ('오스트리아', 14), ('독특한', 14), ('스토리', 14), ('바이오', 14), ('갖춰', 14), ('있죠', 14), ('홈술', 14), ('맑은', 13), ('거품', 13), ('마리', 13), ('만드는', 13), ('석류', 13), ('차갑게', 13), ('검은과', 13), ('손', 13), ('로양', 13), ('촘촘', 13), ('열매', 13), ('샤르', 13), ('기간', 13), ('설레는', 13), ('실제', 13), ('생일', 13), ('다시', 13), ('좋아', 13), ('법', 13), ('꽤', 13), ('밸런타인데이', 13), ('형', 13), ('마치', 13), ('깊이', 13), ('콤', 13), ('씨', 13), ('몬테', 13), ('그린', 13), ('졸업', 13), ('기운', 13), ('정제', 13), ('병입', 13), ('과', 13), ('작은', 13), ('노트', 13), ('가볍고', 13), ('베네토', 13), ('가미', 13), ('패밀리', 13), ('깊고', 13), ('홈파티', 13), ('14', 13), ('아닌', 13), ('지오', 13), ('이어', 13), ('11', 13), ('최대', 13), ('놀라운', 13), ('페리', 13), ('스페인어', 13), ('40년', 13), ('예술', 13), ('국제', 13), ('레드베리', 13), ('좋으며', 13), ('세대', 13), ('3월', 13), ('헥타르', 13), ('글', 13), ('니요', 13), ('경쾌한', 13), ('네프', 13), ('매체', 13), ('다이내믹', 13), ('일상', 13), ('카', 13), ('출발', 13), ('포트', 13), ('코르', 13), ('된이', 13), ('연말', 13), ('톡', 13), ('그르나슈', 13), ('에르', 13), ('브루스', 13), ('스페셜', 13), ('즐길', 13), ('전환', 13), ('산책', 13), ('미니', 13), ('750', 13), ('연한', 12), ('발', 12), ('비율', 12), ('제임스', 12), ('세', 12), ('영감', 12), ('이길게', 12), ('뜨', 12), ('레인지', 12), ('로버트', 12), ('소스', 12), ('고급', 12), ('보이', 12), ('하면', 12), ('호두', 12), ('겨울', 12), ('산딸기', 12), ('과즙', 12), ('신선함과', 12), ('주', 12), ('떼땅', 12), ('25', 12), ('낮은', 12), ('리터', 12), ('선별', 12), ('감칠맛', 12), ('셀러', 12), ('바이', 12), ('시원한', 12), ('대한민국', 12), ('어울리며', 12), ('무화과', 12), ('올라오고', 12), ('이어진다', 12), ('미도', 12), ('비교', 12), ('린', 12), ('자란', 12), ('레이', 12), ('알파', 12), ('레스토랑', 12), ('코코아', 12), ('직접', 12), ('생기', 12), ('파', 12), ('뿐', 12), ('리치', 12), ('틱', 12), ('쥐', 12), ('5년', 12), ('최상', 12), ('역할', 12), ('어떨까', 12), ('보', 12), ('비해', 12), ('루씨', 12), ('영향', 12), ('올라온다', 12), ('숙성해', 12), ('알', 12), ('없다', 12), ('찾는다면', 12), ('인즈', 12), ('전하', 12), ('인증', 12), ('만들고있다', 12), ('잠재력', 12), ('마시고싶은', 12), ('무더위', 12), ('느낄수있어요', 12), ('될거예요', 12), ('카바', 12), ('스튜', 11), ('하며', 11), ('남는', 11), ('30년', 11), ('여름날', 11), ('느낄수있고', 11), ('코노수르', 11), ('피자', 11), ('작품', 11), ('견고한', 11), ('유럽', 11), ('익은과', 11), ('농밀', 11), ('쉬', 11), ('80', 11), ('조화로운', 11), ('사이', 11), ('바비큐', 11), ('다른', 11), ('고풍', 11), ('목', 11), ('황금', 11), ('중심', 11), ('끌어', 11), ('수출', 11), ('가지고있다', 11), ('인과', 11), ('시켰다', 11), ('형성', 11), ('빛나는', 11), ('모임', 11), ('즐기면', 11), ('치킨', 11), ('20년', 11), ('좋', 11), ('고소한', 11), ('섬세하면서도', 11), ('도감', 11), ('블랜딩', 11), ('국내', 11), ('양', 11), ('않아', 11), ('구입', 11), ('인한', 11), ('더해져', 11), ('가능한', 11), ('구획', 11), ('16', 11), ('10년', 11), ('루아르', 11), ('세르', 11), ('시장', 11), ('치명', 11), ('60', 11), ('트렌디', 11), ('돋워', 11), ('통방', 11), ('하면서도', 11), ('반영', 11), ('한해', 11), ('무', 11), ('방법', 11), ('행복한', 11), ('토다', 11), ('진하고', 11), ('저온', 11), ('9월', 11), ('10월', 11), ('말', 11), ('미의', 11), ('2017년', 11), ('1년', 11), ('즐길수있어요', 11), ('두루', 11), ('랑그', 11), ('슈냉블', 11), ('레망', 11), ('모나스', 11), ('트렐', 11), ('어울려요', 11), ('삼계탕', 11), ('벚꽃', 11), ('더풀', 11), ('드넓은', 11), ('어려운리', 11), ('바를아는게', 11), ('리지', 10), ('언덕', 10), ('끌', 10), ('3년', 10), ('돋보이며', 10), ('비오니에', 10), ('꼬', 10), ('여름철', 10), ('즐거움', 10), ('실크', 10), ('아스', 10), ('발사믹', 10), ('시킨다', 10), ('리미티드에디션', 10), ('잔잔한', 10), ('4월', 10), ('번', 10), ('85', 10), ('카라멜', 10), ('충분히', 10), ('이주', 10), ('면', 10), ('넘김', 10), ('설탕', 10), ('상쾌한', 10), ('거쳐', 10), ('마지막', 10), ('시즌', 10), ('또', 10), ('마', 10), ('향기로운', 10), ('별로', 10), ('이는', 10), ('감귤류', 10), ('돼지고기', 10), ('예쁜', 10), ('자주', 10), ('깨끗한', 10), ('어우러진', 10), ('문화', 10), ('있게', 10), ('올라오며', 10), ('보이는', 10), ('환경', 10), ('투명한', 10), ('깔끔하게', 10), ('더운', 10), ('랑게', 10), ('점토', 10), ('선보인', 10), ('선', 10), ('가금류', 10), ('타라', 10), ('카시스', 10), ('늦', 10), ('흙', 10), ('리스', 10), ('칼', 10), ('중요한', 10), ('로스', 10), ('파워', 10), ('조화롭다', 10), ('요', 10), ('멘티', 10), ('생생한', 10), ('멜론', 10), ('정강', 10), ('해와인을', 10), ('장점', 10), ('미는', 10), ('캉스', 10), ('한산', 10), ('행사', 10), ('성한', 10), ('더없이', 10), ('할만', 10), ('장미꽃', 10), ('란', 10), ('온', 10), ('해만', 10), ('등장', 10), ('푸', 10), ('리버', 10), ('몬', 10), ('슬로베니아', 10), ('델', 10), ('프란치아', 10), ('생각', 10), ('산지오', 10), ('토레스', 10), ('발견', 10), ('폭염', 10), ('했습니다', 10), ('만끽', 10), ('펫낫', 10), ('이제', 10), ('홈스', 10), ('샤블', 10), ('얼마나', 10), ('팔방미인', 10), ('뀌베', 9), ('도사', 9), ('40', 9), ('계피', 9), ('만든다', 9), ('등신', 9), ('빛깔', 9), ('변화', 9), ('파이', 9), ('가넷', 9), ('매끄러운', 9), ('추구', 9), ('거치', 9), ('부분', 9), ('조절', 9), ('며', 9), ('한잔', 9), ('드는', 9), ('향등', 9), ('응축', 9), ('노력', 9), ('이태리', 9), ('치아노', 9), ('보유', 9), ('부드러움', 9), ('퀄리티', 9), ('층', 9), ('줄기', 9), ('선한', 9), ('끝', 9), ('서양배', 9), ('낮', 9), ('저녁', 9), ('편이', 9), ('않는', 9), ('이루는', 9), ('운빵', 9), ('신선함이', 9), ('쥬', 9), ('간직', 9), ('피크닉', 9), ('한여름', 9), ('해줄', 9), ('여름밤', 9), ('무더운', 9), ('의자', 9), ('션', 9), ('즐거운', 9), ('워싱턴', 9), ('아버지', 9), ('접촉', 9), ('찬', 9), ('공식', 9), ('환상', 9), ('라스', 9), ('우아함을', 9), ('달콤함과', 9), ('해발', 9), ('귀족', 9), ('브라', 9), ('편안한', 9), ('보는', 9), ('오', 9), ('해안', 9), ('인양', 9), ('성하게', 9), ('극찬', 9), ('카르페디엠', 9), ('아메리칸', 9), ('그릴', 9), ('만들었다', 9), ('벡', 9), ('어울리고', 9), ('시킨', 9), ('하는데', 9), ('대손', 9), ('하지', 9), ('아티스트', 9), ('모티브', 9), ('아시아', 9), ('청포도', 9), ('셀라', 9), ('출신', 9), ('11월', 9), ('아이스와인', 9), ('걸쳐', 9), ('카스', 9), ('이불', 9), ('담았다', 9), ('해온', 9), ('끄는', 9), ('해보세요', 9), ('보양식', 9), ('미세먼지', 9), ('갈비', 9), ('드러난다', 9), ('식사', 9), ('셰리', 9), ('종류', 9), ('할로윈', 9), ('젤리', 8), ('우아하면서', 8), ('개척', 8), ('프루', 8), ('풍부하다', 8), ('타르', 8), ('타르트', 8), ('미각', 8), ('보면', 8), ('보라', 8), ('쿠', 8), ('파커', 8), ('대부분', 8), ('달콤한과', 8), ('소비뇽블', 8), ('트리', 8), ('제품', 8), ('풋', 8), ('느낄수있습니다', 8), ('양고기', 8), ('왔다', 8), ('우아함과', 8), ('장기', 8), ('즐기', 8), ('가능', 8), ('따뜻한', 8), ('튀는', 8), ('자극', 8), ('인해', 8), ('얼음', 8), ('프레', 8), ('디', 8), ('은세계', 8), ('섬세하게', 8), ('35', 8), ('되고', 8), ('누리고있는', 8), ('했던', 8), ('폭발', 8), ('압착', 8), ('작업', 8), ('필터', 8), ('밀도', 8), ('뛰어난구', 8), ('콜롬비아', 8), ('상쾌', 8), ('북쪽', 8), ('부문', 8), ('띤', 8), ('강렬하게', 8), ('참', 8), ('해주는', 8), ('시원하게', 8), ('초밥', 8), ('엘레', 8), ('정말', 8), ('가가', 8), ('속', 8), ('카페', 8), ('되', 8), ('꿀향', 8), ('제비꽃', 8), ('따', 8), ('프로방스', 8), ('최고급', 8), ('에디', 8), ('한정', 8), ('연간', 8), ('선명한', 8), ('모두', 8), ('되기', 8), ('숙성하였다', 8), ('의아', 8), ('깔끔하고', 8), ('비솔', 8), ('이루고있다', 8), ('병입후', 8), ('2년', 8), ('멀', 8), ('로맨틱', 8), ('알자스', 8), ('프레스코발디', 8), ('1등', 8), ('지로', 8), ('흙내', 8), ('야할', 8), ('금은', 8), ('될것이다', 8), ('한비', 8), ('향상', 8), ('기반', 8), ('레비', 8), ('12월', 8), ('끄는이', 8), ('맞게', 8), ('만하', 8), ('까리', 8), ('걸', 8), ('어울리죠', 8), ('이야기', 8), ('칸', 8), ('관리', 8), ('2006년', 8), ('캐', 8), ('하고', 8), ('작가', 8), ('세미', 8), ('섬', 8), ('로쏘', 8), ('갖췄다', 8), ('해사', 8), ('날씨', 8), ('쌓은', 8), ('2018년', 8), ('캐러멜', 8), ('발렌시아', 8), ('부', 8), ('에밀리아로마냐', 8), ('1월', 8), ('선구자', 8), ('갈비찜', 8), ('글라스', 8), ('선구', 8), ('버번', 8), ('베르데', 8), ('람', 8), ('조합', 8), ('가스', 8), ('슈퍼', 8), ('느껴집니다', 8), ('곁들여도', 8), ('증', 8), ('필', 8), ('명가', 8), ('생기있는', 7), ('아트', 7), ('돈', 7), ('아스티', 7), ('흰색', 7), ('얻고있다', 7), ('은근', 7), ('됩니다', 7), ('훌륭하다', 7), ('대중', 7), ('유래', 7), ('올리브', 7), ('기본', 7), ('하면서', 7), ('1996년', 7), ('성공', 7), ('1998년', 7), ('2005년', 7), ('2008년', 7), ('의리', 7), ('일품', 7), ('해준다', 7), ('즙', 7), ('전', 7), ('새롭게', 7), ('조금', 7), ('소비자', 7), ('젖산발효', 7), ('거', 7), ('거친다', 7), ('전해', 7), ('만들어진', 7), ('보관', 7), ('첨가', 7), ('라스베리', 7), ('남호주', 7), ('의전', 7), ('모과', 7), ('노란', 7), ('강렬하면서도', 7), ('후각', 7), ('시도', 7), ('자신', 7), ('금색', 7), ('캠핑', 7), ('기름진', 7), ('삼겹살', 7), ('이병', 7), ('조건', 7), ('하기에', 7), ('평소', 7), ('좋아하는', 7), ('바나나', 7), ('들에게', 7), ('단단한', 7), ('빚', 7), ('유명하다', 7), ('100년', 7), ('담고있다', 7), ('17', 7), ('페퍼', 7), ('현지', 7), ('날려주는', 7), ('감은', 7), ('멋진', 7), ('콜', 7), ('기존', 7), ('시기', 7), ('신선함을', 7), ('이스트', 7), ('스팅', 7), ('로즈마리', 7), ('말벡', 7), ('북섬', 7), ('크로', 7), ('무엇', 7), ('고목', 7), ('않는다', 7), ('답', 7), ('버', 7), ('탁월한', 7), ('이함', 7), ('화가', 7), ('청사', 7), ('카르', 7), ('라미', 7), ('치', 7), ('스칸', 7), ('바시아', 7), ('간다', 7), ('2월', 7), ('미디움', 7), ('시켜', 7), ('추가', 7), ('송이', 7), ('체', 7), ('렐', 7), ('스트', 7), ('페테', 7), ('일', 7), ('산화', 7), ('여과', 7), ('고민', 7), ('고백', 7), ('올라옵니다', 7), ('케이크', 7), ('몬드', 7), ('성장', 7), ('확인', 7), ('쌓아', 7), ('마크', 7), ('친', 7), ('홍차', 7), ('2020', 7), ('햇살', 7), ('아노', 7), ('오브', 7), ('무겁지', 7), ('블랑드블', 7), ('합리', 7), ('신뢰', 7), ('50년', 7), ('본연', 7), ('알렉산더', 7), ('300', 7), ('전해진다', 7), ('토카이', 7), ('새해', 7), ('해야', 7), ('데스', 7), ('이어오고있는', 7), ('잘알려진', 7), ('지향', 7), ('사스', 7), ('옹', 7), ('러시안', 7), ('드러나는', 7), ('스테이', 7), ('프랑', 7), ('새', 7), ('만사', 7), ('청량한', 7), ('실천', 7), ('느낄수있죠', 7), ('존경', 7), ('춘곤', 7), ('유명하죠', 7), ('케토', 7), ('유서', 7), ('클라', 7), ('기다리며', 7), ('섞어', 7), ('설날', 7), ('페이스', 7), ('타고', 7), ('말복', 7), ('이열치열', 7), ('행운', 7), ('가비', 7), ('포로', 6), ('뫼니', 6), ('수박', 6), ('슬로', 6), ('생생', 6), ('로드', 6), ('발랄한', 6), ('마른', 6), ('종특', 6), ('어울려', 6), ('위상', 6), ('어색', 6), ('채우는', 6), ('가지고있으며', 6), ('4년', 6), ('15년', 6), ('이해', 6), ('산뜻하고', 6), ('레이어', 6), ('수준', 6), ('잘만', 6), ('조해', 6), ('콘크리트', 6), ('1997년', 6), ('2002년', 6), ('전달', 6), ('맥라렌', 6), ('베일', 6), ('끝맛', 6), ('기준', 6), ('혁신', 6), ('미셸', 6), ('롤랑', 6), ('싶다면', 6), ('대화', 6), ('2009년', 6), ('거친', 6), ('하루', 6), ('채운', 6), ('했는데', 6), ('계열', 6), ('도정', 6), ('맛있게', 6), ('소중한', 6), ('추운', 6), ('힐링', 6), ('주고', 6), ('제공', 6), ('절', 6), ('마시는', 6), ('순수하게', 6), ('산맥', 6), ('쏘', 6), ('가바', 6), ('안성맞춤', 6), ('트는', 6), ('34년', 6), ('풍기는', 6), ('불어', 6), ('지녔다', 6), ('이강하', 6), ('대형', 6), ('강건', 6), ('아침', 6), ('땅', 6), ('지배', 6), ('알바', 6), ('헝가리', 6), ('했을', 6), ('볼륨', 6), ('13', 6), ('비슷한', 6), ('온다', 6), ('푸만', 6), ('에', 6), ('티니', 6), ('인생', 6), ('다음', 6), ('적당하다', 6), ('전해지는', 6), ('단단한구', 6), ('건', 6), ('배적', 6), ('의당', 6), ('결', 6), ('차별', 6), ('탄탄한구', 6), ('저렴한', 6), ('스톤', 6), ('마르카', 6), ('대비', 6), ('어디', 6), ('같다', 6), ('캔디', 6), ('첫', 6), ('번째', 6), ('정체', 6), ('깊고진', 6), ('클로브', 6), ('지인', 6), ('타', 6), ('판매량', 6), ('9', 6), ('섬세', 6), ('찌', 6), ('위대한', 6), ('만들기', 6), ('감미로운', 6), ('의지', 6), ('미슐랭', 6), ('형태', 6), ('도입', 6), ('세이지', 6), ('피네토', 6), ('와카', 6), ('포드', 6), ('베이', 6), ('주스', 6), ('실수', 6), ('배달', 6), ('우아하면서도', 6), ('하던', 6), ('방언', 6), ('소소한', 6), ('케', 6), ('되어있다', 6), ('스데', 6), ('왕실', 6), ('석회암', 6), ('닉', 6), ('1994년', 6), ('머', 6), ('해당', 6), ('보석같은', 6), ('타입', 6), ('존재', 6), ('시키고', 6), ('리가', 6), ('이탈리아어', 6), ('몰리', 6), ('가긴', 6), ('달콤하면서도', 6), ('낮아', 6), ('즐길수있으며', 6), ('빠르게', 6), ('마르케', 6), ('건배', 6), ('사이즈', 6), ('상의', 6), ('이르는', 6), ('2016년', 6), ('마로', 6), ('시스', 6), ('서쪽', 6), ('받으며', 6), ('대를', 6), ('은진', 6), ('아스카', 6), ('단', 6), ('추출', 6), ('루바', 6), ('부른다', 6), ('전혀', 6), ('알수있듯', 6), ('후미', 6), ('없', 6), ('강조', 6), ('감있는', 6), ('적당한당', 6), ('벨라', 6), ('비스타', 6), ('톡톡', 6), ('연어', 6), ('신선함', 6), ('풀뽀', 6), ('로꼬', 6), ('면서', 6), ('스타일리시', 6), ('활동', 6), ('경력', 6), ('카탈', 6), ('리나', 6), ('포르타', 6), ('일러스트', 6), ('정취', 6), ('폴리', 6), ('메인', 6), ('즐길수있습니다', 6), ('블렌드', 6), ('감도', 6), ('최소한', 6), ('마스터', 6), ('인도', 6), ('셀렉', 6), ('2013년', 6), ('좋지만', 6), ('고스', 6), ('2010년', 6), ('어울리니', 6), ('오는', 6), ('돋보인다', 6), ('는바', 6), ('모던', 6), ('열정', 6), ('개국', 6), ('규모', 6), ('들이', 6), ('아마로', 6), ('화학', 6), ('불리', 6), ('마카베오', 6), ('정신', 6), ('즐', 6), ('기기', 6), ('셉', 6), ('자와인', 6), ('유기농법', 6), ('점수', 6), ('막', 6), ('한도', 6), ('파주', 6), ('칸티', 6), ('들도', 6), ('앤', 6), ('곁들이면', 6), ('산타', 6), ('한농', 6), ('간단한', 6), ('알토', 6), ('할만큼', 6), ('한눈', 6), ('좋죠', 6), ('연인', 6), ('캐논볼', 6), ('남깁니다', 6), ('이룹니다', 6), ('아이콘', 6), ('즐기며', 6), ('떠오르는', 6), ('무렵', 6), ('매끈한', 6), ('있는데', 6), ('썸', 6), ('들어줄', 6), ('품격', 6), ('멈', 6), ('명절', 6), ('하기에도', 6), ('앙리', 6), ('줍니다', 6), ('랏', 6), ('리즈', 6), ('무슨', 6), ('잭슨', 6), ('라포', 6), ('매운', 6), ('기쁨', 6), ('문화생활', 6), ('함께하고', 6), ('구이', 6), ('음악', 6), ('재즈', 6), ('정교한', 5), ('뮈', 5), ('여왕', 5), ('별칭', 5), ('1867년', 5), ('분홍색', 5), ('베니안', 5), ('샤를', 5), ('대회', 5), ('호평', 5), ('품', 5), ('느', 5), ('1976년', 5), ('제작', 5), ('더해진', 5), ('되고있다', 5), ('풍부하면서도', 5), ('분량', 5), ('정적', 5), ('확대', 5), ('옐로우', 5), ('라인', 5), ('붉은빛', 5), ('실키', 5), ('다듬어진', 5), ('취향', 5), ('팬', 5), ('마방', 5), ('된과', 5), ('두르', 5), ('루즈', 5), ('보르', 5), ('네타', 5), ('자라는', 5), ('오버', 5), ('나머지', 5), ('이러한', 5), ('몸', 5), ('기전', 5), ('무난', 5), ('조각', 5), ('맑고', 5), ('복', 5), ('클', 5), ('와당', 5), ('개념', 5), ('신선하면서도', 5), ('짧은', 5), ('미로', 5), ('팀', 5), ('뛰어나', 5), ('젊은', 5), ('달콤함', 5), ('텍스처', 5), ('각기', 5), ('없죠', 5), ('피노뮈니', 5), ('2014년', 5), ('크릭', 5), ('다르게', 5), ('국적', 5), ('당분', 5), ('이도', 5), ('2000년', 5), ('태평양', 5), ('은은하고', 5), ('날수', 5), ('완전히', 5), ('타바코', 5), ('만들어졌다', 5), ('숫자', 5), ('가운데', 5), ('열의', 5), ('싶다', 5), ('생미셸', 5), ('들어준다', 5), ('될것', 5), ('묵직하고', 5), ('아름답게', 5), ('다이아몬드', 5), ('살아있는', 5), ('강스', 5), ('온화한', 5), ('은빈', 5), ('가물', 5), ('라가', 5), ('작고', 5), ('해변', 5), ('감성', 5), ('이었다', 5), ('스카치', 5), ('딸', 5), ('로이', 5), ('질', 5), ('카버', 5), ('차구아', 5), ('지를', 5), ('서는', 5), ('프로젝트', 5), ('2017', 5), ('정', 5), ('멋', 5), ('파카', 5), ('우아함이', 5), ('빵', 5), ('쁘띠베르', 5), ('감치', 5), ('킴', 5), ('둔', 5), ('느껴지지', 5), ('도전', 5), ('그리', 5), ('과시', 5), ('발도', 5), ('비아', 5), ('2004년', 5), ('보존', 5), ('하겠다는', 5), ('컬', 5), ('한층', 5), ('강렬하고', 5), ('절제', 5), ('인명', 5), ('칼레', 5), ('라시', 5), ('오른다', 5), ('롯', 5), ('만족감', 5), ('저력', 5), ('세심', 5), ('깃', 5), ('고도', 5), ('구성', 5), ('해양', 5), ('알려진', 5), ('다가온다', 5), ('빈', 5), ('22', 5), ('에르미타주', 5), ('갈', 5), ('방울', 5), ('멧돼지', 5), ('전역', 5), ('메시지', 5), ('하여', 5), ('핑크색', 5), ('편한', 5), ('서도', 5), ('단어', 5), ('마실수있는', 5), ('불고기', 5), ('카사', 5), ('마스', 5), ('카이', 5), ('잔당', 5), ('기품', 5), ('진', 5), ('통한', 5), ('아름답다', 5), ('오쉬', 5), ('바다', 5), ('클론', 5), ('알리', 5), ('둥근', 5), ('르베드르', 5), ('이긴', 5), ('가풍', 5), ('장식', 5), ('교차', 5), ('피망', 5), ('아니스', 5), ('좀더', 5), ('만들었으며', 5), ('보라색', 5), ('도를', 5), ('유칼립투스', 5), ('에이', 5), ('우리', 5), ('이룬', 5), ('됐다', 5), ('여성', 5), ('손색', 5), ('편안하게', 5), ('보여주며', 5), ('아름다운로', 5), ('신대륙', 5), ('만들며', 5), ('느끼게', 5), ('보고', 5), ('전문', 5), ('니콜라스', 5), ('윌리엄', 5), ('수상', 5), ('휴양지', 5), ('달리', 5), ('한청', 5), ('량감', 5), ('2015년', 5), ('주자', 5), ('쌩', 5), ('빼놓을수', 5), ('냄새', 5), ('부드러우며', 5), ('냈다', 5), ('블라인드', 5), ('조방', 5), ('다양성', 5), ('올리', 5), ('르플레', 5), ('엔트리', 5), ('티나', 5), ('과거', 5), ('아일랜드', 5), ('보스', 5), ('타의', 5), ('선두', 5), ('로디', 5), ('얻은', 5), ('산업', 5), ('라피', 5), ('므', 5), ('비료', 5), ('푸르', 5), ('활용', 5), ('적극', 5), ('티노', 5), ('달콤함을', 5), ('주며', 5), ('실험', 5), ('오르는', 5), ('주얼', 5), ('정통', 5), ('떡볶이', 5), ('로사', 5), ('루카', 5), ('부티크', 5), ('보아', 5), ('지중해', 5), ('친근한', 5), ('백도', 5), ('분류', 5), ('자부심', 5), ('라벤더', 5), ('브라더스', 5), ('메디치', 5), ('알리는', 5), ('열대', 5), ('즐길수있고', 5), ('불', 5), ('누리고있다', 5), ('웨스트', 5), ('서로', 5), ('한정판', 5), ('알리칸테', 5), ('회', 5), ('토마토', 5), ('어울리는은', 5), ('카탈루냐', 5), ('살렌토', 5), ('네로', 5), ('코르크', 5), ('입문', 5), ('꼽히죠', 5), ('스낵', 5), ('되고있는', 5), ('프랑스어', 5), ('트렌티노', 5), ('뷔르츠트', 5), ('가심', 5), ('끼', 5), ('등검', 5), ('파타', 5), ('디캔터', 5), ('도시', 5), ('갖췄습니다', 5), ('하는이', 5), ('마쩨', 5), ('소', 5), ('셰프', 5), ('가정식', 5), ('점퍼', 5), ('회사', 5), ('리무', 5), ('할은', 5), ('더할', 5), ('나위', 5), ('무척', 5), ('잘맞는다', 5), ('보길', 5), ('녹턴', 5), ('마르살라', 5), ('재미있게만', 5), ('틴', 5), ('간장', 5), ('하는로', 5), ('에바', 5), ('곁들인', 5), ('눈길', 5), ('볶음', 5), ('맞설', 5), ('즐기고싶은', 5), ('파스칼', 5), ('즐기는로', 5), ('좋겠어요', 5), ('설연휴', 5), ('신년', 5), ('송년', 5), ('돼지', 5), ('여기', 5), ('산적', 5), ('미네', 4), ('럴', 4), ('표', 4), ('즉', 4), ('우아한과', 4), ('라다', 4), ('레나', 4), ('가주', 4), ('6년', 4), ('세인트', 4), ('굿', 4), ('마틴', 4), ('의비', 4), ('오니', 4), ('루산', 4), ('자아내는', 4), ('산샤', 4), ('겨울철', 4), ('이만', 4), ('관능', 4), ('할수있습니다', 4), ('진한과', 4), ('처', 4), ('성하고', 4), ('숯불', 4), ('푸른빛', 4), ('낙엽', 4), ('복잡', 4), ('살', 4), ('거듭', 4), ('일정', 4), ('산새', 4), ('들며', 4), ('거둔', 4), ('시옹', 4), ('가량', 4), ('부와', 4), ('자아낸다', 4), ('이어지며', 4), ('분홍', 4), ('빛과', 4), ('양한', 4), ('블', 4), ('컨설팅', 4), ('디아', 4), ('모금', 4), ('될듯', 4), ('퍼플', 4), ('바구니', 4), ('친후', 4), ('짚색', 4), ('띄며', 4), ('75', 4), ('보여지는', 4), ('좋았다', 4), ('전반', 4), ('소규모', 4), ('받고있어요', 4), ('박스', 4), ('되어있는', 4), ('풍부함과', 4), ('이루고', 4), ('물이', 4), ('깔끔하면서도', 4), ('강', 4), ('키스', 4), ('코스트', 4), ('꿈', 4), ('져는', 4), ('만든로', 4), ('강우량', 4), ('거쳤다', 4), ('유산', 4), ('강철', 4), ('28', 4), ('상적', 4), ('색깔', 4), ('그것', 4), ('초반', 4), ('록', 4), ('흑연', 4), ('훌륭하고', 4), ('퍼지는', 4), ('기를', 4), ('만족스러운', 4), ('수상하기도', 4), ('브런치', 4), ('금', 4), ('산뜻하게', 4), ('칠링', 4), ('느껴져', 4), ('않으면서도', 4), ('한스', 4), ('의병', 4), ('하얀', 4), ('판', 4), ('고급스러', 4), ('바라는', 4), ('더불어', 4), ('칵테일', 4), ('닭', 4), ('시럽', 4), ('남기며', 4), ('넘치고', 4), ('골라', 4), ('않지만', 4), ('달달', 4), ('벌꿀', 4), ('아닐까', 4), ('좋았습니다', 4), ('게', 4), ('스트레스', 4), ('적합한', 4), ('먹어도', 4), ('휴가', 4), ('타임', 4), ('맞는', 4), ('따르면', 4), ('보기', 4), ('유일하게', 4), ('숙성하여', 4), ('알코올발효', 4), ('질의', 4), ('크랜베리', 4), ('스치는', 4), ('두드러지며', 4), ('펠레', 4), ('삭', 4), ('스페셜에디션', 4), ('룩', 4), ('의빈', 4), ('나로', 4), ('보여주고있다', 4), ('자른', 4), ('공존', 4), ('액', 4), ('만', 4), ('하였고', 4), ('실력', 4), ('살린', 4), ('우수', 4), ('한시', 4), ('꽃등', 4), ('향후', 4), ('고급스럽다', 4), ('로마', 4), ('그리는', 4), ('즐기고싶다면', 4), ('정교하고', 4), ('은장', 4), ('비스킷', 4), ('약속', 4), ('어우러져있다', 4), ('공급', 4), ('여행', 4), ('외', 4), ('케이', 4), ('바토', 4), ('아름다', 4), ('회토', 4), ('만나', 4), ('잃지', 4), ('지아', 4), ('힘찬', 4), ('느낀', 4), ('더욱더', 4), ('오레', 4), ('인정받는', 4), ('죽기전에', 4), ('레데', 4), ('저장', 4), ('부드러우면서도', 4), ('동물', 4), ('사실', 4), ('마찬가지', 4), ('뛰어나고', 4), ('유', 4), ('축제', 4), ('자연스러운', 4), ('코끝', 4), ('바바', 4), ('언제', 4), ('제스', 4), ('기초', 4), ('쇠고기', 4), ('착하여', 4), ('나오는', 4), ('아르', 4), ('가득하다', 4), ('보는건', 4), ('허니', 4), ('선보인다', 4), ('캐나다', 4), ('호텔', 4), ('드러내는', 4), ('36', 4), ('산뜻한과', 4), ('일부', 4), ('35년', 4), ('블루', 4), ('를블렌딩', 4), ('초록빛', 4), ('투명하고', 4), ('받았다', 4), ('채우고', 4), ('자갈', 4), ('높여', 4), ('매출', 4), ('58', 4), ('유혹', 4), ('인접', 4), ('1999년', 4), ('태양', 4), ('더했다', 4), ('믿음', 4), ('절묘한', 4), ('리브', 4), ('감싸는', 4), ('웅장', 4), ('표정', 4), ('뛰어납니다', 4), ('팔레트', 4), ('하였으며', 4), ('500', 4), ('준비', 4), ('넣은', 4), ('해발고도', 4), ('높지', 4), ('하길', 4), ('그려', 4), ('길', 4), ('로럴', 4), ('녹색', 4), ('끊임없이', 4), ('술', 4), ('해마', 4), ('더해준다', 4), ('남겨', 4), ('남쪽', 4), ('리기', 4), ('건강한', 4), ('문어', 4), ('쉽고', 4), ('의도', 4), ('45', 4), ('누리', 4), ('먼저', 4), ('크리스', 4), ('전설', 4), ('북론', 4), ('개입', 4), ('안개', 4), ('이면', 4), ('몬테레이', 4), ('원주민', 4), ('인정받은', 4), ('할수있으며', 4), ('자스민', 4), ('대변', 4), ('느껴져요', 4), ('에덴', 4), ('이신선', 4), ('그랜트', 4), ('델타', 4), ('감미', 4), ('사랑받는', 4), ('패션', 4), ('실레니', 4), ('어려운', 4), ('재사용', 4), ('서나', 4), ('라이트', 4), ('엑스트라', 4), ('마이', 4), ('몬터레이', 4), ('밀리', 4), ('투자', 4), ('감베', 4), ('기억', 4), ('연구', 4), ('십', 4), ('94', 4), ('계속', 4), ('범죄', 4), ('리스트', 4), ('통치', 4), ('형벌', 4), ('져', 4), ('육질', 4), ('헤드', 4), ('델리카토', 4), ('에너지', 4), ('이산화황', 4), ('이적', 4), ('디자이너', 4), ('뒷맛', 4), ('비즈니스클래스', 4), ('내는', 4), ('극대', 4), ('첫인상', 4), ('보석', 4), ('합작', 4), ('제의', 4), ('물씬', 4), ('참여', 4), ('거칠지', 4), ('시설', 4), ('인연', 4), ('소의', 4), ('제법', 4), ('간의', 4), ('해낸', 4), ('부터', 4), ('해포', 4), ('컬트', 4), ('해풍', 4), ('랄', 4), ('힙', 4), ('레오나르도', 4), ('레다', 4), ('말린과', 4), ('55', 4), ('대에', 4), ('꽃잎', 4), ('포르투', 4), ('도우', 4), ('흔하지', 4), ('갖췄으며', 4), ('더해진다', 4), ('이오', 4), ('비도', 4), ('들었으며', 4), ('원중', 4), ('수상한', 4), ('아름답고', 4), ('데크', 4), ('공헌', 4), ('활기', 4), ('테메큘', 4), ('독창', 4), ('호박', 4), ('주정', 4), ('강화', 4), ('르나슈를블렌딩', 4), ('섞여있다', 4), ('엠샤', 4), ('마리아', 4), ('훈제', 4), ('1900년', 4), ('마르티노', 4), ('멘토', 4), ('늦춰', 4), ('곁', 4), ('네가지', 4), ('갖추고', 4), ('만족', 4), ('대륙', 4), ('정부', 4), ('돋보입니다', 4), ('랜드마크', 4), ('귀여운', 4), ('토로', 4), ('남동쪽', 4), ('핵', 4), ('라몬', 4), ('빌바오', 4), ('다이빙', 4), ('모', 4), ('로우', 4), ('학교', 4), ('글씨', 4), ('1850년', 4), ('북', 4), ('풍경', 4), ('게리', 4), ('용지역', 4), ('튀김', 4), ('조림', 4), ('오리건', 4), ('들었다', 4), ('1995년', 4), ('순수', 4), ('중이', 4), ('발전', 4), ('퀴', 4), ('끕니다', 4), ('국', 4), ('375', 4), ('마실', 4), ('기업', 4), ('명품', 4), ('로서', 4), ('겸비', 4), ('펜폴', 4), ('추방', 4), ('쎄', 4), ('높다', 4), ('미용', 4), ('주인공', 4), ('마멀레이드', 4), ('시절', 4), ('덕혼', 4), ('소가', 4), ('상차림', 4), ('센트럴', 4), ('되는이', 4), ('투썩', 4), ('세코', 4), ('인정받고있다', 4), ('가나', 4), ('인정받고있어요', 4), ('플래그', 4), ('였던', 4), ('있으니', 4), ('맴돈다', 4), ('크로아티아', 4), ('불구', 4), ('다비', 4), ('필요', 4), ('패키지', 4), ('움브리아', 4), ('마릴린먼로', 4), ('리파', 4), ('60년', 4), ('없습니다', 4), ('제이', 4), ('박은이', 4), ('까테나자', 4), ('몽', 4), ('언급', 4), ('유로', 4), ('셀레', 4), ('롱', 4), ('메뉴', 4), ('로랑', 4), ('한국인', 4), ('까우', 4), ('했다는', 4), ('앞둔이에겐', 4), ('감상', 4), ('도르', 4), ('롬바르디아', 4), ('졸리베', 4), ('기타', 4), ('여', 4), ('간식', 4), ('워낙', 4), ('파니', 4), ('이유', 4), ('이과', 4), ('동반', 4), ('다', 4), ('든다', 4), ('쥐라', 4), ('노릇', 4), ('인재', 4), ('페스티벌', 4), ('방뚜', 4), ('피어나는', 3), ('지녔으며', 3), ('널', 3), ('뀌', 3), ('베드', 3), ('헨느', 3), ('어머니', 3), ('예술가', 3), ('애정', 3), ('라크', 3), ('잔잔', 3), ('미가긴', 3), ('날카로운', 3), ('마시', 3), ('최적', 3), ('넘', 3), ('프란시스', 3), ('뒤론', 3), ('25년', 3), ('세련되게', 3), ('파리', 3), ('심판', 3), ('이의', 3), ('특급', 3), ('해물', 3), ('코스', 3), ('우드', 3), ('풍만하고', 3), ('상당히', 3), ('지노', 3), ('마쿨', 3), ('신의', 3), ('점차', 3), ('경우', 3), ('따스한', 3), ('검정', 3), ('정밀', 3), ('미묘한', 3), ('담뱃잎', 3), ('줄수있는', 3), ('연둣빛', 3), ('노랑', 3), ('이아주', 3), ('가지고있고', 3), ('도약', 3), ('착한', 3), ('리오', 3), ('친구', 3), ('상온', 3), ('선보입니다', 3), ('포감', 3), ('연두빛', 3), ('이진', 3), ('향기롭다', 3), ('집약', 3), ('잡힌구', 3), ('뉘', 3), ('메로', 3), ('직후', 3), ('두고', 3), ('자마자', 3), ('좋을듯', 3), ('럼', 3), ('칼라', 3), ('압축', 3), ('펌프', 3), ('각각', 3), ('버건디', 3), ('야채', 3), ('오레곤', 3), ('잡', 3), ('체다', 3), ('효과', 3), ('높이', 3), ('미터', 3), ('넓은', 3), ('기온', 3), ('얻어', 3), ('글뤼', 3), ('음미', 3), ('마개', 3), ('알콜', 3), ('브랜디', 3), ('음료', 3), ('행복', 3), ('퍼지고', 3), ('그냥', 3), ('인포', 3), ('선보이고있죠', 3), ('1960년', 3), ('느껴지죠', 3), ('남는다', 3), ('맞춰', 3), ('여인', 3), ('알수있다', 3), ('뿔', 3), ('올린', 3), ('파네세', 3), ('녹아든', 3), ('싱그러', 3), ('시인', 3), ('평화', 3), ('강하게', 3), ('산사나무', 3), ('곱', 3), ('해기', 3), ('2013', 3), ('완벽하게', 3), ('거치면서', 3), ('마시고난', 3), ('1012일', 3), ('바스', 3), ('숙성하며', 3), ('이중', 3), ('길고', 3), ('나타난다', 3), ('해병', 3), ('풋풋한', 3), ('고운', 3), ('34', 3), ('특별하게', 3), ('느낌을주는', 3), ('소믈리에', 3), ('무려', 3), ('되는까', 3), ('탄탄한', 3), ('지구', 3), ('위도', 3), ('충분한', 3), ('풍겨', 3), ('초콜렛', 3), ('나', 3), ('젖지', 3), ('깔', 3), ('좋네요', 3), ('스와로브스키', 3), ('꽃내음', 3), ('중앙', 3), ('미래', 3), ('덤불', 3), ('부드러우면서', 3), ('아들', 3), ('차로', 3), ('2014', 3), ('테스', 3), ('존중', 3), ('안정', 3), ('자주색', 3), ('짙은과', 3), ('홈플러스', 3), ('우스', 3), ('아이언', 3), ('부지역', 3), ('서산', 3), ('더위', 3), ('폭탄', 3), ('담', 3), ('저', 3), ('마셨는데', 3), ('머금', 3), ('께나', 3), ('몹시', 3), ('오리', 3), ('조밀한', 3), ('않습니다', 3), ('적당하게', 3), ('잘살', 3), ('고트', 3), ('815', 3), ('지니', 3), ('루시', 3), ('우리나라', 3), ('거주', 3), ('넬', 3), ('단일', 3), ('캐스', 3), ('도아', 3), ('더긴', 3), ('꼬뜨드', 3), ('향연', 3), ('카카오', 3), ('반', 3), ('가소', 3), ('윤택', 3), ('너트', 3), ('텍스쳐', 3), ('26', 3), ('조가', 3), ('120', 3), ('애플', 3), ('가스트', 3), ('노미', 3), ('주년', 3), ('중하', 3), ('발리', 3), ('장유', 3), ('중후', 3), ('이로', 3), ('남아', 3), ('까베르네프', 3), ('플로렌스', 3), ('상태', 3), ('릿', 3), ('나이', 3), ('토마토소스', 3), ('의혹', 3), ('남섬', 3), ('젖은', 3), ('편안하게마', 3), ('탄탄하다', 3), ('족발', 3), ('리저', 3), ('나온', 3), ('와인글라스', 3), ('문턱', 3), ('살기', 3), ('소란', 3), ('중심지', 3), ('지에서', 3), ('하죠', 3), ('이용', 3), ('앞', 3), ('엄격한', 3), ('1834년', 3), ('커플', 3), ('마고', 3), ('정리', 3), ('우수한', 3), ('영롱한', 3), ('살리기', 3), ('식욕', 3), ('비코', 3), ('향수', 3), ('풍부하며', 3), ('펼쳐진', 3), ('되지', 3), ('뵈', 3), ('넛맥', 3), ('않으면서', 3), ('의구', 3), ('펼쳐진다', 3), ('청', 3), ('는가', 3), ('까이에', 3), ('부샤', 3), ('격', 3), ('명산', 3), ('이지나', 3), ('봐', 3), ('1001', 3), ('뿌리', 3), ('졸인', 3), ('지대', 3), ('리베라', 3), ('동물성', 3), ('맞춤', 3), ('물방울', 3), ('세월', 3), ('체험', 3), ('혹', 3), ('을지', 3), ('케이스', 3), ('덜', 3), ('쓴', 3), ('한자리', 3), ('뛰어난말', 3), ('신선한시', 3), ('우아하다', 3), ('포인트', 3), ('라틴어', 3), ('만해', 3), ('이합', 3), ('꼭지', 3), ('할수있도록', 3), ('멜은', 3), ('나비', 3), ('솔', 3), ('2007년', 3), ('만선', 3), ('정기', 3), ('개월더', 3), ('칼리', 3), ('올라', 3), ('씩', 3), ('뚜렷한', 3), ('부드러워', 3), ('르동', 3), ('총', 3), ('사과꽃', 3), ('시가', 3), ('발포', 3), ('달콤함이', 3), ('색감', 3), ('토피', 3), ('한밭', 3), ('아래', 3), ('담겨있다', 3), ('가입', 3), ('섞인', 3), ('뱅', 3), ('걸친', 3), ('풀하면서도', 3), ('프레이', 3), ('제드', 3), ('되었고', 3), ('소리', 3), ('받고있으며', 3), ('한약', 3), ('교과서', 3), ('짜여진', 3), ('골격', 3), ('맛있는', 3), ('스틸컷', 3), ('문구', 3), ('사향', 3), ('부여', 3), ('지니고있다', 3), ('용하지', 3), ('자하', 3), ('섬세하며', 3), ('크에서', 3), ('채운다', 3), ('페트', 3), ('편리하게', 3), ('대신', 3), ('뗌', 3), ('짧게', 3), ('가시선', 3), ('더한', 3), ('2018', 3), ('않을', 3), ('200년', 3), ('하트', 3), ('5.5', 3), ('벤', 3), ('한', 3), ('뛰어나며', 3), ('마는', 3), ('1214', 3), ('금박', 3), ('바닥', 3), ('시각', 3), ('싱그러운과', 3), ('앙금', 3), ('가선', 3), ('로그', 3), ('기한', 3), ('허용', 3), ('유통', 3), ('표기', 3), ('생', 3), ('이어오고있다', 3), ('컬렉션', 3), ('의기', 3), ('이모', 3), ('뒷받침', 3), ('사하는', 3), ('다우니', 3), ('장소', 3), ('사랑받고있다', 3), ('인간', 3), ('끈다', 3), ('돋보이고', 3), ('산타바바라', 3), ('언어', 3), ('인조', 3), ('창의', 3), ('아가', 3), ('97', 3), ('사운', 3), ('토라', 3), ('새겨진', 3), ('잔테', 3), ('카를로', 3), ('이마리', 3), ('비보', 3), ('지에', 3), ('고수', 3), ('부드러운것이', 3), ('확해', 3), ('발음', 3), ('친근하고', 3), ('재미있는', 3), ('의상', 3), ('경쾌하고', 3), ('하는것으로', 3), ('1855년', 3), ('할리데이', 3), ('트로피', 3), ('산뜻하면서도', 3), ('좋은데', 3), ('살육', 3), ('메이킹', 3), ('브륏', 3), ('인정받고있는', 3), ('마다', 3), ('블록', 3), ('오르며', 3), ('생떼', 3), ('살렸다', 3), ('아르지', 3), ('영향력', 3), ('나스', 3), ('색다른', 3), ('가진이', 3), ('1972년', 3), ('가함께', 3), ('해주며', 3), ('렌', 3), ('유주', 3), ('오가', 3), ('해테', 3), ('올가을', 3), ('서클', 3), ('레스코', 3), ('멘솔', 3), ('접', 3), ('챌', 3), ('선보이고있다', 3), ('비냐', 3), ('빠른', 3), ('절도', 3), ('화폐', 3), ('위조', 3), ('강제', 3), ('로다이', 3), ('날리', 3), ('지녀', 3), ('드바인진판델', 3), ('될만큼', 3), ('1924년', 3), ('대통령', 3), ('탁', 3), ('등유', 3), ('이어오며', 3), ('까잘', 3), ('화하기', 3), ('않게', 3), ('안정화', 3), ('붙였다', 3), ('국민', 3), ('데리', 3), ('크리', 3), ('돌체토', 3), ('조화로워', 3), ('많은이', 3), ('풍부한기', 3), ('세가지', 3), ('맞아', 3), ('1970년', 3), ('작년', 3), ('초', 3), ('걸고', 3), ('구대륙', 3), ('고루', 3), ('이강', 3), ('주황', 3), ('철저한', 3), ('비오디', 3), ('나미', 3), ('폴', 3), ('위스키', 3), ('엘', 3), ('6천', 3), ('설명', 3), ('가능성', 3), ('나노', 3), ('비노', 3), ('멘라', 3), ('합해', 3), ('95', 3), ('은로', 3), ('한보', 3), ('다빈치', 3), ('블라썸', 3), ('판넬', 3), ('리뇨', 3), ('디시', 3), ('가업', 3), ('익숙한', 3), ('쉔', 3), ('호프', 3), ('져에서', 3), ('호가', 3), ('에밀', 3), ('매끄럽고', 3), ('돼', 3), ('라비', 3), ('까베르네쇼비뇽', 3), ('보글', 3), ('은비', 3), ('망', 3), ('선보이며', 3), ('즐기거나', 3), ('200', 3), ('넣지', 3), ('구매', 3), ('동부', 3), ('사랑스럽다', 3), ('차가운', 3), ('링해', 3), ('넘치는과', 3), ('마타로', 3), ('신흥', 3), ('느껴지는이', 3), ('럭셔리', 3), ('데블', 3), ('코너', 3), ('항공', 3), ('있지만', 3), ('안주', 3), ('생소', 3), ('아파시', 3), ('어울리', 3), ('프로', 3), ('제프', 3), ('천재', 3), ('인의', 3), ('즐길수있죠', 3), ('메이', 3), ('한파', 3), ('시킬만', 3), ('자렐', 3), ('의인', 3), ('피에르', 3), ('협력', 3), ('부르', 3), ('비건', 3), ('않나요', 3), ('테로', 3), ('스캣', 3), ('지애', 3), ('무르베드르', 3), ('독보', 3), ('스시', 3), ('라드', 3), ('주변', 3), ('보다', 3), ('뮤지션', 3), ('하고싶을', 3), ('꼴은', 3), ('41', 3), ('바삭', 3), ('힐스', 3), ('맥', 3), ('알아보고', 3), ('인정받았죠', 3), ('인터내셔널', 3), ('수량', 3), ('데일', 3), ('1500', 3), ('이어집니다', 3), ('식탁', 3), ('유연한', 3), ('비소', 3), ('미세한', 3), ('들었죠', 3), ('용했어요', 3), ('애칭', 3), ('콜린스', 3), ('화사하고', 3), ('과언', 3), ('그려져있죠', 3), ('해보는건', 3), ('좋을만큼', 3), ('고급스럽고', 3), ('받고있죠', 3), ('을제', 3), ('싶을', 3), ('상대', 3), ('라르', 3), ('베르트랑', 3), ('됐고', 3), ('1983년', 3), ('별명', 3), ('신화', 3), ('미셀', 3), ('도움', 3), ('사시', 3), ('찬란한', 3), ('남단', 3), ('밸류', 3), ('프룬', 3), ('피트', 3), ('조화로워요', 3), ('가득히', 3), ('쌉쌀한', 3), ('선보이고있어요', 3), ('돈나', 3), ('가타', 3), ('토의', 3), ('드미섹', 3), ('예의', 3), ('남겨요', 3), ('의메', 3), ('이나', 3), ('필리프', 3), ('황소', 3), ('임', 3), ('빅토리아', 3), ('이바', 3), ('하기도', 3), ('용했다', 3), ('코르토', 3), ('뇨', 3), ('농장', 3), ('92', 3), ('아벨', 3), ('않으며', 3), ('푸드', 3), ('자존심', 3), ('되죠', 3), ('마렘마', 3), ('대의', 3), ('적당해', 3), ('미쉘', 3), ('풀리아', 3), ('1991년', 3), ('리미', 3), ('유명한데', 3), ('이르기까지', 3), ('기원', 3), ('경쾌하다', 3), ('프라이', 3), ('빗', 3), ('영', 3), ('차게', 3), ('즐긴다면', 3), ('레아', 3), ('할수있을거예요', 3), ('심포니', 3), ('커는', 3), ('왼손잡이', 3), ('페러', 3), ('보베', 3), ('신의물방울', 3), ('면적', 3), ('부족함', 3), ('대명사', 3), ('제이슨', 3), ('오운은', 3), ('위로', 3), ('인정받고있죠', 3), ('아디', 3), ('니콜', 3), ('절로', 3), ('로렌츠', 3), ('멘오', 3), ('뜨의', 3), ('페블', 3), ('잇는', 3), ('데이', 3), ('살로', 3), ('넣으면', 3), ('고시', 3), ('확보', 3), ('필립', 3), ('개운한', 3), ('해보길', 3), ('고기', 3), ('로라', 3), ('근거지', 3), ('콜럼비아', 3), ('이끄는', 3), ('프린트', 3), ('막스', 3), ('메종', 3), ('아황산', 3), ('염', 3), ('유명해요', 3), ('그녀', 3), ('스톨', 3), ('가자미', 3), ('보여주니', 3), ('하고있다', 3), ('얄', 3), ('룸바', 3), ('필요합니다', 3), ('모이는', 3), ('여행지', 3), ('만날수있습니다', 3), ('협업', 3), ('바쉐롱', 3), ('줄', 3), ('올', 3), ('샤또뒤도멘드레', 3), ('사는', 3), ('저녁식사', 3), ('희소성', 3), ('드샹플뢰', 3), ('됐어요', 3), ('187', 3), ('하프', 3), ('컵', 3), ('기건', 3), ('바치', 3), ('고가', 3), ('봐도', 3), ('박세리', 3), ('보내는', 3), ('최', 3), ('파가', 3), ('닥친', 3), ('킬', 3), ('리빙빙', 3), ('다는', 3), ('금귤', 3), ('된해', 3), ('탈리', 3), ('서다', 3), ('내리는', 3), ('발자국', 3), ('복잡할', 3), ('85,000원', 3), ('닭고기', 3), ('라반', 3), ('브르', 3), ('적절하다', 3), ('트루', 3), ('스케', 3), ('무쏘', 3), ('랭', 3), ('트윈스', 3), ('훈제오리', 3), ('찌오네', 3), ('즐길수있을것이다', 3), ('동그랑땡', 3), ('에레몬', 2), ('흰꽃패션프루츠', 2), ('마른과', 2), ('세잔', 2), ('갖고있으며', 2), ('준', 2), ('경의', 2), ('신선하며', 2), ('밟은', 2), ('광물', 2), ('희미하게', 2), ('쥬시', 2), ('감싸고', 2), ('신선하지만', 2), ('주변인', 2), ('리아노', 2), ('테르메', 2), ('있으면서', 2), ('고난', 2), ('바롱', 2), ('조아요', 2), ('1971년', 2), ('멜롯', 2), ('샌프란시스코', 2), ('선한과', 2), ('곁들이거나', 2), ('메이어', 2), ('어우러져있으며', 2), ('신선함도', 2), ('계기', 2), ('달라졌습니다', 2), ('가빠진다면', 2), ('누릴수있는', 2), ('포기', 2), ('해천', 2), ('천히음', 2), ('미하', 2), ('좋아하게', 2), ('해준', 2), ('달콤한로', 2), ('감을가진', 2), ('1920년', 2), ('80년', 2), ('방문', 2), ('퍼스트클래스', 2), ('건초', 2), ('수많은', 2), ('단계', 2), ('흥미로운', 2), ('느껴짐과', 2), ('성숙한', 2), ('돋우는', 2), ('달걀', 2), ('레쉬', 2), ('운디', 2), ('하게', 2), ('연도로', 2), ('의약', 2), ('10일', 2), ('크게', 2), ('얻고있는', 2), ('닥터', 2), ('루젠', 2), ('윤기', 2), ('할수있을', 2), ('나타내주는', 2), ('데니스', 2), ('톰', 2), ('스티븐슨', 2), ('사이클', 2), ('고를', 2), ('올리는', 2), ('받은바', 2), ('깜짝', 2), ('기름기', 2), ('기자', 2), ('이선정', 2), ('흥미롭다', 2), ('400', 2), ('잎사귀', 2), ('디캔팅', 2), ('등심', 2), ('수', 2), ('익', 2), ('한소리', 2), ('햇', 2), ('나타나는', 2), ('감을주며', 2), ('멘도', 2), ('가토', 2), ('폭', 2), ('주전자', 2), ('전기포트', 2), ('덜어', 2), ('따끈하게', 2), ('먹으면', 2), ('필요할', 2), ('골프', 2), ('감기', 2), ('잠들', 2), ('분과', 2), ('먹는', 2), ('뱅쇼', 2), ('그때', 2), ('잘못', 2), ('마시니', 2), ('같은과', 2), ('투명하게', 2), ('입힌', 2), ('먹는듯', 2), ('랜드', 2), ('시켜요', 2), ('버찌', 2), ('감싼다', 2), ('나타나며', 2), ('파파야', 2), ('포의', 2), ('따왔다', 2), ('영롱하게', 2), ('장어', 2), ('상쾌함을', 2), ('형상', 2), ('잠자는', 2), ('숲속', 2), ('미녀', 2), ('바실리카타', 2), ('왕자', 2), ('쉬함', 2), ('괴테', 2), ('맺어진', 2), ('빠질수', 2), ('항공사', 2), ('져리', 2), ('브브뤼', 2), ('터지는기', 2), ('펼쳐지며', 2), ('제이콥', 2), ('제철', 2), ('적은', 2), ('풍부', 2), ('따뜻하고', 2), ('이루고있는', 2), ('얕고', 2), ('하의', 2), ('7,500', 2), ('15,000', 2), ('크기', 2), ('홍수', 2), ('일으키며', 2), ('안데스', 2), ('레벨', 2), ('풍부하면서', 2), ('가지고있는', 2), ('0', 2), ('면시', 2), ('46', 2), ('주간', 2), ('그니', 2), ('찬사', 2), ('옅게', 2), ('쿠키', 2), ('넘친다', 2), ('슬러', 2), ('굵은', 2), ('잔잔하게', 2), ('그리를', 2), ('제조', 2), ('해있다', 2), ('성장하는', 2), ('일조시간', 2), ('2시간', 2), ('햇빛', 2), ('할수있게만', 2), ('미디어', 2), ('감돌며', 2), ('기', 2), ('신선함의', 2), ('얼', 2), ('마시게', 2), ('주도', 2), ('여전히', 2), ('끔', 2), ('은은한과', 2), ('싱그럽고', 2), ('테입', 2), ('사적', 2), ('덥고', 2), ('소나무', 2), ('일류', 2), ('철분', 2), ('레스크레스', 2), ('성함', 2), ('끊이지', 2), ('옅', 2), ('원숙한', 2), ('사탕수수', 2), ('원숙함과', 2), ('합되', 2), ('매끄러', 2), ('가져다준다', 2), ('고스트', 2), ('화제', 2), ('프', 2), ('리츠', 2), ('모젤', 2), ('레제', 2), ('도리', 2), ('느껴지면서', 2), ('머스트', 2), ('헤브', 2), ('아이템', 2), ('잉크', 2), ('배수', 2), ('산뜻한시', 2), ('어우러져있는', 2), ('요즘', 2), ('좋았던', 2), ('선선', 2), ('내기', 2), ('돋구는', 2), ('좋다는', 2), ('사로잡는다', 2), ('여행가', 2), ('따르자마자', 2), ('기포', 2), ('아쉽지만', 2), ('괜찮은', 2), ('극', 2), ('개인', 2), ('모르는', 2), ('같아요', 2), ('가잘', 2), ('한편', 2), ('다가옵니다', 2), ('마시다', 2), ('서빙', 2), ('워터', 2), ('입자', 2), ('크고', 2), ('2012년', 2), ('조엘', 2), ('르네쇼비뇽', 2), ('적색', 2), ('2003년', 2), ('가추', 2), ('일치', 2), ('융합', 2), ('표면', 2), ('석회질', 2), ('조사', 2), ('치구', 2), ('일주일', 2), ('연장', 2), ('사랑스런', 2), ('제라', 2), ('보시길', 2), ('생강', 2), ('91', 2), ('다양하고', 2), ('오네를', 2), ('만들어져', 2), ('할수', 2), ('진정', 2), ('단위', 2), ('짜여진구', 2), ('기와', 2), ('잎', 2), ('살려', 2), ('에리', 2), ('드브노쥬', 2), ('인쇄', 2), ('부드럽고구', 2), ('레오', 2), ('섬세함을', 2), ('여타', 2), ('인지도', 2), ('국가대표', 2), ('어우러져긴', 2), ('이특', 2), ('떼', 2), ('2004', 2), ('2016', 2), ('쪽', 2), ('되면서', 2), ('훌륭하며', 2), ('월병', 2), ('군데', 2), ('세번', 2), ('알리고있습니다', 2), ('올로', 2), ('느낄수있게', 2), ('섬세함과', 2), ('중점', 2), ('우디', 2), ('하기를', 2), ('해구', 2), ('삼아', 2), ('돋보이는긴', 2), ('서서히', 2), ('착즙', 2), ('지하', 2), ('마레', 2), ('아이', 2), ('1542년', 2), ('열기', 2), ('70년', 2), ('이진한', 2), ('말린자', 2), ('메일', 2), ('개발', 2), ('용한', 2), ('이아', 2), ('펠', 2), ('왕', 2), ('이선호', 2), ('프로그램', 2), ('타이', 2), ('완벽히', 2), ('마주', 2), ('핵심', 2), ('천연', 2), ('순수함을', 2), ('을', 2), ('유니크', 2), ('머스', 2), ('척', 2), ('제니', 2), ('1923년', 2), ('종', 2), ('달콤', 2), ('수의', 2), ('남향', 2), ('방향', 2), ('장인정신', 2), ('믹스', 2), ('신선하다', 2), ('포자', 2), ('문장', 2), ('점점', 2), ('빌라', 2), ('쿨롱', 2), ('에릭', 2), ('이라', 2), ('차이', 2), ('관', 2), ('달하는', 2), ('간판', 2), ('면모', 2), ('느낌을주며', 2), ('이그', 2), ('코트', 2), ('피스', 2), ('레프', 2), ('조화로움', 2), ('오크나무', 2), ('성해', 2), ('파른', 2), ('비아데', 2), ('특색', 2), ('할수있고', 2), ('진하게', 2), ('독일어', 2), ('지닌이', 2), ('흥분', 2), ('파셀', 2), ('해빈', 2), ('되어있으며', 2), ('파고데', 2), ('네스', 2), ('델두', 2), ('한가지', 2), ('세기말', 2), ('부각', 2), ('만드는것', 2), ('행위', 2), ('수퍼', 2), ('만들고', 2), ('드로잉', 2), ('흐르며', 2), ('주지', 2), ('직선', 2), ('종이', 2), ('발란스', 2), ('갖춰진', 2), ('잘어우', 2), ('카니발', 2), ('새로', 2), ('커의', 2), ('해오던말', 2), ('첫사랑', 2), ('만들어줄', 2), ('공유', 2), ('젊음', 2), ('담고있는', 2), ('키워', 2), ('1990년', 2), ('접목', 2), ('참치', 2), ('쳐진', 2), ('우아함은', 2), ('지하실', 2), ('옮겨져서', 2), ('스러진다', 2), ('꽃들이', 2), ('주듯', 2), ('섞여서', 2), ('로움', 2), ('디바', 2), ('뇽블랑을블렌딩', 2), ('착하며', 2), ('되새겨', 2), ('014', 2), ('난다', 2), ('역은', 2), ('있던', 2), ('인수', 2), ('이루었다', 2), ('구', 2), ('최선', 2), ('제한', 2), ('어울림', 2), ('따라서', 2), ('가이드', 2), ('파이브', 2), ('완료', 2), ('고', 2), ('어린', 2), ('만들어진다', 2), ('선하게', 2), ('별', 2), ('후작', 2), ('8일', 2), ('흐를수록', 2), ('감싼', 2), ('얻어진', 2), ('꿉', 2), ('잡채', 2), ('배향', 2), ('마실수있다', 2), ('누타', 2), ('유일한', 2), ('화려하게', 2), ('잡지', 2), ('깨진', 2), ('다가오며', 2), ('23', 2), ('반면', 2), ('파쇄', 2), ('서양', 2), ('키위', 2), ('평', 2), ('경사면', 2), ('작은기', 2), ('청량함이', 2), ('토비', 2), ('감이잘', 2), ('공기', 2), ('갖구운', 2), ('넣어구', 2), ('일종', 2), ('쨈', 2), ('적시면서', 2), ('1950년', 2), ('잔고', 2), ('세는', 2), ('살몬', 2), ('인데에', 2), ('고세', 2), ('위엄', 2), ('풍부할줄', 2), ('알았으나', 2), ('강함', 2), ('편안한과', 2), ('40만', 2), ('디종', 2), ('착한다', 2), ('보통', 2), ('사의', 2), ('어우러졌다', 2), ('숙성했으며', 2), ('뿜어낸다', 2), ('혀', 2), ('감싸는듯', 2), ('화려함과', 2), ('우아함의', 2), ('각새', 2), ('글리', 2), ('튀', 2), ('묵직하면서도', 2), ('15.5', 2), ('붙여', 2), ('4,000', 2), ('구수한', 2), ('점성', 2), ('않았다', 2), ('알리는데', 2), ('가다', 2), ('손꼽히는', 2), ('하고프', 2), ('플러스', 2), ('컨셉', 2), ('맞는가', 2), ('장흥', 2), ('담기게', 2), ('되는로', 2), ('나고', 2), ('시원', 2), ('놀랍도록', 2), ('입고', 2), ('재탄생', 2), ('에스프레소', 2), ('체사', 2), ('콤포트', 2), ('일절', 2), ('800', 2), ('자라난', 2), ('네나', 2), ('조량', 2), ('갈레', 2), ('스트로', 2), ('꽉찬', 2), ('500년', 2), ('빠지지', 2), ('스틱', 2), ('나라', 2), ('기호', 2), ('넣고', 2), ('후병', 2), ('잔잔한기', 2), ('이내', 2), ('도드라지며', 2), ('더해지는', 2), ('주어', 2), ('비프', 2), ('널말', 2), ('보리수', 2), ('가조', 2), ('선호', 2), ('기념일', 2), ('곁들이면잘', 2), ('롱반', 2), ('카모', 2), ('지고', 2), ('곡선', 2), ('밝', 2), ('전해지며', 2), ('골드에디션', 2), ('냉장고', 2), ('살색', 2), ('벨', 2), ('마시는것이', 2), ('살구색', 2), ('꼬뜨데로즈', 2), ('이름이말', 2), ('해주듯이', 2), ('은병', 2), ('는듯', 2), ('착각', 2), ('들게', 2), ('활기찬', 2), ('듬뿍', 2), ('묻어나며', 2), ('바리', 2), ('다가오는', 2), ('쁘', 2), ('해석', 2), ('다양하게', 2), ('근처', 2), ('진홍', 2), ('1974년', 2), ('필드', 2), ('블렌', 2), ('조게는', 2), ('1957년', 2), ('받는다', 2), ('레샤름므', 2), ('알렉산', 2), ('가세', 2), ('이력', 2), ('지식', 2), ('가도', 2), ('비오니에로', 2), ('비오니에는', 2), ('선명하게', 2), ('이돌', 2), ('아중', 2), ('주목할만한', 2), ('빅토리아주', 2), ('인레', 2), ('구분', 2), ('상경', 2), ('비행정', 2), ('15일', 2), ('로손', 2), ('굉장히', 2), ('청량', 2), ('280350', 2), ('단기간', 2), ('아이렌', 2), ('성격', 2), ('연결', 2), ('런', 2), ('째대', 2), ('컴퍼니', 2), ('클레어', 2), ('맷', 2), ('미세', 2), ('옮겨', 2), ('활', 2), ('패션후르츠', 2), ('24시간', 2), ('영해', 2), ('프룻', 2), ('탄탄하고', 2), ('짜릿한', 2), ('만들겠다는', 2), ('서술', 2), ('혹스', 2), ('혼술', 2), ('얄리', 2), ('구역', 2), ('카사블랑카', 2), ('지녔고', 2), ('부담스럽다면', 2), ('카차포알', 2), ('진가', 2), ('짙', 2), ('검게', 2), ('어릴', 2), ('간병', 2), ('되면', 2), ('멧츠', 2), ('목표', 2), ('구현', 2), ('용하며', 2), ('뷰', 2), ('가감', 2), ('만들어지며', 2), ('32', 2), ('밝게', 2), ('믿을만한', 2), ('매거진', 2), ('그리고긴', 2), ('이탈', 2), ('아샤르', 2), ('1918년', 2), ('꾸준한', 2), ('성장했다', 2), ('여러', 2), ('냥', 2), ('이즈', 2), ('할수있을것이다', 2), ('바뀐다', 2), ('풍부하고구', 2), ('중요시', 2), ('올린다', 2), ('정상', 2), ('조감도', 2), ('하이랜즈', 2), ('오퍼스', 2), ('잘알려져있으며', 2), ('냈다는', 2), ('파트너', 2), ('단독', 2), ('신규', 2), ('임의', 2), ('페바', 2), ('잡미', 2), ('타노에', 2), ('광고', 2), ('촬영', 2), ('진하면서도', 2), ('이뤄', 2), ('코리아', 2), ('린지', 2), ('지키고있는', 2), ('1930년', 2), ('강렬', 2), ('이풍', 2), ('르티', 2), ('나체', 2), ('페르', 2), ('철저히', 2), ('초기', 2), ('해신', 2), ('30일', 2), ('범죄자', 2), ('반대', 2), ('다운', 2), ('어울릴것', 2), ('다년', 2), ('기다림', 2), ('부의', 2), ('마신', 2), ('높아', 2), ('날리라는', 2), ('허가', 2), ('떫', 2), ('빛로', 2), ('탄탄', 2), ('들어', 2), ('1808년', 2), ('필립스', 2), ('농도', 2), ('1981년', 2), ('도스', 2), ('쌀쌀한', 2), ('속성', 2), ('공법', 2), ('인지', 2), ('피에로', 2), ('륙', 2), ('한우', 2), ('700900', 2), ('경작', 2), ('강력한', 2), ('창조', 2), ('도미', 2), ('오데라', 2), ('베가', 2), ('바를', 2), ('계승', 2), ('뮈니', 2), ('배출', 2), ('화하는', 2), ('유진', 2), ('엘꼬또', 2), ('첨단', 2), ('장사', 2), ('잘알려져있다', 2), ('효', 2), ('급사', 2), ('곳곳', 2), ('라마', 2), ('옷감', 2), ('마르코폴로', 2), ('실크로드', 2), ('비단', 2), ('동양', 2), ('물품', 2), ('풍습', 2), ('베니스', 2), ('온것을', 2), ('보떼르', 2), ('네그로', 2), ('된것처럼', 2), ('적당하며', 2), ('테두리', 2), ('스캇', 2), ('퍼지며', 2), ('인산', 2), ('풀내음', 2), ('접근성', 2), ('든이', 2), ('한음', 2), ('푸아그라', 2), ('블랑카그르나슈블', 2), ('연주', 2), ('주의', 2), ('주었다', 2), ('불꽃', 2), ('산후안', 2), ('맡고있으며', 2), ('부싯돌', 2), ('버번위스키', 2), ('지드', 2), ('열풍', 2), ('이끈', 2), ('트러플', 2), ('채워지는', 2), ('를블렌딩했다', 2), ('필요없을만큼', 2), ('맞은', 2), ('짙고', 2), ('마셨을', 2), ('사르데냐', 2), ('모타', 2), ('지중해성기후', 2), ('쉽게만', 2), ('나기', 2), ('힘든', 2), ('가모', 2), ('된치', 2), ('카나페', 2), ('플로', 2), ('할수있듯', 2), ('뮈스카텔', 2), ('플라워', 2), ('은은하게퍼진다', 2), ('산타크루즈', 2), ('격식', 2), ('그르나슈블', 2), ('빈치', 2), ('보여주기', 2), ('카레', 2), ('오일', 2), ('어울릴듯', 2), ('와인잔', 2), ('과육', 2), ('둥글면서', 2), ('빠', 2), ('중심부', 2), ('1968년', 2), ('자녀', 2), ('나른한', 2), ('오렌지색', 2), ('홀', 2), ('에네미', 2), ('의적', 2), ('로나', 2), ('살렸으며', 2), ('치는', 2), ('후손', 2), ('현재세', 2), ('느끼는이', 2), ('크래커', 2), ('체감', 2), ('더해주는', 2), ('자의', 2), ('남미', 2), ('토키', 2), ('둥글고', 2), ('보인', 2), ('배등', 2), ('1858년', 2), ('행보', 2), ('일관', 2), ('잡은', 2), ('파리아', 2), ('루레', 2), ('아린', 2), ('가정', 2), ('고향이', 2), ('즐길수있는것이', 2), ('인조화', 2), ('지브리', 2), ('1760년', 2), ('꼽힐만큼', 2), ('인증서', 2), ('획득', 2), ('메테', 2), ('메테는람', 2), ('대가', 2), ('가득하며', 2), ('높인', 2), ('민', 2), ('불린', 2), ('은발', 2), ('뀌베를블렌딩', 2), ('참나무', 2), ('입체', 2), ('만들어진이', 2), ('백화점', 2), ('만들어내며', 2), ('구아바', 2), ('초록색', 2), ('미세한기', 2), ('한기', 2), ('작', 2), ('중화', 2), ('48', 2), ('68', 2), ('즐길것을', 2), ('중주', 2), ('익은듯', 2), ('잊을수', 2), ('1993년', 2), ('굴', 2), ('서호주', 2), ('마가렛', 2), ('수상했고', 2), ('나면서', 2), ('데샹', 2), ('사람과', 2), ('압도', 2), ('뷔', 2), ('부리', 2), ('느낄수있을만큼', 2), ('관광객', 2), ('피부', 2), ('하는까', 2), ('뚜', 2), ('선보였고', 2), ('브루노', 2), ('청정', 2), ('태즈매니아', 2), ('경치', 2), ('담았죠', 2), ('이뤄요', 2), ('좋기', 2), ('과식', 2), ('보내고싶다면', 2), ('등테', 2), ('쌩소', 2), ('밀', 2), ('카잘', 2), ('파르', 2), ('건조해', 2), ('하모니', 2), ('프로듀서', 2), ('율', 2), ('셉데', 2), ('식물성', 2), ('입하', 2), ('쁘띠메슬리', 2), ('컬래버레이션', 2), ('마시며', 2), ('로시', 2), ('감덕', 2), ('서부', 2), ('시스템', 2), ('리마', 2), ('멘시아', 2), ('국물', 2), ('야다', 2), ('해줍니다', 2), ('성장한', 2), ('잘알려져있죠', 2), ('조학자', 2), ('2001년', 2), ('이루죠', 2), ('더롱', 2), ('닥스훈트', 2), ('받고있는이', 2), ('콜롱', 2), ('와우', 2), ('니블', 2), ('쉬운', 2), ('이번', 2), ('감돌기', 2), ('않은이', 2), ('반도', 2), ('한글', 2), ('얼굴', 2), ('비우라', 2), ('조화롭습니다', 2), ('애피타이저', 2), ('채소', 2), ('하이엔드', 2), ('베세', 2), ('해왔으며', 2), ('무릎', 2), ('안고', 2), ('튀는것처럼', 2), ('감도는로', 2), ('펠리셔', 2), ('계유', 2), ('종종', 2), ('펜카', 2), ('등대', 2), ('담았어요', 2), ('카니', 2), ('미술', 2), ('찰스', 2), ('스미스', 2), ('꼴리에', 2), ('사로잡는', 2), ('개조', 2), ('왈라왈라', 2), ('세븐', 2), ('클레', 2), ('진정한', 2), ('수탉', 2), ('최신', 2), ('링크', 2), ('오직', 2), ('작황', 2), ('용했고', 2), ('베네치아', 2), ('버스', 2), ('상상', 2), ('기센', 2), ('주죠', 2), ('들에게도', 2), ('짜', 2), ('코로나', 2), ('만들었어요', 2), ('꼽힌', 2), ('리소토', 2), ('믿고', 2), ('도멘루', 2), ('대도', 2), ('라무', 2), ('통니', 2), ('집안', 2), ('핀', 2), ('카라', 2), ('파블로', 2), ('잡아라는', 2), ('아니에요', 2), ('니코', 2), ('있는로', 2), ('반적', 2), ('끄네요', 2), ('라모', 2), ('이보', 2), ('도츠', 2), ('계절', 2), ('넓은자', 2), ('가포', 2), ('2021', 2), ('지알로', 2), ('갖췄어요', 2), ('수상하는', 2), ('꼬뜨로즈블', 2), ('정석', 2), ('단골', 2), ('굵고', 2), ('될', 2), ('알렉', 2), ('마가', 2), ('둥글둥글한', 2), ('원한', 2), ('단순한', 2), ('반드시', 2), ('역', 2), ('문의', 2), ('실존', 2), ('영국정부', 2), ('맞서', 2), ('싸우던', 2), ('내렸고', 2), ('컨설턴트', 2), ('탈치노', 2), ('왕관', 2), ('회장', 2), ('골', 2), ('거리', 2), ('식재', 2), ('64', 2), ('7년', 2), ('숙성하면', 2), ('투르', 2), ('뤼스', 2), ('수식어', 2), ('생선회', 2), ('사회', 2), ('친숙하지', 2), ('멤버', 2), ('한오', 2), ('만들고있죠', 2), ('스따뇨', 2), ('싸', 2), ('담았습니다', 2), ('루스', 2), ('잘알려져있어요', 2), ('주접', 2), ('땐', 2), ('선보이는것으로', 2), ('홉', 2), ('마릴', 2), ('다양한과', 2), ('맥주', 2), ('남다른', 2), ('리본', 2), ('훈장', 2), ('레지옹', 2), ('뇌르', 2), ('자르', 2), ('느끼기', 2), ('여유', 2), ('오두막', 2), ('새로운세', 2), ('즐기길', 2), ('혼', 2), ('환영', 2), ('받을만한', 2), ('심볼', 2), ('디코이', 2), ('불릴', 2), ('교류', 2), ('숙성했어요', 2), ('진상', 2), ('가르고', 2), ('뜨는', 2), ('프랑크', 2), ('퓌틀', 2), ('홈', 2), ('좋은가', 2), ('목축업', 2), ('과소', 2), ('앵거스', 2), ('소로', 2), ('하는말', 2), ('초보자', 2), ('좋아할만', 2), ('흰소', 2), ('연초', 2), ('멈출수', 2), ('지리', 2), ('피토', 2), ('장면', 2), ('일이', 2), ('협회', 2), ('아비', 2), ('져의', 2), ('드라마', 2), ('오마주', 2), ('마시고싶지만', 2), ('비싼', 2), ('가르시아', 2), ('무스', 2), ('지도', 2), ('대게', 2), ('코바', 2), ('누리고있죠', 2), ('앞선', 2), ('다르', 2), ('미세하고', 2), ('보는것만으로도', 2), ('모아', 2), ('스텔라', 2), ('카디프', 2), ('컨드', 2), ('마르케스', 2), ('칼롱', 2), ('르쥬락', 2), ('몽테뉴', 2), ('에세이', 2), ('할수있어요', 2), ('기여', 2), ('달콤하다', 2), ('화사함을', 2), ('매끈하고', 2), ('묵직하다', 2), ('1948년', 2), ('말리는', 2), ('2530', 2), ('의수', 2), ('티보', 2), ('추풍', 2), ('검증', 2), ('탁월하다', 2), ('만든이', 2), ('적당하고', 2), ('남다르다', 2), ('120년', 2), ('리머릭', 2), ('레인', 2), ('돋운다', 2), ('편하게마', 2), ('레이디', 2), ('심은', 2), ('알렉산드리아', 2), ('식혀', 2), ('야경', 2), ('나누는', 2), ('다마', 2), ('룽', 2), ('로티', 2), ('꼽힙니다', 2), ('코츠', 2), ('스쿠터', 2), ('만들고있는', 2), ('토니', 2), ('되는데', 2), ('왔어요', 2), ('오스트레일리아', 2), ('끈', 2), ('만남', 2), ('특별', 2), ('들어간', 2), ('차세대', 2), ('160년', 2), ('데뮤', 2), ('예', 2), ('어울리네요', 2), ('피놀', 2), ('150', 2), ('박쥐', 2), ('특별합니다', 2), ('인정', 2), ('와일더', 2), ('부드러운기', 2), ('차박', 2), ('신선하게', 2), ('비스트', 2), ('획', 2), ('장인', 2), ('생선전', 2), ('고추장', 2), ('격의', 2), ('풍요', 2), ('르도를블렌딩', 2), ('미과', 2), ('조후', 2), ('제정러시아', 2), ('황실', 2), ('황제', 2), ('멘이에요', 2), ('1836년', 2), ('닮은', 2), ('가오', 2), ('알려져있죠', 2), ('1825년', 2), ('쥬브레샹베르', 2), ('땡', 2), ('나타', 2), ('신생', 2), ('받았습니다', 2), ('르메네르', 2), ('떠오른', 2), ('마시고싶다면', 2), ('해고', 2), ('복서', 2), ('마르퀴스', 2), ('서', 2), ('65', 2), ('할러', 2), ('캥거루', 2), ('담당', 2), ('불레애', 2), ('따르', 2), ('인시', 2), ('810', 2), ('혁명', 2), ('일으킨', 2), ('수퍼스타', 2), ('천사', 2), ('슈럽', 2), ('아기', 2), ('개포', 2), ('까테나의', 2), ('최적화', 2), ('빼어난', 2), ('인멘', 2), ('넘버', 2), ('더해', 2), ('해왔다', 2), ('모르는이', 2), ('보름달', 2), ('지바', 2), ('용의', 2), ('째이어오고있는', 2), ('자전거', 2), ('손상', 2), ('보졸레', 2), ('갖췄으니', 2), ('700', 2), ('해왔어요', 2), ('리베', 2), ('소속', 2), ('쉬는', 2), ('될만', 2), ('불립니다', 2), ('생로랑', 2), ('에드워드', 2), ('받았고', 2), ('머피', 2), ('레디', 2), ('섬세함', 2), ('줄리아', 2), ('오리고기', 2), ('했다면', 2), ('메네', 2), ('장어구이', 2), ('러시아', 2), ('요청', 2), ('있기', 2), ('실현', 2), ('빌까르살몽', 2), ('1818년', 2), ('크다', 2), ('몽타뉴드', 2), ('랭스', 2), ('주니', 2), ('푸이야', 2), ('늦게', 2), ('어깨', 2), ('랍스터', 2), ('가로', 2), ('드노', 2), ('웨딩', 2), ('용하는', 2), ('있을만큼', 2), ('의심', 2), ('장부', 2), ('따서', 2), ('감돈', 2), ('탈', 2), ('몬티', 2), ('해도잘', 2), ('1000', 2), ('수익금', 2), ('관련', 2), ('팩', 2), ('식이', 2), ('감이있는', 2), ('문', 2), ('나시오날', 2), ('휴대', 2), ('가디', 2), ('제라드', 2), ('1978년', 2), ('햄', 2), ('도미니크', 2), ('이끌며', 2), ('페냐롤', 2), ('입사', 2), ('드리나는', 2), ('카스틸리오네', 2), ('드리나', 2), ('해안가', 2), ('뽀므', 2), ('롤', 2), ('찾아보기', 2), ('원래', 2), ('약한', 2), ('단번', 2), ('쌍', 2), ('문득', 2), ('평범한', 2), ('팍', 2), ('눈치', 2), ('지에스', 2), ('티스', 2), ('공연', 2), ('좋겠습니다', 2), ('접하는', 2), ('열린', 2), ('아르테', 2), ('있는와', 2), ('손녀', 2), ('하기가', 2), ('해줄거예요', 2), ('퓌메특', 2), ('좋아서', 2), ('세이', 2), ('선생님', 2), ('감사', 2), ('쑬은', 2), ('푸른색', 2), ('라피스라줄리', 2), ('축복', 2), ('이끌고있으며', 2), ('졸', 2), ('누리는', 2), ('화사하게', 2), ('팔리는', 2), ('첫키스', 2), ('전해지네요', 2), ('모인', 2), ('에스테', 2), ('게다가', 2), ('쌍둥이', 2), ('글로리아', 2), ('한겨울', 2), ('초콜릿케이크', 2), ('호세', 2), ('폰세카', 2), ('분식', 2), ('따를', 2), ('보인다', 2), ('지닌다', 2), ('한새', 2), ('두드러진다', 2), ('묵직하며', 2), ('진저브레드', 2), ('농사', 2), ('착해', 2), ('진하다', 2), ('본인', 2), ('맛있다', 2), ('지니는', 2), ('오디', 2), ('투리', 2), ('가프', 2), ('스칼라', 2), ('송년회', 2), ('반가운', 2), ('혼자', 2), ('집어', 2), ('글레', 2), ('러드', 2), ('누군가', 2), ('르뽀', 2), ('유쾌한', 2), ('훌륭하죠', 2), ('이끌고있는', 2), ('42', 2), ('브레', 2), ('우체부', 2), ('브레이', 2), ('높고', 2), ('리스너', 2), ('볼스', 2), ('하임', 2), ('소시지', 2), ('유명하지만', 2), ('우이', 2), ('사바', 2), ('울', 2), ('녹아있다', 2), ('잡혀있어', 2), ('크림소스', 2), ('불린다', 2), ('갖추고있으며', 2), ('뇽베르트', 2), ('내며', 2), ('참치회', 2), ('연합', 2), ('조이안세', 2), ('다나', 2), ('편하다', 2), ('조개류', 2), ('비레', 2), ('다소', 2), ('사브르', 2), ('푸리', 2), ('110,000원', 2), ('프리울리', 2), ('끄도', 2), ('130,000원', 2), ('편안함', 2), ('황산염', 2), ('1853년', 2), ('짭짤함을', 2), ('어쩌면', 2), ('바타', 2), ('시올', 2), ('몽트뢰', 2), ('후원', 2), ('아마', 2), ('뇽등', 2), ('산뜻해', 2), ('탄탄해', 2), ('에카', 2), ('마데이라', 2), ('모였을', 2), ('버그', 2), ('볼베르', 2), ('매그넘', 2), ('찾는다', 2), ('세투발', 2), ('전채요리', 2), ('코노', 2), ('제대로', 2), ('오타고', 2), ('누아다', 2), ('산악', 2), ('임팩트', 2), ('드러냈다', 2), ('독특', 2), ('해봐', 2), ('실버', 2), ('진흙', 2), ('드러나며', 2), ('편의점', 2), ('화한다', 2), ('루베', 2), ('와시라', 2), ('다스', 2), ('들이내는', 2), ('까르보나라', 2), ('피터', 2), ('들어주는', 2), ('어울릴', 2), ('모스코', 2), ('필레', 2), ('메르', 2), ('불독', 2), ('베스트', 2), ('도드라진다', 2), ('디디', 2), ('킹크랩', 2), ('보자', 2), ('엘더링', 2), ('있을까', 2), ('빌', 2), ('랜', 2), ('007', 2), ('볼렝', 2), ('뤽', 2), ('뛰느', 2), ('배드걸', 2), ('피롱', 2), ('견과', 2), ('마시거나', 2), ('콘트라', 2), ('선수', 2), ('캔달', 2), ('안정감', 2), ('담백하게구', 2), ('지나치게', 2), ('홀짝', 2), ('내면', 2), ('겉', 2), ('차오른다', 2), ('훗날', 1), ('잉글랜드', 1), ('스코틀랜드', 1), ('의왕', 1), ('보여', 1), ('리쉬르', 1), ('마른에', 1), ('적절히사', 1), ('선보이는것이', 1), ('자로', 1), ('구운', 1), ('크로니클', 1), ('수상할만큼', 1), ('꼽히는이기', 1), ('갈은', 1), ('아우르며', 1), ('산느', 1), ('레렛등을블렌딩', 1), ('갈의', 1), ('칠링해', 1), ('갸닛', 1), ('윽', 1), ('감싸안으며', 1), ('풍부한자', 1), ('루이스', 1), ('지노가자', 1), ('귀빈', 1), ('대접', 1), ('이어진', 1), ('안티구아', 1), ('스까베르', 1), ('델타항공', 1), ('서브', 1), ('어우러', 1), ('진남', 1), ('퓨레', 1), ('운듯', 1), ('넘치지만', 1), ('다가오지만', 1), ('솔직하며', 1), ('드러나는데', 1), ('운햄등', 1), ('움직이듯이', 1), ('느껴지는것', 1), ('비강', 1), ('장기간', 1), ('은은히퍼진다', 1), ('즐링', 1), ('봄꽃향', 1), ('같은다', 1), ('카비', 1), ('넷', 1), ('가우', 1), ('스위', 1), ('62.2', 1), ('깔을가지고', 1), ('어울러져', 1), ('증가', 1), ('화이', 1), ('트페', 1), ('퍼향', 1), ('어우러진긴', 1), ('마세라', 1), ('얻은것', 1), ('시압', 1), ('거치는데', 1), ('16년', 1), ('즐기려면', 1), ('510년', 1), ('픽', 1), ('쳐', 1), ('포토', 1), ('그래퍼', 1), ('폴라로이드', 1), ('감동', 1), ('5일', 1), ('거침', 1), ('7일', 1), ('우수하여', 1), ('일본', 1), ('물용', 1), ('이나연', 1), ('젝트', 1), ('불리우던', 1), ('인하여', 1), ('고품격', 1), ('되었습니다', 1), ('반짝이는기', 1), ('지니고있는다', 1), ('솔트', 1), ('흐르는', 1), ('완벽함을', 1), ('1988년', 1), ('디유', 1), ('되었으며', 1), ('언론', 1), ('만장일치', 1), ('로써', 1), ('인정받아', 1), ('저서', 1), ('소더비즈', 1), ('도제', 1), ('릭', 1), ('오르는잘', 1), ('할퀴는듯', 1), ('길들여지지', 1), ('맹수', 1), ('놀랄만', 1), ('녀석', 1), ('변할것', 1), ('같다고', 1), ('조심', 1), ('스레', 1), ('예상', 1), ('해본다', 1), ('받는이에게', 1), ('바고', 1), ('컴', 1), ('올랐던', 1), ('볼라', 1), ('겹', 1), ('쳐져있으며', 1), ('쇼', 1), ('더해져아주', 1), ('담겨져', 1), ('3일', 1), ('2528', 1), ('되어진다', 1), ('되고전', 1), ('번의', 1), ('클린', 1), ('바닐', 1), ('되다', 1), ('안심', 1), ('풋풋함과', 1), ('묵직함과', 1), ('진지하면서도', 1), ('제외', 1), ('된주', 1), ('명시', 1), ('분명', 1), ('이외', 1), ('된것', 1), ('같은데', 1), ('없었다', 1), ('찾아보니', 1), ('글로벌', 1), ('캬라멜', 1), ('빨레', 1), ('마법', 1), ('같기', 1), ('도하', 1), ('크렌베리', 1), ('캐슈넛', 1), ('시너지', 1), ('충돌', 1), ('에러', 1), ('날것만', 1), ('잡혀있고', 1), ('자투', 1), ('1300', 1), ('고지', 1), ('보여주는데이로', 1), ('인하여진한', 1), ('낼수있으며', 1), ('가능하다', 1), ('데워서', 1), ('기병', 1), ('데워진한', 1), ('즐긴다', 1), ('닫아', 1), ('끓이면', 1), ('날아가니주의', 1), ('원하면', 1), ('꼬냑', 1), ('스포츠', 1), ('스키', 1), ('산행', 1), ('풀어줄', 1), ('원할', 1), ('기운이있을', 1), ('숙면', 1), ('생각날', 1), ('나들이', 1), ('보온병', 1), ('훈훈함을', 1), ('나누세요', 1), ('다르고', 1), ('끓기라도', 1), ('틀어지는데', 1), ('크리스트', 1), ('킨들', 1), ('데워', 1), ('온기', 1), ('강하지도', 1), ('약하지도', 1), ('괜찮았음', 1), ('데워만', 1), ('좋겠지만', 1), ('띄워서', 1), ('맛있었는듯', 1), ('느껴지면서도', 1), ('악질', 1), ('드러나있는', 1), ('색띠', 1), ('류향', 1), ('신선함을주는', 1), ('클랜', 1), ('키르', 1), ('초목', 1), ('같은잘', 1), ('꼬르', 1), ('오미자', 1), ('이어다시', 1), ('갈증', 1), ('사라지고', 1), ('두드러지게', 1), ('알차게', 1), ('달콤하', 1), ('독특한신', 1), ('따랐을', 1), ('올라오는기', 1), ('울리는', 1), ('가져와인', 1), ('18041804', 1), ('앵두', 1), ('깨우고', 1), ('타니의', 1), ('좋아구', 1), ('탁월하여시', 1), ('닝', 1), ('루미', 1), ('수프', 1), ('뛰어안', 1), ('이태리아', 1), ('테라모', 1), ('자세히', 1), ('들여다보면', 1), ('누워있는', 1), ('하고있음', 1), ('부제', 1), ('깜파니', 1), ('아우르는', 1), ('끊임없는', 1), ('파네세의', 1), ('발렌티노', 1), ('쇼티', 1), ('심혈', 1), ('기울여내놓은', 1), ('야심작', 1), ('깨울', 1), ('나고있다', 1), ('퍼포먼스', 1), ('찾는', 1), ('머물러있으며', 1), ('히터', 1), ('젝', 1), ('만들어져있다', 1), ('평화조약', 1), ('쉥겐', 1), ('꿈꾸었던', 1), ('이루어졌다는', 1), ('붙여졌다', 1), ('여국', 1), ('수상실', 1), ('하여기', 1), ('특유의청량', 1), ('참외', 1), ('개구', 1), ('그리고야', 1), ('채구이까지', 1), ('같', 1), ('예산', 1), ('커스터드', 1), ('설탕절임', 1), ('독특하면서도', 1), ('훌륭함', 1), ('건조하여', 1), ('무르', 1), ('익는데에', 1), ('가까웠다', 1), ('촉촉하게', 1), ('내렸던', 1), ('낼수있었다', 1), ('진정한와', 1), ('인로', 1), ('났다', 1), ('25회', 1), ('청색', 1), ('컬럼비아', 1), ('강물', 1), ('휩쓸고가는대', 1), ('빙하호', 1), ('이홍수', 1), ('바윗돌', 1), ('빙하', 1), ('잔해', 1), ('사물', 1), ('남기', 1), ('퇴적', 1), ('혼합', 1), ('켓프레스', 1), ('와의', 1), ('토바코', 1), ('향나무', 1), ('그을린듯', 1), ('일출', 1), ('장엄한', 1), ('의식', 1), ('해안선', 1), ('따뜻하고해', 1), ('빛짚볏', 1), ('와스', 1), ('짜내고', 1), ('1718', 1), ('이르게', 1), ('숨어있던', 1), ('밖', 1), ('튀어나오는', 1), ('감싸안는', 1), ('4천', 1), ('8천', 1), ('헥토', 1), ('헥타아르', 1), ('펀칭과펌핑', 1), ('착색', 1), ('수행', 1), ('형통', 1), ('하시엔', 1), ('된까', 1), ('888', 1), ('되었기', 1), ('필심', 1), ('함께시음', 1), ('놀랍다고', 1), ('연노', 1), ('풍겨오는', 1), ('나배', 1), ('풍부하면', 1), ('서시', 1), ('안지', 1), ('올라가는', 1), ('뼈대', 1), ('거쳤으며', 1), ('거나', 1), ('찾아볼수있는', 1), ('검은자', 1), ('밀짚', 1), ('푸른', 1), ('물고있는것', 1), ('비쥬', 1), ('청순', 1), ('청순한', 1), ('목살', 1), ('반해서', 1), ('통통', 1), ('차분하고', 1), ('아주부', 1), ('드러워요', 1), ('난하게잘', 1), ('서머', 1), ('적당하면서', 1), ('좋게만', 1), ('들고', 1), ('들고가', 1), ('면병', 1), ('네이블', 1), ('박수', 1), ('행복하게', 1), ('은은하게퍼지고요', 1), ('않아서', 1), ('예쁘네요', 1), ('날꼭', 1), ('하고싶은', 1), ('맞는과', 1), ('무단', 1), ('순하지', 1), ('테청량감', 1), ('딱좋', 1), ('음달', 1), ('쭉', 1), ('더업', 1), ('귤', 1), ('코치', 1), ('올라로', 1), ('박아', 1), ('더했으니', 1), ('훌륭해요', 1), ('후당', 1), ('당하게', 1), ('걸음', 1), ('내디딜이', 1), ('빛나면서도', 1), ('펼쳐지길', 1), ('로건', 1), ('높여줄것이다', 1), ('레이드', 1), ('더불어이', 1), ('조미', 1), ('탄탄하게', 1), ('해주고있다', 1), ('되고신', 1), ('1865', 1), ('라임스톤', 1), ('시킨리', 1), ('열릴수록', 1), ('남길', 1), ('있어서', 1), ('매치하기', 1), ('무덥지', 1), ('않은기', 1), ('후덕', 1), ('된아주', 1), ('부지런한', 1), ('근성', 1), ('있', 1), ('고깔', 1), ('은기', 1), ('뛰어난기', 1), ('휴식', 1), ('초콜렉', 1), ('조를가지며', 1), ('고둥', 1), ('풍부하고진한', 1), ('파인은', 1), ('카테고리', 1), ('가보다', 1), ('짐', 1), ('머는', 1), ('달콤함을잘', 1), ('감미로운당', 1), ('뒤따른다', 1), ('뚜렷하며', 1), ('좋아한다면', 1), ('2015', 1), ('깊으면서', 1), ('도어', 1), ('두운', 1), ('류잼', 1), ('장인상', 1), ('시라는로다', 1), ('이세', 1), ('슬로우', 1), ('처트', 1), ('렌치', 1), ('암석', 1), ('이토', 1), ('꿀등', 1), ('달진', 1), ('그래도', 1), ('좋았는데', 1), ('더욱이', 1), ('튀지고', 1), ('않고데', 1), ('용도', 1), ('간지럽히는', 1), ('흘러나오는', 1), ('기승', 1), ('부리면', 1), ('부릴수록', 1), ('간절히', 1), ('생각나는라', 1), ('새침하게', 1), ('다가올', 1), ('이미라', 1), ('버린듯', 1), ('말로', 1), ('용할수', 1), ('기쁨을주는라', 1), ('찾고계', 1), ('신분', 1), ('적당함', 1), ('스파크', 1), ('일단', 1), ('식혀주네요', 1), ('켓', 1), ('있다면라', 1), ('포실한기', 1), ('수영장', 1), ('수영', 1), ('게시', 1), ('원하게', 1), ('부는', 1), ('가의', 1), ('상이', 1), ('되었어요', 1), ('느껴진듯', 1), ('콤달콤', 1), ('오밀조밀', 1), ('가목', 1), ('넘어갈', 1), ('시원하다라는', 1), ('주었', 1), ('고함', 1), ('신선해서', 1), ('뻥', 1), ('크지', 1), ('떨어지니', 1), ('회랑', 1), ('따지자면', 1), ('견해', 1), ('적당히잘', 1), ('이루어져', 1), ('매치가잘', 1), ('좋을', 1), ('청량하고', 1), ('딱입니다', 1), ('할수있으니', 1), ('같습니다', 1), ('어울리는가', 1), ('볏집색', 1), ('베이지', 1), ('잔뒤', 1), ('투명하게잘', 1), ('편입', 1), ('잔위', 1), ('채우며', 1), ('가라앉습니다', 1), ('사진', 1), ('투명', 1), ('보이지', 1), ('어딘가', 1), ('이납', 1), ('도강', 1), ('반복', 1), ('강함으로', 1), ('터집니다', 1), ('되는라', 1), ('넘어가는', 1), ('세라', 1), ('8.15', 1), ('광복절', 1), ('날짜', 1), ('교포', 1), ('유학생', 1), ('가야', 1), ('삐', 1), ('브싼타레스', 1), ('띠뚜', 1), ('의한', 1), ('원수', 1), ('가릴', 1), ('에이커', 1), ('11년', 1), ('수가', 1), ('1547년', 1), ('일람표', 1), ('찾아볼수있을', 1), ('크와', 1), ('누적', 1), ('1천만', 1), ('스민긴', 1), ('제코', 1), ('참매', 1), ('드셔', 1), ('2007', 1), ('개크뤼중', 1), ('가이며', 1), ('생강빵', 1), ('꽃향등', 1), ('잼등', 1), ('농후', 1), ('견고하고', 1), ('매끈하게', 1), ('끝나는', 1), ('30,000', 1), ('불과', 1), ('불과하다', 1), ('표시', 1), ('없지만', 1), ('중진', 1), ('이우선', 1), ('단언', 1), ('카레이서', 1), ('미하엘', 1), ('슈마허', 1), ('파레트', 1), ('즐기고', 1), ('유하', 1), ('고배', 1), ('고소하면서도', 1), ('날선', 1), ('4,132', 1), ('더해주는아', 1), ('살려주는', 1), ('자아내는의', 1), ('황무지', 1), ('같았던', 1), ('농지', 1), ('월터', 1), ('로어', 1), ('고혹', 1), ('섬세하지만', 1), ('등그', 1), ('뤼밭', 1), ('리차드', 1), ('줄리', 1), ('180', 1), ('도르를', 1), ('까라', 1), ('바틀', 1), ('특수', 1), ('메탈', 1), ('더하였고', 1), ('1873', 1), ('매실', 1), ('띄며잘', 1), ('드슈', 1), ('페삭', 1), ('그늘', 1), ('가려진', 1), ('충실한', 1), ('아름답게만', 1), ('들고있다', 1), ('해치', 1), ('않기', 1), ('35만', 1), ('경쟁', 1), ('층층', 1), ('펼쳐지는', 1), ('부드럽고잘', 1), ('느끼실수있다', 1), ('리조또', 1), ('66', 1), ('88', 1), ('는그랑크뤼', 1), ('프르미에크뤼', 1), ('붉거나', 1), ('파란', 1), ('굽는', 1), ('펼쳐지고', 1), ('둥글둥글한구', 1), ('만들어주는', 1), ('77', 1), ('시에나', 1), ('끼안', 1), ('해있으며', 1), ('안온도', 1), ('부드럽고우아', 1), ('잡혀있다', 1), ('이상숙', 1), ('파생', 1), ('산자', 1), ('커버', 1), ('인정받', 1), ('되던', 1), ('깬', 1), ('인위', 1), ('오르면', 1), ('이끼', 1), ('가늘고', 1), ('여린', 1), ('서시음', 1), ('바비큐치킨', 1), ('대등', 1), ('않은것', 1), ('들을안주', 1), ('브메', 1), ('릿향', 1), ('훌륭한구', 1), ('급증', 1), ('의뒤', 1), ('시키기', 1), ('을유', 1), ('나타나게', 1), ('줄인', 1), ('이결', 1), ('합하여', 1), ('신선하게만', 1), ('상파뉴', 1), ('뮤', 1), ('일쉬르', 1), ('모나', 1), ('핸들링', 1), ('필요없으며', 1), ('드셔도', 1), ('인숙', 1), ('솔이', 1), ('줄거예요', 1), ('카모마일', 1), ('움직임', 1), ('듀블', 1), ('깜빠니아', 1), ('여상', 1), ('파뉴', 1), ('지평', 1), ('야심', 1), ('따른', 1), ('귀리', 1), ('숨어있으며', 1), ('는랑', 1), ('증언', 1), ('1860년', 1), ('무분별', 1), ('불도', 1), ('져로', 1), ('엎어질', 1), ('뻔했던', 1), ('고아', 1), ('버려진', 1), ('장테', 1), ('발광다이오드', 1), ('날라의', 1), ('돋보이게', 1), ('의통', 1), ('톤', 1), ('뻴', 1), ('왼쪽', 1), ('스페인국', 1), ('후안', 1), ('카를로스', 1), ('왕궁', 1), ('할리우드', 1), ('브래드피트', 1), ('안젤리나', 1), ('졸리', 1), ('알려져있다', 1), ('기네스', 1), ('펠트', 1), ('페니', 1), ('쉬디', 1), ('샤또', 1), ('수석', 1), ('폴퐁', 1), ('가샤', 1), ('로리스', 1), ('달동', 1), ('토질', 1), ('아노와', 1), ('넘지', 1), ('윌라메트', 1), ('던디', 1), ('힐', 1), ('아는진하면서도', 1), ('우아하면', 1), ('서구', 1), ('갖추고있다', 1), ('용하였으며', 1), ('발생', 1), ('용법', 1), ('과오', 1), ('츄럴', 1), ('아세트산', 1), ('두터우나', 1), ('이루고있으며', 1), ('이루고있는구', 1), ('상퍄뉴', 1), ('트래디셔', 1), ('널메', 1), ('소드', 1), ('일어났으며', 1), ('병속', 1), ('자잘하고오래', 1), ('되는기', 1), ('시키듯이', 1), ('이끌어가는', 1), ('의외', 1), ('증조부', 1), ('러더포드', 1), ('매입', 1), ('셰릴', 1), ('2011년', 1), ('젊은여', 1), ('멀로', 1), ('이는와', 1), ('특허', 1), ('할수있는긴', 1), ('행', 1), ('되도록', 1), ('익는', 1), ('조생종', 1), ('서늘한오', 1), ('크놀', 1), ('한훈', 1), ('드리우는', 1), ('화려하고', 1), ('황홀경', 1), ('빠지게', 1), ('리찌', 1), ('라운드', 1), ('모를', 1), ('1822', 1), ('용하여', 1), ('방해', 1), ('않도록', 1), ('틀', 1), ('린스', 1), ('호펜', 1), ('220330', 1), ('매우잘', 1), ('뚜렷하면서', 1), ('강렬하면', 1), ('서복', 1), ('미묘한노', 1), ('따라온다', 1), ('따뜻하면서', 1), ('가길고', 1), ('노는라는', 1), ('우물', 1), ('어원', 1), ('700년', 1), ('의문', 1), ('양은', 1), ('알비', 1), ('고소하게', 1), ('화려해진다', 1), ('하는와', 1), ('함량', 1), ('옴므', 1), ('이름답게', 1), ('닮아', 1), ('진실되고', 1), ('수호', 1), ('해나', 1), ('가는', 1), ('레꼴땅마니퓰', 1), ('불리우는', 1), ('이레', 1), ('꼴땅', 1), ('마니', 1), ('퓰', 1), ('만들어지고있다', 1), ('재료', 1), ('좌우', 1), ('중요한요', 1), ('소일', 1), ('고다', 1), ('본에서가', 1), ('없으나까', 1), ('샹빵', 1), ('레밭', 1), ('정교하며', 1), ('짜여져있고', 1), ('육감', 1), ('능력', 1), ('못지않게', 1), ('빼어나', 1), ('본에', 1), ('숨겨진', 1), ('르뻬레', 1), ('르미에크뤼', 1), ('지날', 1), ('수록', 1), ('강렬해지며', 1), ('하이라이트', 1), ('진하고긴', 1), ('250', 1), ('선점', 1), ('여각', 1), ('티제', 1), ('사투리', 1), ('가까이', 1), ('가뭄', 1), ('갖게', 1), ('느꼈던', 1), ('같은진', 1), ('보여주어', 1), ('견고한잘', 1), ('더해주', 1), ('살려주며', 1), ('특별함', 1), ('보상', 1), ('프래', 1), ('어프', 1), ('쉴드', 1), ('성과', 1), ('물', 1), ('보여주고싶다는', 1), ('간절한', 1), ('소망', 1), ('기대하게', 1), ('그러한', 1), ('담아내기', 1), ('사치스러우며', 1), ('끊임없다', 1), ('바르셀로나', 1), ('매료', 1), ('되어이', 1), ('사업', 1), ('뛰어든', 1), ('1700년', 1), ('예배당', 1), ('안치', 1), ('샌', 1), ('된구', 1), ('개월뉴', 1), ('프랜', 1), ('성직자', 1), ('800년', 1), ('조화로운긴', 1), ('통후추', 1), ('갈에서는', 1), ('그릴수록', 1), ('오히려', 1), ('되는것은', 1), ('일시', 1), ('길러', 1), ('스스로', 1), ('비워', 1), ('나가는과', 1), ('정일', 1), ('바란다', 1), ('돌려', 1), ('보내기', 1), ('분노', 1), ('불안도', 1), ('공포', 1), ('허로', 1), ('돌릴', 1), ('때우리', 1), ('들은', 1), ('평안', 1), ('에고', 1), ('신장', 1), ('바라고있으나', 1), ('나는에', 1), ('고의', 1), ('소멸', 1), ('무아', 1), ('경지', 1), ('찾고있는것이다', 1), ('김창열', 1), ('치날레', 1), ('퀘르체토', 1), ('달콤하게잘', 1), ('혀안', 1), ('미끄러지듯', 1), ('풀하며', 1), ('충만', 1), ('뉴월드', 1), ('비하여', 1), ('흐름', 1), ('복잡하고', 1), ('오묘한', 1), ('띄고있으며', 1), ('리진', 1), ('전제', 1), ('매니아', 1), ('팝', 1), ('조일듯', 1), ('한강', 1), ('인구', 1), ('훌륭하여', 1), ('모여', 1), ('벌이는', 1), ('탐스러운', 1), ('화합', 1), ('천진난만하던', 1), ('어린시절', 1), ('회상', 1), ('갖춘에', 1), ('내어', 1), ('선친', 1), ('인자', 1), ('모의', 1), ('철자', 1), ('만든것이며', 1), ('오른쪽', 1), ('하단', 1), ('쓰여진', 1), ('매직', 1), ('큐브', 1), ('쟁기', 1), ('농부가', 1), ('걸쳐전수', 1), ('빌까', 1), ('르살몽', 1), ('낸로', 1), ('해보기', 1), ('트향', 1), ('코딩', 1), ('매치', 1), ('시키는것이다', 1), ('브릭', 1), ('쳐진것', 1), ('네이스', 1), ('잘살려내기', 1), ('느낌을주죠', 1), ('담고있어요', 1), ('만들어가는', 1), ('1906', 1), ('르네랄리', 1), ('18611938', 1), ('1906년', 1), ('아이지', 1), ('1996', 1), ('손자', 1), ('므리', 1), ('에일', 1), ('임명', 1), ('꾀', 1), ('권유', 1), ('견고히하고', 1), ('가깝', 1), ('게일', 1), ('다한', 1), ('400,000', 1), ('이트리', 1), ('보가', 1), ('고객', 1), ('고있는', 1), ('센세이션', 1), ('신비함은', 1), ('힘들', 1), ('벨기에', 1), ('홍콩', 1), ('등수', 1), ('등재', 1), ('각', 1), ('2830', 1), ('가진잘', 1), ('실과', 1), ('이루게되', 1), ('1989년', 1), ('가진로', 1), ('높아지', 1), ('사랑스러운로', 1), ('더부', 1), ('가시', 1), ('켜준다', 1), ('상쾌하게', 1), ('만들어줘', 1), ('우진', 1), ('20일', 1), ('가진다', 1), ('블렉', 1), ('몰트', 1), ('로주', 1), ('착해서', 1), ('바깥', 1), ('얻는다', 1), ('이루어지며', 1), ('섞어주어', 1), ('하게하고', 1), ('변했을', 1), ('28년', 1), ('배어나는', 1), ('편안하고', 1), ('3천', 1), ('주민', 1), ('이하나', 1), ('입혀', 1), ('병마', 1), ('달라', 1), ('수집', 1), ('재미', 1), ('더하는', 1), ('가벼운듯', 1), ('퍼진다', 1), ('신선함으로', 1), ('섬세히', 1), ('가졌으며', 1), ('느낄수있', 1), ('7.8', 1), ('느껴짐', 1), ('좋았지만', 1), ('떨어져서', 1), ('실망', 1), ('차라리', 1), ('낫다', 1), ('많아', 1), ('좋음', 1), ('경쾌', 1), ('아그리콜라', 1), ('푸니', 1), ('산귀', 1), ('점심', 1), ('여운이잘', 1), ('그리아다', 1), ('에센스', 1), ('청량함을', 1), ('4050년', 1), ('올렸으며', 1), ('주관', 1), ('열린에서', 1), ('류및', 1), ('보이즌베리', 1), ('따듯', 1), ('어려있으며', 1), ('광범위하고', 1), ('감을잘', 1), ('맛볼수있다', 1), ('까베르네소비뇽', 1), ('225', 1), ('강렬하며', 1), ('확실하게', 1), ('술지게미', 1), ('2628', 1), ('소형', 1), ('이루어진다', 1), ('하는과', 1), ('산뜻하지만', 1), ('잰', 1), ('로빈', 1), ('반격', 1), ('까운', 1), ('호수', 1), ('편암', 1), ('신선하며과', 1), ('풍부한매', 1), ('우기', 1), ('만다린', 1), ('드물게', 1), ('살아나는리', 1), ('목적', 1), ('부여하였다', 1), ('유제품', 1), ('닿았을', 1), ('때꽤', 1), ('묵직하지만', 1), ('아콩카구아', 1), ('해있어', 1), ('원산지', 1), ('과점', 1), ('질토', 1), ('섬세한시', 1), ('적절하게', 1), ('노포', 1), ('후진', 1), ('추수', 1), ('부르데', 1), ('특별히', 1), ('1012년', 1), ('조여오는', 1), ('피데스', 1), ('달바', 1), ('사레', 1), ('살리고자', 1), ('드롱', 1), ('계곡', 1), ('담근과', 1), ('수화', 1), ('후부', 1), ('드럽게', 1), ('복잡한구', 1), ('운향', 1), ('쌓인', 1), ('카롤린', 1), ('시크', 1), ('렛드', 1), ('자동', 1), ('장치', 1), ('화산', 1), ('차오르며', 1), ('다미', 1), ('뛰어들수있도록', 1), ('준자', 1), ('기리', 1), ('약자', 1), ('신념', 1), ('오는잘', 1), ('꽉차는', 1), ('벽돌', 1), ('유연해진', 1), ('적셔주는', 1), ('링거', 1), ('스트라디바리', 1), ('천상', 1), ('칭송', 1), ('바이올린', 1), ('세상', 1), ('일조', 1), ('인정받게', 1), ('비평가', 1), ('소더비', 1), ('이끌어내었으며', 1), ('원화', 1), ('되어있으므로', 1), ('기복', 1), ('화할수있는', 1), ('살아있는하며', 1), ('장고', 1), ('룬', 1), ('소프트', 1), ('지루하지', 1), ('않게하고', 1), ('라라', 1), ('보내는이', 1), ('필요한', 1), ('이페', 1), ('동유럽', 1), ('라', 1), ('미에서는', 1), ('체리파이', 1), ('핑크레이디', 1), ('서늘했던', 1), ('한밤', 1), ('낮은당', 1), ('성숙해', 1), ('정재', 1), ('짜인', 1), ('옷', 1), ('연분홍', 1), ('마라', 1), ('항', 1), ('적혀진는', 1), ('깊숙한', 1), ('높은고도', 1), ('배트', 1), ('완벽', 1), ('까울', 1), ('선보여주는', 1), ('엄격하게', 1), ('13,000', 1), ('20,000', 1), ('발레', 1), ('누오', 1), ('지명', 1), ('주소', 1), ('적갈색', 1), ('은은하게퍼지는', 1), ('효능', 1), ('가진항', 1), ('료', 1), ('넣어서', 1), ('끓이는', 1), ('건강', 1), ('이유나', 1), ('개선', 1), ('기원전', 1), ('슈', 1), ('버건', 1), ('트로링거블렌딩', 1), ('95.385', 1), ('향료', 1), ('따뜻하게', 1), ('스칸디나비아', 1), ('회복', 1), ('예방', 1), ('벼룩시장', 1), ('가면', 1), ('종이컵', 1), ('국자', 1), ('부어', 1), ('파는', 1), ('포장마차', 1), ('만날수있고', 1), ('항상', 1), ('티백', 1), ('마신다고', 1), ('넣어도', 1), ('비슷하지만', 1), ('호칭', 1), ('다르다', 1), ('뮬드', 1), ('2030분', 1), ('겨울캠핑', 1), ('장이', 1), ('느껴지다가', 1), ('침', 1), ('감도는진한', 1), ('감지', 1), ('되다가', 1), ('모렐', 1), ('시트', 1), ('레스', 1), ('가졌다', 1), ('싱싱하고잘', 1), ('안은', 1), ('레딩', 1), ('배어나는다', 1), ('3540년', 1), ('국산', 1), ('뻬스', 1), ('30분', 1), ('보듯', 1), ('아닌말', 1), ('맞게말', 1), ('벡특', 1), ('느끼게만', 1), ('대위', 1), ('4일', 1), ('펌핑', 1), ('보여주듯', 1), ('월넛', 1), ('페라노', 1), ('또품', 1), ('샐비어', 1), ('랩', 1), ('싫증나지', 1), ('필요없이', 1), ('또스띠', 1), ('더한이', 1), ('나연', 1), ('미에서', 1), ('삶은', 1), ('굴곡', 1), ('굽이쳐', 1), ('비밀스런', 1), ('찾기', 1), ('어렵지만', 1), ('구부러지고', 1), ('이어가는에서는', 1), ('담겨진', 1), ('여정', 1), ('되기까지', 1), ('기대할수있다', 1), ('담은듯', 1), ('주도하는', 1), ('넘치는기', 1), ('관성', 1), ('69년', 1), ('스탠다드', 1), ('퀴베', 1), ('지어졌다', 1), ('맡을수있는', 1), ('품은', 1), ('달콤하기만', 1), ('식감', 1), ('못', 1), ('티모', 1), ('빛병', 1), ('용이', 1), ('5만', 1), ('인고', 1), ('크림슨색', 1), ('풍부함이', 1), ('담대하고', 1), ('윤곽', 1), ('기계', 1), ('나뉘어', 1), ('무릴라', 1), ('가진리', 1), ('릴라', 1), ('몇', 1), ('안되는', 1), ('부드럽지한', 1), ('정교하게', 1), ('만들어지는', 1), ('실레', 1), ('뽐낸다', 1), ('뛰어난것이', 1), ('끄로', 1), ('레시피', 1), ('햄버거', 1), ('미친', 1), ('지녔다는', 1), ('정해져있는', 1), ('개개인', 1), ('변형', 1), ('재미있게', 1), ('한결', 1), ('친숙하게', 1), ('다가가겠다는', 1), ('담겨있', 1), ('상품', 1), ('유지됨', 1), ('용시', 1), ('세련됨을', 1), ('강렬히', 1), ('라펠데세렌', 1), ('고요한', 1), ('부름을', 1), ('셉아', 1), ('빛색', 1), ('붓순나무', 1), ('잡혀있으며', 1), ('느껴지는긴', 1), ('베린', 1), ('사위', 1), ('스테파니', 1), ('퍼트', 1), ('넘이', 1), ('해볼', 1), ('리해', 1), ('끌리마', 1), ('해쉬', 1), ('시켰다는', 1), ('쉬농', 1), ('느껴', 1), ('통과', 1), ('골듯', 1), ('풍부하고진', 1), ('드린은', 1), ('이북', 1), ('꿈꾸며', 1), ('투합', 1), ('해설', 1), ('립', 1), ('화려하다', 1), ('폴자불레', 1), ('불레', 1), ('해박', 1), ('숨겨', 1), ('진강', 1), ('기욤', 1), ('알렉산드르', 1), ('카소', 1), ('뛰어난세', 1), ('드린', 1), ('라즈', 1), ('해주어', 1), ('마시고싶어지는', 1), ('힙스터', 1), ('불문', 1), ('더하기', 1), ('밴드', 1), ('샵', 1), ('근무', 1), ('빠져들었고', 1), ('붙인', 1), ('한지', 1), ('관심', 1), ('가졌고', 1), ('화하며', 1), ('시드', 1), ('몸바사', 1), ('인어', 1), ('퍼', 1), ('골번', 1), ('뚜렷한과', 1), ('나며', 1), ('발랄한기', 1), ('채워주는', 1), ('과열', 1), ('식혀주는', 1), ('나타날수있도록', 1), ('여조', 1), ('이룰수있도록', 1), ('인하여잘', 1), ('어울려져', 1), ('신선한구', 1), ('한유', 1), ('메이오', 1), ('저명한', 1), ('인척', 1), ('셉와', 1), ('거뒀다', 1), ('드러나도록', 1), ('이후원', 1), ('이루도록', 1), ('서긴', 1), ('찾을만큼', 1), ('드까', 1), ('다양한수', 1), ('대전', 1), ('당시', 1), ('남태평양', 1), ('주요한', 1), ('하늘', 1), ('켜준것처럼', 1), ('다짐', 1), ('담은것이다', 1), ('남다른구', 1), ('코스트코', 1), ('수상해', 1), ('마시는내내', 1), ('산뜻함과', 1), ('의결', 1), ('마렘', 1), ('다리', 1), ('이태리어', 1), ('물신', 1), ('띤또와브', 1), ('국유', 1), ('쉐프', 1), ('쥬얼', 1), ('전면', 1), ('외국인', 1), ('비친', 1), ('삶', 1), ('담아내어이', 1), ('즐길수있는을', 1), ('잘살려주고있다', 1), ('135년', 1), ('그리노가', 1), ('판탈레', 1), ('더하며', 1), ('밀폐', 1), ('그리노는', 1), ('그리노에서', 1), ('은지', 1), ('따라와인의', 1), ('2040', 1), ('한상태', 1), ('58년', 1), ('아노는', 1), ('느낀에의', 1), ('미친의', 1), ('어로', 1), ('각인', 1), ('시킬수있도록', 1), ('만들어졌으며', 1), ('건강하고', 1), ('급속도', 1), ('성장하고있는', 1), ('의선', 1), ('레뱅드', 1), ('입증', 1), ('미친을', 1), ('젊고', 1), ('용했', 1), ('고상', 1), ('보여주는이', 1), ('원심', 1), ('분리', 1), ('뒤병', 1), ('입하였다', 1), ('마련', 1), ('해주었다', 1), ('버지의똔', 1), ('스테판스윈', 1), ('그로', 1), ('최고점', 1), ('받기도', 1), ('쏜리', 1), ('페트롤', 1), ('피하', 1), ('씻어주는', 1), ('아시안', 1), ('새싹', 1), ('신속하게', 1), ('옮겨져줄기', 1), ('압력', 1), ('생동', 1), ('찌꺼기', 1), ('톰슨', 1), ('데이비드', 1), ('닐이봇슨', 1), ('적합하다고', 1), ('판단', 1), ('과피', 1), ('노누', 1), ('뇽블랑특', 1), ('와중', 1), ('지니고있어', 1), ('폭넓은', 1), ('보시오는', 1), ('보시오', 1), ('돼있다', 1), ('1967년', 1), ('째이어오며', 1), ('지에서도', 1), ('누릴만', 1), ('발산', 1), ('녹아있는', 1), ('있으나', 1), ('느껴지는당', 1), ('완화', 1), ('이드', 1), ('묘', 1), ('로마신화', 1), ('바쿠스', 1), ('한실', 1), ('만드는데', 1), ('많지만', 1), ('캡슐', 1), ('남은', 1), ('닫아서', 1), ('살아있어', 1), ('올라와', 1), ('푸르고', 1), ('이청', 1), ('14시간', 1), ('릇', 1), ('최대로', 1), ('끌어내었다', 1), ('않은데', 1), ('대해', 1), ('자연보호', 1), ('습지', 1), ('가져왔다', 1), ('크드', 1), ('가벼운치', 1), ('상쾌하다', 1), ('글래머', 1), ('러스', 1), ('싶지만', 1), ('르트', 1), ('도톤', 1), ('기술제휴', 1), ('맺고있다', 1), ('라펠', 1), ('한코', 1), ('트롤', 1), ('띈', 1), ('에코', 1), ('터질듯', 1), ('두껍고', 1), ('감을주고', 1), ('몇년', 1), ('깔끔하지만', 1), ('하는것을', 1), ('야드', 1), ('해낸다', 1), ('이른', 1), ('용함', 1), ('부드럽지만', 1), ('뜨사', 1), ('뜨는디', 1), ('캔터', 1), ('수지', 1), ('애', 1), ('옹그', 1), ('리나로', 1), ('쏠리', 1), ('렘블레', 1), ('금세', 1), ('살아있는과', 1), ('되었을', 1), ('샤도네특', 1), ('만찬', 1), ('찾아냈다', 1), ('올렸다', 1), ('가자미목', 1), ('뉴욕', 1), ('스트립', 1), ('됐으니', 1), ('참고', 1), ('파의', 1), ('베이커', 1), ('책임지고있는', 1), ('해볼수있다는', 1), ('뛰어난테', 1), ('풀하게', 1), ('오트쿠튀르', 1), ('레파셀레르드쏘', 1), ('뫼르소', 1), ('르끌레르', 1), ('브리앙', 1), ('벨빌', 1), ('샤또드', 1), ('꼬마', 1), ('들과의', 1), ('레파셀레르드', 1), ('쏘의', 1), ('쥬브리샹베르탱', 1), ('론칭후', 1), ('장개', 1), ('알려져있으며', 1), ('꼬샤', 1), ('써클', 1), ('키라', 1), ('코로', 1), ('않으면', 1), ('도드라지고', 1), ('진하면서', 1), ('단순히진', 1), ('되어진하면서도', 1), ('타노의', 1), ('기하학', 1), ('건축물', 1), ('타노는', 1), ('국경', 1), ('피레네', 1), ('소모', 1), ('스리', 1), ('받을수있다', 1), ('은상', 1), ('이어지고있다', 1), ('대담하고', 1), ('본', 1), ('꼬뜨샬', 1), ('송로버섯', 1), ('받는바', 1), ('등세', 1), ('인정받고있으며', 1), ('감히', 1), ('수용', 1), ('그리말디', 1), ('당당한구', 1), ('섬세함까지', 1), ('고진하', 1), ('한구', 1), ('조를가지고', 1), ('리엘', 1), ('오페', 1), ('교외', 1), ('1973년', 1), ('명의', 1), ('후선', 1), ('선함을', 1), ('중혼', 1), ('죄목', 1), ('내렸다', 1), ('펼쳤고', 1), ('구글플레이', 1), ('앱스토어', 1), ('어플', 1), ('들을수있다', 1), ('죄수', 1), ('사법', 1), ('보좌', 1), ('관인', 1), ('1871년', 1), ('래서', 1), ('근면함', 1), ('결과', 1), ('차있다', 1), ('돌', 1), ('흥취', 1), ('우조', 1), ('신선하여', 1), ('굉장한', 1), ('가져가', 1), ('놀랐지만', 1), ('필자', 1), ('익숙해졌고', 1), ('아쉽게', 1), ('뿜', 1), ('분포', 1), ('찾아', 1), ('헤매던', 1), ('굵게', 1), ('구불구불해진', 1), ('의근', 1), ('서퍼', 1), ('같다는', 1), ('들어를', 1), ('외쳤고', 1), ('필요하다', 1), ('잔판델', 1), ('어울리지만', 1), ('바베큐', 1), ('발돋움', 1), ('큰한', 1), ('오를만큼', 1), ('우아하게퍼지는다', 1), ('리티등', 1), ('세니에', 1), ('태양열', 1), ('지붕', 1), ('드골', 1), ('선명하고', 1), ('카타르항공', 1), ('풍부하고긴', 1), ('주는주', 1), ('1886년', 1), ('재정', 1), ('교체', 1), ('여러가지', 1), ('해성', 1), ('재는', 1), ('영역', 1), ('짚', 1), ('오래되고', 1), ('공작', 1), ('해탈', 1), ('한역', 1), ('사가있으며', 1), ('임을대', 1), ('변하며', 1), ('짠다', 1), ('통후', 1), ('트럴', 1), ('이어오고있으며', 1), ('않는오가', 1), ('부인', 1), ('세명', 1), ('느낌을전한', 1), ('곷', 1), ('보여질', 1), ('50만', 1), ('달콤하게마', 1), ('무리하고싶다면', 1), ('이뤄질리지', 1), ('않는다는', 1), ('디엔드', 1), ('레드애플', 1), ('운배', 1), ('3.5', 1), ('하는것도', 1), ('무세', 1), ('1629년', 1), ('해왔고', 1), ('탄소', 1), ('신재생에너지', 1), ('듀진블', 1), ('랑드', 1), ('무세의', 1), ('오르고자', 1), ('서우러', 1), ('복잡한과', 1), ('오하', 1), ('은행', 1), ('뱅크', 1), ('유니온', 1), ('해일', 1), ('시키며', 1), ('안자는', 1), ('수시', 1), ('루돌프', 1), ('사슴', 1), ('재발', 1), ('용하였다', 1), ('같은시', 1), ('청량한기', 1), ('본사', 1), ('둔와', 1), ('인전', 1), ('문공', 1), ('조달', 1), ('해와', 1), ('이부', 1), ('쏘는듯', 1), ('달다는것이', 1), ('만드는실', 1), ('올을', 1), ('만드는실을', 1), ('붉은실로', 1), ('맴돌고', 1), ('쉐', 1), ('선보였다', 1), ('헤리티지', 1), ('브진판델', 1), ('되는가', 1), ('해보자', 1), ('감속', 1), ('귀부인', 1), ('고상함이', 1), ('달콤함의', 1), ('샤또데레', 1), ('600년', 1), ('타기', 1), ('아름다운당', 1), ('이숙성', 1), ('르쉬', 1), ('고상한', 1), ('시키지', 1), ('점잖게', 1), ('트렌치코트', 1), ('해인', 1), ('젠틀', 1), ('아라곤', 1), ('큰와', 1), ('적힌', 1), ('소중함을', 1), ('알려', 1), ('진하', 1), ('항정', 1), ('채우며진하면서도', 1), ('정교함', 1), ('카탈루니아', 1), ('든진한', 1), ('띄는', 1), ('마말레이드', 1), ('와잘', 1), ('해아주', 1), ('푸야데', 1), ('스포', 1), ('강수량', 1), ('449', 1), ('14일', 1), ('청징', 1), ('순수한자', 1), ('쥐는', 1), ('해하', 1), ('꼽히는이', 1), ('멘도사', 1), ('홉스', 1), ('불씨', 1), ('만들었던것처럼', 1), ('페더널', 1), ('가져다주는', 1), ('조시에는', 1), ('용하였으나', 1), ('시판', 1), ('하지못하였다', 1), ('입혀진', 1), ('주역', 1), ('이지남', 1), ('둥글게', 1), ('생그', 1), ('260', 1), ('몰리는시라', 1), ('와그르나슈누', 1), ('입해', 1), ('심오하며', 1), ('비범함을', 1), ('훌륭한시라', 1), ('찾을수있는', 1), ('전개', 1), ('대하', 1), ('채우되', 1), ('대단히긴', 1), ('어리석음', 1), ('중턱', 1), ('깎아시라', 1), ('심었을', 1), ('믿지', 1), ('않고던진말이다', 1), ('당당하게시라', 1), ('뛰어난시라', 1), ('푸룬', 1), ('사시까', 1), ('아코', 1), ('내리쬐고', 1), ('박력', 1), ('부드럽고도', 1), ('몬도델', 1), ('자연스러운당', 1), ('높게', 1), ('않는것이', 1), ('투명한로', 1), ('워셀', 1), ('러즈', 1), ('병입등', 1), ('인내', 1), ('포착', 1), ('메우며', 1), ('인장', 1), ('마르크', 1), ('가봄', 1), ('그리드', 1), ('봄철', 1), ('구애', 1), ('받지', 1), ('샌드위치', 1), ('크리스탈', 1), ('외한', 1), ('1961년', 1), ('용했으며', 1), ('백장미', 1), ('화사하다', 1), ('숭', 1), ('이입', 1), ('매끄럽게', 1), ('가벼', 1), ('이확', 1), ('올라오면', 1), ('커짐', 1), ('주말', 1), ('괜찮을듯', 1), ('영빈', 1), ('드러낼수있는', 1), ('용하는것이', 1), ('담는다', 1), ('팜므파탈', 1), ('5천', 1), ('소씨', 1), ('갈라시아', 1), ('등핵', 1), ('돋보이면서도', 1), ('가볍지만은', 1), ('않다는것이', 1), ('상황', 1), ('잡혀있', 1), ('고산', 1), ('개빈티', 1), ('자란두', 1), ('깨우고싶은', 1), ('차내음', 1), ('이난', 1), ('쟈', 1), ('스민', 1), ('마시는것을', 1), ('로터', 1), ('용하고', 1), ('이아몬드', 1), ('가장자리', 1), ('이감', 1), ('들어가있는리', 1), ('쿼', 1), ('건강하게', 1), ('살린것이', 1), ('훔쳐', 1), ('먹으러', 1), ('얄미운', 1), ('미오는', 1), ('출몰', 1), ('따먹는', 1), ('어우러지고', 1), ('재치', 1), ('가길다', 1), ('에밀리', 1), ('의퀴진', 1), ('볼수있으며', 1), ('거부', 1), ('신비로운', 1), ('1938년', 1), ('오텔로', 1), ('잡았다', 1), ('달이', 1), ('어렵게', 1), ('커드', 1), ('더해주고', 1), ('즐겁게만', 1), ('크론', 1), ('끌었다', 1), ('채워놓은', 1), ('물상', 1), ('치아', 1), ('치아나는', 1), ('오르고', 1), ('서히퍼진다', 1), ('풍만하며', 1), ('이선', 1), ('까사', 1), ('롤란', 1), ('이름을내세운만큼', 1), ('까르미네르', 1), ('마터', 1), ('프루츠', 1), ('감있으면서', 1), ('보여주는로', 1), ('느낄수있는로', 1), ('레미', 1), ('야후', 1), ('빅', 1), ('자비', 1), ('아베', 1), ('존', 1), ('맛본', 1), ('생명력', 1), ('흰과', 1), ('신선하면서', 1), ('쨍', 1), ('경쾌하고리', 1), ('바스크', 1), ('오냐티', 1), ('주리', 1), ('젠', 1), ('달콤하고진', 1), ('송아지', 1), ('고플', 1), ('럼잼', 1), ('성하게하며', 1), ('맛보기', 1), ('68년', 1), ('낮고과', 1), ('인정받기', 1), ('인빈', 1), ('센테', 1), ('티함', 1), ('이어오고있는아리', 1), ('수로', 1), ('조화로우며', 1), ('캐년', 1), ('사랑받고있는', 1), ('다가오며긴', 1), ('새벽녘', 1), ('함께잘', 1), ('멘하고에서', 1), ('해지', 1), ('향기롭게', 1), ('풍부함을', 1), ('통칭', 1), ('은감', 1), ('이탈리안', 1), ('12년', 1), ('신작', 1), ('1979년', 1), ('중시', 1), ('살리고아', 1), ('남서쪽', 1), ('본래', 1), ('심기전', 1), ('불을놓았던', 1), ('파이어', 1), ('붙었다', 1), ('노란과', 1), ('북동', 1), ('일어나며', 1), ('그레이', 1), ('프푸르츠', 1), ('감싸진', 1), ('즉시', 1), ('컨트롤', 1), ('선명한과', 1), ('그을린', 1), ('더하고', 1), ('부드러워진', 1), ('채우며긴', 1), ('탁월하게', 1), ('드문', 1), ('두드러지고', 1), ('음회', 1), ('류등', 1), ('이었습니다', 1), ('무역', 1), ('센터', 1), ('머물러있던', 1), ('콘텐츠', 1), ('맺고', 1), ('돋우며', 1), ('돋보이는것이', 1), ('감돌고', 1), ('발랄함을', 1), ('감을주는', 1), ('스뮤', 1), ('비드', 1), ('1927년', 1), ('고등', 1), ('이여름', 1), ('떠올리게', 1), ('따라오는', 1), ('되는고', 1), ('1만', 1), ('5천년', 1), ('진심', 1), ('의대', 1), ('민감하고', 1), ('까다로운', 1), ('루시아', 1), ('하이랜드', 1), ('풍긴다', 1), ('샤또롱', 1), ('트앙브레', 1), ('인호', 1), ('박색', 1), ('성숙', 1), ('올라간', 1), ('콰투', 1), ('느껴지는것과', 1), ('희귀', 1), ('사라져가고있는', 1), ('바꿀', 1), ('올라가', 1), ('품목', 1), ('하는것처럼', 1), ('끊', 1), ('엄', 1), ('로벨', 1), ('이양', 1), ('중환', 1), ('찾아내었고', 1), ('화려한듯', 1), ('맛보고싶은', 1), ('지낸', 1), ('부드럽고긴', 1), ('주는것', 1), ('스몰', 1), ('타운', 1), ('색채', 1), ('없을만큼', 1), ('해맛', 1), ('달콤새콤함', 1), ('살아있고', 1), ('아멜리아', 1), ('파크', 1), ('메달', 1), ('휩쓸', 1), ('밸러', 1), ('머물며', 1), ('묻어나는', 1), ('가길게', 1), ('소중히', 1), ('여기는두', 1), ('하얀과', 1), ('멋지다', 1), ('근사하다라는', 1), ('가지고있는데', 1), ('열꽃', 1), ('고소하고', 1), ('적당한도', 1), ('사지', 1), ('쌉싸름한긴', 1), ('삼', 1), ('페인', 1), ('쉬하', 1), ('신선하', 1), ('이하', 1), ('내려가면', 1), ('햇볕', 1), ('태닝', 1), ('변한다', 1), ('감을주고긴', 1), ('피케', 1), ('뻬레', 1), ('정해진', 1), ('근사하게만', 1), ('들어줄거예요', 1), ('흐그', 1), ('채워주고', 1), ('스프링롤', 1), ('브라운', 1), ('서도거', 1), ('센', 1), ('험한', 1), ('파도', 1), ('몰아쳐', 1), ('체치', 1), ('제휴', 1), ('가진주', 1), ('높은주', 1), ('느낄수도', 1), ('그렇지', 1), ('알마', 1), ('냑', 1), ('피로', 1), ('풀어줄수있어요', 1), ('남기죠', 1), ('희', 1), ('즐기는것도', 1), ('않을수있다는것도', 1), ('열대야', 1), ('꿀잠', 1), ('도와줄수있어요', 1), ('송', 1), ('260년', 1), ('블랙리', 1), ('베당', 1), ('탕', 1), ('고집', 1), ('나하', 1), ('항아리', 1), ('고호', 1), ('덕터', 1), ('세가지를', 1), ('소프라노', 1), ('테너', 1), ('음역', 1), ('코러스', 1), ('이루고있죠', 1), ('화할수있어요', 1), ('드샹', 1), ('세니는', 1), ('망중', 1), ('오빌', 1), ('조셉데뤼', 1), ('1888년', 1), ('차세계대', 1), ('전후', 1), ('본격', 1), ('했', 1), ('고현재', 1), ('이어가고있다', 1), ('재활용', 1), ('블랑드콰', 1), ('아는지', 1), ('역내', 1), ('사라져가는', 1), ('노블', 1), ('근사하다는', 1), ('트생', 1), ('충전', 1), ('포트폴리오', 1), ('산뜻한람', 1), ('유일한람', 1), ('직', 1), ('스럽습니다', 1), ('프론', 1), ('튼', 1), ('성향', 1), ('화해테', 1), ('깊', 1), ('담아내고있습니다', 1), ('가벼워', 1), ('주력', 1), ('장미계', 1), ('받을수있을거예요', 1), ('빛잎', 1), ('노틴토', 1), ('에스', 1), ('파데이로', 1), ('식히기', 1), ('패키징', 1), ('선보여', 1), ('튜브', 1), ('담백한', 1), ('스콘', 1), ('카빈', 1), ('빠레', 1), ('가득해', 1), ('사랑받고있는이', 1), ('화해', 1), ('담백하면서도', 1), ('느낄수있어', 1), ('비파', 1), ('수스', 1), ('불라', 1), ('삼풍', 1), ('미와도', 1), ('어우러집니다', 1), ('가공', 1), ('호의', 1), ('하비에르', 1), ('니니', 1), ('이스마엘', 1), ('잘로', 1), ('밀르', 1), ('멘과', 1), ('아예', 1), ('아보', 1), ('느껴지고긴', 1), ('깜찍하고', 1), ('리틀', 1), ('짧은다리', 1), ('와긴', 1), ('허리', 1), ('도도한', 1), ('장먼', 1), ('저런', 1), ('칭', 1), ('다가가기', 1), ('깜찍한', 1), ('콘', 1), ('별다른안주', 1), ('익숙하지', 1), ('다가갈수있다는', 1), ('유페', 1), ('그리스어', 1), ('지키기', 1), ('숙성한이', 1), ('자스크', 1), ('소바', 1), ('닿지', 1), ('않은이란', 1), ('1720년', 1), ('엘더', 1), ('깨끗함을', 1), ('귀엽고', 1), ('들어오지', 1), ('영어', 1), ('퍼져요', 1), ('생크림', 1), ('상단', 1), ('랜덤', 1), ('스마일', 1), ('만날수있어요', 1), ('다재다능한리', 1), ('리버사이드', 1), ('휘발', 1), ('성풍', 1), ('어우러져요', 1), ('어렵지', 1), ('다가갈수있는', 1), ('역사상', 1), ('연안', 1), ('만들어진것으로', 1), ('야생화', 1), ('바캉스', 1), ('선보인로', 1), ('에페', 1), ('퐁은그랑크뤼', 1), ('1843년', 1), ('엘리제궁', 1), ('지정', 1), ('찬주', 1), ('파리해방', 1), ('숍', 1), ('퐁블루브뤼', 1), ('자유', 1), ('뛰어내리는', 1), ('알릴수있길', 1), ('앤젤스', 1), ('카우', 1), ('보이즈', 1), ('한에', 1), ('프란체스코', 1), ('친자', 1), ('백작', 1), ('직접투자', 1), ('확후', 1), ('한무', 1), ('마실와', 1), ('인이라면', 1), ('주잘', 1), ('볼수있는', 1), ('뛰어나고과', 1), ('바뀐', 1), ('지켰던', 1), ('메리제인', 1), ('베넷', 1), ('임원', 1), ('높은걸', 1), ('산드로', 1), ('인파', 1), ('쎄리', 1), ('즐길수있으면서도', 1), ('담겨있죠', 1), ('쿵푸', 1), ('걸은', 1), ('오가네이는', 1), ('가네이', 1), ('리알토', 1), ('뛰어드는', 1), ('알리겠다는', 1), ('담겼어요', 1), ('다양한안주와', 1), ('볼랭', 1), ('된만큼', 1), ('높죠', 1), ('꼴', 1), ('해전', 1), ('서초', 1), ('창기', 1), ('케이시', 1), ('만들수있다는', 1), ('상쾌함과', 1), ('아는잘', 1), ('깔끔하고긴', 1), ('띄는이', 1), ('분석', 1), ('잘맞는', 1), ('식재하고', 1), ('아름다워요', 1), ('미보다는', 1), ('미르', 1), ('제너', 1), ('소통', 1), ('규범', 1), ('올린것으로', 1), ('바포레토', 1), ('시원한운하', 1), ('백의', 1), ('돌아온', 1), ('참잘', 1), ('찾는이', 1), ('새롭', 1), ('뉴얼', 1), ('더해주네요', 1), ('그리지오의', 1), ('여개', 1), ('알티', 1), ('떨쳐', 1), ('버리기', 1), ('꽃밭', 1), ('센티', 1), ('운장', 1), ('밋빛', 1), ('조화롭죠', 1), ('돋우고싶을', 1), ('카디', 1), ('증기', 1), ('관로', 1), ('않는것은', 1), ('이고태', 1), ('양광', 1), ('콜로', 1), ('니노', 1), ('성하며', 1), ('깨워주는', 1), ('우아하며', 1), ('잊고', 1), ('해랑', 1), ('스타덤', 1), ('토지', 1), ('부드러운치', 1), ('째이어', 1), ('왔죠', 1), ('외출', 1), ('하지못하더라도', 1), ('낼수있어요', 1), ('있다면', 1), ('가능하죠', 1), ('비하면', 1), ('적지', 1), ('꼽히고있고', 1), ('케리', 1), ('유토피아', 1), ('풀기', 1), ('받았어요', 1), ('고래', 1), ('이상향', 1), ('부드러운과', 1), ('오후', 1), ('카렐', 1), ('어림', 1), ('않은것이', 1), ('생물', 1), ('꽃처럼', 1), ('의현', 1), ('대사', 1), ('바꾼', 1), ('라스트', 1), ('따왔고', 1), ('레카', 1), ('봄꽃', 1), ('만발', 1), ('이필', 1), ('즈음', 1), ('옷차림', 1), ('나볼', 1), ('없었던', 1), ('싱그러운이', 1), ('루레이', 1), ('와알바리뇨', 1), ('넘치는로', 1), ('일본어', 1), ('데이지꽃', 1), ('찾아온것', 1), ('깜빠', 1), ('노달바', 1), ('있을까요', 1), ('불러도', 1), ('여주', 1), ('이루며긴', 1), ('피는', 1), ('우아한로', 1), ('해명', 1), ('얻고있어요', 1), ('상수', 1), ('썸남썸녀', 1), ('가함께하는', 1), ('달콤하게만', 1), ('경쾌하게', 1), ('터지는', 1), ('시켜주죠', 1), ('일보', 1), ('컨슈머', 1), ('리포트', 1), ('곱다는게', 1), ('선보이는이', 1), ('아랄', 1), ('티카', 1), ('남녀', 1), ('투유', 1), ('외관', 1), ('블랙보드', 1), ('재질', 1), ('되어있고이', 1), ('쓸수있는', 1), ('분필', 1), ('적어', 1), ('올리며', 1), ('그려져있고', 1), ('로병', 1), ('애로우', 1), ('1986년', 1), ('중요한세', 1), ('부산', 1), ('츠', 1), ('손님', 1), ('끝내주는', 1), ('커런트등풍', 1), ('강인한', 1), ('찾던', 1), ('구불구불한', 1), ('끝내주는데를', 1), ('외쳤던것이', 1), ('하려면', 1), ('필요하다고', 1), ('지키고있다', 1), ('타고긴', 1), ('1874년', 1), ('산드리', 1), ('즐겼던', 1), ('이를기', 1), ('의사', 1), ('세련된과', 1), ('만들어내는', 1), ('에마', 1), ('1956년', 1), ('온다는', 1), ('포등', 1), ('견고함과', 1), ('세련', 1), ('더해져긴', 1), ('갖췄음에도', 1), ('카테나자', 1), ('장위', 1), ('카테', 1), ('나씨', 1), ('쿠나', 1), ('와라지', 1), ('펜리', 1), ('와톨', 1), ('자손', 1), ('이쿠', 1), ('나와라', 1), ('애드버킷', 1), ('터등', 1), ('받고있고', 1), ('책', 1), ('저지른', 1), ('바치는', 1), ('베이비', 1), ('쫀쫀', 1), ('이형성', 1), ('날렵한', 1), ('지에는', 1), ('톨', 1), ('이니는', 1), ('토마', 1), ('일급', 1), ('확실한', 1), ('몬탈', 1), ('치노', 1), ('침엽수', 1), ('잡아주는', 1), ('오르치아', 1), ('강의', 1), ('도르치아는', 1), ('1800년', 1), ('넘는', 1), ('쌉싸름하면서', 1), ('대대로', 1), ('이어지고있으며', 1), ('1724년', 1), ('확실히', 1), ('어필', 1), ('올랐으며', 1), ('미겔', 1), ('만족할것이다', 1), ('메독그', 1), ('뤼끌', 1), ('5등', 1), ('오메', 1), ('규산', 1), ('서연', 1), ('67,201', 1), ('71', 1), ('저렴함에도', 1), ('주요', 1), ('평론', 1), ('할수있는것도', 1), ('뛰어넘', 1), ('꿈꿈', 1), ('부엽토', 1), ('카베르네소비뇽', 1), ('저가', 1), ('하던랑', 1), ('비견', 1), ('되지만', 1), ('필요없는', 1), ('뻬', 1), ('노교', 1), ('깨우는', 1), ('또르', 1), ('오만조', 1), ('즐길수있고당', 1), ('앞두고', 1), ('해보고싶다면', 1), ('쿠리', 1), ('에체베리아', 1), ('드러나죠', 1), ('첨가제', 1), ('게이', 1), ('겨우내', 1), ('움츠렸던', 1), ('기지개', 1), ('켜는듯', 1), ('샤또뽀', 1), ('띠롱', 1), ('미에서도', 1), ('그리의', 1), ('산뜻함', 1), ('이어져', 1), ('초년', 1), ('않다면', 1), ('천년', 1), ('인스타', 1), ('르츠', 1), ('만큼', 1), ('풀향', 1), ('텔미', 1), ('건물', 1), ('관광지', 1), ('불보', 1), ('해꽃', 1), ('메라', 1), ('기사도', 1), ('면피', 1), ('도라', 1), ('피도', 1), ('흔히', 1), ('시켜서', 1), ('그려진로', 1), ('불러일으키죠', 1), ('달콤한세', 1), ('미스', 1), ('사랑스럽게만', 1), ('들어줄수있다는', 1), ('이은양', 1), ('물려', 1), ('받은아', 1), ('들이자', 1), ('수제', 1), ('트렌트', 1), ('버지가런칭', 1), ('유년', 1), ('더블', 1), ('트러블', 1), ('밀크', 1), ('도중', 1), ('강화하는', 1), ('높입니다', 1), ('팔로', 1), ('미노', 1), ('페드로', 1), ('히메네스', 1), ('마호가니', 1), ('해보지못', 1), ('남길수있어요', 1), ('그럴', 1), ('레코', 1), ('딩스', 1), ('괴짜', 1), ('앤드류', 1), ('존스', 1), ('주목할만합니다', 1), ('크래프트', 1), ('모자이크', 1), ('느리게', 1), ('을축', 1), ('담아라는', 1), ('두려워하지말고', 1), ('당당하게', 1), ('나아가라는', 1), ('희망', 1), ('건과류', 1), ('비오니에의', 1), ('덩굴', 1), ('보이는이', 1), ('동경', 1), ('집이었던', 1), ('담았으니', 1), ('기대해도', 1), ('은덕', 1), ('한덕', 1), ('북미', 1), ('자리매', 1), ('김하고있습니다', 1), ('표방', 1), ('러버', 1), ('의카버네소비뇽', 1), ('밸', 1), ('리카', 1), ('떼는단', 1), ('시킨것으로', 1), ('받고있으니', 1), ('조화로', 1), ('운산', 1), ('로스트비프', 1), ('육즙', 1), ('의역', 1), ('인왕', 1), ('선조', 1), ('토머스', 1), ('제퍼슨', 1), ('사상가', 1), ('독립선언서', 1), ('미쳤고', 1), ('전파', 1), ('초상화', 1), ('담겨있어', 1), ('건네면서', 1), ('얽힌', 1), ('함께전한', 1), ('관해', 1), ('위풍', 1), ('당당하고', 1), ('혈통', 1), ('투우장', 1), ('처럼', 1), ('맹렬한', 1), ('기세', 1), ('3초', 1), ('대단한', 1), ('볶음밥', 1), ('레데토로레', 1), ('벗어나', 1), ('식당', 1), ('하며라', 1), ('메이드', 1), ('그려져있', 1), ('고각', 1), ('부위', 1), ('명칭', 1), ('적힌이', 1), ('맥고', 1), ('완', 1), ('노던테리토리', 1), ('기른', 1), ('종사', 1), ('완벽하게잘', 1), ('더불이다', 1), ('캠벨', 1), ('틴슨', 1), ('굽고싶어진다는', 1), ('스웨터', 1), ('입은', 1), ('넣는다', 1), ('얻고있는데', 1), ('어우러져말', 1), ('축년', 1), ('의해와도', 1), ('멈추지', 1), ('않고전', 1), ('진하는', 1), ('힘차게도', 1), ('약하는', 1), ('씩씩하게', 1), ('나아가고', 1), ('니키', 1), ('한은미', 1), ('전가', 1), ('없다는', 1), ('끝없는전진을', 1), ('있다는', 1), ('아산', 1), ('아로요', 1), ('받아구', 1), ('에소', 1), ('바티칸', 1), ('순교자', 1), ('성조', 1), ('장례', 1), ('행렬', 1), ('농부', 1), ('성자', 1), ('꿇어', 1), ('앉은', 1), ('시골', 1), ('있었고', 1), ('성령강림절', 1), ('토레', 1), ('산조', 1), ('묘사', 1), ('한그림', 1), ('또레', 1), ('살라미', 1), ('당당하게서', 1), ('1673', 1), ('인거', 1), ('구로', 1), ('지의', 1), ('살았던', 1), ('유명했던', 1), ('계시', 1), ('값', 1), ('하기엔', 1), ('쉽사리', 1), ('엄두', 1), ('않는다면', 1), ('속력', 1), ('무드라', 1), ('하지도', 1), ('낯설더라도', 1), ('찜', 1), ('일일', 1), ('까요', 1), ('프레스티지', 1), ('퍼집니다', 1), ('호기심', 1), ('돋보이는이', 1), ('두게', 1), ('싸리', 1), ('용했죠', 1), ('라이프스타일', 1), ('떠오르고있어요', 1), ('스웨이드', 1), ('모작', 1), ('용했습니다', 1), ('화사하게만', 1), ('들어줘요', 1), ('오도잘', 1), ('사랑받고있습니다', 1), ('이어져요', 1), ('1827년', 1), ('발자취', 1), ('착했고', 1), ('나타내죠', 1), ('멈그랑꼬', 1), ('상사', 1), ('이남', 1), ('주기', 1), ('어렵다면', 1), ('따르는', 1), ('데바', 1), ('1642년', 1), ('이어가고있죠', 1), ('따르가', 1), ('갖췄다는', 1), ('인까', 1), ('드로칠드', 1), ('가산', 1), ('해로', 1), ('만들었죠', 1), ('레수게레', 1), ('의세', 1), ('오븐', 1), ('보여주고', 1), ('롱세귀르', 1), ('테프', 1), ('칼롱세귀르', 1), ('드세', 1), ('귀르', 1), ('프티', 1), ('내고싶을', 1), ('동쪽', 1), ('한베', 1), ('유사한', 1), ('문학', 1), ('장르', 1), ('철학자', 1), ('수필가', 1), ('된뀌', 1), ('돋보여요', 1), ('후시', 1), ('집니다', 1), ('빛낼', 1), ('적당합니다', 1), ('카데', 1), ('이포', 1), ('두리아', 1), ('라치오', 1), ('잔뼈', 1), ('굵은마', 1), ('진출', 1), ('해이', 1), ('루라빠', 1), ('들었고', 1), ('묵직하며긴', 1), ('1억', 1), ('총력', 1), ('기울이고있다', 1), ('사니의', 1), ('규정', 1), ('거쳐야하지만', 1), ('묵직하고진한', 1), ('쏘안', 1), ('티코', 1), ('알베렐', 1), ('트레이닝', 1), ('기르는데', 1), ('건조한', 1), ('고품', 1), ('흠', 1), ('특이한데', 1), ('기약', 1), ('주전', 1), ('비틀린', 1), ('달린', 1), ('마르면서', 1), ('잃', 1), ('탄탄하면서도', 1), ('길다', 1), ('풀리', 1), ('아프', 1), ('많기로', 1), ('아함', 1), ('미면에서', 1), ('추종', 1), ('불허', 1), ('6080년', 1), ('비틀어진', 1), ('된진', 1), ('정확', 1), ('포장', 1), ('거쳤고', 1), ('거장', 1), ('만든진', 1), ('진수', 1), ('기치', 1), ('의거', 1), ('롄코그르', 1), ('기치가', 1), ('기치는진', 1), ('밝히는', 1), ('에프', 1), ('트시라', 1), ('섞인듯', 1), ('탁월해', 1), ('14.9', 1), ('믿기지', 1), ('자란진', 1), ('강하지', 1), ('세게지오는', 1), ('세게지오의', 1), ('15.6', 1), ('갈등', 1), ('14.8', 1), ('높지만', 1), ('큰이', 1), ('션진판델', 1), ('느껴져서', 1), ('기른진', 1), ('털리는', 1), ('다수', 1), ('어린진', 1), ('만든것', 1), ('로쥬', 1), ('일진', 1), ('625년', 1), ('순수하', 1), ('콜롱바', 1), ('적당하며과', 1), ('사로잡는로', 1), ('차분한', 1), ('우울해질', 1), ('외롭지', 1), ('느끼고싶다면', 1), ('아케', 1), ('시로', 1), ('사토', 1), ('해주는이', 1), ('느낌을전하는', 1), ('인스타그램', 1), ('인증샷', 1), ('찬란하고', 1), ('위주', 1), ('시티', 1), ('루미너스', 1), ('동일한', 1), ('고소함을', 1), ('간편하게', 1), ('78', 1), ('슬', 1), ('라이스', 1), ('바질', 1), ('뒤빈병', 1), ('인테리어', 1), ('몰', 1), ('같은전', 1), ('빠레야', 1), ('편안하면서도', 1), ('가지고있죠', 1), ('동물보호', 1), ('힘쓰고있죠', 1), ('와슈냉블', 1), ('특별해요', 1), ('뛰어나니', 1), ('해보는것도', 1), ('1807년', 1), ('마실수있어요', 1), ('떠올리며', 1), ('배우', 1), ('맞습니다', 1), ('자중', 1), ('이었기', 1), ('용하기', 1), ('먼로', 1), ('블스', 1), ('하는노', 1), ('마진', 1), ('본명', 1), ('청소년', 1), ('성인', 1), ('변모', 1), ('여유롭게', 1), ('질주', 1), ('그려져있어요', 1), ('쾌감', 1), ('로메', 1), ('윌슨', 1), ('상속', 1), ('화재', 1), ('소실', 1), ('높아진', 1), ('살라', 1), ('라울', 1), ('동식물', 1), ('2만', 1), ('접어', 1), ('드니', 1), ('생각나죠', 1), ('1865년', 1), ('흐르면서', 1), ('초겨울', 1), ('1969년', 1), ('1880년', 1), ('해보기에', 1), ('40100', 1), ('뜻해', 1), ('아니다', 1), ('사우스', 1), ('이스턴', 1), ('정해', 1), ('죄', 1), ('지은', 1), ('업라이징', 1), ('뇽을블렌딩', 1), ('갈리시아', 1), ('리퍼블릭', 1), ('130년', 1), ('들었습니다', 1), ('멘시아의', 1), ('입전', 1), ('않아요', 1), ('해골', 1), ('현재호', 1), ('주바', 1), ('독자', 1), ('비등', 1), ('오운의', 1), ('흐르는것처럼', 1), ('희소가치', 1), ('떼는', 1), ('코르테스', 1), ('건축', 1), ('가카', 1), ('아이스', 1), ('가고', 1), ('사로잡는대', 1), ('담한', 1), ('호로', 1), ('날수있어요', 1), ('디럭스', 1), ('직관', 1), ('만들고있어요', 1), ('뱃', 1), ('해충', 1), ('천적', 1), ('농경', 1), ('쉬르', 1), ('크에서만', 1), ('1531년', 1), ('넘버원', 1), ('신제품', 1), ('비추면', 1), ('돋보이니', 1), ('돋우기에', 1), ('경쾌함을', 1), ('캔등총', 1), ('케이트', 1), ('안소니', 1), ('카를', 1), ('블렌딩한안띨', 1), ('긋하', 1), ('인원', 1), ('온로', 1), ('도멘몽로즈', 1), ('살충제', 1), ('신선도', 1), ('느껴지니', 1), ('모범', 1), ('투핸즈', 1), ('거두며', 1), ('섹시', 1), ('서고', 1), ('베니', 1), ('필요하지만이', 1), ('즐길수있다는', 1), ('갈만', 1), ('기있는', 1), ('꼽혀요', 1), ('그리지오', 1), ('조개', 1), ('된장', 1), ('살려주니', 1), ('사로잡을만한', 1), ('알려져있어요', 1), ('업을이어오고있는', 1), ('65년', 1), ('까테나말', 1), ('성하면서도', 1), ('롭', 1), ('멘톨', 1), ('포르토', 1), ('메스', 1), ('이어오고있어요', 1), ('넛츠', 1), ('사였던', 1), ('있는만큼', 1), ('숙성한리', 1), ('결과물', 1), ('개체', 1), ('될수록', 1), ('지형', 1), ('해왔죠', 1), ('알텐', 1), ('르그', 1), ('명장', 1), ('에어프랑스', 1), ('아랍에미레이트', 1), ('드는로', 1), ('하는도', 1), ('롤스로이스', 1), ('가지고있을만큼', 1), ('스티븐', 1), ('스필버그', 1), ('볼드윈', 1), ('좋아하는것으로', 1), ('52', 1), ('할수있죠', 1), ('유한', 1), ('남성', 1), ('뛰어나고긴', 1), ('580년', 1), ('마쩨이', 1), ('1436년', 1), ('유구', 1), ('찾아내', 1), ('인검', 1), ('걸작', 1), ('고어', 1), ('로키', 1), ('스크리밍', 1), ('이글', 1), ('서호', 1), ('단숨', 1), ('유포', 1), ('계보', 1), ('선도', 1), ('드바인비뇨', 1), ('두둥실', 1), ('쾌활함과', 1), ('더해졌다는', 1), ('없으며', 1), ('이어지고있는', 1), ('기법', 1), ('커가', 1), ('베스트셀러', 1), ('여자친구', 1), ('미있는', 1), ('쌉싸름한', 1), ('사라', 1), ('스파', 1), ('둘다', 1), ('였던데', 1), ('착안', 1), ('박서', 1), ('러브', 1), ('수치화', 1), ('프루츠웨이트', 1), ('이를', 1), ('도드라지는고', 1), ('둥글둥글하고잘', 1), ('정돈', 1), ('저지를', 1), ('매지', 1), ('스트레이트', 1), ('재판관', 1), ('대립', 1), ('펼친다', 1), ('자신있게', 1), ('열었을', 1), ('터프', 1), ('느껴지지만', 1), ('된이래', 1), ('쏜', 1), ('클락', 1), ('1987년', 1), ('컴패', 1), ('9년', 1), ('리언', 1), ('적절히', 1), ('정육점', 1), ('카트', 1), ('더말', 1), ('두터운', 1), ('1944년', 1), ('스튜어트', 1), ('웰', 1), ('사와인', 1), ('그렇기에', 1), ('렛', 1), ('자격시험', 1), ('출제', 1), ('되고있다고', 1), ('섬세하고긴', 1), ('존호', 1), ('진득', 1), ('날아왔다', 1), ('몽운트', 1), ('마이크', 1), ('밀로', 1), ('창구', 1), ('스케일', 1), ('짧아', 1), ('샤펠', 1), ('등고', 1), ('순한', 1), ('미덕', 1), ('후대', 1), ('앙이면서도', 1), ('쓰는', 1), ('밭등', 1), ('계약', 1), ('깡비', 1), ('핑', 1), ('커런트풍미', 1), ('15시간', 1), ('로스트치킨', 1), ('대량생산', 1), ('해오던', 1), ('파악', 1), ('서남', 1), ('슈퍼스타', 1), ('평화로움', 1), ('느낄수있는데', 1), ('독시', 1), ('다가갈수있으면서도', 1), ('더롱독', 1), ('어워드', 1), ('수상하며', 1), ('장동건', 1), ('고소영', 1), ('연예인', 1), ('심심', 1), ('찮', 1), ('얻었다고', 1), ('발랄한아기', 1), ('같은로', 1), ('삽화가', 1), ('랄프', 1), ('테드', 1), ('먼이', 1), ('12시간', 1), ('몰라도', 1), ('안다는말이있을', 1), ('선전', 1), ('임을아는', 1), ('많지', 1), ('않을것이다', 1), ('우선', 1), ('느낄수있을것이다', 1), ('탐구', 1), ('347', 1), ('만들고있으며', 1), ('드러내고있다', 1), ('받고', 1), ('테루아르', 1), ('특별한시라', 1), ('베이컨', 1), ('사냥', 1), ('까테나가', 1), ('부띠', 1), ('끄', 1), ('까테나는', 1), ('까테나와', 1), ('총괄', 1), ('집대성', 1), ('서적', 1), ('쓰기', 1), ('비전을실', 1), ('천하는', 1), ('괄목상대', 1), ('무대', 1), ('알린', 1), ('만드는것으로', 1), ('노토', 1), ('에트', 1), ('비토리아', 1), ('카포밀', 1), ('쪼등', 1), ('해직', 1), ('67', 1), ('아양', 1), ('레꼴', 1), ('지역번호', 1), ('거의', 1), ('알파벳', 1), ('올랐고', 1), ('베를린', 1), ('등국', 1), ('제적', 1), ('시키는이', 1), ('르브', 1), ('은시', 1), ('와그르나슈', 1), ('체포', 1), ('13만', 1), ('에누구', 1), ('스탈', 1), ('대언', 1), ('토리', 1), ('아로르', 1), ('제초제', 1), ('달빛', 1), ('시키니', 1), ('싶은이', 1), ('떠올릴거예요', 1), ('일명', 1), ('비씨', 1), ('이산화탄소', 1), ('줄이기', 1), ('누비', 1), ('직원', 1), ('신물', 1), ('해칠', 1), ('을해', 1), ('1859년', 1), ('일러스트레이터', 1), ('르땅', 1), ('역시오', 1), ('보졸', 1), ('레의레', 1), ('마셨다는', 1), ('떼레', 1), ('모레', 1), ('아미', 1), ('티레니아해', 1), ('석양', 1), ('만들었고', 1), ('뜨거운', 1), ('든와', 1), ('닛', 1), ('로더', 1), ('요하네스', 1), ('라이', 1), ('비엔나', 1), ('안이', 1), ('하다는', 1), ('왔으며', 1), ('간단', 1), ('히로', 1), ('샤를르', 1), ('드까자노브', 1), ('1811년', 1), ('마신것으로도', 1), ('활기찬과', 1), ('홍콩항공', 1), ('아메리칸항공', 1), ('메뉴인', 1), ('민어', 1), ('전복', 1), ('캘리', 1), ('포니', 1), ('아샤', 1), ('이예', 1), ('마케팅', 1), ('데이브', 1), ('합류', 1), ('1985년', 1), ('캠', 1), ('바바라', 1), ('뱅키', 1), ('케이티', 1), ('장선', 1), ('1982년', 1), ('잡았죠', 1), ('깊고진한', 1), ('견고한구', 1), ('돼있죠', 1), ('데리야키', 1), ('나바라', 1), ('4000', 1), ('1776년', 1), ('서명', 1), ('누린', 1), ('데렉루', 1), ('직감', 1), ('릭스', 1), ('아이디어', 1), ('만났고', 1), ('우아하며구', 1), ('170', 1), ('까지', 1), ('낮추고', 1), ('이틀', 1), ('느린', 1), ('거치는', 1), ('설비', 1), ('빵등', 1), ('엘리자베스', 1), ('1869년', 1), ('저렴해', 1), ('만족할만', 1), ('했음에도', 1), ('나란히', 1), ('76', 1), ('해천만', 1), ('되고있으며', 1), ('갈라디', 1), ('실패', 1), ('상쾌하며', 1), ('맺어오며', 1), ('었', 1), ('절반', 1), ('벨에포크', 1), ('아르누보', 1), ('유리공예', 1), ('1902년', 1), ('번창', 1), ('1812년', 1), ('괄목', 1), ('베르나르', 1), ('낭', 1), ('쿠르', 1), ('된다는', 1), ('귀하고', 1), ('소장', 1), ('1789년', 1), ('요한', 1), ('배우며', 1), ('튀어', 1), ('나가는것을', 1), ('방지', 1), ('철사', 1), ('조물', 1), ('머즐', 1), ('발명', 1), ('번호', 1), ('743', 1), ('미만', 1), ('일찌', 1), ('2천년', 1), ('일정한', 1), ('습도', 1), ('이그리', 1), ('않던', 1), ('각자', 1), ('자란질', 1), ('멜이', 1), ('양가', 1), ('합쳐', 1), ('팔리는로', 1), ('뀌베로제브뤼', 1), ('둥그스름한', 1), ('우아함과도', 1), ('4872시간', 1), ('않다는', 1), ('특별하다', 1), ('수집가', 1), ('들이소', 1), ('장하기', 1), ('라우', 1), ('가로지르는', 1), ('즐기지', 1), ('않더라도', 1), ('풋풋하고', 1), ('좋아하는이', 1), ('많으니', 1), ('로레토아프루티노', 1), ('지역별', 1), ('소탈', 1), ('경향', 1), ('있지만이', 1), ('이배', 1), ('로비', 1), ('식재한', 1), ('드리', 1), ('식재해', 1), ('일군', 1), ('종묘', 1), ('각광', 1), ('더해졌죠', 1), ('들소', 1), ('보호', 1), ('단체', 1), ('지원', 1), ('하고있습니다', 1), ('3000', 1), ('르네를블렌딩', 1), ('뛰어나지', 1), ('않다는인', 1), ('프란', 1), ('중식', 1), ('로자', 1), ('떠오르죠', 1), ('콜랜치', 1), ('주는이', 1), ('칼칼한', 1), ('나물', 1), ('했을만큼', 1), ('로얄', 1), ('인정받고있습니다', 1), ('은우', 1), ('닭볶음탕', 1), ('시켜주니', 1), ('먹을', 1), ('먹고싶을', 1), ('이남부', 1), ('코코넛', 1), ('부딪히지', 1), ('운맛', 1), ('부드러워요', 1), ('개운하고', 1), ('느낌을주니', 1), ('소갈비', 1), ('하는만큼', 1), ('멀지', 1), ('델레', 1), ('확장', 1), ('105', 1), ('된리', 1), ('레베르', 1), ('노는마', 1), ('렘마', 1), ('과바', 1), ('가깝게', 1), ('캐주', 1), ('얼하면서도', 1), ('틴토', 1), ('비디', 1), ('리스본', 1), ('포르투갈어', 1), ('들어가는', 1), ('들을', 1), ('케바크트', 1), ('카스텔라', 1), ('샤브샤브', 1), ('크류', 1), ('캡', 1), ('좋으니', 1), ('뮈스까를블렌딩', 1), ('할수있을것', 1), ('선보이고있습니다', 1), ('제상', 1), ('따르고', 1), ('사랑스럽네요', 1), ('나르', 1), ('커리', 1), ('1897년', 1), ('지난', 1), ('떠오릅니다', 1), ('까테나', 1), ('950,109', 1), ('0,112', 1), ('0,140', 1), ('근사한야', 1), ('콜렉션', 1), ('코리노', 1), ('코코', 1), ('촐라', 1), ('꾸준하게', 1), ('받고있습니다', 1), ('한가람', 1), ('마이크로', 1), ('앙이에요', 1), ('레트', 1), ('망은', 1), ('남경', 1), ('만든단', 1), ('인했어요', 1), ('듀플레', 1), ('1895년', 1), ('45년', 1), ('듀플레시스샤블', 1), ('1919년', 1), ('쉥', 1), ('직상', 1), ('스페셜리스트', 1), ('촌지', 1), ('장로', 1), ('과장', 1), ('다이나믹', 1), ('뒤지지', 1), ('올렸다는', 1), ('은수', 1), ('측', 1), ('두고있죠', 1), ('카제', 1), ('파랑', 1), ('지닌아줄이란', 1), ('고시원', 1), ('티넬', 1), ('가져다줬다', 1), ('닷컴', 1), ('1975년', 1), ('라파', 1), ('로마노', 1), ('핸드', 1), ('생기발랄한기', 1), ('업계', 1), ('인적', 1), ('타계', 1), ('자코', 1), ('활약', 1), ('자생', 1), ('누라구', 1), ('시킬만큼', 1), ('적이있지만', 1), ('어려웠다', 1), ('하이트진로', 1), ('수도회', 1), ('레방질', 1), ('함유', 1), ('토도', 1), ('스카토로', 1), ('우아합니다', 1), ('있어질', 1), ('낮으니', 1), ('만나하나의', 1), ('이룬다는것이죠', 1), ('되새기기', 1), ('하는우노', 1), ('우노', 1), ('끌며', 1), ('연회', 1), ('어울리는말', 1), ('사랑스러운오리', 1), ('댄', 1), ('하는의', 1), ('흡사하게', 1), ('패', 1), ('러덕스', 1), ('이름을지었고', 1), ('오리가', 1), ('그려져있습니다', 1), ('클라우디오', 1), ('알라', 1), ('마니아', 1), ('바롤', 1), ('로리', 1), ('카는바', 1), ('수채화', 1), ('담겨있어요', 1), ('살아가던', 1), ('배우자', 1), ('깊을거예요', 1), ('담겼습니다', 1), ('디아망', 1), ('모르가', 1), ('합쳐진', 1), ('앞둔', 1), ('신혼부부', 1), ('랑뀌', 1), ('박힌', 1), ('크리스털', 1), ('더해주니', 1), ('하는듯', 1), ('보내고있는이', 1), ('들과', 1), ('챌수있듯', 1), ('앞장서고있습니다', 1), ('메사', 1), ('해농', 1), ('일원', 1), ('지키며', 1), ('감이있고', 1), ('레세띠', 1), ('해리', 1), ('건마', 1), ('클의', 1), ('로열', 1), ('피로연', 1), ('됐죠', 1), ('해오며', 1), ('이어오고있습니다', 1), ('건축가', 1), ('프랭크', 1), ('가설', 1), ('화공', 1), ('아름답기로', 1), ('유명합니다', 1), ('샤또레그라브드', 1), ('오드', 1), ('예술의전당', 1), ('고자', 1), ('했고이', 1), ('최종', 1), ('정이', 1), ('있었죠', 1), ('460년', 1), ('좋아다', 1), ('서든', 1), ('만들어주니', 1), ('카시오페아', 1), ('별자리', 1), ('그려져있는이', 1), ('역은로', 1), ('줘', 1), ('알렌', 1), ('슙', 1), ('뒤꽃병', 1), ('남으면', 1), ('꺼려지죠', 1), ('헨켈', 1), ('피콜로', 1), ('간단히', 1), ('간편하게꺼내', 1), ('세트', 1), ('속소확행', 1), ('마술사', 1), ('용해테', 1), ('한푸', 1), ('퓌', 1), ('메는', 1), ('푸이', 1), ('되니', 1), ('용기', 1), ('담겨있기', 1), ('오프너', 1), ('필요없어요', 1), ('더나은', 1), ('디킨', 1), ('하는디', 1), ('킨', 1), ('해외', 1), ('니데', 1), ('알레', 1), ('이슈', 1), ('100시', 1), ('좋고가', 1), ('꼬이', 1), ('곁들이는', 1), ('훌륭합니다', 1), ('높이는데', 1), ('할수있는게', 1), ('아니므로', 1), ('그럴것', 1), ('느껴지는로', 1), ('영롱하고', 1), ('리얼', 1), ('선보이기', 1), ('더블유', 1), ('드림', 1), ('노래', 1), ('정신과', 1), ('신입사원', 1), ('신입생', 1), ('꿈을실어', 1), ('격려', 1), ('건네기', 1), ('붙는', 1), ('알바로', 1), ('오스', 1), ('알아보는', 1), ('페탈', 1), ('60100년', 1), ('소출', 1), ('엄격히', 1), ('만든다는', 1), ('모은', 1), ('성모마리아', 1), ('부모님', 1), ('은사', 1), ('님', 1), ('티케', 1), ('금보', 1), ('청금석', 1), ('일컫는', 1), ('의라', 1), ('청명', 1), ('꼽', 1), ('있는이에게', 1), ('심플', 1), ('7878', 1), ('은서', 1), ('은동', 1), ('번영', 1), ('담겼다', 1), ('타협', 1), ('비전으로', 1), ('커다랗게', 1), ('적혀있으니', 1), ('앞길', 1), ('출', 1), ('녀', 1), ('어가', 1), ('떠올렸다면', 1), ('샤또리유섹', 1), ('소테', 1), ('른', 1), ('뮈스까델', 1), ('머무는', 1), ('떨어진다면', 1), ('찾을수있죠', 1), ('콘데데카랄브뤼', 1), ('사랑받고있죠', 1), ('술안주', 1), ('요도', 1), ('바론', 1), ('해먹', 1), ('는에서', 1), ('수상했죠', 1), ('은맥', 1), ('하늘빛', 1), ('간편식', 1), ('바흐', 1), ('양도', 1), ('간기', 1), ('억', 1), ('미오', 1), ('좋아지게', 1), ('이어질', 1), ('고급스러우며', 1), ('이므로', 1), ('중요한건', 1), ('결정', 1), ('비질', 1), ('돌체', 1), ('설렘이', 1), ('올라아지엔', 1), ('리꼴', 1), ('시키죠', 1), ('갖췄고', 1), ('즐겨마', 1), ('시지', 1), ('않는이', 1), ('좋아할', 1), ('귀향', 1), ('즐길만', 1), ('챙겨가는게', 1), ('을기', 1), ('원하는', 1), ('담긴와', 1), ('하는데치', 1), ('담겨있습니다', 1), ('나눠', 1), ('토마스', 1), ('점도', 1), ('특별하죠', 1), ('즐겨라는', 1), ('긍정', 1), ('더해줄거예요', 1), ('들어있죠', 1), ('19일', 1), ('아그라', 1), ('새로운시작', 1), ('따죠', 1), ('300년', 1), ('비오코', 1), ('알아보고다시', 1), ('아나스', 1), ('따와인을', 1), ('채셨나요', 1), ('자자한', 1), ('벡스', 1), ('랑', 1), ('새해인사', 1), ('나누며이', 1), ('시킨이', 1), ('들처럼', 1), ('향해', 1), ('나아가자는', 1), ('차틴토레', 1), ('알아볼수있듯', 1), ('롱디', 1), ('스턴', 1), ('드라이버', 1), ('샷', 1), ('멀리', 1), ('타자', 1), ('장수', 1), ('심한', 1), ('추위', 1), ('찾아온', 1), ('보는게', 1), ('따뜻한고기', 1), ('훌륭하네요', 1), ('우림', 1), ('서식', 1), ('깃털', 1), ('홍', 1), ('방울새', 1), ('가져왔죠', 1), ('바드파', 1), ('르등', 1), ('스크림', 1), ('랭혼', 1), ('날이와', 1), ('뫼', 1), ('에세', 1), ('가있는', 1), ('랜서', 1), ('느껴지므로', 1), ('와로', 1), ('가각', 1), ('빨간색', 1), ('빈병', 1), ('실내장식', 1), ('피오르', 1), ('란치', 1), ('작고고운진주', 1), ('같은기', 1), ('화사하며', 1), ('익은시', 1), ('다재다능한', 1), ('넥타', 1), ('유행', 1), ('최첨단', 1), ('자연스런', 1), ('남겼다', 1), ('꽃다발', 1), ('한아름', 1), ('안은듯', 1), ('고고', 1), ('필수', 1), ('내줄', 1), ('불빛', 1), ('낭만', 1), ('하는이에게', 1), ('하고있다면', 1), ('순위', 1), ('고운기', 1), ('황도', 1), ('굉장히진', 1), ('환호성', 1), ('저절로', 1), ('터져', 1), ('나온다', 1), ('솜사탕', 1), ('지니는데이는', 1), ('쓴것처럼', 1), ('스피아', 1), ('황홀하다', 1), ('클레오파트라', 1), ('가왜', 1), ('했는', 1), ('공감', 1), ('편안하다', 1), ('만점', 1), ('군트럼', 1), ('헤센', 1), ('이어오고있는와', 1), ('할수록', 1), ('놀라울', 1), ('어문', 1), ('매달린', 1), ('일부러', 1), ('내는데', 1), ('캐모마일', 1), ('느낌을주지만', 1), ('좋아잘', 1), ('않고마', 1), ('두드러져', 1), ('알싸한', 1), ('과자', 1), ('로디아', 1), ('일간', 1), ('산토', 1), ('스코티', 1), ('적셔서', 1), ('먹기', 1), ('비시', 1), ('아비앙카', 1), ('델빈산토델', 1), ('파나라', 1), ('스친다', 1), ('숙성했기', 1), ('비앙카', 1), ('1935년', 1), ('리옹', 1), ('의장', 1), ('앰버', 1), ('바지', 1), ('악', 1), ('우아하며잘', 1), ('선뜻', 1), ('사기', 1), ('레이크', 1), ('뷰비달', 1), ('낮춘', 1), ('살수', 1), ('반갑다', 1), ('녹는듯', 1), ('즐길수있을', 1), ('만약', 1), ('진해서', 1), ('부쉬', 1), ('아이스크림', 1), ('곁들이고', 1), ('뿌려', 1), ('비달', 1), ('증류주', 1), ('중단', 1), ('으뜸', 1), ('트바틀드', 1), ('즐길수있도록', 1), ('보급', 1), ('십년', 1), ('숙성하지', 1), ('개봉', 1), ('즐길수있어서', 1), ('둘', 1), ('느긋하게', 1), ('특선영화', 1), ('보면서', 1), ('잘살아있다', 1), ('긴장감', 1), ('스럽다', 1), ('곁들여진', 1), ('란카', 1), ('타로', 1), ('타바', 1), ('까오', 1), ('즐기는것이죠', 1), ('밀라노', 1), ('오페라', 1), ('장의공', 1), ('극장', 1), ('이송', 1), ('년회', 1), ('내줄거예요', 1), ('비벨', 1), ('마실수있으니', 1), ('메독', 1), ('샤또벨그라브', 1), ('만화', 1), ('밀린', 1), ('즐길와', 1), ('달콤하게', 1), ('해보도록', 1), ('이미애', 1), ('뛰어난것으로', 1), ('드레끌루', 1), ('부지', 1), ('와부', 1), ('즐기고싶을', 1), ('찾아보길', 1), ('살디', 1), ('쎄라는', 1), ('우마', 1), ('론끼', 1), ('베르디', 1), ('끼오', 1), ('미켈리', 1), ('볼레', 1), ('구름', 1), ('하얀구름', 1), ('그려져있다', 1), ('이마트', 1), ('들이며', 1), ('있는바', 1), ('도장', 1), ('보러', 1), ('갔다가', 1), ('손쉽게', 1), ('들수있을', 1), ('뛰어나다는것', 1), ('칠드', 1), ('파브르', 1), ('레루', 1), ('롯데', 1), ('손잡고', 1), ('트레디셔널클라렛', 1), ('칭당', 1), ('얻었다', 1), ('앙인', 1), ('종시', 1), ('셸', 1), ('코파', 1), ('니나', 1), ('곧', 1), ('익숙하게', 1), ('봤을', 1), ('누리는만큼', 1), ('찾아볼수있다', 1), ('미국인', 1), ('대중성', 1), ('당연히', 1), ('랑크뤼', 1), ('샤또지스꾸르', 1), ('뛰어난이', 1), ('연락', 1), ('네바다', 1), ('눈꽃', 1), ('편지', 1), ('설렘을', 1), ('눈밭', 1), ('업체', 1), ('컬러풀', 1), ('엡실론', 1), ('추억', 1), ('되겠죠', 1), ('기다리는', 1), ('눈위', 1), ('걸어가며', 1), ('남긴', 1), ('쌓이는', 1), ('떠오르네요', 1), ('걷는', 1), ('깝', 1), ('다가가는', 1), ('다우', 1), ('권해', 1), ('호라티우스', 1), ('까르페디엠', 1), ('영화', 1), ('죽은시인의', 1), ('키팅', 1), ('명대사', 1), ('얽매여', 1), ('괴로워하거나', 1), ('걱정', 1), ('놓치지', 1), ('나를', 1), ('편안함을전', 1), ('힘찬기', 1), ('또블', 1), ('카툰', 1), ('퀵과플륍', 1), ('크의', 1), ('한장', 1), ('쉼', 1), ('달려오던', 1), ('바쁜', 1), ('발걸음', 1), ('멈추고', 1), ('잠시', 1), ('명상', 1), ('해보는', 1), ('이럴', 1), ('찍힌', 1), ('살아온', 1), ('지난시', 1), ('반추', 1), ('해보게하죠', 1), ('티자', 1), ('2회', 1), ('마음이여', 1), ('워', 1), ('까다롭지', 1), ('션더', 1), ('플라토', 1), ('가지치기', 1), ('타오르는', 1), ('장작', 1), ('시키네요', 1), ('알무데', 1), ('알베르카', 1), ('라시오', 1), ('백포', 1), ('도품', 1), ('종로', 1), ('중병', 1), ('뿌옇고', 1), ('세비', 1), ('메슬리', 1), ('60,000원', 1), ('마티', 1), ('유코스', 1), ('파비앙', 1), ('마티유', 1), ('쌓았다', 1), ('팍퇴르', 1), ('192040년', 1), ('건네는게', 1), ('관례', 1), ('였다고', 1), ('라뷜르뒤팍퇴르', 1), ('뷜르', 1), ('마지팬', 1), ('르와르', 1), ('쯤', 1), ('메테는세계', 1), ('알렉산드로', 1), ('영광', 1), ('이음', 1), ('새로운람', 1), ('코시', 1), ('열고있다', 1), ('토드', 1), ('안세', 1), ('튀르', 1), ('탄성', 1), ('좋고거의', 1), ('달아서', 1), ('싫다는', 1), ('코디', 1), ('바나', 1), ('97,000원', 1), ('슐레겔', 1), ('중반', 1), ('갖고있다', 1), ('슈크르트', 1), ('짭짤한', 1), ('마끌', 1), ('초창', 1), ('엔포', 1), ('도외', 1), ('작물', 1), ('키웠으나', 1), ('달콤한와', 1), ('되었다고', 1), ('거두었다', 1), ('냉', 1), ('가블렌딩됐다', 1), ('옮겨져', 1), ('보낸', 1), ('600', 1), ('보낸다', 1), ('비산', 1), ('부르는', 1), ('발해', 1), ('줄어든만큼', 1), ('보충', 1), ('막아주기', 1), ('햇밤', 1), ('콩', 1), ('삶는', 1), ('호박고지', 1), ('생활', 1), ('익숙하고', 1), ('낯선', 1), ('큐민', 1), ('말린시', 1), ('잡고있', 1), ('느껴진', 1), ('하게구', 1), ('태국', 1), ('베트남', 1), ('135,000원', 1), ('아노디', 1), ('2030일', 1), ('사일런스', 1), ('방탄소년단', 1), ('칩', 1), ('머문다', 1), ('65,000원', 1), ('성지', 1), ('프랑스인', 1), ('아내', 1), ('티야', 1), ('예능', 1), ('방송', 1), ('들었는데', 1), ('슬로베니아어', 1), ('없고', 1), ('노라', 1), ('백', 1), ('숙성하고', 1), ('바나나칩', 1), ('짭짤하며', 1), ('훌륭해', 1), ('송아지고기', 1), ('단시', 1), ('공통', 1), ('호도', 1), ('높았고', 1), ('50,000원', 1), ('주우', 1), ('퀘', 1), ('베르너', 1), ('넘어', 1), ('증명', 1), ('덴마크', 1), ('노마', 1), ('데칸', 1), ('로카', 1), ('볼수있다', 1), ('마크인', 1), ('리프', 1), ('생태', 1), ('농업', 1), ('위원회', 1), ('많다', 1), ('56일', 1), ('도거', 1), ('싱그럽기', 1), ('강력', 1), ('맛살', 1), ('게찜등', 1), ('구해', 1), ('코스모', 1), ('컬쳐', 1), ('아앙', 1), ('그려져', 1), ('진하며', 1), ('이길며', 1), ('살코기', 1), ('하몽', 1), ('뮈스까', 1), ('부블', 1), ('136,000원', 1), ('밑', 1), ('역량', 1), ('키우는데', 1), ('섞여나며', 1), ('조리', 1), ('리페', 1), ('몬타나', 1), ('디콘', 1), ('뒤압', 1), ('섬유', 1), ('유리', 1), ('만날수있는', 1), ('돈메', 1), ('시시각각', 1), ('이충만', 1), ('떡갈비', 1), ('반사', 1), ('르주레', 1), ('르끌루', 1), ('선명하며', 1), ('미식', 1), ('나누고있다', 1), ('다재다능함과', 1), ('고말한', 1), ('톤풋', 1), ('80150년', 1), ('60일', 1), ('페린', 1), ('시대정신', 1), ('자이트가이스트', 1), ('트로이', 1), ('710일', 1), ('향속', 1), ('가득한데', 1), ('분명한', 1), ('둥글둥글하게', 1), ('드벨렌', 1), ('책임자', 1), ('멘이', 1), ('소신', 1), ('풍부한이', 1), ('여름내', 1), ('마셨다면', 1), ('에손', 1), ('가죠', 1), ('잘알려져있습니다', 1), ('느끼거나', 1), ('허전할', 1), ('로또', 1), ('가득해요', 1), ('우아하고세련', 1), ('함께라면', 1), ('운치', 1), ('즐기는데', 1), ('없겠죠', 1), ('스위스', 1), ('열리는', 1), ('랑스', 1), ('딜롱', 1), ('독점', 1), ('클럽', 1), ('모든', 1), ('기금', 1), ('기부', 1), ('깊은가을', 1), ('드베드르', 1), ('딴기', 1), ('정교하면서도', 1), ('우아하죠', 1), ('마치잘', 1), ('숙련', 1), ('이란', 1), ('리듬', 1), ('신선함까지', 1), ('잘맞기로', 1), ('드는데', 1), ('은은하다', 1), ('라나', 1), ('퇴적물', 1), ('가득해이', 1), ('품는다', 1), ('자갈밭', 1), ('받아라', 1), ('훌륭한리', 1), ('좋고전이나', 1), ('수많', 1), ('은메달', 1), ('이향', 1), ('긋하다', 1), ('8년', 1), ('뽑힌', 1), ('싱싱한', 1), ('상쾌하고', 1), ('그리스신화', 1), ('디오니소스', 1), ('추종자', 1), ('양아버지', 1), ('실', 1), ('레누스', 1), ('따왔다고', 1), ('발랄하고', 1), ('경쾌해', 1), ('산뜻해진다', 1), ('퀘르체', 1), ('도드라지는데', 1), ('적당하고구', 1), ('빈대떡', 1), ('만든가', 1), ('가득하고', 1), ('그려진것처럼', 1), ('얇게', 1), ('썬', 1), ('크레스트', 1), ('책임지는', 1), ('다양한고기', 1), ('고우리', 1), ('블랜드', 1), ('경쾌함과', 1), ('사랑스럽기', 1), ('매끄러워', 1), ('가편', 1), ('꼽히는우', 1), ('버본', 1), ('담았던', 1), ('참신한', 1), ('흑설탕', 1), ('캐러맬', 1), ('단순히와', 1), ('차원', 1), ('넘어서서', 1), ('깊어지는', 1), ('발휘', 1), ('선키스트', 1), ('남아프리카공화국', 1), ('하네', 1), ('풋머', 1), ('수도', 1), ('7.5', 1), ('스칼리올', 1), ('1939년', 1), ('들꽃', 1), ('은은함이', 1), ('먹고난', 1), ('북아프리카', 1), ('대서양', 1), ('령', 1), ('열대섬', 1), ('되는주', 1), ('갈색', 1), ('매이', 1), ('곶감', 1), ('보여주죠', 1), ('형제', 1), ('락스', 1), ('한자', 1), ('니', 1), ('뛰어나요', 1), ('돌아가다는', 1), ('해보면', 1), ('돌아가', 1), ('라만차', 1), ('득점', 1), ('친척', 1), ('처치', 1), ('비싸지', 1), ('면알', 1), ('램', 1), ('텔드', 1), ('마오리족', 1), ('주주', 1), ('인식', 1), ('산하의', 1), ('덮개', 1), ('세레이션', 1), ('따뜻해지는', 1), ('면제', 1), ('격일', 1), ('그리핀', 1), ('펄리셔', 1), ('교배', 1), ('보로', 1), ('붉은자', 1), ('했지만', 1), ('들큰하지', 1), ('만풍', 1), ('사랑받을만한', 1), ('김', 1), ('선생', 1), ('클리어', 1), ('중장', 1), ('기숙', 1), ('라이즈', 1), ('앤드', 1), ('선샤인', 1), ('개울', 1), ('따온것이지만', 1), ('기상', 1), ('깨어나', 1), ('일어나다라는', 1), ('용으', 1), ('용할', 1), ('더할수있다', 1), ('2000', 1), ('북단', 1), ('양쪽', 1), ('일과', 1), ('놀란', 1), ('오씨', 1), ('자크', 1), ('외르', 1), ('숙성할만', 1), ('비우는수고', 1), ('않을것', 1), ('바르다라는', 1), ('빵터질지도', 1), ('모른다', 1), ('귀퉁이', 1), ('붙은', 1), ('로고', 1), ('진지한', 1), ('열어', 1), ('본다면', 1), ('확실히다', 1), ('시보', 1), ('차크라', 1), ('의창', 1), ('립자', 1), ('마리오', 1), ('치사', 1), ('델라로케', 1), ('조카', 1), ('파타고니아', 1), ('모래', 1), ('섭씨', 1), ('사막', 1), ('과메', 1), ('구세계', 1), ('담대하면서도', 1), ('복함', 1), ('대단히', 1), ('쓰여있는', 1), ('이이', 1), ('해주는듯', 1), ('빗은', 1), ('사서', 1), ('놀랄', 1), ('필요없다', 1), ('퐁', 1), ('만든다니', 1), ('할지도', 1), ('모르겠다', 1), ('하지만이', 1), ('1984년', 1), ('동향', 1), ('혈암', 1), ('즉각', 1), ('실망하기는', 1), ('이르다', 1), ('드러낸다', 1), ('곁들일', 1), ('후회', 1), ('점프', 1), ('해보시라', 1), ('생또방', 1), ('넘어가', 1), ('심비', 1), ('1910년', 1), ('째다', 1), ('막사', 1), ('브레샹베르', 1), ('부비', 1), ('샹살로몽', 1), ('등향', 1), ('긋하면서도', 1), ('즐길수있을만한', 1), ('이사', 1), ('1977년', 1), ('코콸', 1), ('선입견', 1), ('띄우는데', 1), ('느낄수있는이', 1), ('연출', 1), ('먹기전', 1), ('간단한안주와', 1), ('도적', 1), ('감있게', 1), ('인정받았을', 1), ('있으므로', 1), ('페름', 1), ('인론', 1), ('인중', 1), ('부드러운질', 1), ('손쉽게만', 1), ('들수있어', 1), ('카프레', 1), ('제나', 1), ('프라이드', 1), ('산다', 1), ('모히토', 1), ('박', 1), ('하향', 1), ('감자', 1), ('양념치킨', 1), ('달마티아', 1), ('즐라탄', 1), ('토크', 1), ('말리', 1), ('그라탕', 1), ('잘알려지지', 1), ('않은만큼', 1), ('음해', 1), ('좋겠다', 1), ('파레', 1), ('총사', 1), ('일색', 1), ('육박', 1), ('그러', 1), ('나가르', 1), ('트레팟', 1), ('차는', 1), ('딜리', 1), ('쿰로제', 1), ('착하지', 1), ('6시간', 1), ('따르기만', 1), ('좋아지는로', 1), ('1965년', 1), ('7,600', 1), ('과방', 1), ('삼은', 1), ('노드', 1), ('북서쪽', 1), ('기다려', 1), ('드러내기', 1), ('찜닭', 1), ('넓게', 1), ('둠', 1), ('편육', 1), ('길게말하면', 1), ('아프다', 1), ('이루며우아', 1), ('마실수있으면서도', 1), ('세귀레', 1), ('필요없을', 1), ('붙일수있는', 1), ('주중', 1), ('스토', 1), ('승급', 1), ('데파', 1), ('에스파냐', 1), ('오랏', 1), ('닭볏', 1), ('볏', 1), ('굽이치는', 1), ('능선', 1), ('겹겹이', 1), ('테라스', 1), ('은유', 1), ('폭립', 1), ('멘의', 1), ('어떻게', 1), ('할지', 1), ('난감했었다', 1), ('뭐', 1), ('르뮈리엄', 1), ('벌', 1), ('의성어', 1), ('피숑', 1), ('왔을', 1), ('때벌', 1), ('반해지은', 1), ('안타깝게도', 1), ('어우러져우아', 1), ('마리네이드', 1), ('이룰듯', 1), ('550', 1), ('골짜기', 1), ('아벨라르', 1), ('중세', 1), ('일어났던', 1), ('비극', 1), ('러브스토리', 1), ('따온', 1), ('트랄라브', 1), ('태어난', 1), ('내려', 1), ('긁어', 1), ('판화', 1), ('찍은것', 1), ('디자인학', 1), ('교수', 1), ('인했고', 1), ('내용물', 1), ('꿈꿔', 1), ('8090', 1), ('쉐등을블렌딩', 1), ('리큐르', 1), ('흠잡을', 1), ('병사', 1), ('가든', 1), ('투핸', 1), ('아에로페', 1), ('매긴것만', 1), ('쉽', 1), ('맞', 1), ('잡고', 1), ('일구어', 1), ('낸두', 1), ('가인', 1), ('루피', 1), ('산뜻하게만', 1), ('소라', 1), ('마신다면', 1), ('달콤함이잘', 1), ('어우러질것이다', 1), ('화인', 1), ('1928년', 1), ('노비', 1), ('에스메랄다', 1), ('풍기는이', 1), ('가이아', 1), ('올랐을만큼', 1), ('그리스', 1), ('펠로폰네소스', 1), ('모노', 1), ('그라프', 1), ('절사', 1), ('아티', 1), ('드소비뇽블', 1), ('즐기자는', 1), ('이루는이', 1), ('초봄', 1), ('받았음에도', 1), ('센트럴밸리', 1), ('않았지만', 1), ('접근', 1), ('1618', 1), ('등주', 1), ('99', 1), ('달콤하면서', 1), ('가지기', 1), ('덕', 1), ('지라', 1), ('안경', 1), ('든로', 1), ('마시는듯', 1), ('박하고', 1), ('도손', 1), ('무색', 1), ('뽐내는로', 1), ('오를사', 1), ('도드라지기', 1), ('프로슈토', 1), ('수풀', 1), ('이우', 1), ('산간', 1), ('느껴지는것이', 1), ('리코', 1), ('모짜렐라', 1), ('소호', 1), ('맥퀸', 1), ('받은로', 1), ('믿을', 1), ('꼬또뒤', 1), ('쏘를', 1), ('단단한것이', 1), ('참였다', 1), ('앤초비', 1), ('항정살', 1), ('엄지손가락', 1), ('잘라', 1), ('에까베르네소비뇽', 1), ('을블렌딩', 1), ('둥글지만', 1), ('구워진', 1), ('간절하다', 1), ('앙증맞은', 1), ('꿀꿀이죽', 1), ('특이한', 1), ('잡아끈다', 1), ('럴프루', 1), ('티아', 1), ('눈코입', 1), ('시키기에', 1), ('감이있어', 1), ('핑거푸드', 1), ('격무', 1), ('지친나를', 1), ('해보는것은', 1), ('별거', 1), ('마리안느', 1), ('폰', 1), ('앨더링', 1), ('바이엘', 1), ('더링', 1), ('오너', 1), ('번영하다', 1), ('피어나다라는', 1), ('올려', 1), ('보는것은', 1), ('병목', 1), ('묶인', 1), ('보타이', 1), ('아니', 1), ('나뭇가지', 1), ('달트랄체토', 1), ('묶는다는', 1), ('땀', 1), ('땀꼬', 1), ('금줄', 1), ('액운', 1), ('물리', 1), ('친다는', 1), ('감사하고', 1), ('부적', 1), ('병지', 1), ('고있는것도', 1), ('괜찮겠다', 1), ('나쁜', 1), ('물러가고', 1), ('보증수표', 1), ('클로드', 1), ('이명', 1), ('와인이라면', 1), ('비노노', 1), ('풀치아', 1), ('노리', 1), ('2015,201', 1), ('구가', 1), ('2008', 1), ('93', 1), ('받았을', 1), ('받고있다는', 1), ('여겨', 1), ('비치는', 1), ('오르던', 1), ('노노', 1), ('명실', 1), ('상부', 1), ('존슨', 1), ('붙였던', 1), ('쓰인', 1), ('갈매기살', 1), ('토시', 1), ('살등', 1), ('곁들일것을', 1), ('쨌거나', 1), ('나인', 1), ('경성', 1), ('이동', 1), ('하기전하나의', 1), ('우주', 1), ('아니더라도', 1), ('모일것', 1), ('기를기', 1), ('원하며', 1), ('이자영', 1), ('국왕', 1), ('뀌베브뤼', 1), ('영국인', 1), ('응답', 1), ('길게는', 1), ('이상은', 1), ('뤼및프르미에크뤼', 1), ('된것이다', 1), ('볶은', 1), ('논빈티', 1), ('면허', 1), ('내줄수있는', 1), ('인세', 1), ('뮈스카델', 1), ('입후', 1), ('딱좋은', 1), ('가라지', 1), ('방', 1), ('배드', 1), ('보이라면', 1), ('일수', 1), ('없는운', 1), ('명일', 1), ('방이', 1), ('뮈리엘앙드', 1), ('보고있는', 1), ('드보르', 1), ('예상외', 1), ('아닐', 1), ('1590년', 1), ('모르', 1), ('공', 1), ('레크', 1), ('일가견', 1), ('이크', 1), ('레망드', 1), ('툼', 1), ('갑각류', 1), ('스콜', 1), ('테제', 1), ('조밀한기', 1), ('밀레', 1), ('마토', 1), ('1919', 1), ('의소', 1), ('조르', 1), ('중흥', 1), ('맞았다', 1), ('레이스', 1), ('감싸준다', 1), ('유감', 1), ('31', 1), ('인을만', 1), ('들어온', 1), ('미켈란젤로', 1), ('애용', 1), ('있을', 1), ('까닭', 1), ('트렌토', 1), ('함께고', 1), ('이탈리아전', 1), ('브레드', 1), ('구수함이', 1), ('선하고', 1), ('깨끗하고', 1), ('놀랍다', 1), ('우루과이', 1), ('호쾌', 1), ('티샷', 1), ('닮아서', 1), ('오프', 1), ('선명하다', 1), ('미까지도', 1), ('슈램스', 1), ('웨하스', 1), ('감탄', 1), ('할수밖에', 1), ('닉슨', 1), ('중국', 1), ('주은래', 1), ('총리', 1), ('마지않는', 1), ('한반도', 1), ('축배', 1), ('드는용', 1), ('적당하지', 1), ('않을까', 1), ('전적', 1), ('방패', 1), ('아름다운진한', 1), ('미인', 1), ('방어', 1), ('육회', 1), ('굳이', 1), ('화사하면서도', 1), ('있는까', 1), ('함을전', 1), ('해주면서도', 1), ('도드라지지', 1), ('고기만', 1), ('뚜렷하게잘', 1), ('더해지며', 1), ('이기대', 1), ('넘긴', 1), ('운닭', 1), ('완만', 1), ('높음에도', 1), ('튀지', 1), ('자가', 1), ('볶아', 1), ('길고실', 1), ('마른듯', 1), ('바밀', 1), ('섞여있어', 1), ('매끈하다', 1), ('공이', 1), ('잘맞을듯', 1), ('골랐다는', 1), ('안도', 1), ('느꼈다고', 1), ('녹아있는데', 1), ('대추', 1), ('더반', 1), ('갑다', 1), ('보리', 1), ('지루할', 1), ('대단해서', 1), ('있으면', 1), ('올라가는데', 1), ('감싸주는', 1), ('먹을수있다', 1), ('바보', 1), ('르미네르', 1), ('파프리카', 1), ('동글동글', 1), ('먹었더니', 1), ('더배', 1), ('녹진한', 1), ('잇', 1), ('햠', 1), ('가약', 1), ('낮긴하지만', 1), ('잡혔다', 1), ('육전', 1), ('보답', 1), ('돌아오다라는', 1), ('강렬함과', 1), ('고소함', 1), ('거기', 1), ('깻잎', 1), ('갖추고있으면서도', 1), ('잘맞는데', 1), ('올라올고', 1), ('파전', 1), ('고구마', 1), ('우아하기', 1), ('묵직해', 1), ('채우지만', 1), ('떡', 1), ('약식', 1), ('등과', 1), ('근사한', 1), ('살아있으면서도', 1), ('않다', 1), ('먹을수있는', 1), ('약과', 1), ('다식', 1), ('이룰것이다', 1), ('해보면고기', 1), ('고사리', 1), ('무침과', 1), ('짠맛', 1), ('반찬', 1), ('더해질', 1), ('여기는', 1), ('부드럽게만', 1), ('넓어질것이다', 1), ('쌉싸래하면서도', 1), ('훌륭하게', 1), ('감도있다', 1), ('녹아있고', 1), ('받는이', 1), ('간나', 1), ('있다면시라', 1), ('감흥', 1), ('받을것이라', 1), ('독특하고', 1), ('느낌이잘', 1), ('좀아는이에게선', 1), ('물을한', 1), ('할것이라', 1), ('더한다면', 1), ('더뜻', 1), ('단정하고', 1), ('사자', 1), ('유니콘', 1), ('맞다', 1), ('그리녹', 1), ('책임', 1), ('특별한데', 1), ('비오니에를', 1), ('해농밀', 1), ('가지고있어서', 1), ('마운', 1), ('분들', 1), ('백합', 1), ('그라스', 1), ('하고플', 1), ('서진하', 1), ('둥글', 1), ('궁글', 1), ('탕수육', 1), ('레메르퀴레블', 1), ('해초', 1), ('섬세한여', 1), ('성미', 1), ('소박하지만', 1), ('볼수록', 1), ('질리', 1), ('있는것이다', 1), ('화장', 1), ('한듯', 1), ('자연미', 1), ('자신감', 1), ('있었을', 1), ('가능한것이다', 1), ('아름', 1), ('하는것이', 1), ('페브르의샤블', 1), ('리만', 1), ('해오고', 1), ('페브르', 1), ('함축', 1), ('실적', 1), ('루티함', 1), ('닿으며', 1), ('감촉', 1), ('편안하게한', 1), ('어어', 1), ('남기면', 1), ('흔들', 1), ('가향', 1), ('상당한', 1), ('뫼르', 1), ('무겁고', 1), ('질척한면과는', 1), ('동떨어진', 1), ('적당해서', 1), ('편안하며', 1), ('꽉', 1), ('삼키면', 1), ('캐슈', 1), ('미라', 1), ('쌉쌀함이', 1), ('재워구', 1), ('타이거', 1), ('새우', 1), ('오징어', 1), ('가기', 1), ('대감', 1), ('불러일으킨다', 1), ('해시', 1), ('변하는', 1), ('볼수있었다', 1), ('채우는듯', 1), ('도덕', 1), ('찌르는듯', 1), ('부담스러운이', 1), ('접하는이에게', 1), ('여리', 1), ('여리하고', 1), ('기류', 1), ('잘살려구', 1), ('운오리', 1), ('곁들이', 1), ('권한다', 1), ('퀴레는꼬뜨드샬', 1), ('보려', 1), ('간만', 1), ('까라는', 1), ('들었을', 1), ('때손', 1), ('들고나가', 1), ('얘기', 1), ('숲', 1), ('부드럽다', 1), ('짧은것이', 1), ('산뜻하다', 1), ('일드', 1), ('맘껏', 1), ('즐길수있을것', 1), ('기저', 1), ('깔린', 1), ('유려', 1), ('함이잘', 1), ('도도하면서도', 1), ('어리지만', 1), ('피노누아르', 1), ('있으련', 1), ('섬세함의', 1), ('루한', 1), ('엄청난', 1), ('함부로', 1), ('무어', 1), ('야하며', 1), ('살펴보아', 1), ('야한다', 1), ('은제', 1), ('보여주지', 1), ('묵직함을', 1), ('섣불리', 1), ('단정', 1), ('짓는것은', 1), ('위험할것이다', 1), ('영롱하며', 1), ('콧속', 1), ('뚜렷하다', 1), ('샹볼뮈', 1), ('알고싶은', 1), ('리조토', 1), ('소고기구이', 1), ('북경오리', 1), ('슬등', 1)]\n"
     ]
    }
   ],
   "source": [
    "print(vocab_sorted)"
   ]
  },
  {
   "cell_type": "markdown",
   "metadata": {},
   "source": [
    "###### 빈도수가 1이하인 단어 삭제"
   ]
  },
  {
   "cell_type": "code",
   "execution_count": 39,
   "metadata": {},
   "outputs": [],
   "source": [
    "word_to_index = {}\n",
    "i = 0\n",
    "for word, frequency in vocab_sorted:\n",
    "    if frequency > 1:\n",
    "        i += 1\n",
    "        word_to_index[word] = i"
   ]
  },
  {
   "cell_type": "code",
   "execution_count": 40,
   "metadata": {},
   "outputs": [
    {
     "name": "stdout",
     "output_type": "stream",
     "text": [
      "{'와인': 1, '적': 2, '하': 3, '생산': 4, '향': 5, '포도': 6, '좋은': 7, '오크': 8, '등': 9, '지역': 10, '아로마': 11, '너리': 12, '품종': 13, '체리': 14, '샴페인': 15, '들': 16, '과일': 17, '스파클링': 18, '꽃': 19, '입안': 20, '피노': 21, '된': 22, '매력': 23, '타닌': 24, '로': 25, '숙성': 26, '맛': 27, '자두': 28, '누': 29, '잘': 30, '부드러운': 31, '띠': 32, '100': 33, '레이블': 34, '프랑스': 35, '요리': 36, '미가': 37, '느낌': 38, '복숭아': 39, '이름': 40, '과실': 41, '감': 42, '바닐라': 43, '이탈리아': 44, '미네랄': 45, '여운': 46, '음식': 47, '산미': 48, '자리': 49, '의향': 50, '미를': 51, '붉은': 52, '개': 53, '선물': 54, '레몬': 55, '블렌딩': 56, '사용': 57, '추천': 58, '딸기': 59, '같은': 60, '바디': 61, '익은': 62, '이': 63, '스타일': 64, '복합': 65, '다양한': 66, '있는': 67, '일향': 68, '느껴진다': 69, '배': 70, '품질': 71, '해': 72, '블랙베리': 73, '소비': 74, '풍부한': 75, '신선한': 76, '블랙': 77, '의': 78, '뛰어난': 79, '사과': 80, '질감': 81, '허브': 82, '의미': 83, '미와': 84, '하기': 85, '기분': 86, '빛': 87, '생산자': 88, '입니다': 89, '우아한': 90, '밸리': 91, '카베': 92, '균형': 93, '트러스': 94, '달콤한': 95, '오렌지': 96, '스페인': 97, '실향': 98, '레드': 99, '색': 100, '발효': 101, '통': 102, '재배': 103, '도': 104, '되는': 105, '중': 106, '특징': 107, '조화': 108, '컬러': 109, '있다': 110, '살구': 111, '샤르도네': 112, '를': 113, '루비': 114, '미국': 115, '밭': 116, '베리': 117, '위': 118, '산도': 119, '대표': 120, '월간': 121, '캘리포니아': 122, '즐기기': 123, '르': 124, '수확': 125, '장': 126, '버블': 127, '느껴지는': 128, '밸런스': 129, '했다': 130, '때': 131, '시라': 132, '향기': 133, '프리미엄': 134, '마시기': 135, '그': 136, '표현': 137, '조감': 138, '풀': 139, '라즈베리': 140, '선사': 141, '느낄수있다': 142, '개월': 143, '육류': 144, '한산도': 145, '포': 146, '가지': 147, '인상': 148, '은은한': 149, '된다': 150, '뉘앙스': 151, '후': 152, '향신료': 153, '전통': 154, '최고': 155, '가득': 156, '화이트와인': 157, '브랜드': 158, '지속': 159, '감초': 160, '부르고뉴': 161, '진한': 162, '빈야드': 163, '뜻': 164, '후추': 165, '좋다': 166, '섬세한': 167, '링': 168, '상큼': 169, '느껴지며': 170, '뇽': 171, '쉬라즈': 172, '가족': 173, '프렌치': 174, '치즈': 175, '높은': 176, '초콜릿': 177, '호주': 178, '어울린다': 179, '칠레': 180, '위해': 181, '세계': 182, '메': 183, '양조': 184, '흰': 185, '곳': 186, '리': 187, '로만': 188, '류': 189, '통해': 190, '가장': 191, '역사': 192, '약간': 193, '더욱': 194, '위치': 195, '해산물': 196, '라임': 197, '생동감': 198, '디저트': 199, '배럴': 200, '정도': 201, '자': 202, '미': 203, '개성': 204, '장미': 205, '합니다': 206, '밝은': 207, '모스': 208, '매우': 209, '는': 210, '깊은': 211, '화이트': 212, '까': 213, '병': 214, '메이커': 215, '평가': 216, '스파이': 217, '크': 218, '입': 219, '바': 220, '뒤': 221, '스': 222, '프리': 223, '검은': 224, '가격': 225, '열대과일': 226, '드라이': 227, '날': 228, '부드럽게': 229, '알코올': 230, '부담': 231, '1': 232, '자몽': 233, '더': 234, '코': 235, '갖춘': 236, '자연': 237, '스파이스': 238, '방식': 239, '유의': 240, '샤': 241, '블루베리': 242, '과정': 243, '보르도': 244, '레드와인': 245, '베': 246, '꽃향': 247, '명성': 248, '넘치는': 249, '시작': 250, '함': 251, '출시': 252, '할': 253, '어울리는': 254, '뇽블': 255, '조': 256, '부드럽고': 257, '아름다운': 258, '좋고': 259, '카토': 260, '4': 261, '유기농': 262, '시간': 263, '런트': 264, '토착': 265, '사람': 266, '원': 267, '샐러드': 268, '긴': 269, '현재': 270, '보여준다': 271, '탄생': 272, '오픈': 273, '드': 274, '최초': 275, '강렬한': 276, '차': 277, '12': 278, '진행': 279, '3': 280, '커': 281, '데': 282, '큰': 283, '선택': 284, '르네소비뇽': 285, '산뜻한': 286, '매칭': 287, '페어': 288, '말린': 289, '비': 290, '선정': 291, '레': 292, '되었다': 293, '티': 294, '론': 295, '것': 296, '살짝': 297, '20': 298, '국가': 299, '탱크': 300, '여름': 301, '궁합': 302, '50': 303, '10': 304, '했으며': 305, '식전주': 306, '6': 307, '탄닌': 308, '않은': 309, '바로': 310, '다크': 311, '성': 312, '어우러져': 313, '봄': 314, '상': 315, '핑크': 316, '프로세코': 317, '피니시': 318, '우아하고': 319, '야생': 320, '연상': 321, '스틸': 322, '가벼운': 323, '뤼': 324, '빈티': 325, '손수': 326, '많은': 327, '느껴지고': 328, '와': 329, '인기': 330, '점': 331, '토스트': 332, '토양': 333, '5': 334, '감귤': 335, '떼루아': 336, '산': 337, '피에몬테': 338, '설립': 339, '했어요': 340, '보틀': 341, '있으며': 342, '풍부하게': 343, '캐릭터': 344, '리티': 345, '용해': 346, '특': 347, '대': 348, '훌륭한': 349, '좋습니다': 350, '한국': 351, '남': 352, '즐기는': 353, '아몬드': 354, '멘': 355, '껍질': 356, '경영': 357, '사랑': 358, '효모': 359, '꿀': 360, '트': 361, '화': 362, '토스카나': 363, '세련된': 364, '내추럴': 365, '바르': 366, '채': 367, '경험': 368, '검': 369, '슬링': 370, '피니쉬': 371, '인': 372, '계': 373, '파스타': 374, '하우스': 375, '가볍게': 376, '가문': 377, '아카시아': 378, '옅은': 379, '유명한': 380, '적당한': 381, '2': 382, '감도는': 383, '의과': 384, '파인애플': 385, '식': 386, '시칠리아': 387, '스테이크': 388, '느낄수있는': 389, '깔끔한': 390, '리아': 391, '브리': 392, '도수': 393, '가진': 394, '완성': 395, '않고': 396, '밤': 397, '확': 398, '모습': 399, '어울립니다': 400, '풍부하고': 401, '로부터': 402, '이인상': 403, '바인': 404, '토': 405, '풍부한과': 406, '곁들이기': 407, '수령': 408, '산지': 409, '친환경': 410, '시선': 411, '르나슈': 412, '5월': 413, '리다': 414, '특별한': 415, '유지': 416, '네': 417, '크리미': 418, '단맛': 419, '이후': 420, '15': 421, '보여주는': 422, '전세계': 423, '마음': 424, '유명': 425, '운': 426, '명': 427, '진판델': 428, '미티': 429, '한가위': 430, '편하게': 431, '기념': 432, '야외': 433, '때문': 434, '했고': 435, '생선': 436, '분위기': 437, '기도': 438, '미에': 439, '신맛': 440, '화사한': 441, '담은': 442, '18': 443, '섬세하고': 444, '마을': 445, '남긴다': 446, '신선하고': 447, '이상': 448, '짙은': 449, '지닌': 450, '온도': 451, '즐길수있는': 452, '순간': 453, '어': 454, '처음': 455, '스테인리스': 456, '시나몬': 457, '가': 458, '뉴질랜드': 459, '영국': 460, '독': 461, '보디': 462, '싱그러운': 463, '금빛': 464, '주는': 465, '소노마': 466, '붉은과': 467, '숙성한다': 468, '각종': 469, '미감': 470, '분': 471, '급': 472, '담긴': 473, '쉽게': 474, '했죠': 475, '담아': 476, '나파': 477, '눈': 478, '버터': 479, '7': 480, '새로운': 481, '스카': 482, '판델': 483, '좋아요': 484, '8': 485, '돋보이는': 486, '남기는': 487, '카운티': 488, '꼽힌다': 489, '색상': 490, '안티': 491, '가죽': 492, '특성': 493, '너': 494, '봄날': 495, '한다': 496, '삼나무': 497, '고급스러운': 498, '스타': 499, '꼽히는': 500, '아는': 501, '스티': 502, '제': 503, '및': 504, '전체': 505, '차례': 506, '집중': 507, '베르': 508, '간': 509, '지금': 510, '이자': 511, '라벨': 512, '실의': 513, '21': 514, '바이올렛': 515, '만들어': 516, '자랑': 517, '잼': 518, '하나': 519, '테': 520, '무게': 521, '소유': 522, '평론가': 523, '묵직한': 524, '포함': 525, '리오하': 526, '롤로': 527, '철학': 528, '포르투갈': 529, '제르': 530, '이룬다': 531, '미디엄': 532, '되어': 533, '부케': 534, '입맛': 535, '도의': 536, '크리스마스': 537, '아주': 538, '안': 539, '정향': 540, '힌트': 541, '이미지': 542, '해서': 543, '오슈': 544, '최소': 545, '즐길수있다': 546, '커피': 547, '수입': 548, '마셔': 549, '대상': 550, '또한': 551, '만든': 552, '싱글': 553, '로제': 554, '숙성했다': 555, '용량': 556, '헤이즐넛': 557, '조화롭게': 558, '견과류': 559, '긋': 560, '매콤': 561, '매혹': 562, '마셔도': 563, '디자인': 564, '판매': 565, '피어': 566, '년': 567, '길게': 568, '아르헨티나': 569, '신선': 570, '한번': 571, '커런트': 572, '축하': 573, '이어지는': 574, '당': 575, '테이': 576, '없는': 577, '달': 578, '즐겨': 579, '부부': 580, '8월': 581, '받고있다': 582, '샤토': 583, '추석': 584, '루아': 585, '든': 586, '위트': 587, '한여운': 588, '약': 589, '신선한과': 590, '섬세한기': 591, '잡힌': 592, '농축': 593, '동시': 594, '시리즈': 595, '한과': 596, '시한': 597, '역시': 598, '올해': 599, '긋한': 600, '상징': 601, '브뤼': 602, '뛰어나다': 603, '어우러지는': 604, '자체': 605, '꼭': 606, '볼': 607, '마트': 608, '받는': 609, '소고기': 610, '민트': 611, '평균': 612, '몬테스': 613, '키': 614, '하나로': 615, '파티': 616, '듯': 617, '노란색': 618, '이기': 619, '소량': 620, '모양': 621, '골드': 622, '달콤하고': 623, '독일': 624, '하다': 625, '제거': 626, '월동': 627, '스테인레스': 628, '할수있는': 629, '과꽃': 630, '량': 631, '째': 632, '탄산': 633, '크림': 634, '완벽한': 635, '그림': 636, '제격': 637, '내': 638, '덕분': 639, '전형': 640, '엄선': 641, '브': 642, '볏짚': 643, '청량감': 644, '편': 645, '초여름': 646, '즐겁게': 647, '최근': 648, '낸': 649, '망고': 650, '프라': 651, '완숙': 652, '2019년': 653, '받고있는': 654, '한식': 655, '최상급': 656, '화려한': 657, '나무': 658, '기록': 659, '동안': 660, '가르나': 661, '클래식': 662, '담배': 663, '마무리': 664, '되며': 665, '적당': 666, '서늘한': 667, '사': 668, '노하우': 669, '애호가': 670, '구조': 671, '포도나무': 672, '버섯': 673, '해도': 674, '보세요': 675, '모카': 676, '어우러지며': 677, '그대로': 678, '루': 679, '기술': 680, '소개': 681, '농법': 682, '하는': 683, '누구': 684, '6월': 685, '주목': 686, '운영': 687, '보데': 688, '2021년': 689, '보여줍니다': 690, '어우러진다': 691, '반짝이는': 692, '적용': 693, '북부': 694, '즐겨도': 695, '은색': 696, '힘': 697, '토스티': 698, '있고': 699, '비롯': 700, '사랑스러운': 701, '피': 702, '스모키': 703, '을사': 704, '적절한': 705, '불리는': 706, '바탕': 707, '느낄수있으며': 708, '은은하게': 709, '기후': 710, '세기': 711, '용': 712, '우아하게': 713, '차지': 714, '강한': 715, '비올': 716, '집': 717, '낸다': 718, '더한다': 719, '시': 720, '지방': 721, '감각': 722, '시키는': 723, '일반': 724, '호': 725, '캔': 726, '꾸준히': 727, '현대': 728, '포트와인': 729, '뉴': 730, '봄바람': 731, '타는': 732, '샹파뉴': 733, '전문가': 734, '황금색': 735, '남부': 736, '70': 737, '매년': 738, '붉': 739, '90': 740, '따라': 741, '24': 742, '좋게': 743, '은': 744, '마시면': 745, '그려진': 746, '올라오는': 747, '이루며': 748, '그룹': 749, '력': 750, '라면': 751, '넣어': 752, '준다': 753, '보랏빛': 754, '도로': 755, '30': 756, '음': 757, '주류': 758, '아니라': 759, '일리': 760, '적절': 761, '곁들여': 762, '건포도': 763, '쁘띠': 764, '가을': 765, '성비': 766, '농': 767, '선보이는': 768, '순수한': 769, '우아함': 770, '최대한': 771, '가득한': 772, '노': 773, '등급': 774, '투': 775, '대한': 776, '할수있다': 777, '템': 778, '몰도바': 779, '2020년': 780, '텔': 781, '있어요': 782, '이을': 783, '있습니다': 784, '보진': 785, '싶은': 786, '밝고': 787, '7월': 788, '인물': 789, '즐기기에': 790, '마르': 791, '잔': 792, '육두구': 793, '침용': 794, '페': 795, '베이스': 796, '중간': 797, '압': 798, '브루': 799, '쪼': 800, '쏘는': 801, '움': 802, '한로': 803, '하였다': 804, '받은': 805, '있어': 806, '워싱턴주': 807, '터치': 808, '가성': 809, '바람': 810, '받아': 811, '스펙': 812, '터': 813, '오래된': 814, '가치': 815, '벨벳': 816, '클라시코': 817, '베제': 818, '주로': 819, '말보로': 820, '양념': 821, '고향': 822, '고유': 823, '숙성한': 824, '19': 825, '결혼': 826, '랄리': 827, '오스트리아': 828, '독특한': 829, '스토리': 830, '바이오': 831, '갖춰': 832, '있죠': 833, '홈술': 834, '맑은': 835, '거품': 836, '마리': 837, '만드는': 838, '석류': 839, '차갑게': 840, '검은과': 841, '손': 842, '로양': 843, '촘촘': 844, '열매': 845, '샤르': 846, '기간': 847, '설레는': 848, '실제': 849, '생일': 850, '다시': 851, '좋아': 852, '법': 853, '꽤': 854, '밸런타인데이': 855, '형': 856, '마치': 857, '깊이': 858, '콤': 859, '씨': 860, '몬테': 861, '그린': 862, '졸업': 863, '기운': 864, '정제': 865, '병입': 866, '과': 867, '작은': 868, '노트': 869, '가볍고': 870, '베네토': 871, '가미': 872, '패밀리': 873, '깊고': 874, '홈파티': 875, '14': 876, '아닌': 877, '지오': 878, '이어': 879, '11': 880, '최대': 881, '놀라운': 882, '페리': 883, '스페인어': 884, '40년': 885, '예술': 886, '국제': 887, '레드베리': 888, '좋으며': 889, '세대': 890, '3월': 891, '헥타르': 892, '글': 893, '니요': 894, '경쾌한': 895, '네프': 896, '매체': 897, '다이내믹': 898, '일상': 899, '카': 900, '출발': 901, '포트': 902, '코르': 903, '된이': 904, '연말': 905, '톡': 906, '그르나슈': 907, '에르': 908, '브루스': 909, '스페셜': 910, '즐길': 911, '전환': 912, '산책': 913, '미니': 914, '750': 915, '연한': 916, '발': 917, '비율': 918, '제임스': 919, '세': 920, '영감': 921, '이길게': 922, '뜨': 923, '레인지': 924, '로버트': 925, '소스': 926, '고급': 927, '보이': 928, '하면': 929, '호두': 930, '겨울': 931, '산딸기': 932, '과즙': 933, '신선함과': 934, '주': 935, '떼땅': 936, '25': 937, '낮은': 938, '리터': 939, '선별': 940, '감칠맛': 941, '셀러': 942, '바이': 943, '시원한': 944, '대한민국': 945, '어울리며': 946, '무화과': 947, '올라오고': 948, '이어진다': 949, '미도': 950, '비교': 951, '린': 952, '자란': 953, '레이': 954, '알파': 955, '레스토랑': 956, '코코아': 957, '직접': 958, '생기': 959, '파': 960, '뿐': 961, '리치': 962, '틱': 963, '쥐': 964, '5년': 965, '최상': 966, '역할': 967, '어떨까': 968, '보': 969, '비해': 970, '루씨': 971, '영향': 972, '올라온다': 973, '숙성해': 974, '알': 975, '없다': 976, '찾는다면': 977, '인즈': 978, '전하': 979, '인증': 980, '만들고있다': 981, '잠재력': 982, '마시고싶은': 983, '무더위': 984, '느낄수있어요': 985, '될거예요': 986, '카바': 987, '스튜': 988, '하며': 989, '남는': 990, '30년': 991, '여름날': 992, '느낄수있고': 993, '코노수르': 994, '피자': 995, '작품': 996, '견고한': 997, '유럽': 998, '익은과': 999, '농밀': 1000, '쉬': 1001, '80': 1002, '조화로운': 1003, '사이': 1004, '바비큐': 1005, '다른': 1006, '고풍': 1007, '목': 1008, '황금': 1009, '중심': 1010, '끌어': 1011, '수출': 1012, '가지고있다': 1013, '인과': 1014, '시켰다': 1015, '형성': 1016, '빛나는': 1017, '모임': 1018, '즐기면': 1019, '치킨': 1020, '20년': 1021, '좋': 1022, '고소한': 1023, '섬세하면서도': 1024, '도감': 1025, '블랜딩': 1026, '국내': 1027, '양': 1028, '않아': 1029, '구입': 1030, '인한': 1031, '더해져': 1032, '가능한': 1033, '구획': 1034, '16': 1035, '10년': 1036, '루아르': 1037, '세르': 1038, '시장': 1039, '치명': 1040, '60': 1041, '트렌디': 1042, '돋워': 1043, '통방': 1044, '하면서도': 1045, '반영': 1046, '한해': 1047, '무': 1048, '방법': 1049, '행복한': 1050, '토다': 1051, '진하고': 1052, '저온': 1053, '9월': 1054, '10월': 1055, '말': 1056, '미의': 1057, '2017년': 1058, '1년': 1059, '즐길수있어요': 1060, '두루': 1061, '랑그': 1062, '슈냉블': 1063, '레망': 1064, '모나스': 1065, '트렐': 1066, '어울려요': 1067, '삼계탕': 1068, '벚꽃': 1069, '더풀': 1070, '드넓은': 1071, '어려운리': 1072, '바를아는게': 1073, '리지': 1074, '언덕': 1075, '끌': 1076, '3년': 1077, '돋보이며': 1078, '비오니에': 1079, '꼬': 1080, '여름철': 1081, '즐거움': 1082, '실크': 1083, '아스': 1084, '발사믹': 1085, '시킨다': 1086, '리미티드에디션': 1087, '잔잔한': 1088, '4월': 1089, '번': 1090, '85': 1091, '카라멜': 1092, '충분히': 1093, '이주': 1094, '면': 1095, '넘김': 1096, '설탕': 1097, '상쾌한': 1098, '거쳐': 1099, '마지막': 1100, '시즌': 1101, '또': 1102, '마': 1103, '향기로운': 1104, '별로': 1105, '이는': 1106, '감귤류': 1107, '돼지고기': 1108, '예쁜': 1109, '자주': 1110, '깨끗한': 1111, '어우러진': 1112, '문화': 1113, '있게': 1114, '올라오며': 1115, '보이는': 1116, '환경': 1117, '투명한': 1118, '깔끔하게': 1119, '더운': 1120, '랑게': 1121, '점토': 1122, '선보인': 1123, '선': 1124, '가금류': 1125, '타라': 1126, '카시스': 1127, '늦': 1128, '흙': 1129, '리스': 1130, '칼': 1131, '중요한': 1132, '로스': 1133, '파워': 1134, '조화롭다': 1135, '요': 1136, '멘티': 1137, '생생한': 1138, '멜론': 1139, '정강': 1140, '해와인을': 1141, '장점': 1142, '미는': 1143, '캉스': 1144, '한산': 1145, '행사': 1146, '성한': 1147, '더없이': 1148, '할만': 1149, '장미꽃': 1150, '란': 1151, '온': 1152, '해만': 1153, '등장': 1154, '푸': 1155, '리버': 1156, '몬': 1157, '슬로베니아': 1158, '델': 1159, '프란치아': 1160, '생각': 1161, '산지오': 1162, '토레스': 1163, '발견': 1164, '폭염': 1165, '했습니다': 1166, '만끽': 1167, '펫낫': 1168, '이제': 1169, '홈스': 1170, '샤블': 1171, '얼마나': 1172, '팔방미인': 1173, '뀌베': 1174, '도사': 1175, '40': 1176, '계피': 1177, '만든다': 1178, '등신': 1179, '빛깔': 1180, '변화': 1181, '파이': 1182, '가넷': 1183, '매끄러운': 1184, '추구': 1185, '거치': 1186, '부분': 1187, '조절': 1188, '며': 1189, '한잔': 1190, '드는': 1191, '향등': 1192, '응축': 1193, '노력': 1194, '이태리': 1195, '치아노': 1196, '보유': 1197, '부드러움': 1198, '퀄리티': 1199, '층': 1200, '줄기': 1201, '선한': 1202, '끝': 1203, '서양배': 1204, '낮': 1205, '저녁': 1206, '편이': 1207, '않는': 1208, '이루는': 1209, '운빵': 1210, '신선함이': 1211, '쥬': 1212, '간직': 1213, '피크닉': 1214, '한여름': 1215, '해줄': 1216, '여름밤': 1217, '무더운': 1218, '의자': 1219, '션': 1220, '즐거운': 1221, '워싱턴': 1222, '아버지': 1223, '접촉': 1224, '찬': 1225, '공식': 1226, '환상': 1227, '라스': 1228, '우아함을': 1229, '달콤함과': 1230, '해발': 1231, '귀족': 1232, '브라': 1233, '편안한': 1234, '보는': 1235, '오': 1236, '해안': 1237, '인양': 1238, '성하게': 1239, '극찬': 1240, '카르페디엠': 1241, '아메리칸': 1242, '그릴': 1243, '만들었다': 1244, '벡': 1245, '어울리고': 1246, '시킨': 1247, '하는데': 1248, '대손': 1249, '하지': 1250, '아티스트': 1251, '모티브': 1252, '아시아': 1253, '청포도': 1254, '셀라': 1255, '출신': 1256, '11월': 1257, '아이스와인': 1258, '걸쳐': 1259, '카스': 1260, '이불': 1261, '담았다': 1262, '해온': 1263, '끄는': 1264, '해보세요': 1265, '보양식': 1266, '미세먼지': 1267, '갈비': 1268, '드러난다': 1269, '식사': 1270, '셰리': 1271, '종류': 1272, '할로윈': 1273, '젤리': 1274, '우아하면서': 1275, '개척': 1276, '프루': 1277, '풍부하다': 1278, '타르': 1279, '타르트': 1280, '미각': 1281, '보면': 1282, '보라': 1283, '쿠': 1284, '파커': 1285, '대부분': 1286, '달콤한과': 1287, '소비뇽블': 1288, '트리': 1289, '제품': 1290, '풋': 1291, '느낄수있습니다': 1292, '양고기': 1293, '왔다': 1294, '우아함과': 1295, '장기': 1296, '즐기': 1297, '가능': 1298, '따뜻한': 1299, '튀는': 1300, '자극': 1301, '인해': 1302, '얼음': 1303, '프레': 1304, '디': 1305, '은세계': 1306, '섬세하게': 1307, '35': 1308, '되고': 1309, '누리고있는': 1310, '했던': 1311, '폭발': 1312, '압착': 1313, '작업': 1314, '필터': 1315, '밀도': 1316, '뛰어난구': 1317, '콜롬비아': 1318, '상쾌': 1319, '북쪽': 1320, '부문': 1321, '띤': 1322, '강렬하게': 1323, '참': 1324, '해주는': 1325, '시원하게': 1326, '초밥': 1327, '엘레': 1328, '정말': 1329, '가가': 1330, '속': 1331, '카페': 1332, '되': 1333, '꿀향': 1334, '제비꽃': 1335, '따': 1336, '프로방스': 1337, '최고급': 1338, '에디': 1339, '한정': 1340, '연간': 1341, '선명한': 1342, '모두': 1343, '되기': 1344, '숙성하였다': 1345, '의아': 1346, '깔끔하고': 1347, '비솔': 1348, '이루고있다': 1349, '병입후': 1350, '2년': 1351, '멀': 1352, '로맨틱': 1353, '알자스': 1354, '프레스코발디': 1355, '1등': 1356, '지로': 1357, '흙내': 1358, '야할': 1359, '금은': 1360, '될것이다': 1361, '한비': 1362, '향상': 1363, '기반': 1364, '레비': 1365, '12월': 1366, '끄는이': 1367, '맞게': 1368, '만하': 1369, '까리': 1370, '걸': 1371, '어울리죠': 1372, '이야기': 1373, '칸': 1374, '관리': 1375, '2006년': 1376, '캐': 1377, '하고': 1378, '작가': 1379, '세미': 1380, '섬': 1381, '로쏘': 1382, '갖췄다': 1383, '해사': 1384, '날씨': 1385, '쌓은': 1386, '2018년': 1387, '캐러멜': 1388, '발렌시아': 1389, '부': 1390, '에밀리아로마냐': 1391, '1월': 1392, '선구자': 1393, '갈비찜': 1394, '글라스': 1395, '선구': 1396, '버번': 1397, '베르데': 1398, '람': 1399, '조합': 1400, '가스': 1401, '슈퍼': 1402, '느껴집니다': 1403, '곁들여도': 1404, '증': 1405, '필': 1406, '명가': 1407, '생기있는': 1408, '아트': 1409, '돈': 1410, '아스티': 1411, '흰색': 1412, '얻고있다': 1413, '은근': 1414, '됩니다': 1415, '훌륭하다': 1416, '대중': 1417, '유래': 1418, '올리브': 1419, '기본': 1420, '하면서': 1421, '1996년': 1422, '성공': 1423, '1998년': 1424, '2005년': 1425, '2008년': 1426, '의리': 1427, '일품': 1428, '해준다': 1429, '즙': 1430, '전': 1431, '새롭게': 1432, '조금': 1433, '소비자': 1434, '젖산발효': 1435, '거': 1436, '거친다': 1437, '전해': 1438, '만들어진': 1439, '보관': 1440, '첨가': 1441, '라스베리': 1442, '남호주': 1443, '의전': 1444, '모과': 1445, '노란': 1446, '강렬하면서도': 1447, '후각': 1448, '시도': 1449, '자신': 1450, '금색': 1451, '캠핑': 1452, '기름진': 1453, '삼겹살': 1454, '이병': 1455, '조건': 1456, '하기에': 1457, '평소': 1458, '좋아하는': 1459, '바나나': 1460, '들에게': 1461, '단단한': 1462, '빚': 1463, '유명하다': 1464, '100년': 1465, '담고있다': 1466, '17': 1467, '페퍼': 1468, '현지': 1469, '날려주는': 1470, '감은': 1471, '멋진': 1472, '콜': 1473, '기존': 1474, '시기': 1475, '신선함을': 1476, '이스트': 1477, '스팅': 1478, '로즈마리': 1479, '말벡': 1480, '북섬': 1481, '크로': 1482, '무엇': 1483, '고목': 1484, '않는다': 1485, '답': 1486, '버': 1487, '탁월한': 1488, '이함': 1489, '화가': 1490, '청사': 1491, '카르': 1492, '라미': 1493, '치': 1494, '스칸': 1495, '바시아': 1496, '간다': 1497, '2월': 1498, '미디움': 1499, '시켜': 1500, '추가': 1501, '송이': 1502, '체': 1503, '렐': 1504, '스트': 1505, '페테': 1506, '일': 1507, '산화': 1508, '여과': 1509, '고민': 1510, '고백': 1511, '올라옵니다': 1512, '케이크': 1513, '몬드': 1514, '성장': 1515, '확인': 1516, '쌓아': 1517, '마크': 1518, '친': 1519, '홍차': 1520, '2020': 1521, '햇살': 1522, '아노': 1523, '오브': 1524, '무겁지': 1525, '블랑드블': 1526, '합리': 1527, '신뢰': 1528, '50년': 1529, '본연': 1530, '알렉산더': 1531, '300': 1532, '전해진다': 1533, '토카이': 1534, '새해': 1535, '해야': 1536, '데스': 1537, '이어오고있는': 1538, '잘알려진': 1539, '지향': 1540, '사스': 1541, '옹': 1542, '러시안': 1543, '드러나는': 1544, '스테이': 1545, '프랑': 1546, '새': 1547, '만사': 1548, '청량한': 1549, '실천': 1550, '느낄수있죠': 1551, '존경': 1552, '춘곤': 1553, '유명하죠': 1554, '케토': 1555, '유서': 1556, '클라': 1557, '기다리며': 1558, '섞어': 1559, '설날': 1560, '페이스': 1561, '타고': 1562, '말복': 1563, '이열치열': 1564, '행운': 1565, '가비': 1566, '포로': 1567, '뫼니': 1568, '수박': 1569, '슬로': 1570, '생생': 1571, '로드': 1572, '발랄한': 1573, '마른': 1574, '종특': 1575, '어울려': 1576, '위상': 1577, '어색': 1578, '채우는': 1579, '가지고있으며': 1580, '4년': 1581, '15년': 1582, '이해': 1583, '산뜻하고': 1584, '레이어': 1585, '수준': 1586, '잘만': 1587, '조해': 1588, '콘크리트': 1589, '1997년': 1590, '2002년': 1591, '전달': 1592, '맥라렌': 1593, '베일': 1594, '끝맛': 1595, '기준': 1596, '혁신': 1597, '미셸': 1598, '롤랑': 1599, '싶다면': 1600, '대화': 1601, '2009년': 1602, '거친': 1603, '하루': 1604, '채운': 1605, '했는데': 1606, '계열': 1607, '도정': 1608, '맛있게': 1609, '소중한': 1610, '추운': 1611, '힐링': 1612, '주고': 1613, '제공': 1614, '절': 1615, '마시는': 1616, '순수하게': 1617, '산맥': 1618, '쏘': 1619, '가바': 1620, '안성맞춤': 1621, '트는': 1622, '34년': 1623, '풍기는': 1624, '불어': 1625, '지녔다': 1626, '이강하': 1627, '대형': 1628, '강건': 1629, '아침': 1630, '땅': 1631, '지배': 1632, '알바': 1633, '헝가리': 1634, '했을': 1635, '볼륨': 1636, '13': 1637, '비슷한': 1638, '온다': 1639, '푸만': 1640, '에': 1641, '티니': 1642, '인생': 1643, '다음': 1644, '적당하다': 1645, '전해지는': 1646, '단단한구': 1647, '건': 1648, '배적': 1649, '의당': 1650, '결': 1651, '차별': 1652, '탄탄한구': 1653, '저렴한': 1654, '스톤': 1655, '마르카': 1656, '대비': 1657, '어디': 1658, '같다': 1659, '캔디': 1660, '첫': 1661, '번째': 1662, '정체': 1663, '깊고진': 1664, '클로브': 1665, '지인': 1666, '타': 1667, '판매량': 1668, '9': 1669, '섬세': 1670, '찌': 1671, '위대한': 1672, '만들기': 1673, '감미로운': 1674, '의지': 1675, '미슐랭': 1676, '형태': 1677, '도입': 1678, '세이지': 1679, '피네토': 1680, '와카': 1681, '포드': 1682, '베이': 1683, '주스': 1684, '실수': 1685, '배달': 1686, '우아하면서도': 1687, '하던': 1688, '방언': 1689, '소소한': 1690, '케': 1691, '되어있다': 1692, '스데': 1693, '왕실': 1694, '석회암': 1695, '닉': 1696, '1994년': 1697, '머': 1698, '해당': 1699, '보석같은': 1700, '타입': 1701, '존재': 1702, '시키고': 1703, '리가': 1704, '이탈리아어': 1705, '몰리': 1706, '가긴': 1707, '달콤하면서도': 1708, '낮아': 1709, '즐길수있으며': 1710, '빠르게': 1711, '마르케': 1712, '건배': 1713, '사이즈': 1714, '상의': 1715, '이르는': 1716, '2016년': 1717, '마로': 1718, '시스': 1719, '서쪽': 1720, '받으며': 1721, '대를': 1722, '은진': 1723, '아스카': 1724, '단': 1725, '추출': 1726, '루바': 1727, '부른다': 1728, '전혀': 1729, '알수있듯': 1730, '후미': 1731, '없': 1732, '강조': 1733, '감있는': 1734, '적당한당': 1735, '벨라': 1736, '비스타': 1737, '톡톡': 1738, '연어': 1739, '신선함': 1740, '풀뽀': 1741, '로꼬': 1742, '면서': 1743, '스타일리시': 1744, '활동': 1745, '경력': 1746, '카탈': 1747, '리나': 1748, '포르타': 1749, '일러스트': 1750, '정취': 1751, '폴리': 1752, '메인': 1753, '즐길수있습니다': 1754, '블렌드': 1755, '감도': 1756, '최소한': 1757, '마스터': 1758, '인도': 1759, '셀렉': 1760, '2013년': 1761, '좋지만': 1762, '고스': 1763, '2010년': 1764, '어울리니': 1765, '오는': 1766, '돋보인다': 1767, '는바': 1768, '모던': 1769, '열정': 1770, '개국': 1771, '규모': 1772, '들이': 1773, '아마로': 1774, '화학': 1775, '불리': 1776, '마카베오': 1777, '정신': 1778, '즐': 1779, '기기': 1780, '셉': 1781, '자와인': 1782, '유기농법': 1783, '점수': 1784, '막': 1785, '한도': 1786, '파주': 1787, '칸티': 1788, '들도': 1789, '앤': 1790, '곁들이면': 1791, '산타': 1792, '한농': 1793, '간단한': 1794, '알토': 1795, '할만큼': 1796, '한눈': 1797, '좋죠': 1798, '연인': 1799, '캐논볼': 1800, '남깁니다': 1801, '이룹니다': 1802, '아이콘': 1803, '즐기며': 1804, '떠오르는': 1805, '무렵': 1806, '매끈한': 1807, '있는데': 1808, '썸': 1809, '들어줄': 1810, '품격': 1811, '멈': 1812, '명절': 1813, '하기에도': 1814, '앙리': 1815, '줍니다': 1816, '랏': 1817, '리즈': 1818, '무슨': 1819, '잭슨': 1820, '라포': 1821, '매운': 1822, '기쁨': 1823, '문화생활': 1824, '함께하고': 1825, '구이': 1826, '음악': 1827, '재즈': 1828, '정교한': 1829, '뮈': 1830, '여왕': 1831, '별칭': 1832, '1867년': 1833, '분홍색': 1834, '베니안': 1835, '샤를': 1836, '대회': 1837, '호평': 1838, '품': 1839, '느': 1840, '1976년': 1841, '제작': 1842, '더해진': 1843, '되고있다': 1844, '풍부하면서도': 1845, '분량': 1846, '정적': 1847, '확대': 1848, '옐로우': 1849, '라인': 1850, '붉은빛': 1851, '실키': 1852, '다듬어진': 1853, '취향': 1854, '팬': 1855, '마방': 1856, '된과': 1857, '두르': 1858, '루즈': 1859, '보르': 1860, '네타': 1861, '자라는': 1862, '오버': 1863, '나머지': 1864, '이러한': 1865, '몸': 1866, '기전': 1867, '무난': 1868, '조각': 1869, '맑고': 1870, '복': 1871, '클': 1872, '와당': 1873, '개념': 1874, '신선하면서도': 1875, '짧은': 1876, '미로': 1877, '팀': 1878, '뛰어나': 1879, '젊은': 1880, '달콤함': 1881, '텍스처': 1882, '각기': 1883, '없죠': 1884, '피노뮈니': 1885, '2014년': 1886, '크릭': 1887, '다르게': 1888, '국적': 1889, '당분': 1890, '이도': 1891, '2000년': 1892, '태평양': 1893, '은은하고': 1894, '날수': 1895, '완전히': 1896, '타바코': 1897, '만들어졌다': 1898, '숫자': 1899, '가운데': 1900, '열의': 1901, '싶다': 1902, '생미셸': 1903, '들어준다': 1904, '될것': 1905, '묵직하고': 1906, '아름답게': 1907, '다이아몬드': 1908, '살아있는': 1909, '강스': 1910, '온화한': 1911, '은빈': 1912, '가물': 1913, '라가': 1914, '작고': 1915, '해변': 1916, '감성': 1917, '이었다': 1918, '스카치': 1919, '딸': 1920, '로이': 1921, '질': 1922, '카버': 1923, '차구아': 1924, '지를': 1925, '서는': 1926, '프로젝트': 1927, '2017': 1928, '정': 1929, '멋': 1930, '파카': 1931, '우아함이': 1932, '빵': 1933, '쁘띠베르': 1934, '감치': 1935, '킴': 1936, '둔': 1937, '느껴지지': 1938, '도전': 1939, '그리': 1940, '과시': 1941, '발도': 1942, '비아': 1943, '2004년': 1944, '보존': 1945, '하겠다는': 1946, '컬': 1947, '한층': 1948, '강렬하고': 1949, '절제': 1950, '인명': 1951, '칼레': 1952, '라시': 1953, '오른다': 1954, '롯': 1955, '만족감': 1956, '저력': 1957, '세심': 1958, '깃': 1959, '고도': 1960, '구성': 1961, '해양': 1962, '알려진': 1963, '다가온다': 1964, '빈': 1965, '22': 1966, '에르미타주': 1967, '갈': 1968, '방울': 1969, '멧돼지': 1970, '전역': 1971, '메시지': 1972, '하여': 1973, '핑크색': 1974, '편한': 1975, '서도': 1976, '단어': 1977, '마실수있는': 1978, '불고기': 1979, '카사': 1980, '마스': 1981, '카이': 1982, '잔당': 1983, '기품': 1984, '진': 1985, '통한': 1986, '아름답다': 1987, '오쉬': 1988, '바다': 1989, '클론': 1990, '알리': 1991, '둥근': 1992, '르베드르': 1993, '이긴': 1994, '가풍': 1995, '장식': 1996, '교차': 1997, '피망': 1998, '아니스': 1999, '좀더': 2000, '만들었으며': 2001, '보라색': 2002, '도를': 2003, '유칼립투스': 2004, '에이': 2005, '우리': 2006, '이룬': 2007, '됐다': 2008, '여성': 2009, '손색': 2010, '편안하게': 2011, '보여주며': 2012, '아름다운로': 2013, '신대륙': 2014, '만들며': 2015, '느끼게': 2016, '보고': 2017, '전문': 2018, '니콜라스': 2019, '윌리엄': 2020, '수상': 2021, '휴양지': 2022, '달리': 2023, '한청': 2024, '량감': 2025, '2015년': 2026, '주자': 2027, '쌩': 2028, '빼놓을수': 2029, '냄새': 2030, '부드러우며': 2031, '냈다': 2032, '블라인드': 2033, '조방': 2034, '다양성': 2035, '올리': 2036, '르플레': 2037, '엔트리': 2038, '티나': 2039, '과거': 2040, '아일랜드': 2041, '보스': 2042, '타의': 2043, '선두': 2044, '로디': 2045, '얻은': 2046, '산업': 2047, '라피': 2048, '므': 2049, '비료': 2050, '푸르': 2051, '활용': 2052, '적극': 2053, '티노': 2054, '달콤함을': 2055, '주며': 2056, '실험': 2057, '오르는': 2058, '주얼': 2059, '정통': 2060, '떡볶이': 2061, '로사': 2062, '루카': 2063, '부티크': 2064, '보아': 2065, '지중해': 2066, '친근한': 2067, '백도': 2068, '분류': 2069, '자부심': 2070, '라벤더': 2071, '브라더스': 2072, '메디치': 2073, '알리는': 2074, '열대': 2075, '즐길수있고': 2076, '불': 2077, '누리고있다': 2078, '웨스트': 2079, '서로': 2080, '한정판': 2081, '알리칸테': 2082, '회': 2083, '토마토': 2084, '어울리는은': 2085, '카탈루냐': 2086, '살렌토': 2087, '네로': 2088, '코르크': 2089, '입문': 2090, '꼽히죠': 2091, '스낵': 2092, '되고있는': 2093, '프랑스어': 2094, '트렌티노': 2095, '뷔르츠트': 2096, '가심': 2097, '끼': 2098, '등검': 2099, '파타': 2100, '디캔터': 2101, '도시': 2102, '갖췄습니다': 2103, '하는이': 2104, '마쩨': 2105, '소': 2106, '셰프': 2107, '가정식': 2108, '점퍼': 2109, '회사': 2110, '리무': 2111, '할은': 2112, '더할': 2113, '나위': 2114, '무척': 2115, '잘맞는다': 2116, '보길': 2117, '녹턴': 2118, '마르살라': 2119, '재미있게만': 2120, '틴': 2121, '간장': 2122, '하는로': 2123, '에바': 2124, '곁들인': 2125, '눈길': 2126, '볶음': 2127, '맞설': 2128, '즐기고싶은': 2129, '파스칼': 2130, '즐기는로': 2131, '좋겠어요': 2132, '설연휴': 2133, '신년': 2134, '송년': 2135, '돼지': 2136, '여기': 2137, '산적': 2138, '미네': 2139, '럴': 2140, '표': 2141, '즉': 2142, '우아한과': 2143, '라다': 2144, '레나': 2145, '가주': 2146, '6년': 2147, '세인트': 2148, '굿': 2149, '마틴': 2150, '의비': 2151, '오니': 2152, '루산': 2153, '자아내는': 2154, '산샤': 2155, '겨울철': 2156, '이만': 2157, '관능': 2158, '할수있습니다': 2159, '진한과': 2160, '처': 2161, '성하고': 2162, '숯불': 2163, '푸른빛': 2164, '낙엽': 2165, '복잡': 2166, '살': 2167, '거듭': 2168, '일정': 2169, '산새': 2170, '들며': 2171, '거둔': 2172, '시옹': 2173, '가량': 2174, '부와': 2175, '자아낸다': 2176, '이어지며': 2177, '분홍': 2178, '빛과': 2179, '양한': 2180, '블': 2181, '컨설팅': 2182, '디아': 2183, '모금': 2184, '될듯': 2185, '퍼플': 2186, '바구니': 2187, '친후': 2188, '짚색': 2189, '띄며': 2190, '75': 2191, '보여지는': 2192, '좋았다': 2193, '전반': 2194, '소규모': 2195, '받고있어요': 2196, '박스': 2197, '되어있는': 2198, '풍부함과': 2199, '이루고': 2200, '물이': 2201, '깔끔하면서도': 2202, '강': 2203, '키스': 2204, '코스트': 2205, '꿈': 2206, '져는': 2207, '만든로': 2208, '강우량': 2209, '거쳤다': 2210, '유산': 2211, '강철': 2212, '28': 2213, '상적': 2214, '색깔': 2215, '그것': 2216, '초반': 2217, '록': 2218, '흑연': 2219, '훌륭하고': 2220, '퍼지는': 2221, '기를': 2222, '만족스러운': 2223, '수상하기도': 2224, '브런치': 2225, '금': 2226, '산뜻하게': 2227, '칠링': 2228, '느껴져': 2229, '않으면서도': 2230, '한스': 2231, '의병': 2232, '하얀': 2233, '판': 2234, '고급스러': 2235, '바라는': 2236, '더불어': 2237, '칵테일': 2238, '닭': 2239, '시럽': 2240, '남기며': 2241, '넘치고': 2242, '골라': 2243, '않지만': 2244, '달달': 2245, '벌꿀': 2246, '아닐까': 2247, '좋았습니다': 2248, '게': 2249, '스트레스': 2250, '적합한': 2251, '먹어도': 2252, '휴가': 2253, '타임': 2254, '맞는': 2255, '따르면': 2256, '보기': 2257, '유일하게': 2258, '숙성하여': 2259, '알코올발효': 2260, '질의': 2261, '크랜베리': 2262, '스치는': 2263, '두드러지며': 2264, '펠레': 2265, '삭': 2266, '스페셜에디션': 2267, '룩': 2268, '의빈': 2269, '나로': 2270, '보여주고있다': 2271, '자른': 2272, '공존': 2273, '액': 2274, '만': 2275, '하였고': 2276, '실력': 2277, '살린': 2278, '우수': 2279, '한시': 2280, '꽃등': 2281, '향후': 2282, '고급스럽다': 2283, '로마': 2284, '그리는': 2285, '즐기고싶다면': 2286, '정교하고': 2287, '은장': 2288, '비스킷': 2289, '약속': 2290, '어우러져있다': 2291, '공급': 2292, '여행': 2293, '외': 2294, '케이': 2295, '바토': 2296, '아름다': 2297, '회토': 2298, '만나': 2299, '잃지': 2300, '지아': 2301, '힘찬': 2302, '느낀': 2303, '더욱더': 2304, '오레': 2305, '인정받는': 2306, '죽기전에': 2307, '레데': 2308, '저장': 2309, '부드러우면서도': 2310, '동물': 2311, '사실': 2312, '마찬가지': 2313, '뛰어나고': 2314, '유': 2315, '축제': 2316, '자연스러운': 2317, '코끝': 2318, '바바': 2319, '언제': 2320, '제스': 2321, '기초': 2322, '쇠고기': 2323, '착하여': 2324, '나오는': 2325, '아르': 2326, '가득하다': 2327, '보는건': 2328, '허니': 2329, '선보인다': 2330, '캐나다': 2331, '호텔': 2332, '드러내는': 2333, '36': 2334, '산뜻한과': 2335, '일부': 2336, '35년': 2337, '블루': 2338, '를블렌딩': 2339, '초록빛': 2340, '투명하고': 2341, '받았다': 2342, '채우고': 2343, '자갈': 2344, '높여': 2345, '매출': 2346, '58': 2347, '유혹': 2348, '인접': 2349, '1999년': 2350, '태양': 2351, '더했다': 2352, '믿음': 2353, '절묘한': 2354, '리브': 2355, '감싸는': 2356, '웅장': 2357, '표정': 2358, '뛰어납니다': 2359, '팔레트': 2360, '하였으며': 2361, '500': 2362, '준비': 2363, '넣은': 2364, '해발고도': 2365, '높지': 2366, '하길': 2367, '그려': 2368, '길': 2369, '로럴': 2370, '녹색': 2371, '끊임없이': 2372, '술': 2373, '해마': 2374, '더해준다': 2375, '남겨': 2376, '남쪽': 2377, '리기': 2378, '건강한': 2379, '문어': 2380, '쉽고': 2381, '의도': 2382, '45': 2383, '누리': 2384, '먼저': 2385, '크리스': 2386, '전설': 2387, '북론': 2388, '개입': 2389, '안개': 2390, '이면': 2391, '몬테레이': 2392, '원주민': 2393, '인정받은': 2394, '할수있으며': 2395, '자스민': 2396, '대변': 2397, '느껴져요': 2398, '에덴': 2399, '이신선': 2400, '그랜트': 2401, '델타': 2402, '감미': 2403, '사랑받는': 2404, '패션': 2405, '실레니': 2406, '어려운': 2407, '재사용': 2408, '서나': 2409, '라이트': 2410, '엑스트라': 2411, '마이': 2412, '몬터레이': 2413, '밀리': 2414, '투자': 2415, '감베': 2416, '기억': 2417, '연구': 2418, '십': 2419, '94': 2420, '계속': 2421, '범죄': 2422, '리스트': 2423, '통치': 2424, '형벌': 2425, '져': 2426, '육질': 2427, '헤드': 2428, '델리카토': 2429, '에너지': 2430, '이산화황': 2431, '이적': 2432, '디자이너': 2433, '뒷맛': 2434, '비즈니스클래스': 2435, '내는': 2436, '극대': 2437, '첫인상': 2438, '보석': 2439, '합작': 2440, '제의': 2441, '물씬': 2442, '참여': 2443, '거칠지': 2444, '시설': 2445, '인연': 2446, '소의': 2447, '제법': 2448, '간의': 2449, '해낸': 2450, '부터': 2451, '해포': 2452, '컬트': 2453, '해풍': 2454, '랄': 2455, '힙': 2456, '레오나르도': 2457, '레다': 2458, '말린과': 2459, '55': 2460, '대에': 2461, '꽃잎': 2462, '포르투': 2463, '도우': 2464, '흔하지': 2465, '갖췄으며': 2466, '더해진다': 2467, '이오': 2468, '비도': 2469, '들었으며': 2470, '원중': 2471, '수상한': 2472, '아름답고': 2473, '데크': 2474, '공헌': 2475, '활기': 2476, '테메큘': 2477, '독창': 2478, '호박': 2479, '주정': 2480, '강화': 2481, '르나슈를블렌딩': 2482, '섞여있다': 2483, '엠샤': 2484, '마리아': 2485, '훈제': 2486, '1900년': 2487, '마르티노': 2488, '멘토': 2489, '늦춰': 2490, '곁': 2491, '네가지': 2492, '갖추고': 2493, '만족': 2494, '대륙': 2495, '정부': 2496, '돋보입니다': 2497, '랜드마크': 2498, '귀여운': 2499, '토로': 2500, '남동쪽': 2501, '핵': 2502, '라몬': 2503, '빌바오': 2504, '다이빙': 2505, '모': 2506, '로우': 2507, '학교': 2508, '글씨': 2509, '1850년': 2510, '북': 2511, '풍경': 2512, '게리': 2513, '용지역': 2514, '튀김': 2515, '조림': 2516, '오리건': 2517, '들었다': 2518, '1995년': 2519, '순수': 2520, '중이': 2521, '발전': 2522, '퀴': 2523, '끕니다': 2524, '국': 2525, '375': 2526, '마실': 2527, '기업': 2528, '명품': 2529, '로서': 2530, '겸비': 2531, '펜폴': 2532, '추방': 2533, '쎄': 2534, '높다': 2535, '미용': 2536, '주인공': 2537, '마멀레이드': 2538, '시절': 2539, '덕혼': 2540, '소가': 2541, '상차림': 2542, '센트럴': 2543, '되는이': 2544, '투썩': 2545, '세코': 2546, '인정받고있다': 2547, '가나': 2548, '인정받고있어요': 2549, '플래그': 2550, '였던': 2551, '있으니': 2552, '맴돈다': 2553, '크로아티아': 2554, '불구': 2555, '다비': 2556, '필요': 2557, '패키지': 2558, '움브리아': 2559, '마릴린먼로': 2560, '리파': 2561, '60년': 2562, '없습니다': 2563, '제이': 2564, '박은이': 2565, '까테나자': 2566, '몽': 2567, '언급': 2568, '유로': 2569, '셀레': 2570, '롱': 2571, '메뉴': 2572, '로랑': 2573, '한국인': 2574, '까우': 2575, '했다는': 2576, '앞둔이에겐': 2577, '감상': 2578, '도르': 2579, '롬바르디아': 2580, '졸리베': 2581, '기타': 2582, '여': 2583, '간식': 2584, '워낙': 2585, '파니': 2586, '이유': 2587, '이과': 2588, '동반': 2589, '다': 2590, '든다': 2591, '쥐라': 2592, '노릇': 2593, '인재': 2594, '페스티벌': 2595, '방뚜': 2596, '피어나는': 2597, '지녔으며': 2598, '널': 2599, '뀌': 2600, '베드': 2601, '헨느': 2602, '어머니': 2603, '예술가': 2604, '애정': 2605, '라크': 2606, '잔잔': 2607, '미가긴': 2608, '날카로운': 2609, '마시': 2610, '최적': 2611, '넘': 2612, '프란시스': 2613, '뒤론': 2614, '25년': 2615, '세련되게': 2616, '파리': 2617, '심판': 2618, '이의': 2619, '특급': 2620, '해물': 2621, '코스': 2622, '우드': 2623, '풍만하고': 2624, '상당히': 2625, '지노': 2626, '마쿨': 2627, '신의': 2628, '점차': 2629, '경우': 2630, '따스한': 2631, '검정': 2632, '정밀': 2633, '미묘한': 2634, '담뱃잎': 2635, '줄수있는': 2636, '연둣빛': 2637, '노랑': 2638, '이아주': 2639, '가지고있고': 2640, '도약': 2641, '착한': 2642, '리오': 2643, '친구': 2644, '상온': 2645, '선보입니다': 2646, '포감': 2647, '연두빛': 2648, '이진': 2649, '향기롭다': 2650, '집약': 2651, '잡힌구': 2652, '뉘': 2653, '메로': 2654, '직후': 2655, '두고': 2656, '자마자': 2657, '좋을듯': 2658, '럼': 2659, '칼라': 2660, '압축': 2661, '펌프': 2662, '각각': 2663, '버건디': 2664, '야채': 2665, '오레곤': 2666, '잡': 2667, '체다': 2668, '효과': 2669, '높이': 2670, '미터': 2671, '넓은': 2672, '기온': 2673, '얻어': 2674, '글뤼': 2675, '음미': 2676, '마개': 2677, '알콜': 2678, '브랜디': 2679, '음료': 2680, '행복': 2681, '퍼지고': 2682, '그냥': 2683, '인포': 2684, '선보이고있죠': 2685, '1960년': 2686, '느껴지죠': 2687, '남는다': 2688, '맞춰': 2689, '여인': 2690, '알수있다': 2691, '뿔': 2692, '올린': 2693, '파네세': 2694, '녹아든': 2695, '싱그러': 2696, '시인': 2697, '평화': 2698, '강하게': 2699, '산사나무': 2700, '곱': 2701, '해기': 2702, '2013': 2703, '완벽하게': 2704, '거치면서': 2705, '마시고난': 2706, '1012일': 2707, '바스': 2708, '숙성하며': 2709, '이중': 2710, '길고': 2711, '나타난다': 2712, '해병': 2713, '풋풋한': 2714, '고운': 2715, '34': 2716, '특별하게': 2717, '느낌을주는': 2718, '소믈리에': 2719, '무려': 2720, '되는까': 2721, '탄탄한': 2722, '지구': 2723, '위도': 2724, '충분한': 2725, '풍겨': 2726, '초콜렛': 2727, '나': 2728, '젖지': 2729, '깔': 2730, '좋네요': 2731, '스와로브스키': 2732, '꽃내음': 2733, '중앙': 2734, '미래': 2735, '덤불': 2736, '부드러우면서': 2737, '아들': 2738, '차로': 2739, '2014': 2740, '테스': 2741, '존중': 2742, '안정': 2743, '자주색': 2744, '짙은과': 2745, '홈플러스': 2746, '우스': 2747, '아이언': 2748, '부지역': 2749, '서산': 2750, '더위': 2751, '폭탄': 2752, '담': 2753, '저': 2754, '마셨는데': 2755, '머금': 2756, '께나': 2757, '몹시': 2758, '오리': 2759, '조밀한': 2760, '않습니다': 2761, '적당하게': 2762, '잘살': 2763, '고트': 2764, '815': 2765, '지니': 2766, '루시': 2767, '우리나라': 2768, '거주': 2769, '넬': 2770, '단일': 2771, '캐스': 2772, '도아': 2773, '더긴': 2774, '꼬뜨드': 2775, '향연': 2776, '카카오': 2777, '반': 2778, '가소': 2779, '윤택': 2780, '너트': 2781, '텍스쳐': 2782, '26': 2783, '조가': 2784, '120': 2785, '애플': 2786, '가스트': 2787, '노미': 2788, '주년': 2789, '중하': 2790, '발리': 2791, '장유': 2792, '중후': 2793, '이로': 2794, '남아': 2795, '까베르네프': 2796, '플로렌스': 2797, '상태': 2798, '릿': 2799, '나이': 2800, '토마토소스': 2801, '의혹': 2802, '남섬': 2803, '젖은': 2804, '편안하게마': 2805, '탄탄하다': 2806, '족발': 2807, '리저': 2808, '나온': 2809, '와인글라스': 2810, '문턱': 2811, '살기': 2812, '소란': 2813, '중심지': 2814, '지에서': 2815, '하죠': 2816, '이용': 2817, '앞': 2818, '엄격한': 2819, '1834년': 2820, '커플': 2821, '마고': 2822, '정리': 2823, '우수한': 2824, '영롱한': 2825, '살리기': 2826, '식욕': 2827, '비코': 2828, '향수': 2829, '풍부하며': 2830, '펼쳐진': 2831, '되지': 2832, '뵈': 2833, '넛맥': 2834, '않으면서': 2835, '의구': 2836, '펼쳐진다': 2837, '청': 2838, '는가': 2839, '까이에': 2840, '부샤': 2841, '격': 2842, '명산': 2843, '이지나': 2844, '봐': 2845, '1001': 2846, '뿌리': 2847, '졸인': 2848, '지대': 2849, '리베라': 2850, '동물성': 2851, '맞춤': 2852, '물방울': 2853, '세월': 2854, '체험': 2855, '혹': 2856, '을지': 2857, '케이스': 2858, '덜': 2859, '쓴': 2860, '한자리': 2861, '뛰어난말': 2862, '신선한시': 2863, '우아하다': 2864, '포인트': 2865, '라틴어': 2866, '만해': 2867, '이합': 2868, '꼭지': 2869, '할수있도록': 2870, '멜은': 2871, '나비': 2872, '솔': 2873, '2007년': 2874, '만선': 2875, '정기': 2876, '개월더': 2877, '칼리': 2878, '올라': 2879, '씩': 2880, '뚜렷한': 2881, '부드러워': 2882, '르동': 2883, '총': 2884, '사과꽃': 2885, '시가': 2886, '발포': 2887, '달콤함이': 2888, '색감': 2889, '토피': 2890, '한밭': 2891, '아래': 2892, '담겨있다': 2893, '가입': 2894, '섞인': 2895, '뱅': 2896, '걸친': 2897, '풀하면서도': 2898, '프레이': 2899, '제드': 2900, '되었고': 2901, '소리': 2902, '받고있으며': 2903, '한약': 2904, '교과서': 2905, '짜여진': 2906, '골격': 2907, '맛있는': 2908, '스틸컷': 2909, '문구': 2910, '사향': 2911, '부여': 2912, '지니고있다': 2913, '용하지': 2914, '자하': 2915, '섬세하며': 2916, '크에서': 2917, '채운다': 2918, '페트': 2919, '편리하게': 2920, '대신': 2921, '뗌': 2922, '짧게': 2923, '가시선': 2924, '더한': 2925, '2018': 2926, '않을': 2927, '200년': 2928, '하트': 2929, '5.5': 2930, '벤': 2931, '한': 2932, '뛰어나며': 2933, '마는': 2934, '1214': 2935, '금박': 2936, '바닥': 2937, '시각': 2938, '싱그러운과': 2939, '앙금': 2940, '가선': 2941, '로그': 2942, '기한': 2943, '허용': 2944, '유통': 2945, '표기': 2946, '생': 2947, '이어오고있다': 2948, '컬렉션': 2949, '의기': 2950, '이모': 2951, '뒷받침': 2952, '사하는': 2953, '다우니': 2954, '장소': 2955, '사랑받고있다': 2956, '인간': 2957, '끈다': 2958, '돋보이고': 2959, '산타바바라': 2960, '언어': 2961, '인조': 2962, '창의': 2963, '아가': 2964, '97': 2965, '사운': 2966, '토라': 2967, '새겨진': 2968, '잔테': 2969, '카를로': 2970, '이마리': 2971, '비보': 2972, '지에': 2973, '고수': 2974, '부드러운것이': 2975, '확해': 2976, '발음': 2977, '친근하고': 2978, '재미있는': 2979, '의상': 2980, '경쾌하고': 2981, '하는것으로': 2982, '1855년': 2983, '할리데이': 2984, '트로피': 2985, '산뜻하면서도': 2986, '좋은데': 2987, '살육': 2988, '메이킹': 2989, '브륏': 2990, '인정받고있는': 2991, '마다': 2992, '블록': 2993, '오르며': 2994, '생떼': 2995, '살렸다': 2996, '아르지': 2997, '영향력': 2998, '나스': 2999, '색다른': 3000, '가진이': 3001, '1972년': 3002, '가함께': 3003, '해주며': 3004, '렌': 3005, '유주': 3006, '오가': 3007, '해테': 3008, '올가을': 3009, '서클': 3010, '레스코': 3011, '멘솔': 3012, '접': 3013, '챌': 3014, '선보이고있다': 3015, '비냐': 3016, '빠른': 3017, '절도': 3018, '화폐': 3019, '위조': 3020, '강제': 3021, '로다이': 3022, '날리': 3023, '지녀': 3024, '드바인진판델': 3025, '될만큼': 3026, '1924년': 3027, '대통령': 3028, '탁': 3029, '등유': 3030, '이어오며': 3031, '까잘': 3032, '화하기': 3033, '않게': 3034, '안정화': 3035, '붙였다': 3036, '국민': 3037, '데리': 3038, '크리': 3039, '돌체토': 3040, '조화로워': 3041, '많은이': 3042, '풍부한기': 3043, '세가지': 3044, '맞아': 3045, '1970년': 3046, '작년': 3047, '초': 3048, '걸고': 3049, '구대륙': 3050, '고루': 3051, '이강': 3052, '주황': 3053, '철저한': 3054, '비오디': 3055, '나미': 3056, '폴': 3057, '위스키': 3058, '엘': 3059, '6천': 3060, '설명': 3061, '가능성': 3062, '나노': 3063, '비노': 3064, '멘라': 3065, '합해': 3066, '95': 3067, '은로': 3068, '한보': 3069, '다빈치': 3070, '블라썸': 3071, '판넬': 3072, '리뇨': 3073, '디시': 3074, '가업': 3075, '익숙한': 3076, '쉔': 3077, '호프': 3078, '져에서': 3079, '호가': 3080, '에밀': 3081, '매끄럽고': 3082, '돼': 3083, '라비': 3084, '까베르네쇼비뇽': 3085, '보글': 3086, '은비': 3087, '망': 3088, '선보이며': 3089, '즐기거나': 3090, '200': 3091, '넣지': 3092, '구매': 3093, '동부': 3094, '사랑스럽다': 3095, '차가운': 3096, '링해': 3097, '넘치는과': 3098, '마타로': 3099, '신흥': 3100, '느껴지는이': 3101, '럭셔리': 3102, '데블': 3103, '코너': 3104, '항공': 3105, '있지만': 3106, '안주': 3107, '생소': 3108, '아파시': 3109, '어울리': 3110, '프로': 3111, '제프': 3112, '천재': 3113, '인의': 3114, '즐길수있죠': 3115, '메이': 3116, '한파': 3117, '시킬만': 3118, '자렐': 3119, '의인': 3120, '피에르': 3121, '협력': 3122, '부르': 3123, '비건': 3124, '않나요': 3125, '테로': 3126, '스캣': 3127, '지애': 3128, '무르베드르': 3129, '독보': 3130, '스시': 3131, '라드': 3132, '주변': 3133, '보다': 3134, '뮤지션': 3135, '하고싶을': 3136, '꼴은': 3137, '41': 3138, '바삭': 3139, '힐스': 3140, '맥': 3141, '알아보고': 3142, '인정받았죠': 3143, '인터내셔널': 3144, '수량': 3145, '데일': 3146, '1500': 3147, '이어집니다': 3148, '식탁': 3149, '유연한': 3150, '비소': 3151, '미세한': 3152, '들었죠': 3153, '용했어요': 3154, '애칭': 3155, '콜린스': 3156, '화사하고': 3157, '과언': 3158, '그려져있죠': 3159, '해보는건': 3160, '좋을만큼': 3161, '고급스럽고': 3162, '받고있죠': 3163, '을제': 3164, '싶을': 3165, '상대': 3166, '라르': 3167, '베르트랑': 3168, '됐고': 3169, '1983년': 3170, '별명': 3171, '신화': 3172, '미셀': 3173, '도움': 3174, '사시': 3175, '찬란한': 3176, '남단': 3177, '밸류': 3178, '프룬': 3179, '피트': 3180, '조화로워요': 3181, '가득히': 3182, '쌉쌀한': 3183, '선보이고있어요': 3184, '돈나': 3185, '가타': 3186, '토의': 3187, '드미섹': 3188, '예의': 3189, '남겨요': 3190, '의메': 3191, '이나': 3192, '필리프': 3193, '황소': 3194, '임': 3195, '빅토리아': 3196, '이바': 3197, '하기도': 3198, '용했다': 3199, '코르토': 3200, '뇨': 3201, '농장': 3202, '92': 3203, '아벨': 3204, '않으며': 3205, '푸드': 3206, '자존심': 3207, '되죠': 3208, '마렘마': 3209, '대의': 3210, '적당해': 3211, '미쉘': 3212, '풀리아': 3213, '1991년': 3214, '리미': 3215, '유명한데': 3216, '이르기까지': 3217, '기원': 3218, '경쾌하다': 3219, '프라이': 3220, '빗': 3221, '영': 3222, '차게': 3223, '즐긴다면': 3224, '레아': 3225, '할수있을거예요': 3226, '심포니': 3227, '커는': 3228, '왼손잡이': 3229, '페러': 3230, '보베': 3231, '신의물방울': 3232, '면적': 3233, '부족함': 3234, '대명사': 3235, '제이슨': 3236, '오운은': 3237, '위로': 3238, '인정받고있죠': 3239, '아디': 3240, '니콜': 3241, '절로': 3242, '로렌츠': 3243, '멘오': 3244, '뜨의': 3245, '페블': 3246, '잇는': 3247, '데이': 3248, '살로': 3249, '넣으면': 3250, '고시': 3251, '확보': 3252, '필립': 3253, '개운한': 3254, '해보길': 3255, '고기': 3256, '로라': 3257, '근거지': 3258, '콜럼비아': 3259, '이끄는': 3260, '프린트': 3261, '막스': 3262, '메종': 3263, '아황산': 3264, '염': 3265, '유명해요': 3266, '그녀': 3267, '스톨': 3268, '가자미': 3269, '보여주니': 3270, '하고있다': 3271, '얄': 3272, '룸바': 3273, '필요합니다': 3274, '모이는': 3275, '여행지': 3276, '만날수있습니다': 3277, '협업': 3278, '바쉐롱': 3279, '줄': 3280, '올': 3281, '샤또뒤도멘드레': 3282, '사는': 3283, '저녁식사': 3284, '희소성': 3285, '드샹플뢰': 3286, '됐어요': 3287, '187': 3288, '하프': 3289, '컵': 3290, '기건': 3291, '바치': 3292, '고가': 3293, '봐도': 3294, '박세리': 3295, '보내는': 3296, '최': 3297, '파가': 3298, '닥친': 3299, '킬': 3300, '리빙빙': 3301, '다는': 3302, '금귤': 3303, '된해': 3304, '탈리': 3305, '서다': 3306, '내리는': 3307, '발자국': 3308, '복잡할': 3309, '85,000원': 3310, '닭고기': 3311, '라반': 3312, '브르': 3313, '적절하다': 3314, '트루': 3315, '스케': 3316, '무쏘': 3317, '랭': 3318, '트윈스': 3319, '훈제오리': 3320, '찌오네': 3321, '즐길수있을것이다': 3322, '동그랑땡': 3323, '에레몬': 3324, '흰꽃패션프루츠': 3325, '마른과': 3326, '세잔': 3327, '갖고있으며': 3328, '준': 3329, '경의': 3330, '신선하며': 3331, '밟은': 3332, '광물': 3333, '희미하게': 3334, '쥬시': 3335, '감싸고': 3336, '신선하지만': 3337, '주변인': 3338, '리아노': 3339, '테르메': 3340, '있으면서': 3341, '고난': 3342, '바롱': 3343, '조아요': 3344, '1971년': 3345, '멜롯': 3346, '샌프란시스코': 3347, '선한과': 3348, '곁들이거나': 3349, '메이어': 3350, '어우러져있으며': 3351, '신선함도': 3352, '계기': 3353, '달라졌습니다': 3354, '가빠진다면': 3355, '누릴수있는': 3356, '포기': 3357, '해천': 3358, '천히음': 3359, '미하': 3360, '좋아하게': 3361, '해준': 3362, '달콤한로': 3363, '감을가진': 3364, '1920년': 3365, '80년': 3366, '방문': 3367, '퍼스트클래스': 3368, '건초': 3369, '수많은': 3370, '단계': 3371, '흥미로운': 3372, '느껴짐과': 3373, '성숙한': 3374, '돋우는': 3375, '달걀': 3376, '레쉬': 3377, '운디': 3378, '하게': 3379, '연도로': 3380, '의약': 3381, '10일': 3382, '크게': 3383, '얻고있는': 3384, '닥터': 3385, '루젠': 3386, '윤기': 3387, '할수있을': 3388, '나타내주는': 3389, '데니스': 3390, '톰': 3391, '스티븐슨': 3392, '사이클': 3393, '고를': 3394, '올리는': 3395, '받은바': 3396, '깜짝': 3397, '기름기': 3398, '기자': 3399, '이선정': 3400, '흥미롭다': 3401, '400': 3402, '잎사귀': 3403, '디캔팅': 3404, '등심': 3405, '수': 3406, '익': 3407, '한소리': 3408, '햇': 3409, '나타나는': 3410, '감을주며': 3411, '멘도': 3412, '가토': 3413, '폭': 3414, '주전자': 3415, '전기포트': 3416, '덜어': 3417, '따끈하게': 3418, '먹으면': 3419, '필요할': 3420, '골프': 3421, '감기': 3422, '잠들': 3423, '분과': 3424, '먹는': 3425, '뱅쇼': 3426, '그때': 3427, '잘못': 3428, '마시니': 3429, '같은과': 3430, '투명하게': 3431, '입힌': 3432, '먹는듯': 3433, '랜드': 3434, '시켜요': 3435, '버찌': 3436, '감싼다': 3437, '나타나며': 3438, '파파야': 3439, '포의': 3440, '따왔다': 3441, '영롱하게': 3442, '장어': 3443, '상쾌함을': 3444, '형상': 3445, '잠자는': 3446, '숲속': 3447, '미녀': 3448, '바실리카타': 3449, '왕자': 3450, '쉬함': 3451, '괴테': 3452, '맺어진': 3453, '빠질수': 3454, '항공사': 3455, '져리': 3456, '브브뤼': 3457, '터지는기': 3458, '펼쳐지며': 3459, '제이콥': 3460, '제철': 3461, '적은': 3462, '풍부': 3463, '따뜻하고': 3464, '이루고있는': 3465, '얕고': 3466, '하의': 3467, '7,500': 3468, '15,000': 3469, '크기': 3470, '홍수': 3471, '일으키며': 3472, '안데스': 3473, '레벨': 3474, '풍부하면서': 3475, '가지고있는': 3476, '0': 3477, '면시': 3478, '46': 3479, '주간': 3480, '그니': 3481, '찬사': 3482, '옅게': 3483, '쿠키': 3484, '넘친다': 3485, '슬러': 3486, '굵은': 3487, '잔잔하게': 3488, '그리를': 3489, '제조': 3490, '해있다': 3491, '성장하는': 3492, '일조시간': 3493, '2시간': 3494, '햇빛': 3495, '할수있게만': 3496, '미디어': 3497, '감돌며': 3498, '기': 3499, '신선함의': 3500, '얼': 3501, '마시게': 3502, '주도': 3503, '여전히': 3504, '끔': 3505, '은은한과': 3506, '싱그럽고': 3507, '테입': 3508, '사적': 3509, '덥고': 3510, '소나무': 3511, '일류': 3512, '철분': 3513, '레스크레스': 3514, '성함': 3515, '끊이지': 3516, '옅': 3517, '원숙한': 3518, '사탕수수': 3519, '원숙함과': 3520, '합되': 3521, '매끄러': 3522, '가져다준다': 3523, '고스트': 3524, '화제': 3525, '프': 3526, '리츠': 3527, '모젤': 3528, '레제': 3529, '도리': 3530, '느껴지면서': 3531, '머스트': 3532, '헤브': 3533, '아이템': 3534, '잉크': 3535, '배수': 3536, '산뜻한시': 3537, '어우러져있는': 3538, '요즘': 3539, '좋았던': 3540, '선선': 3541, '내기': 3542, '돋구는': 3543, '좋다는': 3544, '사로잡는다': 3545, '여행가': 3546, '따르자마자': 3547, '기포': 3548, '아쉽지만': 3549, '괜찮은': 3550, '극': 3551, '개인': 3552, '모르는': 3553, '같아요': 3554, '가잘': 3555, '한편': 3556, '다가옵니다': 3557, '마시다': 3558, '서빙': 3559, '워터': 3560, '입자': 3561, '크고': 3562, '2012년': 3563, '조엘': 3564, '르네쇼비뇽': 3565, '적색': 3566, '2003년': 3567, '가추': 3568, '일치': 3569, '융합': 3570, '표면': 3571, '석회질': 3572, '조사': 3573, '치구': 3574, '일주일': 3575, '연장': 3576, '사랑스런': 3577, '제라': 3578, '보시길': 3579, '생강': 3580, '91': 3581, '다양하고': 3582, '오네를': 3583, '만들어져': 3584, '할수': 3585, '진정': 3586, '단위': 3587, '짜여진구': 3588, '기와': 3589, '잎': 3590, '살려': 3591, '에리': 3592, '드브노쥬': 3593, '인쇄': 3594, '부드럽고구': 3595, '레오': 3596, '섬세함을': 3597, '여타': 3598, '인지도': 3599, '국가대표': 3600, '어우러져긴': 3601, '이특': 3602, '떼': 3603, '2004': 3604, '2016': 3605, '쪽': 3606, '되면서': 3607, '훌륭하며': 3608, '월병': 3609, '군데': 3610, '세번': 3611, '알리고있습니다': 3612, '올로': 3613, '느낄수있게': 3614, '섬세함과': 3615, '중점': 3616, '우디': 3617, '하기를': 3618, '해구': 3619, '삼아': 3620, '돋보이는긴': 3621, '서서히': 3622, '착즙': 3623, '지하': 3624, '마레': 3625, '아이': 3626, '1542년': 3627, '열기': 3628, '70년': 3629, '이진한': 3630, '말린자': 3631, '메일': 3632, '개발': 3633, '용한': 3634, '이아': 3635, '펠': 3636, '왕': 3637, '이선호': 3638, '프로그램': 3639, '타이': 3640, '완벽히': 3641, '마주': 3642, '핵심': 3643, '천연': 3644, '순수함을': 3645, '을': 3646, '유니크': 3647, '머스': 3648, '척': 3649, '제니': 3650, '1923년': 3651, '종': 3652, '달콤': 3653, '수의': 3654, '남향': 3655, '방향': 3656, '장인정신': 3657, '믹스': 3658, '신선하다': 3659, '포자': 3660, '문장': 3661, '점점': 3662, '빌라': 3663, '쿨롱': 3664, '에릭': 3665, '이라': 3666, '차이': 3667, '관': 3668, '달하는': 3669, '간판': 3670, '면모': 3671, '느낌을주며': 3672, '이그': 3673, '코트': 3674, '피스': 3675, '레프': 3676, '조화로움': 3677, '오크나무': 3678, '성해': 3679, '파른': 3680, '비아데': 3681, '특색': 3682, '할수있고': 3683, '진하게': 3684, '독일어': 3685, '지닌이': 3686, '흥분': 3687, '파셀': 3688, '해빈': 3689, '되어있으며': 3690, '파고데': 3691, '네스': 3692, '델두': 3693, '한가지': 3694, '세기말': 3695, '부각': 3696, '만드는것': 3697, '행위': 3698, '수퍼': 3699, '만들고': 3700, '드로잉': 3701, '흐르며': 3702, '주지': 3703, '직선': 3704, '종이': 3705, '발란스': 3706, '갖춰진': 3707, '잘어우': 3708, '카니발': 3709, '새로': 3710, '커의': 3711, '해오던말': 3712, '첫사랑': 3713, '만들어줄': 3714, '공유': 3715, '젊음': 3716, '담고있는': 3717, '키워': 3718, '1990년': 3719, '접목': 3720, '참치': 3721, '쳐진': 3722, '우아함은': 3723, '지하실': 3724, '옮겨져서': 3725, '스러진다': 3726, '꽃들이': 3727, '주듯': 3728, '섞여서': 3729, '로움': 3730, '디바': 3731, '뇽블랑을블렌딩': 3732, '착하며': 3733, '되새겨': 3734, '014': 3735, '난다': 3736, '역은': 3737, '있던': 3738, '인수': 3739, '이루었다': 3740, '구': 3741, '최선': 3742, '제한': 3743, '어울림': 3744, '따라서': 3745, '가이드': 3746, '파이브': 3747, '완료': 3748, '고': 3749, '어린': 3750, '만들어진다': 3751, '선하게': 3752, '별': 3753, '후작': 3754, '8일': 3755, '흐를수록': 3756, '감싼': 3757, '얻어진': 3758, '꿉': 3759, '잡채': 3760, '배향': 3761, '마실수있다': 3762, '누타': 3763, '유일한': 3764, '화려하게': 3765, '잡지': 3766, '깨진': 3767, '다가오며': 3768, '23': 3769, '반면': 3770, '파쇄': 3771, '서양': 3772, '키위': 3773, '평': 3774, '경사면': 3775, '작은기': 3776, '청량함이': 3777, '토비': 3778, '감이잘': 3779, '공기': 3780, '갖구운': 3781, '넣어구': 3782, '일종': 3783, '쨈': 3784, '적시면서': 3785, '1950년': 3786, '잔고': 3787, '세는': 3788, '살몬': 3789, '인데에': 3790, '고세': 3791, '위엄': 3792, '풍부할줄': 3793, '알았으나': 3794, '강함': 3795, '편안한과': 3796, '40만': 3797, '디종': 3798, '착한다': 3799, '보통': 3800, '사의': 3801, '어우러졌다': 3802, '숙성했으며': 3803, '뿜어낸다': 3804, '혀': 3805, '감싸는듯': 3806, '화려함과': 3807, '우아함의': 3808, '각새': 3809, '글리': 3810, '튀': 3811, '묵직하면서도': 3812, '15.5': 3813, '붙여': 3814, '4,000': 3815, '구수한': 3816, '점성': 3817, '않았다': 3818, '알리는데': 3819, '가다': 3820, '손꼽히는': 3821, '하고프': 3822, '플러스': 3823, '컨셉': 3824, '맞는가': 3825, '장흥': 3826, '담기게': 3827, '되는로': 3828, '나고': 3829, '시원': 3830, '놀랍도록': 3831, '입고': 3832, '재탄생': 3833, '에스프레소': 3834, '체사': 3835, '콤포트': 3836, '일절': 3837, '800': 3838, '자라난': 3839, '네나': 3840, '조량': 3841, '갈레': 3842, '스트로': 3843, '꽉찬': 3844, '500년': 3845, '빠지지': 3846, '스틱': 3847, '나라': 3848, '기호': 3849, '넣고': 3850, '후병': 3851, '잔잔한기': 3852, '이내': 3853, '도드라지며': 3854, '더해지는': 3855, '주어': 3856, '비프': 3857, '널말': 3858, '보리수': 3859, '가조': 3860, '선호': 3861, '기념일': 3862, '곁들이면잘': 3863, '롱반': 3864, '카모': 3865, '지고': 3866, '곡선': 3867, '밝': 3868, '전해지며': 3869, '골드에디션': 3870, '냉장고': 3871, '살색': 3872, '벨': 3873, '마시는것이': 3874, '살구색': 3875, '꼬뜨데로즈': 3876, '이름이말': 3877, '해주듯이': 3878, '은병': 3879, '는듯': 3880, '착각': 3881, '들게': 3882, '활기찬': 3883, '듬뿍': 3884, '묻어나며': 3885, '바리': 3886, '다가오는': 3887, '쁘': 3888, '해석': 3889, '다양하게': 3890, '근처': 3891, '진홍': 3892, '1974년': 3893, '필드': 3894, '블렌': 3895, '조게는': 3896, '1957년': 3897, '받는다': 3898, '레샤름므': 3899, '알렉산': 3900, '가세': 3901, '이력': 3902, '지식': 3903, '가도': 3904, '비오니에로': 3905, '비오니에는': 3906, '선명하게': 3907, '이돌': 3908, '아중': 3909, '주목할만한': 3910, '빅토리아주': 3911, '인레': 3912, '구분': 3913, '상경': 3914, '비행정': 3915, '15일': 3916, '로손': 3917, '굉장히': 3918, '청량': 3919, '280350': 3920, '단기간': 3921, '아이렌': 3922, '성격': 3923, '연결': 3924, '런': 3925, '째대': 3926, '컴퍼니': 3927, '클레어': 3928, '맷': 3929, '미세': 3930, '옮겨': 3931, '활': 3932, '패션후르츠': 3933, '24시간': 3934, '영해': 3935, '프룻': 3936, '탄탄하고': 3937, '짜릿한': 3938, '만들겠다는': 3939, '서술': 3940, '혹스': 3941, '혼술': 3942, '얄리': 3943, '구역': 3944, '카사블랑카': 3945, '지녔고': 3946, '부담스럽다면': 3947, '카차포알': 3948, '진가': 3949, '짙': 3950, '검게': 3951, '어릴': 3952, '간병': 3953, '되면': 3954, '멧츠': 3955, '목표': 3956, '구현': 3957, '용하며': 3958, '뷰': 3959, '가감': 3960, '만들어지며': 3961, '32': 3962, '밝게': 3963, '믿을만한': 3964, '매거진': 3965, '그리고긴': 3966, '이탈': 3967, '아샤르': 3968, '1918년': 3969, '꾸준한': 3970, '성장했다': 3971, '여러': 3972, '냥': 3973, '이즈': 3974, '할수있을것이다': 3975, '바뀐다': 3976, '풍부하고구': 3977, '중요시': 3978, '올린다': 3979, '정상': 3980, '조감도': 3981, '하이랜즈': 3982, '오퍼스': 3983, '잘알려져있으며': 3984, '냈다는': 3985, '파트너': 3986, '단독': 3987, '신규': 3988, '임의': 3989, '페바': 3990, '잡미': 3991, '타노에': 3992, '광고': 3993, '촬영': 3994, '진하면서도': 3995, '이뤄': 3996, '코리아': 3997, '린지': 3998, '지키고있는': 3999, '1930년': 4000, '강렬': 4001, '이풍': 4002, '르티': 4003, '나체': 4004, '페르': 4005, '철저히': 4006, '초기': 4007, '해신': 4008, '30일': 4009, '범죄자': 4010, '반대': 4011, '다운': 4012, '어울릴것': 4013, '다년': 4014, '기다림': 4015, '부의': 4016, '마신': 4017, '높아': 4018, '날리라는': 4019, '허가': 4020, '떫': 4021, '빛로': 4022, '탄탄': 4023, '들어': 4024, '1808년': 4025, '필립스': 4026, '농도': 4027, '1981년': 4028, '도스': 4029, '쌀쌀한': 4030, '속성': 4031, '공법': 4032, '인지': 4033, '피에로': 4034, '륙': 4035, '한우': 4036, '700900': 4037, '경작': 4038, '강력한': 4039, '창조': 4040, '도미': 4041, '오데라': 4042, '베가': 4043, '바를': 4044, '계승': 4045, '뮈니': 4046, '배출': 4047, '화하는': 4048, '유진': 4049, '엘꼬또': 4050, '첨단': 4051, '장사': 4052, '잘알려져있다': 4053, '효': 4054, '급사': 4055, '곳곳': 4056, '라마': 4057, '옷감': 4058, '마르코폴로': 4059, '실크로드': 4060, '비단': 4061, '동양': 4062, '물품': 4063, '풍습': 4064, '베니스': 4065, '온것을': 4066, '보떼르': 4067, '네그로': 4068, '된것처럼': 4069, '적당하며': 4070, '테두리': 4071, '스캇': 4072, '퍼지며': 4073, '인산': 4074, '풀내음': 4075, '접근성': 4076, '든이': 4077, '한음': 4078, '푸아그라': 4079, '블랑카그르나슈블': 4080, '연주': 4081, '주의': 4082, '주었다': 4083, '불꽃': 4084, '산후안': 4085, '맡고있으며': 4086, '부싯돌': 4087, '버번위스키': 4088, '지드': 4089, '열풍': 4090, '이끈': 4091, '트러플': 4092, '채워지는': 4093, '를블렌딩했다': 4094, '필요없을만큼': 4095, '맞은': 4096, '짙고': 4097, '마셨을': 4098, '사르데냐': 4099, '모타': 4100, '지중해성기후': 4101, '쉽게만': 4102, '나기': 4103, '힘든': 4104, '가모': 4105, '된치': 4106, '카나페': 4107, '플로': 4108, '할수있듯': 4109, '뮈스카텔': 4110, '플라워': 4111, '은은하게퍼진다': 4112, '산타크루즈': 4113, '격식': 4114, '그르나슈블': 4115, '빈치': 4116, '보여주기': 4117, '카레': 4118, '오일': 4119, '어울릴듯': 4120, '와인잔': 4121, '과육': 4122, '둥글면서': 4123, '빠': 4124, '중심부': 4125, '1968년': 4126, '자녀': 4127, '나른한': 4128, '오렌지색': 4129, '홀': 4130, '에네미': 4131, '의적': 4132, '로나': 4133, '살렸으며': 4134, '치는': 4135, '후손': 4136, '현재세': 4137, '느끼는이': 4138, '크래커': 4139, '체감': 4140, '더해주는': 4141, '자의': 4142, '남미': 4143, '토키': 4144, '둥글고': 4145, '보인': 4146, '배등': 4147, '1858년': 4148, '행보': 4149, '일관': 4150, '잡은': 4151, '파리아': 4152, '루레': 4153, '아린': 4154, '가정': 4155, '고향이': 4156, '즐길수있는것이': 4157, '인조화': 4158, '지브리': 4159, '1760년': 4160, '꼽힐만큼': 4161, '인증서': 4162, '획득': 4163, '메테': 4164, '메테는람': 4165, '대가': 4166, '가득하며': 4167, '높인': 4168, '민': 4169, '불린': 4170, '은발': 4171, '뀌베를블렌딩': 4172, '참나무': 4173, '입체': 4174, '만들어진이': 4175, '백화점': 4176, '만들어내며': 4177, '구아바': 4178, '초록색': 4179, '미세한기': 4180, '한기': 4181, '작': 4182, '중화': 4183, '48': 4184, '68': 4185, '즐길것을': 4186, '중주': 4187, '익은듯': 4188, '잊을수': 4189, '1993년': 4190, '굴': 4191, '서호주': 4192, '마가렛': 4193, '수상했고': 4194, '나면서': 4195, '데샹': 4196, '사람과': 4197, '압도': 4198, '뷔': 4199, '부리': 4200, '느낄수있을만큼': 4201, '관광객': 4202, '피부': 4203, '하는까': 4204, '뚜': 4205, '선보였고': 4206, '브루노': 4207, '청정': 4208, '태즈매니아': 4209, '경치': 4210, '담았죠': 4211, '이뤄요': 4212, '좋기': 4213, '과식': 4214, '보내고싶다면': 4215, '등테': 4216, '쌩소': 4217, '밀': 4218, '카잘': 4219, '파르': 4220, '건조해': 4221, '하모니': 4222, '프로듀서': 4223, '율': 4224, '셉데': 4225, '식물성': 4226, '입하': 4227, '쁘띠메슬리': 4228, '컬래버레이션': 4229, '마시며': 4230, '로시': 4231, '감덕': 4232, '서부': 4233, '시스템': 4234, '리마': 4235, '멘시아': 4236, '국물': 4237, '야다': 4238, '해줍니다': 4239, '성장한': 4240, '잘알려져있죠': 4241, '조학자': 4242, '2001년': 4243, '이루죠': 4244, '더롱': 4245, '닥스훈트': 4246, '받고있는이': 4247, '콜롱': 4248, '와우': 4249, '니블': 4250, '쉬운': 4251, '이번': 4252, '감돌기': 4253, '않은이': 4254, '반도': 4255, '한글': 4256, '얼굴': 4257, '비우라': 4258, '조화롭습니다': 4259, '애피타이저': 4260, '채소': 4261, '하이엔드': 4262, '베세': 4263, '해왔으며': 4264, '무릎': 4265, '안고': 4266, '튀는것처럼': 4267, '감도는로': 4268, '펠리셔': 4269, '계유': 4270, '종종': 4271, '펜카': 4272, '등대': 4273, '담았어요': 4274, '카니': 4275, '미술': 4276, '찰스': 4277, '스미스': 4278, '꼴리에': 4279, '사로잡는': 4280, '개조': 4281, '왈라왈라': 4282, '세븐': 4283, '클레': 4284, '진정한': 4285, '수탉': 4286, '최신': 4287, '링크': 4288, '오직': 4289, '작황': 4290, '용했고': 4291, '베네치아': 4292, '버스': 4293, '상상': 4294, '기센': 4295, '주죠': 4296, '들에게도': 4297, '짜': 4298, '코로나': 4299, '만들었어요': 4300, '꼽힌': 4301, '리소토': 4302, '믿고': 4303, '도멘루': 4304, '대도': 4305, '라무': 4306, '통니': 4307, '집안': 4308, '핀': 4309, '카라': 4310, '파블로': 4311, '잡아라는': 4312, '아니에요': 4313, '니코': 4314, '있는로': 4315, '반적': 4316, '끄네요': 4317, '라모': 4318, '이보': 4319, '도츠': 4320, '계절': 4321, '넓은자': 4322, '가포': 4323, '2021': 4324, '지알로': 4325, '갖췄어요': 4326, '수상하는': 4327, '꼬뜨로즈블': 4328, '정석': 4329, '단골': 4330, '굵고': 4331, '될': 4332, '알렉': 4333, '마가': 4334, '둥글둥글한': 4335, '원한': 4336, '단순한': 4337, '반드시': 4338, '역': 4339, '문의': 4340, '실존': 4341, '영국정부': 4342, '맞서': 4343, '싸우던': 4344, '내렸고': 4345, '컨설턴트': 4346, '탈치노': 4347, '왕관': 4348, '회장': 4349, '골': 4350, '거리': 4351, '식재': 4352, '64': 4353, '7년': 4354, '숙성하면': 4355, '투르': 4356, '뤼스': 4357, '수식어': 4358, '생선회': 4359, '사회': 4360, '친숙하지': 4361, '멤버': 4362, '한오': 4363, '만들고있죠': 4364, '스따뇨': 4365, '싸': 4366, '담았습니다': 4367, '루스': 4368, '잘알려져있어요': 4369, '주접': 4370, '땐': 4371, '선보이는것으로': 4372, '홉': 4373, '마릴': 4374, '다양한과': 4375, '맥주': 4376, '남다른': 4377, '리본': 4378, '훈장': 4379, '레지옹': 4380, '뇌르': 4381, '자르': 4382, '느끼기': 4383, '여유': 4384, '오두막': 4385, '새로운세': 4386, '즐기길': 4387, '혼': 4388, '환영': 4389, '받을만한': 4390, '심볼': 4391, '디코이': 4392, '불릴': 4393, '교류': 4394, '숙성했어요': 4395, '진상': 4396, '가르고': 4397, '뜨는': 4398, '프랑크': 4399, '퓌틀': 4400, '홈': 4401, '좋은가': 4402, '목축업': 4403, '과소': 4404, '앵거스': 4405, '소로': 4406, '하는말': 4407, '초보자': 4408, '좋아할만': 4409, '흰소': 4410, '연초': 4411, '멈출수': 4412, '지리': 4413, '피토': 4414, '장면': 4415, '일이': 4416, '협회': 4417, '아비': 4418, '져의': 4419, '드라마': 4420, '오마주': 4421, '마시고싶지만': 4422, '비싼': 4423, '가르시아': 4424, '무스': 4425, '지도': 4426, '대게': 4427, '코바': 4428, '누리고있죠': 4429, '앞선': 4430, '다르': 4431, '미세하고': 4432, '보는것만으로도': 4433, '모아': 4434, '스텔라': 4435, '카디프': 4436, '컨드': 4437, '마르케스': 4438, '칼롱': 4439, '르쥬락': 4440, '몽테뉴': 4441, '에세이': 4442, '할수있어요': 4443, '기여': 4444, '달콤하다': 4445, '화사함을': 4446, '매끈하고': 4447, '묵직하다': 4448, '1948년': 4449, '말리는': 4450, '2530': 4451, '의수': 4452, '티보': 4453, '추풍': 4454, '검증': 4455, '탁월하다': 4456, '만든이': 4457, '적당하고': 4458, '남다르다': 4459, '120년': 4460, '리머릭': 4461, '레인': 4462, '돋운다': 4463, '편하게마': 4464, '레이디': 4465, '심은': 4466, '알렉산드리아': 4467, '식혀': 4468, '야경': 4469, '나누는': 4470, '다마': 4471, '룽': 4472, '로티': 4473, '꼽힙니다': 4474, '코츠': 4475, '스쿠터': 4476, '만들고있는': 4477, '토니': 4478, '되는데': 4479, '왔어요': 4480, '오스트레일리아': 4481, '끈': 4482, '만남': 4483, '특별': 4484, '들어간': 4485, '차세대': 4486, '160년': 4487, '데뮤': 4488, '예': 4489, '어울리네요': 4490, '피놀': 4491, '150': 4492, '박쥐': 4493, '특별합니다': 4494, '인정': 4495, '와일더': 4496, '부드러운기': 4497, '차박': 4498, '신선하게': 4499, '비스트': 4500, '획': 4501, '장인': 4502, '생선전': 4503, '고추장': 4504, '격의': 4505, '풍요': 4506, '르도를블렌딩': 4507, '미과': 4508, '조후': 4509, '제정러시아': 4510, '황실': 4511, '황제': 4512, '멘이에요': 4513, '1836년': 4514, '닮은': 4515, '가오': 4516, '알려져있죠': 4517, '1825년': 4518, '쥬브레샹베르': 4519, '땡': 4520, '나타': 4521, '신생': 4522, '받았습니다': 4523, '르메네르': 4524, '떠오른': 4525, '마시고싶다면': 4526, '해고': 4527, '복서': 4528, '마르퀴스': 4529, '서': 4530, '65': 4531, '할러': 4532, '캥거루': 4533, '담당': 4534, '불레애': 4535, '따르': 4536, '인시': 4537, '810': 4538, '혁명': 4539, '일으킨': 4540, '수퍼스타': 4541, '천사': 4542, '슈럽': 4543, '아기': 4544, '개포': 4545, '까테나의': 4546, '최적화': 4547, '빼어난': 4548, '인멘': 4549, '넘버': 4550, '더해': 4551, '해왔다': 4552, '모르는이': 4553, '보름달': 4554, '지바': 4555, '용의': 4556, '째이어오고있는': 4557, '자전거': 4558, '손상': 4559, '보졸레': 4560, '갖췄으니': 4561, '700': 4562, '해왔어요': 4563, '리베': 4564, '소속': 4565, '쉬는': 4566, '될만': 4567, '불립니다': 4568, '생로랑': 4569, '에드워드': 4570, '받았고': 4571, '머피': 4572, '레디': 4573, '섬세함': 4574, '줄리아': 4575, '오리고기': 4576, '했다면': 4577, '메네': 4578, '장어구이': 4579, '러시아': 4580, '요청': 4581, '있기': 4582, '실현': 4583, '빌까르살몽': 4584, '1818년': 4585, '크다': 4586, '몽타뉴드': 4587, '랭스': 4588, '주니': 4589, '푸이야': 4590, '늦게': 4591, '어깨': 4592, '랍스터': 4593, '가로': 4594, '드노': 4595, '웨딩': 4596, '용하는': 4597, '있을만큼': 4598, '의심': 4599, '장부': 4600, '따서': 4601, '감돈': 4602, '탈': 4603, '몬티': 4604, '해도잘': 4605, '1000': 4606, '수익금': 4607, '관련': 4608, '팩': 4609, '식이': 4610, '감이있는': 4611, '문': 4612, '나시오날': 4613, '휴대': 4614, '가디': 4615, '제라드': 4616, '1978년': 4617, '햄': 4618, '도미니크': 4619, '이끌며': 4620, '페냐롤': 4621, '입사': 4622, '드리나는': 4623, '카스틸리오네': 4624, '드리나': 4625, '해안가': 4626, '뽀므': 4627, '롤': 4628, '찾아보기': 4629, '원래': 4630, '약한': 4631, '단번': 4632, '쌍': 4633, '문득': 4634, '평범한': 4635, '팍': 4636, '눈치': 4637, '지에스': 4638, '티스': 4639, '공연': 4640, '좋겠습니다': 4641, '접하는': 4642, '열린': 4643, '아르테': 4644, '있는와': 4645, '손녀': 4646, '하기가': 4647, '해줄거예요': 4648, '퓌메특': 4649, '좋아서': 4650, '세이': 4651, '선생님': 4652, '감사': 4653, '쑬은': 4654, '푸른색': 4655, '라피스라줄리': 4656, '축복': 4657, '이끌고있으며': 4658, '졸': 4659, '누리는': 4660, '화사하게': 4661, '팔리는': 4662, '첫키스': 4663, '전해지네요': 4664, '모인': 4665, '에스테': 4666, '게다가': 4667, '쌍둥이': 4668, '글로리아': 4669, '한겨울': 4670, '초콜릿케이크': 4671, '호세': 4672, '폰세카': 4673, '분식': 4674, '따를': 4675, '보인다': 4676, '지닌다': 4677, '한새': 4678, '두드러진다': 4679, '묵직하며': 4680, '진저브레드': 4681, '농사': 4682, '착해': 4683, '진하다': 4684, '본인': 4685, '맛있다': 4686, '지니는': 4687, '오디': 4688, '투리': 4689, '가프': 4690, '스칼라': 4691, '송년회': 4692, '반가운': 4693, '혼자': 4694, '집어': 4695, '글레': 4696, '러드': 4697, '누군가': 4698, '르뽀': 4699, '유쾌한': 4700, '훌륭하죠': 4701, '이끌고있는': 4702, '42': 4703, '브레': 4704, '우체부': 4705, '브레이': 4706, '높고': 4707, '리스너': 4708, '볼스': 4709, '하임': 4710, '소시지': 4711, '유명하지만': 4712, '우이': 4713, '사바': 4714, '울': 4715, '녹아있다': 4716, '잡혀있어': 4717, '크림소스': 4718, '불린다': 4719, '갖추고있으며': 4720, '뇽베르트': 4721, '내며': 4722, '참치회': 4723, '연합': 4724, '조이안세': 4725, '다나': 4726, '편하다': 4727, '조개류': 4728, '비레': 4729, '다소': 4730, '사브르': 4731, '푸리': 4732, '110,000원': 4733, '프리울리': 4734, '끄도': 4735, '130,000원': 4736, '편안함': 4737, '황산염': 4738, '1853년': 4739, '짭짤함을': 4740, '어쩌면': 4741, '바타': 4742, '시올': 4743, '몽트뢰': 4744, '후원': 4745, '아마': 4746, '뇽등': 4747, '산뜻해': 4748, '탄탄해': 4749, '에카': 4750, '마데이라': 4751, '모였을': 4752, '버그': 4753, '볼베르': 4754, '매그넘': 4755, '찾는다': 4756, '세투발': 4757, '전채요리': 4758, '코노': 4759, '제대로': 4760, '오타고': 4761, '누아다': 4762, '산악': 4763, '임팩트': 4764, '드러냈다': 4765, '독특': 4766, '해봐': 4767, '실버': 4768, '진흙': 4769, '드러나며': 4770, '편의점': 4771, '화한다': 4772, '루베': 4773, '와시라': 4774, '다스': 4775, '들이내는': 4776, '까르보나라': 4777, '피터': 4778, '들어주는': 4779, '어울릴': 4780, '모스코': 4781, '필레': 4782, '메르': 4783, '불독': 4784, '베스트': 4785, '도드라진다': 4786, '디디': 4787, '킹크랩': 4788, '보자': 4789, '엘더링': 4790, '있을까': 4791, '빌': 4792, '랜': 4793, '007': 4794, '볼렝': 4795, '뤽': 4796, '뛰느': 4797, '배드걸': 4798, '피롱': 4799, '견과': 4800, '마시거나': 4801, '콘트라': 4802, '선수': 4803, '캔달': 4804, '안정감': 4805, '담백하게구': 4806, '지나치게': 4807, '홀짝': 4808, '내면': 4809, '겉': 4810, '차오른다': 4811}\n"
     ]
    }
   ],
   "source": [
    "print(word_to_index)"
   ]
  },
  {
   "cell_type": "markdown",
   "metadata": {},
   "source": [
    "###### 인코딩한 결과가 들어갈 새로운 열 만듦"
   ]
  },
  {
   "cell_type": "code",
   "execution_count": 41,
   "metadata": {},
   "outputs": [],
   "source": [
    "wine[\"sorted_review_token\"] = \" \""
   ]
  },
  {
   "cell_type": "markdown",
   "metadata": {},
   "source": [
    "###### 중복 제거, 빈도수에 다른 우선순위대로 나열 "
   ]
  },
  {
   "cell_type": "code",
   "execution_count": 42,
   "metadata": {},
   "outputs": [],
   "source": [
    "for i in range(0,806):\n",
    "    sentence=[]\n",
    "    for word in word_tokenize(wine.review_token[i]):\n",
    "         if word in word_to_index.keys():\n",
    "                if word_to_index[word] not in sentence:\n",
    "                    sentence.append(word_to_index[word])\n",
    "    sentence = sorted(sentence)\n",
    "    wine[\"sorted_review_token\"][i] = sentence"
   ]
  },
  {
   "cell_type": "code",
   "execution_count": 43,
   "metadata": {},
   "outputs": [
    {
     "data": {
      "text/html": [
       "<div>\n",
       "<style scoped>\n",
       "    .dataframe tbody tr th:only-of-type {\n",
       "        vertical-align: middle;\n",
       "    }\n",
       "\n",
       "    .dataframe tbody tr th {\n",
       "        vertical-align: top;\n",
       "    }\n",
       "\n",
       "    .dataframe thead th {\n",
       "        text-align: right;\n",
       "    }\n",
       "</style>\n",
       "<table border=\"1\" class=\"dataframe\">\n",
       "  <thead>\n",
       "    <tr style=\"text-align: right;\">\n",
       "      <th></th>\n",
       "      <th>name_ko</th>\n",
       "      <th>blog_text</th>\n",
       "      <th>review</th>\n",
       "      <th>review_token</th>\n",
       "      <th>sorted_review_token</th>\n",
       "    </tr>\n",
       "  </thead>\n",
       "  <tbody>\n",
       "    <tr>\n",
       "      <th>0</th>\n",
       "      <td>더 롱 리틀 독 스파클링</td>\n",
       "      <td>더롱리틀독스파클링소유리20216291549복사이웃추가더롱리틀독스파클링단맛이없고깔끔한...</td>\n",
       "      <td>스파클링.복숭아,살구,꽃,흰꽃,레몬.밝고맑은레몬컬러에레몬,살구,복숭아,흰꽃의아로마가...</td>\n",
       "      <td>스파클링 복숭아 살구 꽃 흰 꽃 레몬 밝고 맑은 레몬 컬러 에레몬 살구 복숭아 ...</td>\n",
       "      <td>[1, 7, 11, 17, 18, 19, 20, 39, 48, 55, 69, 86,...</td>\n",
       "    </tr>\n",
       "    <tr>\n",
       "      <th>1</th>\n",
       "      <td>루베롱 블랑</td>\n",
       "      <td>와인이야기하남포도내음와인아울렛와인샵와인소개화이트와인추천마레농클래식루베롱블랑2016포...</td>\n",
       "      <td>.헤이즐넛,꽃,아카시아,레몬.화사한노란색을띠며레몬,아카시아꽃,헤이즐넛향이어우러진다....</td>\n",
       "      <td>헤이즐넛 꽃 아카시아 레몬 화사한 노란색 띠 레몬 아카시아 꽃 헤이즐넛 향 어우...</td>\n",
       "      <td>[1, 2, 5, 19, 20, 27, 32, 55, 148, 167, 257, 3...</td>\n",
       "    </tr>\n",
       "    <tr>\n",
       "      <th>2</th>\n",
       "      <td>마리 스튜아트, 뀌베 드 라 헨느 브뤼</td>\n",
       "      <td>와인추천와인21닷컴이선정한7월이달의와인와인21202171950복사이웃추가조금늦게찾아...</td>\n",
       "      <td>스파클링.꽃.반짝이는연한금빛의정교한거품을지녔으며,흰꽃패션프루츠,달콤한흰과일과은은한미...</td>\n",
       "      <td>스파클링 꽃 반짝이는 연한 금빛 정교한 거품 지녔으며 흰꽃패션프루츠 달콤한 흰 ...</td>\n",
       "      <td>[3, 4, 13, 15, 16, 17, 18, 19, 21, 25, 29, 42,...</td>\n",
       "    </tr>\n",
       "    <tr>\n",
       "      <th>3</th>\n",
       "      <td>마스카 델 타코, 로시 피노 네로 로사토</td>\n",
       "      <td>이탈리아와인마스카델타코제이픽와인산타20216212026복사이웃추가마스카델타코는이탈리...</td>\n",
       "      <td>.딸기,미네랄.밟은옅은분홍색에야생딸기젤리수박과같은달콤한향이풍부하고그뒤로향신료광물미네...</td>\n",
       "      <td>딸기 미네랄 밟은 옅은 분홍색 야생 딸기 젤리 수박 같은 달콤한 향 풍부하고 뒤...</td>\n",
       "      <td>[1, 3, 5, 20, 45, 46, 59, 60, 95, 98, 153, 221...</td>\n",
       "    </tr>\n",
       "    <tr>\n",
       "      <th>4</th>\n",
       "      <td>비에티, 바르베라 다스티 '트레 비그네'</td>\n",
       "      <td>2018비에띠바르베라다스티트레비녜2018데미안202142700복사이웃추가2018비에...</td>\n",
       "      <td>.체리,오크.바르베라다스티의포도는라크레나포도밭으로유명한아스티언덕주변인아그리아노테르메...</td>\n",
       "      <td>체리 오크 바르 베 라다 스티 포도 라크 레나 포도 밭 유명한 아스티 언덕 주변...</td>\n",
       "      <td>[3, 4, 5, 6, 8, 10, 14, 20, 24, 26, 32, 46, 52...</td>\n",
       "    </tr>\n",
       "  </tbody>\n",
       "</table>\n",
       "</div>"
      ],
      "text/plain": [
       "                  name_ko                                          blog_text  \\\n",
       "0           더 롱 리틀 독 스파클링  더롱리틀독스파클링소유리20216291549복사이웃추가더롱리틀독스파클링단맛이없고깔끔한...   \n",
       "1                  루베롱 블랑  와인이야기하남포도내음와인아울렛와인샵와인소개화이트와인추천마레농클래식루베롱블랑2016포...   \n",
       "2   마리 스튜아트, 뀌베 드 라 헨느 브뤼  와인추천와인21닷컴이선정한7월이달의와인와인21202171950복사이웃추가조금늦게찾아...   \n",
       "3  마스카 델 타코, 로시 피노 네로 로사토  이탈리아와인마스카델타코제이픽와인산타20216212026복사이웃추가마스카델타코는이탈리...   \n",
       "4  비에티, 바르베라 다스티 '트레 비그네'  2018비에띠바르베라다스티트레비녜2018데미안202142700복사이웃추가2018비에...   \n",
       "\n",
       "                                              review  \\\n",
       "0  스파클링.복숭아,살구,꽃,흰꽃,레몬.밝고맑은레몬컬러에레몬,살구,복숭아,흰꽃의아로마가...   \n",
       "1  .헤이즐넛,꽃,아카시아,레몬.화사한노란색을띠며레몬,아카시아꽃,헤이즐넛향이어우러진다....   \n",
       "2  스파클링.꽃.반짝이는연한금빛의정교한거품을지녔으며,흰꽃패션프루츠,달콤한흰과일과은은한미...   \n",
       "3  .딸기,미네랄.밟은옅은분홍색에야생딸기젤리수박과같은달콤한향이풍부하고그뒤로향신료광물미네...   \n",
       "4  .체리,오크.바르베라다스티의포도는라크레나포도밭으로유명한아스티언덕주변인아그리아노테르메...   \n",
       "\n",
       "                                        review_token  \\\n",
       "0    스파클링 복숭아 살구 꽃 흰 꽃 레몬 밝고 맑은 레몬 컬러 에레몬 살구 복숭아 ...   \n",
       "1    헤이즐넛 꽃 아카시아 레몬 화사한 노란색 띠 레몬 아카시아 꽃 헤이즐넛 향 어우...   \n",
       "2    스파클링 꽃 반짝이는 연한 금빛 정교한 거품 지녔으며 흰꽃패션프루츠 달콤한 흰 ...   \n",
       "3    딸기 미네랄 밟은 옅은 분홍색 야생 딸기 젤리 수박 같은 달콤한 향 풍부하고 뒤...   \n",
       "4    체리 오크 바르 베 라다 스티 포도 라크 레나 포도 밭 유명한 아스티 언덕 주변...   \n",
       "\n",
       "                                 sorted_review_token  \n",
       "0  [1, 7, 11, 17, 18, 19, 20, 39, 48, 55, 69, 86,...  \n",
       "1  [1, 2, 5, 19, 20, 27, 32, 55, 148, 167, 257, 3...  \n",
       "2  [3, 4, 13, 15, 16, 17, 18, 19, 21, 25, 29, 42,...  \n",
       "3  [1, 3, 5, 20, 45, 46, 59, 60, 95, 98, 153, 221...  \n",
       "4  [3, 4, 5, 6, 8, 10, 14, 20, 24, 26, 32, 46, 52...  "
      ]
     },
     "execution_count": 43,
     "metadata": {},
     "output_type": "execute_result"
    }
   ],
   "source": [
    "wine.head()"
   ]
  },
  {
   "cell_type": "markdown",
   "metadata": {},
   "source": [
    "###### value 값으로 key값을 찾기 위해 dictionary를 뒤집음"
   ]
  },
  {
   "cell_type": "code",
   "execution_count": 44,
   "metadata": {},
   "outputs": [],
   "source": [
    "word_to_index_reverse = {v:k for k,v in word_to_index.items()}"
   ]
  },
  {
   "cell_type": "markdown",
   "metadata": {},
   "source": [
    "###### 인코딩이  따로 필요 없기 때문에 한국어로 다시 원상복귀함"
   ]
  },
  {
   "cell_type": "code",
   "execution_count": 45,
   "metadata": {},
   "outputs": [],
   "source": [
    "for i in range(0,806):\n",
    "    sentence=[]\n",
    "    for word in wine.sorted_review_token[i]:\n",
    "         sentence.append(word_to_index_reverse[word])\n",
    "    wine[\"review_token\"][i] = sentence"
   ]
  },
  {
   "cell_type": "markdown",
   "metadata": {},
   "source": [
    "###### 필요 없어진 열 삭제"
   ]
  },
  {
   "cell_type": "code",
   "execution_count": 46,
   "metadata": {},
   "outputs": [],
   "source": [
    "del wine[\"review\"]\n",
    "del wine[\"sorted_review_token\"]"
   ]
  },
  {
   "cell_type": "code",
   "execution_count": 47,
   "metadata": {},
   "outputs": [
    {
     "data": {
      "text/html": [
       "<div>\n",
       "<style scoped>\n",
       "    .dataframe tbody tr th:only-of-type {\n",
       "        vertical-align: middle;\n",
       "    }\n",
       "\n",
       "    .dataframe tbody tr th {\n",
       "        vertical-align: top;\n",
       "    }\n",
       "\n",
       "    .dataframe thead th {\n",
       "        text-align: right;\n",
       "    }\n",
       "</style>\n",
       "<table border=\"1\" class=\"dataframe\">\n",
       "  <thead>\n",
       "    <tr style=\"text-align: right;\">\n",
       "      <th></th>\n",
       "      <th>name_ko</th>\n",
       "      <th>blog_text</th>\n",
       "      <th>review_token</th>\n",
       "    </tr>\n",
       "  </thead>\n",
       "  <tbody>\n",
       "    <tr>\n",
       "      <th>0</th>\n",
       "      <td>더 롱 리틀 독 스파클링</td>\n",
       "      <td>더롱리틀독스파클링소유리20216291549복사이웃추가더롱리틀독스파클링단맛이없고깔끔한...</td>\n",
       "      <td>[와인, 좋은, 아로마, 과일, 스파클링, 꽃, 입안, 복숭아, 산미, 레몬, 느껴...</td>\n",
       "    </tr>\n",
       "    <tr>\n",
       "      <th>1</th>\n",
       "      <td>루베롱 블랑</td>\n",
       "      <td>와인이야기하남포도내음와인아울렛와인샵와인소개화이트와인추천마레농클래식루베롱블랑2016포...</td>\n",
       "      <td>[와인, 적, 향, 꽃, 입안, 맛, 띠, 레몬, 인상, 섬세한, 부드럽고, 피니시...</td>\n",
       "    </tr>\n",
       "    <tr>\n",
       "      <th>2</th>\n",
       "      <td>마리 스튜아트, 뀌베 드 라 헨느 브뤼</td>\n",
       "      <td>와인추천와인21닷컴이선정한7월이달의와인와인21202171950복사이웃추가조금늦게찾아...</td>\n",
       "      <td>[하, 생산, 품종, 샴페인, 들, 과일, 스파클링, 꽃, 피노, 로, 누, 감, ...</td>\n",
       "    </tr>\n",
       "    <tr>\n",
       "      <th>3</th>\n",
       "      <td>마스카 델 타코, 로시 피노 네로 로사토</td>\n",
       "      <td>이탈리아와인마스카델타코제이픽와인산타20216212026복사이웃추가마스카델타코는이탈리...</td>\n",
       "      <td>[와인, 하, 향, 입안, 미네랄, 여운, 딸기, 같은, 달콤한, 실향, 향신료, ...</td>\n",
       "    </tr>\n",
       "    <tr>\n",
       "      <th>4</th>\n",
       "      <td>비에티, 바르베라 다스티 '트레 비그네'</td>\n",
       "      <td>2018비에띠바르베라다스티트레비녜2018데미안202142700복사이웃추가2018비에...</td>\n",
       "      <td>[하, 생산, 향, 포도, 오크, 지역, 체리, 입안, 타닌, 숙성, 띠, 여운, ...</td>\n",
       "    </tr>\n",
       "  </tbody>\n",
       "</table>\n",
       "</div>"
      ],
      "text/plain": [
       "                  name_ko                                          blog_text  \\\n",
       "0           더 롱 리틀 독 스파클링  더롱리틀독스파클링소유리20216291549복사이웃추가더롱리틀독스파클링단맛이없고깔끔한...   \n",
       "1                  루베롱 블랑  와인이야기하남포도내음와인아울렛와인샵와인소개화이트와인추천마레농클래식루베롱블랑2016포...   \n",
       "2   마리 스튜아트, 뀌베 드 라 헨느 브뤼  와인추천와인21닷컴이선정한7월이달의와인와인21202171950복사이웃추가조금늦게찾아...   \n",
       "3  마스카 델 타코, 로시 피노 네로 로사토  이탈리아와인마스카델타코제이픽와인산타20216212026복사이웃추가마스카델타코는이탈리...   \n",
       "4  비에티, 바르베라 다스티 '트레 비그네'  2018비에띠바르베라다스티트레비녜2018데미안202142700복사이웃추가2018비에...   \n",
       "\n",
       "                                        review_token  \n",
       "0  [와인, 좋은, 아로마, 과일, 스파클링, 꽃, 입안, 복숭아, 산미, 레몬, 느껴...  \n",
       "1  [와인, 적, 향, 꽃, 입안, 맛, 띠, 레몬, 인상, 섬세한, 부드럽고, 피니시...  \n",
       "2  [하, 생산, 품종, 샴페인, 들, 과일, 스파클링, 꽃, 피노, 로, 누, 감, ...  \n",
       "3  [와인, 하, 향, 입안, 미네랄, 여운, 딸기, 같은, 달콤한, 실향, 향신료, ...  \n",
       "4  [하, 생산, 향, 포도, 오크, 지역, 체리, 입안, 타닌, 숙성, 띠, 여운, ...  "
      ]
     },
     "execution_count": 47,
     "metadata": {},
     "output_type": "execute_result"
    }
   ],
   "source": [
    "wine.head()"
   ]
  },
  {
   "cell_type": "markdown",
   "metadata": {},
   "source": [
    "###### 위와 마찬가지로 blog_text 열을  토큰화한 뒤 원하는 품사를 가진 단어만 남겨둘 새로운 열 추가"
   ]
  },
  {
   "cell_type": "code",
   "execution_count": null,
   "metadata": {},
   "outputs": [],
   "source": [
    "import nltk\n",
    "nltk.download('punkt')"
   ]
  },
  {
   "cell_type": "code",
   "execution_count": null,
   "metadata": {},
   "outputs": [],
   "source": [
    "wine[\"blog_token\"] = \" \""
   ]
  },
  {
   "cell_type": "markdown",
   "metadata": {},
   "source": [
    "###### 원하는 품사(의미를 가진 품사)만 새로운 열에 추가함"
   ]
  },
  {
   "cell_type": "code",
   "execution_count": null,
   "metadata": {},
   "outputs": [],
   "source": [
    "pos_okt = okt.pos(wine.blog_text[1], norm=True, stem=True)"
   ]
  },
  {
   "cell_type": "code",
   "execution_count": null,
   "metadata": {},
   "outputs": [],
   "source": [
    "for i in range(0,806):\n",
    "    pos = okt.pos(wine.blog_text[i], norm=True, stem=True)\n",
    "    for j in pos:\n",
    "        if j[1] == \"Verb\":\n",
    "            wine.blog_token[i] = wine.blog_token[i] + \" \" + j[0] \n",
    "        if j[1] == \"Noun\":\n",
    "            wine.blog_token[i] = wine.blog_token[i] + \" \" + j[0] \n",
    "        if j[1] == \"Adjective\":\n",
    "            wine.blog_token[i] = wine.blog_token[i] + \" \" + j[0] "
   ]
  },
  {
   "cell_type": "markdown",
   "metadata": {},
   "source": [
    "###### 단어의 빈도수를 확인하고, 블로그의 특성상 존재하는 관련없는 말, 의미없는 말을 제거하기 위해 빈도수가 3이 넘는 값만 중복을 제거하여 남겨둠"
   ]
  },
  {
   "cell_type": "code",
   "execution_count": null,
   "metadata": {},
   "outputs": [],
   "source": [
    "wine.head()"
   ]
  },
  {
   "cell_type": "markdown",
   "metadata": {},
   "source": [
    "## ------------------------------------------여기까지돌리고 복사본 만들기!"
   ]
  },
  {
   "cell_type": "code",
   "execution_count": null,
   "metadata": {},
   "outputs": [],
   "source": [
    "blog_vocab ={}\n",
    "for i in range(0,806):\n",
    "    for word in word_tokenize(wine.blog_token[i]):\n",
    "        if word not in blog_vocab:\n",
    "            blog_vocab[word] = 0\n",
    "        blog_vocab[word] +=1"
   ]
  },
  {
   "cell_type": "code",
   "execution_count": null,
   "metadata": {},
   "outputs": [],
   "source": [
    "print(blog_vocab)"
   ]
  },
  {
   "cell_type": "code",
   "execution_count": null,
   "metadata": {},
   "outputs": [],
   "source": [
    "blog_vocab_sorted = sorted(blog_vocab.items(), key=lambda x: x[1], reverse=True)"
   ]
  },
  {
   "cell_type": "code",
   "execution_count": null,
   "metadata": {},
   "outputs": [],
   "source": [
    "print(blog_vocab_sorted)"
   ]
  },
  {
   "cell_type": "code",
   "execution_count": null,
   "metadata": {},
   "outputs": [],
   "source": [
    "blog_word_to_index = {}\n",
    "i = 0\n",
    "for word, frequency in blog_vocab_sorted:\n",
    "    if frequency > 3:\n",
    "        i += 1\n",
    "        word_to_index[word] = i"
   ]
  },
  {
   "cell_type": "code",
   "execution_count": null,
   "metadata": {},
   "outputs": [],
   "source": [
    "print(blog_word_to_index)"
   ]
  },
  {
   "cell_type": "code",
   "execution_count": null,
   "metadata": {},
   "outputs": [],
   "source": [
    "wine[\"sorted_blog_token\"] = \" \""
   ]
  },
  {
   "cell_type": "code",
   "execution_count": null,
   "metadata": {},
   "outputs": [],
   "source": [
    "for i in range(0,806):\n",
    "    sentence=[]\n",
    "    for word in word_tokenize(wine.blog_token[i]):\n",
    "         if word in blog_word_to_index.keys():\n",
    "                if blog_word_to_index[word] not in sentence:\n",
    "                    sentence.append(blog_word_to_index[word])\n",
    "    sentence = sorted(sentence)\n",
    "    wine[\"sorted_blog_token\"][i] = sentence"
   ]
  },
  {
   "cell_type": "code",
   "execution_count": null,
   "metadata": {},
   "outputs": [],
   "source": [
    "wine.head()"
   ]
  },
  {
   "cell_type": "code",
   "execution_count": null,
   "metadata": {},
   "outputs": [],
   "source": [
    "blog_word_to_index_reverse = {v:k for k,v in blog_word_to_index.items()}"
   ]
  },
  {
   "cell_type": "code",
   "execution_count": null,
   "metadata": {},
   "outputs": [],
   "source": [
    "for i in range(0,806):\n",
    "    sentence=[]\n",
    "    for word in wine.sorted_blog_token[i]:\n",
    "         sentence.append(blog_word_to_index_reverse[word])\n",
    "    wine[\"review_token\"][i] = sentence"
   ]
  },
  {
   "cell_type": "code",
   "execution_count": null,
   "metadata": {},
   "outputs": [],
   "source": [
    "del wine[\"blog_text\"]\n",
    "del wine[\"sorted_blog_token\"]"
   ]
  },
  {
   "cell_type": "code",
   "execution_count": null,
   "metadata": {},
   "outputs": [],
   "source": [
    "wine.head()"
   ]
  },
  {
   "cell_type": "code",
   "execution_count": null,
   "metadata": {},
   "outputs": [],
   "source": []
  },
  {
   "cell_type": "code",
   "execution_count": null,
   "metadata": {},
   "outputs": [],
   "source": []
  },
  {
   "cell_type": "code",
   "execution_count": null,
   "metadata": {},
   "outputs": [],
   "source": []
  },
  {
   "cell_type": "code",
   "execution_count": null,
   "metadata": {},
   "outputs": [],
   "source": []
  },
  {
   "cell_type": "code",
   "execution_count": null,
   "metadata": {},
   "outputs": [],
   "source": [
    "#내일 둘 코드 보고 할 일!\n",
    "#코드합치기\n",
    "#token 두 열 합치기 (이때 중복 제거)\n",
    "#review, blog text 열 제거\n",
    "#csv형태로 만들기\n",
    "#프론트 엔드 질문 생각"
   ]
  },
  {
   "cell_type": "code",
   "execution_count": null,
   "metadata": {},
   "outputs": [],
   "source": [
    "wine[\"tokenizing\"] = wine[\"review_token\"] + wine[\"blog_token\"]\n",
    "\n",
    "#이때 중복제거해야됨.."
   ]
  },
  {
   "cell_type": "code",
   "execution_count": null,
   "metadata": {},
   "outputs": [],
   "source": [
    "del wine.blog_text\n",
    "del wine.review"
   ]
  },
  {
   "cell_type": "code",
   "execution_count": null,
   "metadata": {},
   "outputs": [],
   "source": []
  },
  {
   "cell_type": "code",
   "execution_count": null,
   "metadata": {},
   "outputs": [],
   "source": []
  },
  {
   "cell_type": "code",
   "execution_count": null,
   "metadata": {},
   "outputs": [],
   "source": []
  },
  {
   "cell_type": "code",
   "execution_count": null,
   "metadata": {},
   "outputs": [],
   "source": []
  },
  {
   "cell_type": "code",
   "execution_count": null,
   "metadata": {},
   "outputs": [],
   "source": []
  }
 ],
 "metadata": {
  "kernelspec": {
   "display_name": "Python 3",
   "language": "python",
   "name": "python3"
  },
  "language_info": {
   "codemirror_mode": {
    "name": "ipython",
    "version": 3
   },
   "file_extension": ".py",
   "mimetype": "text/x-python",
   "name": "python",
   "nbconvert_exporter": "python",
   "pygments_lexer": "ipython3",
   "version": "3.8.5"
  }
 },
 "nbformat": 4,
 "nbformat_minor": 5
}
