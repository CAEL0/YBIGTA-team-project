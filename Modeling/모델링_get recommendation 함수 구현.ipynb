{
  "nbformat": 4,
  "nbformat_minor": 5,
  "metadata": {
    "kernelspec": {
      "display_name": "Python 3",
      "language": "python",
      "name": "python3"
    },
    "language_info": {
      "codemirror_mode": {
        "name": "ipython",
        "version": 3
      },
      "file_extension": ".py",
      "mimetype": "text/x-python",
      "name": "python",
      "nbconvert_exporter": "python",
      "pygments_lexer": "ipython3",
      "version": "3.8.8"
    },
    "colab": {
      "name": "모델링 - 함수 구현 - 최종",
      "provenance": [],
      "collapsed_sections": []
    }
  },
  "cells": [
    {
      "cell_type": "markdown",
      "metadata": {
        "id": "bW-ViLwD4iuj"
      },
      "source": [
        "- **필요한 패키지들 import**\n"
      ],
      "id": "bW-ViLwD4iuj"
    },
    {
      "cell_type": "code",
      "metadata": {
        "id": "cf488128"
      },
      "source": [
        "import pandas as pd\n",
        "import numpy as np\n",
        "from sklearn.feature_extraction.text import TfidfVectorizer\n",
        "from sklearn.metrics.pairwise import linear_kernel"
      ],
      "id": "cf488128",
      "execution_count": null,
      "outputs": []
    },
    {
      "cell_type": "markdown",
      "metadata": {
        "id": "W_FSwE4K4qeZ"
      },
      "source": [
        "- **데이터 가져오기 및 확인하기**"
      ],
      "id": "W_FSwE4K4qeZ"
    },
    {
      "cell_type": "code",
      "metadata": {
        "colab": {
          "base_uri": "https://localhost:8080/"
        },
        "id": "U2Qo6ImSuWwu",
        "outputId": "ae191842-c407-421b-ae22-5519c2bb115f"
      },
      "source": [
        "from google.colab import drive\n",
        "drive.mount('/content/drive')"
      ],
      "id": "U2Qo6ImSuWwu",
      "execution_count": null,
      "outputs": [
        {
          "output_type": "stream",
          "text": [
            "Mounted at /content/drive\n"
          ],
          "name": "stdout"
        }
      ]
    },
    {
      "cell_type": "code",
      "metadata": {
        "id": "nDCQQHeXujSp"
      },
      "source": [
        "wine = pd.read_csv(\"/content/drive/My Drive/Colab Notebooks/team project/wine_tokenizing_final.csv\")  "
      ],
      "id": "nDCQQHeXujSp",
      "execution_count": null,
      "outputs": []
    },
    {
      "cell_type": "code",
      "metadata": {
        "colab": {
          "base_uri": "https://localhost:8080/"
        },
        "id": "eda612df",
        "outputId": "c262547f-fb01-486d-ae74-05068035115f"
      },
      "source": [
        "wine.info()"
      ],
      "id": "eda612df",
      "execution_count": null,
      "outputs": [
        {
          "output_type": "stream",
          "text": [
            "<class 'pandas.core.frame.DataFrame'>\n",
            "RangeIndex: 325 entries, 0 to 324\n",
            "Data columns (total 3 columns):\n",
            " #   Column      Non-Null Count  Dtype \n",
            "---  ------      --------------  ----- \n",
            " 0   Unnamed: 0  325 non-null    int64 \n",
            " 1   name_ko     325 non-null    object\n",
            " 2   blogreview  325 non-null    object\n",
            "dtypes: int64(1), object(2)\n",
            "memory usage: 7.7+ KB\n"
          ],
          "name": "stdout"
        }
      ]
    },
    {
      "cell_type": "code",
      "metadata": {
        "colab": {
          "base_uri": "https://localhost:8080/",
          "height": 203
        },
        "id": "uiYsdgT-y4SG",
        "outputId": "f8b1d06d-b5cb-4ba1-e355-669692b51991"
      },
      "source": [
        "wine.head()"
      ],
      "id": "uiYsdgT-y4SG",
      "execution_count": null,
      "outputs": [
        {
          "output_type": "execute_result",
          "data": {
            "text/html": [
              "<div>\n",
              "<style scoped>\n",
              "    .dataframe tbody tr th:only-of-type {\n",
              "        vertical-align: middle;\n",
              "    }\n",
              "\n",
              "    .dataframe tbody tr th {\n",
              "        vertical-align: top;\n",
              "    }\n",
              "\n",
              "    .dataframe thead th {\n",
              "        text-align: right;\n",
              "    }\n",
              "</style>\n",
              "<table border=\"1\" class=\"dataframe\">\n",
              "  <thead>\n",
              "    <tr style=\"text-align: right;\">\n",
              "      <th></th>\n",
              "      <th>Unnamed: 0</th>\n",
              "      <th>name_ko</th>\n",
              "      <th>blogreview</th>\n",
              "    </tr>\n",
              "  </thead>\n",
              "  <tbody>\n",
              "    <tr>\n",
              "      <th>0</th>\n",
              "      <td>0</td>\n",
              "      <td>더 롱 리틀 독 스파클링</td>\n",
              "      <td>과일 꽃 아로마 스파클링 좋은 복숭아 입 느껴진다 레몬 산미 살구 기분 컬러 흰 상...</td>\n",
              "    </tr>\n",
              "    <tr>\n",
              "      <th>1</th>\n",
              "      <td>1</td>\n",
              "      <td>루베롱 블랑</td>\n",
              "      <td>향 꽃 맛 입 레몬 섬세한 인상 부드럽고 아카시아 헤이즐넛 피니시 노란색 어우러진다...</td>\n",
              "    </tr>\n",
              "    <tr>\n",
              "      <th>2</th>\n",
              "      <td>2</td>\n",
              "      <td>마리 스튜아트, 뀌베 드 라 헨느 브뤼</td>\n",
              "      <td>과일 생산 꽃 스파클링 품종 샴페인 감 느낄 그 누 있으며 우아한 뛰어난 균형 이름...</td>\n",
              "    </tr>\n",
              "    <tr>\n",
              "      <th>3</th>\n",
              "      <td>3</td>\n",
              "      <td>마스카 델 타코, 로시 피노 네로 로사토</td>\n",
              "      <td>향 과실 입 미네랄 여운 딸기 그 우아한 달콤한 향신료 부드럽고 풍부하고 옅은 야생...</td>\n",
              "    </tr>\n",
              "    <tr>\n",
              "      <th>4</th>\n",
              "      <td>4</td>\n",
              "      <td>비에티, 바르베라 다스티 '트레 비그네'</td>\n",
              "      <td>향 오크 포도 생산 체리 숙성 지역 느껴진다 붉은 타닌 산도 색 여운 익은 통 입안...</td>\n",
              "    </tr>\n",
              "  </tbody>\n",
              "</table>\n",
              "</div>"
            ],
            "text/plain": [
              "   Unnamed: 0  ...                                         blogreview\n",
              "0           0  ...  과일 꽃 아로마 스파클링 좋은 복숭아 입 느껴진다 레몬 산미 살구 기분 컬러 흰 상...\n",
              "1           1  ...  향 꽃 맛 입 레몬 섬세한 인상 부드럽고 아카시아 헤이즐넛 피니시 노란색 어우러진다...\n",
              "2           2  ...  과일 생산 꽃 스파클링 품종 샴페인 감 느낄 그 누 있으며 우아한 뛰어난 균형 이름...\n",
              "3           3  ...  향 과실 입 미네랄 여운 딸기 그 우아한 달콤한 향신료 부드럽고 풍부하고 옅은 야생...\n",
              "4           4  ...  향 오크 포도 생산 체리 숙성 지역 느껴진다 붉은 타닌 산도 색 여운 익은 통 입안...\n",
              "\n",
              "[5 rows x 3 columns]"
            ]
          },
          "metadata": {},
          "execution_count": 5
        }
      ]
    },
    {
      "cell_type": "markdown",
      "metadata": {
        "id": "CHoq8xEnCeq5"
      },
      "source": [
        "- **필요없는 칼럼 \"unnamed: 0\"과 중복 와인 지우기**"
      ],
      "id": "CHoq8xEnCeq5"
    },
    {
      "cell_type": "code",
      "metadata": {
        "id": "Ivrq6np3zG64"
      },
      "source": [
        "del wine['Unnamed: 0']"
      ],
      "id": "Ivrq6np3zG64",
      "execution_count": null,
      "outputs": []
    },
    {
      "cell_type": "code",
      "metadata": {
        "colab": {
          "base_uri": "https://localhost:8080/",
          "height": 203
        },
        "id": "l4fg0Vy1zN07",
        "outputId": "6576d145-d36e-446c-b012-73e360c8fd0e"
      },
      "source": [
        "wine.head()"
      ],
      "id": "l4fg0Vy1zN07",
      "execution_count": null,
      "outputs": [
        {
          "output_type": "execute_result",
          "data": {
            "text/html": [
              "<div>\n",
              "<style scoped>\n",
              "    .dataframe tbody tr th:only-of-type {\n",
              "        vertical-align: middle;\n",
              "    }\n",
              "\n",
              "    .dataframe tbody tr th {\n",
              "        vertical-align: top;\n",
              "    }\n",
              "\n",
              "    .dataframe thead th {\n",
              "        text-align: right;\n",
              "    }\n",
              "</style>\n",
              "<table border=\"1\" class=\"dataframe\">\n",
              "  <thead>\n",
              "    <tr style=\"text-align: right;\">\n",
              "      <th></th>\n",
              "      <th>name_ko</th>\n",
              "      <th>blogreview</th>\n",
              "    </tr>\n",
              "  </thead>\n",
              "  <tbody>\n",
              "    <tr>\n",
              "      <th>0</th>\n",
              "      <td>더 롱 리틀 독 스파클링</td>\n",
              "      <td>과일 꽃 아로마 스파클링 좋은 복숭아 입 느껴진다 레몬 산미 살구 기분 컬러 흰 상...</td>\n",
              "    </tr>\n",
              "    <tr>\n",
              "      <th>1</th>\n",
              "      <td>루베롱 블랑</td>\n",
              "      <td>향 꽃 맛 입 레몬 섬세한 인상 부드럽고 아카시아 헤이즐넛 피니시 노란색 어우러진다...</td>\n",
              "    </tr>\n",
              "    <tr>\n",
              "      <th>2</th>\n",
              "      <td>마리 스튜아트, 뀌베 드 라 헨느 브뤼</td>\n",
              "      <td>과일 생산 꽃 스파클링 품종 샴페인 감 느낄 그 누 있으며 우아한 뛰어난 균형 이름...</td>\n",
              "    </tr>\n",
              "    <tr>\n",
              "      <th>3</th>\n",
              "      <td>마스카 델 타코, 로시 피노 네로 로사토</td>\n",
              "      <td>향 과실 입 미네랄 여운 딸기 그 우아한 달콤한 향신료 부드럽고 풍부하고 옅은 야생...</td>\n",
              "    </tr>\n",
              "    <tr>\n",
              "      <th>4</th>\n",
              "      <td>비에티, 바르베라 다스티 '트레 비그네'</td>\n",
              "      <td>향 오크 포도 생산 체리 숙성 지역 느껴진다 붉은 타닌 산도 색 여운 익은 통 입안...</td>\n",
              "    </tr>\n",
              "  </tbody>\n",
              "</table>\n",
              "</div>"
            ],
            "text/plain": [
              "                  name_ko                                         blogreview\n",
              "0           더 롱 리틀 독 스파클링  과일 꽃 아로마 스파클링 좋은 복숭아 입 느껴진다 레몬 산미 살구 기분 컬러 흰 상...\n",
              "1                  루베롱 블랑  향 꽃 맛 입 레몬 섬세한 인상 부드럽고 아카시아 헤이즐넛 피니시 노란색 어우러진다...\n",
              "2   마리 스튜아트, 뀌베 드 라 헨느 브뤼  과일 생산 꽃 스파클링 품종 샴페인 감 느낄 그 누 있으며 우아한 뛰어난 균형 이름...\n",
              "3  마스카 델 타코, 로시 피노 네로 로사토  향 과실 입 미네랄 여운 딸기 그 우아한 달콤한 향신료 부드럽고 풍부하고 옅은 야생...\n",
              "4  비에티, 바르베라 다스티 '트레 비그네'  향 오크 포도 생산 체리 숙성 지역 느껴진다 붉은 타닌 산도 색 여운 익은 통 입안..."
            ]
          },
          "metadata": {},
          "execution_count": 7
        }
      ]
    },
    {
      "cell_type": "code",
      "metadata": {
        "id": "9M4zj9OECqEU"
      },
      "source": [
        "wine = wine.drop_duplicates(subset= 'name_ko')"
      ],
      "id": "9M4zj9OECqEU",
      "execution_count": null,
      "outputs": []
    },
    {
      "cell_type": "code",
      "metadata": {
        "colab": {
          "base_uri": "https://localhost:8080/"
        },
        "id": "dC75BbPOCzhx",
        "outputId": "8a48d77b-364c-4a61-c9f6-5bc626b42f77"
      },
      "source": [
        "wine.info()"
      ],
      "id": "dC75BbPOCzhx",
      "execution_count": null,
      "outputs": [
        {
          "output_type": "stream",
          "text": [
            "<class 'pandas.core.frame.DataFrame'>\n",
            "Int64Index: 305 entries, 0 to 324\n",
            "Data columns (total 2 columns):\n",
            " #   Column      Non-Null Count  Dtype \n",
            "---  ------      --------------  ----- \n",
            " 0   name_ko     305 non-null    object\n",
            " 1   blogreview  305 non-null    object\n",
            "dtypes: object(2)\n",
            "memory usage: 7.1+ KB\n"
          ],
          "name": "stdout"
        }
      ]
    },
    {
      "cell_type": "code",
      "metadata": {
        "colab": {
          "base_uri": "https://localhost:8080/"
        },
        "id": "l6EC4bk4z9Hg",
        "outputId": "f70064c9-2431-454c-a0cd-1bc350799b75"
      },
      "source": [
        "wine.isnull().sum()"
      ],
      "id": "l6EC4bk4z9Hg",
      "execution_count": null,
      "outputs": [
        {
          "output_type": "execute_result",
          "data": {
            "text/plain": [
              "name_ko       0\n",
              "blogreview    0\n",
              "dtype: int64"
            ]
          },
          "metadata": {},
          "execution_count": 10
        }
      ]
    },
    {
      "cell_type": "markdown",
      "metadata": {
        "id": "k9KjU2zs5D-T"
      },
      "source": [
        "- **tf-idf 수행하기**"
      ],
      "id": "k9KjU2zs5D-T"
    },
    {
      "cell_type": "code",
      "metadata": {
        "colab": {
          "base_uri": "https://localhost:8080/"
        },
        "id": "1BvJ0PaB0Oje",
        "outputId": "e4ee47e4-c133-49ad-e7cf-72d28a617621"
      },
      "source": [
        "tfidf = TfidfVectorizer()\n",
        "# blogreview에 대해 tf-idf 수행\n",
        "tfidf_matrix = tfidf.fit_transform(wine['blogreview'])\n",
        "print(tfidf_matrix.shape)"
      ],
      "id": "1BvJ0PaB0Oje",
      "execution_count": null,
      "outputs": [
        {
          "output_type": "stream",
          "text": [
            "(305, 13466)\n"
          ],
          "name": "stdout"
        }
      ]
    },
    {
      "cell_type": "markdown",
      "metadata": {
        "id": "Utp5PbQB5261"
      },
      "source": [
        "이는 325개의 와인을 표현하기 위해 총 13466 개의 단어가 사용되었음을 보여줌."
      ],
      "id": "Utp5PbQB5261"
    },
    {
      "cell_type": "markdown",
      "metadata": {
        "id": "4iLobcjC581Z"
      },
      "source": [
        "- **코사인 유사도 구하기**"
      ],
      "id": "4iLobcjC581Z"
    },
    {
      "cell_type": "code",
      "metadata": {
        "id": "uE4GTW5O2gvV"
      },
      "source": [
        "cosine_sim = linear_kernel(tfidf_matrix, tfidf_matrix)"
      ],
      "id": "uE4GTW5O2gvV",
      "execution_count": null,
      "outputs": []
    },
    {
      "cell_type": "markdown",
      "metadata": {
        "id": "6-ywJPYj6BUZ"
      },
      "source": [
        "- **와인의 이름과 인덱스를 가진 테이블 만들기**\n",
        "\n",
        "\n",
        "*  이는 와인 이름을 입력하면 인덱스를 리턴하기 위함 !"
      ],
      "id": "6-ywJPYj6BUZ"
    },
    {
      "cell_type": "code",
      "metadata": {
        "colab": {
          "base_uri": "https://localhost:8080/"
        },
        "id": "e8aEZMRg2hJZ",
        "outputId": "63ba135d-1835-4914-a0cc-52f399d424e4"
      },
      "source": [
        "indices = pd.Series(wine.index, index=wine['name_ko'])\n",
        "print(indices.head())"
      ],
      "id": "e8aEZMRg2hJZ",
      "execution_count": null,
      "outputs": [
        {
          "output_type": "stream",
          "text": [
            "name_ko\n",
            "더 롱 리틀 독 스파클링             0\n",
            "루베롱 블랑                    1\n",
            "마리 스튜아트, 뀌베 드 라 헨느 브뤼     2\n",
            "마스카 델 타코, 로시 피노 네로 로사토    3\n",
            "비에티, 바르베라 다스티 '트레 비그네'    4\n",
            "dtype: int64\n"
          ],
          "name": "stdout"
        }
      ]
    },
    {
      "cell_type": "code",
      "metadata": {
        "colab": {
          "base_uri": "https://localhost:8080/"
        },
        "id": "bA-6ksyF8LKG",
        "outputId": "ff14a7de-826a-40d6-a554-890d06611a92"
      },
      "source": [
        "indices.describe()"
      ],
      "id": "bA-6ksyF8LKG",
      "execution_count": null,
      "outputs": [
        {
          "output_type": "execute_result",
          "data": {
            "text/plain": [
              "count    305.000000\n",
              "mean     156.400000\n",
              "std       92.432892\n",
              "min        0.000000\n",
              "25%       76.000000\n",
              "50%      156.000000\n",
              "75%      235.000000\n",
              "max      324.000000\n",
              "dtype: float64"
            ]
          },
          "metadata": {},
          "execution_count": 14
        }
      ]
    },
    {
      "cell_type": "markdown",
      "metadata": {
        "id": "HGyfokV76RpP"
      },
      "source": [
        "- **get_recommendations 함수 만들기**\n",
        "* 원하는 특성을 가진 표본을 입력하면 가장 묘사가 유사항 와인 10개를 찾아주는 함수"
      ],
      "id": "HGyfokV76RpP"
    },
    {
      "cell_type": "code",
      "metadata": {
        "id": "nNgUm4Sa2r-7"
      },
      "source": [
        "def get_recommendations (name_ko, cosine_sim=cosine_sim) :\n",
        "  # 선택한 와인의 이름으로부터 해당되는 인덱스를 받아옴\n",
        "  idx = indices[name_ko]\n",
        "  \n",
        "  # 모든 와인에 대해 해당 표본과의 유사도를 구함\n",
        "  sim_scores = list(enumerate(cosine_sim[idx]))\n",
        "\n",
        "  # 유사도에 따라 와인들 정렬\n",
        "  sim_scores = sorted(sim_scores, key=lambda x: x[1], reverse=True)\n",
        "\n",
        "  # 가장 유사한 10개의 와인 받아옴\n",
        "  sim_scores = sim_scores[1:11]\n",
        "\n",
        "  # 가장 유사한 10개의 와인의 인덱스를 받아옴\n",
        "  wine_indices = [i[0] for i in sim_scores]\n",
        "\n",
        "  # 결과 값 리턴\n",
        "  return wine['name_ko'].iloc[wine_indices]"
      ],
      "id": "nNgUm4Sa2r-7",
      "execution_count": null,
      "outputs": []
    },
    {
      "cell_type": "code",
      "metadata": {
        "colab": {
          "base_uri": "https://localhost:8080/"
        },
        "id": "yTvp88xO4Cjn",
        "outputId": "4b5f30e9-a070-4ea5-8b45-fa7161f177b2"
      },
      "source": [
        "get_recommendations('루베롱 블랑')"
      ],
      "id": "yTvp88xO4Cjn",
      "execution_count": null,
      "outputs": [
        {
          "output_type": "execute_result",
          "data": {
            "text/plain": [
              "165    폴 자불레 애네, 꼬뜨 뒤 론 시크렛 드 파미\n",
              "128                     마레농, 페투라\n",
              "34             피에르 가이야르, 생 조셉 루즈\n",
              "7                 이기갈, 꼬뜨 뒤 론 블랑\n",
              "147               아그리콜라 푸니카, 사마스\n",
              "142             스칼리올라, 피에몬테 샤르도네\n",
              "68               루이 로드레, 브륏 프리미에\n",
              "63            울프 블라스, 골드 라벨 샤도네이\n",
              "214          발 델레 로제, 리토라레 베르멘티노\n",
              "15             코노 수르, 20 배럴 샤도네이\n",
              "Name: name_ko, dtype: object"
            ]
          },
          "metadata": {},
          "execution_count": 24
        }
      ]
    },
    {
      "cell_type": "code",
      "metadata": {
        "colab": {
          "base_uri": "https://localhost:8080/"
        },
        "id": "jeasfo0bDMpu",
        "outputId": "339e6638-f6ce-44f5-c46b-fc0802356554"
      },
      "source": [
        "wine[wine[\"name_ko\"] == '루베롱 블랑'].blogreview"
      ],
      "id": "jeasfo0bDMpu",
      "execution_count": null,
      "outputs": [
        {
          "output_type": "execute_result",
          "data": {
            "text/plain": [
              "1    향 꽃 맛 입 레몬 섬세한 인상 부드럽고 아카시아 헤이즐넛 피니시 노란색 어우러진다...\n",
              "Name: blogreview, dtype: object"
            ]
          },
          "metadata": {},
          "execution_count": 34
        }
      ]
    },
    {
      "cell_type": "code",
      "metadata": {
        "colab": {
          "base_uri": "https://localhost:8080/"
        },
        "id": "tOYzDMpjDogm",
        "outputId": "a96cb673-48b5-4d39-8e98-49b2f86f8795"
      },
      "source": [
        "wine[wine[\"name_ko\"] == '마레농, 페투라'].blogreview"
      ],
      "id": "tOYzDMpjDogm",
      "execution_count": null,
      "outputs": [
        {
          "output_type": "execute_result",
          "data": {
            "text/plain": [
              "128    향 아로마 부드러운 느낄 딸기 매력 입안 있으며 레드 베리 장미 로제 류 향신료 스...\n",
              "Name: blogreview, dtype: object"
            ]
          },
          "metadata": {},
          "execution_count": 36
        }
      ]
    },
    {
      "cell_type": "code",
      "metadata": {
        "colab": {
          "base_uri": "https://localhost:8080/"
        },
        "id": "9ynm2_4SEM7W",
        "outputId": "a1bd2649-9b79-430e-8e5e-2e48807838aa"
      },
      "source": [
        "get_recommendations(\"더 롱 리틀 독 스파클링\")"
      ],
      "id": "9ynm2_4SEM7W",
      "execution_count": null,
      "outputs": [
        {
          "output_type": "execute_result",
          "data": {
            "text/plain": [
              "60           카멜 로드 몬테레이 피노 누아\n",
              "26           루이스 엠 마티니, 나파 밸리\n",
              "215        비디갈 와이너리, 포르타 6 틴토\n",
              "251                 크리스마스 아스티\n",
              "53         코노 수르, 20 배럴 피노 누아\n",
              "18            투핸즈, 엔젤스 쉐어 쉬라즈\n",
              "198        제라르 베르트랑, 꼬뜨 로즈 로제\n",
              "221     보시오, 트로피칼 모스카토 패션 후르츠\n",
              "5          샹파뉴 끌로드 바롱 사파이어 브뤼\n",
              "223    얄리, 프리미엄 릴리즈 언오크드 샤르도네\n",
              "Name: name_ko, dtype: object"
            ]
          },
          "metadata": {},
          "execution_count": 33
        }
      ]
    },
    {
      "cell_type": "code",
      "metadata": {
        "colab": {
          "base_uri": "https://localhost:8080/",
          "height": 84
        },
        "id": "t5spwGdsEu8w",
        "outputId": "d39ef14c-256b-4c93-863c-474f1ed6e769"
      },
      "source": [
        "display(wine[wine['name_ko']=='더 롱 리틀 독 스파클링'].blogreview)\n",
        "display(wine[wine['name_ko']=='카멜 로드 몬테레이 피노 누아'].blogreview)"
      ],
      "id": "t5spwGdsEu8w",
      "execution_count": null,
      "outputs": [
        {
          "output_type": "display_data",
          "data": {
            "text/plain": [
              "0    과일 꽃 아로마 스파클링 좋은 복숭아 입 느껴진다 레몬 산미 살구 기분 컬러 흰 상...\n",
              "Name: blogreview, dtype: object"
            ]
          },
          "metadata": {}
        },
        {
          "output_type": "display_data",
          "data": {
            "text/plain": [
              "60    향 과일 체리 꽃 좋은 붉은 산도 느낄 루비 있으며 레드 특징 긴 기분 향기 밝은 ...\n",
              "Name: blogreview, dtype: object"
            ]
          },
          "metadata": {}
        }
      ]
    }
  ]
}